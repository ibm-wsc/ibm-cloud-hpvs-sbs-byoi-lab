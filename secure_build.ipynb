{
 "cells": [
  {
   "cell_type": "markdown",
   "id": "isolated-defense",
   "metadata": {},
   "source": [
    "# IBM Cloud Hyper Protect Virtual Servers Secure Build lab (with Docker Hub)"
   ]
  },
  {
   "cell_type": "markdown",
   "id": "large-leisure",
   "metadata": {},
   "source": [
    "This lab will introduce you to securely building applications on the IBM Cloud Hyper Protect Virtual Servers for VPC service.\n",
    "\n",
    "The _Secure Build_ feature lets you build, and digitally sign, a Docker image within an HPVS instance running an IBM-provided _secure build server_ that offers the confidentiality, integrity and auditability protections inherent in IBM Cloud Hyper Protect Virtual Servers for VPC.  \n",
    "\n",
    "In this lab you will:\n",
    "\n",
    "1. Deploy the secure build server in your own HPVS instance.\n",
    "2. You will use this secure build server to securely create and digitally sign a Docker image that contains a sample application. For this lab you will use a sample _secure bitcoin wallet application_ provided by IBM for demonstration purposes.\n",
    "3. You will deploy this Docker image that you've built in a second HPVS instance and then run the sample secure bitcoin wallet application contained within the image.\n",
    "\n",
    "You will be using an open-source application called _Jupyter Notebook_ to run this lab. Jupyter Notebook allows you to enter commands and see the results of these commands. You are likely reading this within Jupyter Notebook right now.  You will also open a terminal within Jupyter and enter some commands from the terminal. The large majority of the commands will be run from within the Jupyter notebook while a small number of commands will be run from the terminal. Those commands that prompt for user input are run from the terminal, while the vast majority, which don't prompt for user input, are run from within Jupyter Notebook."
   ]
  },
  {
   "cell_type": "markdown",
   "id": "d08e150c",
   "metadata": {},
   "source": [
    "## Secure Build overview\n",
    "\n",
    "The diagram below provides an overview of the major components involved in the secure build process that you will be working with in this lab. An explanation of each numbered annotation is provided below the diagram.\n",
    "\n",
    "![Secure Build architecture](images/sbsarch.png)\n",
    "\n",
    "1. The IBM Cloud command line interface (CLI) will be used throughout this lab.  It has already been installed for you in the lab environment.\n",
    "\n",
    "2. You will be using your IBM Cloud account during the lab.\n",
    "\n",
    "3. The _secure build_ CLI is a separate CLI used exclusively for the Secure Build process.  You will download this CLI in _Step 5.1_ of this lab and will use it throughout the remainder of the lab.\n",
    "\n",
    "4. You will be building a container image from an application whose source code is in a GitHub repository. The GitHub repository is specified for you in the configuration file you will build in _Step 5.5_ of this lab.  It is the value of the _GITHUB\\_URL_ key given for you in _Step 5.5_. \n",
    "\n",
    "5. The container image that you build will be pushed to the _Docker Hub_.\n",
    "\n",
    "6. The secure build server runs inside a Hyper Protect Virtual Servers instance in IBM Cloud that you will create in _Step 5.11_ of the lab.\n",
    "\n",
    "7. Your secure build server contains a snapshot of its state.  You can download this _secure build state_ from the server and use it to rebuild the secure build server if necessary.  Although we won't be using this downloaded state in the lab, you will perform the command to download it in _Step 6.10_ of the lab.\n",
    "\n",
    "**Note:** It is also possible to save the _secure build state_ to _IBM Cloud Object Storage_, but we will not be doing that in this lab.\n",
    "\n",
    "Okay, let's get started!!"
   ]
  },
  {
   "cell_type": "markdown",
   "id": "endless-fellowship",
   "metadata": {},
   "source": [
    "## Initial login to IBM Cloud via the _ibmcloud_ command line interface (CLI)\n",
    "\n",
    "### Step 1.1 Open a terminal with the Jupyter Launcher\n",
    "\n",
    "In the browser tab in which you are accessing the Jupyter Notebook to take this lab, you should see a workspace with two tabs:\n",
    "\n",
    "    1. The tab you are using right now to read this lab.\n",
    "    2. The Jupyter launcher tab.\n",
    "\n",
    "Go to the Jupyter Launcher tab.  Click the *Terminal* tile at the bottom left and the Launcher tab will be replaced with a terminal window that you will use to enter a small number of commands from this lab that require interactive user input.\n",
    "\n",
    "![Choose Terminal](images/opennewterminaliniksd.png)\n",
    "\n",
    "When you have done that, come back here to continue with the instructions.\n",
    "\n",
    "---\n",
    "\n",
    "### Step 1.2 Use the terminal tab to log in to IBM Cloud\n",
    "\n",
    "Navigate to your terminal tab, and from there, enter the command `ibmcloud login -r YOUR-REGION --sso`, substituting one of the following regions for YOUR-REGION:  `us-east`, `ca-tor`, `br-sau`, `eu-gb`, or `jp-tok` which are for United States (East), Toronto, Canda, Sao Paulo, Brazil, London, England, and Tokyo,Japan respectively.  \n",
    "\n",
    "For your convenience the proper command for each region is listed. From the four commands listed below, copy the one applicable for your region, and paste it into the terminal tab and run the command:\n",
    "\n",
    "`ibmcloud login -r us-east --sso`\n",
    "\n",
    "`ibmcloud login -r ca-tor --sso`\n",
    "\n",
    "`ibmcloud login -r br-sao --sso`\n",
    "\n",
    "`ibmcloud login -r eu-gb --sso`\n",
    "\n",
    "`ibmcloud login -r jp-tok --sso`\n",
    "\n",
    "---\n",
    "\n",
    "### Step 1.3 Follow the prompts to complete the login\n",
    "\n",
    "Follow the instructions to log in to your IBM Cloud account.  The login process from the terminal should be like this:\n",
    "\n",
    "You will first be given a *Y/n* prompt to open the URL to get a one-time passcode, reply *n*. The reason to reply *n* is because in your lab environment your server does not have graphics capabilities and cannot open the URL.\n",
    "\n",
    "In order to overcome this, you must copy the URL given in the command output and paste it into another browser tab or window. The goal is to obtain a temporary one-time code for you.\n",
    "In order to get this code to use to log in with the CLI, you may need to log in to the IBM Cloud Web UI with your browser. If so, follow any necessary login prompts. You should eventually be given a page with a one-time code.  Click on that code to put it in your clipboard, and paste it at the input prompt back in your terminal tab.\n",
    "\n",
    "When successful, your terminal window will look like this, but with your account information of course: \n",
    "\n",
    "```\n",
    "\n",
    "API endpoint:      https://cloud.ibm.com\n",
    "Region:            us-east\n",
    "User:              silliman@us.ibm.com\n",
    "Account:           Barry Silliman's Account (1e963a246cc69a44df65e277e14239d5) <-> 1996902\n",
    "Resource group:    No resource group targeted, use 'ibmcloud target -g RESOURCE_GROUP'\n",
    "CF API endpoint:\n",
    "Org:\n",
    "Space:\n",
    "```\n",
    "\n",
    "When that is complete, come back to this tab and continue in this notebook. Leave the terminal tab open, you will need it later.\n",
    "\n",
    "---"
   ]
  },
  {
   "cell_type": "markdown",
   "id": "00ad14ba-3ad4-4337-b298-6fd85b5edbbd",
   "metadata": {},
   "source": [
    "---\n",
    "\n",
    "### Step 1.4 Save your region into a variable\n",
    "\n",
    "Save the region you used above such as us-east into an environment variable for later use by double-clicking on the code cell below and filling in your region and then running it. For example, before running if you are using the us-east region your code cell would look like `%set_env region=us-east`"
   ]
  },
  {
   "cell_type": "code",
   "execution_count": 49,
   "id": "332f983b-91c6-4db5-91dc-7a2cb1f2e865",
   "metadata": {},
   "outputs": [
    {
     "name": "stdout",
     "output_type": "stream",
     "text": [
      "env: region=us-east\n"
     ]
    }
   ],
   "source": [
    "%set_env region="
   ]
  },
  {
   "cell_type": "markdown",
   "id": "gothic-bacteria",
   "metadata": {},
   "source": [
    "### Step 1.5 Target the default resource group\n",
    "\n",
    "---\n",
    "\n",
    "#### Jupyter Notebook tip\n",
    "\n",
    "The text you are reading now is in a type of Jupyter notebook cell called _markdown_.  It is intended for instructions, and includes text and possibly images.\n",
    "\n",
    "Commands that you will enter (with the exception of the small number of commands, such as the `ibmcloud login -r YOUR-REGION --sso` above, that are run in the terminal tab) will be in a second type of Jupyter notebook cell called _code_.  At the top of this page you can see a dropdown box that will show you whether or not you are in a markdown cell or a code cell. The below screen snippet shows where this dropdown box is located:\n",
    "\n",
    "![Choose Terminal](images/celltypeindication.png)\n",
    "\n",
    "---\n",
    "\n",
    "You can see from the output from _Step 1.3_ that no _resource group_ is targeted when you log in. The command in the code cell below will target the _default_ resource group. Resource groups are logical buckets that you can define in order to categorize your IBM Cloud resources as you wish.  We will simply use the _default_ resource group which exists already.\n",
    "\n",
    "Click on the code cell below that contains the command `ibmcloud target -g default`. You should see _code_ in the dropdown box at the top. \n",
    "\n",
    "Now that you have the code cell below highlighted, click the _Run_ button from the menu above—it is the triangle icon—and that command will be run, and its output will be shown.\n",
    "\n",
    "This will target your _default_ resource group. See the debugging tip below the code cell if this command does not work for you."
   ]
  },
  {
   "cell_type": "code",
   "execution_count": 51,
   "id": "eastern-population",
   "metadata": {},
   "outputs": [
    {
     "name": "stdout",
     "output_type": "stream",
     "text": [
      "Targeted resource group \u001b[36;1mdefault\u001b[0m\n",
      "\n",
      "\n",
      "\u001b[1m\u001b[0m                   \u001b[1m\u001b[0m   \n",
      "\u001b[36;1mAPI endpoint:\u001b[0m      \u001b[36;1mhttps://cloud.ibm.com\u001b[0m   \n",
      "\u001b[36;1mRegion:\u001b[0m            \u001b[36;1mus-east\u001b[0m   \n",
      "\u001b[36;1mUser:\u001b[0m              \u001b[36;1mGarrett.Lee.Woodworth@ibm.com\u001b[0m   \n",
      "\u001b[36;1mAccount:\u001b[0m           \u001b[36;1mIBM (5ddc6205e6ebbdc9348ec241cf1f51a8) <-> 1997002\u001b[0m   \n",
      "\u001b[36;1mResource group:\u001b[0m    \u001b[36;1mdefault\u001b[0m   \n",
      "\u001b[36;1mCF API endpoint:\u001b[0m      \n",
      "\u001b[36;1mOrg:\u001b[0m               \u001b[36;1m\u001b[0m   \n",
      "\u001b[36;1mSpace:\u001b[0m             \u001b[36;1m\u001b[0m   \n"
     ]
    }
   ],
   "source": [
    "! ibmcloud target -g default"
   ]
  },
  {
   "cell_type": "markdown",
   "id": "continuous-fossil",
   "metadata": {},
   "source": [
    "#### Debugging tip\n",
    "\n",
    "Some IBM Cloud users may not have a _default_ group but instead have a _Default_ group, with an uppercase _D_.  If the above command fails, try using *Default* instead of *default*.  You can do that by just clicking in the code cell above and changing the _d_ to _D_ in default.  Then run the code cell again. If that still doesn't work, ask an instructor for help.\n",
    "\n",
    "---"
   ]
  },
  {
   "cell_type": "markdown",
   "id": "fleet-domain",
   "metadata": {},
   "source": [
    "### A note about running Jupyter Notebook code cells\n",
    "\n",
    "Observe that to the left of the code cells are square brackets with empty contents. When you run a code cell, an asterisk (*\\**) appears between the square brackets.  (If the command runs fast enough you may not even notice the appearance of the asterisk). When the command finishes, a number appears between the square brackets.  During this lab, some of the commands may take several seconds to run, but no command in this lab should take too long. Each time that you run a code cell, ensure that you wait for that code cell to complete execution before continuing with the lab. If the asterisk remains in between the square brackets for more than thirty seconds, ask an instructor for help—none of the commands in this lab should take that long.\n",
    "\n",
    "The number shown between the square brackets upon command completion is incremented by one each time you run a code cell.  The numbers are helpful in ensuring that you have run each code cell in the correct order.\n",
    "\n",
    "---"
   ]
  },
  {
   "cell_type": "markdown",
   "id": "similar-green",
   "metadata": {},
   "source": [
    "## Create an ssh key for the lab and add it to your GitHub account\n",
    "\n",
    "### Step 2.1 Create an ssh key pair in your lab system\n",
    "\n",
    "As part of this lab, you will need to create a key pair that you will then define in your personal GitHub account settings so that this key pair can be used to clone GitHub repositories.\n",
    "\n",
    "**Note:** If you are an experienced GitHub user and already have ssh keys defined to your GitHub account, you should still create a new key for this lab and remove it from your account when the lab is over, for security reasons. **What is the security concern?** The lab instructors have access to your lab system in order to be able to help with debugging.  If the lab instructors were malicious, they could copy your ssh key, including the private key portion of the key pair.  They are not malicious—they are well-intentioned and kind. But to be completely secure, you should create a new key per the instructions in this step, and then remove it from your GitHub account when you have completed the lab. (The cleanup section of this lab helps you with the key removal from your GitHub account).\n",
    "\n",
    "Run the code cell below to create a key pair in your lab workspace."
   ]
  },
  {
   "cell_type": "code",
   "execution_count": 2,
   "id": "neural-indication",
   "metadata": {},
   "outputs": [
    {
     "name": "stdout",
     "output_type": "stream",
     "text": [
      "Generating public/private rsa key pair.\n",
      "/home/jovyan/.ssh/id_rsa already exists.\n",
      "Overwrite (y/n)? ^C\n"
     ]
    }
   ],
   "source": [
    "! ssh-keygen -t rsa -b 4096 -f '/home/jovyan/.ssh/id_rsa' -N ''"
   ]
  },
  {
   "cell_type": "markdown",
   "id": "immune-hygiene",
   "metadata": {},
   "source": [
    "---\n",
    "\n",
    "### Step 2.2 Copy your public key to the clipboard and add it to your GitHub account\n",
    "\n",
    "The above command created a key pair (a private part that you keep secret and a public part that can be shared safely with the world).  You need to add the public part to your GitHub account settings, so that this key pair can be used to do a clone of the GitHub repository of the sample secure bitcoin wallet application from within the Secure Build Server container.\n",
    "\n",
    "Run the code cell below to list the public key, and copy this public key into your clipboard:"
   ]
  },
  {
   "cell_type": "code",
   "execution_count": 3,
   "id": "incorporated-office",
   "metadata": {},
   "outputs": [
    {
     "name": "stdout",
     "output_type": "stream",
     "text": [
      "ssh-rsa AAAAB3NzaC1yc2EAAAADAQABAAACAQDCRPJuGQNvImQXoEPCt+IWewu9tg6XsqX4qnWD4Gk6TqBAZDbCsu+hAySgTQV9oqMERgDt+aSilCUHC5HyYh2YbnZZkeTBp27Q6hDuxsdIdM3KNfMbLsKxQz8B/zhfhzWgvVOBE8LXv7hjCoPwJq6O8hdhDw57A/JYIU86RxrRbvdlKzarj1Cs2fUAqcgvxju9W/Ra5kqtmIe7YITvZDPVBp0Wr3R7AHHp1JZ6/CD4+9Nps8C+6otWj++KqE+irOy7T5xM1gXQGhzjwlmbw75DEqCURvhceognUYcSxe9Ih2giYMjViiKNXHFVUmnB1EXIqDr3YSZHyAhqIgb7Qi1myFgIVi8RjeVMx98vtXhB79/mNqdloYwaC1L6oN15ByzXEaSad2ph43cTEi/HU8xcFi+M96jjmjPUehDsH8p57RafJA3ism1CBHhu+440M7zU9qPXxrWJzBI6BRyjlqWjhKXjTuMbOY4nQSDD0Ja5GkE+4OzLe0z/exB44V+czxxLjw1e9/Xvcb3+muSt/VmfxeezXfhiRPV88m2SmMdPJh4LIgrQCHBExWqqErTON3ZYAlYTjZNSn4HieXuLpPHGL2RoC1jIaGNCxg929MqZICaXEbDkxLldmAjpA+ETYOfYnTp1h+3xwhemb/6YtjrfXEjo9hn3r3qR25tpwK3ytw== jovyan@jupyter-garrett-2dvpc\n"
     ]
    }
   ],
   "source": [
    "! cat ~/.ssh/id_rsa.pub"
   ]
  },
  {
   "cell_type": "markdown",
   "id": "laughing-duration",
   "metadata": {},
   "source": [
    "Copy all of the output from the above `cat` command into the clipboard, and go to [this link](https://github.com/settings/ssh/new) to add this key to your GitHub account. When you get to that page (you may have to log in to GitHub first), put anything you want in the _Title_ field and paste the above output (which is your public key) into the _Key_ field and then click *Add SSH key*.  \n",
    "\n",
    "**Note:** if you use a password manager and need to use copy and paste to log in to your GitHub account, go ahead and log in and then copy and paste the above output."
   ]
  },
  {
   "cell_type": "markdown",
   "id": "consistent-statement",
   "metadata": {},
   "source": [
    "---\n",
    "\n",
    "### Step 2.3 Add the GitHub public keys to your _known\\_hosts_ file\n",
    "\n",
    "Run the following code cell which gathers the public SSH keys of github.com and puts them in your lab workspace's _known\\_hosts_ file. This is done only to eliminate a prompt about trusting the github.com host in the code cell after this one."
   ]
  },
  {
   "cell_type": "code",
   "execution_count": 6,
   "id": "wired-softball",
   "metadata": {},
   "outputs": [
    {
     "name": "stdout",
     "output_type": "stream",
     "text": [
      "# github.com:22 SSH-2.0-babeld-4a94ee6b\n",
      "# github.com:22 SSH-2.0-babeld-7e018303\n",
      "# github.com:22 SSH-2.0-babeld-7e018303\n",
      "# github.com:22 SSH-2.0-babeld-7e018303\n",
      "# github.com:22 SSH-2.0-babeld-dc5ec9be\n"
     ]
    }
   ],
   "source": [
    "! ssh-keyscan -H github.com >> \"${HOME}/.ssh/known_hosts\""
   ]
  },
  {
   "cell_type": "markdown",
   "id": "unsigned-decrease",
   "metadata": {},
   "source": [
    "---\n",
    "\n",
    "### Step 2.4 Verify you have added the key to your GitHub account correctly\n",
    "\n",
    "Run the code cell below to verify that you have correctly added your SSH key pair to your GitHub account.  You should receive a message that says _Hi \\<your GitHub username\\>! You've successfully authenticated, but GitHub does not provide shell access._  If you received this message, continue in the lab.  If not, ask an instructor for help.  "
   ]
  },
  {
   "cell_type": "code",
   "execution_count": 9,
   "id": "spread-truck",
   "metadata": {},
   "outputs": [
    {
     "name": "stdout",
     "output_type": "stream",
     "text": [
      "Warning: Permanently added the ECDSA host key for IP address '140.82.113.4' to the list of known hosts.\n",
      "Hi siler23! You've successfully authenticated, but GitHub does not provide shell access.\n"
     ]
    }
   ],
   "source": [
    "! ssh -T git@github.com"
   ]
  },
  {
   "cell_type": "markdown",
   "id": "2381e6f2-de7d-4ae0-9e3f-3288c5ba76d3",
   "metadata": {
    "tags": []
   },
   "source": [
    "---\n",
    "\n",
    "## Create an IBM Cloud IAM API Key for this lab\n",
    "\n",
    "### Step 3.1 Create an IAM API Key\n",
    "\n",
    "**Note:** _IAM_ stands for _Identity and Access Management_. _API_ stands for _Application Programming Interface_.\n",
    "\n",
    "Run the command in the _code_ cell below in order to create an API key for your IBM Cloud account. This will be used in the lab and gives you permission to store your custom-built Docker image into the IBM Cloud Container Registry.\n",
    "\n",
    "*Note:* If you are an experienced IBM Cloud user and already have some API keys, create a new one anyway, for usage just for this lab, and delete it when the lab is over. (The cleanup section of the lab will help you to delete it). Do not use it for other purposes. This advice is given in order to mitigate the same lab-specific security concern described in the previous section on creating the SSH key.\n",
    "\n",
    "If, by chance, you already have an API key named _myapikey_, choose a different name for this lab.  You can do that by double-clicking on _myapikey_ in the code cell below to highlight it and then change its name before you run the code cell."
   ]
  },
  {
   "cell_type": "code",
   "execution_count": 10,
   "id": "0fd0b463-ae1c-4069-8b80-2a8db837bcef",
   "metadata": {},
   "outputs": [
    {
     "name": "stdout",
     "output_type": "stream",
     "text": [
      "Creating API key \u001b[36;1mmyapikey\u001b[0m under \u001b[36;1m5ddc6205e6ebbdc9348ec241cf1f51a8\u001b[0m as \u001b[36;1mGarrett.Lee.Woodworth@ibm.com\u001b[0m...\n",
      "\u001b[32;1mOK\u001b[0m\n",
      "API key \u001b[36;1mmyapikey\u001b[0m was created\n",
      "\n",
      "\u001b[35;1mPlease preserve the API key! It cannot be retrieved after it's created.\u001b[0m\n",
      "\u001b[1m\u001b[0m              \u001b[1m\u001b[0m   \n",
      "\u001b[36;1mID\u001b[0m            ApiKey-1c7317a4-253f-4e9a-9024-acfcfe618c9d   \n",
      "\u001b[36;1mName\u001b[0m          myapikey   \n",
      "\u001b[36;1mDescription\u001b[0m   API key for SBS tutorial   \n",
      "\u001b[36;1mCreated At\u001b[0m    2023-08-29T22:52+0000   \n",
      "\u001b[36;1mAPI Key\u001b[0m       6WAHVP0GNX-11HFKriO9wMRMbX4yD7SOCRRCw9D5EM1d   \n",
      "\u001b[36;1mLocked\u001b[0m        false   \n"
     ]
    }
   ],
   "source": [
    "! ibmcloud iam api-key-create myapikey -d \"API key for SBS tutorial\""
   ]
  },
  {
   "cell_type": "markdown",
   "id": "09998903-5324-461b-af94-8373b842dd42",
   "metadata": {
    "tags": []
   },
   "source": [
    "---\n",
    "\n",
    "### Step 3.2 Set environment variable for your iam token\n",
    "\n",
    "For your token, paste your iam token in the code cell below after the = sign of iam_token= and run the code cell"
   ]
  },
  {
   "cell_type": "code",
   "execution_count": 12,
   "id": "5ce762f3-4149-4322-b622-224b44bae7bf",
   "metadata": {
    "tags": []
   },
   "outputs": [
    {
     "name": "stdout",
     "output_type": "stream",
     "text": [
      "env: iam_token=6WAHVP0GNX-11HFKriO9wMRMbX4yD7SOCRRCw9D5EM1d\n"
     ]
    }
   ],
   "source": [
    "%set_env iam_token="
   ]
  },
  {
   "cell_type": "markdown",
   "id": "d6b99dd4-0056-405e-ad69-575660b90a2d",
   "metadata": {
    "jp-MarkdownHeadingCollapsed": true,
    "tags": []
   },
   "source": [
    "---\n",
    "\n",
    "### Step 3.3 Save the value of the API key\n",
    "\n",
    "The output of the above code cell will contain an _API Key_ field.  Copy the value of this field and save it someplace safe for the duration of this lab.  (The output containing this should remain within the Jupyter Notebook unless you clear the output, but save it elsewhere as well just in case the output is accidentally cleared). There is no way to retrieve this value later from the _ibmcloud_ CLI.  The _API Key_ field should be treated as a password, as that is essentially what it is."
   ]
  },
  {
   "cell_type": "markdown",
   "id": "3fbd9e0a-96b3-45c5-b55b-d027d03ba421",
   "metadata": {
    "tags": []
   },
   "source": [
    "---\n",
    "\n",
    "## Lab setup concerning the IBM Cloud Container Registry\n",
    "\n",
    "### Step 4.1 Set your IBM Cloud Container Registry region\n",
    "\n",
    "For this lab, we will use the global container registry region."
   ]
  },
  {
   "cell_type": "code",
   "execution_count": 13,
   "id": "d5dad47e-ce37-4ca1-8a7f-33011e6c1cb3",
   "metadata": {},
   "outputs": [
    {
     "name": "stdout",
     "output_type": "stream",
     "text": [
      "The region is set to '\u001b[36;1mglobal\u001b[0m', the registry is '\u001b[36;1micr.io\u001b[0m'.\n",
      "\n",
      "\u001b[32;1mOK\u001b[0m\n"
     ]
    }
   ],
   "source": [
    "! ibmcloud cr region-set global"
   ]
  },
  {
   "cell_type": "markdown",
   "id": "f5936a70-d232-4b0f-a6d9-827dba4568be",
   "metadata": {},
   "source": [
    "### Step 4.2 Set a container registry namespace name and add it\n",
    "\n",
    "The code cell below contains a command to add a namespace to the IBM Cloud Container Registry that will be owned by you. You can try to run the command as shown, but it will definitely fail—go ahead and try it, it won't hurt anything.  It will tell you that the _secureimages_ namespace already exists.  Change _secureimages_ to something unique by adding your initials and maybe a number or some other unique string to the namespace.  Keep trying the below code cell, changing what was originally _secureimages_ to a different name, until you get a message that indicates success.  For example, the author appended his initials, i.e., he used _bjs-secureimages_ and that worked for him.\n",
    "\n",
    "**Note:** If you have used IBM Cloud Container Registry previously, you may already have a namespace. Feel free to either use that or create a new one for this lab. There are no security concerns for using one of your existing namespaces. If you run the below code cell with a namespace you already own, the output message will indicate that you already own it. Again, that's fine if you want to use a namespace you already own.\n",
    "\n",
    "**Jupyter Notebook tip:** If you click the *Run* button above after you've highlighted the code cell below (or any cell for that matter) it will attempt to run the code and then move to the next cell.  If you need to retry because the name you chose was already taken, just click in the cell again and try again."
   ]
  },
  {
   "cell_type": "code",
   "execution_count": 17,
   "id": "1d636339-dc2e-46b5-84e5-ba2ae69aeb83",
   "metadata": {},
   "outputs": [
    {
     "name": "stdout",
     "output_type": "stream",
     "text": [
      "env: cr_namespace=secureimages-glw\n"
     ]
    }
   ],
   "source": [
    "%set_env cr_namespace=secureimages"
   ]
  },
  {
   "cell_type": "code",
   "execution_count": 18,
   "id": "1906bec1-498a-48c6-9918-202770dd236a",
   "metadata": {},
   "outputs": [
    {
     "name": "stdout",
     "output_type": "stream",
     "text": [
      "\u001b[35;1mNo resource group is targeted. Therefore, the default resource group for the account ('default') is targeted.\n",
      "\u001b[0m\n",
      "Adding namespace '\u001b[36;1msecureimages-glw\u001b[0m' in resource group '\u001b[36;1mdefault\u001b[0m' for account \u001b[36;1mIBM\u001b[0m in registry \u001b[36;1micr.io\u001b[0m...\n",
      "\n",
      "Successfully added namespace '\u001b[36;1msecureimages-glw\u001b[0m'\n",
      "\n",
      "\u001b[32;1mOK\u001b[0m\n"
     ]
    }
   ],
   "source": [
    "! ibmcloud cr namespace-add $cr_namespace"
   ]
  },
  {
   "cell_type": "markdown",
   "id": "trying-uruguay",
   "metadata": {},
   "source": [
    "---\n",
    "\n",
    "## Create your Secure Build Server HPVS for VPC instance\n",
    "\n",
    "### Step 5.1 Download the Secure Build command line interface (CLI):\n",
    "\n",
    "In order to set up your own Secure Build Server within an HPVS instance, you will use a command line interface (CLI) that is provided by IBM.  This CLI is implemented in Python and is publicly available (including source code) in a GitHub repository, which you will download now into your lab environment when you run the following code cell:"
   ]
  },
  {
   "cell_type": "code",
   "execution_count": 19,
   "id": "pending-butler",
   "metadata": {},
   "outputs": [
    {
     "name": "stdout",
     "output_type": "stream",
     "text": [
      "Cloning into 'secure-build-cli'...\n",
      "remote: Enumerating objects: 303, done.\u001b[K\n",
      "remote: Counting objects: 100% (154/154), done.\u001b[K\n",
      "remote: Compressing objects: 100% (84/84), done.\u001b[K\n",
      "remote: Total 303 (delta 76), reused 114 (delta 69), pack-reused 149\u001b[K\n",
      "Receiving objects: 100% (303/303), 313.67 KiB | 19.60 MiB/s, done.\n",
      "Resolving deltas: 100% (171/171), done.\n"
     ]
    }
   ],
   "source": [
    "! git clone git@github.com:ibm-hyper-protect/secure-build-cli.git"
   ]
  },
  {
   "cell_type": "markdown",
   "id": "ultimate-objective",
   "metadata": {},
   "source": [
    "---\n",
    "\n",
    "### Step 5.2 Change the working directory for the remainder of the lab\n",
    "\n",
    "Up to now, your notebook has been running from the _/home/jovyan/labdir_ directory. For the remainder of the lab, we want to work from the directory that was just created by the _git clone_ command from the prior code cell.  Our new desired working directory is a subdirectory of our current working directory.\n",
    "\n",
    "Run the next code cell in order to change directories to the _secure-build-cli_ directory that was created by the `git clone` command that you just ran."
   ]
  },
  {
   "cell_type": "code",
   "execution_count": 20,
   "id": "exceptional-allen",
   "metadata": {},
   "outputs": [
    {
     "name": "stdout",
     "output_type": "stream",
     "text": [
      "/home/jovyan/labdir/secure-build-cli\n"
     ]
    }
   ],
   "source": [
    "%cd secure-build-cli"
   ]
  },
  {
   "cell_type": "markdown",
   "id": "infrared-privacy",
   "metadata": {},
   "source": [
    "---\n",
    "\n",
    "### Step 5.3 Install Python packages required by the Secure Build CLI\n",
    "\n",
    "There are some python packages required by the Secure Build CLI, and running the following code cell will install these packages using *pip3*, the Python 3.x-based package installer:"
   ]
  },
  {
   "cell_type": "code",
   "execution_count": 21,
   "id": "decimal-seller",
   "metadata": {},
   "outputs": [
    {
     "name": "stdout",
     "output_type": "stream",
     "text": [
      "Requirement already satisfied: requests in /opt/conda/lib/python3.9/site-packages (from -r requirements.txt (line 1)) (2.26.0)\n",
      "Requirement already satisfied: pyOpenSSL in /opt/conda/lib/python3.9/site-packages (from -r requirements.txt (line 2)) (20.0.1)\n",
      "Collecting python-gnupg\n",
      "  Using cached python_gnupg-0.5.1-py2.py3-none-any.whl (20 kB)\n",
      "Requirement already satisfied: urllib3<1.27,>=1.21.1 in /opt/conda/lib/python3.9/site-packages (from requests->-r requirements.txt (line 1)) (1.26.6)\n",
      "Requirement already satisfied: idna<4,>=2.5 in /opt/conda/lib/python3.9/site-packages (from requests->-r requirements.txt (line 1)) (3.1)\n",
      "Requirement already satisfied: charset-normalizer~=2.0.0 in /opt/conda/lib/python3.9/site-packages (from requests->-r requirements.txt (line 1)) (2.0.0)\n",
      "Requirement already satisfied: certifi>=2017.4.17 in /opt/conda/lib/python3.9/site-packages (from requests->-r requirements.txt (line 1)) (2021.5.30)\n",
      "Requirement already satisfied: six>=1.5.2 in /opt/conda/lib/python3.9/site-packages (from pyOpenSSL->-r requirements.txt (line 2)) (1.16.0)\n",
      "Requirement already satisfied: cryptography>=3.2 in /opt/conda/lib/python3.9/site-packages (from pyOpenSSL->-r requirements.txt (line 2)) (3.4.7)\n",
      "Requirement already satisfied: cffi>=1.12 in /opt/conda/lib/python3.9/site-packages (from cryptography>=3.2->pyOpenSSL->-r requirements.txt (line 2)) (1.14.6)\n",
      "Requirement already satisfied: pycparser in /opt/conda/lib/python3.9/site-packages (from cffi>=1.12->cryptography>=3.2->pyOpenSSL->-r requirements.txt (line 2)) (2.20)\n",
      "Installing collected packages: python-gnupg\n",
      "Successfully installed python-gnupg-0.5.1\n"
     ]
    }
   ],
   "source": [
    "! pip3 install -r requirements.txt"
   ]
  },
  {
   "cell_type": "markdown",
   "id": "developmental-language",
   "metadata": {},
   "source": [
    "---\n",
    "\n",
    "### Step 5.4 Create the Secure Build Server workload section\n",
    "\n",
    "Part of the Hyper Protect Virtual Server for VPC process involves creating a contract to deploy the workload running under Secure Execution for Linux. The Secure Build Server has been created and distributed by IBM who provides the ready-made encrypted contract for your use.\n",
    "\n",
    "This file is posted publicly on the public documentation page for IBM Cloud Hyper Protect Virtual Servers for VPC, but the Secure Build CLI repository on GitHub does not contain it.  That's why you are creating it now.  This file is encrypted, and only the Hyper Protect Virtual Servers key located on the IBM Z can decrypt it.  IBM Cloud administrators cannot access your secure build server at all, and you can only access it through the Secure Build CLI, which limits your access to specific functions. Therefore, by design, the decrypted contents of this file cannot be obtained by any human.\n",
    "\n",
    "**Note:** The code cell below will not produce any output, because it copies the encrypted message into a file.  But you know the command ended if a sequence number is placed within the square brackets to the left of the code cell. "
   ]
  },
  {
   "cell_type": "code",
   "execution_count": 22,
   "id": "presidential-exclusion",
   "metadata": {},
   "outputs": [],
   "source": [
    "%%bash\n",
    "cat <<EOF > workload.yaml\n",
    "hyper-protect-basic.UxkAbpIPPLZB2LNybZ8PedWbaJkMzJz/taoVf/ybKySkgpJ55GeHkNgQPeoLEJUPG54wLyRJ4AIqn96qQDAmoiPqIy8e9ucV3MCUu0Ed5bphbJjWzDvCFOtHh7VutLVZbMdzDDMfCblkc2kJ8uVbXUdY1cktwqnM2FnNwJXX98xlNfljtc69JnVhAcUWpDCNYwALjcxyHcKWxeKRetDrMnCo66rMN7W85DnExUM17wjNh1WVw1w2UTURwApnKRtbDjJ2xkYDyovJqyJiWlBeeX1WWEOb014ft/XacbGjWuA7WZbStggxrR9U2dO06HnmvgrpwpGhlSHOT3j7BJaSz0me+ZBCvdmLDDZozbXynn1JRK6WIgR/aMdO7lCkteh6PfOES/vjhFCTQn8Yw+Padu9E3Ye8yQweqsXnpB1STL5TAuZk11y4Lhs4xvqrXHgCDuek1SSIe6wdV4UoEXjVZfBypxEvXjMfYkz8N2WmPyoRB3VW18YuPEk+RSe6tQyeur/jc0rNMQDeYdXUn1Aao0xXnQj7NO7b73qBJZfRyvgKFxib94CCyazjykmzRNKZPyci2SGkmNCKAnk0V+o7GqrO78IV1rvmwS2GTqKKSTh35ovDkXAijn/7+kWX+Ka7Jc888AnRapy45fy41LXQ4nxkVk+jELegPkWBwK4lCDY=.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\n",
    "EOF"
   ]
  },
  {
   "cell_type": "markdown",
   "id": "greek-external",
   "metadata": {},
   "source": [
    "---\n",
    "\n",
    "### Step 5.5 Create your secure build server custom configuration\n",
    "\n",
    "Anybody who uses the secure build feature of HPVS will use the same Secure Build Server image, but that image is deployed to that person's individual HPVS instance, and that individual instance is uniquely customized through a configuration file. This ensures that your Secure Build Server can only build the application you specify, and push it only to the registry that you specify in the configuration file which is created by the below code cell.\n",
    "\n",
    "**Note:** This code cell also does not produce any output within the Jupyter Notebook for the same reason as the previous code cell."
   ]
  },
  {
   "cell_type": "code",
   "execution_count": 92,
   "id": "variable-advancement",
   "metadata": {},
   "outputs": [],
   "source": [
    "%%bash\n",
    "cat <<EOF > sbs-config.json\n",
    "{\n",
    "    \"HOSTNAME\": \"sbs.example.com\",\n",
    "    \"CICD_PORT\": \"443\",\n",
    "    \"RUNTIME_TYPE\": \"vpc\",\n",
    "    \"IMAGE_TAG\": \"1.3.0.11\",\n",
    "    \"CONTAINER_NAME\": \"SBContainer\",\n",
    "    \"GITHUB_KEY_FILE\": \"~/.ssh/id_rsa\",\n",
    "    \"GITHUB_URL\": \"git@github.com:ibm-wsc/secure-bitcoin-wallet.git\",\n",
    "    \"GITHUB_BRANCH\": \"master\",\n",
    "    \"IMAGE_TAG_PREFIX\": \"s390x-v1\",\n",
    "    \"DOCKER_REPO\": \"$cr_namespace/secure-bitcoin-wallet\",\n",
    "    \"DOCKER_USER\": \"iamapikey\",\n",
    "    \"DOCKER_PASSWORD\": \"$iam_token\",\n",
    "    \"DOCKER_RO_USER\": \"iamapikey\",\n",
    "    \"DOCKER_RO_PASSWORD\": \"$iam_token\",\n",
    "    \"DOCKER_CONTENT_TRUST_BASE\": \"False\",\n",
    "    \"DOCKER_CONTENT_TRUST_BASE_SERVER\": \"\",\n",
    "    \"DOCKER_BASE_SERVER\": \"icr.io\",\n",
    "    \"DOCKER_PUSH_SERVER\": \"icr.io\",\n",
    "    \"DOCKER_CONTENT_TRUST_PUSH_SERVER\": \"https://icr.io\",  \n",
    "    \"ARG\": {\n",
    "    }\n",
    "  }\n",
    "EOF\n"
   ]
  },
  {
   "cell_type": "markdown",
   "id": "mighty-decimal",
   "metadata": {},
   "source": [
    "---\n",
    "\n",
    "### Step 5.6 Verify your custom configuration file\n",
    "\n",
    "You can run the code cell below to display the contents of the file you just created to ensure it looks good.  If you made a typo, you can probably fix it by going back to the above code cell and running it again. \n",
    "\n",
    "The code cell below pipes the output of the _cat_ command to a utility called _jq_ (for _JSON query_) which expects well-formed JSON (JavaScript Object Notation) data. If you made a mistake while updating the file that causes a JSON syntax error, the _jq_ utility will detect it and print an error message.  \n",
    "\n",
    "If you put in a wrong value that doesn't cause a JSON syntax error, _jq_ will not catch that, so inspect the output of the code cell carefully.  All variables that you are required to change started with _YOUR_, so it isn't a bad idea to look for the word YOUR in the output—you shouldn't find it!"
   ]
  },
  {
   "cell_type": "code",
   "execution_count": 104,
   "id": "amber-execution",
   "metadata": {},
   "outputs": [
    {
     "name": "stdout",
     "output_type": "stream",
     "text": [
      "\u001b[1;39m{\n",
      "  \u001b[0m\u001b[34;1m\"HOSTNAME\"\u001b[0m\u001b[1;39m: \u001b[0m\u001b[0;32m\"sbs.example.com\"\u001b[0m\u001b[1;39m,\n",
      "  \u001b[0m\u001b[34;1m\"CICD_PORT\"\u001b[0m\u001b[1;39m: \u001b[0m\u001b[0;32m\"443\"\u001b[0m\u001b[1;39m,\n",
      "  \u001b[0m\u001b[34;1m\"RUNTIME_TYPE\"\u001b[0m\u001b[1;39m: \u001b[0m\u001b[0;32m\"vpc\"\u001b[0m\u001b[1;39m,\n",
      "  \u001b[0m\u001b[34;1m\"IMAGE_TAG\"\u001b[0m\u001b[1;39m: \u001b[0m\u001b[0;32m\"1.3.0.11\"\u001b[0m\u001b[1;39m,\n",
      "  \u001b[0m\u001b[34;1m\"CONTAINER_NAME\"\u001b[0m\u001b[1;39m: \u001b[0m\u001b[0;32m\"SBContainer\"\u001b[0m\u001b[1;39m,\n",
      "  \u001b[0m\u001b[34;1m\"GITHUB_KEY_FILE\"\u001b[0m\u001b[1;39m: \u001b[0m\u001b[0;32m\"~/.ssh/id_rsa\"\u001b[0m\u001b[1;39m,\n",
      "  \u001b[0m\u001b[34;1m\"GITHUB_URL\"\u001b[0m\u001b[1;39m: \u001b[0m\u001b[0;32m\"git@github.com:ibm-wsc/secure-bitcoin-wallet.git\"\u001b[0m\u001b[1;39m,\n",
      "  \u001b[0m\u001b[34;1m\"GITHUB_BRANCH\"\u001b[0m\u001b[1;39m: \u001b[0m\u001b[0;32m\"master\"\u001b[0m\u001b[1;39m,\n",
      "  \u001b[0m\u001b[34;1m\"IMAGE_TAG_PREFIX\"\u001b[0m\u001b[1;39m: \u001b[0m\u001b[0;32m\"s390x-v1\"\u001b[0m\u001b[1;39m,\n",
      "  \u001b[0m\u001b[34;1m\"DOCKER_REPO\"\u001b[0m\u001b[1;39m: \u001b[0m\u001b[0;32m\"secureimages-glw/secure-bitcoin-wallet\"\u001b[0m\u001b[1;39m,\n",
      "  \u001b[0m\u001b[34;1m\"DOCKER_USER\"\u001b[0m\u001b[1;39m: \u001b[0m\u001b[0;32m\"iamapikey\"\u001b[0m\u001b[1;39m,\n",
      "  \u001b[0m\u001b[34;1m\"DOCKER_PASSWORD\"\u001b[0m\u001b[1;39m: \u001b[0m\u001b[0;32m\"6WAHVP0GNX-11HFKriO9wMRMbX4yD7SOCRRCw9D5EM1d\"\u001b[0m\u001b[1;39m,\n",
      "  \u001b[0m\u001b[34;1m\"DOCKER_RO_USER\"\u001b[0m\u001b[1;39m: \u001b[0m\u001b[0;32m\"iamapikey\"\u001b[0m\u001b[1;39m,\n",
      "  \u001b[0m\u001b[34;1m\"DOCKER_RO_PASSWORD\"\u001b[0m\u001b[1;39m: \u001b[0m\u001b[0;32m\"6WAHVP0GNX-11HFKriO9wMRMbX4yD7SOCRRCw9D5EM1d\"\u001b[0m\u001b[1;39m,\n",
      "  \u001b[0m\u001b[34;1m\"DOCKER_CONTENT_TRUST_BASE\"\u001b[0m\u001b[1;39m: \u001b[0m\u001b[0;32m\"False\"\u001b[0m\u001b[1;39m,\n",
      "  \u001b[0m\u001b[34;1m\"DOCKER_CONTENT_TRUST_BASE_SERVER\"\u001b[0m\u001b[1;39m: \u001b[0m\u001b[0;32m\"\"\u001b[0m\u001b[1;39m,\n",
      "  \u001b[0m\u001b[34;1m\"DOCKER_BASE_SERVER\"\u001b[0m\u001b[1;39m: \u001b[0m\u001b[0;32m\"icr.io\"\u001b[0m\u001b[1;39m,\n",
      "  \u001b[0m\u001b[34;1m\"DOCKER_PUSH_SERVER\"\u001b[0m\u001b[1;39m: \u001b[0m\u001b[0;32m\"icr.io\"\u001b[0m\u001b[1;39m,\n",
      "  \u001b[0m\u001b[34;1m\"DOCKER_CONTENT_TRUST_PUSH_SERVER\"\u001b[0m\u001b[1;39m: \u001b[0m\u001b[0;32m\"https://icr.io\"\u001b[0m\u001b[1;39m,\n",
      "  \u001b[0m\u001b[34;1m\"ARG\"\u001b[0m\u001b[1;39m: \u001b[0m\u001b[1;39m{}\u001b[0m\u001b[1;39m,\n",
      "  \u001b[0m\u001b[34;1m\"UUID\"\u001b[0m\u001b[1;39m: \u001b[0m\u001b[0;32m\"7f0085d9-0e4e-4bc3-a917-461061d82b23\"\u001b[0m\u001b[1;39m,\n",
      "  \u001b[0m\u001b[34;1m\"SECRET\"\u001b[0m\u001b[1;39m: \u001b[0m\u001b[0;32m\"TT2NwVj87fqwUJsCY5wC5F/PV2VNbEv3zpeL044H0VZQaHyFVL0aUXb+cQXPEj3F96xdvzaoLU/Ruos3A/tC0bn3ki8jCzUkYZj7lcesWMpd4plhkQ+L5NOSphPdZjnGo0FLcEOQZQ68o+DVqHMSkOlMmc+21/ZH++iGByN4kic=\"\u001b[0m\u001b[1;39m\n",
      "\u001b[1;39m}\u001b[0m\n"
     ]
    }
   ],
   "source": [
    "! cat sbs-config.json | jq ."
   ]
  },
  {
   "cell_type": "markdown",
   "id": "narrow-investigator",
   "metadata": {},
   "source": [
    "---\n",
    "\n",
    "### Step 5.7 Generate client certification authority and client certificate\n",
    "\n",
    "Secure communication between you and your secure build server is achieved by using mutual Transport Layer Security (TLS). TLS is the same security protocol that protects most Web traffic today, but most Web interactions only require the server to be authenticated.  Mutual TLS refers to the situation where not only does the client want to ensure that the server is legitimate, but the server also wants to authenticate the identity of the client.  Your Web browser is constantly receiving server certificates and verifying them while you surf the web. Client certificates are what are used when the server wants to verify the client.  \n",
    "\n",
    "Create the client certificate and client certification authority (CA) by running the code cell below. You should receive two lines of output, with the second line being `INFO:root:client_certificate: generating client CA and certificate`"
   ]
  },
  {
   "cell_type": "code",
   "execution_count": 105,
   "id": "digital-cholesterol",
   "metadata": {},
   "outputs": [
    {
     "name": "stdout",
     "output_type": "stream",
     "text": [
      "INFO:root:client_certificate: using supplied pem files client_crt_key=.SBContainer-7f0085d9-0e4e-4bc3-a917-461061d82b23 capath=./.SBContainer-7f0085d9-0e4e-4bc3-a917-461061d82b23.d/client-ca.pem cakeypath=./.SBContainer-7f0085d9-0e4e-4bc3-a917-461061d82b23.d/client-ca-key.pem\n"
     ]
    }
   ],
   "source": [
    "! ./build.py create-client-cert --env sbs-config.json"
   ]
  },
  {
   "cell_type": "markdown",
   "id": "ae85b02f",
   "metadata": {},
   "source": [
    "---\n",
    "\n",
    "### Step 5.8 Generate server certificate and server key\n",
    "\n",
    "Create the server certificate and server key by running the code cell below. You should receive four lines of output, with the fourth line being `INFO:root:server_certificate: Successfully generated server certificate`"
   ]
  },
  {
   "cell_type": "code",
   "execution_count": 107,
   "id": "1bf15c36",
   "metadata": {},
   "outputs": [],
   "source": [
    "! ./build.py create-server-cert --env sbs-config.json"
   ]
  },
  {
   "cell_type": "markdown",
   "id": "incident-jacob",
   "metadata": {},
   "source": [
    "---\n",
    "\n",
    "### Step 5.9 Display your environment which shows your client certificate and CA and your server certificate and key\n",
    "\n",
    "The next code cell will copy the client certificate, the client certification authority, the server certificate and the server key, all in base64-encoding to a file for later use.\n",
    "\n",
    "If you already know about _base64-encoding_, go ahead and run the code cell.  If you don't, read the next paragraph if you're curious about what base64-encoding is.  \n",
    "\n",
    "Base64-encoding is a means of encoding any data, including binary data, into human-readable characters.  It takes groups of 6 bits, converts these six bits into a number from 0 to 63  (2 to the 6th power is 64), and replaces these 6 bits with one of 64 human-readable characters.  Which 64 human-readable characters were chosen?  Lowercase alphabetic characters a-z for 26, uppercase alphabetic characters A-Z for 26 more, the digits 0-9 for 10 more, which gives us 62.  Then `+` and `/` were chosen to make 64!  It should be noted that base64-encoding should not be confused with encryption.  It is easy to convert a base64-encoded string back to its original format.\n",
    "\n"
   ]
  },
  {
   "cell_type": "code",
   "execution_count": 108,
   "id": "completed-monkey",
   "metadata": {},
   "outputs": [],
   "source": [
    "! ./build.py instance-env --env sbs-config.json | grep -A1000 -m1 -e 'CLIENT_CRT' | ( SPACES=$'    ' ; sed \"s/^/$SPACES/\" ) > cert-env.env"
   ]
  },
  {
   "cell_type": "markdown",
   "id": "83f043ed-cfc3-4c8e-8a40-ffa12c8925cc",
   "metadata": {},
   "source": [
    "---\n",
    "\n",
    "### Step 5.10 Create an environment variable for the vpc\n",
    "\n",
    "Set you vpc name into an environment variable to reuse it by running the following code block."
   ]
  },
  {
   "cell_type": "code",
   "execution_count": 36,
   "id": "6d118428-718b-4339-b021-6fde8cf59fc7",
   "metadata": {},
   "outputs": [
    {
     "name": "stdout",
     "output_type": "stream",
     "text": [
      "env: vpc=secure-build-vpc\n"
     ]
    }
   ],
   "source": [
    "%set_env vpc=secure-build-vpc"
   ]
  },
  {
   "cell_type": "markdown",
   "id": "650a6059-e9a9-4788-b708-1976b6c075e1",
   "metadata": {},
   "source": [
    "---\n",
    "\n",
    "### Step 5.11 Create your vpc\n",
    "\n",
    "This lab uses its own vpc to keep things neat and tidy for the end user. Now it's time to create that vpc and save it's ID into an environment variable"
   ]
  },
  {
   "cell_type": "code",
   "execution_count": 29,
   "id": "controlling-palmer",
   "metadata": {},
   "outputs": [
    {
     "name": "stdout",
     "output_type": "stream",
     "text": [
      "Creating vpc \u001b[36;1msecure-build-vpc\u001b[0m under account \u001b[36;1mIBM\u001b[0m as user \u001b[36;1mGarrett.Lee.Woodworth@ibm.com\u001b[0m...\n",
      "\u001b[1m\u001b[0m                                               \u001b[1m\u001b[0m   \n",
      "\u001b[36;1mID\u001b[0m                                             r014-8cf567dc-da87-4567-93c4-c41ceca06436   \n",
      "\u001b[36;1mName\u001b[0m                                           secure-build-vpc   \n",
      "\u001b[36;1mCRN\u001b[0m                                            crn:v1:bluemix:public:is:us-east:a/5ddc6205e6ebbdc9348ec241cf1f51a8::vpc:r014-8cf567dc-da87-4567-93c4-c41ceca06436   \n",
      "\u001b[36;1mStatus\u001b[0m                                         pending   \n",
      "\u001b[36;1mClassic access\u001b[0m                                 false   \n",
      "\u001b[36;1mCreated\u001b[0m                                        2023-08-29T22:56:58+00:00   \n",
      "\u001b[36;1mResource group\u001b[0m                                 \u001b[1mID\u001b[0m                                 \u001b[1mName\u001b[0m      \n",
      "\u001b[36;1m\u001b[0m                                               \u001b[36;1m6f357188ee3a42ea8a9a252d66b8c9d5\u001b[0m   default      \n",
      "\u001b[36;1m\u001b[0m                                                  \n",
      "\u001b[36;1mDefault network ACL\u001b[0m                            \u001b[1mID\u001b[0m                                          \u001b[1mName\u001b[0m      \n",
      "\u001b[36;1m\u001b[0m                                               \u001b[36;1mr014-1e778f29-8204-450e-b1b2-89652310a173\u001b[0m   omicrons-profound-gasoline-landscape      \n",
      "\u001b[36;1m\u001b[0m                                                  \n",
      "\u001b[36;1mDefault security group\u001b[0m                         \u001b[1mID\u001b[0m                                          \u001b[1mName\u001b[0m      \n",
      "\u001b[36;1m\u001b[0m                                               \u001b[36;1mr014-e7c8452f-1b2e-485b-9f60-f5276792979e\u001b[0m   curvature-unmanaged-humming-uptown      \n",
      "\u001b[36;1m\u001b[0m                                                  \n",
      "\u001b[36;1mDefault routing table\u001b[0m                          \u001b[1mID\u001b[0m                                          \u001b[1mName\u001b[0m      \n",
      "\u001b[36;1m\u001b[0m                                               \u001b[36;1mr014-91a4dbff-bb9e-4dc9-8bea-55082c8b86ea\u001b[0m   emperor-mousiness-daydream-grafted      \n",
      "\u001b[36;1m\u001b[0m                                                  \n",
      "\u001b[36;1m\u001b[0m                                                  \n",
      "\u001b[36;1mCloud Service Endpoint source IP addresses: \u001b[0m   \u001b[1mZone\u001b[0m        \u001b[1mAddress\u001b[0m      \n",
      "\u001b[36;1m\u001b[0m                                               \u001b[36;1mus-east-1\u001b[0m   10.12.103.176      \n",
      "\u001b[36;1m\u001b[0m                                               \u001b[36;1mus-east-2\u001b[0m   10.22.48.178      \n",
      "\u001b[36;1m\u001b[0m                                               \u001b[36;1mus-east-3\u001b[0m   10.12.116.193      \n",
      "\u001b[36;1m\u001b[0m                                                  \n"
     ]
    }
   ],
   "source": [
    "! ibmcloud is vpc-create $vpc"
   ]
  },
  {
   "cell_type": "markdown",
   "id": "2cf29a26-a5e9-4815-91e6-1c6a96a06c3f",
   "metadata": {},
   "source": [
    "---\n",
    "\n",
    "### Step 5.12 List the environment prefixes for your vpc\n",
    "\n",
    "Use the vpc variable you saved before to find the address prefixes for your vpc."
   ]
  },
  {
   "cell_type": "code",
   "execution_count": 30,
   "id": "5e5abcc6-3755-4553-ad9b-31c1384d900a",
   "metadata": {},
   "outputs": [
    {
     "name": "stdout",
     "output_type": "stream",
     "text": [
      "Listing address prefixes of vpc \u001b[36;1msecure-build-vpc\u001b[0m under account \u001b[36;1mIBM\u001b[0m as user \u001b[36;1mGarrett.Lee.Woodworth@ibm.com\u001b[0m...\n",
      "\u001b[1mID\u001b[0m                                          \u001b[1mName\u001b[0m                                    \u001b[1mCIDR block\u001b[0m        \u001b[1mZone\u001b[0m        \u001b[1mHas subnets\u001b[0m   \u001b[1mIs default\u001b[0m   \u001b[1mCreated\u001b[0m   \n",
      "\u001b[36;1mr014-d7294bd1-5725-4c44-a3ef-19125a73b105\u001b[0m   smite-schilling-untaken-brick           10.241.64.0/18    us-east-2   false         true         2023-08-29T22:56:58+00:00   \n",
      "\u001b[36;1mr014-0289c956-c1f2-47e3-a26f-01a490c173af\u001b[0m   conceded-shuffling-transfer-balancing   10.241.128.0/18   us-east-3   false         true         2023-08-29T22:56:58+00:00   \n",
      "\u001b[36;1mr014-71c65ac6-1a29-4ceb-98d9-14fc76718b19\u001b[0m   dividable-evacuee-syrup-glider          10.241.0.0/18     us-east-1   false         true         2023-08-29T22:56:58+00:00   \n"
     ]
    }
   ],
   "source": [
    "! ibmcloud is vpc-address-prefixes $vpc "
   ]
  },
  {
   "cell_type": "markdown",
   "id": "bf0e626f-e081-471a-9b2c-0ac7d6e977d1",
   "metadata": {},
   "source": [
    "---\n",
    "\n",
    "### Step 5.13 Set your subnet as an environment variable\n",
    "Set your subnet as an environment variable by running the following code block."
   ]
  },
  {
   "cell_type": "code",
   "execution_count": 31,
   "id": "b0e22ff4-0de7-407a-8f89-99eb2eb73efe",
   "metadata": {},
   "outputs": [
    {
     "name": "stdout",
     "output_type": "stream",
     "text": [
      "env: subnet=secure-build-subnet\n"
     ]
    }
   ],
   "source": [
    "%set_env subnet=secure-build-subnet"
   ]
  },
  {
   "cell_type": "markdown",
   "id": "83adbf18-679e-443d-bfaf-06c20eb36839",
   "metadata": {},
   "source": [
    "---\n",
    "\n",
    "### Step 5.14 Create your subnet\n",
    "\n",
    "Use the address CIDR from the previous command to create a subnet for your VPC using one of the zones in your region.\n",
    "\n",
    "For example given the following output:\n",
    "    \n",
    "```\n",
    "Listing address prefixes of vpc r014-03b31802-8605-41a7-82c0-ce7f46ad39a7 under account IBM as user Garrett.Lee.Woodworth@ibm.com...\n",
    "ID                                          Name                                CIDR block        Zone        Has subnets   Is default   Created   \n",
    "r014-d1592cfb-d65b-4691-acfc-40317d366312   passover-flyable-entitle-goodness   10.241.0.0/18     us-east-1   false         true         2023-08-22T16:51:29-07:00   \n",
    "r014-cdb78388-ecca-48a5-a7e1-f1f56aeae87d   pretender-deputize-pushup-cover     10.241.64.0/18    us-east-2   false         true         2023-08-22T16:51:29-07:00   \n",
    "r014-64686aeb-3fb3-4cd5-997b-e30d9cb9c9e9   dropbox-unfold-elite-strategy       10.241.128.0/18   us-east-3   false         true \n",
    "```\n",
    "\n",
    "I could create a subnet for us-east-1 with cidr block 10.241.0.0/24. Fill in the CIDR block for your zone with /18 replaced with /24 and run the commands below similar to the following example:\n",
    "\n",
    "```\n",
    "zone=us-east-1\n",
    "```\n",
    "\n",
    "```\n",
    "cidr_block=10.241.0.0/24\n",
    "```"
   ]
  },
  {
   "cell_type": "code",
   "execution_count": 40,
   "id": "d4f1121c-7ab8-490e-8af6-680fcecc8472",
   "metadata": {},
   "outputs": [
    {
     "name": "stdout",
     "output_type": "stream",
     "text": [
      "env: zone=us-east-1\n"
     ]
    }
   ],
   "source": [
    "%set_env zone="
   ]
  },
  {
   "cell_type": "code",
   "execution_count": 32,
   "id": "33081c36-ad00-485d-892c-a892f429dd4d",
   "metadata": {},
   "outputs": [
    {
     "name": "stdout",
     "output_type": "stream",
     "text": [
      "env: cidr_block=10.241.0.0/24\n"
     ]
    }
   ],
   "source": [
    "%set_env cidr_block="
   ]
  },
  {
   "cell_type": "code",
   "execution_count": 33,
   "id": "f2db0bb2-8594-4e3d-bead-6c63eb38941d",
   "metadata": {},
   "outputs": [
    {
     "name": "stdout",
     "output_type": "stream",
     "text": [
      "Creating subnet \u001b[36;1msecure-build-subnet\u001b[0m under account \u001b[36;1mIBM\u001b[0m as user \u001b[36;1mGarrett.Lee.Woodworth@ibm.com\u001b[0m...\n",
      "\u001b[1m\u001b[0m                    \u001b[1m\u001b[0m   \n",
      "\u001b[36;1mID\u001b[0m                  0757-e1a0c7d5-3d4a-4686-9860-48b8d0c14af8   \n",
      "\u001b[36;1mName\u001b[0m                secure-build-subnet   \n",
      "\u001b[36;1mCRN\u001b[0m                 crn:v1:bluemix:public:is:us-east-1:a/5ddc6205e6ebbdc9348ec241cf1f51a8::subnet:0757-e1a0c7d5-3d4a-4686-9860-48b8d0c14af8   \n",
      "\u001b[36;1mStatus\u001b[0m              pending   \n",
      "\u001b[36;1mIPv4 CIDR\u001b[0m           10.241.0.0/24   \n",
      "\u001b[36;1mAddress available\u001b[0m   251   \n",
      "\u001b[36;1mAddress total\u001b[0m       256   \n",
      "\u001b[36;1mZone\u001b[0m                us-east-1   \n",
      "\u001b[36;1mCreated\u001b[0m             2023-08-29T22:58:38+00:00   \n",
      "\u001b[36;1mACL\u001b[0m                 \u001b[1mID\u001b[0m                                          \u001b[1mName\u001b[0m      \n",
      "\u001b[36;1m\u001b[0m                    \u001b[36;1mr014-1e778f29-8204-450e-b1b2-89652310a173\u001b[0m   omicrons-profound-gasoline-landscape      \n",
      "\u001b[36;1m\u001b[0m                       \n",
      "\u001b[36;1mRouting table\u001b[0m       \u001b[1mID\u001b[0m                                          \u001b[1mName\u001b[0m      \n",
      "\u001b[36;1m\u001b[0m                    \u001b[36;1mr014-91a4dbff-bb9e-4dc9-8bea-55082c8b86ea\u001b[0m   emperor-mousiness-daydream-grafted      \n",
      "\u001b[36;1m\u001b[0m                       \n",
      "\u001b[36;1mPublic Gateway\u001b[0m      -   \n",
      "\u001b[36;1mVPC\u001b[0m                 \u001b[1mID\u001b[0m                                          \u001b[1mName\u001b[0m      \n",
      "\u001b[36;1m\u001b[0m                    \u001b[36;1mr014-8cf567dc-da87-4567-93c4-c41ceca06436\u001b[0m   secure-build-vpc      \n",
      "\u001b[36;1m\u001b[0m                       \n",
      "\u001b[36;1mResource group\u001b[0m      \u001b[1mID\u001b[0m                                 \u001b[1mName\u001b[0m      \n",
      "\u001b[36;1m\u001b[0m                    \u001b[36;1m6f357188ee3a42ea8a9a252d66b8c9d5\u001b[0m   default      \n",
      "\u001b[36;1m\u001b[0m                       \n"
     ]
    }
   ],
   "source": [
    "! ibmcloud is subnet-create $subnet $vpc $zone --ipv4-cidr-block \"$cidr_block\""
   ]
  },
  {
   "cell_type": "markdown",
   "id": "08a846fb-8fd1-4169-bd0c-f7f9fcdd8ee9",
   "metadata": {
    "tags": []
   },
   "source": [
    "---\n",
    "\n",
    "### Step 5.15 Set your gateway as an environment variable\n",
    "\n",
    "Set your gateway as an environment variable by running the following code block."
   ]
  },
  {
   "cell_type": "code",
   "execution_count": 34,
   "id": "d7a5dd4b-a037-4370-888a-cfd2e912df0d",
   "metadata": {},
   "outputs": [
    {
     "name": "stdout",
     "output_type": "stream",
     "text": [
      "env: gateway=secure-build-gateway\n"
     ]
    }
   ],
   "source": [
    "%set_env gateway=secure-build-gateway"
   ]
  },
  {
   "cell_type": "markdown",
   "id": "06cb6fe0-9c98-4660-ad37-b412e15f46c1",
   "metadata": {},
   "source": [
    "---\n",
    "\n",
    "### Step 5.16 Create your public gateway\n",
    "\n",
    "Create a public gateway to access your instance"
   ]
  },
  {
   "cell_type": "code",
   "execution_count": 41,
   "id": "e7503b18-6d80-4e3f-afd9-a0d302d93141",
   "metadata": {},
   "outputs": [
    {
     "name": "stdout",
     "output_type": "stream",
     "text": [
      "Creating public gateway \u001b[36;1msecure-build-gateway\u001b[0m under account \u001b[36;1mIBM\u001b[0m as user \u001b[36;1mGarrett.Lee.Woodworth@ibm.com\u001b[0m...\n",
      "\u001b[1m\u001b[0m                 \u001b[1m\u001b[0m   \n",
      "\u001b[36;1mID\u001b[0m               r014-49ccfef4-24f7-46d7-969c-393840b4ec30   \n",
      "\u001b[36;1mName\u001b[0m             secure-build-gateway   \n",
      "\u001b[36;1mCRN\u001b[0m              crn:v1:bluemix:public:is:us-east-1:a/5ddc6205e6ebbdc9348ec241cf1f51a8::public-gateway:r014-49ccfef4-24f7-46d7-969c-393840b4ec30   \n",
      "\u001b[36;1mStatus\u001b[0m           available   \n",
      "\u001b[36;1mZone\u001b[0m             us-east-1   \n",
      "\u001b[36;1mCreated\u001b[0m          2023-08-29T23:01:08+00:00   \n",
      "\u001b[36;1mFloating IP\u001b[0m      \u001b[1mID\u001b[0m                                          \u001b[1mName\u001b[0m                   \u001b[1mAddress\u001b[0m      \n",
      "\u001b[36;1m\u001b[0m                 \u001b[36;1mr014-43dcb74d-2cb5-46f2-a4da-03328e72a3c8\u001b[0m   secure-build-gateway   150.239.82.14      \n",
      "\u001b[36;1m\u001b[0m                    \n",
      "\u001b[36;1mVPC\u001b[0m              \u001b[1mID\u001b[0m                                          \u001b[1mName\u001b[0m      \n",
      "\u001b[36;1m\u001b[0m                 \u001b[36;1mr014-8cf567dc-da87-4567-93c4-c41ceca06436\u001b[0m   secure-build-vpc      \n",
      "\u001b[36;1m\u001b[0m                    \n",
      "\u001b[36;1mResource group\u001b[0m   \u001b[1mID\u001b[0m                                 \u001b[1mName\u001b[0m      \n",
      "\u001b[36;1m\u001b[0m                 \u001b[36;1m6f357188ee3a42ea8a9a252d66b8c9d5\u001b[0m   default      \n",
      "\u001b[36;1m\u001b[0m                    \n"
     ]
    }
   ],
   "source": [
    "! ibmcloud is public-gateway-create $gateway $vpc $zone"
   ]
  },
  {
   "cell_type": "markdown",
   "id": "9e4048f1-0322-4718-9cbf-646b11b1d7e0",
   "metadata": {},
   "source": [
    "---\n",
    "\n",
    "### Step 5.17 Link your subnet to the new gateway\n",
    "\n",
    "Link the gateway you just created to your subnet"
   ]
  },
  {
   "cell_type": "code",
   "execution_count": 44,
   "id": "fcd65a72-1907-47e4-804b-3066fd0f40f8",
   "metadata": {},
   "outputs": [
    {
     "name": "stdout",
     "output_type": "stream",
     "text": [
      "Updating subnet \u001b[36;1msecure-build-subnet\u001b[0m under account \u001b[36;1mIBM\u001b[0m as user \u001b[36;1mGarrett.Lee.Woodworth@ibm.com\u001b[0m...\n",
      "\u001b[1m\u001b[0m                    \u001b[1m\u001b[0m   \n",
      "\u001b[36;1mID\u001b[0m                  0757-e1a0c7d5-3d4a-4686-9860-48b8d0c14af8   \n",
      "\u001b[36;1mName\u001b[0m                secure-build-subnet   \n",
      "\u001b[36;1mCRN\u001b[0m                 crn:v1:bluemix:public:is:us-east-1:a/5ddc6205e6ebbdc9348ec241cf1f51a8::subnet:0757-e1a0c7d5-3d4a-4686-9860-48b8d0c14af8   \n",
      "\u001b[36;1mStatus\u001b[0m              pending   \n",
      "\u001b[36;1mIPv4 CIDR\u001b[0m           10.241.0.0/24   \n",
      "\u001b[36;1mAddress available\u001b[0m   251   \n",
      "\u001b[36;1mAddress total\u001b[0m       256   \n",
      "\u001b[36;1mZone\u001b[0m                us-east-1   \n",
      "\u001b[36;1mCreated\u001b[0m             2023-08-29T22:58:38+00:00   \n",
      "\u001b[36;1mACL\u001b[0m                 \u001b[1mID\u001b[0m                                          \u001b[1mName\u001b[0m      \n",
      "\u001b[36;1m\u001b[0m                    \u001b[36;1mr014-1e778f29-8204-450e-b1b2-89652310a173\u001b[0m   omicrons-profound-gasoline-landscape      \n",
      "\u001b[36;1m\u001b[0m                       \n",
      "\u001b[36;1mRouting table\u001b[0m       \u001b[1mID\u001b[0m                                          \u001b[1mName\u001b[0m      \n",
      "\u001b[36;1m\u001b[0m                    \u001b[36;1mr014-91a4dbff-bb9e-4dc9-8bea-55082c8b86ea\u001b[0m   emperor-mousiness-daydream-grafted      \n",
      "\u001b[36;1m\u001b[0m                       \n",
      "\u001b[36;1mPublic Gateway\u001b[0m      \u001b[1mID\u001b[0m                                          \u001b[1mName\u001b[0m      \n",
      "\u001b[36;1m\u001b[0m                    \u001b[36;1mr014-49ccfef4-24f7-46d7-969c-393840b4ec30\u001b[0m   secure-build-gateway      \n",
      "\u001b[36;1m\u001b[0m                       \n",
      "\u001b[36;1mVPC\u001b[0m                 \u001b[1mID\u001b[0m                                          \u001b[1mName\u001b[0m      \n",
      "\u001b[36;1m\u001b[0m                    \u001b[36;1mr014-8cf567dc-da87-4567-93c4-c41ceca06436\u001b[0m   secure-build-vpc      \n",
      "\u001b[36;1m\u001b[0m                       \n",
      "\u001b[36;1mResource group\u001b[0m      \u001b[1mID\u001b[0m                                 \u001b[1mName\u001b[0m      \n",
      "\u001b[36;1m\u001b[0m                    \u001b[36;1m6f357188ee3a42ea8a9a252d66b8c9d5\u001b[0m   default      \n",
      "\u001b[36;1m\u001b[0m                       \n"
     ]
    }
   ],
   "source": [
    "! ibmcloud is subnet-update $subnet --pgw $gateway"
   ]
  },
  {
   "cell_type": "markdown",
   "id": "4c93616a-4bdd-46bb-95dd-f67b6128fc78",
   "metadata": {},
   "source": [
    "---\n",
    "\n",
    "### 5.18 Save your security group ID for later use\n",
    "\n",
    "Run a command to get your vpc's security group ID and then save it by pasting it into the code box below after the = sign and running the code box below."
   ]
  },
  {
   "cell_type": "code",
   "execution_count": 45,
   "id": "3c5df4e0-2b82-41a6-a3e6-87fe6af728d7",
   "metadata": {},
   "outputs": [
    {
     "name": "stdout",
     "output_type": "stream",
     "text": [
      "Getting default security group of vpc \u001b[36;1msecure-build-vpc\u001b[0m under account \u001b[36;1mIBM\u001b[0m as user \u001b[36;1mGarrett.Lee.Woodworth@ibm.com\u001b[0m...\n",
      "\u001b[1m\u001b[0m          \u001b[1m\u001b[0m   \n",
      "\u001b[36;1mID\u001b[0m        r014-e7c8452f-1b2e-485b-9f60-f5276792979e   \n",
      "\u001b[36;1mName\u001b[0m      curvature-unmanaged-humming-uptown   \n",
      "\u001b[36;1mCreated\u001b[0m   2023-08-29T22:56:58+00:00   \n",
      "\u001b[36;1mVPC\u001b[0m       \u001b[1mID\u001b[0m                                          \u001b[1mName\u001b[0m      \n",
      "\u001b[36;1m\u001b[0m          \u001b[36;1mr014-8cf567dc-da87-4567-93c4-c41ceca06436\u001b[0m   secure-build-vpc      \n",
      "\u001b[36;1m\u001b[0m             \n",
      "\u001b[1m\u001b[0m        \u001b[1m\u001b[0m   \n",
      "\u001b[36;1mRules\u001b[0m      \n",
      "\u001b[1mID\u001b[0m                                          \u001b[1mDirection\u001b[0m   \u001b[1mIP version\u001b[0m   \u001b[1mProtocol\u001b[0m   \u001b[1mRemote\u001b[0m   \n",
      "\u001b[36;1mr014-082110e0-2b5e-4f23-9874-32b963d7c3b5\u001b[0m   outbound    ipv4         all        0.0.0.0/0   \n",
      "\u001b[36;1mr014-1af784c9-9f1d-4756-b06b-140b254f9e3d\u001b[0m   inbound     ipv4         all        curvature-unmanaged-humming-uptown   \n"
     ]
    }
   ],
   "source": [
    "! ibmcloud is vpc-sg $vpc"
   ]
  },
  {
   "cell_type": "code",
   "execution_count": 46,
   "id": "66d781ed-1be6-4c8b-b27d-8f6c94e5a948",
   "metadata": {},
   "outputs": [
    {
     "name": "stdout",
     "output_type": "stream",
     "text": [
      "env: sg=r014-e7c8452f-1b2e-485b-9f60-f5276792979e\n"
     ]
    }
   ],
   "source": [
    "%set_env sg="
   ]
  },
  {
   "cell_type": "markdown",
   "id": "525f92f1-b81f-429c-a88c-d01179552863",
   "metadata": {},
   "source": [
    "---\n",
    "\n",
    "### Step 5.19 Open port 443 on your security group\n",
    "\n",
    "Next, you will open port 443 to public traffic to use it to communicate with the secure build server."
   ]
  },
  {
   "cell_type": "code",
   "execution_count": 47,
   "id": "a77ed162-894a-4a75-b85d-0be5445f14cc",
   "metadata": {},
   "outputs": [
    {
     "name": "stdout",
     "output_type": "stream",
     "text": [
      "Creating rule for security group \u001b[36;1mr014-e7c8452f-1b2e-485b-9f60-f5276792979e\u001b[0m under account \u001b[36;1mIBM\u001b[0m as user \u001b[36;1mGarrett.Lee.Woodworth@ibm.com\u001b[0m...\n",
      "\u001b[1m\u001b[0m                       \u001b[1m\u001b[0m   \n",
      "\u001b[36;1mID\u001b[0m                     r014-7c4657d6-9c47-4321-b5ae-e312d385e54b   \n",
      "\u001b[36;1mDirection\u001b[0m              inbound   \n",
      "\u001b[36;1mIP version\u001b[0m             ipv4   \n",
      "\u001b[36;1mProtocol\u001b[0m               tcp   \n",
      "\u001b[36;1mMin destination port\u001b[0m   443   \n",
      "\u001b[36;1mMax destination port\u001b[0m   443   \n",
      "\u001b[36;1mRemote\u001b[0m                 0.0.0.0/0   \n"
     ]
    }
   ],
   "source": [
    "! ibmcloud is sg-rulec $sg inbound tcp --port-min=443 --port-max=443"
   ]
  },
  {
   "cell_type": "markdown",
   "id": "895f7e4f-374a-4b72-b7fb-6cf53e22ef4e",
   "metadata": {},
   "source": [
    "---\n",
    "\n",
    "### Step 5.20 Create Logdna Logging instance\n",
    "\n",
    "You will need a logdna instance to use for logging from your Hyper Protect Virtual Servers for VPC. Thankfully, you can get a lite instance for free if you don't already have one. Since you can only have one lite instance, if you already have one you can reuse that one for this. However, if you don't create it with the command below:"
   ]
  },
  {
   "cell_type": "code",
   "execution_count": 53,
   "id": "038145fe-7304-4fcf-a81e-d47192b3916a",
   "metadata": {},
   "outputs": [
    {
     "name": "stdout",
     "output_type": "stream",
     "text": [
      "Creating service instance \u001b[36;1msecure-build-logdna\u001b[0m in resource group \u001b[36;1mdefault\u001b[0m of account \u001b[36;1mIBM\u001b[0m as \u001b[36;1mGarrett.Lee.Woodworth@ibm.com\u001b[0m...\n",
      "\u001b[32;1mOK\u001b[0m\n",
      "Service instance \u001b[36;1msecure-build-logdna\u001b[0m was created.\n",
      "\u001b[1m\u001b[0m                  \u001b[1m\u001b[0m   \n",
      "\u001b[36;1mName:\u001b[0m             secure-build-logdna   \n",
      "\u001b[36;1mID:\u001b[0m               crn:v1:bluemix:public:logdna:us-east:a/5ddc6205e6ebbdc9348ec241cf1f51a8:8591f887-6f90-48cd-a66e-720a294417b4::   \n",
      "\u001b[36;1mGUID:\u001b[0m             8591f887-6f90-48cd-a66e-720a294417b4   \n",
      "\u001b[36;1mLocation:\u001b[0m         us-east   \n",
      "\u001b[36;1mState:\u001b[0m            active   \n",
      "\u001b[36;1mType:\u001b[0m             service_instance   \n",
      "\u001b[36;1mSub Type:\u001b[0m            \n",
      "\u001b[36;1mAllow Cleanup:\u001b[0m    false   \n",
      "\u001b[36;1mLocked:\u001b[0m           false   \n",
      "\u001b[36;1mCreated at:\u001b[0m       2023-08-29T23:06:56Z   \n",
      "\u001b[36;1mUpdated at:\u001b[0m       2023-08-29T23:06:56Z   \n",
      "\u001b[36;1mLast Operation:\u001b[0m   \u001b[1m\u001b[0m          \u001b[1m\u001b[0m      \n",
      "\u001b[36;1m\u001b[0m                  \u001b[36;1mStatus\u001b[0m    create succeeded      \n",
      "\u001b[36;1m\u001b[0m                  \u001b[36;1mMessage\u001b[0m   Completed create instance operation      \n",
      "\u001b[36;1m\u001b[0m                     \n"
     ]
    }
   ],
   "source": [
    "! ibmcloud resource service-instance-create secure-build-logdna logdna lite $region -p '{\"private_endpoints_only\": false}'"
   ]
  },
  {
   "cell_type": "markdown",
   "id": "f626a128-56ae-4952-bf7c-9d2b716a477f",
   "metadata": {},
   "source": [
    "---\n",
    "\n",
    "### Step 5.21 Retrieve your IBM Log Analaysis instance's ingestion key\n",
    "\n",
    "Navigate to the IBM Cloud UI (signing in if necessary) via [this link](https://cloud.ibm.com/observe/logging) which will take you to your logging instances.\n",
    "\n",
    "Click the blue **Open Dashboard** button in the upper right for the logDNA instance you are using for this lab.\n",
    "\n",
    "Click the *Install instructions* icon (that looks like a question mark) in the lower left of your IBM Log Analysis dashboard:\n",
    "\n",
    "<img src=\"images/log040.png\" width=\"470\" height=\"952\" />\n",
    "\n",
    "In the window that opens up, click the icon highlighted below in order to copy your IBM Log Analysis instance's ingestion key into your clipboard.  Paste it into the code cell below and run it to set an environment variable for use later in the lab.  **Treat this ingestion key with care like you would a password, _especially if you are using an already existing IBM Log Analysis instance_**. (You do have the ability to return to this screen to retrieve it later if you lose track of where you paste it).  See the below screen snippet:\n",
    "\n",
    "<img src=\"images/log050.png\" width=\"936\" height=\"186\" />"
   ]
  },
  {
   "cell_type": "code",
   "execution_count": 54,
   "id": "56d6aeeb-1965-42ff-9509-e1dead1049d2",
   "metadata": {},
   "outputs": [
    {
     "name": "stdout",
     "output_type": "stream",
     "text": [
      "env: logdna_ingestion_key=45e2900f3edecdfca23af743bbb1a59d\n"
     ]
    }
   ],
   "source": [
    "%set_env logdna_ingestion_key="
   ]
  },
  {
   "cell_type": "markdown",
   "id": "e9f6a58d-ad68-4cb3-b33b-d8c85b94dbaf",
   "metadata": {},
   "source": [
    "---\n",
    "\n",
    "### Step 5.22 Retrieve your IBM Log Analysis instance's host name\n",
    "\n",
    "1. Scroll down on this same window and choose **rsyslog**\n",
    "2. Use copy and paste to save the information that corresponds to the information highlighted in the screen snippet below.  (This information will not be highlighted on your screen until you select it as we did prior to taking this screenshot). You will be using this information later in the labs.  This information does not have to be kept secret.\n",
    "\n",
    "<img src=\"images/log060.png\" width=\"802\" height=\"671\" />\n",
    "\n",
    "You do not have to follow the instructions that the popup window is giving you, you only needed to copy the information as directed here in the lab. You can click the **X** in the upper right corner of the popup window or just click outside of the popup window so that it goes away. Paste the hostname into the code cell below and then run it to set an environment variable for use later in the lab. Keep this tab open to see your logs when you launch the server (since the lite plan doesn't save logs so you have to have the instance loaded in your browser when the logs occur to see your logs.)"
   ]
  },
  {
   "cell_type": "code",
   "execution_count": 55,
   "id": "ba6c76d5-39b1-4c13-ab6b-65d5df21eaae",
   "metadata": {},
   "outputs": [
    {
     "name": "stdout",
     "output_type": "stream",
     "text": [
      "env: logdna_hostname=syslog-a.us-east.logging.cloud.ibm.com\n"
     ]
    }
   ],
   "source": [
    "%set_env logdna_hostname="
   ]
  },
  {
   "cell_type": "markdown",
   "id": "a71188ef-d9f0-4790-98a7-3887bc5f37c1",
   "metadata": {},
   "source": [
    "---\n",
    "### Step 5.23 Prepare the environment section of your contract\n",
    "\n",
    "Time to create the environment section of your contract with all of the information you collected before"
   ]
  },
  {
   "cell_type": "code",
   "execution_count": 109,
   "id": "0a038732-f32e-4981-9f2f-1dd1d753ec52",
   "metadata": {},
   "outputs": [],
   "source": [
    "%%bash\n",
    "cat <<EOF > env.yaml.initial\n",
    "  type: env\n",
    "  logging:\n",
    "    logDNA:\n",
    "      hostname: $logdna_hostname\n",
    "      ingestionKey: $logdna_ingestion_key\n",
    "      port: 6514\n",
    "  volumes:\n",
    "    hpsb:\n",
    "      seed: \"testing\"\n",
    "  env:\n",
    "    registry: \"docker.io/gmoney23/secure-docker-build\"\n",
    "$(cat cert-env.env)\n",
    "EOF"
   ]
  },
  {
   "cell_type": "markdown",
   "id": "a819ba4b-d516-473f-9ebc-8197a5efa9df",
   "metadata": {},
   "source": [
    "---\n",
    "\n",
    "### Step 5.24 View your newly created environment section\n",
    "\n",
    "Check on the environment section of your contract to check on your work"
   ]
  },
  {
   "cell_type": "code",
   "execution_count": 57,
   "id": "5ef82da0-7036-4973-9627-06be66350010",
   "metadata": {},
   "outputs": [
    {
     "name": "stdout",
     "output_type": "stream",
     "text": [
      "  type: env\n",
      "  logging:\n",
      "    logDNA:\n",
      "      hostname: syslog-a.us-east.logging.cloud.ibm.com\n",
      "      ingestionKey: 45e2900f3edecdfca23af743bbb1a59d\n",
      "      port: 6514\n",
      "  volumes:\n",
      "    hpsb:\n",
      "      seed: \"testing\"\n",
      "  env:\n",
      "    registry: \"docker.io/gmoney23/secure-docker-build\"\n",
      "    CLIENT_CRT: \"LS0tLS1CRUdJTiBDRVJUSUZJQ0FURS0tLS0tCk1JSUR3RENDQXFpZ0F3SUJBZ0lFQlRSalVUQU5CZ2txaGtpRzl3MEJBUXNGQURCbU1Rc3dDUVlEVlFRR0V3SlYKVXpFTE1Ba0dBMVVFQ0F3Q1Rsa3hEekFOQmdOVkJBY01Ca0Z5Ylc5dWF6RU1NQW9HQTFVRUNnd0RTVUpOTVJjdwpGUVlEVlFRTERBNUVhV2RwZEdGc0lFRnpjMlYwY3pFU01CQUdBMVVFQXd3SlEyeHBaVzUwSUVOQk1CNFhEVEl6Ck1EZ3lPVEl5TlRZeU9Wb1hEVEkwTURneU9ESXlOVFl5T1Zvd1l6RUxNQWtHQTFVRUJoTUNWVk14Q3pBSkJnTlYKQkFnTUFrNVpNUTh3RFFZRFZRUUhEQVpCY20xdmJtc3hEREFLQmdOVkJBb01BMGxDVFRFWE1CVUdBMVVFQ3d3TwpSR2xuYVhSaGJDQkJjM05sZEhNeER6QU5CZ05WQkFNTUJrTnNhV1Z1ZERDQ0FTSXdEUVlKS29aSWh2Y05BUUVCCkJRQURnZ0VQQURDQ0FRb0NnZ0VCQUtPVnNEM245bTZ1WnNETVNtN05kZWNkSUd4c0JVazBvcUFtdFVRUm9OL28KR2ViSDZVcHJQU0R2TGx5dC81K3BDM0NzeCtDaU9PV2xreVI0cUR5anVIcTRZN0hGZmljbmF4VVFwanN5YzFKVQpaSnlCaWhwcTgvMWxubVowL1BnMVlWdzJYQVVodlBGMlZ6QVYydXR6WWp4TURFdVBML1Rxdk9Ya3ZPOFlORDJQCjNhSGVJL3hrWGVlWEVmYmdNMUpOMWM0dUVKY21JWkZERWVJODF4S3J2d24zdlVYWWdVYmNwMHhpQzdnU0NUV1EKRUc2SVBmOElwNGpwWlhkQ1dGTDNEVyswYndFSlR6ZjhmK2VIUnhKZ3hsSmlOaitBYmtqWWpJNWc5NDltYlFmaApVRzk0RDRSSDY0YjZiSW8yc3lTTDdpT3IvSXFyL0xZcHRLRjk2Q2czZ3c4Q0F3RUFBYU41TUhjd0NRWURWUjBUCkJBSXdBREFkQmdOVkhRNEVGZ1FVMmptajdsNXJTdzB5VmIvdmxXQVlrSy9ZQndrd0h3WURWUjBqQkJnd0ZvQVUKMmptajdsNXJTdzB5VmIvdmxXQVlrSy9ZQndrd0hRWURWUjBsQkJZd0ZBWUlLd1lCQlFVSEF3SUdDQ3NHQVFVRgpCd01CTUFzR0ExVWREd1FFQXdJSGdEQU5CZ2txaGtpRzl3MEJBUXNGQUFPQ0FRRUFBZFBXY3d6NjAyVkxBdFhwCldTZk9QWmJ4d0d2ZU9GMWlyc3ZVU2pPckVYTWpUZXRWeHhSQWxIdXVIanlEVGF6OTRkSWhzdFB3eXp1dWpNa2oKM2lxTHBuNURzczh6Ykg0bGFlb09ZSUl3ZjcwWENMSFl5b3BNcWN4bnpZRnhjQUYvU0lQNmp3U015TjR1a01DYgpaUVNzZktIeEZVTHphUUtQb2ZVS0YzS1N4YTFMMkN0cVhyZ2lkMm1ERjZYWVJqSEkwWnZkMUI1ZWNSNkFISVowCnZYd2I2S0lHMFBFdEdhK2NnWVgyek14blBoTng5VXptZm5wV0dTaHNSa2hPNCtUdnJ1R1cwUk5IL3ErS1FFN3IKbk43MTFManU3N1hKdjZ4WXR4L25VSHkvQmIxSVJRelNUMmxraEN6SklScUR2Ukx6QmptclRYNnpOMHhxM2VwMApObnVoRVE9PQotLS0tLUVORCBDRVJUSUZJQ0FURS0tLS0tCg==\"\n",
      "    CLIENT_CA: \"LS0tLS1CRUdJTiBDRVJUSUZJQ0FURS0tLS0tCk1JSUR4akNDQXE2Z0F3SUJBZ0lFQlZVL2R6QU5CZ2txaGtpRzl3MEJBUXNGQURCbU1Rc3dDUVlEVlFRR0V3SlYKVXpFTE1Ba0dBMVVFQ0F3Q1Rsa3hEekFOQmdOVkJBY01Ca0Z5Ylc5dWF6RU1NQW9HQTFVRUNnd0RTVUpOTVJjdwpGUVlEVlFRTERBNUVhV2RwZEdGc0lFRnpjMlYwY3pFU01CQUdBMVVFQXd3SlEyeHBaVzUwSUVOQk1CNFhEVEl6Ck1EZ3lPVEl5TlRZeU9Wb1hEVEkxTURneU9ESXlOVFl5T1Zvd1pqRUxNQWtHQTFVRUJoTUNWVk14Q3pBSkJnTlYKQkFnTUFrNVpNUTh3RFFZRFZRUUhEQVpCY20xdmJtc3hEREFLQmdOVkJBb01BMGxDVFRFWE1CVUdBMVVFQ3d3TwpSR2xuYVhSaGJDQkJjM05sZEhNeEVqQVFCZ05WQkFNTUNVTnNhV1Z1ZENCRFFUQ0NBU0l3RFFZSktvWklodmNOCkFRRUJCUUFEZ2dFUEFEQ0NBUW9DZ2dFQkFNMW1SNk1rMkJ1ZGVsTW5IQ25lOWFvVUhXRC9sUWdvRElVWEN6R3YKb2RQa2loSkpNaloxTDdGNlk5SFA3YzhIZFQ2Tm9QVzhQVG4vNEloakZKK1FnNFVHa0pBNGxwSG11MVU0TEI4dApNWDFHTkdzS0diOTM3Y21CQTRnT3ZaOGFzOWJleENqVVl1MWdtRTBkRnUzNDVMQ2ZMOUdlUEdPUXJsQWMvWHRkCk4rOGx2MWtLalhrbzlqcldVRE1ScnBaOW5odnptVGNkUmZPNjdjWFhydnpyNXd3dS9JQXNSeEFVbXNmQm44Q3QKMUR3MHZia1NFUlFGRGxUT2hrbVJUUnNkSDBhT0Q4WEJtSWZTelk1cjNIYVZzUEVPbnFLcDdIVnpabElwVUxmTQp3b1hGU0VDUUw3UnBkdjZ5dEZ2TXVGWFRsSFVUK2xpL1gxSVNMcTRxZ3BOckpHc0NBd0VBQWFOOE1Ib3dIUVlEClZSME9CQllFRk5vNW8rNWVhMHNOTWxXLzc1VmdHSkN2MkFjSk1COEdBMVVkSXdRWU1CYUFGTm81bys1ZWEwc04KTWxXLzc1VmdHSkN2MkFjSk1Bd0dBMVVkRXdRRk1BTUJBZjh3SFFZRFZSMGxCQll3RkFZSUt3WUJCUVVIQXdJRwpDQ3NHQVFVRkJ3TUJNQXNHQTFVZER3UUVBd0lCQmpBTkJna3Foa2lHOXcwQkFRc0ZBQU9DQVFFQURxRDFZL2lzCi92NXRGZ1V3YTF6NkdoK3dZUnNXUW1DbEYrU1FsSU1MVTg1ZVNSaGxkYjRoT0hNVTJpakdBUHN5WGtUbmhuZjIKb2VXZWlYMU44K0x0ZjZydnJBc3B2TW1kVzhLRWJhMEZxNHQxVFdWUW9wclRHWmlyQVhQaTc3TEZhZU5hNTJJOQp5VUdNazNWZ29jTGNLaFZ2d0preVIyTDV0WFJ5enpFcEptNjVVWVdTSXRwUk5JNk9GYmV5Wkl3QTFWSnJMWlZVCjlCMnl6UngyeVkyaXorZngxYlFZZHRqZDZwU0hRQlQzdXh5NmdyTUx3QllUK3BxSW1aYjZ4U1JzQ044RDhsVXcKTlNueUhCd0VSQTJZSmRFN3ZIa1o2Z0kzMjI1MEdTOTRKei80NmVlRTRSYjR1bnIwbmdET0NSSzNlTmVZS0pkdgpCM2laUXFGVGs2VW1VUT09Ci0tLS0tRU5EIENFUlRJRklDQVRFLS0tLS0K\"\n",
      "    SERVER_CRT: \"LS0tLS1CRUdJTiBDRVJUSUZJQ0FURS0tLS0tCk1JSUQxRENDQXJ5Z0F3SUJBZ0lFQkw4VGhEQU5CZ2txaGtpRzl3MEJBUXNGQURCbU1Rc3dDUVlEVlFRR0V3SlYKVXpFTE1Ba0dBMVVFQ0F3Q1Rsa3hEekFOQmdOVkJBY01Ca0Z5Ylc5dWF6RU1NQW9HQTFVRUNnd0RTVUpOTVJjdwpGUVlEVlFRTERBNUVhV2RwZEdGc0lFRnpjMlYwY3pFU01CQUdBMVVFQXd3SlEyeHBaVzUwSUVOQk1CNFhEVEl6Ck1EZ3lPVEl5TlRZek4xb1hEVEkwTURneU9ESXlOVFl6TjFvd1l6RUxNQWtHQTFVRUJoTUNWVk14Q3pBSkJnTlYKQkFnTUFrNVpNUTh3RFFZRFZRUUhEQVpCY20xdmJtc3hEREFLQmdOVkJBb01BMGxDVFRFWE1CVUdBMVVFQ3d3TwpSR2xuYVhSaGJDQkJjM05sZEhNeER6QU5CZ05WQkFNTUJsTmxjblpsY2pDQ0FTSXdEUVlKS29aSWh2Y05BUUVCCkJRQURnZ0VQQURDQ0FRb0NnZ0VCQU0za2Nrank1dGV2d0hpTm1RL3JqaTd3K1RNSVRJanR2NmdKSVpiU0k4eG4KaXZlK09PdHhmOWhVZUNHMVBha3Vlcm9WdjMySjlFRDR5RWdlbVdQYzUwWHVhbE5ocXBwWk9oZCtrTGVyWmF3OQp6N1JqVk1JUnJJeG9zSkl1MWZ0NitWdDRyZTdpSjFhNUdSN1RNeENVL2E5Y3dzZThSRnVPSjlSWXM1d0JZQVB3CmIxQ1diWGQ3a0xjNEM1MC9wRzhTaUFsYmN5THp2bERLTDBwY29VOEdNdkRsNVdCVi8rdFhNRGNZb3lMWXhKSmMKeHJjc3RySm5xbFY5MnJlSU1BWXd3SnJCUWF1U2Zzd2pSNUFIVHNCajJRdjJ2Q29OSmUwTW5KTEUwZEhaQXFJNQpEK2FKdFdKQnpwMUFQWFQ1MytZUTEydmFPbW9mZXFQZDFtNlhLVE1SZEY4Q0F3RUFBYU9CakRDQmlUQUpCZ05WCkhSTUVBakFBTUIwR0ExVWREZ1FXQkJUYU9hUHVYbXRMRFRKVnYrK1ZZQmlRcjlnSENUQWZCZ05WSFNNRUdEQVcKZ0JUYU9hUHVYbXRMRFRKVnYrK1ZZQmlRcjlnSENUQVRCZ05WSFNVRUREQUtCZ2dyQmdFRkJRY0RBVEFMQmdOVgpIUThFQkFNQ0I0QXdHZ1lEVlIwUkJCTXdFWUlQYzJKekxtVjRZVzF3YkdVdVkyOXRNQTBHQ1NxR1NJYjNEUUVCCkN3VUFBNElCQVFDcWk3aWpUYjFpRnM3aHhuVHZSdkJYWXVQT0M0cTF5L0JMUDlubWJScmJUTnJtNldtOHprbGMKN3lmSXZKYmtDbm1YQTN1L2h2T09yVXRLS0JEWWYzNU9qaTg5NHRxRXR4YnBOdUFmQXI4STh6aGhQV0dFSXZVRQoxZGxaWkw3MzkwSzVWMXBhS2NlZFNjOFZYbGcvOUFodjZhbUxpMXRFdS8xM2l4YlFwUDZ1YVppM2JHbTVpNnI1ClIyRmZhcUVXR0hLZmNNNDVuQ3dHd1NQMk8rdGpXNHpmeGlaVGtmR1d3WlNweWtUWGxpRHNSblp0ZFFPTW1JNloKN051ZnpNaXQxQjBYcEpVdUJ3aHg2RVRlei9YdGdMbzMyL2VlMkt6ajRqaDhXNDBuY25pT1ZnV2FRY1pXMzNNUApQb1VQdG5aK09KTXpURFBPNGZJbURodDB0SDcybW5mRgotLS0tLUVORCBDRVJUSUZJQ0FURS0tLS0tCg==\"\n",
      "    SERVER_KEY: \"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\"\n",
      "    \n"
     ]
    }
   ],
   "source": [
    "cat env.yaml.initial"
   ]
  },
  {
   "cell_type": "markdown",
   "id": "eaf39cef-e988-4160-863e-43207dadc2f6",
   "metadata": {},
   "source": [
    "----\n",
    "\n",
    "### Step 5.25 Create a script to encrypt the environment section of the contract\n",
    "\n",
    "Create a convenience script to automate encrypting the environment section of the contract.\n"
   ]
  },
  {
   "cell_type": "code",
   "execution_count": 112,
   "id": "b8c4db39-b765-42cb-be51-07a610d0b646",
   "metadata": {},
   "outputs": [],
   "source": [
    "%%bash\n",
    "cat <<-EOF > short-flow.env\n",
    "# Create the env section of the contract and add the contents in the env.yaml file.\n",
    "\n",
    "#\n",
    "# This specifies a file will be encrypted and signed and is the primary output of this script.  \n",
    "# It is combined with the encrypted and signed workload section that is created by \n",
    "# another script (flow.signature which is one directory level higher)\n",
    "# Note: this file will also wind up one directory level higher\n",
    "#\n",
    "ENV_INITIAL=\"env.yaml.initial\"\n",
    "ENV_PLAIN=\"env.yaml.plaintext\"\n",
    "ENV=\"env.yaml\"\n",
    "\n",
    "#\n",
    "# This command adds the public signing key to the plaintext environment yaml.  This key is used inside \n",
    "# the Hyper Protect Container Runtime image to verify the signature over workload and environment sections of\n",
    "# the contract. \n",
    "#\n",
    "cat \\${ENV_INITIAL} ./pubSigningKey.yaml > \\${ENV_PLAIN}\n",
    "\n",
    "# Download certificate to encrypt contract for Hyper Protect Container Runtime:\n",
    "HPCR_rev=11\n",
    "CONTRACT_KEY=./ibm-hyper-protect-container-runtime-1-0-s390x-\\${HPCR_rev}-encrypt.crt\n",
    "curl https://cloud.ibm.com/media/docs/downloads/hyper-protect-container-runtime/ibm-hyper-protect-container-runtime-1-0-s390x-\\${HPCR_rev}-encrypt.crt > \\${CONTRACT_KEY}\n",
    "\n",
    "#\n",
    "# This variable holds a random password:\n",
    "#\n",
    "PASSWORD_ENV=\"\\$(openssl rand 32 | base64 -w0)\"\n",
    "\n",
    "#\n",
    "# This variable holds the output of the command pipe that\n",
    "# takes your plaintext environment yaml (\\$ENV_PLAIN) and encrypts it using the password that \n",
    "# was generated above (\\$PASSWORD_ENV) and then base64 encodes this encrypted environment yaml\n",
    "#\n",
    "# As long as nobody else knows your random password (\\$PASSWORD_ENV) your data is safe.  \n",
    "# But, the Hyper Protect Container Runtime has to encrypt it, so it needs your password. \n",
    "# How will it get that password securely?  Read the next set of comment lines to find out.\n",
    "#\n",
    "ENCRYPTED_ENV=\"\\$(echo -n \"\\$PASSWORD_ENV\" | base64 -d | openssl enc -aes-256-cbc -pbkdf2 -pass stdin -in \"\\$ENV_PLAIN\" | base64 -w0)\"\n",
    "\n",
    "#\n",
    "# This variable provides secure passage for your random password.  How?  \n",
    "# It encrypts it with the encryption key of the Hyper Protect Container Runtime (HPCR).\n",
    "# (A key that is encrypted by another key is often called a wrapped key).\n",
    "# Only the HPCR image has the private key which can decrypt this. It is protected from \n",
    "# access from any administrators.  So, malicious actors cannot do anything with this\n",
    "# wrapped key, even if they were able to get a hold of it.\n",
    "#\n",
    "ENCRYPTED_ENV_PASSWORD=\"\\$(echo -n \"\\$PASSWORD_ENV\" | base64 -d | openssl rsautl -encrypt -inkey \\$CONTRACT_KEY -certin | base64 -w0 )\"\n",
    "\n",
    "#\n",
    "# Use the following command to get the encrypted environment section of the contract:\n",
    "# This variable holds the output of a concatenation of a header, \"hyper-protect-basic\",\n",
    "# Your wrapped key, and your encrypted environment yaml.. \n",
    "#\n",
    "ENV_ENCRYPTED=\"hyper-protect-basic.\\${ENCRYPTED_ENV_PASSWORD}.\\${ENCRYPTED_ENV}\"\n",
    "#\n",
    "# The above variable writes the encrypted environment section to the directory one level above\n",
    "#\n",
    "echo \"\\$ENV_ENCRYPTED\" > \\$ENV\n",
    "EOF"
   ]
  },
  {
   "cell_type": "markdown",
   "id": "605876f8-d5d2-445c-8268-e34848e32b7c",
   "metadata": {},
   "source": [
    "---\n",
    "\n",
    "### Step 5.26 Create a script to generate a signing key\n",
    "\n",
    "Create a convenience script that will generate a key to sign the contract."
   ]
  },
  {
   "cell_type": "code",
   "execution_count": 111,
   "id": "6ea01b31-ba36-402f-aeab-cd991c95d817",
   "metadata": {},
   "outputs": [],
   "source": [
    "%%bash\n",
    "cat << EOF > flow.prepare\n",
    "# Use the following command to generate key pair to sign the contract \n",
    "openssl genrsa -aes128 -passout pass:test1234 -out private.pem 4096\n",
    "openssl rsa -in private.pem -passin pass:test1234 -pubout -out public.pem\n",
    "\n",
    "# The following command is an example of how you can get the signing key:\n",
    "key=\\$(awk -vRS=\"\\n\" -vORS=\"\\\\\\\\\\n\" '1' public.pem)\n",
    "# echo \"  signingKey: \\\"\\${key%\\\\\\\\n}\\\"\" > environment/pubSigningKey.yaml\n",
    "printf \"%s\" \"  signingKey: \\\"\\${key%\\\\\\\\n}\\\"\" > pubSigningKey.yaml\n",
    "EOF"
   ]
  },
  {
   "cell_type": "markdown",
   "id": "e8b18b9b-d6a8-4abe-81e1-570934e0ca03",
   "metadata": {},
   "source": [
    "---\n",
    "\n",
    "### Step 5.27 Create a script to sign the encrypted contract\n",
    "\n",
    "Create a convenience script to automate signing the encypted contract"
   ]
  },
  {
   "cell_type": "code",
   "execution_count": 60,
   "id": "fd179c5a-05a9-4b5b-aa06-c533c5801715",
   "metadata": {},
   "outputs": [],
   "source": [
    "%%bash\n",
    "cat << EOF > flow.signature\n",
    "# combine workload and environment\n",
    "cat workload.yaml env.yaml | tr -d '\\n' > contract.yaml\n",
    "\n",
    "# Sign the combination from workload and env being approved\n",
    "echo \\$( cat contract.yaml | openssl dgst -sha256 -sign private.pem -passin pass:test1234 | openssl enc -base64) | tr -d ' ' > signature.yaml\n",
    "\n",
    "# Create user data and add signature:\n",
    "echo \"workload: \\$(cat workload.yaml)\n",
    "env: \\$(cat env.yaml)\n",
    "envWorkloadSignature: \\$(cat signature.yaml)\" > user_data.yaml\n",
    "\n",
    "echo \"\"\n",
    "echo \"import `pwd`/user_data.yaml into User Data or copy and paste from below:\"\n",
    "echo \"\"\n",
    "\n",
    "cat user_data.yaml\n",
    "EOF"
   ]
  },
  {
   "cell_type": "markdown",
   "id": "6e89ca44-2fbe-4f7d-9e0b-75111ef575b8",
   "metadata": {},
   "source": [
    "---\n",
    "\n",
    "### Step 5.28 Create a script to produce the encrypted and signed contract\n",
    "\n",
    "Create a convenience script that will create an encrypted and signed contract using the prior scripts"
   ]
  },
  {
   "cell_type": "code",
   "execution_count": 61,
   "id": "3198dd3f-b9c4-439f-81bf-e0d529020e61",
   "metadata": {},
   "outputs": [],
   "source": [
    "%%bash\n",
    "cat << EOF > makeContract\n",
    ". ./flow.prepare\n",
    ". ./short-flow.env\n",
    ". ./flow.signature\n",
    "EOF"
   ]
  },
  {
   "cell_type": "markdown",
   "id": "e394b865-c38a-49b7-b622-919de57c5ac3",
   "metadata": {},
   "source": [
    "---\n",
    "\n",
    "### Step 5.29 Create the encrypted and signed contract\n",
    "\n",
    "Use the script to create the encrypted and signed contract"
   ]
  },
  {
   "cell_type": "code",
   "execution_count": 115,
   "id": "82064e45-005c-46c5-a201-b63386d2cffa",
   "metadata": {
    "scrolled": true,
    "tags": []
   },
   "outputs": [
    {
     "name": "stdout",
     "output_type": "stream",
     "text": [
      "Generating RSA private key, 4096 bit long modulus (2 primes)\n",
      ".............................................................++++\n",
      ".................................................................................++++\n",
      "e is 65537 (0x010001)\n",
      "writing RSA key\n",
      "  % Total    % Received % Xferd  Average Speed   Time    Time     Time  Current\n",
      "                                 Dload  Upload   Total   Spent    Left  Speed\n",
      "100  2606  100  2606    0     0  78969      0 --:--:-- --:--:-- --:--:-- 78969\n",
      "\n",
      "import /home/jovyan/labdir/secure-build-cli/user_data.yaml into User Data or copy and paste from below:\n",
      "\n",
      "workload: hyper-protect-basic.UxkAbpIPPLZB2LNybZ8PedWbaJkMzJz/taoVf/ybKySkgpJ55GeHkNgQPeoLEJUPG54wLyRJ4AIqn96qQDAmoiPqIy8e9ucV3MCUu0Ed5bphbJjWzDvCFOtHh7VutLVZbMdzDDMfCblkc2kJ8uVbXUdY1cktwqnM2FnNwJXX98xlNfljtc69JnVhAcUWpDCNYwALjcxyHcKWxeKRetDrMnCo66rMN7W85DnExUM17wjNh1WVw1w2UTURwApnKRtbDjJ2xkYDyovJqyJiWlBeeX1WWEOb014ft/XacbGjWuA7WZbStggxrR9U2dO06HnmvgrpwpGhlSHOT3j7BJaSz0me+ZBCvdmLDDZozbXynn1JRK6WIgR/aMdO7lCkteh6PfOES/vjhFCTQn8Yw+Padu9E3Ye8yQweqsXnpB1STL5TAuZk11y4Lhs4xvqrXHgCDuek1SSIe6wdV4UoEXjVZfBypxEvXjMfYkz8N2WmPyoRB3VW18YuPEk+RSe6tQyeur/jc0rNMQDeYdXUn1Aao0xXnQj7NO7b73qBJZfRyvgKFxib94CCyazjykmzRNKZPyci2SGkmNCKAnk0V+o7GqrO78IV1rvmwS2GTqKKSTh35ovDkXAijn/7+kWX+Ka7Jc888AnRapy45fy41LXQ4nxkVk+jELegPkWBwK4lCDY=.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\n",
      "env: hyper-protect-basic.SMaMdmP3FBNBVgr2rjw/Or2ej+U1uMfXcbe5ni3I9ia4FIavw9Klj6xgMbSuxt5G6SYGX9oYC29vUjDGAiWVA8JfWem7houkYsWY6afgtz4pCNmTG693fy9q7Vex1/RXmrSjR2V4TXItnRU0vgJJE4sAaWgKcfJcO7U9/RTGz74HJbu75d0PKkmOjJW0fCPMKAu5vCSRyvZnCF2je/oGaujOAltzUtUs4vzWRijCEHGc343nfYY6ot0+lG+VR95xe01nEMf4b6b+ZjUkKWfP5njHdAoRRnqliEACOmn9EJPXwT+EpUuruVjkL2AeXv3Yt2uhhBSZFz5+d2bgyxLhnL4gF22Xfl1kqXUmvZ8qsOX93FYEoGFKesLiLfnuFTYw7f2NZ0XuGinL8Flt0uUKeRjS2e1pBNB9hZgSAI1PXOmcH/DVskoEjj8jKFLnlb4oZ5kdNz82IxGoETcvN9Uws0oxgGA5YZaseNKp5BFKZflhuE62msYsVn/mBVLsnnSUFNEzKxOYs2GNpLicpudJ57V+pYFbY7uGnmuwPOzYJpUGwhgk6TyTBu27qnl+AohBBiV2Uys0pSsz03JGl/2Z7mXQK+yRfOxG65gH8SnGl0IZB3vJpq+9f6RpEgJsJ2wCvzueQe1TNtONtFUGoh9BI4BexpHQwtmKBoGjzjHqOys=.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\n",
      "envWorkloadSignature: w99/ZHuqfK8SscszFGo2aIcJjfx49gfBJWdu1pDA7pVyrefKQeFc6dc58WHdEpk17242Y8cmqZjatAlarHJgZobRA9PLsKD7Moe3k2nuCVPa5IluSeswvb/Oxp6wCCRMCMqqd8TF8HXN6ZJp0SyQAvx6JrOW279ehwDi853Pe9Xn12xmsue/EFuqg1Cgdf+qB7B6rOwus3lJdNa1yqY+zMWHYbyMXzWQs0mjYmlluYeE17cvqRQylaO//B+dvr5AWfnjZPr3fiNdrca6Mj/RmKT7HpTGCjpnZzkrFxcoBc/EY0/NXYq7EIlMVBlgaD0trR1/nX8cxfxb9fUJZa01JqLuXdZcoL9BEFHt6ZPAMcNolpxxa/i9zX+upvjjVf7wRbyN76on30tUOqbJpZHqsC07GpyBKHLDpO536FwDRr3s1b3Jz9cavhPGVfbnmdSdxK6JrBWnpn0HPPs/N/zZFcAv4S0GG+KKvmlUNf84MVBoPcc1aOA1zMXIH0grjylSgOlHY+Z/AXfQMZIxrul3OE11iQINPk5fHo8ELjoJoNo5jmhZVNPDTjltn3b7kqaqihs1tYyUMp9DZOEFOtsRgjNmIJqELEF+UOKinaf35qvfi6TMtiTvVoutar+CP+ZoD1VfHUz4c2MIHmGYAFkknSZrNuy/Di05gdgN1u8tFTc=\n"
     ]
    }
   ],
   "source": [
    "! . ./makeContract"
   ]
  },
  {
   "cell_type": "markdown",
   "id": "b062511b-facc-417c-a902-69cc43c706e9",
   "metadata": {},
   "source": [
    "---\n",
    "\n",
    "### Step 5.30 Display your signed contract\n",
    "\n",
    "See your signed contract that will use to deploy your secure build server"
   ]
  },
  {
   "cell_type": "code",
   "execution_count": 64,
   "id": "5677ee62-2967-483d-863f-3ee4cefcc11b",
   "metadata": {
    "scrolled": true,
    "tags": []
   },
   "outputs": [
    {
     "name": "stdout",
     "output_type": "stream",
     "text": [
      "workload: hyper-protect-basic.UxkAbpIPPLZB2LNybZ8PedWbaJkMzJz/taoVf/ybKySkgpJ55GeHkNgQPeoLEJUPG54wLyRJ4AIqn96qQDAmoiPqIy8e9ucV3MCUu0Ed5bphbJjWzDvCFOtHh7VutLVZbMdzDDMfCblkc2kJ8uVbXUdY1cktwqnM2FnNwJXX98xlNfljtc69JnVhAcUWpDCNYwALjcxyHcKWxeKRetDrMnCo66rMN7W85DnExUM17wjNh1WVw1w2UTURwApnKRtbDjJ2xkYDyovJqyJiWlBeeX1WWEOb014ft/XacbGjWuA7WZbStggxrR9U2dO06HnmvgrpwpGhlSHOT3j7BJaSz0me+ZBCvdmLDDZozbXynn1JRK6WIgR/aMdO7lCkteh6PfOES/vjhFCTQn8Yw+Padu9E3Ye8yQweqsXnpB1STL5TAuZk11y4Lhs4xvqrXHgCDuek1SSIe6wdV4UoEXjVZfBypxEvXjMfYkz8N2WmPyoRB3VW18YuPEk+RSe6tQyeur/jc0rNMQDeYdXUn1Aao0xXnQj7NO7b73qBJZfRyvgKFxib94CCyazjykmzRNKZPyci2SGkmNCKAnk0V+o7GqrO78IV1rvmwS2GTqKKSTh35ovDkXAijn/7+kWX+Ka7Jc888AnRapy45fy41LXQ4nxkVk+jELegPkWBwK4lCDY=.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\n",
      "env: |\n",
      "  type: env\n",
      "  logging:\n",
      "    logDNA:\n",
      "      hostname: syslog-a.us-east.logging.cloud.ibm.com\n",
      "      ingestionKey: 45e2900f3edecdfca23af743bbb1a59d\n",
      "      port: 6514\n",
      "  volumes:\n",
      "    hpsb:\n",
      "      seed: \"testing\"\n",
      "  env:\n",
      "    registry: \"docker.io/gmoney23/secure-docker-build\"\n",
      "    CLIENT_CRT: \"LS0tLS1CRUdJTiBDRVJUSUZJQ0FURS0tLS0tCk1JSUR3RENDQXFpZ0F3SUJBZ0lFQlRSalVUQU5CZ2txaGtpRzl3MEJBUXNGQURCbU1Rc3dDUVlEVlFRR0V3SlYKVXpFTE1Ba0dBMVVFQ0F3Q1Rsa3hEekFOQmdOVkJBY01Ca0Z5Ylc5dWF6RU1NQW9HQTFVRUNnd0RTVUpOTVJjdwpGUVlEVlFRTERBNUVhV2RwZEdGc0lFRnpjMlYwY3pFU01CQUdBMVVFQXd3SlEyeHBaVzUwSUVOQk1CNFhEVEl6Ck1EZ3lPVEl5TlRZeU9Wb1hEVEkwTURneU9ESXlOVFl5T1Zvd1l6RUxNQWtHQTFVRUJoTUNWVk14Q3pBSkJnTlYKQkFnTUFrNVpNUTh3RFFZRFZRUUhEQVpCY20xdmJtc3hEREFLQmdOVkJBb01BMGxDVFRFWE1CVUdBMVVFQ3d3TwpSR2xuYVhSaGJDQkJjM05sZEhNeER6QU5CZ05WQkFNTUJrTnNhV1Z1ZERDQ0FTSXdEUVlKS29aSWh2Y05BUUVCCkJRQURnZ0VQQURDQ0FRb0NnZ0VCQUtPVnNEM245bTZ1WnNETVNtN05kZWNkSUd4c0JVazBvcUFtdFVRUm9OL28KR2ViSDZVcHJQU0R2TGx5dC81K3BDM0NzeCtDaU9PV2xreVI0cUR5anVIcTRZN0hGZmljbmF4VVFwanN5YzFKVQpaSnlCaWhwcTgvMWxubVowL1BnMVlWdzJYQVVodlBGMlZ6QVYydXR6WWp4TURFdVBML1Rxdk9Ya3ZPOFlORDJQCjNhSGVJL3hrWGVlWEVmYmdNMUpOMWM0dUVKY21JWkZERWVJODF4S3J2d24zdlVYWWdVYmNwMHhpQzdnU0NUV1EKRUc2SVBmOElwNGpwWlhkQ1dGTDNEVyswYndFSlR6ZjhmK2VIUnhKZ3hsSmlOaitBYmtqWWpJNWc5NDltYlFmaApVRzk0RDRSSDY0YjZiSW8yc3lTTDdpT3IvSXFyL0xZcHRLRjk2Q2czZ3c4Q0F3RUFBYU41TUhjd0NRWURWUjBUCkJBSXdBREFkQmdOVkhRNEVGZ1FVMmptajdsNXJTdzB5VmIvdmxXQVlrSy9ZQndrd0h3WURWUjBqQkJnd0ZvQVUKMmptajdsNXJTdzB5VmIvdmxXQVlrSy9ZQndrd0hRWURWUjBsQkJZd0ZBWUlLd1lCQlFVSEF3SUdDQ3NHQVFVRgpCd01CTUFzR0ExVWREd1FFQXdJSGdEQU5CZ2txaGtpRzl3MEJBUXNGQUFPQ0FRRUFBZFBXY3d6NjAyVkxBdFhwCldTZk9QWmJ4d0d2ZU9GMWlyc3ZVU2pPckVYTWpUZXRWeHhSQWxIdXVIanlEVGF6OTRkSWhzdFB3eXp1dWpNa2oKM2lxTHBuNURzczh6Ykg0bGFlb09ZSUl3ZjcwWENMSFl5b3BNcWN4bnpZRnhjQUYvU0lQNmp3U015TjR1a01DYgpaUVNzZktIeEZVTHphUUtQb2ZVS0YzS1N4YTFMMkN0cVhyZ2lkMm1ERjZYWVJqSEkwWnZkMUI1ZWNSNkFISVowCnZYd2I2S0lHMFBFdEdhK2NnWVgyek14blBoTng5VXptZm5wV0dTaHNSa2hPNCtUdnJ1R1cwUk5IL3ErS1FFN3IKbk43MTFManU3N1hKdjZ4WXR4L25VSHkvQmIxSVJRelNUMmxraEN6SklScUR2Ukx6QmptclRYNnpOMHhxM2VwMApObnVoRVE9PQotLS0tLUVORCBDRVJUSUZJQ0FURS0tLS0tCg==\"\n",
      "    CLIENT_CA: \"LS0tLS1CRUdJTiBDRVJUSUZJQ0FURS0tLS0tCk1JSUR4akNDQXE2Z0F3SUJBZ0lFQlZVL2R6QU5CZ2txaGtpRzl3MEJBUXNGQURCbU1Rc3dDUVlEVlFRR0V3SlYKVXpFTE1Ba0dBMVVFQ0F3Q1Rsa3hEekFOQmdOVkJBY01Ca0Z5Ylc5dWF6RU1NQW9HQTFVRUNnd0RTVUpOTVJjdwpGUVlEVlFRTERBNUVhV2RwZEdGc0lFRnpjMlYwY3pFU01CQUdBMVVFQXd3SlEyeHBaVzUwSUVOQk1CNFhEVEl6Ck1EZ3lPVEl5TlRZeU9Wb1hEVEkxTURneU9ESXlOVFl5T1Zvd1pqRUxNQWtHQTFVRUJoTUNWVk14Q3pBSkJnTlYKQkFnTUFrNVpNUTh3RFFZRFZRUUhEQVpCY20xdmJtc3hEREFLQmdOVkJBb01BMGxDVFRFWE1CVUdBMVVFQ3d3TwpSR2xuYVhSaGJDQkJjM05sZEhNeEVqQVFCZ05WQkFNTUNVTnNhV1Z1ZENCRFFUQ0NBU0l3RFFZSktvWklodmNOCkFRRUJCUUFEZ2dFUEFEQ0NBUW9DZ2dFQkFNMW1SNk1rMkJ1ZGVsTW5IQ25lOWFvVUhXRC9sUWdvRElVWEN6R3YKb2RQa2loSkpNaloxTDdGNlk5SFA3YzhIZFQ2Tm9QVzhQVG4vNEloakZKK1FnNFVHa0pBNGxwSG11MVU0TEI4dApNWDFHTkdzS0diOTM3Y21CQTRnT3ZaOGFzOWJleENqVVl1MWdtRTBkRnUzNDVMQ2ZMOUdlUEdPUXJsQWMvWHRkCk4rOGx2MWtLalhrbzlqcldVRE1ScnBaOW5odnptVGNkUmZPNjdjWFhydnpyNXd3dS9JQXNSeEFVbXNmQm44Q3QKMUR3MHZia1NFUlFGRGxUT2hrbVJUUnNkSDBhT0Q4WEJtSWZTelk1cjNIYVZzUEVPbnFLcDdIVnpabElwVUxmTQp3b1hGU0VDUUw3UnBkdjZ5dEZ2TXVGWFRsSFVUK2xpL1gxSVNMcTRxZ3BOckpHc0NBd0VBQWFOOE1Ib3dIUVlEClZSME9CQllFRk5vNW8rNWVhMHNOTWxXLzc1VmdHSkN2MkFjSk1COEdBMVVkSXdRWU1CYUFGTm81bys1ZWEwc04KTWxXLzc1VmdHSkN2MkFjSk1Bd0dBMVVkRXdRRk1BTUJBZjh3SFFZRFZSMGxCQll3RkFZSUt3WUJCUVVIQXdJRwpDQ3NHQVFVRkJ3TUJNQXNHQTFVZER3UUVBd0lCQmpBTkJna3Foa2lHOXcwQkFRc0ZBQU9DQVFFQURxRDFZL2lzCi92NXRGZ1V3YTF6NkdoK3dZUnNXUW1DbEYrU1FsSU1MVTg1ZVNSaGxkYjRoT0hNVTJpakdBUHN5WGtUbmhuZjIKb2VXZWlYMU44K0x0ZjZydnJBc3B2TW1kVzhLRWJhMEZxNHQxVFdWUW9wclRHWmlyQVhQaTc3TEZhZU5hNTJJOQp5VUdNazNWZ29jTGNLaFZ2d0preVIyTDV0WFJ5enpFcEptNjVVWVdTSXRwUk5JNk9GYmV5Wkl3QTFWSnJMWlZVCjlCMnl6UngyeVkyaXorZngxYlFZZHRqZDZwU0hRQlQzdXh5NmdyTUx3QllUK3BxSW1aYjZ4U1JzQ044RDhsVXcKTlNueUhCd0VSQTJZSmRFN3ZIa1o2Z0kzMjI1MEdTOTRKei80NmVlRTRSYjR1bnIwbmdET0NSSzNlTmVZS0pkdgpCM2laUXFGVGs2VW1VUT09Ci0tLS0tRU5EIENFUlRJRklDQVRFLS0tLS0K\"\n",
      "    SERVER_CRT: \"LS0tLS1CRUdJTiBDRVJUSUZJQ0FURS0tLS0tCk1JSUQxRENDQXJ5Z0F3SUJBZ0lFQkw4VGhEQU5CZ2txaGtpRzl3MEJBUXNGQURCbU1Rc3dDUVlEVlFRR0V3SlYKVXpFTE1Ba0dBMVVFQ0F3Q1Rsa3hEekFOQmdOVkJBY01Ca0Z5Ylc5dWF6RU1NQW9HQTFVRUNnd0RTVUpOTVJjdwpGUVlEVlFRTERBNUVhV2RwZEdGc0lFRnpjMlYwY3pFU01CQUdBMVVFQXd3SlEyeHBaVzUwSUVOQk1CNFhEVEl6Ck1EZ3lPVEl5TlRZek4xb1hEVEkwTURneU9ESXlOVFl6TjFvd1l6RUxNQWtHQTFVRUJoTUNWVk14Q3pBSkJnTlYKQkFnTUFrNVpNUTh3RFFZRFZRUUhEQVpCY20xdmJtc3hEREFLQmdOVkJBb01BMGxDVFRFWE1CVUdBMVVFQ3d3TwpSR2xuYVhSaGJDQkJjM05sZEhNeER6QU5CZ05WQkFNTUJsTmxjblpsY2pDQ0FTSXdEUVlKS29aSWh2Y05BUUVCCkJRQURnZ0VQQURDQ0FRb0NnZ0VCQU0za2Nrank1dGV2d0hpTm1RL3JqaTd3K1RNSVRJanR2NmdKSVpiU0k4eG4KaXZlK09PdHhmOWhVZUNHMVBha3Vlcm9WdjMySjlFRDR5RWdlbVdQYzUwWHVhbE5ocXBwWk9oZCtrTGVyWmF3OQp6N1JqVk1JUnJJeG9zSkl1MWZ0NitWdDRyZTdpSjFhNUdSN1RNeENVL2E5Y3dzZThSRnVPSjlSWXM1d0JZQVB3CmIxQ1diWGQ3a0xjNEM1MC9wRzhTaUFsYmN5THp2bERLTDBwY29VOEdNdkRsNVdCVi8rdFhNRGNZb3lMWXhKSmMKeHJjc3RySm5xbFY5MnJlSU1BWXd3SnJCUWF1U2Zzd2pSNUFIVHNCajJRdjJ2Q29OSmUwTW5KTEUwZEhaQXFJNQpEK2FKdFdKQnpwMUFQWFQ1MytZUTEydmFPbW9mZXFQZDFtNlhLVE1SZEY4Q0F3RUFBYU9CakRDQmlUQUpCZ05WCkhSTUVBakFBTUIwR0ExVWREZ1FXQkJUYU9hUHVYbXRMRFRKVnYrK1ZZQmlRcjlnSENUQWZCZ05WSFNNRUdEQVcKZ0JUYU9hUHVYbXRMRFRKVnYrK1ZZQmlRcjlnSENUQVRCZ05WSFNVRUREQUtCZ2dyQmdFRkJRY0RBVEFMQmdOVgpIUThFQkFNQ0I0QXdHZ1lEVlIwUkJCTXdFWUlQYzJKekxtVjRZVzF3YkdVdVkyOXRNQTBHQ1NxR1NJYjNEUUVCCkN3VUFBNElCQVFDcWk3aWpUYjFpRnM3aHhuVHZSdkJYWXVQT0M0cTF5L0JMUDlubWJScmJUTnJtNldtOHprbGMKN3lmSXZKYmtDbm1YQTN1L2h2T09yVXRLS0JEWWYzNU9qaTg5NHRxRXR4YnBOdUFmQXI4STh6aGhQV0dFSXZVRQoxZGxaWkw3MzkwSzVWMXBhS2NlZFNjOFZYbGcvOUFodjZhbUxpMXRFdS8xM2l4YlFwUDZ1YVppM2JHbTVpNnI1ClIyRmZhcUVXR0hLZmNNNDVuQ3dHd1NQMk8rdGpXNHpmeGlaVGtmR1d3WlNweWtUWGxpRHNSblp0ZFFPTW1JNloKN051ZnpNaXQxQjBYcEpVdUJ3aHg2RVRlei9YdGdMbzMyL2VlMkt6ajRqaDhXNDBuY25pT1ZnV2FRY1pXMzNNUApQb1VQdG5aK09KTXpURFBPNGZJbURodDB0SDcybW5mRgotLS0tLUVORCBDRVJUSUZJQ0FURS0tLS0tCg==\"\n",
      "    SERVER_KEY: \"LS0tLS1CRUdJTiBQR1AgTUVTU0FHRS0tLS0tCgpoUUVNQTZIRmd5WHl0dkdvQVFnQWpUc1ZscUNLTHNZRVp0VzJqWmtjaEZhY3FCTUFUWXVuWU1EanJyVkpHNy9jCjNhT0dlQjFtdU1YcUZKOTJuU0hPUkJXeDZlNm11b3pXSTBuQVB4WXRUM0hGVnVKTlI3a3BMazltVC9ERGJHQUwKNEk5eDlyRmthZ1BvK1ZkeHdvRkdYUW9FempKeHNLQnZIMysxdmFCY2toNzAyZEdTay84QTcrOHIxYkpqREx2MApQVldEakxBU080dDJXSUtzc3hoVTBVL3NPOUVDVHlEUDlzajB4bkhvZFo4aS9oeTVlelUvb1ZnaElrbHdFaFpiCk4vL2txWmhueEV1RWcwRjR1UHIwUjlod2p1cUhmTDFvM3FieEJDejdkZ0JhcnNsRlRMR2N6cWFZUTM2SWRGN2MKUElpY2o3djFFdWZvVmlPdCtiNGg1TFk3aEpMNWhWWGZhUXh3RlNidy90THFBVGFHZXFkdnhCV2t1ZDllbG9yWgp0bzhtNEM1KzN2VVh6OGF2blJpeXk0VjRDR3JpSnFjV0ZqYms0M204dzIxVnYveENtaUF6V3YyWGl3TWlPRW0wCjRHZFRpaFlpOGdlMWNmK3BpK3M2ZE94VklCb0RwdFdETHczbE1aZkxna3FTVGhUVGhVQnRGQ2xZb0FUNm0zNGoKSUZtV2pSdndqbkVsTWdJb2s1bW9iWWxDeVE0YksxNXJwakQ1NXI1d2RWZ1VsV2FtZURJMXc3bDVIcUxKMEZPOQpLL1BrcmJWUGp0Yko1N3VZdUFWQ1dsQnBmaUhmczlSUG0rK1VYOEhrVkFEUXlPUkxpS0JlRzlWN2IyQklucUZCCnRpNWtsR2pKOWF1WEVFWGRPVUd3US9BZmMySVdFNS9VYTRTSFp0YzVqTUNhN2l0VzF6RzBUNy9WV3A2cGpwbC8KL0x0VmgyRmRjOUZMWFJCUWoxSXRWTm50Z1UxeS9MU1FoejB6Zk5pYTBCR3JlNFRFV1hoVTIvUnJCQzFFRnk5Rgp2TVd3dlB4bmlOcnRNZHRYcDZ4T1o0L1dPVEhGLzU3OEpSZmVrdHh1ZElsK093SWwwRXRHSEIvSTdqRm1VcDQvCmlIMldrY1hSTnIxV1R5QTNVWU5NcG1tOUg0dVdCZlorOWhBdVl3YTlNRDlwOEJaOHJoT3hzV2dlVlNaa1FNdkIKK3FwbHdnSlVYUUVEanJYNVYwYUczS3ViL2RnSzlhWU5QclpUVEorNmpneVJBaTA5Ty92THFBVzJRWVgxTlk4SwpoRk8zSGNLUU9zaVNtS0hlUDVJQTZPdFFrbjVDbWJqcVJ2VXpZT1cvcDZPWVVTRUYwNFNPRjBMWWthZ2g5NXBDCkovVU9QcnVUVFJLSHYwQklMelhWRTk3aVB6V3ZhSU5SV3ZicjRCT2RCSUZGTTgxcUltVzQ4c2lzNzFzLzlYTHcKLzBlZDBTbmN6M2hjRnN1ZXpUUVJ3YTJwRmpTSGhROUY5c01MOUZwdDRXalQxUHB5amlLWDdiQWs2Y3JVcjlwRQpSTEphdHpWb0Y1V3BYSkxGbUZwZ0FEbkFjbTNGdSs1dkdDUFZuekRvMTVHQm9kOU41WHNyU05TT0tzbWN5RGFPCnNES0ltalZRYk5tMVpKUElvb0djZUtJcnRNK1JQQmRvcGJUZDV4N1NURExQWUFVSWpxN2dVTG90OE5YU0NIZGEKRVlDMjQ4SFdzNkZvTzVKOXRsRnNZNThNWmNLUE1IZGtrMGp6ME9nYVZYS216RnkwQldWYmN3Q1EwZkIvLzNOdQptUXpORWVSbDJMUGRTUjc1YzAybFA2NGxEdU9GR1NHS1R0Wm5yRTdVTVhIdXllQ1hSakVGd1JNY3lrdHJ4UHZQCmNTWGJhdlU4RUIreGorb0ExRU5RQzAybjg0Si9WbmJXa3EzRUQ4dk4vamRhcHUycDFpQlNOWS8wampJbkExejYKcnQwelMzVGJDdEIrdDd1NFZDdkxFMGZUWE5kZjJpazlzSlUwNTE2ck8yeG44eTBvb2ppa2FlYmVDTnpSbW9ETQorNXBTMWI0aEdVSlkyNTFscUZCUEtDWXVhZmhPdnVZUVd1U0RRS3V1dXFWcjRMM0VFWTZUQ0JaT0dhWjUwN3c4CllrcGlzTHNKSkpHbzM5ZnU4SnVRcUx3YjBWcVNVYzh0cVQwQjlhM0hTam05cUpFVnZ3Ym5aVUtJcVVXRlY5cjcKZVNwMEpTeXV2ZmlmdTVXNjY0U0JiSklIMVNBamFpZVpoWlppSDhWdVJOTnBjdTlHcmMvbCthQ0FiYk9MNk5CNApZY0NneGl4YVdyYXpZSDNKbTZxaEUwWnhlTHV3dlN0eWgvbVBVTW11b2g2OENmT3lrZzFEcjhobG1BRHREcWJ5CkgyK0hNZVdvU3JEOGhxK2RydG1ka3lzZVNtbzN3MzdqNkRWcmFObjdzbllOcERmTDlEdzdNTGw0ekMzczdyY3kKd0tUQnljSHRZQUFTUWYxTkxCOG4yeXJRMndqNGlRS1g5L0s5UGFCMGErZk9NNHZPSnU3a0hSQysrNjBCVjZsRApzWUZGMXJBNnR2Wi9CNUxhRm03dE9wMDF5UEI5TnUxS1FMTWVvUG42NldvWE9zK3lPR1lmYnRXclNZZnV1MDFFCms2N0QzSVFjQWVkMFZhQkszV1BsNWkzVUdtY01EUmdWMDF2UjRoU0thSFhYWWNMNldSa1BOZEdDbkNXS1I1SkUKbmpQMkhpaTRRRDJPZ2YweHZIMThKUDVLTExJWE9kSkNlU3ZteU1QbWFLYVczTWt1Mkw4a01YdVJmUEN0RU9HaApuS1lmdWU0S3BXSFFNQk5pK08xWHc3THJaNG1IR0E1cUY1UVFvd2t4Y0lpRWhBOFFMblNTSG04dlpZWm1BM3poClhwZ0w1aHpZWUNwYndPMHEwN01qdUo0cjNnPT0KPTZmWmIKLS0tLS1FTkQgUEdQIE1FU1NBR0UtLS0tLQo=\"\n",
      "    \n"
     ]
    }
   ],
   "source": [
    "! cat user_data.yaml"
   ]
  },
  {
   "cell_type": "markdown",
   "id": "d6d640eb-043d-4401-bda5-fecc0d0442b8",
   "metadata": {},
   "source": [
    "---\n",
    "\n",
    "### Step 5.31 Set your instance name via a variable\n",
    "\n",
    "Set your HPVS for VPC instance name as a variable for later use by running the below code block."
   ]
  },
  {
   "cell_type": "code",
   "execution_count": 114,
   "id": "793f7468-e2a3-4f88-a0b2-42c020ce73e6",
   "metadata": {},
   "outputs": [
    {
     "name": "stdout",
     "output_type": "stream",
     "text": [
      "env: instance=secure-build-server\n"
     ]
    }
   ],
   "source": [
    "%set_env instance=secure-build-server"
   ]
  },
  {
   "cell_type": "markdown",
   "id": "44dc4313-53c0-4718-a6e5-3117bd63e457",
   "metadata": {
    "tags": []
   },
   "source": [
    "---\n",
    "\n",
    "### Step 5.32 Deploy the Hyper Protect Virtual Servers for VPC Secure Build Server\n",
    "\n",
    "Use your encrypted and signed contract to deploy a secure-execution enabled guest using Hyper Protect Virtual Servers for VPC"
   ]
  },
  {
   "cell_type": "code",
   "execution_count": 116,
   "id": "b3f566a8-01f7-414a-9bc4-5171d29b364c",
   "metadata": {},
   "outputs": [
    {
     "name": "stdout",
     "output_type": "stream",
     "text": [
      "Creating instance \u001b[36;1msecure-build-server\u001b[0m in resource group \u001b[36;1mdefault\u001b[0m under account \u001b[36;1mIBM\u001b[0m as user \u001b[36;1mGarrett.Lee.Woodworth@ibm.com\u001b[0m...\n",
      "\u001b[1m\u001b[0m                                      \u001b[1m\u001b[0m   \n",
      "\u001b[36;1mID\u001b[0m                                    0757_234fdad9-c88c-4886-a31f-ee08ffd48923   \n",
      "\u001b[36;1mName\u001b[0m                                  secure-build-server   \n",
      "\u001b[36;1mCRN\u001b[0m                                   crn:v1:bluemix:public:is:us-east-1:a/5ddc6205e6ebbdc9348ec241cf1f51a8::instance:0757_234fdad9-c88c-4886-a31f-ee08ffd48923   \n",
      "\u001b[36;1mStatus\u001b[0m                                pending   \n",
      "\u001b[36;1mAvailability policy on host failure\u001b[0m   restart   \n",
      "\u001b[36;1mStartable\u001b[0m                             true   \n",
      "\u001b[36;1mProfile\u001b[0m                               bz2e-1x4   \n",
      "\u001b[36;1mArchitecture\u001b[0m                          s390x   \n",
      "\u001b[36;1mvCPU Manufacturer\u001b[0m                     ibm   \n",
      "\u001b[36;1mvCPUs\u001b[0m                                 1   \n",
      "\u001b[36;1mMemory(GiB)\u001b[0m                           4   \n",
      "\u001b[36;1mBandwidth(Mbps)\u001b[0m                       2000   \n",
      "\u001b[36;1mVolume bandwidth(Mbps)\u001b[0m                500   \n",
      "\u001b[36;1mNetwork bandwidth(Mbps)\u001b[0m               1500   \n",
      "\u001b[36;1mLifecycle Reasons\u001b[0m                     \u001b[1mCode\u001b[0m   \u001b[1mMessage\u001b[0m      \n",
      "\u001b[36;1m\u001b[0m                                      \u001b[36;1m-\u001b[0m      -      \n",
      "\u001b[36;1m\u001b[0m                                         \n",
      "\u001b[36;1mLifecycle State\u001b[0m                       pending   \n",
      "\u001b[36;1mMetadata service\u001b[0m                      \u001b[1mEnabled\u001b[0m   \u001b[1mProtocol\u001b[0m   \u001b[1mResponse hop limit\u001b[0m      \n",
      "\u001b[36;1m\u001b[0m                                      \u001b[36;1mfalse\u001b[0m     http       1      \n",
      "\u001b[36;1m\u001b[0m                                         \n",
      "\u001b[36;1mImage\u001b[0m                                 \u001b[1mID\u001b[0m                                          \u001b[1mName\u001b[0m      \n",
      "\u001b[36;1m\u001b[0m                                      \u001b[36;1mr014-282de74a-2a6d-4a5b-837a-f9c4329576dc\u001b[0m   ibm-hyper-protect-container-runtime-1-0-s390x-11      \n",
      "\u001b[36;1m\u001b[0m                                         \n",
      "\u001b[36;1mVPC\u001b[0m                                   \u001b[1mID\u001b[0m                                          \u001b[1mName\u001b[0m      \n",
      "\u001b[36;1m\u001b[0m                                      \u001b[36;1mr014-8cf567dc-da87-4567-93c4-c41ceca06436\u001b[0m   secure-build-vpc      \n",
      "\u001b[36;1m\u001b[0m                                         \n",
      "\u001b[36;1mZone\u001b[0m                                  us-east-1   \n",
      "\u001b[36;1mResource group\u001b[0m                        \u001b[1mID\u001b[0m                                 \u001b[1mName\u001b[0m      \n",
      "\u001b[36;1m\u001b[0m                                      \u001b[36;1m6f357188ee3a42ea8a9a252d66b8c9d5\u001b[0m   default      \n",
      "\u001b[36;1m\u001b[0m                                         \n",
      "\u001b[36;1mCreated\u001b[0m                               2023-08-30T00:06:35+00:00   \n",
      "\u001b[36;1mBoot volume\u001b[0m                           \u001b[1mID\u001b[0m   \u001b[1mName\u001b[0m   \u001b[1mAttachment ID\u001b[0m                               \u001b[1mAttachment name\u001b[0m      \n",
      "\u001b[36;1m\u001b[0m                                      \u001b[36;1m-\u001b[0m    -      0757-1c9c4bae-9714-4380-a973-e1a071d1ce4a   unless-dramatic-underpaid-greeting      \n",
      "\u001b[36;1m\u001b[0m                                         \n",
      "\u001b[36;1mData volumes\u001b[0m                          \u001b[1mID\u001b[0m   \u001b[1mName\u001b[0m   \u001b[1mAttachment ID\u001b[0m                               \u001b[1mAttachment name\u001b[0m      \n",
      "\u001b[36;1m\u001b[0m                                      \u001b[36;1m-\u001b[0m    -      0757-aaa978ca-86dc-499c-81d2-25036af8ba82   thinning-grove-unceded-nervy      \n",
      "\u001b[36;1m\u001b[0m                                         \n"
     ]
    }
   ],
   "source": [
    "! ibmcloud is instance-create $instance $vpc $zone bz2e-1x4 $subnet --image r014-282de74a-2a6d-4a5b-837a-f9c4329576dc --volume-attach '[{\"volume\": {\"name\":\"secure-build-volume\", \"capacity\":10, \"profile\": {\"name\": \"general-purpose\"},\"user_tags\": [\"secure-build\"]}}]' --user-data @user_data.yaml"
   ]
  },
  {
   "cell_type": "markdown",
   "id": "2b77299d-b008-47de-b17a-54b327a436ec",
   "metadata": {},
   "source": [
    "---\n",
    "\n",
    "### Step 5.33 Check the status of your Secure Build Server HPVS for VPC Instance\n",
    "\n",
    "Check the status of your secure build instance by checking the logs of your deployment in LogDNA.\n",
    "\n",
    "If you have for some reason closed your LogDNA instance, navigate to the IBM Cloud UI (signing in if necessary) via [this link](https://cloud.ibm.com/observe/logging) which will take you to your logging instances. Then, click the blue **Open Dashboard** button in the upper right for the logDNA instance you are using for this lab.\n",
    "\n",
    "Wait a few minutes for logs to appear and see the container come up in the logs before moving on to the next step.\n",
    "\n",
    "If there are issues with your deployment such as no logs appearing after 5 minutes contact an instructor for help getting unraveled."
   ]
  },
  {
   "cell_type": "markdown",
   "id": "f290d281-35f9-481b-b314-151860d58ed0",
   "metadata": {},
   "source": [
    "---\n",
    "\n",
    "### Step 5.34 Get the network interface card (nic) for your instance\n",
    "\n",
    "Get the network interface card for your instance and save it as a variable by entering it into the next code block after the = sign and running the code block."
   ]
  },
  {
   "cell_type": "code",
   "execution_count": 117,
   "id": "353ec1ca-a1b6-4534-84af-e90b503b51c8",
   "metadata": {},
   "outputs": [
    {
     "name": "stdout",
     "output_type": "stream",
     "text": [
      "Listing network interfaces of instance \u001b[36;1msecure-build-server\u001b[0m under account \u001b[36;1mIBM\u001b[0m as user \u001b[36;1mGarrett.Lee.Woodworth@ibm.com\u001b[0m...\n",
      "\u001b[1mID\u001b[0m                                          \u001b[1mName\u001b[0m      \u001b[1mType\u001b[0m      \u001b[1mSubnet\u001b[0m                \u001b[1mReserved IP\u001b[0m   \u001b[1mSecurity groups\u001b[0m                      \u001b[1mFloatIPs\u001b[0m   \u001b[1mCreated\u001b[0m                     \u001b[1mStatus\u001b[0m      \u001b[1mAllow source IP spoofing\u001b[0m   \u001b[1mSpeed\u001b[0m   \n",
      "\u001b[36;1m0757-71deb109-5e12-403f-b49b-4e87f8c47a83\u001b[0m   primary   primary   secure-build-subnet   10.241.0.5    curvature-unmanaged-humming-uptown   -          2023-08-30T00:06:35+00:00   available   false                      1500   \n"
     ]
    }
   ],
   "source": [
    "! ibmcloud is instance-network-interfaces $instance"
   ]
  },
  {
   "cell_type": "code",
   "execution_count": 118,
   "id": "92c43eb9-a897-447a-96e7-e908df757ecf",
   "metadata": {},
   "outputs": [
    {
     "name": "stdout",
     "output_type": "stream",
     "text": [
      "env: nic=0757-71deb109-5e12-403f-b49b-4e87f8c47a83\n"
     ]
    }
   ],
   "source": [
    "%set_env nic="
   ]
  },
  {
   "cell_type": "markdown",
   "id": "f444c312-796b-46b6-ad2f-1e926186f469",
   "metadata": {},
   "source": [
    "---\n",
    "\n",
    "### Step 5.35 Create a dedicated IP for your instance\n",
    "\n",
    "Create a floating IP to access your instance with using the following command."
   ]
  },
  {
   "cell_type": "code",
   "execution_count": 119,
   "id": "1fac8f50-0725-42fb-900f-7a40ed3bca14",
   "metadata": {},
   "outputs": [
    {
     "name": "stdout",
     "output_type": "stream",
     "text": [
      "Creating floating IP \u001b[36;1msecure-build-fip\u001b[0m in resource group \u001b[36;1mdefault\u001b[0m under account \u001b[36;1mIBM\u001b[0m as user \u001b[36;1mGarrett.Lee.Woodworth@ibm.com\u001b[0m...\n",
      "\u001b[1m\u001b[0m                 \u001b[1m\u001b[0m   \n",
      "\u001b[36;1mID\u001b[0m               r014-c758ef14-5575-49be-9467-8d6cb667229f   \n",
      "\u001b[36;1mAddress\u001b[0m          150.239.84.206   \n",
      "\u001b[36;1mName\u001b[0m             secure-build-fip   \n",
      "\u001b[36;1mCRN\u001b[0m              crn:v1:bluemix:public:is:us-east-1:a/5ddc6205e6ebbdc9348ec241cf1f51a8::floating-ip:r014-c758ef14-5575-49be-9467-8d6cb667229f   \n",
      "\u001b[36;1mStatus\u001b[0m           available   \n",
      "\u001b[36;1mZone\u001b[0m             us-east-1   \n",
      "\u001b[36;1mCreated\u001b[0m          2023-08-30T00:07:17+00:00   \n",
      "\u001b[36;1mTarget\u001b[0m           \u001b[1mID\u001b[0m                                          \u001b[1mTarget type\u001b[0m         \u001b[1mInstance ID\u001b[0m                                 \u001b[1mTarget interface name\u001b[0m   \u001b[1mTarget interface private IP\u001b[0m      \n",
      "\u001b[36;1m\u001b[0m                 \u001b[36;1m0757-71deb109-5e12-403f-b49b-4e87f8c47a83\u001b[0m   network_interface   0757_234fdad9-c88c-4886-a31f-ee08ffd48923   primary                 10.241.0.5      \n",
      "\u001b[36;1m\u001b[0m                    \n",
      "\u001b[36;1mResource group\u001b[0m   default   \n"
     ]
    }
   ],
   "source": [
    "! ibmcloud is floating-ip-reserve secure-build-fip --nic $nic"
   ]
  },
  {
   "cell_type": "markdown",
   "id": "b59f009e-c458-4e5a-a7a9-27367eaf34d0",
   "metadata": {},
   "source": [
    "---\n",
    "\n",
    "### Step 5.36 Save your IP as a variable\n",
    "\n",
    "Save the `Address` field of the above command's output (your floating ip address) as a variable for later use by pasting it after the = sign in the code block below and then running the code block."
   ]
  },
  {
   "cell_type": "code",
   "execution_count": 120,
   "id": "55b2edc2-91f2-4e16-8cea-6427957ded55",
   "metadata": {},
   "outputs": [
    {
     "name": "stdout",
     "output_type": "stream",
     "text": [
      "env: sb_ip=150.239.84.206\n"
     ]
    }
   ],
   "source": [
    "%set_env sb_ip="
   ]
  },
  {
   "cell_type": "markdown",
   "id": "58e52530-8624-439f-bf9c-a233f5dbc39c",
   "metadata": {},
   "source": [
    "---\n",
    "\n",
    "### Step 5.37 Set your IP address to the hostname of your secure build container\n",
    "\n",
    "Map your secure build container's IP to hostname in /etc/hosts"
   ]
  },
  {
   "cell_type": "code",
   "execution_count": 121,
   "id": "acfe5a30-fe9a-49da-92f5-756a521ba125",
   "metadata": {},
   "outputs": [
    {
     "name": "stdout",
     "output_type": "stream",
     "text": [
      "150.239.84.206 sbs.example.com\n"
     ]
    }
   ],
   "source": [
    "! echo \"$sb_ip sbs.example.com\" | sudo tee -a /etc/hosts"
   ]
  },
  {
   "cell_type": "markdown",
   "id": "detailed-monte",
   "metadata": {},
   "source": [
    "## Securely Build the Bitcoin Wallet Application\n",
    "---\n",
    "\n",
    "### Step 6.1 Check the status of your Secure Build Server\n",
    "\n",
    "Run the following command to check the status of your Secure Build Server instance. The value of the _status_ field in the output should be empty, i.e., `\"status\": \"\"`:"
   ]
  },
  {
   "cell_type": "code",
   "execution_count": 126,
   "id": "jewish-italy",
   "metadata": {},
   "outputs": [
    {
     "name": "stdout",
     "output_type": "stream",
     "text": [
      "INFO:__main__:status: response={\n",
      "    \"build_image_tag\": \"1.3.0.11\",\n",
      "    \"build_name\": \"\",\n",
      "    \"image_tag\": \"\",\n",
      "    \"manifest_key_gen\": \"\",\n",
      "    \"manifest_public_key\": \"\",\n",
      "    \"status\": \"github cloned\"\n",
      "}\n"
     ]
    }
   ],
   "source": [
    "! ./build.py status --env sbs-config.json"
   ]
  },
  {
   "cell_type": "markdown",
   "id": "numeric-sacramento",
   "metadata": {},
   "source": [
    "---\n",
    "\n",
    "### Step 6.2 Initialize the configuration for your Secure Build Server instance\n",
    "\n",
    "Run the following code cell to initialize the configuration for your Secure Build Server instance. The status of the output should be `OK`:"
   ]
  },
  {
   "cell_type": "code",
   "execution_count": 124,
   "id": "aggregate-combine",
   "metadata": {},
   "outputs": [
    {
     "name": "stdout",
     "output_type": "stream",
     "text": [
      "INFO:__main__:init: response={\n",
      "    \"status\": \"OK\"\n",
      "}\n"
     ]
    }
   ],
   "source": [
    "! ./build.py init --env sbs-config.json"
   ]
  },
  {
   "cell_type": "markdown",
   "id": "insured-material",
   "metadata": {},
   "source": [
    "---\n",
    "\n",
    "### Step 6.3 Start the build of your sample secure bitcoin wallet application image\n",
    "\n",
    "The code cell below will start the build of your application image. The command returns quickly, as soon as it submits the request to start the build.  Your status message from the command output should say `OK: async build started`, which indicates that the build of your image has been started up on your Secure Build Server container. The command does not wait for the build to complete. The build will take about twenty minutes. Try to check out the next two steps before you take a break.\n",
    "\n",
    "Run the below code cell to start the your build:"
   ]
  },
  {
   "cell_type": "code",
   "execution_count": 125,
   "id": "irish-advocate",
   "metadata": {},
   "outputs": [
    {
     "name": "stdout",
     "output_type": "stream",
     "text": [
      "INFO:__main__:build: response={\n",
      "    \"status\": \"OK: async build started\"\n",
      "}\n"
     ]
    }
   ],
   "source": [
    "! ./build.py build --env sbs-config.json"
   ]
  },
  {
   "cell_type": "markdown",
   "id": "thermal-plasma",
   "metadata": {},
   "source": [
    "---\n",
    "\n",
    "### Step 6.4 Check the status of your application image build\n",
    "\n",
    "Check the status of your build by running the code cell below. You can check it periodically—your build should take about twenty minutes to complete. You can run this code cell periodically, as well as the command in the subsequent code cell (_Step 6.9_) which displays the log messages from the build.  For now, check the status by running the code cell below.  Your build has completed successfully once the output of the code cell has the value of *success* in the *status* field:"
   ]
  },
  {
   "cell_type": "code",
   "execution_count": 87,
   "id": "widespread-skirt",
   "metadata": {},
   "outputs": [
    {
     "name": "stdout",
     "output_type": "stream",
     "text": [
      "INFO:__main__:status: response={\n",
      "    \"build_image_tag\": \"1.3.0.11\",\n",
      "    \"build_name\": \"\",\n",
      "    \"image_tag\": \"\",\n",
      "    \"manifest_key_gen\": \"\",\n",
      "    \"manifest_public_key\": \"\",\n",
      "    \"status\": \"github cloned\"\n",
      "}\n"
     ]
    }
   ],
   "source": [
    "! ./build.py status --env sbs-config.json"
   ]
  },
  {
   "cell_type": "markdown",
   "id": "complete-passing",
   "metadata": {},
   "source": [
    "In the above code cell, until the build completes, you may see several different statuses, including:\n",
    "\n",
    "_cleaned up_   This status can appear at the beginning of the build but you may not see it as the status quickly changes to _github cloned_.\n",
    "\n",
    "_github cloned_  This status appears most of the time as this status remains until the image build is complete, and this takes the largest amount of the entire build time.\n",
    "\n",
    "_image built_  Once the image is built, but before the push of the image into your Docker Hub account is complete, you may see this status.\n",
    "\n",
    "_image pushed_ Once the image has been pushed to your Docker Hub account, you may see this status, but usually the build completes very soon afterwards, so you may not see this status, as it should hopefully quickly change to _success_ status.\n",
    "\n",
    "_success_ Once the secure build process has completed successfully, you will see this status. Once you see this status, you are free to move on (Step 6.10). Remember, you can run the command to display the build log periodically (Step 6.9) while you are waiting for this _success_ status. \n",
    "\n",
    "---\n",
    "\n",
    "### Step 6.5 View the log from your application image build\n",
    "\n",
    "Your secure image build will produce a lot of output in its log. \n",
    "\n",
    "You can check the log of your build by running the below code cell. \n",
    "\n",
    "**Jupyter Notebook tip 1:** In some environments this output may be placed in a scrollable window, but in other environments all of the log output may be placed into the notebook, which makes navigating to the rest of the Notebook more difficult.  If this happens to you, you can enable scrolling by clicking in the output, then right-click and choose _Enable Scrolling for Outputs_. This will place the output into a scrollable window. \n",
    "\n",
    "**Jupyter Notebook tip 2:** Additionally, you can clear the output of this command from your Jupyter Notebook by clicking within the output, then right-click and choose _Clear Outputs_.  (The build logs are retained on the Secure Build Server and can be retrieved at any time).\n",
    "\n",
    "**Jupyter Notebook tip 3:** Running a code cell clears the output from any previous execution of the code cell, so if you want to view the log more than once, you don't need to clear the output as described in the tip given in the preceding paragraph."
   ]
  },
  {
   "cell_type": "code",
   "execution_count": 129,
   "id": "finnish-azerbaijan",
   "metadata": {
    "scrolled": true,
    "tags": []
   },
   "outputs": [
    {
     "name": "stdout",
     "output_type": "stream",
     "text": [
      "INFO:__main__:2023-08-30 00:11:04,584  build_task               INFO    starting a build\n",
      "INFO:__main__:2023-08-30 00:11:04,584  build_task               INFO    cleaning up the local github repo and the github access credential\n",
      "INFO:__main__:2023-08-30 00:11:04,585  clean_up                 INFO    github_dir=secure-bitcoin-wallet\n",
      "INFO:__main__:2023-08-30 00:11:04,585  build_task               INFO    cloning a github repo\n",
      "INFO:__main__:2023-08-30 00:11:04,585  clone_github_repo        INFO    github_host=github.com\n",
      "INFO:__main__:2023-08-30 00:11:04,585  clone_github_repo        INFO    github_dir=secure-bitcoin-wallet\n",
      "INFO:__main__:2023-08-30 00:11:04,585  run_response             INFO    cmd=ssh-keyscan github.com\n",
      "INFO:__main__:2023-08-30 00:11:04,585  run_response             INFO    env=null\n",
      "INFO:__main__:2023-08-30 00:11:04,585  run_response             INFO    args=ssh-keyscan+github.com\n",
      "INFO:__main__:2023-08-30 00:11:04,758  run_response             INFO    run_response: (stdout) github.com ssh-rsa AAAAB3NzaC1yc2EAAAADAQABAAABgQCj7ndNxQowgcQnjshcLrqPEiiphnt+VTTvDP6mHBL9j1aNUkY4Ue1gvwnGLVlOhGeYrnZaMgRK6+PKCUXaDbC7qtbW8gIkhL7aGCsOr/C56SJMy/BCZfxd1nWzAOxSDPgVsmerOBYfNqltV9/hWCqBywINIR+5dIg6JTJ72pcEpEjcYgXkE2YEFXV1JHnsKgbLWNlhScqb2UmyRkQyytRLtL+38TGxkxCflmO+5Z8CSSNY7GidjMIZ7Q4zMjA2n1nGrlTDkzwDCsw+wqFPGQA179cnfGWOWRVruj16z6XyvxvjJwbz0wQZ75XK5tKSb7FNyeIEs4TT4jk+S4dhPeAUC5y+bDYirYgM4GC7uEnztnZyaVWQ7B381AK4Qdrwt51ZqExKbQpTUNn+EjqoTwvqNj4kqx5QUCI0ThS/YkOxJCXmPUWZbhjpCg56i+2aB6CmK2JGhn57K5mj0MNdBXA4/WnwH6XoPWJzK5Nyu2zB3nAZp+S5hpQs+p1vN1/wsjk=\n",
      "INFO:__main__:github.com ecdsa-sha2-nistp256 AAAAE2VjZHNhLXNoYTItbmlzdHAyNTYAAAAIbmlzdHAyNTYAAABBBEmKSENjQEezOmxkZMy7opKgwFB9nkt5YRrYMjNuG5N87uRgg6CLrbo5wAdT/y6v0mKV0U2w0WZ2YB/++Tpockg=\n",
      "INFO:__main__:github.com ssh-ed25519 AAAAC3NzaC1lZDI1NTE5AAAAIOMqqnkVzrm0SdG6UOoqKLsabgH5C9okWi0dh2l9GKJl\n",
      "INFO:__main__:2023-08-30 00:11:04,758  run_response             INFO    run_response: (stderr) # github.com:22 SSH-2.0-babeld-7e018303\n",
      "INFO:__main__:# github.com:22 SSH-2.0-babeld-7e018303\n",
      "INFO:__main__:# github.com:22 SSH-2.0-babeld-7e018303\n",
      "INFO:__main__:# github.com:22 SSH-2.0-babeld-7e018303\n",
      "INFO:__main__:# github.com:22 SSH-2.0-babeld-7e018303\n",
      "INFO:__main__:2023-08-30 00:11:04,758  clone_github_repo        INFO    key=github.com ssh-rsa AAAAB3NzaC1yc2EAAAADAQABAAABgQCj7ndNxQowgcQnjshcLrqPEiiphnt+VTTvDP6mHBL9j1aNUkY4Ue1gvwnGLVlOhGeYrnZaMgRK6+PKCUXaDbC7qtbW8gIkhL7aGCsOr/C56SJMy/BCZfxd1nWzAOxSDPgVsmerOBYfNqltV9/hWCqBywINIR+5dIg6JTJ72pcEpEjcYgXkE2YEFXV1JHnsKgbLWNlhScqb2UmyRkQyytRLtL+38TGxkxCflmO+5Z8CSSNY7GidjMIZ7Q4zMjA2n1nGrlTDkzwDCsw+wqFPGQA179cnfGWOWRVruj16z6XyvxvjJwbz0wQZ75XK5tKSb7FNyeIEs4TT4jk+S4dhPeAUC5y+bDYirYgM4GC7uEnztnZyaVWQ7B381AK4Qdrwt51ZqExKbQpTUNn+EjqoTwvqNj4kqx5QUCI0ThS/YkOxJCXmPUWZbhjpCg56i+2aB6CmK2JGhn57K5mj0MNdBXA4/WnwH6XoPWJzK5Nyu2zB3nAZp+S5hpQs+p1vN1/wsjk=\n",
      "INFO:__main__:github.com ecdsa-sha2-nistp256 AAAAE2VjZHNhLXNoYTItbmlzdHAyNTYAAAAIbmlzdHAyNTYAAABBBEmKSENjQEezOmxkZMy7opKgwFB9nkt5YRrYMjNuG5N87uRgg6CLrbo5wAdT/y6v0mKV0U2w0WZ2YB/++Tpockg=\n",
      "INFO:__main__:github.com ssh-ed25519 AAAAC3NzaC1lZDI1NTE5AAAAIOMqqnkVzrm0SdG6UOoqKLsabgH5C9okWi0dh2l9GKJl\n",
      "INFO:__main__:2023-08-30 00:11:04,760  run                      INFO    run: Cloning into 'secure-bitcoin-wallet'...\n",
      "INFO:__main__:2023-08-30 00:11:04,795  run                      INFO    run: Warning: Permanently added the ECDSA host key for IP address '140.82.112.3' to the list of known hosts.\n",
      "INFO:__main__:2023-08-30 00:11:05,158  run                      INFO    run: return code = 0\n",
      "INFO:__main__:2023-08-30 00:11:05,158  run_response             INFO    cmd=git log -1\n",
      "INFO:__main__:2023-08-30 00:11:05,158  run_response             INFO    env=null\n",
      "INFO:__main__:2023-08-30 00:11:05,158  run_response             INFO    args=git+log+-1\n",
      "INFO:__main__:2023-08-30 00:11:05,162  run_response             INFO    run_response: (stdout) commit 6d0f0e4255bb33fc36a65db2c622bf98200b8ed6\n",
      "INFO:__main__:Author: Garrett-Lee-Woodworth <garrett.lee.woodworth@ibm.com>\n",
      "INFO:__main__:Date:   Mon Jun 12 12:55:39 2023 -0700\n",
      "INFO:__main__:\n",
      "INFO:__main__:    Took build argument for access token out of Dockerfile\n",
      "INFO:__main__:2023-08-30 00:11:05,162  run_response             INFO    run_response: (stderr) \n",
      "INFO:__main__:2023-08-30 00:11:05,162  clone_github_repo        INFO    commit_id=commit 6d0f0e4255bb33fc36a65db2c622bf98200b8ed6\n",
      "INFO:__main__:Author: Garrett-Lee-Woodworth <garrett.lee.woodworth@ibm.com>\n",
      "INFO:__main__:Date:   Mon Jun 12 12:55:39 2023 -0700\n",
      "INFO:__main__:\n",
      "INFO:__main__:    Took build argument for access token out of Dockerfile\n",
      "INFO:__main__:2023-08-30 00:11:05,162  clone_github_repo        INFO    image_tag=s390x-v1-6d0f0e4\n",
      "INFO:__main__:2023-08-30 00:11:05,163  build_task               INFO    building a docker container\n",
      "INFO:__main__:2023-08-30 00:11:05,163  build_docker_image       INFO    github_dir=secure-bitcoin-wallet\n",
      "INFO:__main__:2023-08-30 00:11:05,187  run                      INFO    run: DEPRECATED: The legacy builder is deprecated and will be removed in a future release.\n",
      "INFO:__main__:2023-08-30 00:11:05,187  run                      INFO    run:             BuildKit is currently disabled; enable it by removing the DOCKER_BUILDKIT=0\n",
      "INFO:__main__:2023-08-30 00:11:05,187  run                      INFO    run:             environment-variable.\n",
      "INFO:__main__:2023-08-30 00:11:05,187  run                      INFO    run: \n",
      "INFO:__main__:2023-08-30 00:11:05,204  run                      INFO    run: Sending build context to Docker daemon  3.407MB\n",
      "INFO:__main__:2023-08-30 00:11:05,212  run                      INFO    run: Step 1/49 : FROM node:16.4-buster-slim AS node\n",
      "INFO:__main__:2023-08-30 00:11:05,441  run                      INFO    run: 16.4-buster-slim: Pulling from library/node\n",
      "INFO:__main__:2023-08-30 00:11:05,603  run                      INFO    run: d08eb187b311: Pulling fs layer\n",
      "INFO:__main__:2023-08-30 00:11:05,603  run                      INFO    run: d99a5af6b743: Pulling fs layer\n",
      "INFO:__main__:2023-08-30 00:11:05,603  run                      INFO    run: b50b265fcef9: Pulling fs layer\n",
      "INFO:__main__:2023-08-30 00:11:05,603  run                      INFO    run: 4c2cc81f378f: Pulling fs layer\n",
      "INFO:__main__:2023-08-30 00:11:05,603  run                      INFO    run: 12cf18e1a9b4: Pulling fs layer\n",
      "INFO:__main__:2023-08-30 00:11:05,603  run                      INFO    run: 4c2cc81f378f: Waiting\n",
      "INFO:__main__:2023-08-30 00:11:05,604  run                      INFO    run: 12cf18e1a9b4: Waiting\n",
      "INFO:__main__:2023-08-30 00:11:05,679  run                      INFO    run: d99a5af6b743: Verifying Checksum\n",
      "INFO:__main__:2023-08-30 00:11:05,679  run                      INFO    run: d99a5af6b743: Download complete\n",
      "INFO:__main__:2023-08-30 00:11:05,893  run                      INFO    run: b50b265fcef9: Verifying Checksum\n",
      "INFO:__main__:2023-08-30 00:11:05,893  run                      INFO    run: b50b265fcef9: Download complete\n",
      "INFO:__main__:2023-08-30 00:11:06,030  run                      INFO    run: 4c2cc81f378f: Verifying Checksum\n",
      "INFO:__main__:2023-08-30 00:11:06,030  run                      INFO    run: 4c2cc81f378f: Download complete\n",
      "INFO:__main__:2023-08-30 00:11:06,108  run                      INFO    run: d08eb187b311: Verifying Checksum\n",
      "INFO:__main__:2023-08-30 00:11:06,108  run                      INFO    run: d08eb187b311: Download complete\n",
      "INFO:__main__:2023-08-30 00:11:06,305  run                      INFO    run: 12cf18e1a9b4: Verifying Checksum\n",
      "INFO:__main__:2023-08-30 00:11:06,305  run                      INFO    run: 12cf18e1a9b4: Download complete\n",
      "INFO:__main__:2023-08-30 00:11:07,156  run                      INFO    run: d08eb187b311: Pull complete\n",
      "INFO:__main__:2023-08-30 00:11:07,172  run                      INFO    run: d99a5af6b743: Pull complete\n",
      "INFO:__main__:2023-08-30 00:11:15,115  run                      INFO    run: b50b265fcef9: Pull complete\n",
      "INFO:__main__:2023-08-30 00:11:22,323  run                      INFO    run: 4c2cc81f378f: Pull complete\n",
      "INFO:__main__:2023-08-30 00:11:22,337  run                      INFO    run: 12cf18e1a9b4: Pull complete\n",
      "INFO:__main__:2023-08-30 00:11:22,348  run                      INFO    run: Digest: sha256:aac69b631df92a3d2b60cbc27f099862f4fb7694231f493a65cc937bd00e6104\n",
      "INFO:__main__:2023-08-30 00:11:22,351  run                      INFO    run: Status: Downloaded newer image for node:16.4-buster-slim\n",
      "INFO:__main__:2023-08-30 00:11:22,353  run                      INFO    run:  ---> e9ed5d55ac35\n",
      "INFO:__main__:2023-08-30 00:11:22,353  run                      INFO    run: Step 2/49 : FROM python:3.9.7-slim-buster\n",
      "INFO:__main__:2023-08-30 00:11:22,533  run                      INFO    run: 3.9.7-slim-buster: Pulling from library/python\n",
      "INFO:__main__:2023-08-30 00:11:22,645  run                      INFO    run: 78a640c6bb47: Pulling fs layer\n",
      "INFO:__main__:2023-08-30 00:11:22,645  run                      INFO    run: 0d9d9617babf: Pulling fs layer\n",
      "INFO:__main__:2023-08-30 00:11:22,645  run                      INFO    run: 017bbaf29353: Pulling fs layer\n",
      "INFO:__main__:2023-08-30 00:11:22,645  run                      INFO    run: cc31c369878a: Pulling fs layer\n",
      "INFO:__main__:2023-08-30 00:11:22,645  run                      INFO    run: 5cd611733e83: Pulling fs layer\n",
      "INFO:__main__:2023-08-30 00:11:22,646  run                      INFO    run: cc31c369878a: Waiting\n",
      "INFO:__main__:2023-08-30 00:11:22,646  run                      INFO    run: 5cd611733e83: Waiting\n",
      "INFO:__main__:2023-08-30 00:11:22,753  run                      INFO    run: 0d9d9617babf: Verifying Checksum\n",
      "INFO:__main__:2023-08-30 00:11:22,753  run                      INFO    run: 0d9d9617babf: Download complete\n",
      "INFO:__main__:2023-08-30 00:11:22,761  run                      INFO    run: 017bbaf29353: Verifying Checksum\n",
      "INFO:__main__:2023-08-30 00:11:22,761  run                      INFO    run: 017bbaf29353: Download complete\n",
      "INFO:__main__:2023-08-30 00:11:22,828  run                      INFO    run: cc31c369878a: Verifying Checksum\n",
      "INFO:__main__:2023-08-30 00:11:22,828  run                      INFO    run: cc31c369878a: Download complete\n",
      "INFO:__main__:2023-08-30 00:11:22,832  run                      INFO    run: 78a640c6bb47: Verifying Checksum\n",
      "INFO:__main__:2023-08-30 00:11:22,832  run                      INFO    run: 78a640c6bb47: Download complete\n",
      "INFO:__main__:2023-08-30 00:11:22,854  run                      INFO    run: 5cd611733e83: Verifying Checksum\n",
      "INFO:__main__:2023-08-30 00:11:22,854  run                      INFO    run: 5cd611733e83: Download complete\n",
      "INFO:__main__:2023-08-30 00:11:23,848  run                      INFO    run: 78a640c6bb47: Pull complete\n",
      "INFO:__main__:2023-08-30 00:11:23,949  run                      INFO    run: 0d9d9617babf: Pull complete\n",
      "INFO:__main__:2023-08-30 00:11:24,326  run                      INFO    run: 017bbaf29353: Pull complete\n",
      "INFO:__main__:2023-08-30 00:11:24,351  run                      INFO    run: cc31c369878a: Pull complete\n",
      "INFO:__main__:2023-08-30 00:11:24,517  run                      INFO    run: 5cd611733e83: Pull complete\n",
      "INFO:__main__:2023-08-30 00:11:24,528  run                      INFO    run: Digest: sha256:76eaa9e5bd357d6983a88ddc9c4545ef4ad64c50f84f081ba952c7ed08e3bdd6\n",
      "INFO:__main__:2023-08-30 00:11:24,531  run                      INFO    run: Status: Downloaded newer image for python:3.9.7-slim-buster\n",
      "INFO:__main__:2023-08-30 00:11:24,533  run                      INFO    run:  ---> 4d0f93c77763\n",
      "INFO:__main__:2023-08-30 00:11:24,534  run                      INFO    run: Step 3/49 : COPY --from=node /usr/local /usr/local\n",
      "INFO:__main__:2023-08-30 00:11:54,684  run                      INFO    run:  ---> ffac7615bee1\n",
      "INFO:__main__:2023-08-30 00:11:54,684  run                      INFO    run: Step 4/49 : ARG GRPC_PYTHON_BUILD_SYSTEM_OPENSSL=1\n",
      "INFO:__main__:2023-08-30 00:11:54,726  run                      INFO    run:  ---> Running in b814d58198b1\n",
      "INFO:__main__:2023-08-30 00:11:54,774  run                      INFO    run: Removing intermediate container b814d58198b1\n",
      "INFO:__main__:2023-08-30 00:11:54,774  run                      INFO    run:  ---> aca134ffd122\n",
      "INFO:__main__:2023-08-30 00:11:54,774  run                      INFO    run: Step 5/49 : ARG NO_GRPC_BUILD\n",
      "INFO:__main__:2023-08-30 00:11:54,815  run                      INFO    run:  ---> Running in 2a27b21d1e23\n",
      "INFO:__main__:2023-08-30 00:11:54,865  run                      INFO    run: Removing intermediate container 2a27b21d1e23\n",
      "INFO:__main__:2023-08-30 00:11:54,865  run                      INFO    run:  ---> cf69c0be8ea8\n",
      "INFO:__main__:2023-08-30 00:11:54,865  run                      INFO    run: Step 6/49 : RUN apt-get update &&     apt-get upgrade -y &&     apt-get install -y --no-install-recommends ca-certificates curl &&     apt-get install -y --no-install-recommends git python3-pip python3-dev build-essential python3-setuptools python3-wheel protobuf-compiler libssl-dev libffi-dev autoconf automake libtool &&     apt-get install -y --no-install-recommends php php-curl apache2 xz-utils libedit2 vim &&     apt-get install -y --no-install-recommends sqlite3 libsqlite3-dev libpng-dev libzip-dev python php-zip &&     apt-get install -y --no-install-recommends php-mbstring php-xml php-sqlite3 unzip &&     apt-get install -y --no-install-recommends supervisor &&     apt-get -y autoremove && apt-get clean &&     rm -rf /var/lib/apt/lists/* /var/tmp/* /git/grpc\n",
      "INFO:__main__:2023-08-30 00:11:54,906  run                      INFO    run:  ---> Running in 870c8dfb4eed\n",
      "INFO:__main__:2023-08-30 00:11:55,131  run                      INFO    run: Get:1 http://deb.debian.org/debian buster InRelease [122 kB]\n",
      "INFO:__main__:2023-08-30 00:11:55,133  run                      INFO    run: Get:2 http://security.debian.org/debian-security buster/updates InRelease [34.8 kB]\n",
      "INFO:__main__:2023-08-30 00:11:55,141  run                      INFO    run: Get:3 http://deb.debian.org/debian buster-updates InRelease [56.6 kB]\n",
      "INFO:__main__:2023-08-30 00:11:55,400  run                      INFO    run: Get:4 http://deb.debian.org/debian buster/main s390x Packages [7624 kB]\n",
      "INFO:__main__:2023-08-30 00:11:55,527  run                      INFO    run: Get:5 http://deb.debian.org/debian buster-updates/main s390x Packages [8796 B]\n",
      "INFO:__main__:2023-08-30 00:11:56,626  run                      INFO    run: Fetched 7846 kB in 1s (5231 kB/s)\n",
      "INFO:__main__:2023-08-30 00:11:57,120  run                      INFO    run: Reading package lists...\n",
      "INFO:__main__:2023-08-30 00:11:57,615  run                      INFO    run: Reading package lists...\n",
      "INFO:__main__:2023-08-30 00:11:57,708  run                      INFO    run: Building dependency tree...\n",
      "INFO:__main__:2023-08-30 00:11:57,708  run                      INFO    run: Reading state information...\n",
      "INFO:__main__:2023-08-30 00:11:57,750  run                      INFO    run: Calculating upgrade...\n",
      "INFO:__main__:2023-08-30 00:11:57,906  run                      INFO    run: The following packages will be upgraded:\n",
      "INFO:__main__:2023-08-30 00:11:57,906  run                      INFO    run:   base-files dpkg gpgv gzip libc-bin libc6 libexpat1 libgmp10 libgnutls30\n",
      "INFO:__main__:2023-08-30 00:11:57,907  run                      INFO    run:   liblzma5 libssl1.1 openssl tzdata zlib1g\n",
      "INFO:__main__:2023-08-30 00:11:57,922  run                      INFO    run: 14 upgraded, 0 newly installed, 0 to remove and 0 not upgraded.\n",
      "INFO:__main__:2023-08-30 00:11:57,922  run                      INFO    run: Need to get 10.1 MB of archives.\n",
      "INFO:__main__:2023-08-30 00:11:57,922  run                      INFO    run: After this operation, 23.6 kB of additional disk space will be used.\n",
      "INFO:__main__:2023-08-30 00:11:57,922  run                      INFO    run: Get:1 http://deb.debian.org/debian buster/main s390x base-files s390x 10.3+deb10u13 [69.9 kB]\n",
      "INFO:__main__:2023-08-30 00:11:57,935  run                      INFO    run: Get:2 http://deb.debian.org/debian buster/main s390x dpkg s390x 1.19.8 [2188 kB]\n",
      "INFO:__main__:2023-08-30 00:11:57,959  run                      INFO    run: Get:3 http://deb.debian.org/debian buster/main s390x gzip s390x 1.9-3+deb10u1 [128 kB]\n",
      "INFO:__main__:2023-08-30 00:11:57,961  run                      INFO    run: Get:4 http://deb.debian.org/debian buster/main s390x libc6 s390x 2.28-10+deb10u1 [2507 kB]\n",
      "INFO:__main__:2023-08-30 00:11:57,988  run                      INFO    run: Get:5 http://deb.debian.org/debian buster/main s390x libc-bin s390x 2.28-10+deb10u1 [714 kB]\n",
      "INFO:__main__:2023-08-30 00:11:57,996  run                      INFO    run: Get:6 http://deb.debian.org/debian buster/main s390x zlib1g s390x 1:1.2.11.dfsg-1+deb10u1 [88.1 kB]\n",
      "INFO:__main__:2023-08-30 00:11:57,997  run                      INFO    run: Get:7 http://deb.debian.org/debian buster/main s390x gpgv s390x 2.2.12-1+deb10u2 [565 kB]\n",
      "INFO:__main__:2023-08-30 00:11:58,003  run                      INFO    run: Get:8 http://deb.debian.org/debian buster/main s390x libgmp10 s390x 2:6.1.2+dfsg-4+deb10u1 [238 kB]\n",
      "INFO:__main__:2023-08-30 00:11:58,006  run                      INFO    run: Get:9 http://deb.debian.org/debian buster/main s390x libgnutls30 s390x 3.6.7-4+deb10u8 [1024 kB]\n",
      "INFO:__main__:2023-08-30 00:11:58,017  run                      INFO    run: Get:10 http://deb.debian.org/debian buster/main s390x liblzma5 s390x 5.2.4-1+deb10u1 [151 kB]\n",
      "INFO:__main__:2023-08-30 00:11:58,019  run                      INFO    run: Get:11 http://deb.debian.org/debian buster/main s390x tzdata all 2021a-0+deb10u6 [265 kB]\n",
      "INFO:__main__:2023-08-30 00:11:58,022  run                      INFO    run: Get:12 http://deb.debian.org/debian buster/main s390x libexpat1 s390x 2.2.6-2+deb10u4 [102 kB]\n",
      "INFO:__main__:2023-08-30 00:11:58,023  run                      INFO    run: Get:13 http://deb.debian.org/debian buster/main s390x libssl1.1 s390x 1.1.1n-0+deb10u3 [1210 kB]\n",
      "INFO:__main__:2023-08-30 00:11:58,034  run                      INFO    run: Get:14 http://deb.debian.org/debian buster/main s390x openssl s390x 1.1.1n-0+deb10u3 [840 kB]\n",
      "INFO:__main__:2023-08-30 00:11:58,128  run                      INFO    run: \u001b[91mdebconf: delaying package configuration, since apt-utils is not installed\n",
      "INFO:__main__:2023-08-30 00:11:58,141  run                      INFO    run: \u001b[0mFetched 10.1 MB in 0s (78.0 MB/s)\n",
      "(Reading database ... 6838 files and directories currently installed.)  run: (Reading database ... \n",
      "INFO:__main__:2023-08-30 00:11:58,161  run                      INFO    run: Preparing to unpack .../base-files_10.3+deb10u13_s390x.deb ...\n",
      "INFO:__main__:2023-08-30 00:11:58,170  run                      INFO    run: Unpacking base-files (10.3+deb10u13) over (10.3+deb10u11) ...\n",
      "INFO:__main__:2023-08-30 00:11:58,252  run                      INFO    run: Setting up base-files (10.3+deb10u13) ...\n",
      "INFO:__main__:2023-08-30 00:11:58,254  run                      INFO    run: Installing new version of config file /etc/debian_version ...\n",
      "(Reading database ... 6838 files and directories currently installed.)  run: (Reading database ... \n",
      "INFO:__main__:2023-08-30 00:11:58,307  run                      INFO    run: Preparing to unpack .../archives/dpkg_1.19.8_s390x.deb ...\n",
      "INFO:__main__:2023-08-30 00:11:58,315  run                      INFO    run: Unpacking dpkg (1.19.8) over (1.19.7) ...\n",
      "INFO:__main__:2023-08-30 00:11:58,492  run                      INFO    run: Setting up dpkg (1.19.8) ...\n",
      "(Reading database ... 6838 files and directories currently installed.)  run: (Reading database ... \n",
      "INFO:__main__:2023-08-30 00:11:58,532  run                      INFO    run: Preparing to unpack .../gzip_1.9-3+deb10u1_s390x.deb ...\n",
      "INFO:__main__:2023-08-30 00:11:58,541  run                      INFO    run: Unpacking gzip (1.9-3+deb10u1) over (1.9-3) ...\n",
      "INFO:__main__:2023-08-30 00:11:58,622  run                      INFO    run: Setting up gzip (1.9-3+deb10u1) ...\n",
      "(Reading database ... 6838 files and directories currently installed.)  run: (Reading database ... \n",
      "INFO:__main__:2023-08-30 00:11:58,695  run                      INFO    run: Preparing to unpack .../libc6_2.28-10+deb10u1_s390x.deb ...\n",
      "INFO:__main__:2023-08-30 00:11:58,760  run                      INFO    run: debconf: unable to initialize frontend: Dialog\n",
      "INFO:__main__:2023-08-30 00:11:58,760  run                      INFO    run: debconf: (TERM is not set, so the dialog frontend is not usable.)\n",
      "INFO:__main__:2023-08-30 00:11:58,760  run                      INFO    run: debconf: falling back to frontend: Readline\n",
      "INFO:__main__:2023-08-30 00:11:58,760  run                      INFO    run: debconf: unable to initialize frontend: Readline\n",
      "INFO:__main__:2023-08-30 00:11:58,761  run                      INFO    run: debconf: (Can't locate Term/ReadLine.pm in @INC (you may need to install the Term::ReadLine module) (@INC contains: /etc/perl /usr/local/lib/s390x-linux-gnu/perl/5.28.1 /usr/local/share/perl/5.28.1 /usr/lib/s390x-linux-gnu/perl5/5.28 /usr/share/perl5 /usr/lib/s390x-linux-gnu/perl/5.28 /usr/share/perl/5.28 /usr/local/lib/site_perl /usr/lib/s390x-linux-gnu/perl-base) at /usr/share/perl5/Debconf/FrontEnd/Readline.pm line 7.)\n",
      "INFO:__main__:2023-08-30 00:11:58,761  run                      INFO    run: debconf: falling back to frontend: Teletype\n",
      "INFO:__main__:2023-08-30 00:11:58,805  run                      INFO    run: Unpacking libc6:s390x (2.28-10+deb10u1) over (2.28-10) ...\n",
      "INFO:__main__:2023-08-30 00:12:01,363  run                      INFO    run: Setting up libc6:s390x (2.28-10+deb10u1) ...\n",
      "INFO:__main__:2023-08-30 00:12:01,442  run                      INFO    run: debconf: unable to initialize frontend: Dialog\n",
      "INFO:__main__:2023-08-30 00:12:01,442  run                      INFO    run: debconf: (TERM is not set, so the dialog frontend is not usable.)\n",
      "INFO:__main__:2023-08-30 00:12:01,442  run                      INFO    run: debconf: falling back to frontend: Readline\n",
      "INFO:__main__:2023-08-30 00:12:01,442  run                      INFO    run: debconf: unable to initialize frontend: Readline\n",
      "INFO:__main__:2023-08-30 00:12:01,442  run                      INFO    run: debconf: (Can't locate Term/ReadLine.pm in @INC (you may need to install the Term::ReadLine module) (@INC contains: /etc/perl /usr/local/lib/s390x-linux-gnu/perl/5.28.1 /usr/local/share/perl/5.28.1 /usr/lib/s390x-linux-gnu/perl5/5.28 /usr/share/perl5 /usr/lib/s390x-linux-gnu/perl/5.28 /usr/share/perl/5.28 /usr/local/lib/site_perl /usr/lib/s390x-linux-gnu/perl-base) at /usr/share/perl5/Debconf/FrontEnd/Readline.pm line 7.)\n",
      "INFO:__main__:2023-08-30 00:12:01,442  run                      INFO    run: debconf: falling back to frontend: Teletype\n",
      "(Reading database ... 6838 files and directories currently installed.)  run: (Reading database ... \n",
      "INFO:__main__:2023-08-30 00:12:02,511  run                      INFO    run: Preparing to unpack .../libc-bin_2.28-10+deb10u1_s390x.deb ...\n",
      "INFO:__main__:2023-08-30 00:12:02,520  run                      INFO    run: Unpacking libc-bin (2.28-10+deb10u1) over (2.28-10) ...\n",
      "INFO:__main__:2023-08-30 00:12:02,712  run                      INFO    run: Setting up libc-bin (2.28-10+deb10u1) ...\n",
      "(Reading database ... 6838 files and directories currently installed.)  run: (Reading database ... \n",
      "INFO:__main__:2023-08-30 00:12:02,772  run                      INFO    run: Preparing to unpack .../zlib1g_1%3a1.2.11.dfsg-1+deb10u1_s390x.deb ...\n",
      "INFO:__main__:2023-08-30 00:12:02,783  run                      INFO    run: Unpacking zlib1g:s390x (1:1.2.11.dfsg-1+deb10u1) over (1:1.2.11.dfsg-1) ...\n",
      "INFO:__main__:2023-08-30 00:12:02,822  run                      INFO    run: Setting up zlib1g:s390x (1:1.2.11.dfsg-1+deb10u1) ...\n",
      "(Reading database ... 6838 files and directories currently installed.)  run: (Reading database ... \n",
      "INFO:__main__:2023-08-30 00:12:02,850  run                      INFO    run: Preparing to unpack .../gpgv_2.2.12-1+deb10u2_s390x.deb ...\n",
      "INFO:__main__:2023-08-30 00:12:02,857  run                      INFO    run: Unpacking gpgv (2.2.12-1+deb10u2) over (2.2.12-1+deb10u1) ...\n",
      "INFO:__main__:2023-08-30 00:12:02,912  run                      INFO    run: Setting up gpgv (2.2.12-1+deb10u2) ...\n",
      "(Reading database ... 6838 files and directories currently installed.)  run: (Reading database ... \n",
      "INFO:__main__:2023-08-30 00:12:02,958  run                      INFO    run: Preparing to unpack .../libgmp10_2%3a6.1.2+dfsg-4+deb10u1_s390x.deb ...\n",
      "INFO:__main__:2023-08-30 00:12:02,967  run                      INFO    run: Unpacking libgmp10:s390x (2:6.1.2+dfsg-4+deb10u1) over (2:6.1.2+dfsg-4) ...\n",
      "INFO:__main__:2023-08-30 00:12:03,022  run                      INFO    run: Setting up libgmp10:s390x (2:6.1.2+dfsg-4+deb10u1) ...\n",
      "(Reading database ... 6838 files and directories currently installed.)  run: (Reading database ... \n",
      "INFO:__main__:2023-08-30 00:12:03,068  run                      INFO    run: Preparing to unpack .../libgnutls30_3.6.7-4+deb10u8_s390x.deb ...\n",
      "INFO:__main__:2023-08-30 00:12:03,076  run                      INFO    run: Unpacking libgnutls30:s390x (3.6.7-4+deb10u8) over (3.6.7-4+deb10u7) ...\n",
      "INFO:__main__:2023-08-30 00:12:03,212  run                      INFO    run: Setting up libgnutls30:s390x (3.6.7-4+deb10u8) ...\n",
      "(Reading database ... 6838 files and directories currently installed.)  run: (Reading database ... \n",
      "INFO:__main__:2023-08-30 00:12:03,258  run                      INFO    run: Preparing to unpack .../liblzma5_5.2.4-1+deb10u1_s390x.deb ...\n",
      "INFO:__main__:2023-08-30 00:12:03,267  run                      INFO    run: Unpacking liblzma5:s390x (5.2.4-1+deb10u1) over (5.2.4-1) ...\n",
      "INFO:__main__:2023-08-30 00:12:03,312  run                      INFO    run: Setting up liblzma5:s390x (5.2.4-1+deb10u1) ...\n",
      "(Reading database ... 6838 files and directories currently installed.)  run: (Reading database ... \n",
      "INFO:__main__:2023-08-30 00:12:03,356  run                      INFO    run: Preparing to unpack .../tzdata_2021a-0+deb10u6_all.deb ...\n",
      "INFO:__main__:2023-08-30 00:12:03,365  run                      INFO    run: Unpacking tzdata (2021a-0+deb10u6) over (2021a-0+deb10u2) ...\n",
      "INFO:__main__:2023-08-30 00:12:07,906  run                      INFO    run: Preparing to unpack .../libexpat1_2.2.6-2+deb10u4_s390x.deb ...\n",
      "INFO:__main__:2023-08-30 00:12:07,916  run                      INFO    run: Unpacking libexpat1:s390x (2.2.6-2+deb10u4) over (2.2.6-2+deb10u1) ...\n",
      "INFO:__main__:2023-08-30 00:12:08,090  run                      INFO    run: Preparing to unpack .../libssl1.1_1.1.1n-0+deb10u3_s390x.deb ...\n",
      "INFO:__main__:2023-08-30 00:12:08,102  run                      INFO    run: Unpacking libssl1.1:s390x (1.1.1n-0+deb10u3) over (1.1.1d-0+deb10u7) ...\n",
      "INFO:__main__:2023-08-30 00:12:08,666  run                      INFO    run: Preparing to unpack .../openssl_1.1.1n-0+deb10u3_s390x.deb ...\n",
      "INFO:__main__:2023-08-30 00:12:08,679  run                      INFO    run: Unpacking openssl (1.1.1n-0+deb10u3) over (1.1.1d-0+deb10u7) ...\n",
      "INFO:__main__:2023-08-30 00:12:08,883  run                      INFO    run: Setting up libexpat1:s390x (2.2.6-2+deb10u4) ...\n",
      "INFO:__main__:2023-08-30 00:12:08,894  run                      INFO    run: Setting up libssl1.1:s390x (1.1.1n-0+deb10u3) ...\n",
      "INFO:__main__:2023-08-30 00:12:08,958  run                      INFO    run: debconf: unable to initialize frontend: Dialog\n",
      "INFO:__main__:2023-08-30 00:12:08,958  run                      INFO    run: debconf: (TERM is not set, so the dialog frontend is not usable.)\n",
      "INFO:__main__:2023-08-30 00:12:08,958  run                      INFO    run: debconf: falling back to frontend: Readline\n",
      "INFO:__main__:2023-08-30 00:12:08,958  run                      INFO    run: debconf: unable to initialize frontend: Readline\n",
      "INFO:__main__:2023-08-30 00:12:08,958  run                      INFO    run: debconf: (Can't locate Term/ReadLine.pm in @INC (you may need to install the Term::ReadLine module) (@INC contains: /etc/perl /usr/local/lib/s390x-linux-gnu/perl/5.28.1 /usr/local/share/perl/5.28.1 /usr/lib/s390x-linux-gnu/perl5/5.28 /usr/share/perl5 /usr/lib/s390x-linux-gnu/perl/5.28 /usr/share/perl/5.28 /usr/local/lib/site_perl /usr/lib/s390x-linux-gnu/perl-base) at /usr/share/perl5/Debconf/FrontEnd/Readline.pm line 7.)\n",
      "INFO:__main__:2023-08-30 00:12:08,958  run                      INFO    run: debconf: falling back to frontend: Teletype\n",
      "INFO:__main__:2023-08-30 00:12:08,982  run                      INFO    run: Setting up tzdata (2021a-0+deb10u6) ...\n",
      "INFO:__main__:2023-08-30 00:12:09,041  run                      INFO    run: debconf: unable to initialize frontend: Dialog\n",
      "INFO:__main__:2023-08-30 00:12:09,041  run                      INFO    run: debconf: (TERM is not set, so the dialog frontend is not usable.)\n",
      "INFO:__main__:2023-08-30 00:12:09,041  run                      INFO    run: debconf: falling back to frontend: Readline\n",
      "INFO:__main__:2023-08-30 00:12:09,042  run                      INFO    run: debconf: unable to initialize frontend: Readline\n",
      "INFO:__main__:2023-08-30 00:12:09,042  run                      INFO    run: debconf: (Can't locate Term/ReadLine.pm in @INC (you may need to install the Term::ReadLine module) (@INC contains: /etc/perl /usr/local/lib/s390x-linux-gnu/perl/5.28.1 /usr/local/share/perl/5.28.1 /usr/lib/s390x-linux-gnu/perl5/5.28 /usr/share/perl5 /usr/lib/s390x-linux-gnu/perl/5.28 /usr/share/perl/5.28 /usr/local/lib/site_perl /usr/lib/s390x-linux-gnu/perl-base) at /usr/share/perl5/Debconf/FrontEnd/Readline.pm line 7.)\n",
      "INFO:__main__:2023-08-30 00:12:09,042  run                      INFO    run: debconf: falling back to frontend: Teletype\n",
      "INFO:__main__:2023-08-30 00:12:09,073  run                      INFO    run: \n",
      "INFO:__main__:2023-08-30 00:12:09,074  run                      INFO    run: Current default time zone: 'Etc/UTC'\n",
      "INFO:__main__:2023-08-30 00:12:09,075  run                      INFO    run: Local time is now:      Wed Aug 30 00:12:09 UTC 2023.\n",
      "INFO:__main__:2023-08-30 00:12:09,075  run                      INFO    run: Universal Time is now:  Wed Aug 30 00:12:09 UTC 2023.\n",
      "INFO:__main__:2023-08-30 00:12:09,075  run                      INFO    run: Run 'dpkg-reconfigure tzdata' if you wish to change it.\n",
      "INFO:__main__:2023-08-30 00:12:09,075  run                      INFO    run: \n",
      "INFO:__main__:2023-08-30 00:12:09,092  run                      INFO    run: Setting up openssl (1.1.1n-0+deb10u3) ...\n",
      "INFO:__main__:2023-08-30 00:12:09,104  run                      INFO    run: Processing triggers for libc-bin (2.28-10+deb10u1) ...\n",
      "INFO:__main__:2023-08-30 00:12:09,618  run                      INFO    run: Reading package lists...\n",
      "INFO:__main__:2023-08-30 00:12:09,711  run                      INFO    run: Building dependency tree...\n",
      "INFO:__main__:2023-08-30 00:12:09,712  run                      INFO    run: Reading state information...\n",
      "INFO:__main__:2023-08-30 00:12:09,778  run                      INFO    run: ca-certificates is already the newest version (20200601~deb10u2).\n",
      "INFO:__main__:2023-08-30 00:12:09,778  run                      INFO    run: The following additional packages will be installed:\n",
      "INFO:__main__:2023-08-30 00:12:09,778  run                      INFO    run:   libcurl4 libgssapi-krb5-2 libk5crypto3 libkeyutils1 libkrb5-3\n",
      "INFO:__main__:2023-08-30 00:12:09,778  run                      INFO    run:   libkrb5support0 libldap-2.4-2 libldap-common libnghttp2-14 libpsl5 librtmp1\n",
      "INFO:__main__:2023-08-30 00:12:09,779  run                      INFO    run:   libsasl2-2 libsasl2-modules-db libssh2-1\n",
      "INFO:__main__:2023-08-30 00:12:09,779  run                      INFO    run: Suggested packages:\n",
      "INFO:__main__:2023-08-30 00:12:09,779  run                      INFO    run:   krb5-doc krb5-user\n",
      "INFO:__main__:2023-08-30 00:12:09,779  run                      INFO    run: Recommended packages:\n",
      "INFO:__main__:2023-08-30 00:12:09,779  run                      INFO    run:   krb5-locales publicsuffix libsasl2-modules\n",
      "INFO:__main__:2023-08-30 00:12:09,900  run                      INFO    run: The following NEW packages will be installed:\n",
      "INFO:__main__:2023-08-30 00:12:09,900  run                      INFO    run:   curl libcurl4 libgssapi-krb5-2 libk5crypto3 libkeyutils1 libkrb5-3\n",
      "INFO:__main__:2023-08-30 00:12:09,900  run                      INFO    run:   libkrb5support0 libldap-2.4-2 libldap-common libnghttp2-14 libpsl5 librtmp1\n",
      "INFO:__main__:2023-08-30 00:12:09,900  run                      INFO    run:   libsasl2-2 libsasl2-modules-db libssh2-1\n",
      "INFO:__main__:2023-08-30 00:12:09,917  run                      INFO    run: 0 upgraded, 15 newly installed, 0 to remove and 0 not upgraded.\n",
      "INFO:__main__:2023-08-30 00:12:09,917  run                      INFO    run: Need to get 2059 kB of archives.\n",
      "INFO:__main__:2023-08-30 00:12:09,917  run                      INFO    run: After this operation, 5036 kB of additional disk space will be used.\n",
      "INFO:__main__:2023-08-30 00:12:09,917  run                      INFO    run: Get:1 http://deb.debian.org/debian buster/main s390x libkeyutils1 s390x 1.6-6 [14.7 kB]\n",
      "INFO:__main__:2023-08-30 00:12:09,934  run                      INFO    run: Get:2 http://deb.debian.org/debian buster/main s390x libkrb5support0 s390x 1.17-3+deb10u4 [64.9 kB]\n",
      "INFO:__main__:2023-08-30 00:12:09,936  run                      INFO    run: Get:3 http://deb.debian.org/debian buster/main s390x libk5crypto3 s390x 1.17-3+deb10u4 [121 kB]\n",
      "INFO:__main__:2023-08-30 00:12:09,941  run                      INFO    run: Get:4 http://deb.debian.org/debian buster/main s390x libkrb5-3 s390x 1.17-3+deb10u4 [345 kB]\n",
      "INFO:__main__:2023-08-30 00:12:09,946  run                      INFO    run: Get:5 http://deb.debian.org/debian buster/main s390x libgssapi-krb5-2 s390x 1.17-3+deb10u4 [147 kB]\n",
      "INFO:__main__:2023-08-30 00:12:09,948  run                      INFO    run: Get:6 http://deb.debian.org/debian buster/main s390x libsasl2-modules-db s390x 2.1.27+dfsg-1+deb10u2 [68.2 kB]\n",
      "INFO:__main__:2023-08-30 00:12:09,969  run                      INFO    run: Get:7 http://deb.debian.org/debian buster/main s390x libsasl2-2 s390x 2.1.27+dfsg-1+deb10u2 [103 kB]\n",
      "INFO:__main__:2023-08-30 00:12:09,970  run                      INFO    run: Get:8 http://deb.debian.org/debian buster/main s390x libldap-common all 2.4.47+dfsg-3+deb10u7 [90.1 kB]\n",
      "INFO:__main__:2023-08-30 00:12:09,972  run                      INFO    run: Get:9 http://deb.debian.org/debian buster/main s390x libldap-2.4-2 s390x 2.4.47+dfsg-3+deb10u7 [213 kB]\n",
      "INFO:__main__:2023-08-30 00:12:09,976  run                      INFO    run: Get:10 http://deb.debian.org/debian buster/main s390x libnghttp2-14 s390x 1.36.0-2+deb10u1 [80.8 kB]\n",
      "INFO:__main__:2023-08-30 00:12:09,980  run                      INFO    run: Get:11 http://deb.debian.org/debian buster/main s390x libpsl5 s390x 0.20.2-2 [53.5 kB]\n",
      "INFO:__main__:2023-08-30 00:12:09,981  run                      INFO    run: Get:12 http://deb.debian.org/debian buster/main s390x librtmp1 s390x 2.4+20151223.gitfa8646d.1-2 [56.6 kB]\n",
      "INFO:__main__:2023-08-30 00:12:09,984  run                      INFO    run: Get:13 http://deb.debian.org/debian buster/main s390x libssh2-1 s390x 1.8.0-2.1 [132 kB]\n",
      "INFO:__main__:2023-08-30 00:12:09,987  run                      INFO    run: Get:14 http://deb.debian.org/debian buster/main s390x libcurl4 s390x 7.64.0-4+deb10u2 [310 kB]\n",
      "INFO:__main__:2023-08-30 00:12:09,991  run                      INFO    run: Get:15 http://deb.debian.org/debian buster/main s390x curl s390x 7.64.0-4+deb10u2 [260 kB]\n",
      "INFO:__main__:2023-08-30 00:12:10,066  run                      INFO    run: \u001b[91mdebconf: delaying package configuration, since apt-utils is not installed\n",
      "INFO:__main__:2023-08-30 00:12:10,075  run                      INFO    run: \u001b[0mFetched 2059 kB in 0s (23.5 MB/s)\n",
      "INFO:__main__:2023-08-30 00:12:10,090  run                      INFO    run: Selecting previously unselected package libkeyutils1:s390x.\n",
      "(Reading database ... 6838 files and directories currently installed.)  run: (Reading database ... \n",
      "INFO:__main__:2023-08-30 00:12:10,095  run                      INFO    run: Preparing to unpack .../00-libkeyutils1_1.6-6_s390x.deb ...\n",
      "INFO:__main__:2023-08-30 00:12:10,100  run                      INFO    run: Unpacking libkeyutils1:s390x (1.6-6) ...\n",
      "INFO:__main__:2023-08-30 00:12:10,123  run                      INFO    run: Selecting previously unselected package libkrb5support0:s390x.\n",
      "INFO:__main__:2023-08-30 00:12:10,124  run                      INFO    run: Preparing to unpack .../01-libkrb5support0_1.17-3+deb10u4_s390x.deb ...\n",
      "INFO:__main__:2023-08-30 00:12:10,127  run                      INFO    run: Unpacking libkrb5support0:s390x (1.17-3+deb10u4) ...\n",
      "INFO:__main__:2023-08-30 00:12:10,161  run                      INFO    run: Selecting previously unselected package libk5crypto3:s390x.\n",
      "INFO:__main__:2023-08-30 00:12:10,161  run                      INFO    run: Preparing to unpack .../02-libk5crypto3_1.17-3+deb10u4_s390x.deb ...\n",
      "INFO:__main__:2023-08-30 00:12:10,165  run                      INFO    run: Unpacking libk5crypto3:s390x (1.17-3+deb10u4) ...\n",
      "INFO:__main__:2023-08-30 00:12:10,205  run                      INFO    run: Selecting previously unselected package libkrb5-3:s390x.\n",
      "INFO:__main__:2023-08-30 00:12:10,206  run                      INFO    run: Preparing to unpack .../03-libkrb5-3_1.17-3+deb10u4_s390x.deb ...\n",
      "INFO:__main__:2023-08-30 00:12:10,210  run                      INFO    run: Unpacking libkrb5-3:s390x (1.17-3+deb10u4) ...\n",
      "INFO:__main__:2023-08-30 00:12:10,273  run                      INFO    run: Selecting previously unselected package libgssapi-krb5-2:s390x.\n",
      "INFO:__main__:2023-08-30 00:12:10,274  run                      INFO    run: Preparing to unpack .../04-libgssapi-krb5-2_1.17-3+deb10u4_s390x.deb ...\n",
      "INFO:__main__:2023-08-30 00:12:10,277  run                      INFO    run: Unpacking libgssapi-krb5-2:s390x (1.17-3+deb10u4) ...\n",
      "INFO:__main__:2023-08-30 00:12:10,309  run                      INFO    run: Selecting previously unselected package libsasl2-modules-db:s390x.\n",
      "INFO:__main__:2023-08-30 00:12:10,309  run                      INFO    run: Preparing to unpack .../05-libsasl2-modules-db_2.1.27+dfsg-1+deb10u2_s390x.deb ...\n",
      "INFO:__main__:2023-08-30 00:12:10,312  run                      INFO    run: Unpacking libsasl2-modules-db:s390x (2.1.27+dfsg-1+deb10u2) ...\n",
      "INFO:__main__:2023-08-30 00:12:10,342  run                      INFO    run: Selecting previously unselected package libsasl2-2:s390x.\n",
      "INFO:__main__:2023-08-30 00:12:10,343  run                      INFO    run: Preparing to unpack .../06-libsasl2-2_2.1.27+dfsg-1+deb10u2_s390x.deb ...\n",
      "INFO:__main__:2023-08-30 00:12:10,347  run                      INFO    run: Unpacking libsasl2-2:s390x (2.1.27+dfsg-1+deb10u2) ...\n",
      "INFO:__main__:2023-08-30 00:12:10,377  run                      INFO    run: Selecting previously unselected package libldap-common.\n",
      "INFO:__main__:2023-08-30 00:12:10,378  run                      INFO    run: Preparing to unpack .../07-libldap-common_2.4.47+dfsg-3+deb10u7_all.deb ...\n",
      "INFO:__main__:2023-08-30 00:12:10,380  run                      INFO    run: Unpacking libldap-common (2.4.47+dfsg-3+deb10u7) ...\n",
      "INFO:__main__:2023-08-30 00:12:10,413  run                      INFO    run: Selecting previously unselected package libldap-2.4-2:s390x.\n",
      "INFO:__main__:2023-08-30 00:12:10,414  run                      INFO    run: Preparing to unpack .../08-libldap-2.4-2_2.4.47+dfsg-3+deb10u7_s390x.deb ...\n",
      "INFO:__main__:2023-08-30 00:12:10,421  run                      INFO    run: Unpacking libldap-2.4-2:s390x (2.4.47+dfsg-3+deb10u7) ...\n",
      "INFO:__main__:2023-08-30 00:12:10,467  run                      INFO    run: Selecting previously unselected package libnghttp2-14:s390x.\n",
      "INFO:__main__:2023-08-30 00:12:10,467  run                      INFO    run: Preparing to unpack .../09-libnghttp2-14_1.36.0-2+deb10u1_s390x.deb ...\n",
      "INFO:__main__:2023-08-30 00:12:10,470  run                      INFO    run: Unpacking libnghttp2-14:s390x (1.36.0-2+deb10u1) ...\n",
      "INFO:__main__:2023-08-30 00:12:10,504  run                      INFO    run: Selecting previously unselected package libpsl5:s390x.\n",
      "INFO:__main__:2023-08-30 00:12:10,505  run                      INFO    run: Preparing to unpack .../10-libpsl5_0.20.2-2_s390x.deb ...\n",
      "INFO:__main__:2023-08-30 00:12:10,508  run                      INFO    run: Unpacking libpsl5:s390x (0.20.2-2) ...\n",
      "INFO:__main__:2023-08-30 00:12:10,536  run                      INFO    run: Selecting previously unselected package librtmp1:s390x.\n",
      "INFO:__main__:2023-08-30 00:12:10,537  run                      INFO    run: Preparing to unpack .../11-librtmp1_2.4+20151223.gitfa8646d.1-2_s390x.deb ...\n",
      "INFO:__main__:2023-08-30 00:12:10,540  run                      INFO    run: Unpacking librtmp1:s390x (2.4+20151223.gitfa8646d.1-2) ...\n",
      "INFO:__main__:2023-08-30 00:12:10,567  run                      INFO    run: Selecting previously unselected package libssh2-1:s390x.\n",
      "INFO:__main__:2023-08-30 00:12:10,568  run                      INFO    run: Preparing to unpack .../12-libssh2-1_1.8.0-2.1_s390x.deb ...\n",
      "INFO:__main__:2023-08-30 00:12:10,570  run                      INFO    run: Unpacking libssh2-1:s390x (1.8.0-2.1) ...\n",
      "INFO:__main__:2023-08-30 00:12:10,605  run                      INFO    run: Selecting previously unselected package libcurl4:s390x.\n",
      "INFO:__main__:2023-08-30 00:12:10,605  run                      INFO    run: Preparing to unpack .../13-libcurl4_7.64.0-4+deb10u2_s390x.deb ...\n",
      "INFO:__main__:2023-08-30 00:12:10,608  run                      INFO    run: Unpacking libcurl4:s390x (7.64.0-4+deb10u2) ...\n",
      "INFO:__main__:2023-08-30 00:12:10,654  run                      INFO    run: Selecting previously unselected package curl.\n",
      "INFO:__main__:2023-08-30 00:12:10,655  run                      INFO    run: Preparing to unpack .../14-curl_7.64.0-4+deb10u2_s390x.deb ...\n",
      "INFO:__main__:2023-08-30 00:12:10,658  run                      INFO    run: Unpacking curl (7.64.0-4+deb10u2) ...\n",
      "INFO:__main__:2023-08-30 00:12:10,706  run                      INFO    run: Setting up libkeyutils1:s390x (1.6-6) ...\n",
      "INFO:__main__:2023-08-30 00:12:10,715  run                      INFO    run: Setting up libpsl5:s390x (0.20.2-2) ...\n",
      "INFO:__main__:2023-08-30 00:12:10,724  run                      INFO    run: Setting up libnghttp2-14:s390x (1.36.0-2+deb10u1) ...\n",
      "INFO:__main__:2023-08-30 00:12:10,733  run                      INFO    run: Setting up libldap-common (2.4.47+dfsg-3+deb10u7) ...\n",
      "INFO:__main__:2023-08-30 00:12:10,744  run                      INFO    run: Setting up libkrb5support0:s390x (1.17-3+deb10u4) ...\n",
      "INFO:__main__:2023-08-30 00:12:10,752  run                      INFO    run: Setting up libsasl2-modules-db:s390x (2.1.27+dfsg-1+deb10u2) ...\n",
      "INFO:__main__:2023-08-30 00:12:10,760  run                      INFO    run: Setting up librtmp1:s390x (2.4+20151223.gitfa8646d.1-2) ...\n",
      "INFO:__main__:2023-08-30 00:12:10,769  run                      INFO    run: Setting up libk5crypto3:s390x (1.17-3+deb10u4) ...\n",
      "INFO:__main__:2023-08-30 00:12:10,777  run                      INFO    run: Setting up libsasl2-2:s390x (2.1.27+dfsg-1+deb10u2) ...\n",
      "INFO:__main__:2023-08-30 00:12:10,784  run                      INFO    run: Setting up libssh2-1:s390x (1.8.0-2.1) ...\n",
      "INFO:__main__:2023-08-30 00:12:10,791  run                      INFO    run: Setting up libkrb5-3:s390x (1.17-3+deb10u4) ...\n",
      "INFO:__main__:2023-08-30 00:12:10,798  run                      INFO    run: Setting up libldap-2.4-2:s390x (2.4.47+dfsg-3+deb10u7) ...\n",
      "INFO:__main__:2023-08-30 00:12:10,806  run                      INFO    run: Setting up libgssapi-krb5-2:s390x (1.17-3+deb10u4) ...\n",
      "INFO:__main__:2023-08-30 00:12:10,814  run                      INFO    run: Setting up libcurl4:s390x (7.64.0-4+deb10u2) ...\n",
      "INFO:__main__:2023-08-30 00:12:10,822  run                      INFO    run: Setting up curl (7.64.0-4+deb10u2) ...\n",
      "INFO:__main__:2023-08-30 00:12:10,830  run                      INFO    run: Processing triggers for libc-bin (2.28-10+deb10u1) ...\n",
      "INFO:__main__:2023-08-30 00:12:11,330  run                      INFO    run: Reading package lists...\n",
      "INFO:__main__:2023-08-30 00:12:11,422  run                      INFO    run: Building dependency tree...\n",
      "INFO:__main__:2023-08-30 00:12:11,422  run                      INFO    run: Reading state information...\n",
      "INFO:__main__:2023-08-30 00:12:11,493  run                      INFO    run: The following additional packages will be installed:\n",
      "INFO:__main__:2023-08-30 00:12:11,493  run                      INFO    run:   autotools-dev binutils binutils-common binutils-s390x-linux-gnu bzip2 cpp\n",
      "INFO:__main__:2023-08-30 00:12:11,493  run                      INFO    run:   cpp-8 dh-python dpkg-dev file g++ g++-8 gcc gcc-8 git-man libasan5\n",
      "INFO:__main__:2023-08-30 00:12:11,493  run                      INFO    run:   libatomic1 libbinutils libc-dev-bin libc6-dev libcc1-0 libcurl3-gnutls\n",
      "INFO:__main__:2023-08-30 00:12:11,493  run                      INFO    run:   libdpkg-perl liberror-perl libexpat1-dev libgcc-8-dev libgdbm-compat4\n",
      "INFO:__main__:2023-08-30 00:12:11,493  run                      INFO    run:   libgomp1 libisl19 libitm1 libmagic-mgc libmagic1 libmpc3 libmpdec2 libmpfr6\n",
      "INFO:__main__:2023-08-30 00:12:11,493  run                      INFO    run:   libpcre2-8-0 libperl5.28 libprotobuf17 libprotoc17 libpython3-dev\n",
      "INFO:__main__:2023-08-30 00:12:11,493  run                      INFO    run:   libpython3-stdlib libpython3.7 libpython3.7-dev libpython3.7-minimal\n",
      "INFO:__main__:2023-08-30 00:12:11,494  run                      INFO    run:   libpython3.7-stdlib libsigsegv2 libstdc++-8-dev libubsan1 linux-libc-dev m4\n",
      "INFO:__main__:2023-08-30 00:12:11,494  run                      INFO    run:   make mime-support patch perl perl-modules-5.28 python-pip-whl python3\n",
      "INFO:__main__:2023-08-30 00:12:11,494  run                      INFO    run:   python3-distutils python3-lib2to3 python3-minimal python3-pkg-resources\n",
      "INFO:__main__:2023-08-30 00:12:11,494  run                      INFO    run:   python3.7 python3.7-dev python3.7-minimal xz-utils\n",
      "INFO:__main__:2023-08-30 00:12:11,494  run                      INFO    run: Suggested packages:\n",
      "INFO:__main__:2023-08-30 00:12:11,494  run                      INFO    run:   autoconf-archive gnu-standards autoconf-doc gettext binutils-doc bzip2-doc\n",
      "INFO:__main__:2023-08-30 00:12:11,494  run                      INFO    run:   cpp-doc gcc-8-locales debian-keyring g++-multilib g++-8-multilib gcc-8-doc\n",
      "INFO:__main__:2023-08-30 00:12:11,495  run                      INFO    run:   libstdc++6-8-dbg gcc-multilib manpages-dev flex bison gdb gcc-doc\n",
      "INFO:__main__:2023-08-30 00:12:11,495  run                      INFO    run:   gcc-8-multilib libgcc1-dbg libgomp1-dbg libitm1-dbg libatomic1-dbg\n",
      "INFO:__main__:2023-08-30 00:12:11,495  run                      INFO    run:   libasan5-dbg liblsan0-dbg libtsan0-dbg libubsan1-dbg libmpx2-dbg\n",
      "INFO:__main__:2023-08-30 00:12:11,495  run                      INFO    run:   libquadmath0-dbg gettext-base git-daemon-run | git-daemon-sysvinit git-doc\n",
      "INFO:__main__:2023-08-30 00:12:11,495  run                      INFO    run:   git-el git-email git-gui gitk gitweb git-cvs git-mediawiki git-svn glibc-doc\n",
      "INFO:__main__:2023-08-30 00:12:11,495  run                      INFO    run:   gnupg | gnupg2 sensible-utils bzr libssl-doc libstdc++-8-doc libtool-doc\n",
      "INFO:__main__:2023-08-30 00:12:11,495  run                      INFO    run:   gfortran | fortran95-compiler gcj-jdk m4-doc make-doc ed diffutils-doc\n",
      "INFO:__main__:2023-08-30 00:12:11,495  run                      INFO    run:   perl-doc libterm-readline-gnu-perl | libterm-readline-perl-perl\n",
      "INFO:__main__:2023-08-30 00:12:11,495  run                      INFO    run:   libb-debug-perl liblocale-codes-perl python3-doc python3-tk python3-venv\n",
      "INFO:__main__:2023-08-30 00:12:11,495  run                      INFO    run:   python-setuptools-doc python3.7-venv python3.7-doc binfmt-support\n",
      "INFO:__main__:2023-08-30 00:12:11,495  run                      INFO    run: Recommended packages:\n",
      "INFO:__main__:2023-08-30 00:12:11,495  run                      INFO    run:   fakeroot gnupg | gnupg2 libalgorithm-merge-perl less ssh-client manpages\n",
      "INFO:__main__:2023-08-30 00:12:11,495  run                      INFO    run:   manpages-dev libfile-fcntllock-perl liblocale-gettext-perl libltdl-dev\n",
      "INFO:__main__:2023-08-30 00:12:11,496  run                      INFO    run:   libprotobuf-dev python3-keyring python3-keyrings.alt python3-xdg\n",
      "INFO:__main__:2023-08-30 00:12:11,925  run                      INFO    run: The following NEW packages will be installed:\n",
      "INFO:__main__:2023-08-30 00:12:11,926  run                      INFO    run:   autoconf automake autotools-dev binutils binutils-common\n",
      "INFO:__main__:2023-08-30 00:12:11,926  run                      INFO    run:   binutils-s390x-linux-gnu build-essential bzip2 cpp cpp-8 dh-python dpkg-dev\n",
      "INFO:__main__:2023-08-30 00:12:11,926  run                      INFO    run:   file g++ g++-8 gcc gcc-8 git git-man libasan5 libatomic1 libbinutils\n",
      "INFO:__main__:2023-08-30 00:12:11,926  run                      INFO    run:   libc-dev-bin libc6-dev libcc1-0 libcurl3-gnutls libdpkg-perl liberror-perl\n",
      "INFO:__main__:2023-08-30 00:12:11,926  run                      INFO    run:   libexpat1-dev libffi-dev libgcc-8-dev libgdbm-compat4 libgomp1 libisl19\n",
      "INFO:__main__:2023-08-30 00:12:11,926  run                      INFO    run:   libitm1 libmagic-mgc libmagic1 libmpc3 libmpdec2 libmpfr6 libpcre2-8-0\n",
      "INFO:__main__:2023-08-30 00:12:11,926  run                      INFO    run:   libperl5.28 libprotobuf17 libprotoc17 libpython3-dev libpython3-stdlib\n",
      "INFO:__main__:2023-08-30 00:12:11,926  run                      INFO    run:   libpython3.7 libpython3.7-dev libpython3.7-minimal libpython3.7-stdlib\n",
      "INFO:__main__:2023-08-30 00:12:11,927  run                      INFO    run:   libsigsegv2 libssl-dev libstdc++-8-dev libtool libubsan1 linux-libc-dev m4\n",
      "INFO:__main__:2023-08-30 00:12:11,927  run                      INFO    run:   make mime-support patch perl perl-modules-5.28 protobuf-compiler\n",
      "INFO:__main__:2023-08-30 00:12:11,927  run                      INFO    run:   python-pip-whl python3 python3-dev python3-distutils python3-lib2to3\n",
      "INFO:__main__:2023-08-30 00:12:11,927  run                      INFO    run:   python3-minimal python3-pip python3-pkg-resources python3-setuptools\n",
      "INFO:__main__:2023-08-30 00:12:11,927  run                      INFO    run:   python3-wheel python3.7 python3.7-dev python3.7-minimal xz-utils\n",
      "INFO:__main__:2023-08-30 00:12:11,947  run                      INFO    run: 0 upgraded, 77 newly installed, 0 to remove and 0 not upgraded.\n",
      "INFO:__main__:2023-08-30 00:12:11,947  run                      INFO    run: Need to get 114 MB of archives.\n",
      "INFO:__main__:2023-08-30 00:12:11,947  run                      INFO    run: After this operation, 384 MB of additional disk space will be used.\n",
      "INFO:__main__:2023-08-30 00:12:11,947  run                      INFO    run: Get:1 http://deb.debian.org/debian buster/main s390x perl-modules-5.28 all 5.28.1-6+deb10u1 [2873 kB]\n",
      "INFO:__main__:2023-08-30 00:12:11,980  run                      INFO    run: Get:2 http://deb.debian.org/debian buster/main s390x libgdbm-compat4 s390x 1.18.1-4 [44.2 kB]\n",
      "INFO:__main__:2023-08-30 00:12:11,983  run                      INFO    run: Get:3 http://deb.debian.org/debian buster/main s390x libperl5.28 s390x 5.28.1-6+deb10u1 [3712 kB]\n",
      "INFO:__main__:2023-08-30 00:12:12,022  run                      INFO    run: Get:4 http://deb.debian.org/debian buster/main s390x perl s390x 5.28.1-6+deb10u1 [204 kB]\n",
      "INFO:__main__:2023-08-30 00:12:12,025  run                      INFO    run: Get:5 http://deb.debian.org/debian buster/main s390x libpython3.7-minimal s390x 3.7.3-2+deb10u3 [586 kB]\n",
      "INFO:__main__:2023-08-30 00:12:12,031  run                      INFO    run: Get:6 http://deb.debian.org/debian buster/main s390x python3.7-minimal s390x 3.7.3-2+deb10u3 [1590 kB]\n",
      "INFO:__main__:2023-08-30 00:12:12,047  run                      INFO    run: Get:7 http://deb.debian.org/debian buster/main s390x python3-minimal s390x 3.7.3-1 [36.6 kB]\n",
      "INFO:__main__:2023-08-30 00:12:12,048  run                      INFO    run: Get:8 http://deb.debian.org/debian buster/main s390x mime-support all 3.62 [37.2 kB]\n",
      "INFO:__main__:2023-08-30 00:12:12,049  run                      INFO    run: Get:9 http://deb.debian.org/debian buster/main s390x libmpdec2 s390x 2.4.2-2 [83.3 kB]\n",
      "INFO:__main__:2023-08-30 00:12:12,050  run                      INFO    run: Get:10 http://deb.debian.org/debian buster/main s390x libpython3.7-stdlib s390x 3.7.3-2+deb10u3 [1686 kB]\n",
      "INFO:__main__:2023-08-30 00:12:12,067  run                      INFO    run: Get:11 http://deb.debian.org/debian buster/main s390x python3.7 s390x 3.7.3-2+deb10u3 [330 kB]\n",
      "INFO:__main__:2023-08-30 00:12:12,071  run                      INFO    run: Get:12 http://deb.debian.org/debian buster/main s390x libpython3-stdlib s390x 3.7.3-1 [20.0 kB]\n",
      "INFO:__main__:2023-08-30 00:12:12,071  run                      INFO    run: Get:13 http://deb.debian.org/debian buster/main s390x python3 s390x 3.7.3-1 [61.5 kB]\n",
      "INFO:__main__:2023-08-30 00:12:12,072  run                      INFO    run: Get:14 http://deb.debian.org/debian buster/main s390x bzip2 s390x 1.0.6-9.2~deb10u1 [47.8 kB]\n",
      "INFO:__main__:2023-08-30 00:12:12,073  run                      INFO    run: Get:15 http://deb.debian.org/debian buster/main s390x libmagic-mgc s390x 1:5.35-4+deb10u2 [243 kB]\n",
      "INFO:__main__:2023-08-30 00:12:12,076  run                      INFO    run: Get:16 http://deb.debian.org/debian buster/main s390x libmagic1 s390x 1:5.35-4+deb10u2 [114 kB]\n",
      "INFO:__main__:2023-08-30 00:12:12,077  run                      INFO    run: Get:17 http://deb.debian.org/debian buster/main s390x file s390x 1:5.35-4+deb10u2 [66.1 kB]\n",
      "INFO:__main__:2023-08-30 00:12:12,078  run                      INFO    run: Get:18 http://deb.debian.org/debian buster/main s390x xz-utils s390x 5.2.4-1+deb10u1 [181 kB]\n",
      "INFO:__main__:2023-08-30 00:12:12,081  run                      INFO    run: Get:19 http://deb.debian.org/debian buster/main s390x libsigsegv2 s390x 2.12-2 [32.7 kB]\n",
      "INFO:__main__:2023-08-30 00:12:12,081  run                      INFO    run: Get:20 http://deb.debian.org/debian buster/main s390x m4 s390x 1.4.18-2 [199 kB]\n",
      "INFO:__main__:2023-08-30 00:12:12,085  run                      INFO    run: Get:21 http://deb.debian.org/debian buster/main s390x autoconf all 2.69-11 [341 kB]\n",
      "INFO:__main__:2023-08-30 00:12:12,095  run                      INFO    run: Get:22 http://deb.debian.org/debian buster/main s390x autotools-dev all 20180224.1 [77.0 kB]\n",
      "INFO:__main__:2023-08-30 00:12:12,097  run                      INFO    run: Get:23 http://deb.debian.org/debian buster/main s390x automake all 1:1.16.1-4 [771 kB]\n",
      "INFO:__main__:2023-08-30 00:12:12,107  run                      INFO    run: Get:24 http://deb.debian.org/debian buster/main s390x binutils-common s390x 2.31.1-16 [2073 kB]\n",
      "INFO:__main__:2023-08-30 00:12:12,128  run                      INFO    run: Get:25 http://deb.debian.org/debian buster/main s390x libbinutils s390x 2.31.1-16 [298 kB]\n",
      "INFO:__main__:2023-08-30 00:12:12,132  run                      INFO    run: Get:26 http://deb.debian.org/debian buster/main s390x binutils-s390x-linux-gnu s390x 2.31.1-16 [1653 kB]\n",
      "INFO:__main__:2023-08-30 00:12:12,148  run                      INFO    run: Get:27 http://deb.debian.org/debian buster/main s390x binutils s390x 2.31.1-16 [56.7 kB]\n",
      "INFO:__main__:2023-08-30 00:12:12,149  run                      INFO    run: Get:28 http://deb.debian.org/debian buster/main s390x libc-dev-bin s390x 2.28-10+deb10u1 [270 kB]\n",
      "INFO:__main__:2023-08-30 00:12:12,152  run                      INFO    run: Get:29 http://deb.debian.org/debian buster/main s390x linux-libc-dev s390x 4.19.249-2 [1527 kB]\n",
      "INFO:__main__:2023-08-30 00:12:12,169  run                      INFO    run: Get:30 http://deb.debian.org/debian buster/main s390x libc6-dev s390x 2.28-10+deb10u1 [2269 kB]\n",
      "INFO:__main__:2023-08-30 00:12:12,192  run                      INFO    run: Get:31 http://deb.debian.org/debian buster/main s390x libisl19 s390x 0.20-2 [547 kB]\n",
      "INFO:__main__:2023-08-30 00:12:12,198  run                      INFO    run: Get:32 http://deb.debian.org/debian buster/main s390x libmpfr6 s390x 4.0.2-1 [761 kB]\n",
      "INFO:__main__:2023-08-30 00:12:12,206  run                      INFO    run: Get:33 http://deb.debian.org/debian buster/main s390x libmpc3 s390x 1.1.0-1 [38.0 kB]\n",
      "INFO:__main__:2023-08-30 00:12:12,207  run                      INFO    run: Get:34 http://deb.debian.org/debian buster/main s390x cpp-8 s390x 8.3.0-6 [6785 kB]\n",
      "INFO:__main__:2023-08-30 00:12:12,276  run                      INFO    run: Get:35 http://deb.debian.org/debian buster/main s390x cpp s390x 4:8.3.0-1 [19.4 kB]\n",
      "INFO:__main__:2023-08-30 00:12:12,277  run                      INFO    run: Get:36 http://deb.debian.org/debian buster/main s390x libcc1-0 s390x 8.3.0-6 [43.8 kB]\n",
      "INFO:__main__:2023-08-30 00:12:12,278  run                      INFO    run: Get:37 http://deb.debian.org/debian buster/main s390x libgomp1 s390x 8.3.0-6 [69.0 kB]\n",
      "INFO:__main__:2023-08-30 00:12:12,279  run                      INFO    run: Get:38 http://deb.debian.org/debian buster/main s390x libitm1 s390x 8.3.0-6 [26.7 kB]\n",
      "INFO:__main__:2023-08-30 00:12:12,280  run                      INFO    run: Get:39 http://deb.debian.org/debian buster/main s390x libatomic1 s390x 8.3.0-6 [8184 B]\n",
      "INFO:__main__:2023-08-30 00:12:12,280  run                      INFO    run: Get:40 http://deb.debian.org/debian buster/main s390x libasan5 s390x 8.3.0-6 [321 kB]\n",
      "INFO:__main__:2023-08-30 00:12:12,283  run                      INFO    run: Get:41 http://deb.debian.org/debian buster/main s390x libubsan1 s390x 8.3.0-6 [113 kB]\n",
      "INFO:__main__:2023-08-30 00:12:12,285  run                      INFO    run: Get:42 http://deb.debian.org/debian buster/main s390x libgcc-8-dev s390x 8.3.0-6 [641 kB]\n",
      "INFO:__main__:2023-08-30 00:12:12,292  run                      INFO    run: Get:43 http://deb.debian.org/debian buster/main s390x gcc-8 s390x 8.3.0-6 [7277 kB]\n",
      "INFO:__main__:2023-08-30 00:12:12,366  run                      INFO    run: Get:44 http://deb.debian.org/debian buster/main s390x gcc s390x 4:8.3.0-1 [5188 B]\n",
      "INFO:__main__:2023-08-30 00:12:12,366  run                      INFO    run: Get:45 http://deb.debian.org/debian buster/main s390x libstdc++-8-dev s390x 8.3.0-6 [1502 kB]\n",
      "INFO:__main__:2023-08-30 00:12:12,382  run                      INFO    run: Get:46 http://deb.debian.org/debian buster/main s390x g++-8 s390x 8.3.0-6 [7525 kB]\n",
      "INFO:__main__:2023-08-30 00:12:12,459  run                      INFO    run: Get:47 http://deb.debian.org/debian buster/main s390x g++ s390x 4:8.3.0-1 [1636 B]\n",
      "INFO:__main__:2023-08-30 00:12:12,459  run                      INFO    run: Get:48 http://deb.debian.org/debian buster/main s390x make s390x 4.2.1-1.2 [333 kB]\n",
      "INFO:__main__:2023-08-30 00:12:12,463  run                      INFO    run: Get:49 http://deb.debian.org/debian buster/main s390x libdpkg-perl all 1.19.8 [1415 kB]\n",
      "INFO:__main__:2023-08-30 00:12:12,478  run                      INFO    run: Get:50 http://deb.debian.org/debian buster/main s390x patch s390x 2.7.6-3+deb10u1 [124 kB]\n",
      "INFO:__main__:2023-08-30 00:12:12,480  run                      INFO    run: Get:51 http://deb.debian.org/debian buster/main s390x dpkg-dev all 1.19.8 [1776 kB]\n",
      "INFO:__main__:2023-08-30 00:12:12,498  run                      INFO    run: Get:52 http://deb.debian.org/debian buster/main s390x build-essential s390x 12.6 [7576 B]\n",
      "INFO:__main__:2023-08-30 00:12:12,498  run                      INFO    run: Get:53 http://deb.debian.org/debian buster/main s390x python3-lib2to3 all 3.7.3-1 [76.7 kB]\n",
      "INFO:__main__:2023-08-30 00:12:12,499  run                      INFO    run: Get:54 http://deb.debian.org/debian buster/main s390x python3-distutils all 3.7.3-1 [142 kB]\n",
      "INFO:__main__:2023-08-30 00:12:12,501  run                      INFO    run: Get:55 http://deb.debian.org/debian buster/main s390x dh-python all 3.20190308 [99.3 kB]\n",
      "INFO:__main__:2023-08-30 00:12:12,503  run                      INFO    run: Get:56 http://deb.debian.org/debian buster/main s390x libcurl3-gnutls s390x 7.64.0-4+deb10u2 [308 kB]\n",
      "INFO:__main__:2023-08-30 00:12:12,506  run                      INFO    run: Get:57 http://deb.debian.org/debian buster/main s390x libpcre2-8-0 s390x 10.32-5 [130 kB]\n",
      "INFO:__main__:2023-08-30 00:12:12,508  run                      INFO    run: Get:58 http://deb.debian.org/debian buster/main s390x liberror-perl all 0.17027-2 [30.9 kB]\n",
      "INFO:__main__:2023-08-30 00:12:12,508  run                      INFO    run: Get:59 http://deb.debian.org/debian buster/main s390x git-man all 1:2.20.1-2+deb10u3 [1620 kB]\n",
      "INFO:__main__:2023-08-30 00:12:12,525  run                      INFO    run: Get:60 http://deb.debian.org/debian buster/main s390x git s390x 1:2.20.1-2+deb10u3 [5200 kB]\n",
      "INFO:__main__:2023-08-30 00:12:12,578  run                      INFO    run: Get:61 http://deb.debian.org/debian buster/main s390x libexpat1-dev s390x 2.2.6-2+deb10u4 [149 kB]\n",
      "INFO:__main__:2023-08-30 00:12:12,579  run                      INFO    run: Get:62 http://deb.debian.org/debian buster/main s390x libffi-dev s390x 3.2.1-9 [154 kB]\n",
      "INFO:__main__:2023-08-30 00:12:12,581  run                      INFO    run: Get:63 http://deb.debian.org/debian buster/main s390x libprotobuf17 s390x 3.6.1.3-2 [716 kB]\n",
      "INFO:__main__:2023-08-30 00:12:12,587  run                      INFO    run: Get:64 http://deb.debian.org/debian buster/main s390x libprotoc17 s390x 3.6.1.3-2 [582 kB]\n",
      "INFO:__main__:2023-08-30 00:12:12,631  run                      INFO    run: Get:65 http://deb.debian.org/debian buster/main s390x libpython3.7 s390x 3.7.3-2+deb10u3 [1359 kB]\n",
      "INFO:__main__:2023-08-30 00:12:12,987  run                      INFO    run: Get:66 http://deb.debian.org/debian buster/main s390x libpython3.7-dev s390x 3.7.3-2+deb10u3 [47.8 MB]\n",
      "INFO:__main__:2023-08-30 00:12:13,446  run                      INFO    run: Get:67 http://deb.debian.org/debian buster/main s390x libpython3-dev s390x 3.7.3-1 [20.1 kB]\n",
      "INFO:__main__:2023-08-30 00:12:13,446  run                      INFO    run: Get:68 http://deb.debian.org/debian buster/main s390x libssl-dev s390x 1.1.1n-0+deb10u3 [1472 kB]\n",
      "INFO:__main__:2023-08-30 00:12:13,462  run                      INFO    run: Get:69 http://deb.debian.org/debian buster/main s390x libtool all 2.4.6-9 [547 kB]\n",
      "INFO:__main__:2023-08-30 00:12:13,469  run                      INFO    run: Get:70 http://deb.debian.org/debian buster/main s390x protobuf-compiler s390x 3.6.1.3-2 [64.7 kB]\n",
      "INFO:__main__:2023-08-30 00:12:13,470  run                      INFO    run: Get:71 http://deb.debian.org/debian buster/main s390x python-pip-whl all 18.1-5 [1591 kB]\n",
      "INFO:__main__:2023-08-30 00:12:13,484  run                      INFO    run: Get:72 http://deb.debian.org/debian buster/main s390x python3.7-dev s390x 3.7.3-2+deb10u3 [509 kB]\n",
      "INFO:__main__:2023-08-30 00:12:13,489  run                      INFO    run: Get:73 http://deb.debian.org/debian buster/main s390x python3-dev s390x 3.7.3-1 [1264 B]\n",
      "INFO:__main__:2023-08-30 00:12:13,489  run                      INFO    run: Get:74 http://deb.debian.org/debian buster/main s390x python3-pip all 18.1-5 [171 kB]\n",
      "INFO:__main__:2023-08-30 00:12:13,491  run                      INFO    run: Get:75 http://deb.debian.org/debian buster/main s390x python3-pkg-resources all 40.8.0-1 [153 kB]\n",
      "INFO:__main__:2023-08-30 00:12:13,492  run                      INFO    run: Get:76 http://deb.debian.org/debian buster/main s390x python3-setuptools all 40.8.0-1 [306 kB]\n",
      "INFO:__main__:2023-08-30 00:12:13,495  run                      INFO    run: Get:77 http://deb.debian.org/debian buster/main s390x python3-wheel all 0.32.3-2 [19.4 kB]\n",
      "INFO:__main__:2023-08-30 00:12:16,885  run                      INFO    run: \u001b[91mdebconf: delaying package configuration, since apt-utils is not installed\n",
      "INFO:__main__:2023-08-30 00:12:19,553  run                      INFO    run: \u001b[0mFetched 114 MB in 2s (73.2 MB/s)\n",
      "INFO:__main__:2023-08-30 00:12:19,568  run                      INFO    run: Selecting previously unselected package perl-modules-5.28.\n",
      "(Reading database ... 6959 files and directories currently installed.)  run: (Reading database ... \n",
      "INFO:__main__:2023-08-30 00:12:19,573  run                      INFO    run: Preparing to unpack .../0-perl-modules-5.28_5.28.1-6+deb10u1_all.deb ...\n",
      "INFO:__main__:2023-08-30 00:12:19,577  run                      INFO    run: Unpacking perl-modules-5.28 (5.28.1-6+deb10u1) ...\n",
      "INFO:__main__:2023-08-30 00:12:19,979  run                      INFO    run: Selecting previously unselected package libgdbm-compat4:s390x.\n",
      "INFO:__main__:2023-08-30 00:12:19,980  run                      INFO    run: Preparing to unpack .../1-libgdbm-compat4_1.18.1-4_s390x.deb ...\n",
      "INFO:__main__:2023-08-30 00:12:19,986  run                      INFO    run: Unpacking libgdbm-compat4:s390x (1.18.1-4) ...\n",
      "INFO:__main__:2023-08-30 00:12:20,016  run                      INFO    run: Selecting previously unselected package libperl5.28:s390x.\n",
      "INFO:__main__:2023-08-30 00:12:20,017  run                      INFO    run: Preparing to unpack .../2-libperl5.28_5.28.1-6+deb10u1_s390x.deb ...\n",
      "INFO:__main__:2023-08-30 00:12:20,020  run                      INFO    run: Unpacking libperl5.28:s390x (5.28.1-6+deb10u1) ...\n",
      "INFO:__main__:2023-08-30 00:12:20,530  run                      INFO    run: Selecting previously unselected package perl.\n",
      "INFO:__main__:2023-08-30 00:12:20,532  run                      INFO    run: Preparing to unpack .../3-perl_5.28.1-6+deb10u1_s390x.deb ...\n",
      "INFO:__main__:2023-08-30 00:12:20,539  run                      INFO    run: Unpacking perl (5.28.1-6+deb10u1) ...\n",
      "INFO:__main__:2023-08-30 00:12:20,586  run                      INFO    run: Selecting previously unselected package libpython3.7-minimal:s390x.\n",
      "INFO:__main__:2023-08-30 00:12:20,587  run                      INFO    run: Preparing to unpack .../4-libpython3.7-minimal_3.7.3-2+deb10u3_s390x.deb ...\n",
      "INFO:__main__:2023-08-30 00:12:20,590  run                      INFO    run: Unpacking libpython3.7-minimal:s390x (3.7.3-2+deb10u3) ...\n",
      "INFO:__main__:2023-08-30 00:12:20,689  run                      INFO    run: Selecting previously unselected package python3.7-minimal.\n",
      "INFO:__main__:2023-08-30 00:12:20,690  run                      INFO    run: Preparing to unpack .../5-python3.7-minimal_3.7.3-2+deb10u3_s390x.deb ...\n",
      "INFO:__main__:2023-08-30 00:12:20,695  run                      INFO    run: Unpacking python3.7-minimal (3.7.3-2+deb10u3) ...\n",
      "INFO:__main__:2023-08-30 00:12:20,874  run                      INFO    run: Setting up libpython3.7-minimal:s390x (3.7.3-2+deb10u3) ...\n",
      "INFO:__main__:2023-08-30 00:12:20,887  run                      INFO    run: Setting up python3.7-minimal (3.7.3-2+deb10u3) ...\n",
      "INFO:__main__:2023-08-30 00:12:21,334  run                      INFO    run: Selecting previously unselected package python3-minimal.\n",
      "(Reading database ... 9138 files and directories currently installed.)  run: (Reading database ... \n",
      "INFO:__main__:2023-08-30 00:12:21,339  run                      INFO    run: Preparing to unpack .../0-python3-minimal_3.7.3-1_s390x.deb ...\n",
      "INFO:__main__:2023-08-30 00:12:21,343  run                      INFO    run: Unpacking python3-minimal (3.7.3-1) ...\n",
      "INFO:__main__:2023-08-30 00:12:21,373  run                      INFO    run: Selecting previously unselected package mime-support.\n",
      "INFO:__main__:2023-08-30 00:12:21,374  run                      INFO    run: Preparing to unpack .../1-mime-support_3.62_all.deb ...\n",
      "INFO:__main__:2023-08-30 00:12:21,377  run                      INFO    run: Unpacking mime-support (3.62) ...\n",
      "INFO:__main__:2023-08-30 00:12:21,414  run                      INFO    run: Selecting previously unselected package libmpdec2:s390x.\n",
      "INFO:__main__:2023-08-30 00:12:21,415  run                      INFO    run: Preparing to unpack .../2-libmpdec2_2.4.2-2_s390x.deb ...\n",
      "INFO:__main__:2023-08-30 00:12:21,419  run                      INFO    run: Unpacking libmpdec2:s390x (2.4.2-2) ...\n",
      "INFO:__main__:2023-08-30 00:12:21,450  run                      INFO    run: Selecting previously unselected package libpython3.7-stdlib:s390x.\n",
      "INFO:__main__:2023-08-30 00:12:21,451  run                      INFO    run: Preparing to unpack .../3-libpython3.7-stdlib_3.7.3-2+deb10u3_s390x.deb ...\n",
      "INFO:__main__:2023-08-30 00:12:21,454  run                      INFO    run: Unpacking libpython3.7-stdlib:s390x (3.7.3-2+deb10u3) ...\n",
      "INFO:__main__:2023-08-30 00:12:21,665  run                      INFO    run: Selecting previously unselected package python3.7.\n",
      "INFO:__main__:2023-08-30 00:12:21,666  run                      INFO    run: Preparing to unpack .../4-python3.7_3.7.3-2+deb10u3_s390x.deb ...\n",
      "INFO:__main__:2023-08-30 00:12:21,669  run                      INFO    run: Unpacking python3.7 (3.7.3-2+deb10u3) ...\n",
      "INFO:__main__:2023-08-30 00:12:21,702  run                      INFO    run: Selecting previously unselected package libpython3-stdlib:s390x.\n",
      "INFO:__main__:2023-08-30 00:12:21,703  run                      INFO    run: Preparing to unpack .../5-libpython3-stdlib_3.7.3-1_s390x.deb ...\n",
      "INFO:__main__:2023-08-30 00:12:21,706  run                      INFO    run: Unpacking libpython3-stdlib:s390x (3.7.3-1) ...\n",
      "INFO:__main__:2023-08-30 00:12:21,733  run                      INFO    run: Setting up python3-minimal (3.7.3-1) ...\n",
      "INFO:__main__:2023-08-30 00:12:21,887  run                      INFO    run: Selecting previously unselected package python3.\n",
      "(Reading database ... 9575 files and directories currently installed.)  run: (Reading database ... \n",
      "INFO:__main__:2023-08-30 00:12:21,892  run                      INFO    run: Preparing to unpack .../00-python3_3.7.3-1_s390x.deb ...\n",
      "INFO:__main__:2023-08-30 00:12:21,896  run                      INFO    run: Unpacking python3 (3.7.3-1) ...\n",
      "INFO:__main__:2023-08-30 00:12:21,922  run                      INFO    run: Selecting previously unselected package bzip2.\n",
      "INFO:__main__:2023-08-30 00:12:21,923  run                      INFO    run: Preparing to unpack .../01-bzip2_1.0.6-9.2~deb10u1_s390x.deb ...\n",
      "INFO:__main__:2023-08-30 00:12:21,927  run                      INFO    run: Unpacking bzip2 (1.0.6-9.2~deb10u1) ...\n",
      "INFO:__main__:2023-08-30 00:12:21,952  run                      INFO    run: Selecting previously unselected package libmagic-mgc.\n",
      "INFO:__main__:2023-08-30 00:12:21,953  run                      INFO    run: Preparing to unpack .../02-libmagic-mgc_1%3a5.35-4+deb10u2_s390x.deb ...\n",
      "INFO:__main__:2023-08-30 00:12:21,956  run                      INFO    run: Unpacking libmagic-mgc (1:5.35-4+deb10u2) ...\n",
      "INFO:__main__:2023-08-30 00:12:22,024  run                      INFO    run: Selecting previously unselected package libmagic1:s390x.\n",
      "INFO:__main__:2023-08-30 00:12:22,025  run                      INFO    run: Preparing to unpack .../03-libmagic1_1%3a5.35-4+deb10u2_s390x.deb ...\n",
      "INFO:__main__:2023-08-30 00:12:22,028  run                      INFO    run: Unpacking libmagic1:s390x (1:5.35-4+deb10u2) ...\n",
      "INFO:__main__:2023-08-30 00:12:22,060  run                      INFO    run: Selecting previously unselected package file.\n",
      "INFO:__main__:2023-08-30 00:12:22,061  run                      INFO    run: Preparing to unpack .../04-file_1%3a5.35-4+deb10u2_s390x.deb ...\n",
      "INFO:__main__:2023-08-30 00:12:22,065  run                      INFO    run: Unpacking file (1:5.35-4+deb10u2) ...\n",
      "INFO:__main__:2023-08-30 00:12:22,096  run                      INFO    run: Selecting previously unselected package xz-utils.\n",
      "INFO:__main__:2023-08-30 00:12:22,097  run                      INFO    run: Preparing to unpack .../05-xz-utils_5.2.4-1+deb10u1_s390x.deb ...\n",
      "INFO:__main__:2023-08-30 00:12:22,100  run                      INFO    run: Unpacking xz-utils (5.2.4-1+deb10u1) ...\n",
      "INFO:__main__:2023-08-30 00:12:22,151  run                      INFO    run: Selecting previously unselected package libsigsegv2:s390x.\n",
      "INFO:__main__:2023-08-30 00:12:22,152  run                      INFO    run: Preparing to unpack .../06-libsigsegv2_2.12-2_s390x.deb ...\n",
      "INFO:__main__:2023-08-30 00:12:22,155  run                      INFO    run: Unpacking libsigsegv2:s390x (2.12-2) ...\n",
      "INFO:__main__:2023-08-30 00:12:22,180  run                      INFO    run: Selecting previously unselected package m4.\n",
      "INFO:__main__:2023-08-30 00:12:22,181  run                      INFO    run: Preparing to unpack .../07-m4_1.4.18-2_s390x.deb ...\n",
      "INFO:__main__:2023-08-30 00:12:22,184  run                      INFO    run: Unpacking m4 (1.4.18-2) ...\n",
      "INFO:__main__:2023-08-30 00:12:22,227  run                      INFO    run: Selecting previously unselected package autoconf.\n",
      "INFO:__main__:2023-08-30 00:12:22,228  run                      INFO    run: Preparing to unpack .../08-autoconf_2.69-11_all.deb ...\n",
      "INFO:__main__:2023-08-30 00:12:22,231  run                      INFO    run: Unpacking autoconf (2.69-11) ...\n",
      "INFO:__main__:2023-08-30 00:12:22,288  run                      INFO    run: Selecting previously unselected package autotools-dev.\n",
      "INFO:__main__:2023-08-30 00:12:22,289  run                      INFO    run: Preparing to unpack .../09-autotools-dev_20180224.1_all.deb ...\n",
      "INFO:__main__:2023-08-30 00:12:22,293  run                      INFO    run: Unpacking autotools-dev (20180224.1) ...\n",
      "INFO:__main__:2023-08-30 00:12:22,326  run                      INFO    run: Selecting previously unselected package automake.\n",
      "INFO:__main__:2023-08-30 00:12:22,327  run                      INFO    run: Preparing to unpack .../10-automake_1%3a1.16.1-4_all.deb ...\n",
      "INFO:__main__:2023-08-30 00:12:22,331  run                      INFO    run: Unpacking automake (1:1.16.1-4) ...\n",
      "INFO:__main__:2023-08-30 00:12:22,429  run                      INFO    run: Selecting previously unselected package binutils-common:s390x.\n",
      "INFO:__main__:2023-08-30 00:12:22,430  run                      INFO    run: Preparing to unpack .../11-binutils-common_2.31.1-16_s390x.deb ...\n",
      "INFO:__main__:2023-08-30 00:12:22,433  run                      INFO    run: Unpacking binutils-common:s390x (2.31.1-16) ...\n",
      "INFO:__main__:2023-08-30 00:12:22,647  run                      INFO    run: Selecting previously unselected package libbinutils:s390x.\n",
      "INFO:__main__:2023-08-30 00:12:22,648  run                      INFO    run: Preparing to unpack .../12-libbinutils_2.31.1-16_s390x.deb ...\n",
      "INFO:__main__:2023-08-30 00:12:22,652  run                      INFO    run: Unpacking libbinutils:s390x (2.31.1-16) ...\n",
      "INFO:__main__:2023-08-30 00:12:22,702  run                      INFO    run: Selecting previously unselected package binutils-s390x-linux-gnu.\n",
      "INFO:__main__:2023-08-30 00:12:22,703  run                      INFO    run: Preparing to unpack .../13-binutils-s390x-linux-gnu_2.31.1-16_s390x.deb ...\n",
      "INFO:__main__:2023-08-30 00:12:22,706  run                      INFO    run: Unpacking binutils-s390x-linux-gnu (2.31.1-16) ...\n",
      "INFO:__main__:2023-08-30 00:12:22,918  run                      INFO    run: Selecting previously unselected package binutils.\n",
      "INFO:__main__:2023-08-30 00:12:22,919  run                      INFO    run: Preparing to unpack .../14-binutils_2.31.1-16_s390x.deb ...\n",
      "INFO:__main__:2023-08-30 00:12:22,922  run                      INFO    run: Unpacking binutils (2.31.1-16) ...\n",
      "INFO:__main__:2023-08-30 00:12:22,948  run                      INFO    run: Selecting previously unselected package libc-dev-bin.\n",
      "INFO:__main__:2023-08-30 00:12:22,949  run                      INFO    run: Preparing to unpack .../15-libc-dev-bin_2.28-10+deb10u1_s390x.deb ...\n",
      "INFO:__main__:2023-08-30 00:12:22,952  run                      INFO    run: Unpacking libc-dev-bin (2.28-10+deb10u1) ...\n",
      "INFO:__main__:2023-08-30 00:12:22,982  run                      INFO    run: Selecting previously unselected package linux-libc-dev:s390x.\n",
      "INFO:__main__:2023-08-30 00:12:22,983  run                      INFO    run: Preparing to unpack .../16-linux-libc-dev_4.19.249-2_s390x.deb ...\n",
      "INFO:__main__:2023-08-30 00:12:22,987  run                      INFO    run: Unpacking linux-libc-dev:s390x (4.19.249-2) ...\n",
      "INFO:__main__:2023-08-30 00:12:23,153  run                      INFO    run: Selecting previously unselected package libc6-dev:s390x.\n",
      "INFO:__main__:2023-08-30 00:12:23,154  run                      INFO    run: Preparing to unpack .../17-libc6-dev_2.28-10+deb10u1_s390x.deb ...\n",
      "INFO:__main__:2023-08-30 00:12:23,158  run                      INFO    run: Unpacking libc6-dev:s390x (2.28-10+deb10u1) ...\n",
      "INFO:__main__:2023-08-30 00:12:23,463  run                      INFO    run: Selecting previously unselected package libisl19:s390x.\n",
      "INFO:__main__:2023-08-30 00:12:23,464  run                      INFO    run: Preparing to unpack .../18-libisl19_0.20-2_s390x.deb ...\n",
      "INFO:__main__:2023-08-30 00:12:23,467  run                      INFO    run: Unpacking libisl19:s390x (0.20-2) ...\n",
      "INFO:__main__:2023-08-30 00:12:23,546  run                      INFO    run: Selecting previously unselected package libmpfr6:s390x.\n",
      "INFO:__main__:2023-08-30 00:12:23,547  run                      INFO    run: Preparing to unpack .../19-libmpfr6_4.0.2-1_s390x.deb ...\n",
      "INFO:__main__:2023-08-30 00:12:23,550  run                      INFO    run: Unpacking libmpfr6:s390x (4.0.2-1) ...\n",
      "INFO:__main__:2023-08-30 00:12:23,598  run                      INFO    run: Selecting previously unselected package libmpc3:s390x.\n",
      "INFO:__main__:2023-08-30 00:12:23,599  run                      INFO    run: Preparing to unpack .../20-libmpc3_1.1.0-1_s390x.deb ...\n",
      "INFO:__main__:2023-08-30 00:12:23,603  run                      INFO    run: Unpacking libmpc3:s390x (1.1.0-1) ...\n",
      "INFO:__main__:2023-08-30 00:12:23,631  run                      INFO    run: Selecting previously unselected package cpp-8.\n",
      "INFO:__main__:2023-08-30 00:12:23,633  run                      INFO    run: Preparing to unpack .../21-cpp-8_8.3.0-6_s390x.deb ...\n",
      "INFO:__main__:2023-08-30 00:12:23,636  run                      INFO    run: Unpacking cpp-8 (8.3.0-6) ...\n",
      "INFO:__main__:2023-08-30 00:12:33,804  run                      INFO    run: Selecting previously unselected package cpp.\n",
      "INFO:__main__:2023-08-30 00:12:33,804  run                      INFO    run: Preparing to unpack .../22-cpp_4%3a8.3.0-1_s390x.deb ...\n",
      "INFO:__main__:2023-08-30 00:12:33,806  run                      INFO    run: Unpacking cpp (4:8.3.0-1) ...\n",
      "INFO:__main__:2023-08-30 00:12:33,842  run                      INFO    run: Selecting previously unselected package libcc1-0:s390x.\n",
      "INFO:__main__:2023-08-30 00:12:33,843  run                      INFO    run: Preparing to unpack .../23-libcc1-0_8.3.0-6_s390x.deb ...\n",
      "INFO:__main__:2023-08-30 00:12:33,846  run                      INFO    run: Unpacking libcc1-0:s390x (8.3.0-6) ...\n",
      "INFO:__main__:2023-08-30 00:12:33,876  run                      INFO    run: Selecting previously unselected package libgomp1:s390x.\n",
      "INFO:__main__:2023-08-30 00:12:33,877  run                      INFO    run: Preparing to unpack .../24-libgomp1_8.3.0-6_s390x.deb ...\n",
      "INFO:__main__:2023-08-30 00:12:33,880  run                      INFO    run: Unpacking libgomp1:s390x (8.3.0-6) ...\n",
      "INFO:__main__:2023-08-30 00:12:33,914  run                      INFO    run: Selecting previously unselected package libitm1:s390x.\n",
      "INFO:__main__:2023-08-30 00:12:33,915  run                      INFO    run: Preparing to unpack .../25-libitm1_8.3.0-6_s390x.deb ...\n",
      "INFO:__main__:2023-08-30 00:12:33,919  run                      INFO    run: Unpacking libitm1:s390x (8.3.0-6) ...\n",
      "INFO:__main__:2023-08-30 00:12:33,950  run                      INFO    run: Selecting previously unselected package libatomic1:s390x.\n",
      "INFO:__main__:2023-08-30 00:12:33,951  run                      INFO    run: Preparing to unpack .../26-libatomic1_8.3.0-6_s390x.deb ...\n",
      "INFO:__main__:2023-08-30 00:12:33,955  run                      INFO    run: Unpacking libatomic1:s390x (8.3.0-6) ...\n",
      "INFO:__main__:2023-08-30 00:12:34,004  run                      INFO    run: Selecting previously unselected package libasan5:s390x.\n",
      "INFO:__main__:2023-08-30 00:12:34,005  run                      INFO    run: Preparing to unpack .../27-libasan5_8.3.0-6_s390x.deb ...\n",
      "INFO:__main__:2023-08-30 00:12:34,009  run                      INFO    run: Unpacking libasan5:s390x (8.3.0-6) ...\n",
      "INFO:__main__:2023-08-30 00:12:34,067  run                      INFO    run: Selecting previously unselected package libubsan1:s390x.\n",
      "INFO:__main__:2023-08-30 00:12:34,068  run                      INFO    run: Preparing to unpack .../28-libubsan1_8.3.0-6_s390x.deb ...\n",
      "INFO:__main__:2023-08-30 00:12:34,071  run                      INFO    run: Unpacking libubsan1:s390x (8.3.0-6) ...\n",
      "INFO:__main__:2023-08-30 00:12:34,101  run                      INFO    run: Selecting previously unselected package libgcc-8-dev:s390x.\n",
      "INFO:__main__:2023-08-30 00:12:34,102  run                      INFO    run: Preparing to unpack .../29-libgcc-8-dev_8.3.0-6_s390x.deb ...\n",
      "INFO:__main__:2023-08-30 00:12:34,105  run                      INFO    run: Unpacking libgcc-8-dev:s390x (8.3.0-6) ...\n",
      "INFO:__main__:2023-08-30 00:12:34,207  run                      INFO    run: Selecting previously unselected package gcc-8.\n",
      "INFO:__main__:2023-08-30 00:12:34,208  run                      INFO    run: Preparing to unpack .../30-gcc-8_8.3.0-6_s390x.deb ...\n",
      "INFO:__main__:2023-08-30 00:12:34,211  run                      INFO    run: Unpacking gcc-8 (8.3.0-6) ...\n",
      "INFO:__main__:2023-08-30 00:12:34,892  run                      INFO    run: Selecting previously unselected package gcc.\n",
      "INFO:__main__:2023-08-30 00:12:34,894  run                      INFO    run: Preparing to unpack .../31-gcc_4%3a8.3.0-1_s390x.deb ...\n",
      "INFO:__main__:2023-08-30 00:12:34,897  run                      INFO    run: Unpacking gcc (4:8.3.0-1) ...\n",
      "INFO:__main__:2023-08-30 00:12:34,921  run                      INFO    run: Selecting previously unselected package libstdc++-8-dev:s390x.\n",
      "INFO:__main__:2023-08-30 00:12:34,922  run                      INFO    run: Preparing to unpack .../32-libstdc++-8-dev_8.3.0-6_s390x.deb ...\n",
      "INFO:__main__:2023-08-30 00:12:34,925  run                      INFO    run: Unpacking libstdc++-8-dev:s390x (8.3.0-6) ...\n",
      "INFO:__main__:2023-08-30 00:12:35,175  run                      INFO    run: Selecting previously unselected package g++-8.\n",
      "INFO:__main__:2023-08-30 00:12:35,176  run                      INFO    run: Preparing to unpack .../33-g++-8_8.3.0-6_s390x.deb ...\n",
      "INFO:__main__:2023-08-30 00:12:35,179  run                      INFO    run: Unpacking g++-8 (8.3.0-6) ...\n",
      "INFO:__main__:2023-08-30 00:12:35,876  run                      INFO    run: Selecting previously unselected package g++.\n",
      "INFO:__main__:2023-08-30 00:12:35,879  run                      INFO    run: Preparing to unpack .../34-g++_4%3a8.3.0-1_s390x.deb ...\n",
      "INFO:__main__:2023-08-30 00:12:35,882  run                      INFO    run: Unpacking g++ (4:8.3.0-1) ...\n",
      "INFO:__main__:2023-08-30 00:12:35,901  run                      INFO    run: Selecting previously unselected package make.\n",
      "INFO:__main__:2023-08-30 00:12:35,902  run                      INFO    run: Preparing to unpack .../35-make_4.2.1-1.2_s390x.deb ...\n",
      "INFO:__main__:2023-08-30 00:12:35,905  run                      INFO    run: Unpacking make (4.2.1-1.2) ...\n",
      "INFO:__main__:2023-08-30 00:12:35,956  run                      INFO    run: Selecting previously unselected package libdpkg-perl.\n",
      "INFO:__main__:2023-08-30 00:12:35,956  run                      INFO    run: Preparing to unpack .../36-libdpkg-perl_1.19.8_all.deb ...\n",
      "INFO:__main__:2023-08-30 00:12:35,960  run                      INFO    run: Unpacking libdpkg-perl (1.19.8) ...\n",
      "INFO:__main__:2023-08-30 00:12:36,032  run                      INFO    run: Selecting previously unselected package patch.\n",
      "INFO:__main__:2023-08-30 00:12:36,033  run                      INFO    run: Preparing to unpack .../37-patch_2.7.6-3+deb10u1_s390x.deb ...\n",
      "INFO:__main__:2023-08-30 00:12:36,037  run                      INFO    run: Unpacking patch (2.7.6-3+deb10u1) ...\n",
      "INFO:__main__:2023-08-30 00:12:36,071  run                      INFO    run: Selecting previously unselected package dpkg-dev.\n",
      "INFO:__main__:2023-08-30 00:12:36,072  run                      INFO    run: Preparing to unpack .../38-dpkg-dev_1.19.8_all.deb ...\n",
      "INFO:__main__:2023-08-30 00:12:36,075  run                      INFO    run: Unpacking dpkg-dev (1.19.8) ...\n",
      "INFO:__main__:2023-08-30 00:12:36,168  run                      INFO    run: Selecting previously unselected package build-essential.\n",
      "INFO:__main__:2023-08-30 00:12:36,169  run                      INFO    run: Preparing to unpack .../39-build-essential_12.6_s390x.deb ...\n",
      "INFO:__main__:2023-08-30 00:12:36,172  run                      INFO    run: Unpacking build-essential (12.6) ...\n",
      "INFO:__main__:2023-08-30 00:12:36,196  run                      INFO    run: Selecting previously unselected package python3-lib2to3.\n",
      "INFO:__main__:2023-08-30 00:12:36,197  run                      INFO    run: Preparing to unpack .../40-python3-lib2to3_3.7.3-1_all.deb ...\n",
      "INFO:__main__:2023-08-30 00:12:36,200  run                      INFO    run: Unpacking python3-lib2to3 (3.7.3-1) ...\n",
      "INFO:__main__:2023-08-30 00:12:36,234  run                      INFO    run: Selecting previously unselected package python3-distutils.\n",
      "INFO:__main__:2023-08-30 00:12:36,235  run                      INFO    run: Preparing to unpack .../41-python3-distutils_3.7.3-1_all.deb ...\n",
      "INFO:__main__:2023-08-30 00:12:36,239  run                      INFO    run: Unpacking python3-distutils (3.7.3-1) ...\n",
      "INFO:__main__:2023-08-30 00:12:36,277  run                      INFO    run: Selecting previously unselected package dh-python.\n",
      "INFO:__main__:2023-08-30 00:12:36,278  run                      INFO    run: Preparing to unpack .../42-dh-python_3.20190308_all.deb ...\n",
      "INFO:__main__:2023-08-30 00:12:36,283  run                      INFO    run: Unpacking dh-python (3.20190308) ...\n",
      "INFO:__main__:2023-08-30 00:12:36,317  run                      INFO    run: Selecting previously unselected package libcurl3-gnutls:s390x.\n",
      "INFO:__main__:2023-08-30 00:12:36,318  run                      INFO    run: Preparing to unpack .../43-libcurl3-gnutls_7.64.0-4+deb10u2_s390x.deb ...\n",
      "INFO:__main__:2023-08-30 00:12:36,321  run                      INFO    run: Unpacking libcurl3-gnutls:s390x (7.64.0-4+deb10u2) ...\n",
      "INFO:__main__:2023-08-30 00:12:36,370  run                      INFO    run: Selecting previously unselected package libpcre2-8-0:s390x.\n",
      "INFO:__main__:2023-08-30 00:12:36,371  run                      INFO    run: Preparing to unpack .../44-libpcre2-8-0_10.32-5_s390x.deb ...\n",
      "INFO:__main__:2023-08-30 00:12:36,374  run                      INFO    run: Unpacking libpcre2-8-0:s390x (10.32-5) ...\n",
      "INFO:__main__:2023-08-30 00:12:36,405  run                      INFO    run: Selecting previously unselected package liberror-perl.\n",
      "INFO:__main__:2023-08-30 00:12:36,406  run                      INFO    run: Preparing to unpack .../45-liberror-perl_0.17027-2_all.deb ...\n",
      "INFO:__main__:2023-08-30 00:12:36,409  run                      INFO    run: Unpacking liberror-perl (0.17027-2) ...\n",
      "INFO:__main__:2023-08-30 00:12:36,431  run                      INFO    run: Selecting previously unselected package git-man.\n",
      "INFO:__main__:2023-08-30 00:12:36,432  run                      INFO    run: Preparing to unpack .../46-git-man_1%3a2.20.1-2+deb10u3_all.deb ...\n",
      "INFO:__main__:2023-08-30 00:12:36,435  run                      INFO    run: Unpacking git-man (1:2.20.1-2+deb10u3) ...\n",
      "INFO:__main__:2023-08-30 00:12:36,548  run                      INFO    run: Selecting previously unselected package git.\n",
      "INFO:__main__:2023-08-30 00:12:36,549  run                      INFO    run: Preparing to unpack .../47-git_1%3a2.20.1-2+deb10u3_s390x.deb ...\n",
      "INFO:__main__:2023-08-30 00:12:36,563  run                      INFO    run: Unpacking git (1:2.20.1-2+deb10u3) ...\n",
      "INFO:__main__:2023-08-30 00:12:37,124  run                      INFO    run: Selecting previously unselected package libexpat1-dev:s390x.\n",
      "INFO:__main__:2023-08-30 00:12:37,126  run                      INFO    run: Preparing to unpack .../48-libexpat1-dev_2.2.6-2+deb10u4_s390x.deb ...\n",
      "INFO:__main__:2023-08-30 00:12:37,129  run                      INFO    run: Unpacking libexpat1-dev:s390x (2.2.6-2+deb10u4) ...\n",
      "INFO:__main__:2023-08-30 00:12:37,171  run                      INFO    run: Selecting previously unselected package libffi-dev:s390x.\n",
      "INFO:__main__:2023-08-30 00:12:37,173  run                      INFO    run: Preparing to unpack .../49-libffi-dev_3.2.1-9_s390x.deb ...\n",
      "INFO:__main__:2023-08-30 00:12:37,176  run                      INFO    run: Unpacking libffi-dev:s390x (3.2.1-9) ...\n",
      "INFO:__main__:2023-08-30 00:12:37,214  run                      INFO    run: Selecting previously unselected package libprotobuf17:s390x.\n",
      "INFO:__main__:2023-08-30 00:12:37,215  run                      INFO    run: Preparing to unpack .../50-libprotobuf17_3.6.1.3-2_s390x.deb ...\n",
      "INFO:__main__:2023-08-30 00:12:37,218  run                      INFO    run: Unpacking libprotobuf17:s390x (3.6.1.3-2) ...\n",
      "INFO:__main__:2023-08-30 00:12:37,315  run                      INFO    run: Selecting previously unselected package libprotoc17:s390x.\n",
      "INFO:__main__:2023-08-30 00:12:37,316  run                      INFO    run: Preparing to unpack .../51-libprotoc17_3.6.1.3-2_s390x.deb ...\n",
      "INFO:__main__:2023-08-30 00:12:37,319  run                      INFO    run: Unpacking libprotoc17:s390x (3.6.1.3-2) ...\n",
      "INFO:__main__:2023-08-30 00:12:37,403  run                      INFO    run: Selecting previously unselected package libpython3.7:s390x.\n",
      "INFO:__main__:2023-08-30 00:12:37,404  run                      INFO    run: Preparing to unpack .../52-libpython3.7_3.7.3-2+deb10u3_s390x.deb ...\n",
      "INFO:__main__:2023-08-30 00:12:37,407  run                      INFO    run: Unpacking libpython3.7:s390x (3.7.3-2+deb10u3) ...\n",
      "INFO:__main__:2023-08-30 00:12:37,563  run                      INFO    run: Selecting previously unselected package libpython3.7-dev:s390x.\n",
      "INFO:__main__:2023-08-30 00:12:37,565  run                      INFO    run: Preparing to unpack .../53-libpython3.7-dev_3.7.3-2+deb10u3_s390x.deb ...\n",
      "INFO:__main__:2023-08-30 00:12:37,568  run                      INFO    run: Unpacking libpython3.7-dev:s390x (3.7.3-2+deb10u3) ...\n",
      "INFO:__main__:2023-08-30 00:12:40,895  run                      INFO    run: Selecting previously unselected package libpython3-dev:s390x.\n",
      "INFO:__main__:2023-08-30 00:12:40,897  run                      INFO    run: Preparing to unpack .../54-libpython3-dev_3.7.3-1_s390x.deb ...\n",
      "INFO:__main__:2023-08-30 00:12:40,900  run                      INFO    run: Unpacking libpython3-dev:s390x (3.7.3-1) ...\n",
      "INFO:__main__:2023-08-30 00:12:40,922  run                      INFO    run: Selecting previously unselected package libssl-dev:s390x.\n",
      "INFO:__main__:2023-08-30 00:12:40,923  run                      INFO    run: Preparing to unpack .../55-libssl-dev_1.1.1n-0+deb10u3_s390x.deb ...\n",
      "INFO:__main__:2023-08-30 00:12:40,926  run                      INFO    run: Unpacking libssl-dev:s390x (1.1.1n-0+deb10u3) ...\n",
      "INFO:__main__:2023-08-30 00:12:41,095  run                      INFO    run: Selecting previously unselected package libtool.\n",
      "INFO:__main__:2023-08-30 00:12:41,097  run                      INFO    run: Preparing to unpack .../56-libtool_2.4.6-9_all.deb ...\n",
      "INFO:__main__:2023-08-30 00:12:41,100  run                      INFO    run: Unpacking libtool (2.4.6-9) ...\n",
      "INFO:__main__:2023-08-30 00:12:41,147  run                      INFO    run: Selecting previously unselected package protobuf-compiler.\n",
      "INFO:__main__:2023-08-30 00:12:41,148  run                      INFO    run: Preparing to unpack .../57-protobuf-compiler_3.6.1.3-2_s390x.deb ...\n",
      "INFO:__main__:2023-08-30 00:12:41,151  run                      INFO    run: Unpacking protobuf-compiler (3.6.1.3-2) ...\n",
      "INFO:__main__:2023-08-30 00:12:41,177  run                      INFO    run: Selecting previously unselected package python-pip-whl.\n",
      "INFO:__main__:2023-08-30 00:12:41,178  run                      INFO    run: Preparing to unpack .../58-python-pip-whl_18.1-5_all.deb ...\n",
      "INFO:__main__:2023-08-30 00:12:41,180  run                      INFO    run: Unpacking python-pip-whl (18.1-5) ...\n",
      "INFO:__main__:2023-08-30 00:12:41,319  run                      INFO    run: Selecting previously unselected package python3.7-dev.\n",
      "INFO:__main__:2023-08-30 00:12:41,320  run                      INFO    run: Preparing to unpack .../59-python3.7-dev_3.7.3-2+deb10u3_s390x.deb ...\n",
      "INFO:__main__:2023-08-30 00:12:41,323  run                      INFO    run: Unpacking python3.7-dev (3.7.3-2+deb10u3) ...\n",
      "INFO:__main__:2023-08-30 00:12:41,351  run                      INFO    run: Selecting previously unselected package python3-dev.\n",
      "INFO:__main__:2023-08-30 00:12:41,352  run                      INFO    run: Preparing to unpack .../60-python3-dev_3.7.3-1_s390x.deb ...\n",
      "INFO:__main__:2023-08-30 00:12:41,355  run                      INFO    run: Unpacking python3-dev (3.7.3-1) ...\n",
      "INFO:__main__:2023-08-30 00:12:41,378  run                      INFO    run: Selecting previously unselected package python3-pip.\n",
      "INFO:__main__:2023-08-30 00:12:41,379  run                      INFO    run: Preparing to unpack .../61-python3-pip_18.1-5_all.deb ...\n",
      "INFO:__main__:2023-08-30 00:12:41,381  run                      INFO    run: Unpacking python3-pip (18.1-5) ...\n",
      "INFO:__main__:2023-08-30 00:12:41,425  run                      INFO    run: Selecting previously unselected package python3-pkg-resources.\n",
      "INFO:__main__:2023-08-30 00:12:41,426  run                      INFO    run: Preparing to unpack .../62-python3-pkg-resources_40.8.0-1_all.deb ...\n",
      "INFO:__main__:2023-08-30 00:12:41,429  run                      INFO    run: Unpacking python3-pkg-resources (40.8.0-1) ...\n",
      "INFO:__main__:2023-08-30 00:12:41,467  run                      INFO    run: Selecting previously unselected package python3-setuptools.\n",
      "INFO:__main__:2023-08-30 00:12:41,468  run                      INFO    run: Preparing to unpack .../63-python3-setuptools_40.8.0-1_all.deb ...\n",
      "INFO:__main__:2023-08-30 00:12:41,471  run                      INFO    run: Unpacking python3-setuptools (40.8.0-1) ...\n",
      "INFO:__main__:2023-08-30 00:12:41,527  run                      INFO    run: Selecting previously unselected package python3-wheel.\n",
      "INFO:__main__:2023-08-30 00:12:41,528  run                      INFO    run: Preparing to unpack .../64-python3-wheel_0.32.3-2_all.deb ...\n",
      "INFO:__main__:2023-08-30 00:12:41,531  run                      INFO    run: Unpacking python3-wheel (0.32.3-2) ...\n",
      "INFO:__main__:2023-08-30 00:12:41,571  run                      INFO    run: Setting up perl-modules-5.28 (5.28.1-6+deb10u1) ...\n",
      "INFO:__main__:2023-08-30 00:12:41,580  run                      INFO    run: Setting up mime-support (3.62) ...\n",
      "INFO:__main__:2023-08-30 00:12:41,603  run                      INFO    run: Setting up libmagic-mgc (1:5.35-4+deb10u2) ...\n",
      "INFO:__main__:2023-08-30 00:12:41,611  run                      INFO    run: Setting up binutils-common:s390x (2.31.1-16) ...\n",
      "INFO:__main__:2023-08-30 00:12:41,621  run                      INFO    run: Setting up libmagic1:s390x (1:5.35-4+deb10u2) ...\n",
      "INFO:__main__:2023-08-30 00:12:41,635  run                      INFO    run: Setting up linux-libc-dev:s390x (4.19.249-2) ...\n",
      "INFO:__main__:2023-08-30 00:12:41,644  run                      INFO    run: Setting up libcurl3-gnutls:s390x (7.64.0-4+deb10u2) ...\n",
      "INFO:__main__:2023-08-30 00:12:41,655  run                      INFO    run: Setting up file (1:5.35-4+deb10u2) ...\n",
      "INFO:__main__:2023-08-30 00:12:41,665  run                      INFO    run: Setting up libgomp1:s390x (8.3.0-6) ...\n",
      "INFO:__main__:2023-08-30 00:12:41,674  run                      INFO    run: Setting up bzip2 (1.0.6-9.2~deb10u1) ...\n",
      "INFO:__main__:2023-08-30 00:12:41,682  run                      INFO    run: Setting up libffi-dev:s390x (3.2.1-9) ...\n",
      "INFO:__main__:2023-08-30 00:12:41,691  run                      INFO    run: Setting up libasan5:s390x (8.3.0-6) ...\n",
      "INFO:__main__:2023-08-30 00:12:41,700  run                      INFO    run: Setting up autotools-dev (20180224.1) ...\n",
      "INFO:__main__:2023-08-30 00:12:41,709  run                      INFO    run: Setting up make (4.2.1-1.2) ...\n",
      "INFO:__main__:2023-08-30 00:12:41,719  run                      INFO    run: Setting up libmpfr6:s390x (4.0.2-1) ...\n",
      "INFO:__main__:2023-08-30 00:12:41,727  run                      INFO    run: Setting up libsigsegv2:s390x (2.12-2) ...\n",
      "INFO:__main__:2023-08-30 00:12:41,735  run                      INFO    run: Setting up xz-utils (5.2.4-1+deb10u1) ...\n",
      "INFO:__main__:2023-08-30 00:12:41,744  run                      INFO    run: update-alternatives: using /usr/bin/xz to provide /usr/bin/lzma (lzma) in auto mode\n",
      "INFO:__main__:2023-08-30 00:12:41,744  run                      INFO    run: update-alternatives: warning: skip creation of /usr/share/man/man1/lzma.1.gz because associated file /usr/share/man/man1/xz.1.gz (of link group lzma) doesn't exist\n",
      "INFO:__main__:2023-08-30 00:12:41,744  run                      INFO    run: update-alternatives: warning: skip creation of /usr/share/man/man1/unlzma.1.gz because associated file /usr/share/man/man1/unxz.1.gz (of link group lzma) doesn't exist\n",
      "INFO:__main__:2023-08-30 00:12:41,744  run                      INFO    run: update-alternatives: warning: skip creation of /usr/share/man/man1/lzcat.1.gz because associated file /usr/share/man/man1/xzcat.1.gz (of link group lzma) doesn't exist\n",
      "INFO:__main__:2023-08-30 00:12:41,745  run                      INFO    run: update-alternatives: warning: skip creation of /usr/share/man/man1/lzmore.1.gz because associated file /usr/share/man/man1/xzmore.1.gz (of link group lzma) doesn't exist\n",
      "INFO:__main__:2023-08-30 00:12:41,745  run                      INFO    run: update-alternatives: warning: skip creation of /usr/share/man/man1/lzless.1.gz because associated file /usr/share/man/man1/xzless.1.gz (of link group lzma) doesn't exist\n",
      "INFO:__main__:2023-08-30 00:12:41,745  run                      INFO    run: update-alternatives: warning: skip creation of /usr/share/man/man1/lzdiff.1.gz because associated file /usr/share/man/man1/xzdiff.1.gz (of link group lzma) doesn't exist\n",
      "INFO:__main__:2023-08-30 00:12:41,745  run                      INFO    run: update-alternatives: warning: skip creation of /usr/share/man/man1/lzcmp.1.gz because associated file /usr/share/man/man1/xzcmp.1.gz (of link group lzma) doesn't exist\n",
      "INFO:__main__:2023-08-30 00:12:41,745  run                      INFO    run: update-alternatives: warning: skip creation of /usr/share/man/man1/lzgrep.1.gz because associated file /usr/share/man/man1/xzgrep.1.gz (of link group lzma) doesn't exist\n",
      "INFO:__main__:2023-08-30 00:12:41,746  run                      INFO    run: update-alternatives: warning: skip creation of /usr/share/man/man1/lzegrep.1.gz because associated file /usr/share/man/man1/xzegrep.1.gz (of link group lzma) doesn't exist\n",
      "INFO:__main__:2023-08-30 00:12:41,746  run                      INFO    run: update-alternatives: warning: skip creation of /usr/share/man/man1/lzfgrep.1.gz because associated file /usr/share/man/man1/xzfgrep.1.gz (of link group lzma) doesn't exist\n",
      "INFO:__main__:2023-08-30 00:12:41,752  run                      INFO    run: Setting up libssl-dev:s390x (1.1.1n-0+deb10u3) ...\n",
      "INFO:__main__:2023-08-30 00:12:41,781  run                      INFO    run: Setting up libmpc3:s390x (1.1.0-1) ...\n",
      "INFO:__main__:2023-08-30 00:12:41,805  run                      INFO    run: Setting up libatomic1:s390x (8.3.0-6) ...\n",
      "INFO:__main__:2023-08-30 00:12:41,816  run                      INFO    run: Setting up patch (2.7.6-3+deb10u1) ...\n",
      "INFO:__main__:2023-08-30 00:12:41,824  run                      INFO    run: Setting up libgdbm-compat4:s390x (1.18.1-4) ...\n",
      "INFO:__main__:2023-08-30 00:12:41,832  run                      INFO    run: Setting up libpcre2-8-0:s390x (10.32-5) ...\n",
      "INFO:__main__:2023-08-30 00:12:41,840  run                      INFO    run: Setting up libperl5.28:s390x (5.28.1-6+deb10u1) ...\n",
      "INFO:__main__:2023-08-30 00:12:41,849  run                      INFO    run: Setting up libubsan1:s390x (8.3.0-6) ...\n",
      "INFO:__main__:2023-08-30 00:12:41,858  run                      INFO    run: Setting up libisl19:s390x (0.20-2) ...\n",
      "INFO:__main__:2023-08-30 00:12:41,866  run                      INFO    run: Setting up git-man (1:2.20.1-2+deb10u3) ...\n",
      "INFO:__main__:2023-08-30 00:12:41,874  run                      INFO    run: Setting up python-pip-whl (18.1-5) ...\n",
      "INFO:__main__:2023-08-30 00:12:41,882  run                      INFO    run: Setting up libprotobuf17:s390x (3.6.1.3-2) ...\n",
      "INFO:__main__:2023-08-30 00:12:41,890  run                      INFO    run: Setting up libmpdec2:s390x (2.4.2-2) ...\n",
      "INFO:__main__:2023-08-30 00:12:41,899  run                      INFO    run: Setting up libbinutils:s390x (2.31.1-16) ...\n",
      "INFO:__main__:2023-08-30 00:12:41,906  run                      INFO    run: Setting up cpp-8 (8.3.0-6) ...\n",
      "INFO:__main__:2023-08-30 00:12:41,915  run                      INFO    run: Setting up libc-dev-bin (2.28-10+deb10u1) ...\n",
      "INFO:__main__:2023-08-30 00:12:41,924  run                      INFO    run: Setting up libcc1-0:s390x (8.3.0-6) ...\n",
      "INFO:__main__:2023-08-30 00:12:41,933  run                      INFO    run: Setting up libitm1:s390x (8.3.0-6) ...\n",
      "INFO:__main__:2023-08-30 00:12:41,942  run                      INFO    run: Setting up libpython3.7-stdlib:s390x (3.7.3-2+deb10u3) ...\n",
      "INFO:__main__:2023-08-30 00:12:41,950  run                      INFO    run: Setting up libprotoc17:s390x (3.6.1.3-2) ...\n",
      "INFO:__main__:2023-08-30 00:12:41,960  run                      INFO    run: Setting up binutils-s390x-linux-gnu (2.31.1-16) ...\n",
      "INFO:__main__:2023-08-30 00:12:41,969  run                      INFO    run: Setting up protobuf-compiler (3.6.1.3-2) ...\n",
      "INFO:__main__:2023-08-30 00:12:41,978  run                      INFO    run: Setting up libpython3.7:s390x (3.7.3-2+deb10u3) ...\n",
      "INFO:__main__:2023-08-30 00:12:41,987  run                      INFO    run: Setting up m4 (1.4.18-2) ...\n",
      "INFO:__main__:2023-08-30 00:12:41,995  run                      INFO    run: Setting up binutils (2.31.1-16) ...\n",
      "INFO:__main__:2023-08-30 00:12:42,004  run                      INFO    run: Setting up perl (5.28.1-6+deb10u1) ...\n",
      "INFO:__main__:2023-08-30 00:12:42,020  run                      INFO    run: Setting up libdpkg-perl (1.19.8) ...\n",
      "INFO:__main__:2023-08-30 00:12:42,029  run                      INFO    run: Setting up libgcc-8-dev:s390x (8.3.0-6) ...\n",
      "INFO:__main__:2023-08-30 00:12:42,038  run                      INFO    run: Setting up autoconf (2.69-11) ...\n",
      "INFO:__main__:2023-08-30 00:12:42,049  run                      INFO    run: Setting up cpp (4:8.3.0-1) ...\n",
      "INFO:__main__:2023-08-30 00:12:42,060  run                      INFO    run: Setting up libc6-dev:s390x (2.28-10+deb10u1) ...\n",
      "INFO:__main__:2023-08-30 00:12:42,068  run                      INFO    run: Setting up libpython3-stdlib:s390x (3.7.3-1) ...\n",
      "INFO:__main__:2023-08-30 00:12:42,077  run                      INFO    run: Setting up libstdc++-8-dev:s390x (8.3.0-6) ...\n",
      "INFO:__main__:2023-08-30 00:12:42,086  run                      INFO    run: Setting up automake (1:1.16.1-4) ...\n",
      "INFO:__main__:2023-08-30 00:12:42,112  run                      INFO    run: update-alternatives: using /usr/bin/automake-1.16 to provide /usr/bin/automake (automake) in auto mode\n",
      "INFO:__main__:2023-08-30 00:12:42,112  run                      INFO    run: update-alternatives: warning: skip creation of /usr/share/man/man1/automake.1.gz because associated file /usr/share/man/man1/automake-1.16.1.gz (of link group automake) doesn't exist\n",
      "INFO:__main__:2023-08-30 00:12:42,112  run                      INFO    run: update-alternatives: warning: skip creation of /usr/share/man/man1/aclocal.1.gz because associated file /usr/share/man/man1/aclocal-1.16.1.gz (of link group automake) doesn't exist\n",
      "INFO:__main__:2023-08-30 00:12:42,118  run                      INFO    run: Setting up python3.7 (3.7.3-2+deb10u3) ...\n",
      "INFO:__main__:2023-08-30 00:12:42,774  run                      INFO    run: Setting up gcc-8 (8.3.0-6) ...\n",
      "INFO:__main__:2023-08-30 00:12:42,782  run                      INFO    run: Setting up libtool (2.4.6-9) ...\n",
      "INFO:__main__:2023-08-30 00:12:42,790  run                      INFO    run: Setting up python3 (3.7.3-1) ...\n",
      "INFO:__main__:2023-08-30 00:12:42,799  run                      INFO    run: running python rtupdate hooks for python3.7...\n",
      "INFO:__main__:2023-08-30 00:12:42,962  run                      INFO    run: running python post-rtupdate hooks for python3.7...\n",
      "INFO:__main__:2023-08-30 00:12:43,028  run                      INFO    run: Setting up python3-wheel (0.32.3-2) ...\n",
      "INFO:__main__:2023-08-30 00:12:43,146  run                      INFO    run: Setting up gcc (4:8.3.0-1) ...\n",
      "INFO:__main__:2023-08-30 00:12:43,163  run                      INFO    run: Setting up dpkg-dev (1.19.8) ...\n",
      "INFO:__main__:2023-08-30 00:12:43,177  run                      INFO    run: Setting up liberror-perl (0.17027-2) ...\n",
      "INFO:__main__:2023-08-30 00:12:43,185  run                      INFO    run: Setting up libexpat1-dev:s390x (2.2.6-2+deb10u4) ...\n",
      "INFO:__main__:2023-08-30 00:12:43,193  run                      INFO    run: Setting up git (1:2.20.1-2+deb10u3) ...\n",
      "INFO:__main__:2023-08-30 00:12:43,223  run                      INFO    run: Setting up g++-8 (8.3.0-6) ...\n",
      "INFO:__main__:2023-08-30 00:12:43,231  run                      INFO    run: Setting up python3-lib2to3 (3.7.3-1) ...\n",
      "INFO:__main__:2023-08-30 00:12:43,311  run                      INFO    run: Setting up python3-pkg-resources (40.8.0-1) ...\n",
      "INFO:__main__:2023-08-30 00:12:43,473  run                      INFO    run: Setting up python3-distutils (3.7.3-1) ...\n",
      "INFO:__main__:2023-08-30 00:12:43,576  run                      INFO    run: Setting up dh-python (3.20190308) ...\n",
      "INFO:__main__:2023-08-30 00:12:43,703  run                      INFO    run: Setting up python3-setuptools (40.8.0-1) ...\n",
      "INFO:__main__:2023-08-30 00:12:43,918  run                      INFO    run: Setting up libpython3.7-dev:s390x (3.7.3-2+deb10u3) ...\n",
      "INFO:__main__:2023-08-30 00:12:43,928  run                      INFO    run: Setting up python3.7-dev (3.7.3-2+deb10u3) ...\n",
      "INFO:__main__:2023-08-30 00:12:43,938  run                      INFO    run: Setting up python3-pip (18.1-5) ...\n",
      "INFO:__main__:2023-08-30 00:12:44,129  run                      INFO    run: Setting up g++ (4:8.3.0-1) ...\n",
      "INFO:__main__:2023-08-30 00:12:44,156  run                      INFO    run: update-alternatives: using /usr/bin/g++ to provide /usr/bin/c++ (c++) in auto mode\n",
      "INFO:__main__:2023-08-30 00:12:44,172  run                      INFO    run: Setting up build-essential (12.6) ...\n",
      "INFO:__main__:2023-08-30 00:12:44,186  run                      INFO    run: Setting up libpython3-dev:s390x (3.7.3-1) ...\n",
      "INFO:__main__:2023-08-30 00:12:44,196  run                      INFO    run: Setting up python3-dev (3.7.3-1) ...\n",
      "INFO:__main__:2023-08-30 00:12:44,204  run                      INFO    run: Processing triggers for libc-bin (2.28-10+deb10u1) ...\n",
      "INFO:__main__:2023-08-30 00:12:44,733  run                      INFO    run: Reading package lists...\n",
      "INFO:__main__:2023-08-30 00:12:44,828  run                      INFO    run: Building dependency tree...\n",
      "INFO:__main__:2023-08-30 00:12:44,828  run                      INFO    run: Reading state information...\n",
      "INFO:__main__:2023-08-30 00:12:44,895  run                      INFO    run: xz-utils is already the newest version (5.2.4-1+deb10u1).\n",
      "INFO:__main__:2023-08-30 00:12:44,895  run                      INFO    run: xz-utils set to manually installed.\n",
      "INFO:__main__:2023-08-30 00:12:44,895  run                      INFO    run: The following additional packages will be installed:\n",
      "INFO:__main__:2023-08-30 00:12:44,896  run                      INFO    run:   apache2-bin apache2-data apache2-utils libapache2-mod-php7.3 libapr1\n",
      "INFO:__main__:2023-08-30 00:12:44,896  run                      INFO    run:   libaprutil1 libaprutil1-dbd-sqlite3 libaprutil1-ldap libargon2-1 libbrotli1\n",
      "INFO:__main__:2023-08-30 00:12:44,896  run                      INFO    run:   libbsd0 libgpm2 libicu63 libjansson4 liblua5.2-0 libncurses6 libprocps7\n",
      "INFO:__main__:2023-08-30 00:12:44,896  run                      INFO    run:   libsodium23 libxml2 lsb-base php-common php7.3 php7.3-cli php7.3-common\n",
      "INFO:__main__:2023-08-30 00:12:44,896  run                      INFO    run:   php7.3-curl php7.3-json php7.3-opcache php7.3-readline procps psmisc\n",
      "INFO:__main__:2023-08-30 00:12:44,896  run                      INFO    run:   sensible-utils ucf vim-common vim-runtime xxd\n",
      "INFO:__main__:2023-08-30 00:12:44,897  run                      INFO    run: Suggested packages:\n",
      "INFO:__main__:2023-08-30 00:12:44,897  run                      INFO    run:   apache2-doc apache2-suexec-pristine | apache2-suexec-custom www-browser\n",
      "INFO:__main__:2023-08-30 00:12:44,897  run                      INFO    run:   php-pear gpm ctags vim-doc vim-scripts\n",
      "INFO:__main__:2023-08-30 00:12:44,897  run                      INFO    run: Recommended packages:\n",
      "INFO:__main__:2023-08-30 00:12:44,897  run                      INFO    run:   ssl-cert\n",
      "INFO:__main__:2023-08-30 00:12:45,155  run                      INFO    run: The following NEW packages will be installed:\n",
      "INFO:__main__:2023-08-30 00:12:45,155  run                      INFO    run:   apache2 apache2-bin apache2-data apache2-utils libapache2-mod-php7.3 libapr1\n",
      "INFO:__main__:2023-08-30 00:12:45,155  run                      INFO    run:   libaprutil1 libaprutil1-dbd-sqlite3 libaprutil1-ldap libargon2-1 libbrotli1\n",
      "INFO:__main__:2023-08-30 00:12:45,155  run                      INFO    run:   libbsd0 libedit2 libgpm2 libicu63 libjansson4 liblua5.2-0 libncurses6\n",
      "INFO:__main__:2023-08-30 00:12:45,156  run                      INFO    run:   libprocps7 libsodium23 libxml2 lsb-base php php-common php-curl php7.3\n",
      "INFO:__main__:2023-08-30 00:12:45,156  run                      INFO    run:   php7.3-cli php7.3-common php7.3-curl php7.3-json php7.3-opcache\n",
      "INFO:__main__:2023-08-30 00:12:45,156  run                      INFO    run:   php7.3-readline procps psmisc sensible-utils ucf vim vim-common vim-runtime\n",
      "INFO:__main__:2023-08-30 00:12:45,156  run                      INFO    run:   xxd\n",
      "INFO:__main__:2023-08-30 00:12:45,176  run                      INFO    run: 0 upgraded, 40 newly installed, 0 to remove and 0 not upgraded.\n",
      "INFO:__main__:2023-08-30 00:12:45,176  run                      INFO    run: Need to get 22.7 MB of archives.\n",
      "INFO:__main__:2023-08-30 00:12:45,176  run                      INFO    run: After this operation, 97.7 MB of additional disk space will be used.\n",
      "INFO:__main__:2023-08-30 00:12:45,176  run                      INFO    run: Get:1 http://deb.debian.org/debian buster/main s390x libapr1 s390x 1.6.5-1+b1 [97.3 kB]\n",
      "INFO:__main__:2023-08-30 00:12:45,182  run                      INFO    run: Get:2 http://deb.debian.org/debian buster/main s390x libaprutil1 s390x 1.6.1-4 [88.8 kB]\n",
      "INFO:__main__:2023-08-30 00:12:45,187  run                      INFO    run: Get:3 http://deb.debian.org/debian buster/main s390x libaprutil1-dbd-sqlite3 s390x 1.6.1-4 [18.5 kB]\n",
      "INFO:__main__:2023-08-30 00:12:45,191  run                      INFO    run: Get:4 http://deb.debian.org/debian buster/main s390x libaprutil1-ldap s390x 1.6.1-4 [16.7 kB]\n",
      "INFO:__main__:2023-08-30 00:12:45,193  run                      INFO    run: Get:5 http://deb.debian.org/debian buster/main s390x libbrotli1 s390x 1.0.7-2+deb10u1 [272 kB]\n",
      "INFO:__main__:2023-08-30 00:12:45,197  run                      INFO    run: Get:6 http://deb.debian.org/debian buster/main s390x libjansson4 s390x 2.12-1 [35.7 kB]\n",
      "INFO:__main__:2023-08-30 00:12:45,198  run                      INFO    run: Get:7 http://deb.debian.org/debian buster/main s390x liblua5.2-0 s390x 5.2.4-1.1+b2 [102 kB]\n",
      "INFO:__main__:2023-08-30 00:12:45,202  run                      INFO    run: Get:8 http://deb.debian.org/debian buster/main s390x libicu63 s390x 63.1-6+deb10u3 [8035 kB]\n",
      "INFO:__main__:2023-08-30 00:12:45,283  run                      INFO    run: Get:9 http://deb.debian.org/debian buster/main s390x libxml2 s390x 2.9.4+dfsg1-7+deb10u4 [608 kB]\n",
      "INFO:__main__:2023-08-30 00:12:45,292  run                      INFO    run: Get:10 http://deb.debian.org/debian buster/main s390x apache2-bin s390x 2.4.38-3+deb10u8 [1195 kB]\n",
      "INFO:__main__:2023-08-30 00:12:45,304  run                      INFO    run: Get:11 http://deb.debian.org/debian buster/main s390x apache2-data all 2.4.38-3+deb10u8 [165 kB]\n",
      "INFO:__main__:2023-08-30 00:12:45,307  run                      INFO    run: Get:12 http://deb.debian.org/debian buster/main s390x apache2-utils s390x 2.4.38-3+deb10u8 [236 kB]\n",
      "INFO:__main__:2023-08-30 00:12:45,309  run                      INFO    run: Get:13 http://deb.debian.org/debian buster/main s390x lsb-base all 10.2019051400 [28.4 kB]\n",
      "INFO:__main__:2023-08-30 00:12:45,310  run                      INFO    run: Get:14 http://deb.debian.org/debian buster/main s390x libncurses6 s390x 6.1+20181013-2+deb10u2 [94.6 kB]\n",
      "INFO:__main__:2023-08-30 00:12:45,311  run                      INFO    run: Get:15 http://deb.debian.org/debian buster/main s390x libprocps7 s390x 2:3.3.15-2 [60.0 kB]\n",
      "INFO:__main__:2023-08-30 00:12:45,312  run                      INFO    run: Get:16 http://deb.debian.org/debian buster/main s390x procps s390x 2:3.3.15-2 [249 kB]\n",
      "INFO:__main__:2023-08-30 00:12:45,315  run                      INFO    run: Get:17 http://deb.debian.org/debian buster/main s390x apache2 s390x 2.4.38-3+deb10u8 [252 kB]\n",
      "INFO:__main__:2023-08-30 00:12:45,318  run                      INFO    run: Get:18 http://deb.debian.org/debian buster/main s390x sensible-utils all 0.0.12 [15.8 kB]\n",
      "INFO:__main__:2023-08-30 00:12:45,319  run                      INFO    run: Get:19 http://deb.debian.org/debian buster/main s390x xxd s390x 2:8.1.0875-5+deb10u2 [139 kB]\n",
      "INFO:__main__:2023-08-30 00:12:45,321  run                      INFO    run: Get:20 http://deb.debian.org/debian buster/main s390x vim-common all 2:8.1.0875-5+deb10u2 [195 kB]\n",
      "INFO:__main__:2023-08-30 00:12:45,323  run                      INFO    run: Get:21 http://deb.debian.org/debian buster/main s390x ucf all 3.0038+nmu1 [69.0 kB]\n",
      "INFO:__main__:2023-08-30 00:12:45,324  run                      INFO    run: Get:22 http://deb.debian.org/debian buster/main s390x libbsd0 s390x 0.9.1-2+deb10u1 [98.0 kB]\n",
      "INFO:__main__:2023-08-30 00:12:45,325  run                      INFO    run: Get:23 http://deb.debian.org/debian buster/main s390x libedit2 s390x 3.1-20181209-1 [89.2 kB]\n",
      "INFO:__main__:2023-08-30 00:12:45,327  run                      INFO    run: Get:24 http://deb.debian.org/debian buster/main s390x psmisc s390x 23.2-1+deb10u1 [121 kB]\n",
      "INFO:__main__:2023-08-30 00:12:45,331  run                      INFO    run: Get:25 http://deb.debian.org/debian buster/main s390x php-common all 2:69 [15.0 kB]\n",
      "INFO:__main__:2023-08-30 00:12:45,332  run                      INFO    run: Get:26 http://deb.debian.org/debian buster/main s390x php7.3-common s390x 7.3.31-1~deb10u1 [547 kB]\n",
      "INFO:__main__:2023-08-30 00:12:45,340  run                      INFO    run: Get:27 http://deb.debian.org/debian buster/main s390x php7.3-json s390x 7.3.31-1~deb10u1 [17.2 kB]\n",
      "INFO:__main__:2023-08-30 00:12:45,340  run                      INFO    run: Get:28 http://deb.debian.org/debian buster/main s390x php7.3-opcache s390x 7.3.31-1~deb10u1 [170 kB]\n",
      "INFO:__main__:2023-08-30 00:12:45,342  run                      INFO    run: Get:29 http://deb.debian.org/debian buster/main s390x php7.3-readline s390x 7.3.31-1~deb10u1 [11.5 kB]\n",
      "INFO:__main__:2023-08-30 00:12:45,343  run                      INFO    run: Get:30 http://deb.debian.org/debian buster/main s390x libargon2-1 s390x 0~20171227-0.2 [37.5 kB]\n",
      "INFO:__main__:2023-08-30 00:12:45,345  run                      INFO    run: Get:31 http://deb.debian.org/debian buster/main s390x libsodium23 s390x 1.0.17-1 [126 kB]\n",
      "INFO:__main__:2023-08-30 00:12:45,347  run                      INFO    run: Get:32 http://deb.debian.org/debian buster/main s390x php7.3-cli s390x 7.3.31-1~deb10u1 [1215 kB]\n",
      "INFO:__main__:2023-08-30 00:12:45,361  run                      INFO    run: Get:33 http://deb.debian.org/debian buster/main s390x libapache2-mod-php7.3 s390x 7.3.31-1~deb10u1 [1169 kB]\n",
      "INFO:__main__:2023-08-30 00:12:45,374  run                      INFO    run: Get:34 http://deb.debian.org/debian buster/main s390x libgpm2 s390x 1.20.7-5 [35.2 kB]\n",
      "INFO:__main__:2023-08-30 00:12:45,375  run                      INFO    run: Get:35 http://deb.debian.org/debian buster/main s390x php7.3 all 7.3.31-1~deb10u1 [47.3 kB]\n",
      "INFO:__main__:2023-08-30 00:12:45,376  run                      INFO    run: Get:36 http://deb.debian.org/debian buster/main s390x php all 2:7.3+69 [5964 B]\n",
      "INFO:__main__:2023-08-30 00:12:45,376  run                      INFO    run: Get:37 http://deb.debian.org/debian buster/main s390x php7.3-curl s390x 7.3.31-1~deb10u1 [27.5 kB]\n",
      "INFO:__main__:2023-08-30 00:12:45,377  run                      INFO    run: Get:38 http://deb.debian.org/debian buster/main s390x php-curl all 2:7.3+69 [5992 B]\n",
      "INFO:__main__:2023-08-30 00:12:45,378  run                      INFO    run: Get:39 http://deb.debian.org/debian buster/main s390x vim-runtime all 2:8.1.0875-5+deb10u2 [5775 kB]\n",
      "INFO:__main__:2023-08-30 00:12:45,437  run                      INFO    run: Get:40 http://deb.debian.org/debian buster/main s390x vim s390x 2:8.1.0875-5+deb10u2 [1188 kB]\n",
      "INFO:__main__:2023-08-30 00:12:45,968  run                      INFO    run: \u001b[91mdebconf: delaying package configuration, since apt-utils is not installed\n",
      "INFO:__main__:2023-08-30 00:12:45,982  run                      INFO    run: \u001b[0mFetched 22.7 MB in 0s (79.9 MB/s)\n",
      "INFO:__main__:2023-08-30 00:12:46,013  run                      INFO    run: Selecting previously unselected package libapr1:s390x.\n",
      "(Reading database ... 15030 files and directories currently installed.) run: (Reading database ... \n",
      "INFO:__main__:2023-08-30 00:12:46,021  run                      INFO    run: Preparing to unpack .../00-libapr1_1.6.5-1+b1_s390x.deb ...\n",
      "INFO:__main__:2023-08-30 00:12:46,028  run                      INFO    run: Unpacking libapr1:s390x (1.6.5-1+b1) ...\n",
      "INFO:__main__:2023-08-30 00:12:46,065  run                      INFO    run: Selecting previously unselected package libaprutil1:s390x.\n",
      "INFO:__main__:2023-08-30 00:12:46,066  run                      INFO    run: Preparing to unpack .../01-libaprutil1_1.6.1-4_s390x.deb ...\n",
      "INFO:__main__:2023-08-30 00:12:46,069  run                      INFO    run: Unpacking libaprutil1:s390x (1.6.1-4) ...\n",
      "INFO:__main__:2023-08-30 00:12:46,100  run                      INFO    run: Selecting previously unselected package libaprutil1-dbd-sqlite3:s390x.\n",
      "INFO:__main__:2023-08-30 00:12:46,101  run                      INFO    run: Preparing to unpack .../02-libaprutil1-dbd-sqlite3_1.6.1-4_s390x.deb ...\n",
      "INFO:__main__:2023-08-30 00:12:46,104  run                      INFO    run: Unpacking libaprutil1-dbd-sqlite3:s390x (1.6.1-4) ...\n",
      "INFO:__main__:2023-08-30 00:12:46,125  run                      INFO    run: Selecting previously unselected package libaprutil1-ldap:s390x.\n",
      "INFO:__main__:2023-08-30 00:12:46,126  run                      INFO    run: Preparing to unpack .../03-libaprutil1-ldap_1.6.1-4_s390x.deb ...\n",
      "INFO:__main__:2023-08-30 00:12:46,129  run                      INFO    run: Unpacking libaprutil1-ldap:s390x (1.6.1-4) ...\n",
      "INFO:__main__:2023-08-30 00:12:46,155  run                      INFO    run: Selecting previously unselected package libbrotli1:s390x.\n",
      "INFO:__main__:2023-08-30 00:12:46,156  run                      INFO    run: Preparing to unpack .../04-libbrotli1_1.0.7-2+deb10u1_s390x.deb ...\n",
      "INFO:__main__:2023-08-30 00:12:46,160  run                      INFO    run: Unpacking libbrotli1:s390x (1.0.7-2+deb10u1) ...\n",
      "INFO:__main__:2023-08-30 00:12:46,211  run                      INFO    run: Selecting previously unselected package libjansson4:s390x.\n",
      "INFO:__main__:2023-08-30 00:12:46,212  run                      INFO    run: Preparing to unpack .../05-libjansson4_2.12-1_s390x.deb ...\n",
      "INFO:__main__:2023-08-30 00:12:46,216  run                      INFO    run: Unpacking libjansson4:s390x (2.12-1) ...\n",
      "INFO:__main__:2023-08-30 00:12:46,243  run                      INFO    run: Selecting previously unselected package liblua5.2-0:s390x.\n",
      "INFO:__main__:2023-08-30 00:12:46,244  run                      INFO    run: Preparing to unpack .../06-liblua5.2-0_5.2.4-1.1+b2_s390x.deb ...\n",
      "INFO:__main__:2023-08-30 00:12:46,248  run                      INFO    run: Unpacking liblua5.2-0:s390x (5.2.4-1.1+b2) ...\n",
      "INFO:__main__:2023-08-30 00:12:46,282  run                      INFO    run: Selecting previously unselected package libicu63:s390x.\n",
      "INFO:__main__:2023-08-30 00:12:46,283  run                      INFO    run: Preparing to unpack .../07-libicu63_63.1-6+deb10u3_s390x.deb ...\n",
      "INFO:__main__:2023-08-30 00:12:46,286  run                      INFO    run: Unpacking libicu63:s390x (63.1-6+deb10u3) ...\n",
      "INFO:__main__:2023-08-30 00:12:47,098  run                      INFO    run: Selecting previously unselected package libxml2:s390x.\n",
      "INFO:__main__:2023-08-30 00:12:47,100  run                      INFO    run: Preparing to unpack .../08-libxml2_2.9.4+dfsg1-7+deb10u4_s390x.deb ...\n",
      "INFO:__main__:2023-08-30 00:12:47,103  run                      INFO    run: Unpacking libxml2:s390x (2.9.4+dfsg1-7+deb10u4) ...\n",
      "INFO:__main__:2023-08-30 00:12:47,178  run                      INFO    run: Selecting previously unselected package apache2-bin.\n",
      "INFO:__main__:2023-08-30 00:12:47,180  run                      INFO    run: Preparing to unpack .../09-apache2-bin_2.4.38-3+deb10u8_s390x.deb ...\n",
      "INFO:__main__:2023-08-30 00:12:47,183  run                      INFO    run: Unpacking apache2-bin (2.4.38-3+deb10u8) ...\n",
      "INFO:__main__:2023-08-30 00:12:47,313  run                      INFO    run: Selecting previously unselected package apache2-data.\n",
      "INFO:__main__:2023-08-30 00:12:47,315  run                      INFO    run: Preparing to unpack .../10-apache2-data_2.4.38-3+deb10u8_all.deb ...\n",
      "INFO:__main__:2023-08-30 00:12:47,318  run                      INFO    run: Unpacking apache2-data (2.4.38-3+deb10u8) ...\n",
      "INFO:__main__:2023-08-30 00:12:47,371  run                      INFO    run: Selecting previously unselected package apache2-utils.\n",
      "INFO:__main__:2023-08-30 00:12:47,372  run                      INFO    run: Preparing to unpack .../11-apache2-utils_2.4.38-3+deb10u8_s390x.deb ...\n",
      "INFO:__main__:2023-08-30 00:12:47,375  run                      INFO    run: Unpacking apache2-utils (2.4.38-3+deb10u8) ...\n",
      "INFO:__main__:2023-08-30 00:12:47,405  run                      INFO    run: Selecting previously unselected package lsb-base.\n",
      "INFO:__main__:2023-08-30 00:12:47,406  run                      INFO    run: Preparing to unpack .../12-lsb-base_10.2019051400_all.deb ...\n",
      "INFO:__main__:2023-08-30 00:12:47,408  run                      INFO    run: Unpacking lsb-base (10.2019051400) ...\n",
      "INFO:__main__:2023-08-30 00:12:47,436  run                      INFO    run: Selecting previously unselected package libncurses6:s390x.\n",
      "INFO:__main__:2023-08-30 00:12:47,437  run                      INFO    run: Preparing to unpack .../13-libncurses6_6.1+20181013-2+deb10u2_s390x.deb ...\n",
      "INFO:__main__:2023-08-30 00:12:47,440  run                      INFO    run: Unpacking libncurses6:s390x (6.1+20181013-2+deb10u2) ...\n",
      "INFO:__main__:2023-08-30 00:12:47,472  run                      INFO    run: Selecting previously unselected package libprocps7:s390x.\n",
      "INFO:__main__:2023-08-30 00:12:47,473  run                      INFO    run: Preparing to unpack .../14-libprocps7_2%3a3.3.15-2_s390x.deb ...\n",
      "INFO:__main__:2023-08-30 00:12:47,476  run                      INFO    run: Unpacking libprocps7:s390x (2:3.3.15-2) ...\n",
      "INFO:__main__:2023-08-30 00:12:47,509  run                      INFO    run: Selecting previously unselected package procps.\n",
      "INFO:__main__:2023-08-30 00:12:47,510  run                      INFO    run: Preparing to unpack .../15-procps_2%3a3.3.15-2_s390x.deb ...\n",
      "INFO:__main__:2023-08-30 00:12:47,514  run                      INFO    run: Unpacking procps (2:3.3.15-2) ...\n",
      "INFO:__main__:2023-08-30 00:12:47,575  run                      INFO    run: Selecting previously unselected package apache2.\n",
      "INFO:__main__:2023-08-30 00:12:47,577  run                      INFO    run: Preparing to unpack .../16-apache2_2.4.38-3+deb10u8_s390x.deb ...\n",
      "INFO:__main__:2023-08-30 00:12:47,592  run                      INFO    run: Unpacking apache2 (2.4.38-3+deb10u8) ...\n",
      "INFO:__main__:2023-08-30 00:12:47,645  run                      INFO    run: Selecting previously unselected package sensible-utils.\n",
      "INFO:__main__:2023-08-30 00:12:47,646  run                      INFO    run: Preparing to unpack .../17-sensible-utils_0.0.12_all.deb ...\n",
      "INFO:__main__:2023-08-30 00:12:47,649  run                      INFO    run: Unpacking sensible-utils (0.0.12) ...\n",
      "INFO:__main__:2023-08-30 00:12:47,672  run                      INFO    run: Selecting previously unselected package xxd.\n",
      "INFO:__main__:2023-08-30 00:12:47,673  run                      INFO    run: Preparing to unpack .../18-xxd_2%3a8.1.0875-5+deb10u2_s390x.deb ...\n",
      "INFO:__main__:2023-08-30 00:12:47,676  run                      INFO    run: Unpacking xxd (2:8.1.0875-5+deb10u2) ...\n",
      "INFO:__main__:2023-08-30 00:12:47,715  run                      INFO    run: Selecting previously unselected package vim-common.\n",
      "INFO:__main__:2023-08-30 00:12:47,716  run                      INFO    run: Preparing to unpack .../19-vim-common_2%3a8.1.0875-5+deb10u2_all.deb ...\n",
      "INFO:__main__:2023-08-30 00:12:47,723  run                      INFO    run: Unpacking vim-common (2:8.1.0875-5+deb10u2) ...\n",
      "INFO:__main__:2023-08-30 00:12:47,772  run                      INFO    run: Selecting previously unselected package ucf.\n",
      "INFO:__main__:2023-08-30 00:12:47,774  run                      INFO    run: Preparing to unpack .../20-ucf_3.0038+nmu1_all.deb ...\n",
      "INFO:__main__:2023-08-30 00:12:47,777  run                      INFO    run: Moving old data out of the way\n",
      "INFO:__main__:2023-08-30 00:12:47,778  run                      INFO    run: Unpacking ucf (3.0038+nmu1) ...\n",
      "INFO:__main__:2023-08-30 00:12:47,808  run                      INFO    run: Selecting previously unselected package libbsd0:s390x.\n",
      "INFO:__main__:2023-08-30 00:12:47,809  run                      INFO    run: Preparing to unpack .../21-libbsd0_0.9.1-2+deb10u1_s390x.deb ...\n",
      "INFO:__main__:2023-08-30 00:12:47,812  run                      INFO    run: Unpacking libbsd0:s390x (0.9.1-2+deb10u1) ...\n",
      "INFO:__main__:2023-08-30 00:12:47,845  run                      INFO    run: Selecting previously unselected package libedit2:s390x.\n",
      "INFO:__main__:2023-08-30 00:12:47,846  run                      INFO    run: Preparing to unpack .../22-libedit2_3.1-20181209-1_s390x.deb ...\n",
      "INFO:__main__:2023-08-30 00:12:47,849  run                      INFO    run: Unpacking libedit2:s390x (3.1-20181209-1) ...\n",
      "INFO:__main__:2023-08-30 00:12:47,881  run                      INFO    run: Selecting previously unselected package psmisc.\n",
      "INFO:__main__:2023-08-30 00:12:47,882  run                      INFO    run: Preparing to unpack .../23-psmisc_23.2-1+deb10u1_s390x.deb ...\n",
      "INFO:__main__:2023-08-30 00:12:47,885  run                      INFO    run: Unpacking psmisc (23.2-1+deb10u1) ...\n",
      "INFO:__main__:2023-08-30 00:12:47,933  run                      INFO    run: Selecting previously unselected package php-common.\n",
      "INFO:__main__:2023-08-30 00:12:47,934  run                      INFO    run: Preparing to unpack .../24-php-common_2%3a69_all.deb ...\n",
      "INFO:__main__:2023-08-30 00:12:47,937  run                      INFO    run: Unpacking php-common (2:69) ...\n",
      "INFO:__main__:2023-08-30 00:12:47,970  run                      INFO    run: Selecting previously unselected package php7.3-common.\n",
      "INFO:__main__:2023-08-30 00:12:47,971  run                      INFO    run: Preparing to unpack .../25-php7.3-common_7.3.31-1~deb10u1_s390x.deb ...\n",
      "INFO:__main__:2023-08-30 00:12:47,975  run                      INFO    run: Unpacking php7.3-common (7.3.31-1~deb10u1) ...\n",
      "INFO:__main__:2023-08-30 00:12:48,079  run                      INFO    run: Selecting previously unselected package php7.3-json.\n",
      "INFO:__main__:2023-08-30 00:12:48,080  run                      INFO    run: Preparing to unpack .../26-php7.3-json_7.3.31-1~deb10u1_s390x.deb ...\n",
      "INFO:__main__:2023-08-30 00:12:48,083  run                      INFO    run: Unpacking php7.3-json (7.3.31-1~deb10u1) ...\n",
      "INFO:__main__:2023-08-30 00:12:48,113  run                      INFO    run: Selecting previously unselected package php7.3-opcache.\n",
      "INFO:__main__:2023-08-30 00:12:48,114  run                      INFO    run: Preparing to unpack .../27-php7.3-opcache_7.3.31-1~deb10u1_s390x.deb ...\n",
      "INFO:__main__:2023-08-30 00:12:48,118  run                      INFO    run: Unpacking php7.3-opcache (7.3.31-1~deb10u1) ...\n",
      "INFO:__main__:2023-08-30 00:12:48,182  run                      INFO    run: Selecting previously unselected package php7.3-readline.\n",
      "INFO:__main__:2023-08-30 00:12:48,183  run                      INFO    run: Preparing to unpack .../28-php7.3-readline_7.3.31-1~deb10u1_s390x.deb ...\n",
      "INFO:__main__:2023-08-30 00:12:48,186  run                      INFO    run: Unpacking php7.3-readline (7.3.31-1~deb10u1) ...\n",
      "INFO:__main__:2023-08-30 00:12:48,213  run                      INFO    run: Selecting previously unselected package libargon2-1:s390x.\n",
      "INFO:__main__:2023-08-30 00:12:48,214  run                      INFO    run: Preparing to unpack .../29-libargon2-1_0~20171227-0.2_s390x.deb ...\n",
      "INFO:__main__:2023-08-30 00:12:48,216  run                      INFO    run: Unpacking libargon2-1:s390x (0~20171227-0.2) ...\n",
      "INFO:__main__:2023-08-30 00:12:48,246  run                      INFO    run: Selecting previously unselected package libsodium23:s390x.\n",
      "INFO:__main__:2023-08-30 00:12:48,248  run                      INFO    run: Preparing to unpack .../30-libsodium23_1.0.17-1_s390x.deb ...\n",
      "INFO:__main__:2023-08-30 00:12:48,251  run                      INFO    run: Unpacking libsodium23:s390x (1.0.17-1) ...\n",
      "INFO:__main__:2023-08-30 00:12:48,290  run                      INFO    run: Selecting previously unselected package php7.3-cli.\n",
      "INFO:__main__:2023-08-30 00:12:48,291  run                      INFO    run: Preparing to unpack .../31-php7.3-cli_7.3.31-1~deb10u1_s390x.deb ...\n",
      "INFO:__main__:2023-08-30 00:12:48,294  run                      INFO    run: Unpacking php7.3-cli (7.3.31-1~deb10u1) ...\n",
      "INFO:__main__:2023-08-30 00:12:48,446  run                      INFO    run: Selecting previously unselected package libapache2-mod-php7.3.\n",
      "INFO:__main__:2023-08-30 00:12:48,447  run                      INFO    run: Preparing to unpack .../32-libapache2-mod-php7.3_7.3.31-1~deb10u1_s390x.deb ...\n",
      "INFO:__main__:2023-08-30 00:12:48,451  run                      INFO    run: Unpacking libapache2-mod-php7.3 (7.3.31-1~deb10u1) ...\n",
      "INFO:__main__:2023-08-30 00:12:48,595  run                      INFO    run: Selecting previously unselected package libgpm2:s390x.\n",
      "INFO:__main__:2023-08-30 00:12:48,597  run                      INFO    run: Preparing to unpack .../33-libgpm2_1.20.7-5_s390x.deb ...\n",
      "INFO:__main__:2023-08-30 00:12:48,600  run                      INFO    run: Unpacking libgpm2:s390x (1.20.7-5) ...\n",
      "INFO:__main__:2023-08-30 00:12:48,622  run                      INFO    run: Selecting previously unselected package php7.3.\n",
      "INFO:__main__:2023-08-30 00:12:48,623  run                      INFO    run: Preparing to unpack .../34-php7.3_7.3.31-1~deb10u1_all.deb ...\n",
      "INFO:__main__:2023-08-30 00:12:48,626  run                      INFO    run: Unpacking php7.3 (7.3.31-1~deb10u1) ...\n",
      "INFO:__main__:2023-08-30 00:12:48,648  run                      INFO    run: Selecting previously unselected package php.\n",
      "INFO:__main__:2023-08-30 00:12:48,649  run                      INFO    run: Preparing to unpack .../35-php_2%3a7.3+69_all.deb ...\n",
      "INFO:__main__:2023-08-30 00:12:48,652  run                      INFO    run: Unpacking php (2:7.3+69) ...\n",
      "INFO:__main__:2023-08-30 00:12:48,679  run                      INFO    run: Selecting previously unselected package php7.3-curl.\n",
      "INFO:__main__:2023-08-30 00:12:48,680  run                      INFO    run: Preparing to unpack .../36-php7.3-curl_7.3.31-1~deb10u1_s390x.deb ...\n",
      "INFO:__main__:2023-08-30 00:12:48,684  run                      INFO    run: Unpacking php7.3-curl (7.3.31-1~deb10u1) ...\n",
      "INFO:__main__:2023-08-30 00:12:48,706  run                      INFO    run: Selecting previously unselected package php-curl.\n",
      "INFO:__main__:2023-08-30 00:12:48,707  run                      INFO    run: Preparing to unpack .../37-php-curl_2%3a7.3+69_all.deb ...\n",
      "INFO:__main__:2023-08-30 00:12:48,709  run                      INFO    run: Unpacking php-curl (2:7.3+69) ...\n",
      "INFO:__main__:2023-08-30 00:12:48,737  run                      INFO    run: Selecting previously unselected package vim-runtime.\n",
      "INFO:__main__:2023-08-30 00:12:48,738  run                      INFO    run: Preparing to unpack .../38-vim-runtime_2%3a8.1.0875-5+deb10u2_all.deb ...\n",
      "INFO:__main__:2023-08-30 00:12:48,746  run                      INFO    run: Adding 'diversion of /usr/share/vim/vim81/doc/help.txt to /usr/share/vim/vim81/doc/help.txt.vim-tiny by vim-runtime'\n",
      "INFO:__main__:2023-08-30 00:12:48,756  run                      INFO    run: Adding 'diversion of /usr/share/vim/vim81/doc/tags to /usr/share/vim/vim81/doc/tags.vim-tiny by vim-runtime'\n",
      "INFO:__main__:2023-08-30 00:12:48,758  run                      INFO    run: Unpacking vim-runtime (2:8.1.0875-5+deb10u2) ...\n",
      "INFO:__main__:2023-08-30 00:12:50,972  run                      INFO    run: Selecting previously unselected package vim.\n",
      "INFO:__main__:2023-08-30 00:12:50,975  run                      INFO    run: Preparing to unpack .../39-vim_2%3a8.1.0875-5+deb10u2_s390x.deb ...\n",
      "INFO:__main__:2023-08-30 00:12:50,981  run                      INFO    run: Unpacking vim (2:8.1.0875-5+deb10u2) ...\n",
      "INFO:__main__:2023-08-30 00:12:51,125  run                      INFO    run: Setting up lsb-base (10.2019051400) ...\n",
      "INFO:__main__:2023-08-30 00:12:51,134  run                      INFO    run: Setting up libsodium23:s390x (1.0.17-1) ...\n",
      "INFO:__main__:2023-08-30 00:12:51,143  run                      INFO    run: Setting up libgpm2:s390x (1.20.7-5) ...\n",
      "INFO:__main__:2023-08-30 00:12:51,151  run                      INFO    run: Setting up psmisc (23.2-1+deb10u1) ...\n",
      "INFO:__main__:2023-08-30 00:12:51,160  run                      INFO    run: Setting up libargon2-1:s390x (0~20171227-0.2) ...\n",
      "INFO:__main__:2023-08-30 00:12:51,168  run                      INFO    run: Setting up libprocps7:s390x (2:3.3.15-2) ...\n",
      "INFO:__main__:2023-08-30 00:12:51,176  run                      INFO    run: Setting up libbrotli1:s390x (1.0.7-2+deb10u1) ...\n",
      "INFO:__main__:2023-08-30 00:12:51,185  run                      INFO    run: Setting up libapr1:s390x (1.6.5-1+b1) ...\n",
      "INFO:__main__:2023-08-30 00:12:51,193  run                      INFO    run: Setting up libicu63:s390x (63.1-6+deb10u3) ...\n",
      "INFO:__main__:2023-08-30 00:12:51,202  run                      INFO    run: Setting up xxd (2:8.1.0875-5+deb10u2) ...\n",
      "INFO:__main__:2023-08-30 00:12:51,211  run                      INFO    run: Setting up libjansson4:s390x (2.12-1) ...\n",
      "INFO:__main__:2023-08-30 00:12:51,220  run                      INFO    run: Setting up vim-common (2:8.1.0875-5+deb10u2) ...\n",
      "INFO:__main__:2023-08-30 00:12:51,242  run                      INFO    run: Setting up libncurses6:s390x (6.1+20181013-2+deb10u2) ...\n",
      "INFO:__main__:2023-08-30 00:12:51,253  run                      INFO    run: Setting up liblua5.2-0:s390x (5.2.4-1.1+b2) ...\n",
      "INFO:__main__:2023-08-30 00:12:51,263  run                      INFO    run: Setting up sensible-utils (0.0.12) ...\n",
      "INFO:__main__:2023-08-30 00:12:51,272  run                      INFO    run: Setting up procps (2:3.3.15-2) ...\n",
      "INFO:__main__:2023-08-30 00:12:51,323  run                      INFO    run: update-alternatives: using /usr/bin/w.procps to provide /usr/bin/w (w) in auto mode\n",
      "INFO:__main__:2023-08-30 00:12:51,324  run                      INFO    run: update-alternatives: warning: skip creation of /usr/share/man/man1/w.1.gz because associated file /usr/share/man/man1/w.procps.1.gz (of link group w) doesn't exist\n",
      "INFO:__main__:2023-08-30 00:12:51,337  run                      INFO    run: Setting up apache2-data (2.4.38-3+deb10u8) ...\n",
      "INFO:__main__:2023-08-30 00:12:51,350  run                      INFO    run: Setting up vim-runtime (2:8.1.0875-5+deb10u2) ...\n",
      "INFO:__main__:2023-08-30 00:12:51,423  run                      INFO    run: Setting up libbsd0:s390x (0.9.1-2+deb10u1) ...\n",
      "INFO:__main__:2023-08-30 00:12:51,432  run                      INFO    run: Setting up libxml2:s390x (2.9.4+dfsg1-7+deb10u4) ...\n",
      "INFO:__main__:2023-08-30 00:12:51,442  run                      INFO    run: Setting up libaprutil1:s390x (1.6.1-4) ...\n",
      "INFO:__main__:2023-08-30 00:12:51,451  run                      INFO    run: Setting up php-common (2:69) ...\n",
      "INFO:__main__:2023-08-30 00:12:51,570  run                      INFO    run: Setting up vim (2:8.1.0875-5+deb10u2) ...\n",
      "INFO:__main__:2023-08-30 00:12:51,578  run                      INFO    run: update-alternatives: using /usr/bin/vim.basic to provide /usr/bin/vim (vim) in auto mode\n",
      "INFO:__main__:2023-08-30 00:12:51,582  run                      INFO    run: update-alternatives: using /usr/bin/vim.basic to provide /usr/bin/vimdiff (vimdiff) in auto mode\n",
      "INFO:__main__:2023-08-30 00:12:51,585  run                      INFO    run: update-alternatives: using /usr/bin/vim.basic to provide /usr/bin/rvim (rvim) in auto mode\n",
      "INFO:__main__:2023-08-30 00:12:51,588  run                      INFO    run: update-alternatives: using /usr/bin/vim.basic to provide /usr/bin/rview (rview) in auto mode\n",
      "INFO:__main__:2023-08-30 00:12:51,591  run                      INFO    run: update-alternatives: using /usr/bin/vim.basic to provide /usr/bin/vi (vi) in auto mode\n",
      "INFO:__main__:2023-08-30 00:12:51,591  run                      INFO    run: update-alternatives: warning: skip creation of /usr/share/man/da/man1/vi.1.gz because associated file /usr/share/man/da/man1/vim.1.gz (of link group vi) doesn't exist\n",
      "INFO:__main__:2023-08-30 00:12:51,591  run                      INFO    run: update-alternatives: warning: skip creation of /usr/share/man/de/man1/vi.1.gz because associated file /usr/share/man/de/man1/vim.1.gz (of link group vi) doesn't exist\n",
      "INFO:__main__:2023-08-30 00:12:51,592  run                      INFO    run: update-alternatives: warning: skip creation of /usr/share/man/fr/man1/vi.1.gz because associated file /usr/share/man/fr/man1/vim.1.gz (of link group vi) doesn't exist\n",
      "INFO:__main__:2023-08-30 00:12:51,592  run                      INFO    run: update-alternatives: warning: skip creation of /usr/share/man/it/man1/vi.1.gz because associated file /usr/share/man/it/man1/vim.1.gz (of link group vi) doesn't exist\n",
      "INFO:__main__:2023-08-30 00:12:51,592  run                      INFO    run: update-alternatives: warning: skip creation of /usr/share/man/ja/man1/vi.1.gz because associated file /usr/share/man/ja/man1/vim.1.gz (of link group vi) doesn't exist\n",
      "INFO:__main__:2023-08-30 00:12:51,592  run                      INFO    run: update-alternatives: warning: skip creation of /usr/share/man/pl/man1/vi.1.gz because associated file /usr/share/man/pl/man1/vim.1.gz (of link group vi) doesn't exist\n",
      "INFO:__main__:2023-08-30 00:12:51,592  run                      INFO    run: update-alternatives: warning: skip creation of /usr/share/man/ru/man1/vi.1.gz because associated file /usr/share/man/ru/man1/vim.1.gz (of link group vi) doesn't exist\n",
      "INFO:__main__:2023-08-30 00:12:51,592  run                      INFO    run: update-alternatives: warning: skip creation of /usr/share/man/man1/vi.1.gz because associated file /usr/share/man/man1/vim.1.gz (of link group vi) doesn't exist\n",
      "INFO:__main__:2023-08-30 00:12:51,595  run                      INFO    run: update-alternatives: using /usr/bin/vim.basic to provide /usr/bin/view (view) in auto mode\n",
      "INFO:__main__:2023-08-30 00:12:51,596  run                      INFO    run: update-alternatives: warning: skip creation of /usr/share/man/da/man1/view.1.gz because associated file /usr/share/man/da/man1/vim.1.gz (of link group view) doesn't exist\n",
      "INFO:__main__:2023-08-30 00:12:51,596  run                      INFO    run: update-alternatives: warning: skip creation of /usr/share/man/de/man1/view.1.gz because associated file /usr/share/man/de/man1/vim.1.gz (of link group view) doesn't exist\n",
      "INFO:__main__:2023-08-30 00:12:51,596  run                      INFO    run: update-alternatives: warning: skip creation of /usr/share/man/fr/man1/view.1.gz because associated file /usr/share/man/fr/man1/vim.1.gz (of link group view) doesn't exist\n",
      "INFO:__main__:2023-08-30 00:12:51,596  run                      INFO    run: update-alternatives: warning: skip creation of /usr/share/man/it/man1/view.1.gz because associated file /usr/share/man/it/man1/vim.1.gz (of link group view) doesn't exist\n",
      "INFO:__main__:2023-08-30 00:12:51,596  run                      INFO    run: update-alternatives: warning: skip creation of /usr/share/man/ja/man1/view.1.gz because associated file /usr/share/man/ja/man1/vim.1.gz (of link group view) doesn't exist\n",
      "INFO:__main__:2023-08-30 00:12:51,596  run                      INFO    run: update-alternatives: warning: skip creation of /usr/share/man/pl/man1/view.1.gz because associated file /usr/share/man/pl/man1/vim.1.gz (of link group view) doesn't exist\n",
      "INFO:__main__:2023-08-30 00:12:51,597  run                      INFO    run: update-alternatives: warning: skip creation of /usr/share/man/ru/man1/view.1.gz because associated file /usr/share/man/ru/man1/vim.1.gz (of link group view) doesn't exist\n",
      "INFO:__main__:2023-08-30 00:12:51,597  run                      INFO    run: update-alternatives: warning: skip creation of /usr/share/man/man1/view.1.gz because associated file /usr/share/man/man1/vim.1.gz (of link group view) doesn't exist\n",
      "INFO:__main__:2023-08-30 00:12:51,599  run                      INFO    run: update-alternatives: using /usr/bin/vim.basic to provide /usr/bin/ex (ex) in auto mode\n",
      "INFO:__main__:2023-08-30 00:12:51,600  run                      INFO    run: update-alternatives: warning: skip creation of /usr/share/man/da/man1/ex.1.gz because associated file /usr/share/man/da/man1/vim.1.gz (of link group ex) doesn't exist\n",
      "INFO:__main__:2023-08-30 00:12:51,600  run                      INFO    run: update-alternatives: warning: skip creation of /usr/share/man/de/man1/ex.1.gz because associated file /usr/share/man/de/man1/vim.1.gz (of link group ex) doesn't exist\n",
      "INFO:__main__:2023-08-30 00:12:51,600  run                      INFO    run: update-alternatives: warning: skip creation of /usr/share/man/fr/man1/ex.1.gz because associated file /usr/share/man/fr/man1/vim.1.gz (of link group ex) doesn't exist\n",
      "INFO:__main__:2023-08-30 00:12:51,600  run                      INFO    run: update-alternatives: warning: skip creation of /usr/share/man/it/man1/ex.1.gz because associated file /usr/share/man/it/man1/vim.1.gz (of link group ex) doesn't exist\n",
      "INFO:__main__:2023-08-30 00:12:51,600  run                      INFO    run: update-alternatives: warning: skip creation of /usr/share/man/ja/man1/ex.1.gz because associated file /usr/share/man/ja/man1/vim.1.gz (of link group ex) doesn't exist\n",
      "INFO:__main__:2023-08-30 00:12:51,601  run                      INFO    run: update-alternatives: warning: skip creation of /usr/share/man/pl/man1/ex.1.gz because associated file /usr/share/man/pl/man1/vim.1.gz (of link group ex) doesn't exist\n",
      "INFO:__main__:2023-08-30 00:12:51,601  run                      INFO    run: update-alternatives: warning: skip creation of /usr/share/man/ru/man1/ex.1.gz because associated file /usr/share/man/ru/man1/vim.1.gz (of link group ex) doesn't exist\n",
      "INFO:__main__:2023-08-30 00:12:51,601  run                      INFO    run: update-alternatives: warning: skip creation of /usr/share/man/man1/ex.1.gz because associated file /usr/share/man/man1/vim.1.gz (of link group ex) doesn't exist\n",
      "INFO:__main__:2023-08-30 00:12:51,605  run                      INFO    run: update-alternatives: using /usr/bin/vim.basic to provide /usr/bin/editor (editor) in auto mode\n",
      "INFO:__main__:2023-08-30 00:12:51,605  run                      INFO    run: update-alternatives: warning: skip creation of /usr/share/man/da/man1/editor.1.gz because associated file /usr/share/man/da/man1/vim.1.gz (of link group editor) doesn't exist\n",
      "INFO:__main__:2023-08-30 00:12:51,605  run                      INFO    run: update-alternatives: warning: skip creation of /usr/share/man/de/man1/editor.1.gz because associated file /usr/share/man/de/man1/vim.1.gz (of link group editor) doesn't exist\n",
      "INFO:__main__:2023-08-30 00:12:51,606  run                      INFO    run: update-alternatives: warning: skip creation of /usr/share/man/fr/man1/editor.1.gz because associated file /usr/share/man/fr/man1/vim.1.gz (of link group editor) doesn't exist\n",
      "INFO:__main__:2023-08-30 00:12:51,606  run                      INFO    run: update-alternatives: warning: skip creation of /usr/share/man/it/man1/editor.1.gz because associated file /usr/share/man/it/man1/vim.1.gz (of link group editor) doesn't exist\n",
      "INFO:__main__:2023-08-30 00:12:51,606  run                      INFO    run: update-alternatives: warning: skip creation of /usr/share/man/ja/man1/editor.1.gz because associated file /usr/share/man/ja/man1/vim.1.gz (of link group editor) doesn't exist\n",
      "INFO:__main__:2023-08-30 00:12:51,606  run                      INFO    run: update-alternatives: warning: skip creation of /usr/share/man/pl/man1/editor.1.gz because associated file /usr/share/man/pl/man1/vim.1.gz (of link group editor) doesn't exist\n",
      "INFO:__main__:2023-08-30 00:12:51,606  run                      INFO    run: update-alternatives: warning: skip creation of /usr/share/man/ru/man1/editor.1.gz because associated file /usr/share/man/ru/man1/vim.1.gz (of link group editor) doesn't exist\n",
      "INFO:__main__:2023-08-30 00:12:51,606  run                      INFO    run: update-alternatives: warning: skip creation of /usr/share/man/man1/editor.1.gz because associated file /usr/share/man/man1/vim.1.gz (of link group editor) doesn't exist\n",
      "INFO:__main__:2023-08-30 00:12:51,614  run                      INFO    run: Setting up libedit2:s390x (3.1-20181209-1) ...\n",
      "INFO:__main__:2023-08-30 00:12:51,623  run                      INFO    run: Setting up libaprutil1-ldap:s390x (1.6.1-4) ...\n",
      "INFO:__main__:2023-08-30 00:12:51,633  run                      INFO    run: Setting up libaprutil1-dbd-sqlite3:s390x (1.6.1-4) ...\n",
      "INFO:__main__:2023-08-30 00:12:51,641  run                      INFO    run: Setting up ucf (3.0038+nmu1) ...\n",
      "INFO:__main__:2023-08-30 00:12:51,706  run                      INFO    run: debconf: unable to initialize frontend: Dialog\n",
      "INFO:__main__:2023-08-30 00:12:51,706  run                      INFO    run: debconf: (TERM is not set, so the dialog frontend is not usable.)\n",
      "INFO:__main__:2023-08-30 00:12:51,706  run                      INFO    run: debconf: falling back to frontend: Readline\n",
      "INFO:__main__:2023-08-30 00:12:51,737  run                      INFO    run: Setting up apache2-utils (2.4.38-3+deb10u8) ...\n",
      "INFO:__main__:2023-08-30 00:12:51,748  run                      INFO    run: Setting up apache2-bin (2.4.38-3+deb10u8) ...\n",
      "INFO:__main__:2023-08-30 00:12:51,767  run                      INFO    run: Setting up php7.3-common (7.3.31-1~deb10u1) ...\n",
      "INFO:__main__:2023-08-30 00:12:51,848  run                      INFO    run: debconf: unable to initialize frontend: Dialog\n",
      "INFO:__main__:2023-08-30 00:12:51,848  run                      INFO    run: debconf: (TERM is not set, so the dialog frontend is not usable.)\n",
      "INFO:__main__:2023-08-30 00:12:51,848  run                      INFO    run: debconf: falling back to frontend: Readline\n",
      "INFO:__main__:2023-08-30 00:12:51,883  run                      INFO    run: \n",
      "INFO:__main__:2023-08-30 00:12:51,883  run                      INFO    run: Creating config file /etc/php/7.3/mods-available/calendar.ini with new version\n",
      "INFO:__main__:2023-08-30 00:12:52,050  run                      INFO    run: debconf: unable to initialize frontend: Dialog\n",
      "INFO:__main__:2023-08-30 00:12:52,050  run                      INFO    run: debconf: (TERM is not set, so the dialog frontend is not usable.)\n",
      "INFO:__main__:2023-08-30 00:12:52,050  run                      INFO    run: debconf: falling back to frontend: Readline\n",
      "INFO:__main__:2023-08-30 00:12:52,085  run                      INFO    run: \n",
      "INFO:__main__:2023-08-30 00:12:52,085  run                      INFO    run: Creating config file /etc/php/7.3/mods-available/ctype.ini with new version\n",
      "INFO:__main__:2023-08-30 00:12:52,238  run                      INFO    run: debconf: unable to initialize frontend: Dialog\n",
      "INFO:__main__:2023-08-30 00:12:52,238  run                      INFO    run: debconf: (TERM is not set, so the dialog frontend is not usable.)\n",
      "INFO:__main__:2023-08-30 00:12:52,238  run                      INFO    run: debconf: falling back to frontend: Readline\n",
      "INFO:__main__:2023-08-30 00:12:52,272  run                      INFO    run: \n",
      "INFO:__main__:2023-08-30 00:12:52,272  run                      INFO    run: Creating config file /etc/php/7.3/mods-available/exif.ini with new version\n",
      "INFO:__main__:2023-08-30 00:12:52,431  run                      INFO    run: debconf: unable to initialize frontend: Dialog\n",
      "INFO:__main__:2023-08-30 00:12:52,431  run                      INFO    run: debconf: (TERM is not set, so the dialog frontend is not usable.)\n",
      "INFO:__main__:2023-08-30 00:12:52,431  run                      INFO    run: debconf: falling back to frontend: Readline\n",
      "INFO:__main__:2023-08-30 00:12:52,465  run                      INFO    run: \n",
      "INFO:__main__:2023-08-30 00:12:52,465  run                      INFO    run: Creating config file /etc/php/7.3/mods-available/fileinfo.ini with new version\n",
      "INFO:__main__:2023-08-30 00:12:52,611  run                      INFO    run: debconf: unable to initialize frontend: Dialog\n",
      "INFO:__main__:2023-08-30 00:12:52,611  run                      INFO    run: debconf: (TERM is not set, so the dialog frontend is not usable.)\n",
      "INFO:__main__:2023-08-30 00:12:52,611  run                      INFO    run: debconf: falling back to frontend: Readline\n",
      "INFO:__main__:2023-08-30 00:12:52,645  run                      INFO    run: \n",
      "INFO:__main__:2023-08-30 00:12:52,645  run                      INFO    run: Creating config file /etc/php/7.3/mods-available/ftp.ini with new version\n",
      "INFO:__main__:2023-08-30 00:12:52,792  run                      INFO    run: debconf: unable to initialize frontend: Dialog\n",
      "INFO:__main__:2023-08-30 00:12:52,792  run                      INFO    run: debconf: (TERM is not set, so the dialog frontend is not usable.)\n",
      "INFO:__main__:2023-08-30 00:12:52,792  run                      INFO    run: debconf: falling back to frontend: Readline\n",
      "INFO:__main__:2023-08-30 00:12:52,826  run                      INFO    run: \n",
      "INFO:__main__:2023-08-30 00:12:52,826  run                      INFO    run: Creating config file /etc/php/7.3/mods-available/gettext.ini with new version\n",
      "INFO:__main__:2023-08-30 00:12:52,975  run                      INFO    run: debconf: unable to initialize frontend: Dialog\n",
      "INFO:__main__:2023-08-30 00:12:52,975  run                      INFO    run: debconf: (TERM is not set, so the dialog frontend is not usable.)\n",
      "INFO:__main__:2023-08-30 00:12:52,975  run                      INFO    run: debconf: falling back to frontend: Readline\n",
      "INFO:__main__:2023-08-30 00:12:53,009  run                      INFO    run: \n",
      "INFO:__main__:2023-08-30 00:12:53,010  run                      INFO    run: Creating config file /etc/php/7.3/mods-available/iconv.ini with new version\n",
      "INFO:__main__:2023-08-30 00:12:53,163  run                      INFO    run: debconf: unable to initialize frontend: Dialog\n",
      "INFO:__main__:2023-08-30 00:12:53,163  run                      INFO    run: debconf: (TERM is not set, so the dialog frontend is not usable.)\n",
      "INFO:__main__:2023-08-30 00:12:53,163  run                      INFO    run: debconf: falling back to frontend: Readline\n",
      "INFO:__main__:2023-08-30 00:12:53,198  run                      INFO    run: \n",
      "INFO:__main__:2023-08-30 00:12:53,198  run                      INFO    run: Creating config file /etc/php/7.3/mods-available/pdo.ini with new version\n",
      "INFO:__main__:2023-08-30 00:12:53,354  run                      INFO    run: debconf: unable to initialize frontend: Dialog\n",
      "INFO:__main__:2023-08-30 00:12:53,354  run                      INFO    run: debconf: (TERM is not set, so the dialog frontend is not usable.)\n",
      "INFO:__main__:2023-08-30 00:12:53,354  run                      INFO    run: debconf: falling back to frontend: Readline\n",
      "INFO:__main__:2023-08-30 00:12:53,389  run                      INFO    run: \n",
      "INFO:__main__:2023-08-30 00:12:53,389  run                      INFO    run: Creating config file /etc/php/7.3/mods-available/phar.ini with new version\n",
      "INFO:__main__:2023-08-30 00:12:53,567  run                      INFO    run: debconf: unable to initialize frontend: Dialog\n",
      "INFO:__main__:2023-08-30 00:12:53,568  run                      INFO    run: debconf: (TERM is not set, so the dialog frontend is not usable.)\n",
      "INFO:__main__:2023-08-30 00:12:53,568  run                      INFO    run: debconf: falling back to frontend: Readline\n",
      "INFO:__main__:2023-08-30 00:12:53,608  run                      INFO    run: \n",
      "INFO:__main__:2023-08-30 00:12:53,608  run                      INFO    run: Creating config file /etc/php/7.3/mods-available/posix.ini with new version\n",
      "INFO:__main__:2023-08-30 00:12:53,764  run                      INFO    run: debconf: unable to initialize frontend: Dialog\n",
      "INFO:__main__:2023-08-30 00:12:53,764  run                      INFO    run: debconf: (TERM is not set, so the dialog frontend is not usable.)\n",
      "INFO:__main__:2023-08-30 00:12:53,764  run                      INFO    run: debconf: falling back to frontend: Readline\n",
      "INFO:__main__:2023-08-30 00:12:53,798  run                      INFO    run: \n",
      "INFO:__main__:2023-08-30 00:12:53,798  run                      INFO    run: Creating config file /etc/php/7.3/mods-available/shmop.ini with new version\n",
      "INFO:__main__:2023-08-30 00:12:53,951  run                      INFO    run: debconf: unable to initialize frontend: Dialog\n",
      "INFO:__main__:2023-08-30 00:12:53,951  run                      INFO    run: debconf: (TERM is not set, so the dialog frontend is not usable.)\n",
      "INFO:__main__:2023-08-30 00:12:53,951  run                      INFO    run: debconf: falling back to frontend: Readline\n",
      "INFO:__main__:2023-08-30 00:12:53,985  run                      INFO    run: \n",
      "INFO:__main__:2023-08-30 00:12:53,985  run                      INFO    run: Creating config file /etc/php/7.3/mods-available/sockets.ini with new version\n",
      "INFO:__main__:2023-08-30 00:12:54,137  run                      INFO    run: debconf: unable to initialize frontend: Dialog\n",
      "INFO:__main__:2023-08-30 00:12:54,137  run                      INFO    run: debconf: (TERM is not set, so the dialog frontend is not usable.)\n",
      "INFO:__main__:2023-08-30 00:12:54,137  run                      INFO    run: debconf: falling back to frontend: Readline\n",
      "INFO:__main__:2023-08-30 00:12:54,171  run                      INFO    run: \n",
      "INFO:__main__:2023-08-30 00:12:54,171  run                      INFO    run: Creating config file /etc/php/7.3/mods-available/sysvmsg.ini with new version\n",
      "INFO:__main__:2023-08-30 00:12:54,321  run                      INFO    run: debconf: unable to initialize frontend: Dialog\n",
      "INFO:__main__:2023-08-30 00:12:54,322  run                      INFO    run: debconf: (TERM is not set, so the dialog frontend is not usable.)\n",
      "INFO:__main__:2023-08-30 00:12:54,322  run                      INFO    run: debconf: falling back to frontend: Readline\n",
      "INFO:__main__:2023-08-30 00:12:54,356  run                      INFO    run: \n",
      "INFO:__main__:2023-08-30 00:12:54,356  run                      INFO    run: Creating config file /etc/php/7.3/mods-available/sysvsem.ini with new version\n",
      "INFO:__main__:2023-08-30 00:12:54,506  run                      INFO    run: debconf: unable to initialize frontend: Dialog\n",
      "INFO:__main__:2023-08-30 00:12:54,507  run                      INFO    run: debconf: (TERM is not set, so the dialog frontend is not usable.)\n",
      "INFO:__main__:2023-08-30 00:12:54,507  run                      INFO    run: debconf: falling back to frontend: Readline\n",
      "INFO:__main__:2023-08-30 00:12:54,541  run                      INFO    run: \n",
      "INFO:__main__:2023-08-30 00:12:54,541  run                      INFO    run: Creating config file /etc/php/7.3/mods-available/sysvshm.ini with new version\n",
      "INFO:__main__:2023-08-30 00:12:54,694  run                      INFO    run: debconf: unable to initialize frontend: Dialog\n",
      "INFO:__main__:2023-08-30 00:12:54,694  run                      INFO    run: debconf: (TERM is not set, so the dialog frontend is not usable.)\n",
      "INFO:__main__:2023-08-30 00:12:54,694  run                      INFO    run: debconf: falling back to frontend: Readline\n",
      "INFO:__main__:2023-08-30 00:12:54,728  run                      INFO    run: \n",
      "INFO:__main__:2023-08-30 00:12:54,728  run                      INFO    run: Creating config file /etc/php/7.3/mods-available/tokenizer.ini with new version\n",
      "INFO:__main__:2023-08-30 00:12:59,243  run                      INFO    run: Setting up php7.3-opcache (7.3.31-1~deb10u1) ...\n",
      "INFO:__main__:2023-08-30 00:13:12,816  run                      INFO    run: debconf: unable to initialize frontend: Dialog\n",
      "INFO:__main__:2023-08-30 00:13:12,821  run                      INFO    run: debconf: (TERM is not set, so the dialog frontend is not usable.)\n",
      "INFO:__main__:2023-08-30 00:13:12,821  run                      INFO    run: debconf: falling back to frontend: Readline\n",
      "INFO:__main__:2023-08-30 00:13:12,855  run                      INFO    run: \n",
      "INFO:__main__:2023-08-30 00:13:12,855  run                      INFO    run: Creating config file /etc/php/7.3/mods-available/opcache.ini with new version\n",
      "INFO:__main__:2023-08-30 00:13:12,943  run                      INFO    run: Setting up php7.3-curl (7.3.31-1~deb10u1) ...\n",
      "INFO:__main__:2023-08-30 00:13:13,019  run                      INFO    run: debconf: unable to initialize frontend: Dialog\n",
      "INFO:__main__:2023-08-30 00:13:13,019  run                      INFO    run: debconf: (TERM is not set, so the dialog frontend is not usable.)\n",
      "INFO:__main__:2023-08-30 00:13:13,019  run                      INFO    run: debconf: falling back to frontend: Readline\n",
      "INFO:__main__:2023-08-30 00:13:13,053  run                      INFO    run: \n",
      "INFO:__main__:2023-08-30 00:13:13,053  run                      INFO    run: Creating config file /etc/php/7.3/mods-available/curl.ini with new version\n",
      "INFO:__main__:2023-08-30 00:13:13,139  run                      INFO    run: Setting up php-curl (2:7.3+69) ...\n",
      "INFO:__main__:2023-08-30 00:13:13,147  run                      INFO    run: Setting up php7.3-json (7.3.31-1~deb10u1) ...\n",
      "INFO:__main__:2023-08-30 00:13:13,223  run                      INFO    run: debconf: unable to initialize frontend: Dialog\n",
      "INFO:__main__:2023-08-30 00:13:13,223  run                      INFO    run: debconf: (TERM is not set, so the dialog frontend is not usable.)\n",
      "INFO:__main__:2023-08-30 00:13:13,223  run                      INFO    run: debconf: falling back to frontend: Readline\n",
      "INFO:__main__:2023-08-30 00:13:13,258  run                      INFO    run: \n",
      "INFO:__main__:2023-08-30 00:13:13,258  run                      INFO    run: Creating config file /etc/php/7.3/mods-available/json.ini with new version\n",
      "INFO:__main__:2023-08-30 00:13:13,342  run                      INFO    run: Setting up php7.3-readline (7.3.31-1~deb10u1) ...\n",
      "INFO:__main__:2023-08-30 00:13:13,417  run                      INFO    run: debconf: unable to initialize frontend: Dialog\n",
      "INFO:__main__:2023-08-30 00:13:13,417  run                      INFO    run: debconf: (TERM is not set, so the dialog frontend is not usable.)\n",
      "INFO:__main__:2023-08-30 00:13:13,418  run                      INFO    run: debconf: falling back to frontend: Readline\n",
      "INFO:__main__:2023-08-30 00:13:13,452  run                      INFO    run: \n",
      "INFO:__main__:2023-08-30 00:13:13,452  run                      INFO    run: Creating config file /etc/php/7.3/mods-available/readline.ini with new version\n",
      "INFO:__main__:2023-08-30 00:13:13,536  run                      INFO    run: Setting up apache2 (2.4.38-3+deb10u8) ...\n",
      "INFO:__main__:2023-08-30 00:13:14,208  run                      INFO    run: Enabling module mpm_event.\n",
      "INFO:__main__:2023-08-30 00:13:14,236  run                      INFO    run: Enabling module authz_core.\n",
      "INFO:__main__:2023-08-30 00:13:14,238  run                      INFO    run: Enabling module authz_host.\n",
      "INFO:__main__:2023-08-30 00:13:14,263  run                      INFO    run: Enabling module authn_core.\n",
      "INFO:__main__:2023-08-30 00:13:14,265  run                      INFO    run: Enabling module auth_basic.\n",
      "INFO:__main__:2023-08-30 00:13:14,289  run                      INFO    run: Enabling module access_compat.\n",
      "INFO:__main__:2023-08-30 00:13:14,313  run                      INFO    run: Enabling module authn_file.\n",
      "INFO:__main__:2023-08-30 00:13:14,337  run                      INFO    run: Enabling module authz_user.\n",
      "INFO:__main__:2023-08-30 00:13:14,361  run                      INFO    run: Enabling module alias.\n",
      "INFO:__main__:2023-08-30 00:13:14,385  run                      INFO    run: Enabling module dir.\n",
      "INFO:__main__:2023-08-30 00:13:14,409  run                      INFO    run: Enabling module autoindex.\n",
      "INFO:__main__:2023-08-30 00:13:14,433  run                      INFO    run: Enabling module env.\n",
      "INFO:__main__:2023-08-30 00:13:14,456  run                      INFO    run: Enabling module mime.\n",
      "INFO:__main__:2023-08-30 00:13:14,481  run                      INFO    run: Enabling module negotiation.\n",
      "INFO:__main__:2023-08-30 00:13:14,505  run                      INFO    run: Enabling module setenvif.\n",
      "INFO:__main__:2023-08-30 00:13:14,529  run                      INFO    run: Enabling module filter.\n",
      "INFO:__main__:2023-08-30 00:13:14,552  run                      INFO    run: Enabling module deflate.\n",
      "INFO:__main__:2023-08-30 00:13:14,576  run                      INFO    run: Enabling module status.\n",
      "INFO:__main__:2023-08-30 00:13:14,600  run                      INFO    run: Enabling module reqtimeout.\n",
      "INFO:__main__:2023-08-30 00:13:14,624  run                      INFO    run: Enabling conf charset.\n",
      "INFO:__main__:2023-08-30 00:13:14,648  run                      INFO    run: Enabling conf localized-error-pages.\n",
      "INFO:__main__:2023-08-30 00:13:14,671  run                      INFO    run: Enabling conf other-vhosts-access-log.\n",
      "INFO:__main__:2023-08-30 00:13:14,695  run                      INFO    run: Enabling conf security.\n",
      "INFO:__main__:2023-08-30 00:13:14,719  run                      INFO    run: Enabling conf serve-cgi-bin.\n",
      "INFO:__main__:2023-08-30 00:13:14,742  run                      INFO    run: Enabling site 000-default.\n",
      "INFO:__main__:2023-08-30 00:13:14,953  run                      INFO    run: invoke-rc.d: could not determine current runlevel\n",
      "INFO:__main__:2023-08-30 00:13:14,955  run                      INFO    run: invoke-rc.d: policy-rc.d denied execution of start.\n",
      "INFO:__main__:2023-08-30 00:13:15,036  run                      INFO    run: Setting up php7.3-cli (7.3.31-1~deb10u1) ...\n",
      "INFO:__main__:2023-08-30 00:13:15,044  run                      INFO    run: update-alternatives: using /usr/bin/php7.3 to provide /usr/bin/php (php) in auto mode\n",
      "INFO:__main__:2023-08-30 00:13:15,045  run                      INFO    run: update-alternatives: warning: skip creation of /usr/share/man/man1/php.1.gz because associated file /usr/share/man/man1/php7.3.1.gz (of link group php) doesn't exist\n",
      "INFO:__main__:2023-08-30 00:13:15,048  run                      INFO    run: update-alternatives: using /usr/bin/phar7.3 to provide /usr/bin/phar (phar) in auto mode\n",
      "INFO:__main__:2023-08-30 00:13:15,048  run                      INFO    run: update-alternatives: warning: skip creation of /usr/share/man/man1/phar.1.gz because associated file /usr/share/man/man1/phar7.3.1.gz (of link group phar) doesn't exist\n",
      "INFO:__main__:2023-08-30 00:13:15,051  run                      INFO    run: update-alternatives: using /usr/bin/phar.phar7.3 to provide /usr/bin/phar.phar (phar.phar) in auto mode\n",
      "INFO:__main__:2023-08-30 00:13:15,051  run                      INFO    run: update-alternatives: warning: skip creation of /usr/share/man/man1/phar.phar.1.gz because associated file /usr/share/man/man1/phar.phar7.3.1.gz (of link group phar.phar) doesn't exist\n",
      "INFO:__main__:2023-08-30 00:13:15,124  run                      INFO    run: debconf: unable to initialize frontend: Dialog\n",
      "INFO:__main__:2023-08-30 00:13:15,124  run                      INFO    run: debconf: (TERM is not set, so the dialog frontend is not usable.)\n",
      "INFO:__main__:2023-08-30 00:13:15,124  run                      INFO    run: debconf: falling back to frontend: Readline\n",
      "INFO:__main__:2023-08-30 00:13:15,159  run                      INFO    run: \n",
      "INFO:__main__:2023-08-30 00:13:15,159  run                      INFO    run: Creating config file /etc/php/7.3/cli/php.ini with new version\n",
      "INFO:__main__:2023-08-30 00:13:15,406  run                      INFO    run: Setting up libapache2-mod-php7.3 (7.3.31-1~deb10u1) ...\n",
      "INFO:__main__:2023-08-30 00:13:15,499  run                      INFO    run: debconf: unable to initialize frontend: Dialog\n",
      "INFO:__main__:2023-08-30 00:13:15,499  run                      INFO    run: debconf: (TERM is not set, so the dialog frontend is not usable.)\n",
      "INFO:__main__:2023-08-30 00:13:15,499  run                      INFO    run: debconf: falling back to frontend: Readline\n",
      "INFO:__main__:2023-08-30 00:13:15,535  run                      INFO    run: \n",
      "INFO:__main__:2023-08-30 00:13:15,535  run                      INFO    run: Creating config file /etc/php/7.3/apache2/php.ini with new version\n",
      "INFO:__main__:2023-08-30 00:13:15,970  run                      INFO    run: Module mpm_event disabled.\n",
      "INFO:__main__:2023-08-30 00:13:15,993  run                      INFO    run: Enabling module mpm_prefork.\n",
      "INFO:__main__:2023-08-30 00:13:15,996  run                      INFO    run: apache2_switch_mpm Switch to prefork\n",
      "INFO:__main__:2023-08-30 00:13:16,049  run                      INFO    run: invoke-rc.d: could not determine current runlevel\n",
      "INFO:__main__:2023-08-30 00:13:16,051  run                      INFO    run: invoke-rc.d: policy-rc.d denied execution of restart.\n",
      "INFO:__main__:2023-08-30 00:13:16,101  run                      INFO    run: apache2_invoke: Enable module php7.3\n",
      "INFO:__main__:2023-08-30 00:13:16,138  run                      INFO    run: invoke-rc.d: could not determine current runlevel\n",
      "INFO:__main__:2023-08-30 00:13:16,140  run                      INFO    run: invoke-rc.d: policy-rc.d denied execution of restart.\n",
      "INFO:__main__:2023-08-30 00:13:16,145  run                      INFO    run: Setting up php7.3 (7.3.31-1~deb10u1) ...\n",
      "INFO:__main__:2023-08-30 00:13:16,152  run                      INFO    run: Setting up php (2:7.3+69) ...\n",
      "INFO:__main__:2023-08-30 00:13:16,178  run                      INFO    run: Processing triggers for libc-bin (2.28-10+deb10u1) ...\n",
      "INFO:__main__:2023-08-30 00:13:16,192  run                      INFO    run: Processing triggers for mime-support (3.62) ...\n",
      "INFO:__main__:2023-08-30 00:13:16,701  run                      INFO    run: Reading package lists...\n",
      "INFO:__main__:2023-08-30 00:13:16,796  run                      INFO    run: Building dependency tree...\n",
      "INFO:__main__:2023-08-30 00:13:16,796  run                      INFO    run: Reading state information...\n",
      "INFO:__main__:2023-08-30 00:13:16,884  run                      INFO    run: The following additional packages will be installed:\n",
      "INFO:__main__:2023-08-30 00:13:16,884  run                      INFO    run:   libpng16-16 libpython-stdlib libpython2-stdlib libpython2.7-minimal\n",
      "INFO:__main__:2023-08-30 00:13:16,884  run                      INFO    run:   libpython2.7-stdlib libzip4 php7.3-zip python-minimal python2\n",
      "INFO:__main__:2023-08-30 00:13:16,884  run                      INFO    run:   python2-minimal python2.7 python2.7-minimal zlib1g-dev\n",
      "INFO:__main__:2023-08-30 00:13:16,885  run                      INFO    run: Suggested packages:\n",
      "INFO:__main__:2023-08-30 00:13:16,885  run                      INFO    run:   sqlite3-doc python-doc python-tk python2-doc python2.7-doc binfmt-support\n",
      "INFO:__main__:2023-08-30 00:13:16,885  run                      INFO    run: Recommended packages:\n",
      "INFO:__main__:2023-08-30 00:13:16,885  run                      INFO    run:   libpng-tools\n",
      "INFO:__main__:2023-08-30 00:13:17,092  run                      INFO    run: The following NEW packages will be installed:\n",
      "INFO:__main__:2023-08-30 00:13:17,092  run                      INFO    run:   libpng-dev libpng16-16 libpython-stdlib libpython2-stdlib\n",
      "INFO:__main__:2023-08-30 00:13:17,092  run                      INFO    run:   libpython2.7-minimal libpython2.7-stdlib libsqlite3-dev libzip-dev libzip4\n",
      "INFO:__main__:2023-08-30 00:13:17,092  run                      INFO    run:   php-zip php7.3-zip python python-minimal python2 python2-minimal python2.7\n",
      "INFO:__main__:2023-08-30 00:13:17,092  run                      INFO    run:   python2.7-minimal sqlite3 zlib1g-dev\n",
      "INFO:__main__:2023-08-30 00:13:17,110  run                      INFO    run: 0 upgraded, 19 newly installed, 0 to remove and 0 not upgraded.\n",
      "INFO:__main__:2023-08-30 00:13:17,110  run                      INFO    run: Need to get 6571 kB of archives.\n",
      "INFO:__main__:2023-08-30 00:13:17,110  run                      INFO    run: After this operation, 24.3 MB of additional disk space will be used.\n",
      "INFO:__main__:2023-08-30 00:13:17,110  run                      INFO    run: Get:1 http://deb.debian.org/debian buster/main s390x libpython2.7-minimal s390x 2.7.16-2+deb10u1 [395 kB]\n",
      "INFO:__main__:2023-08-30 00:13:17,119  run                      INFO    run: Get:2 http://deb.debian.org/debian buster/main s390x python2.7-minimal s390x 2.7.16-2+deb10u1 [1234 kB]\n",
      "INFO:__main__:2023-08-30 00:13:17,133  run                      INFO    run: Get:3 http://deb.debian.org/debian buster/main s390x python2-minimal s390x 2.7.16-1 [41.4 kB]\n",
      "INFO:__main__:2023-08-30 00:13:17,134  run                      INFO    run: Get:4 http://deb.debian.org/debian buster/main s390x python-minimal s390x 2.7.16-1 [21.0 kB]\n",
      "INFO:__main__:2023-08-30 00:13:17,135  run                      INFO    run: Get:5 http://deb.debian.org/debian buster/main s390x libpython2.7-stdlib s390x 2.7.16-2+deb10u1 [1853 kB]\n",
      "INFO:__main__:2023-08-30 00:13:17,154  run                      INFO    run: Get:6 http://deb.debian.org/debian buster/main s390x python2.7 s390x 2.7.16-2+deb10u1 [305 kB]\n",
      "INFO:__main__:2023-08-30 00:13:17,157  run                      INFO    run: Get:7 http://deb.debian.org/debian buster/main s390x libpython2-stdlib s390x 2.7.16-1 [20.8 kB]\n",
      "INFO:__main__:2023-08-30 00:13:17,158  run                      INFO    run: Get:8 http://deb.debian.org/debian buster/main s390x libpython-stdlib s390x 2.7.16-1 [20.8 kB]\n",
      "INFO:__main__:2023-08-30 00:13:17,159  run                      INFO    run: Get:9 http://deb.debian.org/debian buster/main s390x python2 s390x 2.7.16-1 [41.6 kB]\n",
      "INFO:__main__:2023-08-30 00:13:17,160  run                      INFO    run: Get:10 http://deb.debian.org/debian buster/main s390x python s390x 2.7.16-1 [22.8 kB]\n",
      "INFO:__main__:2023-08-30 00:13:17,160  run                      INFO    run: Get:11 http://deb.debian.org/debian buster/main s390x libpng16-16 s390x 1.6.36-6 [285 kB]\n",
      "INFO:__main__:2023-08-30 00:13:17,164  run                      INFO    run: Get:12 http://deb.debian.org/debian buster/main s390x zlib1g-dev s390x 1:1.2.11.dfsg-1+deb10u1 [207 kB]\n",
      "INFO:__main__:2023-08-30 00:13:17,166  run                      INFO    run: Get:13 http://deb.debian.org/debian buster/main s390x libpng-dev s390x 1.6.36-6 [294 kB]\n",
      "INFO:__main__:2023-08-30 00:13:17,170  run                      INFO    run: Get:14 http://deb.debian.org/debian buster/main s390x libsqlite3-dev s390x 3.27.2-3+deb10u1 [746 kB]\n",
      "INFO:__main__:2023-08-30 00:13:17,177  run                      INFO    run: Get:15 http://deb.debian.org/debian buster/main s390x libzip4 s390x 1.5.1-4 [47.1 kB]\n",
      "INFO:__main__:2023-08-30 00:13:17,178  run                      INFO    run: Get:16 http://deb.debian.org/debian buster/main s390x libzip-dev s390x 1.5.1-4 [158 kB]\n",
      "INFO:__main__:2023-08-30 00:13:17,180  run                      INFO    run: Get:17 http://deb.debian.org/debian buster/main s390x php7.3-zip s390x 7.3.31-1~deb10u1 [19.3 kB]\n",
      "INFO:__main__:2023-08-30 00:13:17,186  run                      INFO    run: Get:18 http://deb.debian.org/debian buster/main s390x php-zip all 2:7.3+69 [5988 B]\n",
      "INFO:__main__:2023-08-30 00:13:17,186  run                      INFO    run: Get:19 http://deb.debian.org/debian buster/main s390x sqlite3 s390x 3.27.2-3+deb10u1 [855 kB]\n",
      "INFO:__main__:2023-08-30 00:13:17,287  run                      INFO    run: \u001b[91mdebconf: delaying package configuration, since apt-utils is not installed\n",
      "INFO:__main__:2023-08-30 00:13:17,298  run                      INFO    run: \u001b[0mFetched 6571 kB in 0s (67.2 MB/s)\n",
      "INFO:__main__:2023-08-30 00:13:17,322  run                      INFO    run: Selecting previously unselected package libpython2.7-minimal:s390x.\n",
      "(Reading database ... 18045 files and directories currently installed.) run: (Reading database ... \n",
      "INFO:__main__:2023-08-30 00:13:17,330  run                      INFO    run: Preparing to unpack .../0-libpython2.7-minimal_2.7.16-2+deb10u1_s390x.deb ...\n",
      "INFO:__main__:2023-08-30 00:13:17,332  run                      INFO    run: Unpacking libpython2.7-minimal:s390x (2.7.16-2+deb10u1) ...\n",
      "INFO:__main__:2023-08-30 00:13:17,407  run                      INFO    run: Selecting previously unselected package python2.7-minimal.\n",
      "INFO:__main__:2023-08-30 00:13:17,408  run                      INFO    run: Preparing to unpack .../1-python2.7-minimal_2.7.16-2+deb10u1_s390x.deb ...\n",
      "INFO:__main__:2023-08-30 00:13:17,412  run                      INFO    run: Unpacking python2.7-minimal (2.7.16-2+deb10u1) ...\n",
      "INFO:__main__:2023-08-30 00:13:17,554  run                      INFO    run: Selecting previously unselected package python2-minimal.\n",
      "INFO:__main__:2023-08-30 00:13:17,555  run                      INFO    run: Preparing to unpack .../2-python2-minimal_2.7.16-1_s390x.deb ...\n",
      "INFO:__main__:2023-08-30 00:13:17,558  run                      INFO    run: Unpacking python2-minimal (2.7.16-1) ...\n",
      "INFO:__main__:2023-08-30 00:13:17,581  run                      INFO    run: Selecting previously unselected package python-minimal.\n",
      "INFO:__main__:2023-08-30 00:13:17,583  run                      INFO    run: Preparing to unpack .../3-python-minimal_2.7.16-1_s390x.deb ...\n",
      "INFO:__main__:2023-08-30 00:13:17,585  run                      INFO    run: Unpacking python-minimal (2.7.16-1) ...\n",
      "INFO:__main__:2023-08-30 00:13:17,607  run                      INFO    run: Selecting previously unselected package libpython2.7-stdlib:s390x.\n",
      "INFO:__main__:2023-08-30 00:13:17,608  run                      INFO    run: Preparing to unpack .../4-libpython2.7-stdlib_2.7.16-2+deb10u1_s390x.deb ...\n",
      "INFO:__main__:2023-08-30 00:13:17,611  run                      INFO    run: Unpacking libpython2.7-stdlib:s390x (2.7.16-2+deb10u1) ...\n",
      "INFO:__main__:2023-08-30 00:13:17,837  run                      INFO    run: Selecting previously unselected package python2.7.\n",
      "INFO:__main__:2023-08-30 00:13:17,838  run                      INFO    run: Preparing to unpack .../5-python2.7_2.7.16-2+deb10u1_s390x.deb ...\n",
      "INFO:__main__:2023-08-30 00:13:17,842  run                      INFO    run: Unpacking python2.7 (2.7.16-2+deb10u1) ...\n",
      "INFO:__main__:2023-08-30 00:13:17,876  run                      INFO    run: Selecting previously unselected package libpython2-stdlib:s390x.\n",
      "INFO:__main__:2023-08-30 00:13:17,878  run                      INFO    run: Preparing to unpack .../6-libpython2-stdlib_2.7.16-1_s390x.deb ...\n",
      "INFO:__main__:2023-08-30 00:13:17,881  run                      INFO    run: Unpacking libpython2-stdlib:s390x (2.7.16-1) ...\n",
      "INFO:__main__:2023-08-30 00:13:17,901  run                      INFO    run: Selecting previously unselected package libpython-stdlib:s390x.\n",
      "INFO:__main__:2023-08-30 00:13:17,902  run                      INFO    run: Preparing to unpack .../7-libpython-stdlib_2.7.16-1_s390x.deb ...\n",
      "INFO:__main__:2023-08-30 00:13:17,904  run                      INFO    run: Unpacking libpython-stdlib:s390x (2.7.16-1) ...\n",
      "INFO:__main__:2023-08-30 00:13:17,934  run                      INFO    run: Setting up libpython2.7-minimal:s390x (2.7.16-2+deb10u1) ...\n",
      "INFO:__main__:2023-08-30 00:13:17,946  run                      INFO    run: Setting up python2.7-minimal (2.7.16-2+deb10u1) ...\n",
      "INFO:__main__:2023-08-30 00:13:18,188  run                      INFO    run: Linking and byte-compiling packages for runtime python2.7...\n",
      "INFO:__main__:2023-08-30 00:13:18,198  run                      INFO    run: Setting up python2-minimal (2.7.16-1) ...\n",
      "INFO:__main__:2023-08-30 00:13:18,261  run                      INFO    run: Selecting previously unselected package python2.\n",
      "(Reading database ... 18804 files and directories currently installed.) run: (Reading database ... \n",
      "INFO:__main__:2023-08-30 00:13:18,269  run                      INFO    run: Preparing to unpack .../python2_2.7.16-1_s390x.deb ...\n",
      "INFO:__main__:2023-08-30 00:13:18,271  run                      INFO    run: Unpacking python2 (2.7.16-1) ...\n",
      "INFO:__main__:2023-08-30 00:13:18,311  run                      INFO    run: Setting up python-minimal (2.7.16-1) ...\n",
      "INFO:__main__:2023-08-30 00:13:18,346  run                      INFO    run: Selecting previously unselected package python.\n",
      "(Reading database ... 18832 files and directories currently installed.) run: (Reading database ... \n",
      "INFO:__main__:2023-08-30 00:13:18,353  run                      INFO    run: Preparing to unpack .../0-python_2.7.16-1_s390x.deb ...\n",
      "INFO:__main__:2023-08-30 00:13:18,358  run                      INFO    run: Unpacking python (2.7.16-1) ...\n",
      "INFO:__main__:2023-08-30 00:13:18,382  run                      INFO    run: Selecting previously unselected package libpng16-16:s390x.\n",
      "INFO:__main__:2023-08-30 00:13:18,383  run                      INFO    run: Preparing to unpack .../1-libpng16-16_1.6.36-6_s390x.deb ...\n",
      "INFO:__main__:2023-08-30 00:13:18,389  run                      INFO    run: Unpacking libpng16-16:s390x (1.6.36-6) ...\n",
      "INFO:__main__:2023-08-30 00:13:18,425  run                      INFO    run: Selecting previously unselected package zlib1g-dev:s390x.\n",
      "INFO:__main__:2023-08-30 00:13:18,426  run                      INFO    run: Preparing to unpack .../2-zlib1g-dev_1%3a1.2.11.dfsg-1+deb10u1_s390x.deb ...\n",
      "INFO:__main__:2023-08-30 00:13:18,429  run                      INFO    run: Unpacking zlib1g-dev:s390x (1:1.2.11.dfsg-1+deb10u1) ...\n",
      "INFO:__main__:2023-08-30 00:13:18,465  run                      INFO    run: Selecting previously unselected package libpng-dev:s390x.\n",
      "INFO:__main__:2023-08-30 00:13:18,466  run                      INFO    run: Preparing to unpack .../3-libpng-dev_1.6.36-6_s390x.deb ...\n",
      "INFO:__main__:2023-08-30 00:13:18,469  run                      INFO    run: Unpacking libpng-dev:s390x (1.6.36-6) ...\n",
      "INFO:__main__:2023-08-30 00:13:18,508  run                      INFO    run: Selecting previously unselected package libsqlite3-dev:s390x.\n",
      "INFO:__main__:2023-08-30 00:13:18,509  run                      INFO    run: Preparing to unpack .../4-libsqlite3-dev_3.27.2-3+deb10u1_s390x.deb ...\n",
      "INFO:__main__:2023-08-30 00:13:18,512  run                      INFO    run: Unpacking libsqlite3-dev:s390x (3.27.2-3+deb10u1) ...\n",
      "INFO:__main__:2023-08-30 00:13:18,596  run                      INFO    run: Selecting previously unselected package libzip4:s390x.\n",
      "INFO:__main__:2023-08-30 00:13:18,598  run                      INFO    run: Preparing to unpack .../5-libzip4_1.5.1-4_s390x.deb ...\n",
      "INFO:__main__:2023-08-30 00:13:18,603  run                      INFO    run: Unpacking libzip4:s390x (1.5.1-4) ...\n",
      "INFO:__main__:2023-08-30 00:13:18,627  run                      INFO    run: Selecting previously unselected package libzip-dev:s390x.\n",
      "INFO:__main__:2023-08-30 00:13:18,628  run                      INFO    run: Preparing to unpack .../6-libzip-dev_1.5.1-4_s390x.deb ...\n",
      "INFO:__main__:2023-08-30 00:13:18,630  run                      INFO    run: Unpacking libzip-dev:s390x (1.5.1-4) ...\n",
      "INFO:__main__:2023-08-30 00:13:18,675  run                      INFO    run: Selecting previously unselected package php7.3-zip.\n",
      "INFO:__main__:2023-08-30 00:13:18,676  run                      INFO    run: Preparing to unpack .../7-php7.3-zip_7.3.31-1~deb10u1_s390x.deb ...\n",
      "INFO:__main__:2023-08-30 00:13:18,683  run                      INFO    run: Unpacking php7.3-zip (7.3.31-1~deb10u1) ...\n",
      "INFO:__main__:2023-08-30 00:13:18,704  run                      INFO    run: Selecting previously unselected package php-zip.\n",
      "INFO:__main__:2023-08-30 00:13:18,705  run                      INFO    run: Preparing to unpack .../8-php-zip_2%3a7.3+69_all.deb ...\n",
      "INFO:__main__:2023-08-30 00:13:18,708  run                      INFO    run: Unpacking php-zip (2:7.3+69) ...\n",
      "INFO:__main__:2023-08-30 00:13:18,727  run                      INFO    run: Selecting previously unselected package sqlite3.\n",
      "INFO:__main__:2023-08-30 00:13:18,728  run                      INFO    run: Preparing to unpack .../9-sqlite3_3.27.2-3+deb10u1_s390x.deb ...\n",
      "INFO:__main__:2023-08-30 00:13:18,731  run                      INFO    run: Unpacking sqlite3 (3.27.2-3+deb10u1) ...\n",
      "INFO:__main__:2023-08-30 00:13:18,845  run                      INFO    run: Setting up libzip4:s390x (1.5.1-4) ...\n",
      "INFO:__main__:2023-08-30 00:13:18,854  run                      INFO    run: Setting up libpython2.7-stdlib:s390x (2.7.16-2+deb10u1) ...\n",
      "INFO:__main__:2023-08-30 00:13:18,862  run                      INFO    run: Setting up libsqlite3-dev:s390x (3.27.2-3+deb10u1) ...\n",
      "INFO:__main__:2023-08-30 00:13:18,870  run                      INFO    run: Setting up libpng16-16:s390x (1.6.36-6) ...\n",
      "INFO:__main__:2023-08-30 00:13:18,879  run                      INFO    run: Setting up zlib1g-dev:s390x (1:1.2.11.dfsg-1+deb10u1) ...\n",
      "INFO:__main__:2023-08-30 00:13:18,888  run                      INFO    run: Setting up php7.3-zip (7.3.31-1~deb10u1) ...\n",
      "INFO:__main__:2023-08-30 00:13:18,965  run                      INFO    run: debconf: unable to initialize frontend: Dialog\n",
      "INFO:__main__:2023-08-30 00:13:18,965  run                      INFO    run: debconf: (TERM is not set, so the dialog frontend is not usable.)\n",
      "INFO:__main__:2023-08-30 00:13:18,965  run                      INFO    run: debconf: falling back to frontend: Readline\n",
      "INFO:__main__:2023-08-30 00:13:19,000  run                      INFO    run: \n",
      "INFO:__main__:2023-08-30 00:13:19,000  run                      INFO    run: Creating config file /etc/php/7.3/mods-available/zip.ini with new version\n",
      "INFO:__main__:2023-08-30 00:13:19,091  run                      INFO    run: Setting up sqlite3 (3.27.2-3+deb10u1) ...\n",
      "INFO:__main__:2023-08-30 00:13:19,099  run                      INFO    run: Setting up libzip-dev:s390x (1.5.1-4) ...\n",
      "INFO:__main__:2023-08-30 00:13:19,108  run                      INFO    run: Setting up python2.7 (2.7.16-2+deb10u1) ...\n",
      "INFO:__main__:2023-08-30 00:13:19,832  run                      INFO    run: Setting up libpython2-stdlib:s390x (2.7.16-1) ...\n",
      "INFO:__main__:2023-08-30 00:13:19,841  run                      INFO    run: Setting up libpng-dev:s390x (1.6.36-6) ...\n",
      "INFO:__main__:2023-08-30 00:13:19,850  run                      INFO    run: Setting up python2 (2.7.16-1) ...\n",
      "INFO:__main__:2023-08-30 00:13:19,859  run                      INFO    run: Setting up libpython-stdlib:s390x (2.7.16-1) ...\n",
      "INFO:__main__:2023-08-30 00:13:19,868  run                      INFO    run: Setting up php-zip (2:7.3+69) ...\n",
      "INFO:__main__:2023-08-30 00:13:19,877  run                      INFO    run: Setting up python (2.7.16-1) ...\n",
      "INFO:__main__:2023-08-30 00:13:19,890  run                      INFO    run: Processing triggers for libc-bin (2.28-10+deb10u1) ...\n",
      "INFO:__main__:2023-08-30 00:13:19,903  run                      INFO    run: Processing triggers for libapache2-mod-php7.3 (7.3.31-1~deb10u1) ...\n",
      "INFO:__main__:2023-08-30 00:13:19,917  run                      INFO    run: Processing triggers for mime-support (3.62) ...\n",
      "INFO:__main__:2023-08-30 00:13:20,440  run                      INFO    run: Reading package lists...\n",
      "INFO:__main__:2023-08-30 00:13:20,538  run                      INFO    run: Building dependency tree...\n",
      "INFO:__main__:2023-08-30 00:13:20,538  run                      INFO    run: Reading state information...\n",
      "INFO:__main__:2023-08-30 00:13:20,604  run                      INFO    run: The following additional packages will be installed:\n",
      "INFO:__main__:2023-08-30 00:13:20,605  run                      INFO    run:   libxslt1.1 php7.3-mbstring php7.3-sqlite3 php7.3-xml\n",
      "INFO:__main__:2023-08-30 00:13:20,605  run                      INFO    run: Suggested packages:\n",
      "INFO:__main__:2023-08-30 00:13:20,605  run                      INFO    run:   zip\n",
      "INFO:__main__:2023-08-30 00:13:20,686  run                      INFO    run: The following NEW packages will be installed:\n",
      "INFO:__main__:2023-08-30 00:13:20,686  run                      INFO    run:   libxslt1.1 php-mbstring php-sqlite3 php-xml php7.3-mbstring php7.3-sqlite3\n",
      "INFO:__main__:2023-08-30 00:13:20,686  run                      INFO    run:   php7.3-xml unzip\n",
      "INFO:__main__:2023-08-30 00:13:20,704  run                      INFO    run: 0 upgraded, 8 newly installed, 0 to remove and 0 not upgraded.\n",
      "INFO:__main__:2023-08-30 00:13:20,704  run                      INFO    run: Need to get 1016 kB of archives.\n",
      "INFO:__main__:2023-08-30 00:13:20,704  run                      INFO    run: After this operation, 3423 kB of additional disk space will be used.\n",
      "INFO:__main__:2023-08-30 00:13:20,704  run                      INFO    run: Get:1 http://deb.debian.org/debian buster/main s390x libxslt1.1 s390x 1.1.32-2.2~deb10u1 [224 kB]\n",
      "INFO:__main__:2023-08-30 00:13:20,717  run                      INFO    run: Get:2 http://deb.debian.org/debian buster/main s390x php7.3-mbstring s390x 7.3.31-1~deb10u1 [494 kB]\n",
      "INFO:__main__:2023-08-30 00:13:20,722  run                      INFO    run: Get:3 http://deb.debian.org/debian buster/main s390x php-mbstring all 2:7.3+69 [5996 B]\n",
      "INFO:__main__:2023-08-30 00:13:20,723  run                      INFO    run: Get:4 http://deb.debian.org/debian buster/main s390x php7.3-sqlite3 s390x 7.3.31-1~deb10u1 [23.1 kB]\n",
      "INFO:__main__:2023-08-30 00:13:20,724  run                      INFO    run: Get:5 http://deb.debian.org/debian buster/main s390x php-sqlite3 all 2:7.3+69 [5996 B]\n",
      "INFO:__main__:2023-08-30 00:13:20,726  run                      INFO    run: Get:6 http://deb.debian.org/debian buster/main s390x php7.3-xml s390x 7.3.31-1~deb10u1 [96.6 kB]\n",
      "INFO:__main__:2023-08-30 00:13:20,728  run                      INFO    run: Get:7 http://deb.debian.org/debian buster/main s390x php-xml all 2:7.3+69 [6012 B]\n",
      "INFO:__main__:2023-08-30 00:13:20,729  run                      INFO    run: Get:8 http://deb.debian.org/debian buster/main s390x unzip s390x 6.0-23+deb10u2 [160 kB]\n",
      "INFO:__main__:2023-08-30 00:13:20,822  run                      INFO    run: \u001b[91mdebconf: delaying package configuration, since apt-utils is not installed\n",
      "INFO:__main__:2023-08-30 00:13:20,834  run                      INFO    run: \u001b[0mFetched 1016 kB in 0s (26.4 MB/s)\n",
      "INFO:__main__:2023-08-30 00:13:20,854  run                      INFO    run: Selecting previously unselected package libxslt1.1:s390x.\n",
      "(Reading database ... 19076 files and directories currently installed.) run: (Reading database ... \n",
      "INFO:__main__:2023-08-30 00:13:20,862  run                      INFO    run: Preparing to unpack .../0-libxslt1.1_1.1.32-2.2~deb10u1_s390x.deb ...\n",
      "INFO:__main__:2023-08-30 00:13:20,869  run                      INFO    run: Unpacking libxslt1.1:s390x (1.1.32-2.2~deb10u1) ...\n",
      "INFO:__main__:2023-08-30 00:13:20,918  run                      INFO    run: Selecting previously unselected package php7.3-mbstring.\n",
      "INFO:__main__:2023-08-30 00:13:20,920  run                      INFO    run: Preparing to unpack .../1-php7.3-mbstring_7.3.31-1~deb10u1_s390x.deb ...\n",
      "INFO:__main__:2023-08-30 00:13:20,926  run                      INFO    run: Unpacking php7.3-mbstring (7.3.31-1~deb10u1) ...\n",
      "INFO:__main__:2023-08-30 00:13:20,996  run                      INFO    run: Selecting previously unselected package php-mbstring.\n",
      "INFO:__main__:2023-08-30 00:13:20,997  run                      INFO    run: Preparing to unpack .../2-php-mbstring_2%3a7.3+69_all.deb ...\n",
      "INFO:__main__:2023-08-30 00:13:21,000  run                      INFO    run: Unpacking php-mbstring (2:7.3+69) ...\n",
      "INFO:__main__:2023-08-30 00:13:21,030  run                      INFO    run: Selecting previously unselected package php7.3-sqlite3.\n",
      "INFO:__main__:2023-08-30 00:13:21,031  run                      INFO    run: Preparing to unpack .../3-php7.3-sqlite3_7.3.31-1~deb10u1_s390x.deb ...\n",
      "INFO:__main__:2023-08-30 00:13:21,035  run                      INFO    run: Unpacking php7.3-sqlite3 (7.3.31-1~deb10u1) ...\n",
      "INFO:__main__:2023-08-30 00:13:21,060  run                      INFO    run: Selecting previously unselected package php-sqlite3.\n",
      "INFO:__main__:2023-08-30 00:13:21,062  run                      INFO    run: Preparing to unpack .../4-php-sqlite3_2%3a7.3+69_all.deb ...\n",
      "INFO:__main__:2023-08-30 00:13:21,065  run                      INFO    run: Unpacking php-sqlite3 (2:7.3+69) ...\n",
      "INFO:__main__:2023-08-30 00:13:21,093  run                      INFO    run: Selecting previously unselected package php7.3-xml.\n",
      "INFO:__main__:2023-08-30 00:13:21,094  run                      INFO    run: Preparing to unpack .../5-php7.3-xml_7.3.31-1~deb10u1_s390x.deb ...\n",
      "INFO:__main__:2023-08-30 00:13:21,097  run                      INFO    run: Unpacking php7.3-xml (7.3.31-1~deb10u1) ...\n",
      "INFO:__main__:2023-08-30 00:13:21,132  run                      INFO    run: Selecting previously unselected package php-xml.\n",
      "INFO:__main__:2023-08-30 00:13:21,133  run                      INFO    run: Preparing to unpack .../6-php-xml_2%3a7.3+69_all.deb ...\n",
      "INFO:__main__:2023-08-30 00:13:21,136  run                      INFO    run: Unpacking php-xml (2:7.3+69) ...\n",
      "INFO:__main__:2023-08-30 00:13:21,160  run                      INFO    run: Selecting previously unselected package unzip.\n",
      "INFO:__main__:2023-08-30 00:13:21,161  run                      INFO    run: Preparing to unpack .../7-unzip_6.0-23+deb10u2_s390x.deb ...\n",
      "INFO:__main__:2023-08-30 00:13:21,164  run                      INFO    run: Unpacking unzip (6.0-23+deb10u2) ...\n",
      "INFO:__main__:2023-08-30 00:13:21,215  run                      INFO    run: Setting up php7.3-sqlite3 (7.3.31-1~deb10u1) ...\n",
      "INFO:__main__:2023-08-30 00:13:21,295  run                      INFO    run: debconf: unable to initialize frontend: Dialog\n",
      "INFO:__main__:2023-08-30 00:13:21,295  run                      INFO    run: debconf: (TERM is not set, so the dialog frontend is not usable.)\n",
      "INFO:__main__:2023-08-30 00:13:21,295  run                      INFO    run: debconf: falling back to frontend: Readline\n",
      "INFO:__main__:2023-08-30 00:13:21,330  run                      INFO    run: \n",
      "INFO:__main__:2023-08-30 00:13:21,330  run                      INFO    run: Creating config file /etc/php/7.3/mods-available/sqlite3.ini with new version\n",
      "INFO:__main__:2023-08-30 00:13:21,485  run                      INFO    run: debconf: unable to initialize frontend: Dialog\n",
      "INFO:__main__:2023-08-30 00:13:21,485  run                      INFO    run: debconf: (TERM is not set, so the dialog frontend is not usable.)\n",
      "INFO:__main__:2023-08-30 00:13:21,486  run                      INFO    run: debconf: falling back to frontend: Readline\n",
      "INFO:__main__:2023-08-30 00:13:21,520  run                      INFO    run: \n",
      "INFO:__main__:2023-08-30 00:13:21,520  run                      INFO    run: Creating config file /etc/php/7.3/mods-available/pdo_sqlite.ini with new version\n",
      "INFO:__main__:2023-08-30 00:13:21,609  run                      INFO    run: Setting up php7.3-mbstring (7.3.31-1~deb10u1) ...\n",
      "INFO:__main__:2023-08-30 00:13:21,690  run                      INFO    run: debconf: unable to initialize frontend: Dialog\n",
      "INFO:__main__:2023-08-30 00:13:21,690  run                      INFO    run: debconf: (TERM is not set, so the dialog frontend is not usable.)\n",
      "INFO:__main__:2023-08-30 00:13:21,690  run                      INFO    run: debconf: falling back to frontend: Readline\n",
      "INFO:__main__:2023-08-30 00:13:21,724  run                      INFO    run: \n",
      "INFO:__main__:2023-08-30 00:13:21,724  run                      INFO    run: Creating config file /etc/php/7.3/mods-available/mbstring.ini with new version\n",
      "INFO:__main__:2023-08-30 00:13:21,813  run                      INFO    run: Setting up unzip (6.0-23+deb10u2) ...\n",
      "INFO:__main__:2023-08-30 00:13:21,827  run                      INFO    run: Setting up php-sqlite3 (2:7.3+69) ...\n",
      "INFO:__main__:2023-08-30 00:13:21,836  run                      INFO    run: Setting up php-mbstring (2:7.3+69) ...\n",
      "INFO:__main__:2023-08-30 00:13:21,844  run                      INFO    run: Setting up libxslt1.1:s390x (1.1.32-2.2~deb10u1) ...\n",
      "INFO:__main__:2023-08-30 00:13:21,852  run                      INFO    run: Setting up php7.3-xml (7.3.31-1~deb10u1) ...\n",
      "INFO:__main__:2023-08-30 00:13:21,930  run                      INFO    run: debconf: unable to initialize frontend: Dialog\n",
      "INFO:__main__:2023-08-30 00:13:21,930  run                      INFO    run: debconf: (TERM is not set, so the dialog frontend is not usable.)\n",
      "INFO:__main__:2023-08-30 00:13:21,930  run                      INFO    run: debconf: falling back to frontend: Readline\n",
      "INFO:__main__:2023-08-30 00:13:21,965  run                      INFO    run: \n",
      "INFO:__main__:2023-08-30 00:13:21,966  run                      INFO    run: Creating config file /etc/php/7.3/mods-available/dom.ini with new version\n",
      "INFO:__main__:2023-08-30 00:13:22,130  run                      INFO    run: debconf: unable to initialize frontend: Dialog\n",
      "INFO:__main__:2023-08-30 00:13:22,130  run                      INFO    run: debconf: (TERM is not set, so the dialog frontend is not usable.)\n",
      "INFO:__main__:2023-08-30 00:13:22,130  run                      INFO    run: debconf: falling back to frontend: Readline\n",
      "INFO:__main__:2023-08-30 00:13:22,164  run                      INFO    run: \n",
      "INFO:__main__:2023-08-30 00:13:22,164  run                      INFO    run: Creating config file /etc/php/7.3/mods-available/simplexml.ini with new version\n",
      "INFO:__main__:2023-08-30 00:13:22,324  run                      INFO    run: debconf: unable to initialize frontend: Dialog\n",
      "INFO:__main__:2023-08-30 00:13:22,324  run                      INFO    run: debconf: (TERM is not set, so the dialog frontend is not usable.)\n",
      "INFO:__main__:2023-08-30 00:13:22,324  run                      INFO    run: debconf: falling back to frontend: Readline\n",
      "INFO:__main__:2023-08-30 00:13:22,359  run                      INFO    run: \n",
      "INFO:__main__:2023-08-30 00:13:22,359  run                      INFO    run: Creating config file /etc/php/7.3/mods-available/wddx.ini with new version\n",
      "INFO:__main__:2023-08-30 00:13:22,516  run                      INFO    run: debconf: unable to initialize frontend: Dialog\n",
      "INFO:__main__:2023-08-30 00:13:22,516  run                      INFO    run: debconf: (TERM is not set, so the dialog frontend is not usable.)\n",
      "INFO:__main__:2023-08-30 00:13:22,516  run                      INFO    run: debconf: falling back to frontend: Readline\n",
      "INFO:__main__:2023-08-30 00:13:22,550  run                      INFO    run: \n",
      "INFO:__main__:2023-08-30 00:13:22,550  run                      INFO    run: Creating config file /etc/php/7.3/mods-available/xml.ini with new version\n",
      "INFO:__main__:2023-08-30 00:13:22,708  run                      INFO    run: debconf: unable to initialize frontend: Dialog\n",
      "INFO:__main__:2023-08-30 00:13:22,708  run                      INFO    run: debconf: (TERM is not set, so the dialog frontend is not usable.)\n",
      "INFO:__main__:2023-08-30 00:13:22,708  run                      INFO    run: debconf: falling back to frontend: Readline\n",
      "INFO:__main__:2023-08-30 00:13:22,742  run                      INFO    run: \n",
      "INFO:__main__:2023-08-30 00:13:22,742  run                      INFO    run: Creating config file /etc/php/7.3/mods-available/xmlreader.ini with new version\n",
      "INFO:__main__:2023-08-30 00:13:22,899  run                      INFO    run: debconf: unable to initialize frontend: Dialog\n",
      "INFO:__main__:2023-08-30 00:13:22,899  run                      INFO    run: debconf: (TERM is not set, so the dialog frontend is not usable.)\n",
      "INFO:__main__:2023-08-30 00:13:22,899  run                      INFO    run: debconf: falling back to frontend: Readline\n",
      "INFO:__main__:2023-08-30 00:13:22,933  run                      INFO    run: \n",
      "INFO:__main__:2023-08-30 00:13:22,933  run                      INFO    run: Creating config file /etc/php/7.3/mods-available/xmlwriter.ini with new version\n",
      "INFO:__main__:2023-08-30 00:13:23,091  run                      INFO    run: debconf: unable to initialize frontend: Dialog\n",
      "INFO:__main__:2023-08-30 00:13:23,091  run                      INFO    run: debconf: (TERM is not set, so the dialog frontend is not usable.)\n",
      "INFO:__main__:2023-08-30 00:13:23,091  run                      INFO    run: debconf: falling back to frontend: Readline\n",
      "INFO:__main__:2023-08-30 00:13:23,125  run                      INFO    run: \n",
      "INFO:__main__:2023-08-30 00:13:23,126  run                      INFO    run: Creating config file /etc/php/7.3/mods-available/xsl.ini with new version\n",
      "INFO:__main__:2023-08-30 00:13:24,603  run                      INFO    run: Setting up php-xml (2:7.3+69) ...\n",
      "INFO:__main__:2023-08-30 00:13:24,615  run                      INFO    run: Processing triggers for libc-bin (2.28-10+deb10u1) ...\n",
      "INFO:__main__:2023-08-30 00:13:24,635  run                      INFO    run: Processing triggers for libapache2-mod-php7.3 (7.3.31-1~deb10u1) ...\n",
      "INFO:__main__:2023-08-30 00:13:24,650  run                      INFO    run: Processing triggers for mime-support (3.62) ...\n",
      "INFO:__main__:2023-08-30 00:13:25,190  run                      INFO    run: Reading package lists...\n",
      "INFO:__main__:2023-08-30 00:13:25,289  run                      INFO    run: Building dependency tree...\n",
      "INFO:__main__:2023-08-30 00:13:25,289  run                      INFO    run: Reading state information...\n",
      "INFO:__main__:2023-08-30 00:13:25,356  run                      INFO    run: The following additional packages will be installed:\n",
      "INFO:__main__:2023-08-30 00:13:25,356  run                      INFO    run:   python-meld3 python-pkg-resources\n",
      "INFO:__main__:2023-08-30 00:13:25,356  run                      INFO    run: Suggested packages:\n",
      "INFO:__main__:2023-08-30 00:13:25,356  run                      INFO    run:   python-setuptools supervisor-doc\n",
      "INFO:__main__:2023-08-30 00:13:25,388  run                      INFO    run: The following NEW packages will be installed:\n",
      "INFO:__main__:2023-08-30 00:13:25,388  run                      INFO    run:   python-meld3 python-pkg-resources supervisor\n",
      "INFO:__main__:2023-08-30 00:13:25,408  run                      INFO    run: 0 upgraded, 3 newly installed, 0 to remove and 0 not upgraded.\n",
      "INFO:__main__:2023-08-30 00:13:25,408  run                      INFO    run: Need to get 503 kB of archives.\n",
      "INFO:__main__:2023-08-30 00:13:25,408  run                      INFO    run: After this operation, 2210 kB of additional disk space will be used.\n",
      "INFO:__main__:2023-08-30 00:13:25,408  run                      INFO    run: Get:1 http://deb.debian.org/debian buster/main s390x python-meld3 all 1.0.2-2 [37.3 kB]\n",
      "INFO:__main__:2023-08-30 00:13:25,413  run                      INFO    run: Get:2 http://deb.debian.org/debian buster/main s390x python-pkg-resources all 40.8.0-1 [182 kB]\n",
      "INFO:__main__:2023-08-30 00:13:25,417  run                      INFO    run: Get:3 http://deb.debian.org/debian buster/main s390x supervisor all 3.3.5-1 [284 kB]\n",
      "INFO:__main__:2023-08-30 00:13:25,510  run                      INFO    run: \u001b[91mdebconf: delaying package configuration, since apt-utils is not installed\n",
      "INFO:__main__:2023-08-30 00:13:25,521  run                      INFO    run: \u001b[0mFetched 503 kB in 0s (20.3 MB/s)\n",
      "INFO:__main__:2023-08-30 00:13:25,537  run                      INFO    run: Selecting previously unselected package python-meld3.\n",
      "(Reading database ... 19159 files and directories currently installed.) run: (Reading database ... \n",
      "INFO:__main__:2023-08-30 00:13:25,546  run                      INFO    run: Preparing to unpack .../python-meld3_1.0.2-2_all.deb ...\n",
      "INFO:__main__:2023-08-30 00:13:25,549  run                      INFO    run: Unpacking python-meld3 (1.0.2-2) ...\n",
      "INFO:__main__:2023-08-30 00:13:25,575  run                      INFO    run: Selecting previously unselected package python-pkg-resources.\n",
      "INFO:__main__:2023-08-30 00:13:25,577  run                      INFO    run: Preparing to unpack .../python-pkg-resources_40.8.0-1_all.deb ...\n",
      "INFO:__main__:2023-08-30 00:13:25,579  run                      INFO    run: Unpacking python-pkg-resources (40.8.0-1) ...\n",
      "INFO:__main__:2023-08-30 00:13:25,623  run                      INFO    run: Selecting previously unselected package supervisor.\n",
      "INFO:__main__:2023-08-30 00:13:25,624  run                      INFO    run: Preparing to unpack .../supervisor_3.3.5-1_all.deb ...\n",
      "INFO:__main__:2023-08-30 00:13:25,627  run                      INFO    run: Unpacking supervisor (3.3.5-1) ...\n",
      "INFO:__main__:2023-08-30 00:13:25,704  run                      INFO    run: Setting up python-pkg-resources (40.8.0-1) ...\n",
      "INFO:__main__:2023-08-30 00:13:25,925  run                      INFO    run: Setting up python-meld3 (1.0.2-2) ...\n",
      "INFO:__main__:2023-08-30 00:13:26,107  run                      INFO    run: Setting up supervisor (3.3.5-1) ...\n",
      "INFO:__main__:2023-08-30 00:13:26,455  run                      INFO    run: invoke-rc.d: could not determine current runlevel\n",
      "INFO:__main__:2023-08-30 00:13:26,457  run                      INFO    run: invoke-rc.d: policy-rc.d denied execution of start.\n",
      "INFO:__main__:2023-08-30 00:13:27,160  run                      INFO    run: Reading package lists...\n",
      "INFO:__main__:2023-08-30 00:13:27,259  run                      INFO    run: Building dependency tree...\n",
      "INFO:__main__:2023-08-30 00:13:27,259  run                      INFO    run: Reading state information...\n",
      "INFO:__main__:2023-08-30 00:13:27,335  run                      INFO    run: 0 upgraded, 0 newly installed, 0 to remove and 0 not upgraded.\n",
      "INFO:__main__:2023-08-30 00:14:19,263  run                      INFO    run: Removing intermediate container 870c8dfb4eed\n",
      "INFO:__main__:2023-08-30 00:14:19,263  run                      INFO    run:  ---> e04af9bf19ab\n",
      "INFO:__main__:2023-08-30 00:14:19,263  run                      INFO    run: Step 7/49 : ARG ELECTRUM_TAG=\"local-3.3.6-hpcs\"\n",
      "INFO:__main__:2023-08-30 00:14:19,690  run                      INFO    run:  ---> Running in 5d64500adae4\n",
      "INFO:__main__:2023-08-30 00:14:19,741  run                      INFO    run: Removing intermediate container 5d64500adae4\n",
      "INFO:__main__:2023-08-30 00:14:19,741  run                      INFO    run:  ---> 7a22d017f039\n",
      "INFO:__main__:2023-08-30 00:14:19,741  run                      INFO    run: Step 8/49 : ARG ELECTRUM_COMMIT=\"9529b418e26430d577151e460435de0cd445fb7e\"\n",
      "INFO:__main__:2023-08-30 00:14:19,782  run                      INFO    run:  ---> Running in 3d842ed7a5de\n",
      "INFO:__main__:2023-08-30 00:14:19,833  run                      INFO    run: Removing intermediate container 3d842ed7a5de\n",
      "INFO:__main__:2023-08-30 00:14:19,833  run                      INFO    run:  ---> e87371870777\n",
      "INFO:__main__:2023-08-30 00:14:19,833  run                      INFO    run: Step 9/49 : ENV NETWORK \"--testnet\"\n",
      "INFO:__main__:2023-08-30 00:14:19,876  run                      INFO    run:  ---> Running in d8fcbb0df912\n",
      "INFO:__main__:2023-08-30 00:14:19,926  run                      INFO    run: Removing intermediate container d8fcbb0df912\n",
      "INFO:__main__:2023-08-30 00:14:19,926  run                      INFO    run:  ---> 338fbc9a144e\n",
      "INFO:__main__:2023-08-30 00:14:19,927  run                      INFO    run: Step 10/49 : ENV ELECTRUM_USER root\n",
      "INFO:__main__:2023-08-30 00:14:19,969  run                      INFO    run:  ---> Running in 70e877f46d2c\n",
      "INFO:__main__:2023-08-30 00:14:20,019  run                      INFO    run: Removing intermediate container 70e877f46d2c\n",
      "INFO:__main__:2023-08-30 00:14:20,019  run                      INFO    run:  ---> f93bc2f22c22\n",
      "INFO:__main__:2023-08-30 00:14:20,020  run                      INFO    run: Step 11/49 : ENV ELECTRUM_HOME /$ELECTRUM_USER\n",
      "INFO:__main__:2023-08-30 00:14:20,062  run                      INFO    run:  ---> Running in c7afe0acdab1\n",
      "INFO:__main__:2023-08-30 00:14:20,113  run                      INFO    run: Removing intermediate container c7afe0acdab1\n",
      "INFO:__main__:2023-08-30 00:14:20,113  run                      INFO    run:  ---> ae1e272fe835\n",
      "INFO:__main__:2023-08-30 00:14:20,113  run                      INFO    run: Step 12/49 : ENV ELECTRUM_PASSWORD passw0rd\n",
      "INFO:__main__:2023-08-30 00:14:20,154  run                      INFO    run:  ---> Running in a3c1a9ae4fa3\n",
      "INFO:__main__:2023-08-30 00:14:20,206  run                      INFO    run: Removing intermediate container a3c1a9ae4fa3\n",
      "INFO:__main__:2023-08-30 00:14:20,206  run                      INFO    run:  ---> 34b43c92e598\n",
      "INFO:__main__:2023-08-30 00:14:20,206  run                      INFO    run: Step 13/49 : ENV ELECTRUM_DIR /git/electrum\n",
      "INFO:__main__:2023-08-30 00:14:20,248  run                      INFO    run:  ---> Running in 787860c27510\n",
      "INFO:__main__:2023-08-30 00:14:20,299  run                      INFO    run: Removing intermediate container 787860c27510\n",
      "INFO:__main__:2023-08-30 00:14:20,299  run                      INFO    run:  ---> a9fe33be8bdf\n",
      "INFO:__main__:2023-08-30 00:14:20,300  run                      INFO    run: Step 14/49 : WORKDIR /git\n",
      "INFO:__main__:2023-08-30 00:14:20,342  run                      INFO    run:  ---> Running in dcbb23820565\n",
      "INFO:__main__:2023-08-30 00:14:20,402  run                      INFO    run: Removing intermediate container dcbb23820565\n",
      "INFO:__main__:2023-08-30 00:14:20,402  run                      INFO    run:  ---> b1d0d7fb5142\n",
      "INFO:__main__:2023-08-30 00:14:20,402  run                      INFO    run: Step 15/49 : ADD pyep11 /git/pyep11\n",
      "INFO:__main__:2023-08-30 00:14:20,520  run                      INFO    run:  ---> 651a319b4035\n",
      "INFO:__main__:2023-08-30 00:14:20,520  run                      INFO    run: Step 16/49 : ADD electrum/${ELECTRUM_TAG}.patch .\n",
      "INFO:__main__:2023-08-30 00:14:20,571  run                      INFO    run:  ---> 96eef6199676\n",
      "INFO:__main__:2023-08-30 00:14:20,571  run                      INFO    run: Step 17/49 : RUN git clone https://github.com/spesmilo/electrum.git &&     cd /git/electrum &&     git checkout ${ELECTRUM_COMMIT} &&     git apply ../${ELECTRUM_TAG}.patch &&     pip3 uninstall -y enum34 &&     pip3 install . &&     protoc --proto_path=electrum --python_out=electrum electrum/paymentrequest.proto &&     cd /git/pyep11 &&     pip3 install protobuf==3.19.4 &&     if [ -z \"$NO_GRPC_BUILD\" ]; then        pip3 install grpclib grpcio-tools==1.44.0;        python3 -m grpc_tools.protoc common/protos/*.proto generated/protos/*.proto               vendor/github.com/gogo/protobuf/gogoproto/*.proto               vendor/github.com/gogo/googleapis/google/api/*.proto               -Icommon/protos -Igenerated/protos \t      -Ivendor/github.com/gogo/protobuf/gogoproto \t      -Ivendor/github.com/gogo/googleapis               --python_out=/git/pyep11/generated/python_grpc --grpc_python_out=/git/pyep11/generated/python_grpc;        mv /git/pyep11/generated/python_grpc/* /git/electrum;        mv /git/pyep11/pyep11.py /git/electrum;        mv /git/pyep11/grep11consts.py /git/electrum;     fi &&     mkdir -p /data && chown ${ELECTRUM_USER} /data\n",
      "INFO:__main__:2023-08-30 00:14:20,616  run                      INFO    run:  ---> Running in 46c7559c0551\n",
      "INFO:__main__:2023-08-30 00:14:20,802  run                      INFO    run: \u001b[91mCloning into 'electrum'...\n",
      "INFO:__main__:2023-08-30 00:14:29,667  run                      INFO    run: \u001b[0m\u001b[91mNote: checking out '9529b418e26430d577151e460435de0cd445fb7e'.\n",
      "INFO:__main__:2023-08-30 00:14:29,667  run                      INFO    run: \n",
      "INFO:__main__:2023-08-30 00:14:29,667  run                      INFO    run: You are in 'detached HEAD' state. You can look around, make experimental\n",
      "INFO:__main__:2023-08-30 00:14:29,667  run                      INFO    run: changes and commit them, and you can discard any commits you make in this\n",
      "INFO:__main__:2023-08-30 00:14:29,667  run                      INFO    run: state without impacting any branches by performing another checkout.\n",
      "INFO:__main__:2023-08-30 00:14:29,667  run                      INFO    run: \n",
      "INFO:__main__:2023-08-30 00:14:29,667  run                      INFO    run: If you want to create a new branch to retain commits you create, you may\n",
      "INFO:__main__:2023-08-30 00:14:29,667  run                      INFO    run: do so (now or later) by using -b with the checkout command again. Example:\n",
      "INFO:__main__:2023-08-30 00:14:29,667  run                      INFO    run: \n",
      "INFO:__main__:2023-08-30 00:14:29,667  run                      INFO    run:   git checkout -b <new-branch-name>\n",
      "INFO:__main__:2023-08-30 00:14:29,667  run                      INFO    run: \n",
      "INFO:__main__:2023-08-30 00:14:29,668  run                      INFO    run: \u001b[0m\u001b[91mHEAD is now at 9529b418e prepare release 3.3.6\n",
      "INFO:__main__:2023-08-30 00:14:31,458  run                      INFO    run: \u001b[0m\u001b[91mWARNING: Skipping enum34 as it is not installed.\n",
      "INFO:__main__:2023-08-30 00:14:31,458  run                      INFO    run: \u001b[0m\u001b[91mWARNING: Running pip as the 'root' user can result in broken permissions and conflicting behaviour with the system package manager. It is recommended to use a virtual environment instead: https://pip.pypa.io/warnings/venv\n",
      "INFO:__main__:2023-08-30 00:14:31,803  run                      INFO    run: \u001b[0mProcessing /git/electrum\n",
      "INFO:__main__:2023-08-30 00:14:31,803  run                      INFO    run: \u001b[91m  DEPRECATION: A future pip version will change local packages to be built in-place without first copying to a temporary directory. We recommend you use --use-feature=in-tree-build to test your packages with this new behavior before it becomes the default.\n",
      "INFO:__main__:2023-08-30 00:14:31,803  run                      INFO    run:    pip 21.3 will remove support for this functionality. You can find discussion regarding this at https://github.com/pypa/pip/issues/7555.\n",
      "INFO:__main__:2023-08-30 00:14:32,420  run                      INFO    run: \u001b[0mCollecting pyaes>=0.1a1\n",
      "INFO:__main__:2023-08-30 00:14:32,437  run                      INFO    run:   Downloading pyaes-1.6.1.tar.gz (28 kB)\n",
      "INFO:__main__:2023-08-30 00:14:32,644  run                      INFO    run: Collecting ecdsa>=0.13\n",
      "INFO:__main__:2023-08-30 00:14:32,649  run                      INFO    run:   Downloading ecdsa-0.18.0-py2.py3-none-any.whl (142 kB)\n",
      "INFO:__main__:2023-08-30 00:14:32,684  run                      INFO    run: Collecting qrcode\n",
      "INFO:__main__:2023-08-30 00:14:32,691  run                      INFO    run:   Downloading qrcode-7.4.2-py3-none-any.whl (46 kB)\n",
      "INFO:__main__:2023-08-30 00:14:33,283  run                      INFO    run: Collecting protobuf\n",
      "INFO:__main__:2023-08-30 00:14:33,308  run                      INFO    run:   Downloading protobuf-4.24.2-py3-none-any.whl (175 kB)\n",
      "INFO:__main__:2023-08-30 00:14:33,340  run                      INFO    run: Collecting dnspython\n",
      "INFO:__main__:2023-08-30 00:14:33,346  run                      INFO    run:   Downloading dnspython-2.4.2-py3-none-any.whl (300 kB)\n",
      "INFO:__main__:2023-08-30 00:14:33,380  run                      INFO    run: Collecting jsonrpclib-pelix\n",
      "INFO:__main__:2023-08-30 00:14:33,386  run                      INFO    run:   Downloading jsonrpclib_pelix-0.4.3.2-py2.py3-none-any.whl (42 kB)\n",
      "INFO:__main__:2023-08-30 00:14:33,426  run                      INFO    run: Collecting qdarkstyle<3.0\n",
      "INFO:__main__:2023-08-30 00:14:33,435  run                      INFO    run:   Downloading QDarkStyle-2.8.1-py2.py3-none-any.whl (217 kB)\n",
      "INFO:__main__:2023-08-30 00:14:33,513  run                      INFO    run: Collecting aiorpcx<0.18,>=0.17\n",
      "INFO:__main__:2023-08-30 00:14:33,520  run                      INFO    run:   Downloading aiorpcX-0.17.0-py3-none-any.whl (32 kB)\n",
      "INFO:__main__:2023-08-30 00:14:34,305  run                      INFO    run: Collecting aiohttp>=3.3.0\n",
      "INFO:__main__:2023-08-30 00:14:34,314  run                      INFO    run:   Downloading aiohttp-3.8.5-cp39-cp39-manylinux_2_17_s390x.manylinux2014_s390x.whl (1.1 MB)\n",
      "INFO:__main__:2023-08-30 00:14:34,360  run                      INFO    run: Collecting aiohttp_socks\n",
      "INFO:__main__:2023-08-30 00:14:34,366  run                      INFO    run:   Downloading aiohttp_socks-0.8.0-py3-none-any.whl (9.4 kB)\n",
      "INFO:__main__:2023-08-30 00:14:34,411  run                      INFO    run: Collecting certifi\n",
      "INFO:__main__:2023-08-30 00:14:34,414  run                      INFO    run:   Downloading certifi-2023.7.22-py3-none-any.whl (158 kB)\n",
      "INFO:__main__:2023-08-30 00:14:34,607  run                      INFO    run: Collecting frozenlist>=1.1.1\n",
      "INFO:__main__:2023-08-30 00:14:34,613  run                      INFO    run:   Downloading frozenlist-1.4.0-cp39-cp39-manylinux_2_17_s390x.manylinux2014_s390x.whl (236 kB)\n",
      "INFO:__main__:2023-08-30 00:14:34,652  run                      INFO    run: Collecting attrs>=17.3.0\n",
      "INFO:__main__:2023-08-30 00:14:34,656  run                      INFO    run:   Downloading attrs-23.1.0-py3-none-any.whl (61 kB)\n",
      "INFO:__main__:2023-08-30 00:14:35,328  run                      INFO    run: Collecting multidict<7.0,>=4.5\n",
      "INFO:__main__:2023-08-30 00:14:35,340  run                      INFO    run:   Downloading multidict-6.0.4-cp39-cp39-manylinux_2_17_s390x.manylinux2014_s390x.whl (117 kB)\n",
      "INFO:__main__:2023-08-30 00:14:35,369  run                      INFO    run: Collecting async-timeout<5.0,>=4.0.0a3\n",
      "INFO:__main__:2023-08-30 00:14:35,373  run                      INFO    run:   Downloading async_timeout-4.0.3-py3-none-any.whl (5.7 kB)\n",
      "INFO:__main__:2023-08-30 00:14:35,776  run                      INFO    run: Collecting yarl<2.0,>=1.0\n",
      "INFO:__main__:2023-08-30 00:14:35,783  run                      INFO    run:   Downloading yarl-1.9.2-cp39-cp39-manylinux_2_17_s390x.manylinux2014_s390x.whl (274 kB)\n",
      "INFO:__main__:2023-08-30 00:14:35,809  run                      INFO    run: Collecting aiosignal>=1.1.2\n",
      "INFO:__main__:2023-08-30 00:14:35,813  run                      INFO    run:   Downloading aiosignal-1.3.1-py3-none-any.whl (7.6 kB)\n",
      "INFO:__main__:2023-08-30 00:14:36,035  run                      INFO    run: Collecting charset-normalizer<4.0,>=2.0\n",
      "INFO:__main__:2023-08-30 00:14:36,042  run                      INFO    run:   Downloading charset_normalizer-3.2.0-cp39-cp39-manylinux_2_17_s390x.manylinux2014_s390x.whl (201 kB)\n",
      "INFO:__main__:2023-08-30 00:14:36,109  run                      INFO    run: Collecting six>=1.9.0\n",
      "INFO:__main__:2023-08-30 00:14:36,112  run                      INFO    run:   Downloading six-1.16.0-py2.py3-none-any.whl (11 kB)\n",
      "INFO:__main__:2023-08-30 00:14:36,172  run                      INFO    run: Collecting qtpy>=1.9\n",
      "INFO:__main__:2023-08-30 00:14:36,175  run                      INFO    run:   Downloading QtPy-2.4.0-py3-none-any.whl (93 kB)\n",
      "INFO:__main__:2023-08-30 00:14:36,201  run                      INFO    run: Collecting helpdev>=0.6.10\n",
      "INFO:__main__:2023-08-30 00:14:36,205  run                      INFO    run:   Downloading helpdev-0.7.1-py3-none-any.whl (14 kB)\n",
      "INFO:__main__:2023-08-30 00:14:36,262  run                      INFO    run: Collecting packaging\n",
      "INFO:__main__:2023-08-30 00:14:36,270  run                      INFO    run:   Downloading packaging-23.1-py3-none-any.whl (48 kB)\n",
      "INFO:__main__:2023-08-30 00:14:36,317  run                      INFO    run: Collecting idna>=2.0\n",
      "INFO:__main__:2023-08-30 00:14:36,320  run                      INFO    run:   Downloading idna-3.4-py3-none-any.whl (61 kB)\n",
      "INFO:__main__:2023-08-30 00:14:36,370  run                      INFO    run: Collecting python-socks[asyncio]<3.0.0,>=2.0.0\n",
      "INFO:__main__:2023-08-30 00:14:36,374  run                      INFO    run:   Downloading python_socks-2.3.0-py3-none-any.whl (53 kB)\n",
      "INFO:__main__:2023-08-30 00:14:36,463  run                      INFO    run: Collecting typing-extensions\n",
      "INFO:__main__:2023-08-30 00:14:36,466  run                      INFO    run:   Downloading typing_extensions-4.7.1-py3-none-any.whl (33 kB)\n",
      "INFO:__main__:2023-08-30 00:14:36,486  run                      INFO    run: Collecting pypng\n",
      "INFO:__main__:2023-08-30 00:14:36,491  run                      INFO    run:   Downloading pypng-0.20220715.0-py3-none-any.whl (58 kB)\n",
      "INFO:__main__:2023-08-30 00:14:36,506  run                      INFO    run: Building wheels for collected packages: Electrum, pyaes\n",
      "INFO:__main__:2023-08-30 00:14:36,507  run                      INFO    run:   Building wheel for Electrum (setup.py): started\n",
      "INFO:__main__:2023-08-30 00:14:37,132  run                      INFO    run:   Building wheel for Electrum (setup.py): finished with status 'done'\n",
      "INFO:__main__:2023-08-30 00:14:37,135  run                      INFO    run:   Created wheel for Electrum: filename=Electrum-3.3.6-py3-none-any.whl size=2872634 sha256=bd179da68f0de00e7dda856cf64d5b29ec7faca8eff3e7c29f22f864807e5724\n",
      "INFO:__main__:2023-08-30 00:14:37,135  run                      INFO    run:   Stored in directory: /tmp/pip-ephem-wheel-cache-6598r9z5/wheels/cc/e4/20/e5e430f0a89bcc5ff23a58c4b5bfec23095feae63bd2988314\n",
      "INFO:__main__:2023-08-30 00:14:37,139  run                      INFO    run:   Building wheel for pyaes (setup.py): started\n",
      "INFO:__main__:2023-08-30 00:14:37,349  run                      INFO    run:   Building wheel for pyaes (setup.py): finished with status 'done'\n",
      "INFO:__main__:2023-08-30 00:14:37,350  run                      INFO    run:   Created wheel for pyaes: filename=pyaes-1.6.1-py3-none-any.whl size=26362 sha256=a5e07d7d02c9b0fcbbe2eba52eabbf0dda03d970a07b464181c8e5428674ee11\n",
      "INFO:__main__:2023-08-30 00:14:37,350  run                      INFO    run:   Stored in directory: /root/.cache/pip/wheels/33/13/e9/ef9894385084d8e4fab38f5f83afda49a3d593d8afc907c8fd\n",
      "INFO:__main__:2023-08-30 00:14:37,351  run                      INFO    run: Successfully built Electrum pyaes\n",
      "INFO:__main__:2023-08-30 00:14:37,498  run                      INFO    run: Installing collected packages: multidict, idna, frozenlist, yarl, python-socks, packaging, charset-normalizer, attrs, async-timeout, aiosignal, typing-extensions, six, qtpy, pypng, helpdev, aiohttp, qrcode, qdarkstyle, pyaes, protobuf, jsonrpclib-pelix, ecdsa, dnspython, certifi, aiorpcx, aiohttp-socks, Electrum\n",
      "INFO:__main__:2023-08-30 00:14:39,401  run                      INFO    run: Successfully installed Electrum-3.3.6 aiohttp-3.8.5 aiohttp-socks-0.8.0 aiorpcx-0.17.0 aiosignal-1.3.1 async-timeout-4.0.3 attrs-23.1.0 certifi-2023.7.22 charset-normalizer-3.2.0 dnspython-2.4.2 ecdsa-0.18.0 frozenlist-1.4.0 helpdev-0.7.1 idna-3.4 jsonrpclib-pelix-0.4.3.2 multidict-6.0.4 packaging-23.1 protobuf-4.24.2 pyaes-1.6.1 pypng-0.20220715.0 python-socks-2.3.0 qdarkstyle-2.8.1 qrcode-7.4.2 qtpy-2.4.0 six-1.16.0 typing-extensions-4.7.1 yarl-1.9.2\n",
      "INFO:__main__:2023-08-30 00:14:39,402  run                      INFO    run: \u001b[91mWARNING: Running pip as the 'root' user can result in broken permissions and conflicting behaviour with the system package manager. It is recommended to use a virtual environment instead: https://pip.pypa.io/warnings/venv\n",
      "INFO:__main__:2023-08-30 00:14:39,516  run                      INFO    run: \u001b[0m\u001b[91mWARNING: You are using pip version 21.2.4; however, version 23.2.1 is available.\n",
      "INFO:__main__:2023-08-30 00:14:39,516  run                      INFO    run: You should consider upgrading via the '/usr/local/bin/python -m pip install --upgrade pip' command.\n",
      "INFO:__main__:2023-08-30 00:14:40,490  run                      INFO    run: \u001b[0mCollecting protobuf==3.19.4\n",
      "INFO:__main__:2023-08-30 00:14:40,510  run                      INFO    run:   Downloading protobuf-3.19.4-py2.py3-none-any.whl (162 kB)\n",
      "INFO:__main__:2023-08-30 00:14:40,647  run                      INFO    run: Installing collected packages: protobuf\n",
      "INFO:__main__:2023-08-30 00:14:40,647  run                      INFO    run:   Attempting uninstall: protobuf\n",
      "INFO:__main__:2023-08-30 00:14:40,647  run                      INFO    run:     Found existing installation: protobuf 4.24.2\n",
      "INFO:__main__:2023-08-30 00:14:40,661  run                      INFO    run:     Uninstalling protobuf-4.24.2:\n",
      "INFO:__main__:2023-08-30 00:14:40,662  run                      INFO    run:       Successfully uninstalled protobuf-4.24.2\n",
      "INFO:__main__:2023-08-30 00:14:40,789  run                      INFO    run: Successfully installed protobuf-3.19.4\n",
      "INFO:__main__:2023-08-30 00:14:40,789  run                      INFO    run: \u001b[91mWARNING: Running pip as the 'root' user can result in broken permissions and conflicting behaviour with the system package manager. It is recommended to use a virtual environment instead: https://pip.pypa.io/warnings/venv\n",
      "INFO:__main__:2023-08-30 00:14:40,796  run                      INFO    run: \u001b[0m\u001b[91mWARNING: You are using pip version 21.2.4; however, version 23.2.1 is available.\n",
      "INFO:__main__:2023-08-30 00:14:40,796  run                      INFO    run: You should consider upgrading via the '/usr/local/bin/python -m pip install --upgrade pip' command.\n",
      "INFO:__main__:2023-08-30 00:14:41,172  run                      INFO    run: \u001b[0mCollecting grpclib\n",
      "INFO:__main__:2023-08-30 00:14:41,189  run                      INFO    run:   Downloading grpclib-0.4.5.tar.gz (62 kB)\n",
      "INFO:__main__:2023-08-30 00:14:41,303  run                      INFO    run:   Installing build dependencies: started\n",
      "INFO:__main__:2023-08-30 00:14:44,411  run                      INFO    run:   Installing build dependencies: finished with status 'done'\n",
      "INFO:__main__:2023-08-30 00:14:44,413  run                      INFO    run:   Getting requirements to build wheel: started\n",
      "INFO:__main__:2023-08-30 00:14:44,635  run                      INFO    run:   Getting requirements to build wheel: finished with status 'done'\n",
      "INFO:__main__:2023-08-30 00:14:44,637  run                      INFO    run:     Preparing wheel metadata: started\n",
      "INFO:__main__:2023-08-30 00:14:44,821  run                      INFO    run:     Preparing wheel metadata: finished with status 'done'\n",
      "INFO:__main__:2023-08-30 00:14:46,552  run                      INFO    run: Collecting grpcio-tools==1.44.0\n",
      "INFO:__main__:2023-08-30 00:14:46,563  run                      INFO    run:   Downloading grpcio-tools-1.44.0.tar.gz (2.2 MB)\n",
      "INFO:__main__:2023-08-30 00:14:47,269  run                      INFO    run: Requirement already satisfied: protobuf<4.0dev,>=3.5.0.post1 in /usr/local/lib/python3.9/site-packages (from grpcio-tools==1.44.0) (3.19.4)\n",
      "INFO:__main__:2023-08-30 00:14:48,848  run                      INFO    run: Collecting grpcio>=1.44.0\n",
      "INFO:__main__:2023-08-30 00:14:48,860  run                      INFO    run:   Downloading grpcio-1.57.0.tar.gz (24.7 MB)\n",
      "INFO:__main__:2023-08-30 00:14:52,223  run                      INFO    run: Requirement already satisfied: setuptools in /usr/local/lib/python3.9/site-packages (from grpcio-tools==1.44.0) (57.5.0)\n",
      "INFO:__main__:2023-08-30 00:14:52,229  run                      INFO    run: Requirement already satisfied: multidict in /usr/local/lib/python3.9/site-packages (from grpclib) (6.0.4)\n",
      "INFO:__main__:2023-08-30 00:14:52,282  run                      INFO    run: Collecting h2<5,>=3.1.0\n",
      "INFO:__main__:2023-08-30 00:14:52,287  run                      INFO    run:   Downloading h2-4.1.0-py3-none-any.whl (57 kB)\n",
      "INFO:__main__:2023-08-30 00:14:52,321  run                      INFO    run: Collecting hyperframe<7,>=6.0\n",
      "INFO:__main__:2023-08-30 00:14:52,324  run                      INFO    run:   Downloading hyperframe-6.0.1-py3-none-any.whl (12 kB)\n",
      "INFO:__main__:2023-08-30 00:14:52,344  run                      INFO    run: Collecting hpack<5,>=4.0\n",
      "INFO:__main__:2023-08-30 00:14:52,347  run                      INFO    run:   Downloading hpack-4.0.0-py3-none-any.whl (32 kB)\n",
      "INFO:__main__:2023-08-30 00:14:52,382  run                      INFO    run: Building wheels for collected packages: grpcio-tools, grpclib, grpcio\n",
      "INFO:__main__:2023-08-30 00:14:52,382  run                      INFO    run:   Building wheel for grpcio-tools (setup.py): started\n",
      "INFO:__main__:2023-08-30 00:15:54,452  run                      INFO    run:   Building wheel for grpcio-tools (setup.py): still running...\n",
      "INFO:__main__:2023-08-30 00:16:56,106  run                      INFO    run:   Building wheel for grpcio-tools (setup.py): still running...\n",
      "INFO:__main__:2023-08-30 00:17:56,248  run                      INFO    run:   Building wheel for grpcio-tools (setup.py): still running...\n",
      "INFO:__main__:2023-08-30 00:18:57,122  run                      INFO    run:   Building wheel for grpcio-tools (setup.py): still running...\n",
      "INFO:__main__:2023-08-30 00:19:57,529  run                      INFO    run:   Building wheel for grpcio-tools (setup.py): still running...\n",
      "INFO:__main__:2023-08-30 00:20:22,342  run                      INFO    run:   Building wheel for grpcio-tools (setup.py): finished with status 'done'\n",
      "INFO:__main__:2023-08-30 00:20:22,345  run                      INFO    run:   Created wheel for grpcio-tools: filename=grpcio_tools-1.44.0-cp39-cp39-linux_s390x.whl size=2192509 sha256=0cd3e78270cdb1ef3e588117d99f1ae86904165815276094982b80f03a8fe6e6\n",
      "INFO:__main__:2023-08-30 00:20:22,345  run                      INFO    run:   Stored in directory: /root/.cache/pip/wheels/7f/15/f2/8366b303974c337c335cad8aa8bd36dbcbf72397c8a10f57c3\n",
      "INFO:__main__:2023-08-30 00:20:22,348  run                      INFO    run:   Building wheel for grpclib (PEP 517): started\n",
      "INFO:__main__:2023-08-30 00:20:22,589  run                      INFO    run:   Building wheel for grpclib (PEP 517): finished with status 'done'\n",
      "INFO:__main__:2023-08-30 00:20:22,590  run                      INFO    run:   Created wheel for grpclib: filename=grpclib-0.4.5-py3-none-any.whl size=77152 sha256=7b511b64494882c685fcb2bc60eb811beeaf8fd17773824ed1265b3a3f921e00\n",
      "INFO:__main__:2023-08-30 00:20:22,590  run                      INFO    run:   Stored in directory: /root/.cache/pip/wheels/fa/bf/74/02e34d5240d3df96b93275cbe1f916994942ca6ccbbd5b5d5e\n",
      "INFO:__main__:2023-08-30 00:20:22,592  run                      INFO    run:   Building wheel for grpcio (setup.py): started\n",
      "INFO:__main__:2023-08-30 00:21:23,238  run                      INFO    run:   Building wheel for grpcio (setup.py): still running...\n",
      "INFO:__main__:2023-08-30 00:22:27,384  run                      INFO    run:   Building wheel for grpcio (setup.py): still running...\n",
      "INFO:__main__:2023-08-30 00:23:28,792  run                      INFO    run:   Building wheel for grpcio (setup.py): still running...\n",
      "INFO:__main__:2023-08-30 00:24:34,505  run                      INFO    run:   Building wheel for grpcio (setup.py): still running...\n",
      "INFO:__main__:2023-08-30 00:25:36,114  run                      INFO    run:   Building wheel for grpcio (setup.py): still running...\n",
      "INFO:__main__:2023-08-30 00:26:36,459  run                      INFO    run:   Building wheel for grpcio (setup.py): still running...\n",
      "INFO:__main__:2023-08-30 00:27:42,921  run                      INFO    run:   Building wheel for grpcio (setup.py): still running...\n",
      "INFO:__main__:2023-08-30 00:28:45,132  run                      INFO    run:   Building wheel for grpcio (setup.py): still running...\n",
      "INFO:__main__:2023-08-30 00:29:45,221  run                      INFO    run:   Building wheel for grpcio (setup.py): still running...\n",
      "INFO:__main__:2023-08-30 00:30:45,281  run                      INFO    run:   Building wheel for grpcio (setup.py): still running...\n",
      "INFO:__main__:2023-08-30 00:31:46,050  run                      INFO    run:   Building wheel for grpcio (setup.py): still running...\n",
      "INFO:__main__:2023-08-30 00:32:49,989  run                      INFO    run:   Building wheel for grpcio (setup.py): still running...\n",
      "INFO:__main__:2023-08-30 00:33:51,698  run                      INFO    run:   Building wheel for grpcio (setup.py): still running...\n",
      "INFO:__main__:2023-08-30 00:34:51,961  run                      INFO    run:   Building wheel for grpcio (setup.py): still running...\n",
      "INFO:__main__:2023-08-30 00:36:04,289  run                      INFO    run:   Building wheel for grpcio (setup.py): still running...\n",
      "INFO:__main__:2023-08-30 00:37:04,557  run                      INFO    run:   Building wheel for grpcio (setup.py): still running...\n",
      "INFO:__main__:2023-08-30 00:37:51,744  run                      INFO    run:   Building wheel for grpcio (setup.py): finished with status 'done'\n",
      "INFO:__main__:2023-08-30 00:37:51,747  run                      INFO    run:   Created wheel for grpcio: filename=grpcio-1.57.0-cp39-cp39-linux_s390x.whl size=3942811 sha256=a327da4e89f07d9f65e6175eeb9c699dd4341f1335cc59084af5d80d8597cdec\n",
      "INFO:__main__:2023-08-30 00:37:51,748  run                      INFO    run:   Stored in directory: /root/.cache/pip/wheels/e7/b0/2c/93bb539c354ccfa5bc8b1fbcb310da159fde8aa66f7b58a6d5\n",
      "INFO:__main__:2023-08-30 00:37:51,750  run                      INFO    run: Successfully built grpcio-tools grpclib grpcio\n",
      "INFO:__main__:2023-08-30 00:37:51,862  run                      INFO    run: Installing collected packages: hyperframe, hpack, h2, grpcio, grpclib, grpcio-tools\n",
      "INFO:__main__:2023-08-30 00:37:52,271  run                      INFO    run: Successfully installed grpcio-1.57.0 grpcio-tools-1.44.0 grpclib-0.4.5 h2-4.1.0 hpack-4.0.0 hyperframe-6.0.1\n",
      "INFO:__main__:2023-08-30 00:37:52,271  run                      INFO    run: \u001b[91mWARNING: Running pip as the 'root' user can result in broken permissions and conflicting behaviour with the system package manager. It is recommended to use a virtual environment instead: https://pip.pypa.io/warnings/venv\n",
      "INFO:__main__:2023-08-30 00:37:52,274  run                      INFO    run: \u001b[0m\u001b[91mWARNING: You are using pip version 21.2.4; however, version 23.2.1 is available.\n",
      "INFO:__main__:2023-08-30 00:37:52,274  run                      INFO    run: You should consider upgrading via the '/usr/local/bin/python -m pip install --upgrade pip' command.\n",
      "INFO:__main__:2023-08-30 00:37:52,720  run                      INFO    run: \u001b[0m\u001b[91mkeystore.proto\u001b[0m\u001b[91m:\u001b[0m\u001b[91m18\u001b[0m\u001b[91m:\u001b[0m\u001b[91m1\u001b[0m\u001b[91m: warning: \u001b[0m\u001b[91mImport pkcs11.proto is unused.\u001b[0m\u001b[91m\n",
      "INFO:__main__:2023-08-30 00:37:52,722  run                      INFO    run: \u001b[0m\u001b[91mgrep11.proto\u001b[0m\u001b[91m:\u001b[0m\u001b[91m24\u001b[0m\u001b[91m:\u001b[0m\u001b[91m1\u001b[0m\u001b[91m: warning: \u001b[0m\u001b[91mImport annotations.proto is unused.\u001b[0m\u001b[91m\n",
      "INFO:__main__:2023-08-30 00:38:13,254  run                      INFO    run: \u001b[0mRemoving intermediate container 46c7559c0551\n",
      "INFO:__main__:2023-08-30 00:38:13,254  run                      INFO    run:  ---> 392167e747f3\n",
      "INFO:__main__:2023-08-30 00:38:13,254  run                      INFO    run: Step 18/49 : WORKDIR ${ELECTRUM_DIR}\n",
      "INFO:__main__:2023-08-30 00:38:13,420  run                      INFO    run:  ---> Running in 12d5db20abf0\n",
      "INFO:__main__:2023-08-30 00:38:13,479  run                      INFO    run: Removing intermediate container 12d5db20abf0\n",
      "INFO:__main__:2023-08-30 00:38:13,479  run                      INFO    run:  ---> 1c9890ce1440\n",
      "INFO:__main__:2023-08-30 00:38:13,479  run                      INFO    run: Step 19/49 : ENV ZHSM ${ZHSM}\n",
      "INFO:__main__:2023-08-30 00:38:13,526  run                      INFO    run:  ---> Running in 83182064f383\n",
      "INFO:__main__:2023-08-30 00:38:13,577  run                      INFO    run: Removing intermediate container 83182064f383\n",
      "INFO:__main__:2023-08-30 00:38:13,577  run                      INFO    run:  ---> cab564ad6fd9\n",
      "INFO:__main__:2023-08-30 00:38:13,577  run                      INFO    run: Step 20/49 : ENV PYTHONPATH ${ELECTRUM_DIR}\n",
      "INFO:__main__:2023-08-30 00:38:13,624  run                      INFO    run:  ---> Running in a1f979ef3e36\n",
      "INFO:__main__:2023-08-30 00:38:13,675  run                      INFO    run: Removing intermediate container a1f979ef3e36\n",
      "INFO:__main__:2023-08-30 00:38:13,675  run                      INFO    run:  ---> 61e69d0a698a\n",
      "INFO:__main__:2023-08-30 00:38:13,675  run                      INFO    run: Step 21/49 : ENV DEBIAN_FRONTEND noninteractive\n",
      "INFO:__main__:2023-08-30 00:38:13,722  run                      INFO    run:  ---> Running in 96e573cf6cf2\n",
      "INFO:__main__:2023-08-30 00:38:13,773  run                      INFO    run: Removing intermediate container 96e573cf6cf2\n",
      "INFO:__main__:2023-08-30 00:38:13,773  run                      INFO    run:  ---> 700d46e28954\n",
      "INFO:__main__:2023-08-30 00:38:13,773  run                      INFO    run: Step 22/49 : WORKDIR /root\n",
      "INFO:__main__:2023-08-30 00:38:13,820  run                      INFO    run:  ---> Running in d130c11eb1a9\n",
      "INFO:__main__:2023-08-30 00:38:13,881  run                      INFO    run: Removing intermediate container d130c11eb1a9\n",
      "INFO:__main__:2023-08-30 00:38:13,881  run                      INFO    run:  ---> c1ff2a515981\n",
      "INFO:__main__:2023-08-30 00:38:13,881  run                      INFO    run: Step 23/49 : ENV APP_ROOT /var/www/html/electrum\n",
      "INFO:__main__:2023-08-30 00:38:13,927  run                      INFO    run:  ---> Running in ca1766186e8a\n",
      "INFO:__main__:2023-08-30 00:38:13,979  run                      INFO    run: Removing intermediate container ca1766186e8a\n",
      "INFO:__main__:2023-08-30 00:38:13,979  run                      INFO    run:  ---> 54f60aabb61c\n",
      "INFO:__main__:2023-08-30 00:38:13,979  run                      INFO    run: Step 24/49 : RUN curl -sS https://getcomposer.org/installer -o composer-setup.php &&     php composer-setup.php --install-dir=/usr/local/bin --filename=composer &&     cd $APP_ROOT/.. &&     git clone https://github.com/laravel/laravel.git &&     mv laravel electrum &&     cd $APP_ROOT &&     git checkout 8.x\n",
      "INFO:__main__:2023-08-30 00:38:14,026  run                      INFO    run:  ---> Running in 6f2826ffee7a\n",
      "INFO:__main__:2023-08-30 00:38:15,467  run                      INFO    run: All settings correct for using Composer\n",
      "INFO:__main__:2023-08-30 00:38:15,482  run                      INFO    run: Downloading...\n",
      "INFO:__main__:2023-08-30 00:38:20,981  run                      INFO    run: \n",
      "INFO:__main__:2023-08-30 00:38:20,981  run                      INFO    run: Composer (version 2.5.8) successfully installed to: /usr/local/bin/composer\n",
      "INFO:__main__:2023-08-30 00:38:20,981  run                      INFO    run: Use it: php /usr/local/bin/composer\n",
      "INFO:__main__:2023-08-30 00:38:20,982  run                      INFO    run: \n",
      "INFO:__main__:2023-08-30 00:38:20,989  run                      INFO    run: \u001b[91mCloning into 'laravel'...\n",
      "INFO:__main__:2023-08-30 00:38:22,179  run                      INFO    run: \u001b[0m\u001b[91mSwitched to a new branch '8.x'\n",
      "INFO:__main__:2023-08-30 00:38:22,180  run                      INFO    run: \u001b[0mBranch '8.x' set up to track remote branch '8.x' from 'origin'.\n",
      "INFO:__main__:2023-08-30 00:38:23,660  run                      INFO    run: Removing intermediate container 6f2826ffee7a\n",
      "INFO:__main__:2023-08-30 00:38:23,660  run                      INFO    run:  ---> 5d5dfd6c2032\n",
      "INFO:__main__:2023-08-30 00:38:23,660  run                      INFO    run: Step 25/49 : ENV APP_ROOT /var/www/html/electrum\n",
      "INFO:__main__:2023-08-30 00:38:23,713  run                      INFO    run:  ---> Running in 9aebb38a1a38\n",
      "INFO:__main__:2023-08-30 00:38:23,764  run                      INFO    run: Removing intermediate container 9aebb38a1a38\n",
      "INFO:__main__:2023-08-30 00:38:23,764  run                      INFO    run:  ---> cf757c3854e3\n",
      "INFO:__main__:2023-08-30 00:38:23,765  run                      INFO    run: Step 26/49 : WORKDIR $APP_ROOT\n",
      "INFO:__main__:2023-08-30 00:38:23,813  run                      INFO    run:  ---> Running in 47905d266bf4\n",
      "INFO:__main__:2023-08-30 00:38:23,874  run                      INFO    run: Removing intermediate container 47905d266bf4\n",
      "INFO:__main__:2023-08-30 00:38:23,874  run                      INFO    run:  ---> cfb99202fc77\n",
      "INFO:__main__:2023-08-30 00:38:23,874  run                      INFO    run: Step 27/49 : ADD laravel-electrum/composer.json .\n",
      "INFO:__main__:2023-08-30 00:38:23,933  run                      INFO    run:  ---> c9e60f6bb8bd\n",
      "INFO:__main__:2023-08-30 00:38:23,933  run                      INFO    run: Step 28/49 : ADD laravel-electrum/env.sh .\n",
      "INFO:__main__:2023-08-30 00:38:23,992  run                      INFO    run:  ---> 7e118195dc51\n",
      "INFO:__main__:2023-08-30 00:38:23,992  run                      INFO    run: Step 29/49 : ADD laravel-electrum/api.php laravel-electrum/web.php /var/www/html/electrum/routes/\n",
      "INFO:__main__:2023-08-30 00:38:24,054  run                      INFO    run:  ---> 721f45f192f3\n",
      "INFO:__main__:2023-08-30 00:38:24,054  run                      INFO    run: Step 30/49 : ARG LARAVEL_ELECTRUM_BRANCH=\"local-e\"\n",
      "INFO:__main__:2023-08-30 00:38:24,099  run                      INFO    run:  ---> Running in 73990e0b2430\n",
      "INFO:__main__:2023-08-30 00:38:24,147  run                      INFO    run: Removing intermediate container 73990e0b2430\n",
      "INFO:__main__:2023-08-30 00:38:24,147  run                      INFO    run:  ---> 9671a60914f3\n",
      "INFO:__main__:2023-08-30 00:38:24,147  run                      INFO    run: Step 31/49 : RUN sed --in-place \"s|dev-local|dev-${LARAVEL_ELECTRUM_BRANCH}|\" composer.json &&     composer -vv install &&     php artisan ui vue --auth &&     npm install &&     mv .env.example .env &&     php artisan key:generate &&     ./env.sh &&     php artisan make:migration create_user &&     sed --in-place \"s|App\\\\\\Providers\\\\\\RouteServiceProvider::class,|App\\\\\\Providers\\\\\\RouteServiceProvider::class,\\n        AraneaDev\\\\\\Electrum\\\\\\ElectrumServiceProvider::class,|\" config/app.php &&     sed --in-place \"s|Vue.component('example-component', require('./components/ExampleComponent.vue').default);|Vue.component('electrum-wallet', require('$APP_ROOT/vendor/araneadev/laravel-electrum/src/resources/assets/js/Electrum.vue').default);|\" $APP_ROOT/resources/js/app.js &&     sed --in-place \"s|'Your wallet created! Please load your wallet after recording your seed.'|response.data.msg|\" vendor/araneadev/laravel-electrum/src/resources/assets/js/Electrum.vue &&     sed --in-place \"s|/home|/electrum|\" app/Providers/RouteServiceProvider.php &&     npm install ajv &&     npm install clipboard --save-dev &&     npm install moment --save-dev &&     npm install vue2-bootstrap-modal --save-dev &&     npm install vue-qrcode-component --save-dev &&     npm install --save-dev prettier@1.12.0 &&     npm install bootstrap-vue --save-dev &&     npm install vue-loader@^15.9.5 --save-dev --legacy-peer-deps &&     npm run dev &&     composer -vv clearcache &&     npm cache clear --force &&     php artisan optimize\n",
      "INFO:__main__:2023-08-30 00:38:24,195  run                      INFO    run:  ---> Running in c46d9015d179\n",
      "INFO:__main__:2023-08-30 00:38:24,494  run                      INFO    run: \u001b[91mNo composer.lock file present. Updating dependencies to latest instead of installing from lock file. See https://getcomposer.org/install for more information.\n",
      "INFO:__main__:2023-08-30 00:38:24,494  run                      INFO    run: \u001b[0m\u001b[91mLoading composer repositories with package information\n",
      "INFO:__main__:2023-08-30 00:38:25,151  run                      INFO    run: \u001b[0m\u001b[91mReading composer.json of araneadev/laravel-electrum (0.1)\n",
      "INFO:__main__:2023-08-30 00:38:25,333  run                      INFO    run: \u001b[0m\u001b[91mImporting tag 0.1 (0.1.0.0)\n",
      "INFO:__main__:2023-08-30 00:38:25,333  run                      INFO    run: \u001b[0m\u001b[91mReading composer.json of araneadev/laravel-electrum (new-digital-asset)\n",
      "INFO:__main__:2023-08-30 00:38:25,455  run                      INFO    run: \u001b[0m\u001b[91mImporting branch new-digital-asset (dev-new-digital-asset)\n",
      "INFO:__main__:2023-08-30 00:38:25,456  run                      INFO    run: \u001b[0m\u001b[91mReading composer.json of araneadev/laravel-electrum (digital-asset)\n",
      "INFO:__main__:2023-08-30 00:38:25,640  run                      INFO    run: \u001b[0m\u001b[91mImporting branch digital-asset (dev-digital-asset)\n",
      "INFO:__main__:2023-08-30 00:38:25,641  run                      INFO    run: \u001b[0m\u001b[91mReading composer.json of araneadev/laravel-electrum (local)\n",
      "INFO:__main__:2023-08-30 00:38:25,814  run                      INFO    run: \u001b[0m\u001b[91mImporting branch local (dev-local)\n",
      "INFO:__main__:2023-08-30 00:38:25,815  run                      INFO    run: \u001b[0m\u001b[91mReading composer.json of araneadev/laravel-electrum (local-c)\n",
      "INFO:__main__:2023-08-30 00:38:26,028  run                      INFO    run: \u001b[0m\u001b[91mImporting branch local-c (dev-local-c)\n",
      "INFO:__main__:2023-08-30 00:38:26,029  run                      INFO    run: \u001b[0m\u001b[91mReading composer.json of araneadev/laravel-electrum (local-d)\n",
      "INFO:__main__:2023-08-30 00:38:26,195  run                      INFO    run: \u001b[0m\u001b[91mImporting branch local-d (dev-local-d)\n",
      "INFO:__main__:2023-08-30 00:38:26,195  run                      INFO    run: \u001b[0m\u001b[91mReading composer.json of araneadev/laravel-electrum (local-e)\n",
      "INFO:__main__:2023-08-30 00:38:26,351  run                      INFO    run: \u001b[0m\u001b[91mImporting branch local-e (dev-local-e)\n",
      "INFO:__main__:2023-08-30 00:38:26,351  run                      INFO    run: \u001b[0m\u001b[91mReading composer.json of araneadev/laravel-electrum (master)\n",
      "INFO:__main__:2023-08-30 00:38:26,508  run                      INFO    run: \u001b[0m\u001b[91mImporting branch master (dev-master)\n",
      "INFO:__main__:2023-08-30 00:38:26,609  run                      INFO    run: \u001b[0m\u001b[91mInfo from https://repo.packagist.org: #StandWithUkraine\n",
      "INFO:__main__:2023-08-30 00:38:29,261  run                      INFO    run: \u001b[0mPool optimizer completed in 1.347 seconds\n",
      "INFO:__main__:2023-08-30 00:38:29,261  run                      INFO    run: Found 10,386 package versions referenced in your dependency graph. 9,262 (89%) were optimized away.\n",
      "INFO:__main__:2023-08-30 00:38:29,271  run                      INFO    run: \u001b[91mUpdating dependencies\n",
      "INFO:__main__:2023-08-30 00:38:29,392  run                      INFO    run: \u001b[0m\u001b[91mDependency resolution completed in 0.016 seconds\n",
      "INFO:__main__:2023-08-30 00:38:29,397  run                      INFO    run: \u001b[0m\u001b[91mAnalyzed 1124 packages to resolve dependencies\n",
      "INFO:__main__:2023-08-30 00:38:29,397  run                      INFO    run: \u001b[0m\u001b[91mAnalyzed 11420 rules to resolve dependencies\n",
      "INFO:__main__:2023-08-30 00:38:29,417  run                      INFO    run: \u001b[0m\u001b[91mDependency resolution completed in 0.001 seconds\n",
      "INFO:__main__:2023-08-30 00:38:29,422  run                      INFO    run: \u001b[0m\u001b[91mLock file operations: 100 installs, 0 updates, 0 removals\n",
      "INFO:__main__:2023-08-30 00:38:29,422  run                      INFO    run: \u001b[0m\u001b[91mInstalls: symfony/deprecation-contracts:v2.5.2, psr/http-message:2.0, psr/http-client:1.0.2, ralouphie/getallheaders:3.0.3, psr/http-factory:1.0.2, guzzlehttp/psr7:2.6.1, guzzlehttp/promises:2.0.1, guzzlehttp/guzzle:7.8.0, voku/portable-ascii:1.6.1, symfony/polyfill-php80:v1.28.0, symfony/polyfill-mbstring:v1.28.0, symfony/polyfill-ctype:v1.28.0, phpoption/phpoption:1.9.1, graham-campbell/result-type:v1.1.1, vlucas/phpdotenv:v5.5.0, symfony/css-selector:v5.4.26, tijsverkoyen/css-to-inline-styles:2.2.6, symfony/var-dumper:v5.4.28, symfony/routing:v5.4.26, symfony/process:v5.4.28, symfony/polyfill-php72:v1.28.0, symfony/polyfill-intl-normalizer:v1.28.0, symfony/polyfill-intl-idn:v1.28.0, symfony/mime:v5.4.26, psr/log:1.1.4, symfony/polyfill-php73:v1.28.0, symfony/http-foundation:v5.4.28, psr/event-dispatcher:1.0.0, symfony/event-dispatcher-contracts:v2.5.2, symfony/event-dispatcher:v5.4.26, symfony/error-handler:v5.4.26, symfony/http-kernel:v5.4.28, symfony/finder:v5.4.27, symfony/polyfill-intl-grapheme:v1.28.0, symfony/string:v5.4.26, psr/container:1.1.1, symfony/service-contracts:v2.5.2, symfony/console:v5.4.28, symfony/polyfill-iconv:v1.28.0, doctrine/lexer:1.2.3, egulias/email-validator:2.1.25, swiftmailer/swiftmailer:v6.3.0, symfony/polyfill-php81:v1.28.0, ramsey/collection:1.2.2, brick/math:0.9.3, ramsey/uuid:4.2.3, psr/simple-cache:1.0.1, opis/closure:3.6.3, symfony/translation-contracts:v2.5.2, symfony/translation:v5.4.24, psr/clock:1.0.0, nesbot/carbon:2.69.0, monolog/monolog:2.9.1, league/mime-type-detection:1.12.0, league/flysystem:1.1.10, league/commonmark:1.6.7, laravel/serializable-closure:v1.3.1, webmozart/assert:1.11.0, dragonmantank/cron-expression:v3.3.3, doctrine/inflector:2.0.8, laravel/framework:v8.83.27, araneadev/laravel-electrum:dev-local-e 92e5c41, fakerphp/faker:v1.20.0, fideloper/proxy:4.4.2, asm89/stack-cors:v2.1.1, fruitcake/laravel-cors:v2.2.0, laravel/sanctum:v2.15.1, nikic/php-parser:v4.17.1, psy/psysh:v0.11.20, laravel/tinker:v2.8.2, laravel/ui:v3.4.6, hamcrest/hamcrest-php:v2.0.1, mockery/mockery:1.6.6, sebastian/version:3.0.2, sebastian/type:3.2.1, sebastian/resource-operations:3.0.3, sebastian/recursion-context:4.0.5, sebastian/object-reflector:2.0.4, sebastian/object-enumerator:4.0.4, sebastian/global-state:5.0.6, sebastian/exporter:4.0.5, sebastian/environment:5.1.5, sebastian/diff:4.0.5, sebastian/comparator:4.0.8, sebastian/code-unit:1.0.8, sebastian/cli-parser:1.0.1, phpunit/php-timer:5.0.3, phpunit/php-text-template:2.0.4, phpunit/php-invoker:3.1.1, phpunit/php-file-iterator:3.0.6, theseer/tokenizer:1.2.1, sebastian/lines-of-code:1.0.3, sebastian/complexity:2.0.2, sebastian/code-unit-reverse-lookup:2.0.3, phpunit/php-code-coverage:9.2.27, phar-io/version:3.2.1, phar-io/manifest:2.0.3, myclabs/deep-copy:1.11.1, doctrine/instantiator:1.5.0, phpunit/phpunit:9.6.11\n",
      "INFO:__main__:2023-08-30 00:38:29,423  run                      INFO    run: \u001b[0m\u001b[91m  - Locking araneadev/laravel-electrum (dev-local-e 92e5c41)\n",
      "INFO:__main__:2023-08-30 00:38:29,423  run                      INFO    run: \u001b[0m\u001b[91m  - Locking asm89/stack-cors (v2.1.1)\n",
      "INFO:__main__:2023-08-30 00:38:29,423  run                      INFO    run: \u001b[0m\u001b[91m  - Locking brick/math (0.9.3)\n",
      "INFO:__main__:2023-08-30 00:38:29,423  run                      INFO    run: \u001b[0m\u001b[91m  - Locking doctrine/inflector (2.0.8)\n",
      "INFO:__main__:2023-08-30 00:38:29,423  run                      INFO    run: \u001b[0m\u001b[91m  - Locking doctrine/instantiator (1.5.0)\n",
      "INFO:__main__:2023-08-30 00:38:29,423  run                      INFO    run: \u001b[0m\u001b[91m  - Locking doctrine/lexer (1.2.3)\n",
      "INFO:__main__:2023-08-30 00:38:29,423  run                      INFO    run: \u001b[0m\u001b[91m  - Locking dragonmantank/cron-expression (v3.3.3)\n",
      "INFO:__main__:2023-08-30 00:38:29,424  run                      INFO    run: \u001b[0m\u001b[91m  - Locking egulias/email-validator (2.1.25)\n",
      "INFO:__main__:2023-08-30 00:38:29,424  run                      INFO    run: \u001b[0m\u001b[91m  - Locking fakerphp/faker (v1.20.0)\n",
      "INFO:__main__:2023-08-30 00:38:29,424  run                      INFO    run: \u001b[0m\u001b[91m  - Locking fideloper/proxy (4.4.2)\n",
      "INFO:__main__:2023-08-30 00:38:29,424  run                      INFO    run: \u001b[0m\u001b[91m  - Locking fruitcake/laravel-cors (v2.2.0)\n",
      "INFO:__main__:2023-08-30 00:38:29,424  run                      INFO    run: \u001b[0m\u001b[91m  - Locking graham-campbell/result-type (v1.1.1)\n",
      "INFO:__main__:2023-08-30 00:38:29,424  run                      INFO    run: \u001b[0m\u001b[91m  - Locking guzzlehttp/guzzle (7.8.0)\n",
      "INFO:__main__:2023-08-30 00:38:29,424  run                      INFO    run: \u001b[0m\u001b[91m  - Locking guzzlehttp/promises (2.0.1)\n",
      "INFO:__main__:2023-08-30 00:38:29,424  run                      INFO    run: \u001b[0m\u001b[91m  - Locking guzzlehttp/psr7 (2.6.1)\n",
      "INFO:__main__:2023-08-30 00:38:29,424  run                      INFO    run: \u001b[0m\u001b[91m  - Locking hamcrest/hamcrest-php (v2.0.1)\n",
      "INFO:__main__:2023-08-30 00:38:29,424  run                      INFO    run: \u001b[0m\u001b[91m  - Locking laravel/framework (v8.83.27)\n",
      "INFO:__main__:2023-08-30 00:38:29,424  run                      INFO    run: \u001b[0m\u001b[91m  - Locking laravel/sanctum (v2.15.1)\n",
      "INFO:__main__:2023-08-30 00:38:29,425  run                      INFO    run: \u001b[0m\u001b[91m  - Locking laravel/serializable-closure (v1.3.1)\n",
      "INFO:__main__:2023-08-30 00:38:29,425  run                      INFO    run: \u001b[0m\u001b[91m  - Locking laravel/tinker (v2.8.2)\n",
      "INFO:__main__:2023-08-30 00:38:29,425  run                      INFO    run: \u001b[0m\u001b[91m  - Locking laravel/ui (v3.4.6)\n",
      "INFO:__main__:2023-08-30 00:38:29,425  run                      INFO    run: \u001b[0m\u001b[91m  - Locking league/commonmark (1.6.7)\n",
      "INFO:__main__:2023-08-30 00:38:29,425  run                      INFO    run: \u001b[0m\u001b[91m  - Locking league/flysystem (1.1.10)\n",
      "INFO:__main__:2023-08-30 00:38:29,425  run                      INFO    run: \u001b[0m\u001b[91m  - Locking league/mime-type-detection (1.12.0)\n",
      "INFO:__main__:2023-08-30 00:38:29,425  run                      INFO    run: \u001b[0m\u001b[91m  - Locking mockery/mockery (1.6.6)\n",
      "INFO:__main__:2023-08-30 00:38:29,425  run                      INFO    run: \u001b[0m\u001b[91m  - Locking monolog/monolog (2.9.1)\n",
      "INFO:__main__:2023-08-30 00:38:29,425  run                      INFO    run: \u001b[0m\u001b[91m  - Locking myclabs/deep-copy (1.11.1)\n",
      "INFO:__main__:2023-08-30 00:38:29,425  run                      INFO    run: \u001b[0m\u001b[91m  - Locking nesbot/carbon (2.69.0)\n",
      "INFO:__main__:2023-08-30 00:38:29,425  run                      INFO    run: \u001b[0m\u001b[91m  - Locking nikic/php-parser (v4.17.1)\n",
      "INFO:__main__:2023-08-30 00:38:29,426  run                      INFO    run: \u001b[0m\u001b[91m  - Locking opis/closure (3.6.3)\n",
      "INFO:__main__:2023-08-30 00:38:29,426  run                      INFO    run: \u001b[0m\u001b[91m  - Locking phar-io/manifest (2.0.3)\n",
      "INFO:__main__:2023-08-30 00:38:29,426  run                      INFO    run: \u001b[0m\u001b[91m  - Locking phar-io/version (3.2.1)\n",
      "INFO:__main__:2023-08-30 00:38:29,426  run                      INFO    run: \u001b[0m\u001b[91m  - Locking phpoption/phpoption (1.9.1)\n",
      "INFO:__main__:2023-08-30 00:38:29,426  run                      INFO    run: \u001b[0m\u001b[91m  - Locking phpunit/php-code-coverage (9.2.27)\n",
      "INFO:__main__:2023-08-30 00:38:29,426  run                      INFO    run: \u001b[0m\u001b[91m  - Locking phpunit/php-file-iterator (3.0.6)\n",
      "INFO:__main__:2023-08-30 00:38:29,426  run                      INFO    run: \u001b[0m\u001b[91m  - Locking phpunit/php-invoker (3.1.1)\n",
      "INFO:__main__:2023-08-30 00:38:29,426  run                      INFO    run: \u001b[0m\u001b[91m  - Locking phpunit/php-text-template (2.0.4)\n",
      "INFO:__main__:2023-08-30 00:38:29,426  run                      INFO    run: \u001b[0m\u001b[91m  - Locking phpunit/php-timer (5.0.3)\n",
      "INFO:__main__:2023-08-30 00:38:29,426  run                      INFO    run: \u001b[0m\u001b[91m  - Locking phpunit/phpunit (9.6.11)\n",
      "INFO:__main__:2023-08-30 00:38:29,426  run                      INFO    run: \u001b[0m\u001b[91m  - Locking psr/clock (1.0.0)\n",
      "INFO:__main__:2023-08-30 00:38:29,427  run                      INFO    run: \u001b[0m\u001b[91m  - Locking psr/container (1.1.1)\n",
      "INFO:__main__:2023-08-30 00:38:29,427  run                      INFO    run: \u001b[0m\u001b[91m  - Locking psr/event-dispatcher (1.0.0)\n",
      "INFO:__main__:2023-08-30 00:38:29,427  run                      INFO    run: \u001b[0m\u001b[91m  - Locking psr/http-client (1.0.2)\n",
      "INFO:__main__:2023-08-30 00:38:29,427  run                      INFO    run: \u001b[0m\u001b[91m  - Locking psr/http-factory (1.0.2)\n",
      "INFO:__main__:2023-08-30 00:38:29,427  run                      INFO    run: \u001b[0m\u001b[91m  - Locking psr/http-message (2.0)\n",
      "INFO:__main__:2023-08-30 00:38:29,427  run                      INFO    run: \u001b[0m\u001b[91m  - Locking psr/log (1.1.4)\n",
      "INFO:__main__:2023-08-30 00:38:29,427  run                      INFO    run: \u001b[0m\u001b[91m  - Locking psr/simple-cache (1.0.1)\n",
      "INFO:__main__:2023-08-30 00:38:29,427  run                      INFO    run: \u001b[0m\u001b[91m  - Locking psy/psysh (v0.11.20)\n",
      "INFO:__main__:2023-08-30 00:38:29,427  run                      INFO    run: \u001b[0m\u001b[91m  - Locking ralouphie/getallheaders (3.0.3)\n",
      "INFO:__main__:2023-08-30 00:38:29,427  run                      INFO    run: \u001b[0m\u001b[91m  - Locking ramsey/collection (1.2.2)\n",
      "INFO:__main__:2023-08-30 00:38:29,427  run                      INFO    run: \u001b[0m\u001b[91m  - Locking ramsey/uuid (4.2.3)\n",
      "INFO:__main__:2023-08-30 00:38:29,428  run                      INFO    run: \u001b[0m\u001b[91m  - Locking sebastian/cli-parser (1.0.1)\n",
      "INFO:__main__:2023-08-30 00:38:29,428  run                      INFO    run: \u001b[0m\u001b[91m  - Locking sebastian/code-unit (1.0.8)\n",
      "INFO:__main__:2023-08-30 00:38:29,428  run                      INFO    run: \u001b[0m\u001b[91m  - Locking sebastian/code-unit-reverse-lookup (2.0.3)\n",
      "INFO:__main__:2023-08-30 00:38:29,428  run                      INFO    run: \u001b[0m\u001b[91m  - Locking sebastian/comparator (4.0.8)\n",
      "INFO:__main__:2023-08-30 00:38:29,428  run                      INFO    run: \u001b[0m\u001b[91m  - Locking sebastian/complexity (2.0.2)\n",
      "INFO:__main__:2023-08-30 00:38:29,428  run                      INFO    run: \u001b[0m\u001b[91m  - Locking sebastian/diff (4.0.5)\n",
      "INFO:__main__:2023-08-30 00:38:29,428  run                      INFO    run: \u001b[0m\u001b[91m  - Locking sebastian/environment (5.1.5)\n",
      "INFO:__main__:2023-08-30 00:38:29,428  run                      INFO    run: \u001b[0m\u001b[91m  - Locking sebastian/exporter (4.0.5)\n",
      "INFO:__main__:2023-08-30 00:38:29,428  run                      INFO    run: \u001b[0m\u001b[91m  - Locking sebastian/global-state (5.0.6)\n",
      "INFO:__main__:2023-08-30 00:38:29,428  run                      INFO    run: \u001b[0m\u001b[91m  - Locking sebastian/lines-of-code (1.0.3)\n",
      "INFO:__main__:2023-08-30 00:38:29,428  run                      INFO    run: \u001b[0m\u001b[91m  - Locking sebastian/object-enumerator (4.0.4)\n",
      "INFO:__main__:2023-08-30 00:38:29,429  run                      INFO    run: \u001b[0m\u001b[91m  - Locking sebastian/object-reflector (2.0.4)\n",
      "INFO:__main__:2023-08-30 00:38:29,429  run                      INFO    run: \u001b[0m\u001b[91m  - Locking sebastian/recursion-context (4.0.5)\n",
      "INFO:__main__:2023-08-30 00:38:29,429  run                      INFO    run: \u001b[0m\u001b[91m  - Locking sebastian/resource-operations (3.0.3)\n",
      "INFO:__main__:2023-08-30 00:38:29,429  run                      INFO    run: \u001b[0m\u001b[91m  - Locking sebastian/type (3.2.1)\n",
      "INFO:__main__:2023-08-30 00:38:29,429  run                      INFO    run: \u001b[0m\u001b[91m  - Locking sebastian/version (3.0.2)\n",
      "INFO:__main__:2023-08-30 00:38:29,429  run                      INFO    run: \u001b[0m\u001b[91m  - Locking swiftmailer/swiftmailer (v6.3.0)\n",
      "INFO:__main__:2023-08-30 00:38:29,429  run                      INFO    run: \u001b[0m\u001b[91m  - Locking symfony/console (v5.4.28)\n",
      "INFO:__main__:2023-08-30 00:38:29,429  run                      INFO    run: \u001b[0m\u001b[91m  - Locking symfony/css-selector (v5.4.26)\n",
      "INFO:__main__:2023-08-30 00:38:29,429  run                      INFO    run: \u001b[0m\u001b[91m  - Locking symfony/deprecation-contracts (v2.5.2)\n",
      "INFO:__main__:2023-08-30 00:38:29,429  run                      INFO    run: \u001b[0m\u001b[91m  - Locking symfony/error-handler (v5.4.26)\n",
      "INFO:__main__:2023-08-30 00:38:29,429  run                      INFO    run: \u001b[0m\u001b[91m  - Locking symfony/event-dispatcher (v5.4.26)\n",
      "INFO:__main__:2023-08-30 00:38:29,430  run                      INFO    run: \u001b[0m\u001b[91m  - Locking symfony/event-dispatcher-contracts (v2.5.2)\n",
      "INFO:__main__:2023-08-30 00:38:29,430  run                      INFO    run: \u001b[0m\u001b[91m  - Locking symfony/finder (v5.4.27)\n",
      "INFO:__main__:2023-08-30 00:38:29,430  run                      INFO    run: \u001b[0m\u001b[91m  - Locking symfony/http-foundation (v5.4.28)\n",
      "INFO:__main__:2023-08-30 00:38:29,430  run                      INFO    run: \u001b[0m\u001b[91m  - Locking symfony/http-kernel (v5.4.28)\n",
      "INFO:__main__:2023-08-30 00:38:29,430  run                      INFO    run: \u001b[0m\u001b[91m  - Locking symfony/mime (v5.4.26)\n",
      "INFO:__main__:2023-08-30 00:38:29,430  run                      INFO    run: \u001b[0m\u001b[91m  - Locking symfony/polyfill-ctype (v1.28.0)\n",
      "INFO:__main__:2023-08-30 00:38:29,430  run                      INFO    run: \u001b[0m\u001b[91m  - Locking symfony/polyfill-iconv (v1.28.0)\n",
      "INFO:__main__:2023-08-30 00:38:29,430  run                      INFO    run: \u001b[0m\u001b[91m  - Locking symfony/polyfill-intl-grapheme (v1.28.0)\n",
      "INFO:__main__:2023-08-30 00:38:29,430  run                      INFO    run: \u001b[0m\u001b[91m  - Locking symfony/polyfill-intl-idn (v1.28.0)\n",
      "INFO:__main__:2023-08-30 00:38:29,430  run                      INFO    run: \u001b[0m\u001b[91m  - Locking symfony/polyfill-intl-normalizer (v1.28.0)\n",
      "INFO:__main__:2023-08-30 00:38:29,430  run                      INFO    run: \u001b[0m\u001b[91m  - Locking symfony/polyfill-mbstring (v1.28.0)\n",
      "INFO:__main__:2023-08-30 00:38:29,431  run                      INFO    run: \u001b[0m\u001b[91m  - Locking symfony/polyfill-php72 (v1.28.0)\n",
      "INFO:__main__:2023-08-30 00:38:29,431  run                      INFO    run: \u001b[0m\u001b[91m  - Locking symfony/polyfill-php73 (v1.28.0)\n",
      "INFO:__main__:2023-08-30 00:38:29,431  run                      INFO    run: \u001b[0m\u001b[91m  - Locking symfony/polyfill-php80 (v1.28.0)\n",
      "INFO:__main__:2023-08-30 00:38:29,431  run                      INFO    run: \u001b[0m\u001b[91m  - Locking symfony/polyfill-php81 (v1.28.0)\n",
      "INFO:__main__:2023-08-30 00:38:29,431  run                      INFO    run: \u001b[0m\u001b[91m  - Locking symfony/process (v5.4.28)\n",
      "INFO:__main__:2023-08-30 00:38:29,431  run                      INFO    run: \u001b[0m\u001b[91m  - Locking symfony/routing (v5.4.26)\n",
      "INFO:__main__:2023-08-30 00:38:29,431  run                      INFO    run: \u001b[0m\u001b[91m  - Locking symfony/service-contracts (v2.5.2)\n",
      "INFO:__main__:2023-08-30 00:38:29,431  run                      INFO    run: \u001b[0m\u001b[91m  - Locking symfony/string (v5.4.26)\n",
      "INFO:__main__:2023-08-30 00:38:29,431  run                      INFO    run: \u001b[0m\u001b[91m  - Locking symfony/translation (v5.4.24)\n",
      "INFO:__main__:2023-08-30 00:38:29,431  run                      INFO    run: \u001b[0m\u001b[91m  - Locking symfony/translation-contracts (v2.5.2)\n",
      "INFO:__main__:2023-08-30 00:38:29,431  run                      INFO    run: \u001b[0m\u001b[91m  - Locking symfony/var-dumper (v5.4.28)\n",
      "INFO:__main__:2023-08-30 00:38:29,432  run                      INFO    run: \u001b[0m\u001b[91m  - Locking theseer/tokenizer (1.2.1)\n",
      "INFO:__main__:2023-08-30 00:38:29,432  run                      INFO    run: \u001b[0m\u001b[91m  - Locking tijsverkoyen/css-to-inline-styles (2.2.6)\n",
      "INFO:__main__:2023-08-30 00:38:29,432  run                      INFO    run: \u001b[0m\u001b[91m  - Locking vlucas/phpdotenv (v5.5.0)\n",
      "INFO:__main__:2023-08-30 00:38:29,432  run                      INFO    run: \u001b[0m\u001b[91m  - Locking voku/portable-ascii (1.6.1)\n",
      "INFO:__main__:2023-08-30 00:38:29,432  run                      INFO    run: \u001b[0m\u001b[91m  - Locking webmozart/assert (1.11.0)\n",
      "INFO:__main__:2023-08-30 00:38:29,435  run                      INFO    run: \u001b[0m\u001b[91mWriting lock file\n",
      "INFO:__main__:2023-08-30 00:38:29,435  run                      INFO    run: \u001b[0m\u001b[91mInstalling dependencies from lock file (including require-dev)\n",
      "INFO:__main__:2023-08-30 00:38:29,441  run                      INFO    run: \u001b[0m\u001b[91mPackage operations: 100 installs, 0 updates, 0 removals\n",
      "INFO:__main__:2023-08-30 00:38:29,441  run                      INFO    run: \u001b[0m\u001b[91mInstalls: voku/portable-ascii:1.6.1, symfony/polyfill-php80:v1.28.0, symfony/polyfill-mbstring:v1.28.0, symfony/polyfill-ctype:v1.28.0, phpoption/phpoption:1.9.1, graham-campbell/result-type:v1.1.1, vlucas/phpdotenv:v5.5.0, symfony/css-selector:v5.4.26, tijsverkoyen/css-to-inline-styles:2.2.6, symfony/var-dumper:v5.4.28, symfony/deprecation-contracts:v2.5.2, symfony/routing:v5.4.26, symfony/process:v5.4.28, symfony/polyfill-php72:v1.28.0, symfony/polyfill-intl-normalizer:v1.28.0, symfony/polyfill-intl-idn:v1.28.0, symfony/mime:v5.4.26, symfony/polyfill-php73:v1.28.0, symfony/http-foundation:v5.4.28, psr/event-dispatcher:1.0.0, symfony/event-dispatcher-contracts:v2.5.2, symfony/event-dispatcher:v5.4.26, psr/log:1.1.4, symfony/error-handler:v5.4.26, symfony/http-kernel:v5.4.28, symfony/finder:v5.4.27, symfony/polyfill-intl-grapheme:v1.28.0, symfony/string:v5.4.26, psr/container:1.1.1, symfony/service-contracts:v2.5.2, symfony/console:v5.4.28, symfony/polyfill-iconv:v1.28.0, doctrine/lexer:1.2.3, egulias/email-validator:2.1.25, swiftmailer/swiftmailer:v6.3.0, symfony/polyfill-php81:v1.28.0, ramsey/collection:1.2.2, brick/math:0.9.3, ramsey/uuid:4.2.3, psr/simple-cache:1.0.1, opis/closure:3.6.3, symfony/translation-contracts:v2.5.2, symfony/translation:v5.4.24, psr/clock:1.0.0, nesbot/carbon:2.69.0, monolog/monolog:2.9.1, league/mime-type-detection:1.12.0, league/flysystem:1.1.10, league/commonmark:1.6.7, laravel/serializable-closure:v1.3.1, webmozart/assert:1.11.0, dragonmantank/cron-expression:v3.3.3, doctrine/inflector:2.0.8, laravel/framework:v8.83.27, psr/http-message:2.0, psr/http-client:1.0.2, ralouphie/getallheaders:3.0.3, psr/http-factory:1.0.2, guzzlehttp/psr7:2.6.1, guzzlehttp/promises:2.0.1, guzzlehttp/guzzle:7.8.0, araneadev/laravel-electrum:dev-local-e 92e5c41, fakerphp/faker:v1.20.0, fideloper/proxy:4.4.2, asm89/stack-cors:v2.1.1, fruitcake/laravel-cors:v2.2.0, laravel/sanctum:v2.15.1, nikic/php-parser:v4.17.1, psy/psysh:v0.11.20, laravel/tinker:v2.8.2, laravel/ui:v3.4.6, hamcrest/hamcrest-php:v2.0.1, mockery/mockery:1.6.6, sebastian/version:3.0.2, sebastian/type:3.2.1, sebastian/resource-operations:3.0.3, sebastian/recursion-context:4.0.5, sebastian/object-reflector:2.0.4, sebastian/object-enumerator:4.0.4, sebastian/global-state:5.0.6, sebastian/exporter:4.0.5, sebastian/environment:5.1.5, sebastian/diff:4.0.5, sebastian/comparator:4.0.8, sebastian/code-unit:1.0.8, sebastian/cli-parser:1.0.1, phpunit/php-timer:5.0.3, phpunit/php-text-template:2.0.4, phpunit/php-invoker:3.1.1, phpunit/php-file-iterator:3.0.6, theseer/tokenizer:1.2.1, sebastian/lines-of-code:1.0.3, sebastian/complexity:2.0.2, sebastian/code-unit-reverse-lookup:2.0.3, phpunit/php-code-coverage:9.2.27, phar-io/version:3.2.1, phar-io/manifest:2.0.3, myclabs/deep-copy:1.11.1, doctrine/instantiator:1.5.0, phpunit/phpunit:9.6.11\n",
      "INFO:__main__:2023-08-30 00:38:29,441  run                      INFO    run: \u001b[0m\u001b[91m  - Downloading voku/portable-ascii (1.6.1)\n",
      "INFO:__main__:2023-08-30 00:38:29,442  run                      INFO    run: \u001b[0m\u001b[91m  - Downloading symfony/polyfill-php80 (v1.28.0)\n",
      "INFO:__main__:2023-08-30 00:38:29,442  run                      INFO    run: \u001b[0m\u001b[91m  - Downloading symfony/polyfill-mbstring (v1.28.0)\n",
      "INFO:__main__:2023-08-30 00:38:29,443  run                      INFO    run: \u001b[0m\u001b[91m  - Downloading symfony/polyfill-ctype (v1.28.0)\n",
      "INFO:__main__:2023-08-30 00:38:29,443  run                      INFO    run: \u001b[0m\u001b[91m  - Downloading phpoption/phpoption (1.9.1)\n",
      "INFO:__main__:2023-08-30 00:38:29,443  run                      INFO    run: \u001b[0m\u001b[91m  - Downloading graham-campbell/result-type (v1.1.1)\n",
      "INFO:__main__:2023-08-30 00:38:29,443  run                      INFO    run: \u001b[0m\u001b[91m  - Downloading vlucas/phpdotenv (v5.5.0)\n",
      "INFO:__main__:2023-08-30 00:38:29,444  run                      INFO    run: \u001b[0m\u001b[91m  - Downloading symfony/css-selector (v5.4.26)\n",
      "INFO:__main__:2023-08-30 00:38:29,444  run                      INFO    run: \u001b[0m\u001b[91m  - Downloading tijsverkoyen/css-to-inline-styles (2.2.6)\n",
      "INFO:__main__:2023-08-30 00:38:29,444  run                      INFO    run: \u001b[0m\u001b[91m  - Downloading symfony/var-dumper (v5.4.28)\n",
      "INFO:__main__:2023-08-30 00:38:29,445  run                      INFO    run: \u001b[0m\u001b[91m  - Downloading symfony/deprecation-contracts (v2.5.2)\n",
      "INFO:__main__:2023-08-30 00:38:29,445  run                      INFO    run: \u001b[0m\u001b[91m  - Downloading symfony/routing (v5.4.26)\n",
      "INFO:__main__:2023-08-30 00:38:29,445  run                      INFO    run: \u001b[0m\u001b[91m  - Downloading symfony/process (v5.4.28)\n",
      "INFO:__main__:2023-08-30 00:38:29,445  run                      INFO    run: \u001b[0m\u001b[91m  - Downloading symfony/polyfill-php72 (v1.28.0)\n",
      "INFO:__main__:2023-08-30 00:38:29,446  run                      INFO    run: \u001b[0m\u001b[91m  - Downloading symfony/polyfill-intl-normalizer (v1.28.0)\n",
      "INFO:__main__:2023-08-30 00:38:29,446  run                      INFO    run: \u001b[0m\u001b[91m  - Downloading symfony/polyfill-intl-idn (v1.28.0)\n",
      "INFO:__main__:2023-08-30 00:38:29,446  run                      INFO    run: \u001b[0m\u001b[91m  - Downloading symfony/mime (v5.4.26)\n",
      "INFO:__main__:2023-08-30 00:38:29,446  run                      INFO    run: \u001b[0m\u001b[91m  - Downloading symfony/polyfill-php73 (v1.28.0)\n",
      "INFO:__main__:2023-08-30 00:38:29,446  run                      INFO    run: \u001b[0m\u001b[91m  - Downloading symfony/http-foundation (v5.4.28)\n",
      "INFO:__main__:2023-08-30 00:38:29,447  run                      INFO    run: \u001b[0m\u001b[91m  - Downloading psr/event-dispatcher (1.0.0)\n",
      "INFO:__main__:2023-08-30 00:38:29,447  run                      INFO    run: \u001b[0m\u001b[91m  - Downloading symfony/event-dispatcher-contracts (v2.5.2)\n",
      "INFO:__main__:2023-08-30 00:38:29,447  run                      INFO    run: \u001b[0m\u001b[91m  - Downloading symfony/event-dispatcher (v5.4.26)\n",
      "INFO:__main__:2023-08-30 00:38:29,447  run                      INFO    run: \u001b[0m\u001b[91m  - Downloading psr/log (1.1.4)\n",
      "INFO:__main__:2023-08-30 00:38:29,448  run                      INFO    run: \u001b[0m\u001b[91m  - Downloading symfony/error-handler (v5.4.26)\n",
      "INFO:__main__:2023-08-30 00:38:29,448  run                      INFO    run: \u001b[0m\u001b[91m  - Downloading symfony/http-kernel (v5.4.28)\n",
      "INFO:__main__:2023-08-30 00:38:29,448  run                      INFO    run: \u001b[0m\u001b[91m  - Downloading symfony/finder (v5.4.27)\n",
      "INFO:__main__:2023-08-30 00:38:29,448  run                      INFO    run: \u001b[0m\u001b[91m  - Downloading symfony/polyfill-intl-grapheme (v1.28.0)\n",
      "INFO:__main__:2023-08-30 00:38:29,448  run                      INFO    run: \u001b[0m\u001b[91m  - Downloading symfony/string (v5.4.26)\n",
      "INFO:__main__:2023-08-30 00:38:29,449  run                      INFO    run: \u001b[0m\u001b[91m  - Downloading psr/container (1.1.1)\n",
      "INFO:__main__:2023-08-30 00:38:29,449  run                      INFO    run: \u001b[0m\u001b[91m  - Downloading symfony/service-contracts (v2.5.2)\n",
      "INFO:__main__:2023-08-30 00:38:29,449  run                      INFO    run: \u001b[0m\u001b[91m  - Downloading symfony/console (v5.4.28)\n",
      "INFO:__main__:2023-08-30 00:38:29,449  run                      INFO    run: \u001b[0m\u001b[91m  - Downloading symfony/polyfill-iconv (v1.28.0)\n",
      "INFO:__main__:2023-08-30 00:38:29,449  run                      INFO    run: \u001b[0m\u001b[91m  - Downloading doctrine/lexer (1.2.3)\n",
      "INFO:__main__:2023-08-30 00:38:29,450  run                      INFO    run: \u001b[0m\u001b[91m  - Downloading egulias/email-validator (2.1.25)\n",
      "INFO:__main__:2023-08-30 00:38:29,450  run                      INFO    run: \u001b[0m\u001b[91m  - Downloading swiftmailer/swiftmailer (v6.3.0)\n",
      "INFO:__main__:2023-08-30 00:38:29,450  run                      INFO    run: \u001b[0m\u001b[91m  - Downloading symfony/polyfill-php81 (v1.28.0)\n",
      "INFO:__main__:2023-08-30 00:38:29,450  run                      INFO    run: \u001b[0m\u001b[91m  - Downloading ramsey/collection (1.2.2)\n",
      "INFO:__main__:2023-08-30 00:38:29,451  run                      INFO    run: \u001b[0m\u001b[91m  - Downloading brick/math (0.9.3)\n",
      "INFO:__main__:2023-08-30 00:38:29,451  run                      INFO    run: \u001b[0m\u001b[91m  - Downloading ramsey/uuid (4.2.3)\n",
      "INFO:__main__:2023-08-30 00:38:29,451  run                      INFO    run: \u001b[0m\u001b[91m  - Downloading psr/simple-cache (1.0.1)\n",
      "INFO:__main__:2023-08-30 00:38:29,451  run                      INFO    run: \u001b[0m\u001b[91m  - Downloading opis/closure (3.6.3)\n",
      "INFO:__main__:2023-08-30 00:38:29,452  run                      INFO    run: \u001b[0m\u001b[91m  - Downloading symfony/translation-contracts (v2.5.2)\n",
      "INFO:__main__:2023-08-30 00:38:29,452  run                      INFO    run: \u001b[0m\u001b[91m  - Downloading symfony/translation (v5.4.24)\n",
      "INFO:__main__:2023-08-30 00:38:29,452  run                      INFO    run: \u001b[0m\u001b[91m  - Downloading psr/clock (1.0.0)\n",
      "INFO:__main__:2023-08-30 00:38:29,452  run                      INFO    run: \u001b[0m\u001b[91m  - Downloading nesbot/carbon (2.69.0)\n",
      "INFO:__main__:2023-08-30 00:38:29,452  run                      INFO    run: \u001b[0m\u001b[91m  - Downloading monolog/monolog (2.9.1)\n",
      "INFO:__main__:2023-08-30 00:38:29,453  run                      INFO    run: \u001b[0m\u001b[91m  - Downloading league/mime-type-detection (1.12.0)\n",
      "INFO:__main__:2023-08-30 00:38:29,453  run                      INFO    run: \u001b[0m\u001b[91m  - Downloading league/flysystem (1.1.10)\n",
      "INFO:__main__:2023-08-30 00:38:29,453  run                      INFO    run: \u001b[0m\u001b[91m  - Downloading league/commonmark (1.6.7)\n",
      "INFO:__main__:2023-08-30 00:38:29,453  run                      INFO    run: \u001b[0m\u001b[91m  - Downloading laravel/serializable-closure (v1.3.1)\n",
      "INFO:__main__:2023-08-30 00:38:29,454  run                      INFO    run: \u001b[0m\u001b[91m  - Downloading webmozart/assert (1.11.0)\n",
      "INFO:__main__:2023-08-30 00:38:29,454  run                      INFO    run: \u001b[0m\u001b[91m  - Downloading dragonmantank/cron-expression (v3.3.3)\n",
      "INFO:__main__:2023-08-30 00:38:29,454  run                      INFO    run: \u001b[0m\u001b[91m  - Downloading doctrine/inflector (2.0.8)\n",
      "INFO:__main__:2023-08-30 00:38:29,454  run                      INFO    run: \u001b[0m\u001b[91m  - Downloading laravel/framework (v8.83.27)\n",
      "INFO:__main__:2023-08-30 00:38:29,454  run                      INFO    run: \u001b[0m\u001b[91m  - Downloading psr/http-message (2.0)\n",
      "INFO:__main__:2023-08-30 00:38:29,455  run                      INFO    run: \u001b[0m\u001b[91m  - Downloading psr/http-client (1.0.2)\n",
      "INFO:__main__:2023-08-30 00:38:29,455  run                      INFO    run: \u001b[0m\u001b[91m  - Downloading ralouphie/getallheaders (3.0.3)\n",
      "INFO:__main__:2023-08-30 00:38:29,455  run                      INFO    run: \u001b[0m\u001b[91m  - Downloading psr/http-factory (1.0.2)\n",
      "INFO:__main__:2023-08-30 00:38:29,455  run                      INFO    run: \u001b[0m\u001b[91m  - Downloading guzzlehttp/psr7 (2.6.1)\n",
      "INFO:__main__:2023-08-30 00:38:29,455  run                      INFO    run: \u001b[0m\u001b[91m  - Downloading guzzlehttp/promises (2.0.1)\n",
      "INFO:__main__:2023-08-30 00:38:29,456  run                      INFO    run: \u001b[0m\u001b[91m  - Downloading guzzlehttp/guzzle (7.8.0)\n",
      "INFO:__main__:2023-08-30 00:38:29,456  run                      INFO    run: \u001b[0m\u001b[91m  - Downloading araneadev/laravel-electrum (dev-local-e 92e5c41)\n",
      "INFO:__main__:2023-08-30 00:38:29,456  run                      INFO    run: \u001b[0m\u001b[91m  - Downloading fakerphp/faker (v1.20.0)\n",
      "INFO:__main__:2023-08-30 00:38:29,456  run                      INFO    run: \u001b[0m\u001b[91m  - Downloading fideloper/proxy (4.4.2)\n",
      "INFO:__main__:2023-08-30 00:38:29,457  run                      INFO    run: \u001b[0m\u001b[91m  - Downloading asm89/stack-cors (v2.1.1)\n",
      "INFO:__main__:2023-08-30 00:38:29,457  run                      INFO    run: \u001b[0m\u001b[91m  - Downloading fruitcake/laravel-cors (v2.2.0)\n",
      "INFO:__main__:2023-08-30 00:38:29,457  run                      INFO    run: \u001b[0m\u001b[91m  - Downloading laravel/sanctum (v2.15.1)\n",
      "INFO:__main__:2023-08-30 00:38:29,457  run                      INFO    run: \u001b[0m\u001b[91m  - Downloading nikic/php-parser (v4.17.1)\n",
      "INFO:__main__:2023-08-30 00:38:29,457  run                      INFO    run: \u001b[0m\u001b[91m  - Downloading psy/psysh (v0.11.20)\n",
      "INFO:__main__:2023-08-30 00:38:29,458  run                      INFO    run: \u001b[0m\u001b[91m  - Downloading laravel/tinker (v2.8.2)\n",
      "INFO:__main__:2023-08-30 00:38:29,458  run                      INFO    run: \u001b[0m\u001b[91m  - Downloading laravel/ui (v3.4.6)\n",
      "INFO:__main__:2023-08-30 00:38:29,458  run                      INFO    run: \u001b[0m\u001b[91m  - Downloading hamcrest/hamcrest-php (v2.0.1)\n",
      "INFO:__main__:2023-08-30 00:38:29,458  run                      INFO    run: \u001b[0m\u001b[91m  - Downloading mockery/mockery (1.6.6)\n",
      "INFO:__main__:2023-08-30 00:38:29,459  run                      INFO    run: \u001b[0m\u001b[91m  - Downloading sebastian/version (3.0.2)\n",
      "INFO:__main__:2023-08-30 00:38:29,459  run                      INFO    run: \u001b[0m\u001b[91m  - Downloading sebastian/type (3.2.1)\n",
      "INFO:__main__:2023-08-30 00:38:29,459  run                      INFO    run: \u001b[0m\u001b[91m  - Downloading sebastian/resource-operations (3.0.3)\n",
      "INFO:__main__:2023-08-30 00:38:29,459  run                      INFO    run: \u001b[0m\u001b[91m  - Downloading sebastian/recursion-context (4.0.5)\n",
      "INFO:__main__:2023-08-30 00:38:29,459  run                      INFO    run: \u001b[0m\u001b[91m  - Downloading sebastian/object-reflector (2.0.4)\n",
      "INFO:__main__:2023-08-30 00:38:29,460  run                      INFO    run: \u001b[0m\u001b[91m  - Downloading sebastian/object-enumerator (4.0.4)\n",
      "INFO:__main__:2023-08-30 00:38:29,460  run                      INFO    run: \u001b[0m\u001b[91m  - Downloading sebastian/global-state (5.0.6)\n",
      "INFO:__main__:2023-08-30 00:38:29,460  run                      INFO    run: \u001b[0m\u001b[91m  - Downloading sebastian/exporter (4.0.5)\n",
      "INFO:__main__:2023-08-30 00:38:29,460  run                      INFO    run: \u001b[0m\u001b[91m  - Downloading sebastian/environment (5.1.5)\n",
      "INFO:__main__:2023-08-30 00:38:29,461  run                      INFO    run: \u001b[0m\u001b[91m  - Downloading sebastian/diff (4.0.5)\n",
      "INFO:__main__:2023-08-30 00:38:29,461  run                      INFO    run: \u001b[0m\u001b[91m  - Downloading sebastian/comparator (4.0.8)\n",
      "INFO:__main__:2023-08-30 00:38:29,461  run                      INFO    run: \u001b[0m\u001b[91m  - Downloading sebastian/code-unit (1.0.8)\n",
      "INFO:__main__:2023-08-30 00:38:29,461  run                      INFO    run: \u001b[0m\u001b[91m  - Downloading sebastian/cli-parser (1.0.1)\n",
      "INFO:__main__:2023-08-30 00:38:29,461  run                      INFO    run: \u001b[0m\u001b[91m  - Downloading phpunit/php-timer (5.0.3)\n",
      "INFO:__main__:2023-08-30 00:38:29,462  run                      INFO    run: \u001b[0m\u001b[91m  - Downloading phpunit/php-text-template (2.0.4)\n",
      "INFO:__main__:2023-08-30 00:38:29,462  run                      INFO    run: \u001b[0m\u001b[91m  - Downloading phpunit/php-invoker (3.1.1)\n",
      "INFO:__main__:2023-08-30 00:38:29,462  run                      INFO    run: \u001b[0m\u001b[91m  - Downloading phpunit/php-file-iterator (3.0.6)\n",
      "INFO:__main__:2023-08-30 00:38:29,462  run                      INFO    run: \u001b[0m\u001b[91m  - Downloading theseer/tokenizer (1.2.1)\n",
      "INFO:__main__:2023-08-30 00:38:29,462  run                      INFO    run: \u001b[0m\u001b[91m  - Downloading sebastian/lines-of-code (1.0.3)\n",
      "INFO:__main__:2023-08-30 00:38:29,463  run                      INFO    run: \u001b[0m\u001b[91m  - Downloading sebastian/complexity (2.0.2)\n",
      "INFO:__main__:2023-08-30 00:38:29,463  run                      INFO    run: \u001b[0m\u001b[91m  - Downloading sebastian/code-unit-reverse-lookup (2.0.3)\n",
      "INFO:__main__:2023-08-30 00:38:29,463  run                      INFO    run: \u001b[0m\u001b[91m  - Downloading phpunit/php-code-coverage (9.2.27)\n",
      "INFO:__main__:2023-08-30 00:38:29,463  run                      INFO    run: \u001b[0m\u001b[91m  - Downloading phar-io/version (3.2.1)\n",
      "INFO:__main__:2023-08-30 00:38:29,463  run                      INFO    run: \u001b[0m\u001b[91m  - Downloading phar-io/manifest (2.0.3)\n",
      "INFO:__main__:2023-08-30 00:38:29,464  run                      INFO    run: \u001b[0m\u001b[91m  - Downloading myclabs/deep-copy (1.11.1)\n",
      "INFO:__main__:2023-08-30 00:38:29,464  run                      INFO    run: \u001b[0m\u001b[91m  - Downloading doctrine/instantiator (1.5.0)\n",
      "INFO:__main__:2023-08-30 00:38:29,464  run                      INFO    run: \u001b[0m\u001b[91m  - Downloading phpunit/phpunit (9.6.11)\n",
      "INFO:__main__:2023-08-30 00:38:34,505  run                      INFO    run: \u001b[0m\u001b[91m   0/100 [>---------------------------]   0% < 1 sec/< 1 sec\u001b[0m\u001b[91m\n",
      "INFO:__main__:2023-08-30 00:38:34,604  run                      INFO    run:    5/100 [=>--------------------------]   5% 5 secs/1 min \u001b[0m\u001b[91m\n",
      "INFO:__main__:2023-08-30 00:38:34,842  run                      INFO    run:   50/100 [==============>-------------]  50% 5 secs/10 secs\u001b[0m\u001b[91m\n",
      "INFO:__main__:2023-08-30 00:38:34,874  run                      INFO    run:   99/100 [===========================>]  99% 5 secs/5 secs\u001b[0m\u001b[91m\n",
      "INFO:__main__:2023-08-30 00:38:34,874  run                      INFO    run:  100/100 [============================] 100% 5 secs/5 secs\u001b[0m\u001b[91m\n",
      "INFO:__main__:2023-08-30 00:38:34,875  run                      INFO    run: \u001b[0m\u001b[91m  - Installing voku/portable-ascii (1.6.1): Extracting archive\n",
      "INFO:__main__:2023-08-30 00:38:34,881  run                      INFO    run: \u001b[0m\u001b[91m  - Installing symfony/polyfill-php80 (v1.28.0): Extracting archive\n",
      "INFO:__main__:2023-08-30 00:38:34,883  run                      INFO    run: \u001b[0m\u001b[91m  - Installing symfony/polyfill-mbstring (v1.28.0): Extracting archive\n",
      "INFO:__main__:2023-08-30 00:38:34,885  run                      INFO    run: \u001b[0m\u001b[91m  - Installing symfony/polyfill-ctype (v1.28.0): Extracting archive\n",
      "INFO:__main__:2023-08-30 00:38:34,899  run                      INFO    run: \u001b[0m\u001b[91m  - Installing phpoption/phpoption (1.9.1): Extracting archive\n",
      "INFO:__main__:2023-08-30 00:38:34,904  run                      INFO    run: \u001b[0m\u001b[91m  - Installing graham-campbell/result-type (v1.1.1): Extracting archive\n",
      "INFO:__main__:2023-08-30 00:38:34,907  run                      INFO    run: \u001b[0m\u001b[91m  - Installing vlucas/phpdotenv (v5.5.0): Extracting archive\n",
      "INFO:__main__:2023-08-30 00:38:34,911  run                      INFO    run: \u001b[0m\u001b[91m  - Installing symfony/css-selector (v5.4.26): Extracting archive\n",
      "INFO:__main__:2023-08-30 00:38:34,916  run                      INFO    run: \u001b[0m\u001b[91m  - Installing tijsverkoyen/css-to-inline-styles (2.2.6): Extracting archive\n",
      "INFO:__main__:2023-08-30 00:38:34,921  run                      INFO    run: \u001b[0m\u001b[91m  - Installing symfony/var-dumper (v5.4.28): Extracting archive\n",
      "INFO:__main__:2023-08-30 00:38:34,930  run                      INFO    run: \u001b[0m\u001b[91m  - Installing symfony/deprecation-contracts (v2.5.2): Extracting archive\n",
      "INFO:__main__:2023-08-30 00:38:34,938  run                      INFO    run: \u001b[0m\u001b[91m  - Installing symfony/routing (v5.4.26): Extracting archive\n",
      "INFO:__main__:2023-08-30 00:38:34,940  run                      INFO    run: \u001b[0m\u001b[91m  - Installing symfony/process (v5.4.28): Extracting archive\n",
      "INFO:__main__:2023-08-30 00:38:34,942  run                      INFO    run: \u001b[0m\u001b[91m  - Installing symfony/polyfill-php72 (v1.28.0): Extracting archive\n",
      "INFO:__main__:2023-08-30 00:38:34,942  run                      INFO    run: \u001b[0m\u001b[91m  - Installing symfony/polyfill-intl-normalizer (v1.28.0): Extracting archive\n",
      "INFO:__main__:2023-08-30 00:38:34,943  run                      INFO    run: \u001b[0m\u001b[91m  - Installing symfony/polyfill-intl-idn (v1.28.0): Extracting archive\n",
      "INFO:__main__:2023-08-30 00:38:34,943  run                      INFO    run: \u001b[0m\u001b[91m  - Installing symfony/mime (v5.4.26): Extracting archive\n",
      "INFO:__main__:2023-08-30 00:38:34,943  run                      INFO    run: \u001b[0m\u001b[91m  - Installing symfony/polyfill-php73 (v1.28.0): Extracting archive\n",
      "INFO:__main__:2023-08-30 00:38:34,949  run                      INFO    run: \u001b[0m\u001b[91m  - Installing symfony/http-foundation (v5.4.28): Extracting archive\n",
      "INFO:__main__:2023-08-30 00:38:34,949  run                      INFO    run: \u001b[0m\u001b[91m  - Installing psr/event-dispatcher (1.0.0): Extracting archive\n",
      "INFO:__main__:2023-08-30 00:38:34,950  run                      INFO    run: \u001b[0m\u001b[91m  - Installing symfony/event-dispatcher-contracts (v2.5.2): Extracting archive\n",
      "INFO:__main__:2023-08-30 00:38:34,950  run                      INFO    run: \u001b[0m\u001b[91m  - Installing symfony/event-dispatcher (v5.4.26): Extracting archive\n",
      "INFO:__main__:2023-08-30 00:38:34,950  run                      INFO    run: \u001b[0m\u001b[91m  - Installing psr/log (1.1.4): Extracting archive\n",
      "INFO:__main__:2023-08-30 00:38:34,951  run                      INFO    run: \u001b[0m\u001b[91m  - Installing symfony/error-handler (v5.4.26): Extracting archive\n",
      "INFO:__main__:2023-08-30 00:38:34,951  run                      INFO    run: \u001b[0m\u001b[91m  - Installing symfony/http-kernel (v5.4.28): Extracting archive\n",
      "INFO:__main__:2023-08-30 00:38:34,951  run                      INFO    run: \u001b[0m\u001b[91m  - Installing symfony/finder (v5.4.27): Extracting archive\n",
      "INFO:__main__:2023-08-30 00:38:34,952  run                      INFO    run: \u001b[0m\u001b[91m  - Installing symfony/polyfill-intl-grapheme (v1.28.0): Extracting archive\n",
      "INFO:__main__:2023-08-30 00:38:34,952  run                      INFO    run: \u001b[0m\u001b[91m  - Installing symfony/string (v5.4.26): Extracting archive\n",
      "INFO:__main__:2023-08-30 00:38:34,952  run                      INFO    run: \u001b[0m\u001b[91m  - Installing psr/container (1.1.1): Extracting archive\n",
      "INFO:__main__:2023-08-30 00:38:34,953  run                      INFO    run: \u001b[0m\u001b[91m  - Installing symfony/service-contracts (v2.5.2): Extracting archive\n",
      "INFO:__main__:2023-08-30 00:38:34,953  run                      INFO    run: \u001b[0m\u001b[91m  - Installing symfony/console (v5.4.28): Extracting archive\n",
      "INFO:__main__:2023-08-30 00:38:34,953  run                      INFO    run: \u001b[0m\u001b[91m  - Installing symfony/polyfill-iconv (v1.28.0): Extracting archive\n",
      "INFO:__main__:2023-08-30 00:38:34,954  run                      INFO    run: \u001b[0m\u001b[91m  - Installing doctrine/lexer (1.2.3): Extracting archive\n",
      "INFO:__main__:2023-08-30 00:38:34,954  run                      INFO    run: \u001b[0m\u001b[91m  - Installing egulias/email-validator (2.1.25): Extracting archive\n",
      "INFO:__main__:2023-08-30 00:38:34,954  run                      INFO    run: \u001b[0m\u001b[91m  - Installing swiftmailer/swiftmailer (v6.3.0): Extracting archive\n",
      "INFO:__main__:2023-08-30 00:38:34,955  run                      INFO    run: \u001b[0m\u001b[91m  - Installing symfony/polyfill-php81 (v1.28.0): Extracting archive\n",
      "INFO:__main__:2023-08-30 00:38:34,955  run                      INFO    run: \u001b[0m\u001b[91m  - Installing ramsey/collection (1.2.2): Extracting archive\n",
      "INFO:__main__:2023-08-30 00:38:34,955  run                      INFO    run: \u001b[0m\u001b[91m  - Installing brick/math (0.9.3): Extracting archive\n",
      "INFO:__main__:2023-08-30 00:38:34,956  run                      INFO    run: \u001b[0m\u001b[91m  - Installing ramsey/uuid (4.2.3): Extracting archive\n",
      "INFO:__main__:2023-08-30 00:38:34,958  run                      INFO    run: \u001b[0m\u001b[91m  - Installing psr/simple-cache (1.0.1): Extracting archive\n",
      "INFO:__main__:2023-08-30 00:38:34,958  run                      INFO    run: \u001b[0m\u001b[91m  - Installing opis/closure (3.6.3): Extracting archive\n",
      "INFO:__main__:2023-08-30 00:38:34,958  run                      INFO    run: \u001b[0m\u001b[91m  - Installing symfony/translation-contracts (v2.5.2): Extracting archive\n",
      "INFO:__main__:2023-08-30 00:38:34,958  run                      INFO    run: \u001b[0m\u001b[91m  - Installing symfony/translation (v5.4.24): Extracting archive\n",
      "INFO:__main__:2023-08-30 00:38:34,959  run                      INFO    run: \u001b[0m\u001b[91m  - Installing psr/clock (1.0.0): Extracting archive\n",
      "INFO:__main__:2023-08-30 00:38:34,959  run                      INFO    run: \u001b[0m\u001b[91m  - Installing nesbot/carbon (2.69.0): Extracting archive\n",
      "INFO:__main__:2023-08-30 00:38:34,960  run                      INFO    run: \u001b[0m\u001b[91m  - Installing monolog/monolog (2.9.1): Extracting archive\n",
      "INFO:__main__:2023-08-30 00:38:34,960  run                      INFO    run: \u001b[0m\u001b[91m  - Installing league/mime-type-detection (1.12.0): Extracting archive\n",
      "INFO:__main__:2023-08-30 00:38:34,960  run                      INFO    run: \u001b[0m\u001b[91m  - Installing league/flysystem (1.1.10): Extracting archive\n",
      "INFO:__main__:2023-08-30 00:38:34,961  run                      INFO    run: \u001b[0m\u001b[91m  - Installing league/commonmark (1.6.7): Extracting archive\n",
      "INFO:__main__:2023-08-30 00:38:34,961  run                      INFO    run: \u001b[0m\u001b[91m  - Installing laravel/serializable-closure (v1.3.1): Extracting archive\n",
      "INFO:__main__:2023-08-30 00:38:34,961  run                      INFO    run: \u001b[0m\u001b[91m  - Installing webmozart/assert (1.11.0): Extracting archive\n",
      "INFO:__main__:2023-08-30 00:38:34,962  run                      INFO    run: \u001b[0m\u001b[91m  - Installing dragonmantank/cron-expression (v3.3.3): Extracting archive\n",
      "INFO:__main__:2023-08-30 00:38:34,962  run                      INFO    run: \u001b[0m\u001b[91m  - Installing doctrine/inflector (2.0.8): Extracting archive\n",
      "INFO:__main__:2023-08-30 00:38:34,962  run                      INFO    run: \u001b[0m\u001b[91m  - Installing laravel/framework (v8.83.27): Extracting archive\n",
      "INFO:__main__:2023-08-30 00:38:34,963  run                      INFO    run: \u001b[0m\u001b[91m  - Installing psr/http-message (2.0): Extracting archive\n",
      "INFO:__main__:2023-08-30 00:38:34,963  run                      INFO    run: \u001b[0m\u001b[91m  - Installing psr/http-client (1.0.2): Extracting archive\n",
      "INFO:__main__:2023-08-30 00:38:34,963  run                      INFO    run: \u001b[0m\u001b[91m  - Installing ralouphie/getallheaders (3.0.3): Extracting archive\n",
      "INFO:__main__:2023-08-30 00:38:34,964  run                      INFO    run: \u001b[0m\u001b[91m  - Installing psr/http-factory (1.0.2): Extracting archive\n",
      "INFO:__main__:2023-08-30 00:38:34,964  run                      INFO    run: \u001b[0m\u001b[91m  - Installing guzzlehttp/psr7 (2.6.1): Extracting archive\n",
      "INFO:__main__:2023-08-30 00:38:34,964  run                      INFO    run: \u001b[0m\u001b[91m  - Installing guzzlehttp/promises (2.0.1): Extracting archive\n",
      "INFO:__main__:2023-08-30 00:38:34,965  run                      INFO    run: \u001b[0m\u001b[91m  - Installing guzzlehttp/guzzle (7.8.0): Extracting archive\n",
      "INFO:__main__:2023-08-30 00:38:34,965  run                      INFO    run: \u001b[0m\u001b[91m  - Installing araneadev/laravel-electrum (dev-local-e 92e5c41): Extracting archive\n",
      "INFO:__main__:2023-08-30 00:38:34,965  run                      INFO    run: \u001b[0m\u001b[91m  - Installing fakerphp/faker (v1.20.0): Extracting archive\n",
      "INFO:__main__:2023-08-30 00:38:34,966  run                      INFO    run: \u001b[0m\u001b[91m  - Installing fideloper/proxy (4.4.2): Extracting archive\n",
      "INFO:__main__:2023-08-30 00:38:34,966  run                      INFO    run: \u001b[0m\u001b[91m  - Installing asm89/stack-cors (v2.1.1): Extracting archive\n",
      "INFO:__main__:2023-08-30 00:38:34,966  run                      INFO    run: \u001b[0m\u001b[91m  - Installing fruitcake/laravel-cors (v2.2.0): Extracting archive\n",
      "INFO:__main__:2023-08-30 00:38:34,967  run                      INFO    run: \u001b[0m\u001b[91m  - Installing laravel/sanctum (v2.15.1): Extracting archive\n",
      "INFO:__main__:2023-08-30 00:38:34,967  run                      INFO    run: \u001b[0m\u001b[91m  - Installing nikic/php-parser (v4.17.1): Extracting archive\n",
      "INFO:__main__:2023-08-30 00:38:34,967  run                      INFO    run: \u001b[0m\u001b[91m  - Installing psy/psysh (v0.11.20): Extracting archive\n",
      "INFO:__main__:2023-08-30 00:38:34,968  run                      INFO    run: \u001b[0m\u001b[91m  - Installing laravel/tinker (v2.8.2): Extracting archive\n",
      "INFO:__main__:2023-08-30 00:38:34,968  run                      INFO    run: \u001b[0m\u001b[91m  - Installing laravel/ui (v3.4.6): Extracting archive\n",
      "INFO:__main__:2023-08-30 00:38:34,968  run                      INFO    run: \u001b[0m\u001b[91m  - Installing hamcrest/hamcrest-php (v2.0.1): Extracting archive\n",
      "INFO:__main__:2023-08-30 00:38:34,968  run                      INFO    run: \u001b[0m\u001b[91m  - Installing mockery/mockery (1.6.6): Extracting archive\n",
      "INFO:__main__:2023-08-30 00:38:34,969  run                      INFO    run: \u001b[0m\u001b[91m  - Installing sebastian/version (3.0.2): Extracting archive\n",
      "INFO:__main__:2023-08-30 00:38:34,969  run                      INFO    run: \u001b[0m\u001b[91m  - Installing sebastian/type (3.2.1): Extracting archive\n",
      "INFO:__main__:2023-08-30 00:38:34,969  run                      INFO    run: \u001b[0m\u001b[91m  - Installing sebastian/resource-operations (3.0.3): Extracting archive\n",
      "INFO:__main__:2023-08-30 00:38:34,970  run                      INFO    run: \u001b[0m\u001b[91m  - Installing sebastian/recursion-context (4.0.5): Extracting archive\n",
      "INFO:__main__:2023-08-30 00:38:34,970  run                      INFO    run: \u001b[0m\u001b[91m  - Installing sebastian/object-reflector (2.0.4): Extracting archive\n",
      "INFO:__main__:2023-08-30 00:38:34,970  run                      INFO    run: \u001b[0m\u001b[91m  - Installing sebastian/object-enumerator (4.0.4): Extracting archive\n",
      "INFO:__main__:2023-08-30 00:38:34,971  run                      INFO    run: \u001b[0m\u001b[91m  - Installing sebastian/global-state (5.0.6): Extracting archive\n",
      "INFO:__main__:2023-08-30 00:38:34,971  run                      INFO    run: \u001b[0m\u001b[91m  - Installing sebastian/exporter (4.0.5): Extracting archive\n",
      "INFO:__main__:2023-08-30 00:38:34,971  run                      INFO    run: \u001b[0m\u001b[91m  - Installing sebastian/environment (5.1.5): Extracting archive\n",
      "INFO:__main__:2023-08-30 00:38:34,972  run                      INFO    run: \u001b[0m\u001b[91m  - Installing sebastian/diff (4.0.5): Extracting archive\n",
      "INFO:__main__:2023-08-30 00:38:34,972  run                      INFO    run: \u001b[0m\u001b[91m  - Installing sebastian/comparator (4.0.8): Extracting archive\n",
      "INFO:__main__:2023-08-30 00:38:34,972  run                      INFO    run: \u001b[0m\u001b[91m  - Installing sebastian/code-unit (1.0.8): Extracting archive\n",
      "INFO:__main__:2023-08-30 00:38:34,973  run                      INFO    run: \u001b[0m\u001b[91m  - Installing sebastian/cli-parser (1.0.1): Extracting archive\n",
      "INFO:__main__:2023-08-30 00:38:34,973  run                      INFO    run: \u001b[0m\u001b[91m  - Installing phpunit/php-timer (5.0.3): Extracting archive\n",
      "INFO:__main__:2023-08-30 00:38:34,973  run                      INFO    run: \u001b[0m\u001b[91m  - Installing phpunit/php-text-template (2.0.4): Extracting archive\n",
      "INFO:__main__:2023-08-30 00:38:34,974  run                      INFO    run: \u001b[0m\u001b[91m  - Installing phpunit/php-invoker (3.1.1): Extracting archive\n",
      "INFO:__main__:2023-08-30 00:38:34,974  run                      INFO    run: \u001b[0m\u001b[91m  - Installing phpunit/php-file-iterator (3.0.6): Extracting archive\n",
      "INFO:__main__:2023-08-30 00:38:34,974  run                      INFO    run: \u001b[0m\u001b[91m  - Installing theseer/tokenizer (1.2.1): Extracting archive\n",
      "INFO:__main__:2023-08-30 00:38:34,975  run                      INFO    run: \u001b[0m\u001b[91m  - Installing sebastian/lines-of-code (1.0.3): Extracting archive\n",
      "INFO:__main__:2023-08-30 00:38:34,975  run                      INFO    run: \u001b[0m\u001b[91m  - Installing sebastian/complexity (2.0.2): Extracting archive\n",
      "INFO:__main__:2023-08-30 00:38:34,975  run                      INFO    run: \u001b[0m\u001b[91m  - Installing sebastian/code-unit-reverse-lookup (2.0.3): Extracting archive\n",
      "INFO:__main__:2023-08-30 00:38:34,975  run                      INFO    run: \u001b[0m\u001b[91m  - Installing phpunit/php-code-coverage (9.2.27): Extracting archive\n",
      "INFO:__main__:2023-08-30 00:38:34,976  run                      INFO    run: \u001b[0m\u001b[91m  - Installing phar-io/version (3.2.1): Extracting archive\n",
      "INFO:__main__:2023-08-30 00:38:34,976  run                      INFO    run: \u001b[0m\u001b[91m  - Installing phar-io/manifest (2.0.3): Extracting archive\n",
      "INFO:__main__:2023-08-30 00:38:34,976  run                      INFO    run: \u001b[0m\u001b[91m  - Installing myclabs/deep-copy (1.11.1): Extracting archive\n",
      "INFO:__main__:2023-08-30 00:38:34,977  run                      INFO    run: \u001b[0m\u001b[91m  - Installing doctrine/instantiator (1.5.0): Extracting archive\n",
      "INFO:__main__:2023-08-30 00:38:34,977  run                      INFO    run: \u001b[0m\u001b[91m  - Installing phpunit/phpunit (9.6.11): Extracting archive\n",
      "INFO:__main__:2023-08-30 00:38:35,153  run                      INFO    run: \u001b[0m\u001b[91m   0/100 [>---------------------------]   0% < 1 sec/< 1 sec\u001b[0m\u001b[91m\n",
      "INFO:__main__:2023-08-30 00:38:35,371  run                      INFO    run:   20/100 [=====>----------------------]  20% < 1 sec/< 1 sec\u001b[0m\u001b[91m\n",
      "INFO:__main__:2023-08-30 00:38:35,530  run                      INFO    run:   30/100 [========>-------------------]  30% < 1 sec/< 1 sec\u001b[0m\u001b[91m\n",
      "INFO:__main__:2023-08-30 00:38:35,775  run                      INFO    run:   40/100 [===========>----------------]  40% < 1 sec/< 1 sec\u001b[0m\u001b[91m\n",
      "INFO:__main__:2023-08-30 00:38:36,096  run                      INFO    run:   55/100 [===============>------------]  55% < 1 sec/< 1 sec\u001b[0m\u001b[91m\n",
      "INFO:__main__:2023-08-30 00:38:36,231  run                      INFO    run:   64/100 [=================>----------]  64%  1 sec/2 secs\u001b[0m\u001b[91m\n",
      "INFO:__main__:2023-08-30 00:38:36,357  run                      INFO    run:   70/100 [===================>--------]  70%  1 sec/1 sec \u001b[0m\u001b[91m\n",
      "INFO:__main__:2023-08-30 00:38:36,501  run                      INFO    run:   80/100 [======================>-----]  80%  1 sec/1 sec \u001b[0m\u001b[91m\n",
      "INFO:__main__:2023-08-30 00:38:36,636  run                      INFO    run:   90/100 [=========================>--]  90%  1 sec/1 sec \u001b[0m\u001b[91m\n",
      "INFO:__main__:2023-08-30 00:38:36,637  run                      INFO    run:  100/100 [============================] 100%  1 sec/1 sec \u001b[0m\u001b[91m\n",
      "INFO:__main__:2023-08-30 00:38:36,852  run                      INFO    run: \u001b[0m\u001b[91m73 package suggestions were added by new dependencies, use `composer suggest` to see details.\n",
      "INFO:__main__:2023-08-30 00:38:36,855  run                      INFO    run: \u001b[0m\u001b[91mPackage fruitcake/laravel-cors is abandoned, you should avoid using it. No replacement was suggested.\n",
      "INFO:__main__:2023-08-30 00:38:36,855  run                      INFO    run: \u001b[0m\u001b[91mPackage swiftmailer/swiftmailer is abandoned, you should avoid using it. Use symfony/mailer instead.\n",
      "INFO:__main__:2023-08-30 00:38:36,856  run                      INFO    run: \u001b[0m\u001b[91mGenerating optimized autoload files\n",
      "INFO:__main__:2023-08-30 00:38:39,355  run                      INFO    run: \u001b[0m\u001b[91m73 packages you are using are looking for funding.\n",
      "INFO:__main__:2023-08-30 00:38:39,355  run                      INFO    run: \u001b[0m\u001b[91mUse the `composer fund` command to find out more!\n",
      "INFO:__main__:2023-08-30 00:38:39,575  run                      INFO    run: \u001b[0m\u001b[91m> post-update-cmd: Illuminate\\Foundation\\ComposerScripts::postUpdate\n",
      "INFO:__main__:2023-08-30 00:38:39,615  run                      INFO    run: \u001b[0m\u001b[91m> post-update-cmd: php artisan optimize\n",
      "INFO:__main__:2023-08-30 00:38:39,734  run                      INFO    run: \u001b[0mConfiguration cache cleared!\n",
      "INFO:__main__:2023-08-30 00:38:39,738  run                      INFO    run: Configuration cached successfully!\n",
      "INFO:__main__:2023-08-30 00:38:39,738  run                      INFO    run: Route cache cleared!\n",
      "INFO:__main__:2023-08-30 00:38:39,742  run                      INFO    run: Routes cached successfully!\n",
      "INFO:__main__:2023-08-30 00:38:39,742  run                      INFO    run: Files cached successfully!\n",
      "INFO:__main__:2023-08-30 00:38:39,880  run                      INFO    run: Vue scaffolding installed successfully.\n",
      "INFO:__main__:2023-08-30 00:38:39,880  run                      INFO    run: Please run \"npm install && npm run dev\" to compile your fresh scaffolding.\n",
      "INFO:__main__:2023-08-30 00:38:39,885  run                      INFO    run: Authentication scaffolding generated successfully.\n",
      "INFO:__main__:2023-08-30 00:38:59,513  run                      INFO    run: \u001b[91mnpm\u001b[0m\u001b[91m \u001b[0m\u001b[91mWARN\u001b[0m\u001b[91m \u001b[0m\u001b[91mdeprecated\u001b[0m\u001b[91m stable@0.1.8: Modern JS already guarantees Array#sort() is a stable sort, so this library is deprecated. See the compatibility table on MDN: https://developer.mozilla.org/en-US/docs/Web/JavaScript/Reference/Global_Objects/Array/sort#browser_compatibility\n",
      "INFO:__main__:2023-08-30 00:38:59,762  run                      INFO    run: \u001b[0m\u001b[91mnpm\u001b[0m\u001b[91m \u001b[0m\u001b[91mWARN\u001b[0m\u001b[91m \u001b[0m\u001b[91mdeprecated\u001b[0m\u001b[91m resolve-url@0.2.1: https://github.com/lydell/resolve-url#deprecated\n",
      "INFO:__main__:2023-08-30 00:38:59,873  run                      INFO    run: \u001b[0m\u001b[91mnpm\u001b[0m\u001b[91m \u001b[0m\u001b[91mWARN\u001b[0m\u001b[91m \u001b[0m\u001b[91mdeprecated\u001b[0m\u001b[91m urix@0.1.0: Please see https://github.com/lydell/urix#deprecated\n",
      "INFO:__main__:2023-08-30 00:38:59,902  run                      INFO    run: \u001b[0m\u001b[91mnpm\u001b[0m\u001b[91m \u001b[0m\u001b[91mWARN\u001b[0m\u001b[91m \u001b[0m\u001b[91mdeprecated\u001b[0m\u001b[91m source-map-url@0.4.1: See https://github.com/lydell/source-map-url#deprecated\n",
      "INFO:__main__:2023-08-30 00:39:01,054  run                      INFO    run: \u001b[0m\u001b[91mnpm\u001b[0m\u001b[91m \u001b[0m\u001b[91mWARN\u001b[0m\u001b[91m \u001b[0m\u001b[91mdeprecated\u001b[0m\u001b[91m source-map-resolve@0.5.3: See https://github.com/lydell/source-map-resolve#deprecated\n",
      "INFO:__main__:2023-08-30 00:39:07,062  run                      INFO    run: \u001b[0m\n",
      "INFO:__main__:2023-08-30 00:39:07,063  run                      INFO    run: added 797 packages, and audited 798 packages in 25s\n",
      "INFO:__main__:2023-08-30 00:39:07,063  run                      INFO    run: \n",
      "INFO:__main__:2023-08-30 00:39:07,063  run                      INFO    run: 83 packages are looking for funding\n",
      "INFO:__main__:2023-08-30 00:39:07,063  run                      INFO    run:   run `npm fund` for details\n",
      "INFO:__main__:2023-08-30 00:39:07,065  run                      INFO    run: \n",
      "INFO:__main__:2023-08-30 00:39:07,065  run                      INFO    run: found 0 vulnerabilities\n",
      "INFO:__main__:2023-08-30 00:39:07,065  run                      INFO    run: \u001b[91mnpm\u001b[0m\u001b[91m \u001b[0m\u001b[91mnotice\u001b[0m\u001b[91m\n",
      "INFO:__main__:2023-08-30 00:39:07,065  run                      INFO    run: \u001b[0m\u001b[91mnpm\u001b[0m\u001b[91m \u001b[0m\u001b[91mnotice\u001b[0m\u001b[91m New major version of npm available! 7.18.1 -> 9.8.1\n",
      "INFO:__main__:2023-08-30 00:39:07,066  run                      INFO    run: \u001b[0m\u001b[91mnpm\u001b[0m\u001b[91m \u001b[0m\u001b[91mnotice\u001b[0m\u001b[91m Changelog: <https://github.com/npm/cli/releases/tag/v9.8.1>\n",
      "INFO:__main__:2023-08-30 00:39:07,066  run                      INFO    run: \u001b[0m\u001b[91mnpm\u001b[0m\u001b[91m \u001b[0m\u001b[91mnotice\u001b[0m\u001b[91m Run `npm install -g npm@9.8.1` to update!\n",
      "INFO:__main__:2023-08-30 00:39:07,066  run                      INFO    run: \u001b[0m\u001b[91mnpm\u001b[0m\u001b[91m \u001b[0m\u001b[91mnotice\u001b[0m\u001b[91m\n",
      "INFO:__main__:2023-08-30 00:39:07,230  run                      INFO    run: \u001b[0mApplication key set successfully.\n",
      "INFO:__main__:2023-08-30 00:39:07,238  run                      INFO    run: base64:tKLQVsYqYyRtFo27W95ygNZYzedzuVCrp/1MX0xb920=\n",
      "INFO:__main__:2023-08-30 00:39:07,242  run                      INFO    run: Secure Bitcoin Wallet on IBM LinuxONE\n",
      "INFO:__main__:2023-08-30 00:39:07,252  run                      INFO    run: 1c1\n",
      "INFO:__main__:2023-08-30 00:39:07,252  run                      INFO    run: < APP_NAME=\"Secure Bitcoin Wallet on IBM LinuxONE\"\n",
      "INFO:__main__:2023-08-30 00:39:07,252  run                      INFO    run: ---\n",
      "INFO:__main__:2023-08-30 00:39:07,252  run                      INFO    run: > APP_NAME=Laravel\n",
      "INFO:__main__:2023-08-30 00:39:07,252  run                      INFO    run: 4c4\n",
      "INFO:__main__:2023-08-30 00:39:07,252  run                      INFO    run: < APP_DEBUG=false\n",
      "INFO:__main__:2023-08-30 00:39:07,252  run                      INFO    run: ---\n",
      "INFO:__main__:2023-08-30 00:39:07,252  run                      INFO    run: > APP_DEBUG=true\n",
      "INFO:__main__:2023-08-30 00:39:07,252  run                      INFO    run: 11,16c11,16\n",
      "INFO:__main__:2023-08-30 00:39:07,252  run                      INFO    run: < DB_CONNECTION=sqlite\n",
      "INFO:__main__:2023-08-30 00:39:07,252  run                      INFO    run: < #DB_HOST=127.0.0.1\n",
      "INFO:__main__:2023-08-30 00:39:07,252  run                      INFO    run: < #DB_PORT=3306\n",
      "INFO:__main__:2023-08-30 00:39:07,252  run                      INFO    run: < DB_DATABASE=/var/www/html/electrum/database/database.sqlite\n",
      "INFO:__main__:2023-08-30 00:39:07,252  run                      INFO    run: < #DB_USERNAME=root\n",
      "INFO:__main__:2023-08-30 00:39:07,252  run                      INFO    run: < #DB_PASSWORD=secret\n",
      "INFO:__main__:2023-08-30 00:39:07,252  run                      INFO    run: ---\n",
      "INFO:__main__:2023-08-30 00:39:07,252  run                      INFO    run: > DB_CONNECTION=mysql\n",
      "INFO:__main__:2023-08-30 00:39:07,252  run                      INFO    run: > DB_HOST=127.0.0.1\n",
      "INFO:__main__:2023-08-30 00:39:07,252  run                      INFO    run: > DB_PORT=3306\n",
      "INFO:__main__:2023-08-30 00:39:07,252  run                      INFO    run: > DB_DATABASE=laravel\n",
      "INFO:__main__:2023-08-30 00:39:07,252  run                      INFO    run: > DB_USERNAME=root\n",
      "INFO:__main__:2023-08-30 00:39:07,252  run                      INFO    run: > DB_PASSWORD=\n",
      "INFO:__main__:2023-08-30 00:39:07,369  run                      INFO    run: Created Migration: 2023_08_30_003907_create_user\n",
      "INFO:__main__:2023-08-30 00:39:11,581  run                      INFO    run: \n",
      "INFO:__main__:2023-08-30 00:39:11,582  run                      INFO    run: up to date, audited 798 packages in 1s\n",
      "INFO:__main__:2023-08-30 00:39:11,582  run                      INFO    run: \n",
      "INFO:__main__:2023-08-30 00:39:11,582  run                      INFO    run: 83 packages are looking for funding\n",
      "INFO:__main__:2023-08-30 00:39:11,582  run                      INFO    run:   run `npm fund` for details\n",
      "INFO:__main__:2023-08-30 00:39:11,583  run                      INFO    run: \n",
      "INFO:__main__:2023-08-30 00:39:11,583  run                      INFO    run: found 0 vulnerabilities\n",
      "INFO:__main__:2023-08-30 00:39:13,255  run                      INFO    run: \n",
      "INFO:__main__:2023-08-30 00:39:13,256  run                      INFO    run: added 5 packages, and audited 803 packages in 2s\n",
      "INFO:__main__:2023-08-30 00:39:13,256  run                      INFO    run: \n",
      "INFO:__main__:2023-08-30 00:39:13,256  run                      INFO    run: 83 packages are looking for funding\n",
      "INFO:__main__:2023-08-30 00:39:13,256  run                      INFO    run:   run `npm fund` for details\n",
      "INFO:__main__:2023-08-30 00:39:13,258  run                      INFO    run: \n",
      "INFO:__main__:2023-08-30 00:39:13,258  run                      INFO    run: found 0 vulnerabilities\n",
      "INFO:__main__:2023-08-30 00:39:14,904  run                      INFO    run: \n",
      "INFO:__main__:2023-08-30 00:39:14,904  run                      INFO    run: added 1 package, and audited 804 packages in 2s\n",
      "INFO:__main__:2023-08-30 00:39:14,904  run                      INFO    run: \n",
      "INFO:__main__:2023-08-30 00:39:14,904  run                      INFO    run: 83 packages are looking for funding\n",
      "INFO:__main__:2023-08-30 00:39:14,904  run                      INFO    run:   run `npm fund` for details\n",
      "INFO:__main__:2023-08-30 00:39:14,906  run                      INFO    run: \n",
      "INFO:__main__:2023-08-30 00:39:14,906  run                      INFO    run: found 0 vulnerabilities\n",
      "INFO:__main__:2023-08-30 00:39:16,464  run                      INFO    run: \n",
      "INFO:__main__:2023-08-30 00:39:16,465  run                      INFO    run: added 1 package, and audited 805 packages in 1s\n",
      "INFO:__main__:2023-08-30 00:39:16,465  run                      INFO    run: \n",
      "INFO:__main__:2023-08-30 00:39:16,465  run                      INFO    run: 83 packages are looking for funding\n",
      "INFO:__main__:2023-08-30 00:39:16,465  run                      INFO    run:   run `npm fund` for details\n",
      "INFO:__main__:2023-08-30 00:39:16,467  run                      INFO    run: \n",
      "INFO:__main__:2023-08-30 00:39:16,467  run                      INFO    run: found 0 vulnerabilities\n",
      "INFO:__main__:2023-08-30 00:39:18,400  run                      INFO    run: \n",
      "INFO:__main__:2023-08-30 00:39:18,400  run                      INFO    run: added 2 packages, and audited 807 packages in 2s\n",
      "INFO:__main__:2023-08-30 00:39:18,400  run                      INFO    run: \n",
      "INFO:__main__:2023-08-30 00:39:18,400  run                      INFO    run: 83 packages are looking for funding\n",
      "INFO:__main__:2023-08-30 00:39:18,400  run                      INFO    run:   run `npm fund` for details\n",
      "INFO:__main__:2023-08-30 00:39:18,402  run                      INFO    run: \n",
      "INFO:__main__:2023-08-30 00:39:18,402  run                      INFO    run: found 0 vulnerabilities\n",
      "INFO:__main__:2023-08-30 00:39:20,076  run                      INFO    run: \n",
      "INFO:__main__:2023-08-30 00:39:20,076  run                      INFO    run: added 1 package, and audited 808 packages in 2s\n",
      "INFO:__main__:2023-08-30 00:39:20,076  run                      INFO    run: \n",
      "INFO:__main__:2023-08-30 00:39:20,076  run                      INFO    run: 83 packages are looking for funding\n",
      "INFO:__main__:2023-08-30 00:39:20,076  run                      INFO    run:   run `npm fund` for details\n",
      "INFO:__main__:2023-08-30 00:39:20,078  run                      INFO    run: \n",
      "INFO:__main__:2023-08-30 00:39:20,078  run                      INFO    run: found 0 vulnerabilities\n",
      "INFO:__main__:2023-08-30 00:39:22,386  run                      INFO    run: \u001b[91mnpm\u001b[0m\u001b[91m \u001b[0m\u001b[91mWARN\u001b[0m\u001b[91m \u001b[0m\u001b[91mdeprecated\u001b[0m\u001b[91m popper.js@1.16.1: You can find the new Popper v2 at @popperjs/core, this package is dedicated to the legacy v1\n",
      "INFO:__main__:2023-08-30 00:39:23,601  run                      INFO    run: \u001b[0m\n",
      "INFO:__main__:2023-08-30 00:39:23,601  run                      INFO    run: added 11 packages, and audited 819 packages in 3s\n",
      "INFO:__main__:2023-08-30 00:39:23,601  run                      INFO    run: \n",
      "INFO:__main__:2023-08-30 00:39:23,601  run                      INFO    run: 85 packages are looking for funding\n",
      "INFO:__main__:2023-08-30 00:39:23,601  run                      INFO    run:   run `npm fund` for details\n",
      "INFO:__main__:2023-08-30 00:39:23,603  run                      INFO    run: \n",
      "INFO:__main__:2023-08-30 00:39:23,603  run                      INFO    run: found 0 vulnerabilities\n",
      "INFO:__main__:2023-08-30 00:39:25,667  run                      INFO    run: \u001b[91mnpm\u001b[0m\u001b[91m \u001b[0m\u001b[91mWARN\u001b[0m\u001b[91m \u001b[0m\u001b[91mdeprecated\u001b[0m\u001b[91m consolidate@0.15.1: Please upgrade to consolidate v1.0.0+ as it has been modernized with several long-awaited fixes implemented. Maintenance is supported by Forward Email at https://forwardemail.net ; follow/watch https://github.com/ladjs/consolidate for updates and release changelog\n",
      "INFO:__main__:2023-08-30 00:39:26,150  run                      INFO    run: \u001b[0m\n",
      "INFO:__main__:2023-08-30 00:39:26,150  run                      INFO    run: added 15 packages, removed 1 package, and audited 833 packages in 2s\n",
      "INFO:__main__:2023-08-30 00:39:26,150  run                      INFO    run: \n",
      "INFO:__main__:2023-08-30 00:39:26,150  run                      INFO    run: 87 packages are looking for funding\n",
      "INFO:__main__:2023-08-30 00:39:26,150  run                      INFO    run:   run `npm fund` for details\n",
      "INFO:__main__:2023-08-30 00:39:26,152  run                      INFO    run: \n",
      "INFO:__main__:2023-08-30 00:39:26,152  run                      INFO    run: found 0 vulnerabilities\n",
      "INFO:__main__:2023-08-30 00:39:26,375  run                      INFO    run: \n",
      "INFO:__main__:2023-08-30 00:39:26,375  run                      INFO    run: > dev\n",
      "INFO:__main__:2023-08-30 00:39:26,375  run                      INFO    run: > npm run development\n",
      "INFO:__main__:2023-08-30 00:39:26,375  run                      INFO    run: \n",
      "INFO:__main__:2023-08-30 00:39:26,595  run                      INFO    run: \n",
      "INFO:__main__:2023-08-30 00:39:26,595  run                      INFO    run: > development\n",
      "INFO:__main__:2023-08-30 00:39:26,595  run                      INFO    run: > mix\n",
      "INFO:__main__:2023-08-30 00:39:26,595  run                      INFO    run: \n",
      "INFO:__main__:2023-08-30 00:39:27,811  run                      INFO    run:  Compiling Mix\n",
      "INFO:__main__:2023-08-30 00:39:30,135  run                      INFO    run: \u001b[91mDEPRECATION WARNING: Passing percentage units to the global abs() function is deprecated.\n",
      "INFO:__main__:2023-08-30 00:39:30,136  run                      INFO    run: In the future, this will emit a CSS abs() function to be resolved by the browser.\n",
      "INFO:__main__:2023-08-30 00:39:30,136  run                      INFO    run: To preserve current behavior: math.abs(100%)\n",
      "INFO:__main__:2023-08-30 00:39:30,136  run                      INFO    run: To emit a CSS abs() now: abs(#{100%})\n",
      "INFO:__main__:2023-08-30 00:39:30,136  run                      INFO    run: More info: https://sass-lang.com/d/abs-percent\n",
      "INFO:__main__:2023-08-30 00:39:30,136  run                      INFO    run: \n",
      "INFO:__main__:2023-08-30 00:39:30,136  run                      INFO    run:    \n",
      "INFO:__main__:2023-08-30 00:39:30,136  run                      INFO    run: 57    $dividend: abs($dividend);\n",
      "INFO:__main__:2023-08-30 00:39:30,136  run                      INFO    run:                  ^^^^^^^^^^^^^^\n",
      "INFO:__main__:2023-08-30 00:39:30,136  run                      INFO    run:    \n",
      "INFO:__main__:2023-08-30 00:39:30,136  run                      INFO    run:     node_modules/bootstrap/scss/vendor/_rfs.scss 57:14         divide()\n",
      "INFO:__main__:2023-08-30 00:39:30,136  run                      INFO    run:     node_modules/bootstrap/scss/mixins/_grid.scss 59:12        row-cols()\n",
      "INFO:__main__:2023-08-30 00:39:30,136  run                      INFO    run:     node_modules/bootstrap/scss/mixins/_grid.scss 85:13        @content\n",
      "INFO:__main__:2023-08-30 00:39:30,136  run                      INFO    run:     node_modules/bootstrap/scss/mixins/_breakpoints.scss 68:5  media-breakpoint-up()\n",
      "INFO:__main__:2023-08-30 00:39:30,136  run                      INFO    run:     node_modules/bootstrap/scss/mixins/_grid.scss 72:5         make-grid-columns()\n",
      "INFO:__main__:2023-08-30 00:39:30,136  run                      INFO    run:     node_modules/bootstrap/scss/_grid.scss 38:3                @import\n",
      "INFO:__main__:2023-08-30 00:39:30,136  run                      INFO    run:     node_modules/bootstrap/scss/bootstrap.scss 20:9            @import\n",
      "INFO:__main__:2023-08-30 00:39:30,136  run                      INFO    run:     resources/sass/app.scss 8:9                                root stylesheet\n",
      "INFO:__main__:2023-08-30 00:39:30,136  run                      INFO    run: \n",
      "INFO:__main__:2023-08-30 00:39:43,022  run                      INFO    run: \u001b[0m\n",
      "INFO:__main__:2023-08-30 00:39:43,389  run                      INFO    run: \u001b[1;1H\u001b[0J\n",
      "INFO:__main__:2023-08-30 00:39:44,086  run                      INFO    run: \n",
      "INFO:__main__:2023-08-30 00:39:44,086  run                      INFO    run:    Laravel Mix v6.0.49\n",
      "INFO:__main__:2023-08-30 00:39:44,086  run                      INFO    run: \n",
      "INFO:__main__:2023-08-30 00:39:44,086  run                      INFO    run: \n",
      "INFO:__main__:2023-08-30 00:39:44,086  run                      INFO    run:  Compiled Successfully in 14828ms\n",
      "INFO:__main__:2023-08-30 00:39:44,086  run                      INFO    run: \n",
      "INFO:__main__:2023-08-30 00:39:44,086  run                      INFO    run:                               File  Size     \n",
      "INFO:__main__:2023-08-30 00:39:44,086  run                      INFO    run: \n",
      "INFO:__main__:2023-08-30 00:39:44,086  run                      INFO    run:                         /js/app.js  5.29 MiB \n",
      "INFO:__main__:2023-08-30 00:39:44,086  run                      INFO    run:                        css/app.css  270 KiB  \n",
      "INFO:__main__:2023-08-30 00:39:44,086  run                      INFO    run: \n",
      "INFO:__main__:2023-08-30 00:39:44,086  run                      INFO    run:  Mix: Compiled successfully in 15.59s\n",
      "INFO:__main__:2023-08-30 00:39:44,086  run                      INFO    run: WARNING in ./vendor/araneadev/laravel-electrum/src/resources/assets/js/Electrum.vue?vue&type=template&id=212c015d& (./node_modules/babel-loader/lib/index.js??clonedRuleSet-5.use[0]!./node_modules/vue-loader/lib/loaders/templateLoader.js??ruleSet[1].rules[2]!./node_modules/vue-loader/lib/index.js??vue-loader-options!./vendor/araneadev/laravel-electrum/src/resources/assets/js/Electrum.vue?vue&type=template&id=212c015d&)\n",
      "INFO:__main__:2023-08-30 00:39:44,086  run                      INFO    run: Module Warning (from ./node_modules/vue-loader/lib/loaders/templateLoader.js):\n",
      "INFO:__main__:2023-08-30 00:39:44,087  run                      INFO    run: (Emitted value instead of an instance of Error) Failed to prettify component /var/www/html/electrum/vendor/araneadev/laravel-electrum/src/resources/assets/js/Electrum.vue template source after compilation.\n",
      "INFO:__main__:2023-08-30 00:39:44,087  run                      INFO    run: \n",
      "INFO:__main__:2023-08-30 00:39:44,087  run                      INFO    run: WARNING in ./node_modules/vue-qrcode-component/src/QRCode.vue?vue&type=template&id=499cd36c& (./node_modules/vue-loader/lib/loaders/templateLoader.js??ruleSet[1].rules[2]!./node_modules/vue-loader/lib/index.js??vue-loader-options!./node_modules/vue-qrcode-component/src/QRCode.vue?vue&type=template&id=499cd36c&)\n",
      "INFO:__main__:2023-08-30 00:39:44,087  run                      INFO    run: Module Warning (from ./node_modules/vue-loader/lib/loaders/templateLoader.js):\n",
      "INFO:__main__:2023-08-30 00:39:44,087  run                      INFO    run: (Emitted value instead of an instance of Error) Failed to prettify component /var/www/html/electrum/node_modules/vue-qrcode-component/src/QRCode.vue template source after compilation.\n",
      "INFO:__main__:2023-08-30 00:39:44,087  run                      INFO    run: \n",
      "INFO:__main__:2023-08-30 00:39:44,087  run                      INFO    run: webpack compiled with 2 warnings\n",
      "INFO:__main__:2023-08-30 00:39:44,142  run                      INFO    run: \u001b[91mCache directory does not exist (cache-vcs-dir):\n",
      "INFO:__main__:2023-08-30 00:39:44,142  run                      INFO    run: \u001b[0m\u001b[91mClearing cache (cache-repo-dir): /root/.composer/cache/repo\n",
      "INFO:__main__:2023-08-30 00:39:44,177  run                      INFO    run: \u001b[0m\u001b[91mClearing cache (cache-files-dir): /root/.composer/cache/files\n",
      "INFO:__main__:2023-08-30 00:39:44,231  run                      INFO    run: \u001b[0m\u001b[91mClearing cache (cache-dir): /root/.composer/cache\n",
      "INFO:__main__:2023-08-30 00:39:44,234  run                      INFO    run: \u001b[0m\u001b[91mAll caches cleared.\n",
      "INFO:__main__:2023-08-30 00:39:44,448  run                      INFO    run: \u001b[0m\u001b[91mnpm\u001b[0m\u001b[91m \u001b[0m\u001b[91mWARN\u001b[0m\u001b[91m \u001b[0m\u001b[91musing --force\u001b[0m\u001b[91m Recommended protections disabled.\n",
      "INFO:__main__:2023-08-30 00:39:49,222  run                      INFO    run: \u001b[0mConfiguration cache cleared!\n",
      "INFO:__main__:2023-08-30 00:39:49,236  run                      INFO    run: Configuration cached successfully!\n",
      "INFO:__main__:2023-08-30 00:39:49,236  run                      INFO    run: Route cache cleared!\n",
      "INFO:__main__:2023-08-30 00:39:49,244  run                      INFO    run: Routes cached successfully!\n",
      "INFO:__main__:2023-08-30 00:39:49,244  run                      INFO    run: Files cached successfully!\n",
      "INFO:__main__:2023-08-30 00:40:21,645  run                      INFO    run: Removing intermediate container c46d9015d179\n",
      "INFO:__main__:2023-08-30 00:40:21,645  run                      INFO    run:  ---> f8b186ad3e05\n",
      "INFO:__main__:2023-08-30 00:40:21,645  run                      INFO    run: Step 32/49 : ARG ELECTRUM_DAEMON_HOST=localhost\n",
      "INFO:__main__:2023-08-30 00:40:22,504  run                      INFO    run:  ---> Running in 0e1e57a68afb\n",
      "INFO:__main__:2023-08-30 00:40:22,554  run                      INFO    run: Removing intermediate container 0e1e57a68afb\n",
      "INFO:__main__:2023-08-30 00:40:22,554  run                      INFO    run:  ---> 33e090c4734b\n",
      "INFO:__main__:2023-08-30 00:40:22,554  run                      INFO    run: Step 33/49 : ARG ELECTRUM_DAEMON_USER=electrum\n",
      "INFO:__main__:2023-08-30 00:40:22,601  run                      INFO    run:  ---> Running in 524ffc335345\n",
      "INFO:__main__:2023-08-30 00:40:22,652  run                      INFO    run: Removing intermediate container 524ffc335345\n",
      "INFO:__main__:2023-08-30 00:40:22,653  run                      INFO    run:  ---> 1d50f3521be2\n",
      "INFO:__main__:2023-08-30 00:40:22,653  run                      INFO    run: Step 34/49 : ARG ELECTRUM_DAEMON_PASSWORD=passw0rd\n",
      "INFO:__main__:2023-08-30 00:40:22,700  run                      INFO    run:  ---> Running in 8df2b0c5b743\n",
      "INFO:__main__:2023-08-30 00:40:22,751  run                      INFO    run: Removing intermediate container 8df2b0c5b743\n",
      "INFO:__main__:2023-08-30 00:40:22,751  run                      INFO    run:  ---> dda161c67fc0\n",
      "INFO:__main__:2023-08-30 00:40:22,751  run                      INFO    run: Step 35/49 : RUN echo ELECTRUM_DAEMON_HOST=${ELECTRUM_DAEMON_HOST} >> .env &&     echo ELECTRUM_DAEMON_USER=${ELECTRUM_DAEMON_USER} >> .env &&     echo ELECTRUM_DAEMON_PASSWORD=${ELECTRUM_DAEMON_PASSWORD} >> .env\n",
      "INFO:__main__:2023-08-30 00:40:22,798  run                      INFO    run:  ---> Running in 636cc08198e6\n",
      "INFO:__main__:2023-08-30 00:40:23,097  run                      INFO    run: Removing intermediate container 636cc08198e6\n",
      "INFO:__main__:2023-08-30 00:40:23,097  run                      INFO    run:  ---> b9368071e690\n",
      "INFO:__main__:2023-08-30 00:40:23,098  run                      INFO    run: Step 36/49 : RUN chown -R www-data /var/www\n",
      "INFO:__main__:2023-08-30 00:40:23,117  run                      INFO    run:  ---> Running in 2fceacdab6dd\n",
      "INFO:__main__:2023-08-30 00:42:44,278  run                      INFO    run: Removing intermediate container 2fceacdab6dd\n",
      "INFO:__main__:2023-08-30 00:42:44,278  run                      INFO    run:  ---> afba110ac118\n",
      "INFO:__main__:2023-08-30 00:42:44,278  run                      INFO    run: Step 37/49 : WORKDIR /etc/apache2/sites-available\n",
      "INFO:__main__:2023-08-30 00:42:45,122  run                      INFO    run:  ---> Running in de3b4eda7460\n",
      "INFO:__main__:2023-08-30 00:42:45,189  run                      INFO    run: Removing intermediate container de3b4eda7460\n",
      "INFO:__main__:2023-08-30 00:42:45,189  run                      INFO    run:  ---> ca7b9377baa2\n",
      "INFO:__main__:2023-08-30 00:42:45,189  run                      INFO    run: Step 38/49 : ADD laravel-electrum/electrum.conf /etc/apache2/sites-available\n",
      "INFO:__main__:2023-08-30 00:42:45,250  run                      INFO    run:  ---> 6cd664486df0\n",
      "INFO:__main__:2023-08-30 00:42:45,250  run                      INFO    run: Step 39/49 : ADD laravel-electrum/electrum-ssl.conf /etc/apache2/sites-available\n",
      "INFO:__main__:2023-08-30 00:42:45,310  run                      INFO    run:  ---> cca516282f6d\n",
      "INFO:__main__:2023-08-30 00:42:45,310  run                      INFO    run: Step 40/49 : ADD laravel-electrum/apache/apache2.conf /etc/apache2\n",
      "INFO:__main__:2023-08-30 00:42:45,369  run                      INFO    run:  ---> ffeca71205df\n",
      "INFO:__main__:2023-08-30 00:42:45,369  run                      INFO    run: Step 41/49 : WORKDIR $APP_ROOT\n",
      "INFO:__main__:2023-08-30 00:42:45,422  run                      INFO    run:  ---> Running in 6c902f581749\n",
      "INFO:__main__:2023-08-30 00:42:45,488  run                      INFO    run: Removing intermediate container 6c902f581749\n",
      "INFO:__main__:2023-08-30 00:42:45,488  run                      INFO    run:  ---> d68f3aecbe5b\n",
      "INFO:__main__:2023-08-30 00:42:45,488  run                      INFO    run: Step 42/49 : ADD laravel-electrum/entrypoint-frontend.sh .\n",
      "INFO:__main__:2023-08-30 00:42:45,550  run                      INFO    run:  ---> 9f454ce20253\n",
      "INFO:__main__:2023-08-30 00:42:45,551  run                      INFO    run: Step 43/49 : ADD electrum/entrypoint-electrum.sh ${ELECTRUM_DIR}\n",
      "INFO:__main__:2023-08-30 00:42:45,612  run                      INFO    run:  ---> b56d7a71c39f\n",
      "INFO:__main__:2023-08-30 00:42:45,612  run                      INFO    run: Step 44/49 : ADD entrypoint.sh .\n",
      "INFO:__main__:2023-08-30 00:42:45,676  run                      INFO    run:  ---> 708e129a450f\n",
      "INFO:__main__:2023-08-30 00:42:45,676  run                      INFO    run: Step 45/49 : VOLUME /data\n",
      "INFO:__main__:2023-08-30 00:42:45,732  run                      INFO    run:  ---> Running in b4bf88cb86ad\n",
      "INFO:__main__:2023-08-30 00:42:45,791  run                      INFO    run: Removing intermediate container b4bf88cb86ad\n",
      "INFO:__main__:2023-08-30 00:42:45,791  run                      INFO    run:  ---> 2d5b9ddc3aa4\n",
      "INFO:__main__:2023-08-30 00:42:45,791  run                      INFO    run: Step 46/49 : EXPOSE 443\n",
      "INFO:__main__:2023-08-30 00:42:45,849  run                      INFO    run:  ---> Running in f4aab289bb91\n",
      "INFO:__main__:2023-08-30 00:42:45,907  run                      INFO    run: Removing intermediate container f4aab289bb91\n",
      "INFO:__main__:2023-08-30 00:42:45,907  run                      INFO    run:  ---> c5127705f60f\n",
      "INFO:__main__:2023-08-30 00:42:45,907  run                      INFO    run: Step 47/49 : ADD supervisord.conf /etc/supervisor/conf.d/supervisord.conf\n",
      "INFO:__main__:2023-08-30 00:42:45,978  run                      INFO    run:  ---> 0282652c8f45\n",
      "INFO:__main__:2023-08-30 00:42:45,978  run                      INFO    run: Step 48/49 : ENV PYTHONUNBUFFERED=1\n",
      "INFO:__main__:2023-08-30 00:42:46,034  run                      INFO    run:  ---> Running in a077f4978bc7\n",
      "INFO:__main__:2023-08-30 00:42:46,094  run                      INFO    run: Removing intermediate container a077f4978bc7\n",
      "INFO:__main__:2023-08-30 00:42:46,094  run                      INFO    run:  ---> cb89e28c7cd2\n",
      "INFO:__main__:2023-08-30 00:42:46,094  run                      INFO    run: Step 49/49 : CMD [\"/usr/bin/supervisord\"]\n",
      "INFO:__main__:2023-08-30 00:42:46,151  run                      INFO    run:  ---> Running in 315d9ca943d3\n",
      "INFO:__main__:2023-08-30 00:42:46,211  run                      INFO    run: Removing intermediate container 315d9ca943d3\n",
      "INFO:__main__:2023-08-30 00:42:46,211  run                      INFO    run:  ---> a1c9afc113ac\n",
      "INFO:__main__:2023-08-30 00:42:46,217  run                      INFO    run: Successfully built a1c9afc113ac\n",
      "INFO:__main__:2023-08-30 00:42:46,236  run                      INFO    run: Successfully tagged icr.io/secureimages-glw/secure-bitcoin-wallet:latest\n",
      "INFO:__main__:2023-08-30 00:42:46,238  run                      INFO    run: return code = 0\n",
      "INFO:__main__:2023-08-30 00:42:46,270  run                      INFO    run: return code = 0\n",
      "INFO:__main__:2023-08-30 00:42:46,271  build_task               INFO    pushing a container to a docker hub\n",
      "INFO:__main__:2023-08-30 00:42:46,271  run_response             INFO    cmd=gpg --list-keys sbsnewkey\n",
      "INFO:__main__:2023-08-30 00:42:46,271  run_response             INFO    env=null\n",
      "INFO:__main__:2023-08-30 00:42:46,271  run_response             INFO    args=gpg+--list-keys+sbsnewkey\n",
      "INFO:__main__:2023-08-30 00:42:46,278  run_response             INFO    run_response: (stdout) \n",
      "INFO:__main__:2023-08-30 00:42:46,278  run_response             INFO    run_response: (stderr) gpg: error reading key: No public key\n",
      "INFO:__main__:2023-08-30 00:42:46,279  run                      INFO    run: return code = 0\n",
      "INFO:__main__:2023-08-30 00:42:46,280  run_response             INFO    cmd=cat /git/secure-bitcoin-wallet/temp_file\n",
      "INFO:__main__:2023-08-30 00:42:46,280  run_response             INFO    env=null\n",
      "INFO:__main__:2023-08-30 00:42:46,280  run_response             INFO    args=cat+/git/secure-bitcoin-wallet/temp_file\n",
      "INFO:__main__:2023-08-30 00:42:46,283  run_response             INFO    run_response: (stdout) \n",
      "INFO:__main__:2023-08-30 00:42:46,283  run_response             INFO    run_response: (stderr) \n",
      "INFO:__main__:2023-08-30 00:42:53,988  run                      INFO    run: gpg: key 24E114603980134F marked as ultimately trusted\n",
      "INFO:__main__:2023-08-30 00:42:53,989  run                      INFO    run: gpg: directory '/root/.gnupg/openpgp-revocs.d' created\n",
      "INFO:__main__:2023-08-30 00:42:54,072  run                      INFO    run: gpg: revocation certificate stored as '/root/.gnupg/openpgp-revocs.d/E1B486B7DDA2E218BD493D7A24E114603980134F.rev'\n",
      "INFO:__main__:2023-08-30 00:42:54,072  run                      INFO    run: return code = 0\n",
      "INFO:__main__:2023-08-30 00:42:54,072  push_docker_image        INFO    skopeo copy docker-daemon:icr.io/secureimages-glw/secure-bitcoin-wallet:s390x-v1-6d0f0e4 docker://icr.io/secureimages-glw/secure-bitcoin-wallet:s390x-v1-6d0f0e4 --sign-by sbsnewkey@example.com --dest-creds=******\n",
      "INFO:__main__:2023-08-30 00:46:48,085  run                      INFO    run: Getting image source signatures\n",
      "INFO:__main__:2023-08-30 00:46:48,703  run                      INFO    run: Copying blob sha256:393cc9b4b32809b395208a726de97b75f3eae218af9788c558518b32b5172768\n",
      "INFO:__main__:2023-08-30 00:46:48,770  run                      INFO    run: Copying blob sha256:022b393b6111922fd6b8822fbe792869ad199aaddc9cb0a9618cb23df289bf76\n",
      "INFO:__main__:2023-08-30 00:46:48,806  run                      INFO    run: Copying blob sha256:f3f5721f94a90ec8702ed8fcd4e9b08c1cc591fbeec337b9aa2b404f9d41ac10\n",
      "INFO:__main__:2023-08-30 00:46:48,849  run                      INFO    run: Copying blob sha256:d295825679a538b1714ab794ce5df463d7c1ad00682710a3a988b46a9b45e6a0\n",
      "INFO:__main__:2023-08-30 00:46:48,894  run                      INFO    run: Copying blob sha256:55b79c560f1a34842b11a193ba60ef014a58557aedb4f692d27774a1148632aa\n",
      "INFO:__main__:2023-08-30 00:46:49,534  run                      INFO    run: Copying blob sha256:40e49d2287c03e066b22d019fbe78a3b4cc98a099935c6d23dd7ac2f86b89074\n",
      "INFO:__main__:2023-08-30 00:46:51,939  run                      INFO    run: Copying blob sha256:e21fa86c503d813cca07b130076d81c51b7e83f90e49ae6628dc4c8b89ef61f5\n",
      "INFO:__main__:2023-08-30 00:46:58,445  run                      INFO    run: Copying blob sha256:a531b923cc35568d238123bccb749d34426149c29455a4ee186fc0a05ae1e08e\n",
      "INFO:__main__:2023-08-30 00:46:58,627  run                      INFO    run: Copying blob sha256:fa87e914b19e717599f0576e8c2453688a75e82268a3002ea9c74926c2a5f7a7\n",
      "INFO:__main__:2023-08-30 00:46:58,658  run                      INFO    run: Copying blob sha256:1258f43cb885026e95bcc5c856a81c28ff37ae9f8970a69b2a1cd5ed912a9429\n",
      "INFO:__main__:2023-08-30 00:46:58,658  run                      INFO    run: Copying blob sha256:0a55a641f3853dcc25b643d94dcd70130696b25068dabbcc9b2ba1f29033713e\n",
      "INFO:__main__:2023-08-30 00:47:01,414  run                      INFO    run: Copying blob sha256:92eec986944e42d5e7a138230f790b1ccbc1e89755418fe0d23c4ef7cf22237d\n",
      "INFO:__main__:2023-08-30 00:47:01,415  run                      INFO    run: Copying blob sha256:20df6a18828d8c32bdc38f9133568b66943cd14c3f23880c4c9285c0833d0b37\n",
      "INFO:__main__:2023-08-30 00:47:01,576  run                      INFO    run: Copying blob sha256:b9c63dbe8eae97b31db5087260a03f252d3d9a35bbc3d24ba3a1b5d348946ecf\n",
      "INFO:__main__:2023-08-30 00:47:01,734  run                      INFO    run: Copying blob sha256:9bc0691eb731188c73f9efd5d403140987d73b3f84bae0661607fc16f8d492bf\n",
      "INFO:__main__:2023-08-30 00:47:04,747  run                      INFO    run: Copying blob sha256:9925c42f674600049515f553c52703a7d67141afb34505eeb4d4850769fc2db4\n",
      "INFO:__main__:2023-08-30 00:47:05,035  run                      INFO    run: Copying blob sha256:120c592b57c5d398e3a5e80849d84975923a253c4099bce1bd6a16a064a10c81\n",
      "INFO:__main__:2023-08-30 00:47:05,039  run                      INFO    run: Copying blob sha256:408147825bfb57d2fe5ab9be463af0216274a6d8c35246bbc75f92571a5dadeb\n",
      "INFO:__main__:2023-08-30 00:47:05,282  run                      INFO    run: Copying blob sha256:7377024ddf63949e058512219aecd9db2a2d3894774b5df76eb990d4c90b791b\n",
      "INFO:__main__:2023-08-30 00:47:08,041  run                      INFO    run: Copying blob sha256:3f47f741add8ba234bdfd10a3e4a9ed414c8007166d29ad6892f3f2a2c20b90e\n",
      "INFO:__main__:2023-08-30 00:47:08,439  run                      INFO    run: Copying blob sha256:3595d741f5a4165964e4c79e0a63c5876ed9c56d4f979311ed93763b691c5a20\n",
      "INFO:__main__:2023-08-30 00:47:08,651  run                      INFO    run: Copying blob sha256:c222ff82f53dd8a6c846dcd4bcf8b2f30604041b90451fc7aa6def4e3e45a555\n",
      "INFO:__main__:2023-08-30 00:47:09,778  run                      INFO    run: Copying blob sha256:4a4bf42dc1a2279916d381b5cdf4fe2e920c2b7518881930dc82852da52aaa93\n",
      "INFO:__main__:2023-08-30 00:47:10,654  run                      INFO    run: Copying blob sha256:cf8f0c82537149d8b97fe0360b00a7b70a08395b950f55bb20f30b072161abbd\n",
      "INFO:__main__:2023-08-30 00:47:10,691  run                      INFO    run: Copying blob sha256:7686750b603b347d91f2a75356fe5a9f6caa526fdbaebaec9285d2b568f35ea8\n",
      "INFO:__main__:2023-08-30 00:47:16,176  run                      INFO    run: Copying config sha256:a1c9afc113ac545f55556d9b4d1591b9ffcc5c701682bbc5718647ab3d98616c\n",
      "INFO:__main__:2023-08-30 00:47:17,667  run                      INFO    run: Writing manifest to image destination\n",
      "INFO:__main__:2023-08-30 00:47:19,121  run                      INFO    run: Signing manifest\n",
      "INFO:__main__:2023-08-30 00:47:19,230  run                      INFO    run: Storing signatures\n",
      "INFO:__main__:2023-08-30 00:47:20,050  run                      INFO    run: return code = 0\n",
      "INFO:__main__:2023-08-30 00:51:09,990  run                      INFO    run: Getting image source signatures\n",
      "INFO:__main__:2023-08-30 00:51:10,550  run                      INFO    run: Copying blob sha256:393cc9b4b32809b395208a726de97b75f3eae218af9788c558518b32b5172768\n",
      "INFO:__main__:2023-08-30 00:51:10,563  run                      INFO    run: Copying blob sha256:d295825679a538b1714ab794ce5df463d7c1ad00682710a3a988b46a9b45e6a0\n",
      "INFO:__main__:2023-08-30 00:51:10,564  run                      INFO    run: Copying blob sha256:55b79c560f1a34842b11a193ba60ef014a58557aedb4f692d27774a1148632aa\n",
      "INFO:__main__:2023-08-30 00:51:10,589  run                      INFO    run: Copying blob sha256:022b393b6111922fd6b8822fbe792869ad199aaddc9cb0a9618cb23df289bf76\n",
      "INFO:__main__:2023-08-30 00:51:10,703  run                      INFO    run: Copying blob sha256:e21fa86c503d813cca07b130076d81c51b7e83f90e49ae6628dc4c8b89ef61f5\n",
      "INFO:__main__:2023-08-30 00:51:10,737  run                      INFO    run: Copying blob sha256:a531b923cc35568d238123bccb749d34426149c29455a4ee186fc0a05ae1e08e\n",
      "INFO:__main__:2023-08-30 00:51:10,759  run                      INFO    run: Copying blob sha256:1258f43cb885026e95bcc5c856a81c28ff37ae9f8970a69b2a1cd5ed912a9429\n",
      "INFO:__main__:2023-08-30 00:51:10,778  run                      INFO    run: Copying blob sha256:0a55a641f3853dcc25b643d94dcd70130696b25068dabbcc9b2ba1f29033713e\n",
      "INFO:__main__:2023-08-30 00:51:10,858  run                      INFO    run: Copying blob sha256:fa87e914b19e717599f0576e8c2453688a75e82268a3002ea9c74926c2a5f7a7\n",
      "INFO:__main__:2023-08-30 00:51:10,906  run                      INFO    run: Copying blob sha256:92eec986944e42d5e7a138230f790b1ccbc1e89755418fe0d23c4ef7cf22237d\n",
      "INFO:__main__:2023-08-30 00:51:10,928  run                      INFO    run: Copying blob sha256:20df6a18828d8c32bdc38f9133568b66943cd14c3f23880c4c9285c0833d0b37\n",
      "INFO:__main__:2023-08-30 00:51:10,946  run                      INFO    run: Copying blob sha256:b9c63dbe8eae97b31db5087260a03f252d3d9a35bbc3d24ba3a1b5d348946ecf\n",
      "INFO:__main__:2023-08-30 00:51:11,011  run                      INFO    run: Copying blob sha256:9bc0691eb731188c73f9efd5d403140987d73b3f84bae0661607fc16f8d492bf\n",
      "INFO:__main__:2023-08-30 00:51:11,058  run                      INFO    run: Copying blob sha256:f3f5721f94a90ec8702ed8fcd4e9b08c1cc591fbeec337b9aa2b404f9d41ac10\n",
      "INFO:__main__:2023-08-30 00:51:11,093  run                      INFO    run: Copying blob sha256:9925c42f674600049515f553c52703a7d67141afb34505eeb4d4850769fc2db4\n",
      "INFO:__main__:2023-08-30 00:51:11,096  run                      INFO    run: Copying blob sha256:120c592b57c5d398e3a5e80849d84975923a253c4099bce1bd6a16a064a10c81\n",
      "INFO:__main__:2023-08-30 00:51:11,101  run                      INFO    run: Copying blob sha256:7377024ddf63949e058512219aecd9db2a2d3894774b5df76eb990d4c90b791b\n",
      "INFO:__main__:2023-08-30 00:51:11,114  run                      INFO    run: Copying blob sha256:408147825bfb57d2fe5ab9be463af0216274a6d8c35246bbc75f92571a5dadeb\n",
      "INFO:__main__:2023-08-30 00:51:11,128  run                      INFO    run: Copying blob sha256:3f47f741add8ba234bdfd10a3e4a9ed414c8007166d29ad6892f3f2a2c20b90e\n",
      "INFO:__main__:2023-08-30 00:51:11,166  run                      INFO    run: Copying blob sha256:3595d741f5a4165964e4c79e0a63c5876ed9c56d4f979311ed93763b691c5a20\n",
      "INFO:__main__:2023-08-30 00:51:11,188  run                      INFO    run: Copying blob sha256:c222ff82f53dd8a6c846dcd4bcf8b2f30604041b90451fc7aa6def4e3e45a555\n",
      "INFO:__main__:2023-08-30 00:51:11,244  run                      INFO    run: Copying blob sha256:7686750b603b347d91f2a75356fe5a9f6caa526fdbaebaec9285d2b568f35ea8\n",
      "INFO:__main__:2023-08-30 00:51:11,259  run                      INFO    run: Copying blob sha256:cf8f0c82537149d8b97fe0360b00a7b70a08395b950f55bb20f30b072161abbd\n",
      "INFO:__main__:2023-08-30 00:51:11,267  run                      INFO    run: Copying blob sha256:4a4bf42dc1a2279916d381b5cdf4fe2e920c2b7518881930dc82852da52aaa93\n",
      "INFO:__main__:2023-08-30 00:51:11,645  run                      INFO    run: Copying blob sha256:40e49d2287c03e066b22d019fbe78a3b4cc98a099935c6d23dd7ac2f86b89074\n",
      "INFO:__main__:2023-08-30 00:51:11,765  run                      INFO    run: time=\"2023-08-30T00:51:11Z\" level=fatal msg=\"writing blob: initiating layer upload to /v2/secureimages-glw/secure-bitcoin-wallet/blobs/uploads/ in icr.io: denied: Your account has exceeded its image storage quota for the current month. See https://cloud.ibm.com/docs/Registry?topic=Registry-troubleshoot-quota\"\n",
      "INFO:__main__:2023-08-30 00:51:11,768  run                      INFO    run: return code = 1\n",
      "INFO:__main__:2023-08-30 00:51:11,768  run                      ERROR   exiting due to a non-zero return value: 1, cmd: skopeo copy docker-daemon:icr.io/secureimages-glw/secure-bitcoin-wallet:s390x-v1-6d0f0e4 docker://icr.io/secureimages-glw/secure-bitcoin-wallet:latest --sign-by sbsnewkey@example.com --dest-creds=iamapikey:*******\n",
      "INFO:__main__:\n"
     ]
    }
   ],
   "source": [
    "! ./build.py log --log build --env sbs-config.json"
   ]
  },
  {
   "cell_type": "markdown",
   "id": "primary-chaos",
   "metadata": {},
   "source": [
    "---\n",
    "\n",
    "### Step 6.6 Download the state image of your Secure Build Server\n",
    "\n",
    "Run the code cell below to download the state image, which is a backup of the state of your Secure Build Server instance. This can be used to recreate your Secure Build Server if necessary. This backup also contains the logs of any builds you run on your Secure Build Server."
   ]
  },
  {
   "cell_type": "code",
   "execution_count": 93,
   "id": "burning-stage",
   "metadata": {},
   "outputs": [
    {
     "name": "stdout",
     "output_type": "stream",
     "text": [
      "INFO:__main__:state:name: docker.io.gmoney23.secure-bitcoin-wallet.s390x-v1-6d0f0e4.2023-08-25_21-25-56.285501\n"
     ]
    }
   ],
   "source": [
    "! ./build.py get-state-image --env sbs-config.json"
   ]
  },
  {
   "cell_type": "markdown",
   "id": "incorporated-sleeve",
   "metadata": {},
   "source": [
    "---\n",
    "\n",
    "### Step 6.7 Verify the manifest file from your build\n",
    "\n",
    "The Secure Build Server creates a signed manifest file for each successful build. The manifest file is useful for audit purposes. You can verify the source and integrity of the build and the built image or you can pass the manifest file to an auditor to do so. Run the below code cell to download and verify the manifest file:"
   ]
  },
  {
   "cell_type": "code",
   "execution_count": 94,
   "id": "general-persian",
   "metadata": {},
   "outputs": [
    {
     "name": "stdout",
     "output_type": "stream",
     "text": [
      "INFO:__main__:get-manifest manifest_name: manifest.docker.io.gmoney23.secure-bitcoin-wallet.s390x-v1-6d0f0e4.2023-08-25_21-25-56.285501\n",
      "INFO:__main__:verify_manifest: manifest_name=manifest.docker.io.gmoney23.secure-bitcoin-wallet.s390x-v1-6d0f0e4.2023-08-25_21-25-56.285501 test=0\n",
      "INFO:__main__:verify=OK\n"
     ]
    }
   ],
   "source": [
    "! ./build.py get-manifest --env sbs-config.json  --verify-manifest"
   ]
  },
  {
   "cell_type": "markdown",
   "id": "33095ba2-b984-4e1e-8158-95965e977fcf",
   "metadata": {},
   "source": [
    "The above command downloads the manifest file and verifies the digital signature on it.  In the last line of output from the above code cell you should see *verify=OK* which indicates that the digital signature is valid and is proof that the manifest file has not been tampered with.\n",
    "\n",
    "---\n",
    "\n",
    "### Step 6.8 Download image digest\n",
    "\n",
    "Download the digest of your image to use in your docker-compose file later."
   ]
  },
  {
   "cell_type": "code",
   "execution_count": 141,
   "id": "0f2264eb-983b-4af0-b53b-78d587cfd375",
   "metadata": {},
   "outputs": [],
   "source": [
    "! ./build.py get-digest --env sbs-config.json | cut -d \":\" -f2-3 | cut -d \" \" -f2 > sbw_image.env"
   ]
  },
  {
   "cell_type": "markdown",
   "id": "dc9ea794-0b9f-4801-81fd-5956d42b16a8",
   "metadata": {},
   "source": [
    "---\n",
    "\n",
    "### Step 6.9 Download signed image public key\n",
    "\n",
    "Download the public key used to sign your image during the secure build process for later use."
   ]
  },
  {
   "cell_type": "code",
   "execution_count": 170,
   "id": "98e9ba70-aeba-4291-97bf-39bccadd8e31",
   "metadata": {},
   "outputs": [
    {
     "name": "stdout",
     "output_type": "stream",
     "text": [
      "INFO:__main__:Downloaded signed image public key to file docker.io-gmoney23-secure-bitcoin-wallet-public.key\n"
     ]
    }
   ],
   "source": [
    "! ./build.py get-signed-image-publickey --env sbs-config.json"
   ]
  },
  {
   "cell_type": "markdown",
   "id": "industrial-inquiry",
   "metadata": {},
   "source": [
    "---\n",
    "\n",
    "## Create HPVS for VPC using the image that you just built\n",
    "\n",
    "### Step 7.1 Create a new working directory\n",
    "\n",
    "Create a new working directory for your work creating your secure bitcoin wallet contract."
   ]
  },
  {
   "cell_type": "code",
   "execution_count": 142,
   "id": "f04518ee-dfab-4d8e-90db-ab98951cb68f",
   "metadata": {},
   "outputs": [],
   "source": [
    "! mkdir -p secure-bitcoin-wallet"
   ]
  },
  {
   "cell_type": "code",
   "execution_count": 163,
   "id": "0aa9d51b-6030-42b7-af42-142276ecccc4",
   "metadata": {},
   "outputs": [
    {
     "name": "stdout",
     "output_type": "stream",
     "text": [
      "/home/jovyan/labdir/secure-build-cli/secure-bitcoin-wallet\n"
     ]
    }
   ],
   "source": [
    "%cd secure-bitcoin-wallet"
   ]
  },
  {
   "cell_type": "markdown",
   "id": "065558b9-cf91-4329-8aa5-b5149eaf0a3c",
   "metadata": {},
   "source": [
    "---\n",
    "\n",
    "### Step 7.2 Create a compose subdirectory\n",
    "\n",
    "Create a subdirectory for your work setting up your contract and change into it"
   ]
  },
  {
   "cell_type": "code",
   "execution_count": 144,
   "id": "9a750bfd-a479-498d-9081-f978ad9f3155",
   "metadata": {},
   "outputs": [],
   "source": [
    "! mkdir -p {environment,workload/compose}"
   ]
  },
  {
   "cell_type": "code",
   "execution_count": 178,
   "id": "366acf14-adab-41f9-9c44-ae3780746e8e",
   "metadata": {},
   "outputs": [
    {
     "name": "stdout",
     "output_type": "stream",
     "text": [
      "/home/jovyan/labdir/secure-build-cli/secure-bitcoin-wallet/workload/compose\n"
     ]
    }
   ],
   "source": [
    "%cd workload/compose"
   ]
  },
  {
   "cell_type": "markdown",
   "id": "8af3d6c7-defb-47fa-942a-95eef8e70bc8",
   "metadata": {},
   "source": [
    "---\n",
    "\n",
    "### Step 7.3 Create your Docker Compose file\n",
    "\n",
    "Create the Docker Compose file for the secure bitcoin wallet application."
   ]
  },
  {
   "cell_type": "code",
   "execution_count": 165,
   "id": "621103b6-cb90-419d-9fac-00ef8f6f5873",
   "metadata": {},
   "outputs": [],
   "source": [
    "%%bash\n",
    "cat << EOF > docker-compose.yml\n",
    "services:\n",
    "  wallet:\n",
    "    image: $(cat ../../../sbw_image.env)\n",
    "    ports:\n",
    "      - \"443:443\"\n",
    "    environment:\n",
    "      - WALLET_NAME:general\n",
    "EOF"
   ]
  },
  {
   "cell_type": "markdown",
   "id": "a11d51b1-93dd-401b-be10-f16d2f71536d",
   "metadata": {},
   "source": [
    "---\n",
    "\n",
    "### Step 7.4 Check the contents of your Docker compose file\n",
    "\n",
    "Check on the Docker Compose file you just created with the following code box."
   ]
  },
  {
   "cell_type": "code",
   "execution_count": 166,
   "id": "069d9e7f-9488-4807-8807-9989d5698549",
   "metadata": {},
   "outputs": [
    {
     "name": "stdout",
     "output_type": "stream",
     "text": [
      "services:\n",
      "  wallet:\n",
      "    image: gmoney23/secure-bitcoin-wallet@sha256:e7077ba22c9409d282d9d23a3982ab2cc0953c698b2bcf447c2357a864232b77\n",
      "    ports:\n",
      "      - \"443:443\"\n",
      "    environment:\n",
      "      - WALLET_NAME:general\n"
     ]
    }
   ],
   "source": [
    "! cat docker-compose.yml"
   ]
  },
  {
   "cell_type": "markdown",
   "id": "58fb6b70-68d8-4eca-91d9-58bb507c1551",
   "metadata": {},
   "source": [
    "---\n",
    "\n",
    "### Step 7.5 Move to the main workload directory\n",
    "\n",
    "Move back a directory to the main workload directory"
   ]
  },
  {
   "cell_type": "code",
   "execution_count": 179,
   "id": "b553ff84-79e0-43c2-ae27-09902a49b50b",
   "metadata": {},
   "outputs": [
    {
     "name": "stdout",
     "output_type": "stream",
     "text": [
      "/home/jovyan/labdir/secure-build-cli/secure-bitcoin-wallet/workload\n"
     ]
    }
   ],
   "source": [
    "%cd .."
   ]
  },
  {
   "cell_type": "markdown",
   "id": "a7b89c83-6f08-4071-955a-798cca1f7029",
   "metadata": {},
   "source": [
    "---\n",
    "\n",
    "### Step 7.6 Create a script to encrypt the workload section of the contract\n",
    "\n",
    "Create a a convenience script to automate creating the encrypted workload section of the contract."
   ]
  },
  {
   "cell_type": "code",
   "execution_count": 180,
   "id": "373bb98b-f542-49a9-af07-7ebb1f2c8961",
   "metadata": {},
   "outputs": [],
   "source": [
    "%%bash\n",
    "cat << EOF > flow.workload\n",
    "# Create the workload section of the contract and add the contents in the workload.yaml file.\n",
    "\n",
    "WORKLOAD_PLAIN=./workload.yaml.plaintext\n",
    "WORKLOAD=workload.yaml\n",
    "\n",
    "echo \"  type: workload\n",
    "  compose:\n",
    "    archive: \\$(tar -czv -C compose . | base64 -w0)\" > \\${WORKLOAD_PLAIN}\n",
    "\n",
    "# Download certificate to encrypt contract for Hyper Protect Container Runtime:\n",
    "HPCR_rev=11\n",
    "CONTRACT_KEY=./ibm-hyper-protect-container-runtime-1-0-s390x-\\${HPCR_rev}-encrypt.crt\n",
    "curl https://cloud.ibm.com/media/docs/downloads/hyper-protect-container-runtime/ibm-hyper-protect-container-runtime-1-0-s390x-\\${HPCR_rev}-encrypt.crt > \\${CONTRACT_KEY}\n",
    "\n",
    "\n",
    "# Use the following command to create a random password:\n",
    "PASSWORD_WORKLOAD=\"\\$(openssl rand 32 | base64 -w0)\"\n",
    "\n",
    "# Use the following command to encrypt password with the Hyper Protect Container Runtime Contract Encryption Key:\n",
    "ENCRYPTED_WORKLOAD_PASSWORD=\"\\$(echo -n \"\\$PASSWORD_WORKLOAD\" | base64 -d | openssl rsautl -encrypt -inkey \\$CONTRACT_KEY -certin | base64 -w0)\"\n",
    "\n",
    "# Use the following command to encrypt the workload.yaml file with a random password:\n",
    "ENCRYPTED_WORKLOAD=\"\\$(echo -n \"\\$PASSWORD_WORKLOAD\" | base64 -d | openssl enc -aes-256-cbc -pbkdf2 -pass stdin -in \"\\$WORKLOAD_PLAIN\" | base64 -w0)\"\n",
    "\n",
    "# Use the following command to get the encrypted section of the contract:\n",
    "WORKLOAD_ENCRYPTED=\"hyper-protect-basic.\\${ENCRYPTED_WORKLOAD_PASSWORD}.\\${ENCRYPTED_WORKLOAD}\"\n",
    "\n",
    "echo \"\"\n",
    "echo \"See `pwd`/workload.yaml.plaintext to see what was encrypted for the workload section of your contract\"\n",
    "echo \"\"\n",
    "\n",
    "echo \"\\$WORKLOAD_ENCRYPTED\" > ../\\$WORKLOAD\n",
    "EOF\n"
   ]
  },
  {
   "cell_type": "markdown",
   "id": "200a2d97-02b2-4e12-924f-36be8a59fff5",
   "metadata": {},
   "source": [
    "---\n",
    "\n",
    "### Step 7.7 Move to the environment directory\n",
    "\n",
    "Move to the environment directory to begin working on the environment section of the contract."
   ]
  },
  {
   "cell_type": "code",
   "execution_count": 181,
   "id": "e3b10f30-de9f-49a9-97c0-2a4024f47e56",
   "metadata": {},
   "outputs": [
    {
     "name": "stdout",
     "output_type": "stream",
     "text": [
      "/home/jovyan/labdir/secure-build-cli/secure-bitcoin-wallet/environment\n"
     ]
    }
   ],
   "source": [
    "%cd ../environment"
   ]
  },
  {
   "cell_type": "markdown",
   "id": "2a059ee2-4e4c-4875-8edd-c1ed011429fa",
   "metadata": {},
   "source": [
    "---\n",
    "\n",
    "### Step 7.8 Create a script to encrypt the environment section of the contract\n",
    "\n",
    "Create a convenience script to automate creating the encrypted environment section of the contract."
   ]
  },
  {
   "cell_type": "code",
   "execution_count": 182,
   "id": "7035062b-e3c3-4b26-ba4d-6233e54680a5",
   "metadata": {},
   "outputs": [],
   "source": [
    "%%bash\n",
    "cat << EOF > flow.env\n",
    "# Create the env section of the contract and add the contents in the env.yaml file.\n",
    "ENV_PLAIN=\"./env.yaml.plaintext\"\n",
    "ENV=\"env.yaml\"\n",
    "\n",
    "echo \"  type: env\n",
    "  logging:\n",
    "    logDNA:\n",
    "      hostname: \\${logdna_hostname}\n",
    "      ingestionKey: \\${logdna_ingestion_key}\n",
    "      port: 6514\" > \\${ENV_PLAIN}\n",
    "\n",
    "cat ./pubSigningKey.yaml >> \\${ENV_PLAIN}\n",
    "\n",
    "# Download certificate to encrypt contract for Hyper Protect Container Runtime:\n",
    "HPCR_rev=11\n",
    "CONTRACT_KEY=./ibm-hyper-protect-container-runtime-1-0-s390x-\\${HPCR_rev}-encrypt.crt\n",
    "curl https://cloud.ibm.com/media/docs/downloads/hyper-protect-container-runtime/\\$CONTRACT_KEY > \\$CONTRACT_KEY\n",
    "\n",
    "\n",
    "# Use the following command to create a random password:\n",
    "PASSWORD_ENV=\"\\$(openssl rand 32 | base64 -w0)\"\n",
    "\n",
    "#  Use the following command to encrypt password with the Hyper Protect Container Runtime Contract Encryption Key:\n",
    "ENCRYPTED_ENV_PASSWORD=\"\\$(echo -n \"\\$PASSWORD_ENV\" | base64 -d | openssl rsautl -encrypt -inkey \\$CONTRACT_KEY -certin | base64 -w0 )\"\n",
    "\n",
    "# Use the following command to encrypt env.yaml with a random password:\n",
    "ENCRYPTED_ENV=\"\\$(echo -n \"\\$PASSWORD_ENV\" | base64 -d | openssl enc -aes-256-cbc -pbkdf2 -pass stdin -in \"\\$ENV_PLAIN\" | base64 -w0)\"\n",
    "\n",
    "# Use the following command to get the encrypted section of the contract:\n",
    "ENV_ENCRYPTED=\"hyper-protect-basic.\\${ENCRYPTED_ENV_PASSWORD}.\\${ENCRYPTED_ENV}\"\n",
    "\n",
    "echo \"\"\n",
    "echo \"See `pwd`/env.yaml.plaintext to see what was encrypted for the env section of your contract\"\n",
    "echo \"\"\n",
    "\n",
    "echo \"\\$ENV_ENCRYPTED\" > ../\\$ENV\n",
    "EOF\n"
   ]
  },
  {
   "cell_type": "markdown",
   "id": "61a8bf0d-9f8e-42ac-a52a-150c24e7081a",
   "metadata": {},
   "source": [
    "---\n",
    "\n",
    "### Step 7.9 Move back to the main directory\n",
    "\n",
    "Move back to the secure-bitcoin-wallet main directory"
   ]
  },
  {
   "cell_type": "code",
   "execution_count": 183,
   "id": "0dd0c9ef-e28c-40a3-92b4-42208110d994",
   "metadata": {},
   "outputs": [
    {
     "name": "stdout",
     "output_type": "stream",
     "text": [
      "/home/jovyan/labdir/secure-build-cli/secure-bitcoin-wallet\n"
     ]
    }
   ],
   "source": [
    "%cd .."
   ]
  },
  {
   "cell_type": "markdown",
   "id": "1ac00ce4-9f89-4fd6-bb53-7f0c240d0430",
   "metadata": {},
   "source": [
    "---\n",
    "\n",
    "### Step 7.10 Create scripts for signing the contracts\n",
    "\n",
    "Create a script for generating keys and one for signing the contracts by running the code cells below."
   ]
  },
  {
   "cell_type": "code",
   "execution_count": 172,
   "id": "7f77d16e-4a93-4a28-852c-f9b32799c3c6",
   "metadata": {},
   "outputs": [],
   "source": [
    "%%bash\n",
    "cat << EOF > flow.prepare\n",
    "# Use the following command to generate key pair to sign the contract \n",
    "openssl genrsa -aes128 -passout pass:test1234 -out private.pem 4096\n",
    "openssl rsa -in private.pem -passin pass:test1234 -pubout -out public.pem\n",
    "\n",
    "# The following command is an example of how you can get the signing key:\n",
    "key=\\$(awk -vRS=\"\\n\" -vORS=\"\\\\\\\\\\n\" '1' public.pem)\n",
    "# echo \"  signingKey: \\\"\\${key%\\\\\\\\n}\\\"\" > environment/pubSigningKey.yaml\n",
    "printf \"%s\" \"  signingKey: \\\"\\${key%\\\\\\\\n}\\\"\" > environment/pubSigningKey.yaml\n",
    "EOF"
   ]
  },
  {
   "cell_type": "code",
   "execution_count": 174,
   "id": "56de48f7-c14f-4f60-9631-3e270bde369d",
   "metadata": {},
   "outputs": [],
   "source": [
    "%%bash\n",
    "cat << EOF > flow.signature\n",
    "# combine workload and environment\n",
    "cat workload.yaml env.yaml | tr -d '\\n' > contract.yaml\n",
    "\n",
    "# Sign the combination from workload and env being approved\n",
    "echo \\$( cat contract.yaml | openssl dgst -sha256 -sign private.pem -passin pass:test1234 | openssl enc -base64) | tr -d ' ' > signature.yaml\n",
    "\n",
    "# Create user data and add signature:\n",
    "echo \"workload: \\$(cat workload.yaml)\n",
    "env: \\$(cat env.yaml)\n",
    "envWorkloadSignature: \\$(cat signature.yaml)\" > user_data.yaml\n",
    "\n",
    "echo \"\"\n",
    "echo \"import `pwd`/user_data.yaml into User Data or copy and paste from below:\"\n",
    "echo \"\"\n",
    "\n",
    "cat user_data.yaml\n",
    "EOF"
   ]
  },
  {
   "cell_type": "markdown",
   "id": "eaead540-52fa-4d86-95af-666061ea3ec8",
   "metadata": {},
   "source": [
    "---\n",
    "\n",
    "### Step 7.11 Create a script to run the other scripts\n",
    "\n",
    "Create a main script to launch the various different scripts, automating the entire process of creating the contract."
   ]
  },
  {
   "cell_type": "code",
   "execution_count": 175,
   "id": "66712d39-42d8-4605-b2e4-7422cb0faf3c",
   "metadata": {},
   "outputs": [],
   "source": [
    "%%bash\n",
    "cat << EOF > makeContract\n",
    ". ./flow.prepare\n",
    "cd workload\n",
    ". ./flow.workload\n",
    "cd ../environment\n",
    ". ./flow.env\n",
    "cd ..\n",
    ". ./flow.signature\n",
    "EOF"
   ]
  },
  {
   "cell_type": "markdown",
   "id": "7541bf19-b419-4b00-901d-0ec06bcc5cdc",
   "metadata": {},
   "source": [
    "---\n",
    "\n",
    "### Step 7.12 Create the contract\n",
    "\n",
    "Create the contract by running the contract creation automation script."
   ]
  },
  {
   "cell_type": "code",
   "execution_count": 184,
   "id": "78837276-5a9e-42ac-9a56-e9b1a2da8898",
   "metadata": {},
   "outputs": [
    {
     "name": "stdout",
     "output_type": "stream",
     "text": [
      "Generating RSA private key, 4096 bit long modulus (2 primes)\n",
      "................................................................................................................................................................................................................++++\n",
      "...................................................................................................................................................................................................................................................................................................................................................................++++\n",
      "e is 65537 (0x010001)\n",
      "writing RSA key\n",
      "./\n",
      "./docker-compose.yml\n",
      "  % Total    % Received % Xferd  Average Speed   Time    Time     Time  Current\n",
      "                                 Dload  Upload   Total   Spent    Left  Speed\n",
      "100  2606  100  2606    0     0   7259      0 --:--:-- --:--:-- --:--:--  7238\n",
      "\n",
      "See /home/jovyan/labdir/secure-build-cli/secure-bitcoin-wallet/workload/workload.yaml.plaintext to see what was encrypted for the workload section of your contract\n",
      "\n",
      "  % Total    % Received % Xferd  Average Speed   Time    Time     Time  Current\n",
      "                                 Dload  Upload   Total   Spent    Left  Speed\n",
      "100  2606  100  2606    0     0  72388      0 --:--:-- --:--:-- --:--:-- 72388\n",
      "\n",
      "See /home/jovyan/labdir/secure-build-cli/secure-bitcoin-wallet/environment/env.yaml.plaintext to see what was encrypted for the env section of your contract\n",
      "\n",
      "\n",
      "import /home/jovyan/labdir/secure-build-cli/secure-bitcoin-wallet/user_data.yaml into User Data or copy and paste from below:\n",
      "\n",
      "workload: hyper-protect-basic.K2jFFGhinznB9/TP94RH9uxSgCtWk/tt46Fn1qeOF5wGO8ed/9r+z7AhYkm7U+IWqE5wYLQ7ICnud/5euSiRHkmXPGo7jIgXeakNG8y24hlPWfP+CKy09Q2FQO9Whqfq4vlG9Vb2qxl/GSyQlSLPeo/QQavmQOJf2/do9ByntPeS9WOa0lN/0zAXxDQ3LO2a7NwVn/VM6d5W6BJF5dBMHiMUg0mEeec951ROr1Vh4WbACdCflDKy97e710FfQVguqcox2+rFS3oYL/a0zqZseIZDCt63tf6Xi37eb/8pHmE2wvCXvU+DfbHQjVpMdJTneeHZTSrhQ7pP33N3/zTTfSMNQadcxv3ARpy3QClmRZhfyy4MPKhI3DslFQ46uobP84xN015DjwUU/R7gPa5BzoSyw46hQQ/Dyp9V85d6tDic6gqvRBleKg7HTq2yBZxNp7mdE70xaRr+DAt0zoIuCKAyHgVwrzAHMg0T1AZ9JdPEy806I4u/ABYoISpsomdy3n6h7eoFKRPKDpZGhGxGVnN/SuVxFs/+7mgFAj86g8u/vnM7MeX/IV5aj0yxI8k7x9FctMnYV+MBpK3h7u2xCbzuSnD89pI486G4n27XD7/RIbAJEqBuOde4NjV5obVxLa1pSsiNu4kWBlj/awNOLre22x5izdULBoijF+Stuac=.U2FsdGVkX18S19SFWof65sFvVCWgnsezvAYyaDAnaz8dSfDtiB3Up4z0q+3dYomEK9BChrAmRw+rF8zqbqRe9ZVMz3YKO2EGLzVK9ccQ6z72eAAhpBBDo7auCA5SJQ54E+hp8390v8Le8qhWUU6fBvwr3R1mFWfw7G2rlOQqq9hbDtiBQ/sFblX+Qbkh82U+jUc2+/N6kNmlPMyaC1ru212owKeu3gd3JlJRkgJTBRRxzE2btAN2+jWEAuZpfCm99sqPqZtaof9Q7iy4+2B7sKiWEmvkz8FUFlIx5Rv2yxdDhMojEJ1FMk3BKTo/fDCF0ZCuerYcJsnO8nnbswa+oW6eD6U3ocRnY01O/tiJ3uWq+W0etQ734k99pwTZe9LG+tz8bKOkdZiU4NOLvowa0d1nUsi15lupIhzdQ+mRc2sW9xJY5BKTh7VbOHJgdSKPF1vRUOS60FaWMfUnzVRvseLUTISL7db/WdZIJveNrrVCdEgVFIsrEgPlurNfI67zMbzy0rcVzHg53YDUkk6HKko+9UFMcmiBFNysLSza2LRVfwZI1/EGphB/XDl2bWHWX1GMKljMYqN0HqzyyIiCxFyDWPCH7ZhmKZRx7TjFUGZ30mj8xE2n1brjp09+HuMteWN1/OwD5KGaIAr/tttW1Q==\n",
      "env: hyper-protect-basic.DO1jKeI7bqE1G1mAR8o5VfRZqdYEKL6E5faf96T70IMefGkVFDAA+KcKq7gRsRTf7TLNAe99C3YOd+Ww4ZZlkoQ4vvvi4I3XsDzHsfBFb1RYj2KmTiFkiBdUNmDFcQxEy5LBqJJzrOxN7GHGF2/w0McaNg5NdHRN1vhM4/gzaJM6DW2UlD8vVUUt/7utwQQfn+g8vI4hyMOnmPggAFA53mp7Ts2o3fqqIVAxES98AYC/hQda7dZnuFpPmjqbgJLFkfMetd4w87tbLhmOq8wUGdt9wUMgrPh1lnHWn0mzT16OnWGpe6Wci4HoiW0oOaclG1gMdycrEhKDr4IKE45Lg3sM+hVkl0nN7wORjFJZmDxojubDBmt33LcI2vedjIU7MIF59QiuYa+gn0Deqxd+PRU1zVks7p8u2CHnokbubiJWAUEROL5OOXZFPEHGZdqKWNhG89PtBV7tXhyZTjprBQ61OfhstoO/hZyqLdZU6dYTLXFKTJiHOXpRuivN70AUkXh63iwkeIJ8t1g++tEjw8ibFhsaC7Njtc9L4gS2He3u090c1kVOtLk9NZqnx9DoJXlsn0RKfmbZc1kBhG0moVMN2jkKxhu51xuAUQ7+a9ymgV7XPOkzspvKQnyfZsL3v7vP6pmNv060wXMosi+gBUxBUFCaod5O451VxE312gI=.U2FsdGVkX1/nNv9KPzfbC7y6R+MWISDu3R4RYAKfQllbM7K2gt/b6P3J4a0luAlaUwTDaYy5o4nd/KXP+1PDuzFBWYMH0CmHrgT3sh7zSgxUx4x24NhPTGhCX95yzZ6hib+gZlcqz7LBlL6JU9uCV4zvc6DFihH4uIGB8uxvBu0gnrcXoDMVaVOg4tRlQgAp+8/beCZwXk4eA3Sv8BVCzQeLM7Qw+9E1YSmPzKBcb2+wO7xOHMPZyiiYpHcewJsXiFwt01AxAlukEbJJT2Q76xLC0sV+o2Xuj8N8VP82j+RUoY/9++JvUP3aLy/fmXLp6ciAIDWyPT2RRum6mf5fIahMwTygwU4Uj2LuHMbkF8gjDhGSP3McWYHM8FI0fwpU7hyGTQPTJfRbVLqsfx0vEuy/EAB2Wfvht/ERpURkVcChHKjt5zAJn2k5hlYDD+fITn3peHCodIDkwPxmpw4i2CePzVgzU7mLjvZZM1E5IkjTJLl7hv3Xc0uZd8SrXfuPALsfLZBqRO/MYx9OtCm3ppaYtEPhd0Ht1iKDvZeUkdRj798Dh3QkXI99Km8fHRrHNXoJz9c9LdItdZD+8K+wa3VpQIszgW3ck2x7N4yCErL+oFrER12Id0l0Y+BkMeQM5jWl1Rwk0BTQQadZyuIlt4HUHNAXCgejw/cSNnYGhEvpEZrYBzuLuc5izWptqIMjwdBxiXIhksoW7Psa7kblJ88MUy5X/WPNZrw8KK/EqJRMHGt7xH6tyVF4ieykPaWKBm02Oq0rkNcdCdMjxxmjdza2ZBPjN7bJpXXL4V3Bqee26lP637o9kowBmlgl7D2H/dxPV33Cq0I9X2tFy55wB9Onu9taCWh6KIoKkUFDwTfNAT+1p9Icyf5L8G7zsqZYeWUMFMLPB0ccYW6WHQ0lMzjm1OK3Tmf2O6qXaqR5UtXmnS2GNV1wl6oGCpxFPKXyeBBRpFxG5sYL35Zl09E16mpakQgZgrurlGMIYvirqiDmFGsyuoLuEeAsE5RfLlBTbEk7Ox0eiaUztGZOBuvz9rjdxXRhs5kt49VcgNm6D68oIlcDuOIffSPUpuw41qUQ4bjPg1G81fc76kQFTFqp6SmdHkF8Od7UkP6cLrR0kF+K7Ck6IpEUz8FO6ZLHgYHFh7mQmKp9Tf2wMDANo27zFBpjyKnecr7QnfsbIURp17cD831KVhNvsuiuVEa+B5U72vz8W30i57sg8aK8+a3gDcyFvpbeMdqbcKsKPoc4/V3ILwaDT3ocSZztwfv2QwqoW6xXKXdV/iDv9kTym+oRs89LVzgQxCuXqAlz0u07RUzzit9qmQ+2hclSEZ8iMKbZ\n",
      "envWorkloadSignature: og5kf/X7dsXuXsUmfGgqwAzFvzvcVGlrYzzuWRwCRTyvV93hYqpDHIzPusJvyQz/9M1m0owLEPRXhDdczYboK+A9CyZ3tsZR7WvSDam57neV1Nd8Ok0HsMiAR1G5py50echmld+HDYY3SLJt+DrREIaguCkZ/KPK12oUZFsdptFMUnpG25k5nhIp8xK6n+ruSIcrFopmo8gBfIqbwkvcw9ilLD49g3po0/nZpZ/TTTtlheSNb6Ui7YYR8UOg3t47bZLU8g7HYD151+DV9rkhFTVUGCQ1QCCgpRfcXv3RLJmUidfv5aa1PMd+B78yMH3wPv0NjJQNYSjgXCx6zFEX8qibUo4v3XPPW8M3DNONHCmKpBnbS/N2cLHCgYlDzo5n5IF/nXLPLj2Rb61/MABWEgoKFUQfSsRp532yH+5Xo8wE5Vvd0D1xon8o6wwBHv3nJIi69Xspq21YsACqA0zzArPZvSb+Xt6haPXp80WZ7TahGlHq4Kqn14/6adjHJXZb8WzTDoEbPreJXqS6lonDrEMu+sblP0/QLvgmqFA0Tfe8BJcvXqXu5a9u6LcIXvStJ7XnrlzWg7NLkTP6Pr3g3ZacMfgd+kdMo9HskpzilMCukAOICxWfoojmM0g8v54m0YD36ICxzP0QdCQaY0E5sLv5I8R3HPrIsX/BPEXEHaw=\n"
     ]
    }
   ],
   "source": [
    "! . ./makeContract"
   ]
  },
  {
   "cell_type": "markdown",
   "id": "e1c898ae-870e-425b-8bcd-bb248e4ecd3a",
   "metadata": {},
   "source": [
    "---\n",
    "\n",
    "### Step 7.13 Set an environment variable for your HPVS for VPC Instance\n",
    "\n",
    "Set an environment variable with your HPVS for VPC instance name"
   ]
  },
  {
   "cell_type": "code",
   "execution_count": 185,
   "id": "15e056e8-8774-4adb-9dc3-3b35f1e766e5",
   "metadata": {},
   "outputs": [
    {
     "name": "stdout",
     "output_type": "stream",
     "text": [
      "env: sbw_instance=secure-bitcoin-wallet\n"
     ]
    }
   ],
   "source": [
    "%set_env sbw_instance=secure-bitcoin-wallet"
   ]
  },
  {
   "cell_type": "markdown",
   "id": "nuclear-seven",
   "metadata": {},
   "source": [
    "---\n",
    "\n",
    "### Step 7.14 Launch your HPVS for VPC Instance\n",
    "\n",
    "Create your HPVS for VPC Instance with the following command"
   ]
  },
  {
   "cell_type": "code",
   "execution_count": 188,
   "id": "continent-chapter",
   "metadata": {},
   "outputs": [
    {
     "name": "stdout",
     "output_type": "stream",
     "text": [
      "Creating instance \u001b[36;1msecure-bitcoin-wallet\u001b[0m in resource group \u001b[36;1mdefault\u001b[0m under account \u001b[36;1mIBM\u001b[0m as user \u001b[36;1mGarrett.Lee.Woodworth@ibm.com\u001b[0m...\n",
      "\u001b[1m\u001b[0m                                      \u001b[1m\u001b[0m   \n",
      "\u001b[36;1mID\u001b[0m                                    0757_f1a5bbdf-5fc8-4f49-a99f-11e9c778c343   \n",
      "\u001b[36;1mName\u001b[0m                                  secure-bitcoin-wallet   \n",
      "\u001b[36;1mCRN\u001b[0m                                   crn:v1:bluemix:public:is:us-east-1:a/5ddc6205e6ebbdc9348ec241cf1f51a8::instance:0757_f1a5bbdf-5fc8-4f49-a99f-11e9c778c343   \n",
      "\u001b[36;1mStatus\u001b[0m                                pending   \n",
      "\u001b[36;1mAvailability policy on host failure\u001b[0m   restart   \n",
      "\u001b[36;1mStartable\u001b[0m                             true   \n",
      "\u001b[36;1mProfile\u001b[0m                               bz2e-1x4   \n",
      "\u001b[36;1mArchitecture\u001b[0m                          s390x   \n",
      "\u001b[36;1mvCPU Manufacturer\u001b[0m                     ibm   \n",
      "\u001b[36;1mvCPUs\u001b[0m                                 1   \n",
      "\u001b[36;1mMemory(GiB)\u001b[0m                           4   \n",
      "\u001b[36;1mBandwidth(Mbps)\u001b[0m                       2000   \n",
      "\u001b[36;1mVolume bandwidth(Mbps)\u001b[0m                500   \n",
      "\u001b[36;1mNetwork bandwidth(Mbps)\u001b[0m               1500   \n",
      "\u001b[36;1mLifecycle Reasons\u001b[0m                     \u001b[1mCode\u001b[0m   \u001b[1mMessage\u001b[0m      \n",
      "\u001b[36;1m\u001b[0m                                      \u001b[36;1m-\u001b[0m      -      \n",
      "\u001b[36;1m\u001b[0m                                         \n",
      "\u001b[36;1mLifecycle State\u001b[0m                       pending   \n",
      "\u001b[36;1mMetadata service\u001b[0m                      \u001b[1mEnabled\u001b[0m   \u001b[1mProtocol\u001b[0m   \u001b[1mResponse hop limit\u001b[0m      \n",
      "\u001b[36;1m\u001b[0m                                      \u001b[36;1mfalse\u001b[0m     http       1      \n",
      "\u001b[36;1m\u001b[0m                                         \n",
      "\u001b[36;1mImage\u001b[0m                                 \u001b[1mID\u001b[0m                                          \u001b[1mName\u001b[0m      \n",
      "\u001b[36;1m\u001b[0m                                      \u001b[36;1mr014-282de74a-2a6d-4a5b-837a-f9c4329576dc\u001b[0m   ibm-hyper-protect-container-runtime-1-0-s390x-11      \n",
      "\u001b[36;1m\u001b[0m                                         \n",
      "\u001b[36;1mVPC\u001b[0m                                   \u001b[1mID\u001b[0m                                          \u001b[1mName\u001b[0m      \n",
      "\u001b[36;1m\u001b[0m                                      \u001b[36;1mr014-8cf567dc-da87-4567-93c4-c41ceca06436\u001b[0m   secure-build-vpc      \n",
      "\u001b[36;1m\u001b[0m                                         \n",
      "\u001b[36;1mZone\u001b[0m                                  us-east-1   \n",
      "\u001b[36;1mResource group\u001b[0m                        \u001b[1mID\u001b[0m                                 \u001b[1mName\u001b[0m      \n",
      "\u001b[36;1m\u001b[0m                                      \u001b[36;1m6f357188ee3a42ea8a9a252d66b8c9d5\u001b[0m   default      \n",
      "\u001b[36;1m\u001b[0m                                         \n",
      "\u001b[36;1mCreated\u001b[0m                               2023-08-30T01:35:38+00:00   \n",
      "\u001b[36;1mBoot volume\u001b[0m                           \u001b[1mID\u001b[0m   \u001b[1mName\u001b[0m   \u001b[1mAttachment ID\u001b[0m                               \u001b[1mAttachment name\u001b[0m      \n",
      "\u001b[36;1m\u001b[0m                                      \u001b[36;1m-\u001b[0m    -      0757-85c724f7-3e41-4dd2-972e-d71e55da628c   outsource-penniless-pursuit-tableware      \n",
      "\u001b[36;1m\u001b[0m                                         \n"
     ]
    }
   ],
   "source": [
    "! ibmcloud is instance-create $sbw_instance $vpc $zone bz2e-1x4 $subnet --image r014-282de74a-2a6d-4a5b-837a-f9c4329576dc --user-data @user_data.yaml"
   ]
  },
  {
   "cell_type": "markdown",
   "id": "unlimited-reggae",
   "metadata": {},
   "source": [
    "---\n",
    "\n",
    "### Step 7.15 Check the status of your HPVS for VPC Instance\n",
    "\n",
    "Check the status of your secure bitcoin wallet instance by checking the logs of your deployment in LogDNA. \n",
    "\n",
    "If you have for some reason closed your LogDNA instance, navigate to the IBM Cloud UI (signing in if necessary) via [this link](https://cloud.ibm.com/observe/logging) which will take you to your logging instances. Then, click the blue **Open Dashboard** button in the upper right for the logDNA instance you are using for this lab.\n",
    "\n",
    "If there are issues with your deployment contact an instructor for help unraveling them. "
   ]
  },
  {
   "cell_type": "markdown",
   "id": "10ece690-d397-4607-9901-7fcc698ea5da",
   "metadata": {},
   "source": [
    "---\n",
    "\n",
    "### Step 7.16 Find the nic for your newly created HPVS for VPC instance\n",
    "\n",
    "Find the nic for your VPC instance."
   ]
  },
  {
   "cell_type": "code",
   "execution_count": 189,
   "id": "b3f20a6f-c84c-4be9-9711-fe6a493d5571",
   "metadata": {},
   "outputs": [
    {
     "name": "stdout",
     "output_type": "stream",
     "text": [
      "Listing network interfaces of instance \u001b[36;1msecure-bitcoin-wallet\u001b[0m under account \u001b[36;1mIBM\u001b[0m as user \u001b[36;1mGarrett.Lee.Woodworth@ibm.com\u001b[0m...\n",
      "\u001b[1mID\u001b[0m                                          \u001b[1mName\u001b[0m      \u001b[1mType\u001b[0m      \u001b[1mSubnet\u001b[0m                \u001b[1mReserved IP\u001b[0m   \u001b[1mSecurity groups\u001b[0m                      \u001b[1mFloatIPs\u001b[0m   \u001b[1mCreated\u001b[0m                     \u001b[1mStatus\u001b[0m      \u001b[1mAllow source IP spoofing\u001b[0m   \u001b[1mSpeed\u001b[0m   \n",
      "\u001b[36;1m0757-2d34cf82-179a-413b-8b01-c642c80de0e2\u001b[0m   primary   primary   secure-build-subnet   10.241.0.7    curvature-unmanaged-humming-uptown   -          2023-08-30T01:35:37+00:00   available   false                      1500   \n"
     ]
    }
   ],
   "source": [
    "! ibmcloud is instance-network-interfaces $sbw_instance"
   ]
  },
  {
   "cell_type": "markdown",
   "id": "b49aca37-4e40-4753-94c4-f7c7001b218c",
   "metadata": {},
   "source": [
    "---\n",
    "\n",
    "### Step 7.17 Set nic based on above output\n",
    "\n",
    "Set an environment variable for your nic based on the above output by pasting the above ID into the code block below after the `=` sign and then running the code block."
   ]
  },
  {
   "cell_type": "code",
   "execution_count": 190,
   "id": "887cee01-9648-4921-abab-9e2689561c15",
   "metadata": {},
   "outputs": [
    {
     "name": "stdout",
     "output_type": "stream",
     "text": [
      "env: sbw_nic=0757-2d34cf82-179a-413b-8b01-c642c80de0e2\n"
     ]
    }
   ],
   "source": [
    "%set_env sbw_nic="
   ]
  },
  {
   "cell_type": "markdown",
   "id": "ed08072b-9548-4db5-880e-40f14fa0db49",
   "metadata": {},
   "source": [
    "---\n",
    "\n",
    "### Step 7.18 Create a floating IP for the HPVS for VPC instance\n",
    "\n",
    "Create a floating IP for the HPVS for VPC Instance to access it via an IP"
   ]
  },
  {
   "cell_type": "code",
   "execution_count": 191,
   "id": "9e2b505a-4b98-4f6b-8872-9c0666e90d9d",
   "metadata": {},
   "outputs": [
    {
     "name": "stdout",
     "output_type": "stream",
     "text": [
      "Creating floating IP \u001b[36;1mbitcoin-wallet-fip\u001b[0m in resource group \u001b[36;1mdefault\u001b[0m under account \u001b[36;1mIBM\u001b[0m as user \u001b[36;1mGarrett.Lee.Woodworth@ibm.com\u001b[0m...\n",
      "\u001b[1m\u001b[0m                 \u001b[1m\u001b[0m   \n",
      "\u001b[36;1mID\u001b[0m               r014-21848e06-8483-4086-92ba-21196f7a605a   \n",
      "\u001b[36;1mAddress\u001b[0m          150.239.108.67   \n",
      "\u001b[36;1mName\u001b[0m             bitcoin-wallet-fip   \n",
      "\u001b[36;1mCRN\u001b[0m              crn:v1:bluemix:public:is:us-east-1:a/5ddc6205e6ebbdc9348ec241cf1f51a8::floating-ip:r014-21848e06-8483-4086-92ba-21196f7a605a   \n",
      "\u001b[36;1mStatus\u001b[0m           available   \n",
      "\u001b[36;1mZone\u001b[0m             us-east-1   \n",
      "\u001b[36;1mCreated\u001b[0m          2023-08-30T02:01:08+00:00   \n",
      "\u001b[36;1mTarget\u001b[0m           \u001b[1mID\u001b[0m                                          \u001b[1mTarget type\u001b[0m         \u001b[1mInstance ID\u001b[0m                                 \u001b[1mTarget interface name\u001b[0m   \u001b[1mTarget interface private IP\u001b[0m      \n",
      "\u001b[36;1m\u001b[0m                 \u001b[36;1m0757-2d34cf82-179a-413b-8b01-c642c80de0e2\u001b[0m   network_interface   0757_f1a5bbdf-5fc8-4f49-a99f-11e9c778c343   primary                 10.241.0.7      \n",
      "\u001b[36;1m\u001b[0m                    \n",
      "\u001b[36;1mResource group\u001b[0m   default   \n"
     ]
    }
   ],
   "source": [
    "! ibmcloud is floating-ip-reserve bitcoin-wallet-fip --nic $sbw_nic"
   ]
  },
  {
   "cell_type": "markdown",
   "id": "optimum-singer",
   "metadata": {},
   "source": [
    "---\n",
    "\n",
    "### Step 7.19 Edit this markdown cell to create a clickable link to get to your sample application\n",
    "\n",
    "Once your instance is active, note the value of the _Address_ field from the output from _Step 7.19_.  \n",
    "\n",
    "Double-click anywhere within this paragraph to go into _edit_ mode of this markdown cell.  Then, in the final line of this markdown cell, change `xx.xx.xx.xx` to your public IP address.  The actual URL is on the right side of the line (between parentheses). The text of the link is on the left side of the line in between square brackets.  You may as well change both occurrences of `xx.xx.xx.xx` for clarity, but the one that matters is the link on the right side.   (If you don't see both sides you haven't succesfully got into edit mode—keep trying or ask an instructor for help).  After you have made the change, run this markdown cell by clicking the *Run* icon in the Jupyter Notebook menu above. This will render the markdown and present you with the properly formatted link. Click the link and you will bring up your sample secure bitcoin wallet application.\n",
    "\n",
    "[Change the xxx.xxx.xxx.xxx to your public IP and then click here](https://xxx.xxx.xxx.xxx/electrum)"
   ]
  },
  {
   "cell_type": "markdown",
   "id": "european-analyst",
   "metadata": {},
   "source": [
    "---\n",
    "\n",
    "## Running the Secure Bitcoin Wallet Application in your HPVS for VPC instance\n",
    "\n",
    "### Overview\n",
    "\n",
    "This application is a secure [Electrum](https://electrum.org/#home) Bitcoin wallet found at [this GitHub repository](https://github.com/IBM/secure-bitcoin-wallet). You can use it to store the identities necessary to transact on the Bitcoin public blockchain network. While this version of the wallet is just a proof of concept, running this type of wallet on Hyper Protect enables you to protect your digital assets from bad actors such as malicious server administrators.\n",
    "\n",
    "*This Electrum Bitcoin wallet functions regularly, while inheriting the security benefits of the Hyper Protect Virtual Server for VPC platform. This ensures that a legitimate version of the application is running (Secure Image Build process) and that administrators cannot compromise the application (Hyper Protect Virtual Server for VPC deployment).*\n",
    "\n",
    "Here is an overview diagram of the _sample secure bitcoin wallet application_ that you built in this lab: \n",
    "\n",
    "![Secure Bitcoin Overview](images/sampleapparch.png)\n",
    "\n",
    "The application, by default, uses software cryptography in order to generate keys, but it can also be configured to use _Hyper Protect Crypto Services_ in order to generate keys more securely, which is what you have done earlier in this lab when you specified the _ZHSM_ and the _APIKEY_ environment variables in _Step 7.2_.\n",
    "\n",
    "\n",
    "### Step 8.1 Account Registration\n",
    "\n",
    "Registering a fake account for lab purposes.\n",
    "\n",
    "1. Choose `Register` since you won't have an existing account on the newly deployed server.\n",
    "\n",
    "    ![Secure Bitcoin Wallet Welcome](Bitcoin_Wallet_Images/Bitcoin_Wallet_Homepage.png)\n",
    "\n",
    "2. Enter the registration details you desire.\n",
    "\n",
    "    ![User Registration](Bitcoin_Wallet_Images/Wallet_register_info.png)\n",
    "\n",
    "\n",
    "*Do not worry about the information you enter on the registration page (shown below) as it won't map to anything critical to the real world.  You just need your password to log back in if you log out of the application.*\n",
    "\n",
    "### Step 8.2 Wallet initialization\n",
    "\n",
    "It's time to set up your Secure Electrum Bitcoin wallet itself!\n",
    "\n",
    "1. Bring up the wallet screen\n",
    "\n",
    "    ![Wallet Start](Bitcoin_Wallet_Images/Click_Wallet_Start.png)\n",
    "\n",
    "2. Enter in a `password` for your wallet and click `Create Wallet`\n",
    "\n",
    "    ![Create Wallet](Bitcoin_Wallet_Images/Create_Wallet.png)\n",
    "\n",
    "3. Load your newly created wallet to enable it\n",
    "\n",
    "    ![Load Wallet](Bitcoin_Wallet_Images/Load_Wallet.png)\n",
    "\n",
    "4. Reload the page\n",
    "\n",
    "    ![Initialized Wallet](Bitcoin_Wallet_Images/Reload_new_wallet.png)\n",
    "\n",
    "5. Your wallet is ready for use in all of its glory\n",
    "\n",
    "    ![Locked and Loaded Wallet](Bitcoin_Wallet_Images/Loaded_Wallet_Time.png)\n",
    "\n",
    "### Step 8.3 Receiving Bitcoins\n",
    "\n",
    "A wallet without currency is blasphemy, so it's time to fill it on up with fake bitcoins.\n",
    "\n",
    "1. Go to the `Receive` section of the wallet and get the bitcoin wallet address.  \n",
    "\n",
    "    ![Wallet receiving bitcoin](Bitcoin_Wallet_Images/Receiving_bitcoin.png)\n",
    "\n",
    "    *This is the address whose alloted bitcoins you lay claim to.*\n",
    "\n",
    "2. Open [this bitcoin test faucet site](https://testnet-faucet.com/btc-testnet/) [click on the link] and use it to transfer bitcoin value to the `Receiving address` in your wallet **from step 1 above**.\n",
    "\n",
    "    ![Transfer Bitcoins](Bitcoin_Wallet_Images/Send_bitcoins_to_wallet.png)\n",
    "\n",
    "    *Instead of transacting on the \"real\" bitcoin blockchain network, we are using a [testnet](https://medium.com/myetherwallet/understanding-blockchain-changes-testnets-and-mainnets-c2171a8e835f). This means that the network participants agree that the assets on the network have no value. Testnets are used for testing changes to the network, testing applications and introducing new users to the technical aspects of network. There are testnets for many of the public blockchain networks including of course bitcoin and ethereum. Test faucets (like the one we are using) act as distributors of tokens to other users on the testnet.*\n",
    "\n",
    "3. Switch back to your wallet tab and go to the `History` section and then reload the page.\n",
    "\n",
    "    ![Check History](Bitcoin_Wallet_Images/Check_History_Receive_Transaction.png)\n",
    "\n",
    "4. You should now see your wallet address as the recipient of a `pending transaction` from the bitcoin testnet faucet.\n",
    "\n",
    "    ![First Transaction History](Bitcoin_Wallet_Images/Transaction_History_no_confirmations.png)\n",
    "\n",
    "5. After clicking for more information you get a detailed transaction overview\n",
    "\n",
    "    ![Receive Transaction 0 Confirmations](Bitcoin_Wallet_Images/0_confirmations_block_details.png)\n",
    "\n",
    "    *The number of [confirmations](https://en.bitcoin.it/wiki/Confirmation) a block receives is the number of blocks deep the block that has included the blockchain transaction is. In other words, `1 confirmation` means that the current head block includes the transaction. `2 confirmations` means that the current head block's parent block contains the transaction and so on. The deeper the transaction is (more confirmations it has) the more mining power it would take to \"reverse history\" and undo the transaction.*\n",
    "\n",
    "    Since there are `0 confirmations` in the picture above, it means that the transaction is not yet included in a block. This is why it has no timestamp yet and its block number is listed as `0`.\n",
    "\n",
    "6. After waiting anywhere from a minute to a few minutes (depending on the current testnet traffic) you should see a confirmation on your transaction.\n",
    "\n",
    "    *You will need to keep reloading the page for it to update. It doesn't update automatically.*\n",
    "\n",
    "    ![1 Confirmation Received](Bitcoin_Wallet_Images/1_Confirmation_Received.png)\n",
    "\n",
    "    There is now a timestamp and a block number!\n",
    "\n",
    "    *As time passes more confirmations will accumulate. You can check on the `confirmations` again at the end of the lab to show yourself this (Given enough time has passed for one or more additional confirmations to occur).*\n",
    "\n",
    "### Step 8.4 Returning Bitcoins\n",
    "\n",
    "Since you are feeling charitable you decide to transfer your testnet value back to the faucet's address.\n",
    "\n",
    "1. Go back to [the faucet site](https://testnet-faucet.com/btc-testnet/) and get its bitcoin address\n",
    "\n",
    "    ![Faucet Address](Bitcoin_Wallet_Images/testnet_faucet_address.png)\n",
    "\n",
    "    *This address is here for easy copy and paste (ensure this matches what the application shows in the browser before using this, as the bitcoin address they use for returning funds changes occasionally):\n",
    "\n",
    "    ``` bash\n",
    "    tb1ql7w62elx9ucw4pj5lgw4l028hmuw80sndtntxt\n",
    "    ```\n",
    "\n",
    "\n",
    "2. Send bitcoins to faucet using `Send` section of wallet\n",
    "\n",
    "    ![Send Bitcoins to Faucet](Bitcoin_Wallet_Images/Send_bitcoins_back_to_faucet.png)\n",
    "\n",
    "3. Once sent you will see the `Signed transaction` information filled out on your wallet page.\n",
    "\n",
    "    ![Bitcoins Sent Back to Faucet](Bitcoin_Wallet_Images/bitcoin_send_transaction_output.png)\n",
    "\n",
    "4. You can go back to the [bitcoin faucet site](https://bitcoinfaucet.uo1.net/send.php) (you may have to refresh the page) and see the transaction as green there with a sender of your address and a transaction ID matching the one you sent.\n",
    "\n",
    "    ![Bitcoins returned to faucet](Bitcoin_Wallet_Images/transaction_giving_coins_back_to_faucet.png)\n",
    "\n",
    "5. You can view both the initial received transaction and the newly sent transaction in the `History` tab of your bitcoin wallet.\n",
    "\n",
    "    *You have to keep reloading the page for it to update with new confirmations. If you wait long enough, eventually these transactions will gain confirmations as in the picture below*\n",
    "\n",
    "    ![Both transactions with 1 confirmation](Bitcoin_Wallet_Images/both_confirmed_transactions.png)\n",
    "\n",
    "6. You can continue to play around with the electrum wallet before moving on.\n",
    "\n",
    "### Summary\n",
    "\n",
    "You have participated in the bitcoin testnet using a securely built electrum bitcoin wallet powered by a Hyper Protect Virtual Server. Congratulations!!! \n",
    "\n",
    "Now, it's time to clean up.."
   ]
  },
  {
   "cell_type": "markdown",
   "id": "talented-lexington",
   "metadata": {},
   "source": [
    "---\n",
    "\n",
    "## Clean up when you are done with the lab"
   ]
  },
  {
   "cell_type": "markdown",
   "id": "complete-quick",
   "metadata": {},
   "source": [
    "This section describes important cleanup steps to perform when you have completed the lab. It will guide you through deleting the following artifacts that you created during the lab:\n",
    "\n",
    "1. The Secure Build Server HPVS for VPC instance you created\n",
    "2. The Sample Secure Bitcoin Wallet Application HPVS for VPC instance you created\n",
    "3. The subnet you created for this lab\n",
    "4. The public gateway you created for this lab\n",
    "5. The 2 floating ips you created for this lab\n",
    "6. The Secure Build Server volume you created\n",
    "7. The VPC you created for this lab\n",
    "8. The logDNA instance you created for this lab (skip if using existing instance)\n",
    "9. The Secure Bitcoin Wallet Application container image that you created for this lab\n",
    "10. The IBM Container Registry namespace that you created for this lab\n",
    "11. The IBM Cloud IAM Key you created for this lab\n",
    "12. The GitHub ssh key you created for this lab\n"
   ]
  },
  {
   "cell_type": "markdown",
   "id": "critical-fellowship",
   "metadata": {},
   "source": [
    "---\n",
    "\n",
    "### Step 9.1 Delete your Secure Build Server HPVS for VPC instance\n",
    "\n",
    "Run the following code block to delete your secure build Server HPVS for VPC instance."
   ]
  },
  {
   "cell_type": "code",
   "execution_count": 192,
   "id": "suspended-upgrade",
   "metadata": {},
   "outputs": [
    {
     "name": "stdout",
     "output_type": "stream",
     "text": [
      "Deleting instance \u001b[36;1msecure-build-server\u001b[0m under account \u001b[36;1mIBM\u001b[0m as user \u001b[36;1mGarrett.Lee.Woodworth@ibm.com\u001b[0m...\n",
      "\u001b[32;1mOK\u001b[0m\n",
      "Deletion request for instance secure-build-server has been accepted.\n"
     ]
    }
   ],
   "source": [
    "! ibmcloud is instance-delete $instance --force"
   ]
  },
  {
   "cell_type": "markdown",
   "id": "prescribed-consultancy",
   "metadata": {},
   "source": [
    "---\n",
    "\n",
    "### Step 9.2 Delete your sample Secure Bitcoin Wallet Application HPVS for VPC instance\n",
    "\n",
    "Running the following code cell to delete your secure bitcoin for application."
   ]
  },
  {
   "cell_type": "code",
   "execution_count": 193,
   "id": "selected-water",
   "metadata": {},
   "outputs": [
    {
     "name": "stdout",
     "output_type": "stream",
     "text": [
      "Deleting instance \u001b[36;1msecure-bitcoin-wallet\u001b[0m under account \u001b[36;1mIBM\u001b[0m as user \u001b[36;1mGarrett.Lee.Woodworth@ibm.com\u001b[0m...\n",
      "\u001b[32;1mOK\u001b[0m\n",
      "Deletion request for instance secure-bitcoin-wallet has been accepted.\n"
     ]
    }
   ],
   "source": [
    "! ibmcloud is instance-delete $sbw_instance --force"
   ]
  },
  {
   "cell_type": "markdown",
   "id": "4bcaacc9-fee5-4937-b5de-8b048b93b52a",
   "metadata": {},
   "source": [
    "### Step 9.3 Delete the subnet for your VPC\n",
    "\n",
    "Run the following code block to delete the subnet you created for this lab. If you get a failed to delete you may need to wait a minute or so for the instances too be fully deleted before re-running this command."
   ]
  },
  {
   "cell_type": "code",
   "execution_count": 196,
   "id": "b806fbbd-bdb1-4812-942b-8c4b13228f08",
   "metadata": {},
   "outputs": [
    {
     "name": "stdout",
     "output_type": "stream",
     "text": [
      "Deleting subnet \u001b[36;1msecure-build-subnet\u001b[0m under account \u001b[36;1mIBM\u001b[0m as user \u001b[36;1mGarrett.Lee.Woodworth@ibm.com\u001b[0m...\n",
      "\u001b[32;1mOK\u001b[0m\n",
      "Subnet \u001b[36;1msecure-build-subnet\u001b[0m is deleted.\n"
     ]
    }
   ],
   "source": [
    "! ibmcloud is subnet-delete $subnet --force"
   ]
  },
  {
   "cell_type": "markdown",
   "id": "aaa9e448-8dfa-46a5-8333-bfe9027d262f",
   "metadata": {},
   "source": [
    "---\n",
    "\n",
    "### Step 9.4 Delete your public gateway\n",
    "\n",
    "Run the following code block to delete the public gateway you created for this lab."
   ]
  },
  {
   "cell_type": "code",
   "execution_count": 197,
   "id": "a04e16d4-c971-4246-bbd6-11052020474d",
   "metadata": {},
   "outputs": [
    {
     "name": "stdout",
     "output_type": "stream",
     "text": [
      "Deleting public gateway \u001b[36;1msecure-build-gateway\u001b[0m under account \u001b[36;1mIBM\u001b[0m as user \u001b[36;1mGarrett.Lee.Woodworth@ibm.com\u001b[0m...\n",
      "\u001b[32;1mOK\u001b[0m\n",
      "Public gateway \u001b[36;1msecure-build-gateway\u001b[0m is deleted.\n"
     ]
    }
   ],
   "source": [
    "! ibmcloud is public-gateway-delete $gateway --force"
   ]
  },
  {
   "cell_type": "markdown",
   "id": "97883967-b216-4c39-8bc2-ee4d7919586d",
   "metadata": {},
   "source": [
    "---\n",
    "\n",
    "### Step 9.5 Deleting the Floating IPS you created for this lab\n",
    "\n",
    "Run the following two code blocks to delete the floating IPs you created for this lab."
   ]
  },
  {
   "cell_type": "code",
   "execution_count": 198,
   "id": "c1931274-d77c-46ee-940a-ab357ddb7e79",
   "metadata": {},
   "outputs": [
    {
     "name": "stdout",
     "output_type": "stream",
     "text": [
      "Deleting floating IP \u001b[36;1msecure-build-fip\u001b[0m under account \u001b[36;1mIBM\u001b[0m as user \u001b[36;1mGarrett.Lee.Woodworth@ibm.com\u001b[0m...\n",
      "\u001b[32;1mOK\u001b[0m\n",
      "Floating IP \u001b[36;1msecure-build-fip\u001b[0m is deleted.\n"
     ]
    }
   ],
   "source": [
    "! ibmcloud is floating-ip-release secure-build-fip --force"
   ]
  },
  {
   "cell_type": "code",
   "execution_count": 199,
   "id": "8da54cc0-aa62-4766-bee3-2a9ea1ce02f4",
   "metadata": {},
   "outputs": [
    {
     "name": "stdout",
     "output_type": "stream",
     "text": [
      "Deleting floating IP \u001b[36;1mbitcoin-wallet-fip\u001b[0m under account \u001b[36;1mIBM\u001b[0m as user \u001b[36;1mGarrett.Lee.Woodworth@ibm.com\u001b[0m...\n",
      "\u001b[32;1mOK\u001b[0m\n",
      "Floating IP \u001b[36;1mbitcoin-wallet-fip\u001b[0m is deleted.\n"
     ]
    }
   ],
   "source": [
    "! ibmcloud is floating-ip-release bitcoin-wallet-fip --force"
   ]
  },
  {
   "cell_type": "markdown",
   "id": "26b97a11-50f3-4c50-a468-ab25e85d50ca",
   "metadata": {},
   "source": [
    "---\n",
    "\n",
    "### Step 9.6 Delete your Secure Build Server volume\n",
    "\n",
    "Run the following code block to delete your secure build server volume."
   ]
  },
  {
   "cell_type": "code",
   "execution_count": 200,
   "id": "d652bafd-2dd3-4ce2-8235-3005851e2415",
   "metadata": {},
   "outputs": [
    {
     "name": "stdout",
     "output_type": "stream",
     "text": [
      "Deleting volume \u001b[36;1msecure-build-volume\u001b[0m under account \u001b[36;1mIBM\u001b[0m as user \u001b[36;1mGarrett.Lee.Woodworth@ibm.com\u001b[0m...\n",
      "\u001b[32;1mOK\u001b[0m\n",
      "Volume \u001b[36;1msecure-build-volume\u001b[0m is deleted.\n"
     ]
    }
   ],
   "source": [
    "! ibmcloud is volume-delete secure-build-volume --force"
   ]
  },
  {
   "cell_type": "markdown",
   "id": "ab4123a5-8320-496d-ad56-85e1dff9aafd",
   "metadata": {},
   "source": [
    "---\n",
    "\n",
    "### Step 9.6 Delete the VPC you created for this lab\n",
    "\n",
    "Run the following code block to delete the VPC you created for this lab."
   ]
  },
  {
   "cell_type": "code",
   "execution_count": 201,
   "id": "fc34b812-b174-48d1-a90e-d4b3f4b01e8d",
   "metadata": {},
   "outputs": [
    {
     "name": "stdout",
     "output_type": "stream",
     "text": [
      "Deleting vpc \u001b[36;1msecure-build-vpc\u001b[0m under account \u001b[36;1mIBM\u001b[0m as user \u001b[36;1mGarrett.Lee.Woodworth@ibm.com\u001b[0m...\n",
      "\u001b[32;1mOK\u001b[0m\n",
      "vpc \u001b[36;1msecure-build-vpc\u001b[0m is deleted.\n"
     ]
    }
   ],
   "source": [
    "! ibmcloud is vpc-delete $vpc --force"
   ]
  },
  {
   "cell_type": "markdown",
   "id": "0d77ab26-bf35-42e6-a986-830a320037a2",
   "metadata": {
    "tags": []
   },
   "source": [
    "---\n",
    "\n",
    "### Step 9.7 Delete the logDNA instance you created for this lab\n",
    "\n",
    "Run the following code block to delete the logDNA instance you created for this lab."
   ]
  },
  {
   "cell_type": "code",
   "execution_count": 203,
   "id": "89aa5818-c280-4095-9e7e-cc1dd6148d90",
   "metadata": {},
   "outputs": [
    {
     "name": "stdout",
     "output_type": "stream",
     "text": [
      "Deleting service instance \u001b[36;1msecure-build-logdna\u001b[0m in resource group \u001b[36;1mdefault\u001b[0m under account \u001b[36;1mIBM\u001b[0m as \u001b[36;1mGarrett.Lee.Woodworth@ibm.com\u001b[0m...\n",
      "\u001b[32;1mOK\u001b[0m\n",
      "Service instance \u001b[36;1msecure-build-logdna\u001b[0m with ID \u001b[36;1mcrn:v1:bluemix:public:logdna:us-east:a/5ddc6205e6ebbdc9348ec241cf1f51a8:8591f887-6f90-48cd-a66e-720a294417b4::\u001b[0m is deleted successfully\n"
     ]
    }
   ],
   "source": [
    "! ibmcloud resource service-instance-delete secure-build-logdna --force"
   ]
  },
  {
   "cell_type": "markdown",
   "id": "0bdb943e-de69-4073-9a91-8e460334741e",
   "metadata": {},
   "source": [
    "---\n",
    "\n",
    "### Step 9.8 List your IBM Cloud Container Registry images\n",
    "\n",
    "Run the following code cell to list your IBM Cloud Container Registry images:"
   ]
  },
  {
   "cell_type": "code",
   "execution_count": 211,
   "id": "aacd1872-6a4a-49ff-b272-59f15f07a096",
   "metadata": {},
   "outputs": [
    {
     "name": "stdout",
     "output_type": "stream",
     "text": [
      "Listing images...\n",
      "\n",
      "You have no images in the namespaces for this account, or you are not authorized to view any namespaces for this account.\n",
      "Push an image, or ensure that the IAM access policy for this account grants you Reader or Manager access to at least one namespace.\n",
      "To see IBM-provided images, run '\u001b[33;1mibmcloud cr image-list --include-ibm\u001b[0m'.\n",
      "\n"
     ]
    }
   ],
   "source": [
    "! ibmcloud cr images"
   ]
  },
  {
   "cell_type": "markdown",
   "id": "d6938d6c-2df0-4558-9dde-c2564eb0cda6",
   "metadata": {},
   "source": [
    "---\n",
    "\n",
    "### Step 9.9 Delete the container image for the sample secure bitcoin wallet application\n",
    "\n",
    "From the output from _Step 9.4_, copy and paste the Repository name (first column) of the image you built for this lab, and paste it into the code cell before the : and then run the code cell.  This will remove your image from the IBM Cloud Container Registry."
   ]
  },
  {
   "cell_type": "code",
   "execution_count": 210,
   "id": "ee9167a9-e858-4f0b-ad1c-be43f48911bb",
   "metadata": {},
   "outputs": [
    {
     "name": "stdout",
     "output_type": "stream",
     "text": [
      "Deleting image '\u001b[36;1micr.io/secureimages-glw/secure-bitcoin-wallet:s390x-v1-6d0f0e4\u001b[0m'...\n",
      "\n",
      "Successfully deleted image '\u001b[36;1msha256:1fa01e1732739c7aeb692439cc974d7d6436da4be3f65269115e715f665ca8ca\u001b[0m'\n",
      "\n",
      "\u001b[32;1mOK\u001b[0m\n"
     ]
    }
   ],
   "source": [
    "! ibmcloud cr image-rm :s390x-v1-6d0f0e4# <- paste your repository name after 'image -rm '"
   ]
  },
  {
   "cell_type": "markdown",
   "id": "fd99d0d4-4cef-4f62-9d47-0de9c4d35260",
   "metadata": {},
   "source": [
    "---\n",
    "\n",
    "### Step 9.10 Verify that your image has been deleted\n",
    "\n",
    "You can rerun the `ibmcloud cr images` command to verify that you deleted the Secure Bitcoin Wallet Application image. It should not show up in the output from the below code cell:"
   ]
  },
  {
   "cell_type": "code",
   "execution_count": 212,
   "id": "5c94e37e-47d8-47dd-becc-fe74c801b4fb",
   "metadata": {},
   "outputs": [
    {
     "name": "stdout",
     "output_type": "stream",
     "text": [
      "Listing images...\n",
      "\n",
      "You have no images in the namespaces for this account, or you are not authorized to view any namespaces for this account.\n",
      "Push an image, or ensure that the IAM access policy for this account grants you Reader or Manager access to at least one namespace.\n",
      "To see IBM-provided images, run '\u001b[33;1mibmcloud cr image-list --include-ibm\u001b[0m'.\n",
      "\n"
     ]
    }
   ],
   "source": [
    "! ibmcloud cr images"
   ]
  },
  {
   "cell_type": "markdown",
   "id": "8b0f4b5b-4024-43c1-9cc2-b76f34ff560c",
   "metadata": {},
   "source": [
    "---\n",
    "\n",
    "### Step 9.11 List your IBM Cloud Container Registry namespaces\n",
    "\n",
    "**Note:** If you used an existing namespace and wish to keep it, skip this step and skip _Step 9.8_.\n",
    "\n",
    "Run the following code cell to list your IBM Cloud Container Registry namespaces:"
   ]
  },
  {
   "cell_type": "code",
   "execution_count": 213,
   "id": "b714e1af-f99f-4414-8b83-029e6a6b2014",
   "metadata": {
    "scrolled": true
   },
   "outputs": [
    {
     "name": "stdout",
     "output_type": "stream",
     "text": [
      "Listing namespaces for account '\u001b[36;1mIBM\u001b[0m' in registry '\u001b[36;1micr.io\u001b[0m'...\n",
      "\n",
      "\u001b[1mNamespace\u001b[0m\n",
      "\u001b[36;1msecureimages-glw\u001b[0m\n",
      "\n",
      "\u001b[32;1mOK\u001b[0m\n"
     ]
    }
   ],
   "source": [
    "! ibmcloud cr namespaces"
   ]
  },
  {
   "cell_type": "markdown",
   "id": "528f1f15-85b5-4370-8ad7-ffb2e25430d6",
   "metadata": {},
   "source": [
    "---\n",
    "\n",
    "### Step 9.12 Delete the IBM Cloud Container Registry namespace that you created for this lab\n",
    "\n",
    "\n",
    "Type, or copy and paste from the output from _Step 9.7_, the namespace you created for this lab to the end of the code cell below and then run it."
   ]
  },
  {
   "cell_type": "code",
   "execution_count": 214,
   "id": "beed6de2-2600-4a24-925d-3acb3e0890cb",
   "metadata": {},
   "outputs": [
    {
     "name": "stdout",
     "output_type": "stream",
     "text": [
      "Deleting namespace '\u001b[36;1msecureimages-glw\u001b[0m'...\n",
      "\n",
      "Successfully deleted namespace '\u001b[36;1msecureimages-glw\u001b[0m'\n",
      "\n",
      "\u001b[32;1mOK\u001b[0m\n"
     ]
    }
   ],
   "source": [
    "! ibmcloud cr namespace-rm --force         # <- paste the name of the namespace you want to delete"
   ]
  },
  {
   "cell_type": "markdown",
   "id": "84b63b95-da75-4984-ad13-ec5df6bca6b5",
   "metadata": {},
   "source": [
    "---\n",
    "\n",
    "### Step 9.13 List your IBM Cloud IAM Keys\n",
    "\n",
    "Run the code cell below to list the IAM Keys associated with your account."
   ]
  },
  {
   "cell_type": "code",
   "execution_count": 218,
   "id": "52bc2a77-87b5-4ac1-ad6f-0f46b45f7352",
   "metadata": {},
   "outputs": [
    {
     "name": "stdout",
     "output_type": "stream",
     "text": [
      "Retrieving API keys under account \u001b[36;1m5ddc6205e6ebbdc9348ec241cf1f51a8\u001b[0m created by \u001b[36;1mGarrett.Lee.Woodworth@ibm.com\u001b[0m...\n",
      "\u001b[32;1mOK\u001b[0m\n",
      "\u001b[1mName\u001b[0m                                  \u001b[1mDescription\u001b[0m                                                                                                                                                                                                                                                                                             \u001b[1mCreated At\u001b[0m              \u001b[1mLast Updated\u001b[0m            \u001b[1mLocked\u001b[0m   \u001b[1mID\u001b[0m   \n",
      "\u001b[36;1mcontainers-kubernetes-key\u001b[0m             Required API key for IBM Cloud Kubernetes Service for resource group 'c0e55bb26c6a404080988a6dcac6d2ae' in region 'us-east'. Do not delete this API key. Without the API key, you cannot manage infrastructure resources, such as adding classic or VPC worker nodes, subnets, or persistent storage.   2021-11-03T20:47+0000   2021-11-03T20:47+0000   false    ApiKey-841dbad8-f8b4-4f29-a9b1-2f519ad09c87   \n",
      "\u001b[36;1mjupyterhub-us-east-1-cx2.4x8-apikey\u001b[0m   Do not delete. This API key is used to manage your cluster's integrations: c61fajcw01l9sliuh070 - jupyterhub-us-east-1-cx2.4x8.                                                                                                                                                                         2021-11-03T20:47+0000   2021-11-03T20:47+0000   false    ApiKey-070e1566-3971-4f8b-99cf-96241e905c9c   \n",
      "\u001b[36;1mmyapikey\u001b[0m                              API key for SBS tutorial                                                                                                                                                                                                                                                                                2021-12-29T02:06+0000   2021-12-29T02:06+0000   false    ApiKey-9a67d593-382f-41b6-a816-a807f64f6432   \n",
      "\u001b[36;1mz-container-registry\u001b[0m                  Key to Access IBMZ Container Registry                                                                                                                                                                                                                                                                   2021-11-16T03:16+0000   2021-11-16T03:16+0000   false    ApiKey-15526891-affc-4a9f-98ec-fb6614d0b718   \n"
     ]
    }
   ],
   "source": [
    "! ibmcloud iam api-keys"
   ]
  },
  {
   "cell_type": "markdown",
   "id": "6f03008b-df68-48bf-b857-45fb5b515c4c",
   "metadata": {},
   "source": [
    "---\n",
    "\n",
    "### Step 9.14 Delete the IBM Cloud IAM Key you created for this lab\n",
    "\n",
    "If you used the lab default name of _myapikey_ then the below code cell is ready to run. If you used a different name, find the key that you created for this lab, and copy and paste either the _Name_ (first column) or the ID (last column) into the code cell below, replacing _myapikey_.  Run the code cell in order to delete your IAM key."
   ]
  },
  {
   "cell_type": "code",
   "execution_count": 220,
   "id": "a1af6237-c4c2-40ec-9adf-8cefbfb3af9f",
   "metadata": {},
   "outputs": [
    {
     "name": "stdout",
     "output_type": "stream",
     "text": [
      "\u001b[31;1mFAILED\u001b[0m\n",
      "API key 'myapikey' was not found.\n",
      "\n"
     ]
    }
   ],
   "source": [
    "! ibmcloud iam api-key-delete --force myapikey"
   ]
  },
  {
   "cell_type": "markdown",
   "id": "20f1eb6f-879e-46a5-a783-fe778714c52f",
   "metadata": {},
   "source": [
    "---\n",
    "\n",
    "### Step 9.15 Verify that you deleted the IAM Key you created for the lab\n",
    "\n",
    "List your API keys again by running the code cell below and ensure that the key you created for this lab is no longer listed in the output:"
   ]
  },
  {
   "cell_type": "code",
   "execution_count": 221,
   "id": "15eca270-a126-416d-9964-bb8f0d673e74",
   "metadata": {},
   "outputs": [
    {
     "name": "stdout",
     "output_type": "stream",
     "text": [
      "Retrieving API keys under account \u001b[36;1m5ddc6205e6ebbdc9348ec241cf1f51a8\u001b[0m created by \u001b[36;1mGarrett.Lee.Woodworth@ibm.com\u001b[0m...\n",
      "\u001b[32;1mOK\u001b[0m\n",
      "\u001b[1mName\u001b[0m                                  \u001b[1mDescription\u001b[0m                                                                                                                                                                                                                                                                                             \u001b[1mCreated At\u001b[0m              \u001b[1mLast Updated\u001b[0m            \u001b[1mLocked\u001b[0m   \u001b[1mID\u001b[0m   \n",
      "\u001b[36;1mcontainers-kubernetes-key\u001b[0m             Required API key for IBM Cloud Kubernetes Service for resource group 'c0e55bb26c6a404080988a6dcac6d2ae' in region 'us-east'. Do not delete this API key. Without the API key, you cannot manage infrastructure resources, such as adding classic or VPC worker nodes, subnets, or persistent storage.   2021-11-03T20:47+0000   2021-11-03T20:47+0000   false    ApiKey-841dbad8-f8b4-4f29-a9b1-2f519ad09c87   \n",
      "\u001b[36;1mjupyterhub-us-east-1-cx2.4x8-apikey\u001b[0m   Do not delete. This API key is used to manage your cluster's integrations: c61fajcw01l9sliuh070 - jupyterhub-us-east-1-cx2.4x8.                                                                                                                                                                         2021-11-03T20:47+0000   2021-11-03T20:47+0000   false    ApiKey-070e1566-3971-4f8b-99cf-96241e905c9c   \n",
      "\u001b[36;1mz-container-registry\u001b[0m                  Key to Access IBMZ Container Registry                                                                                                                                                                                                                                                                   2021-11-16T03:16+0000   2021-11-16T03:16+0000   false    ApiKey-15526891-affc-4a9f-98ec-fb6614d0b718   \n"
     ]
    }
   ],
   "source": [
    "! ibmcloud iam api-keys"
   ]
  },
  {
   "cell_type": "markdown",
   "id": "danish-village",
   "metadata": {},
   "source": [
    "---\n",
    "\n",
    "### Step 9.16 Remove the ssh key you created for this lab from your GitHub account\n",
    "\n",
    "Delete the ssh key you added for the lab from your GitHub account by following steps 1-3 of [these instructions](https://docs.github.com/en/github/authenticating-to-github/reviewing-your-ssh-keys), choosing the _Delete_ button for the ssh key you want to get rid of.  If you were an existing GitHub user prior to this lab, be careful not to delete any other ssh keys you may have added for other purposes."
   ]
  },
  {
   "cell_type": "markdown",
   "id": "opposite-irish",
   "metadata": {},
   "source": [
    "---\n",
    "\n",
    "## You have reached the end of the lab!\n",
    "\n",
    "Thank you for taking this lab, and please feel free to provide feedback, either by opening a GitHub issue on the lab repo at https://github.com/ibm-wsc/ibm-cloud-hpvs-sbs-byoi-lab or by sending an email directly to either, Barry Silliman, at \"silliman at us dot ibm dot com\" or Garrett Woodworth at \"garrett dot lee dot woodworth at ibm dot com  (the email spammers will never figure out our real email addresses from that, but you will).\n",
    "\n",
    "---\n",
    "\n",
    "## Acknowledgements\n",
    "\n",
    "Our esteemed colleague Jin VanStee also made significant contributions to this lab."
   ]
  },
  {
   "cell_type": "markdown",
   "id": "tested-amber",
   "metadata": {},
   "source": [
    "## References\n",
    "\n",
    "This lab is based largely on publicly available material on IBM's website, especially [Tutorial: Using Secure Build Server with a digital wallet](https://cloud.ibm.com/docs/hp-virtual-servers?topic=hp-virtual-servers-tutorial_secure_build_server)\n",
    "\n",
    "Additional information about using the Secure Build Server CLI can be found [here](https://github.com/ibm-hyper-protect/secure-build-cli)  \n",
    "\n",
    "Here is the [GitHub repo for the sample secure bitcoin wallet application](https://github.com/IBM/secure-bitcoin-wallet)"
   ]
  }
 ],
 "metadata": {
  "kernelspec": {
   "display_name": "Python 3 (ipykernel)",
   "language": "python",
   "name": "python3"
  },
  "language_info": {
   "codemirror_mode": {
    "name": "ipython",
    "version": 3
   },
   "file_extension": ".py",
   "mimetype": "text/x-python",
   "name": "python",
   "nbconvert_exporter": "python",
   "pygments_lexer": "ipython3",
   "version": "3.9.6"
  },
  "metadata": {
   "interpreter": {
    "hash": "31f2aee4e71d21fbe5cf8b01ff0e069b9275f58929596ceb00d14d90e3e16cd6"
   }
  }
 },
 "nbformat": 4,
 "nbformat_minor": 5
}

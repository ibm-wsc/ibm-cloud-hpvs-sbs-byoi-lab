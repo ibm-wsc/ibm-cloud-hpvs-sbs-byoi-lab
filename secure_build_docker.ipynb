{
 "cells": [
  {
   "cell_type": "markdown",
   "id": "isolated-defense",
   "metadata": {},
   "source": [
    "# IBM Cloud Hyper Protect Virtual Servers Secure Build lab (with Docker Hub)"
   ]
  },
  {
   "cell_type": "markdown",
   "id": "large-leisure",
   "metadata": {},
   "source": [
    "This lab will introduce you to securely building applications on the IBM Cloud Hyper Protect Virtual Servers for VPC service.\n",
    "\n",
    "The _Secure Build_ feature lets you build, and digitally sign, a Docker image within an HPVS instance running an IBM-provided _secure build server_ that offers the confidentiality, integrity and auditability protections inherent in IBM Cloud Hyper Protect Virtual Servers for VPC.  \n",
    "\n",
    "In this lab you will:\n",
    "\n",
    "1. Deploy the secure build server in your own HPVS instance.\n",
    "2. You will use this secure build server to securely create and digitally sign a Docker image that contains a sample application. For this lab you will use a sample _secure bitcoin wallet application_ provided by IBM for demonstration purposes.\n",
    "3. You will deploy this Docker image that you've built in a second HPVS instance and then run the sample secure bitcoin wallet application contained within the image. You will configure your HPVS instance to use an **_IBM Cloud Hyper Protect Crypto Services_** (HPCS) instance for key generation.  The HPCS instance provides the security of a _FIPS 140-2 level 4_-certified _Hardware Security Module_, which is the strongest level of FIPS 140-2 certification commercially available.\n",
    "\n",
    "You will be using an open-source application called _Jupyter Notebook_ to run this lab. Jupyter Notebook allows you to enter commands and see the results of these commands. You are likely reading this within Jupyter Notebook right now.  You will also open a terminal within Jupyter and enter some commands from the terminal. The large majority of the commands will be run from within the Jupyter notebook while a small number of commands will be run from the terminal. Those commands that prompt for user input are run from the terminal, while the vast majority, which don't prompt for user input, are run from within Jupyter Notebook."
   ]
  },
  {
   "cell_type": "markdown",
   "id": "d08e150c",
   "metadata": {
    "jp-MarkdownHeadingCollapsed": true,
    "tags": []
   },
   "source": [
    "## Secure Build overview\n",
    "\n",
    "The diagram below provides an overview of the major components involved in the secure build process that you will be working with in this lab. An explanation of each numbered annotation is provided below the diagram.\n",
    "\n",
    "![Secure Build architecture](images/sbsarch.png)\n",
    "\n",
    "1. The IBM Cloud command line interface (CLI) will be used throughout this lab.  It has already been installed for you in the lab environment.\n",
    "\n",
    "2. You will be using your IBM Cloud account during the lab.\n",
    "\n",
    "3. The _secure build_ CLI is a separate CLI used exclusively for the Secure Build process.  You will download this CLI in _Step 5.1_ of this lab and will use it throughout the remainder of the lab.\n",
    "\n",
    "4. You will be building a container image from an application whose source code is in a GitHub repository. The GitHub repository is specified for you in the configuration file you will build in _Step 5.5_ of this lab.  It is the value of the _GITHUB\\_URL_ key given for you in _Step 5.5_. \n",
    "\n",
    "5. The container image that you build will be pushed to the _Docker Hub_.\n",
    "\n",
    "6. The secure build server runs inside a Hyper Protect Virtual Servers instance in IBM Cloud that you will create in _Step 5.11_ of the lab.\n",
    "\n",
    "7. Your secure build server contains a snapshot of its state.  You can download this _secure build state_ from the server and use it to rebuild the secure build server if necessary.  Although we won't be using this downloaded state in the lab, you will perform the command to download it in _Step 6.10_ of the lab.\n",
    "\n",
    "**Note:** It is also possible to save the _secure build state_ to _IBM Cloud Object Storage_, but we will not be doing that in this lab.\n",
    "\n",
    "Okay, let's get started!!"
   ]
  },
  {
   "cell_type": "markdown",
   "id": "endless-fellowship",
   "metadata": {},
   "source": [
    "## Initial login to IBM Cloud via the _ibmcloud_ command line interface (CLI)\n",
    "\n",
    "### Step 1.1 Open a terminal with the Jupyter Launcher\n",
    "\n",
    "In the browser tab in which you are accessing the Jupyter Notebook to take this lab, you should see a workspace with two tabs:\n",
    "\n",
    "    1. The tab you are using right now to read this lab.\n",
    "    2. The Jupyter launcher tab.\n",
    "\n",
    "Go to the Jupyter Launcher tab.  Click the *Terminal* tile at the bottom left and the Launcher tab will be replaced with a terminal window that you will use to enter a small number of commands from this lab that require interactive user input.\n",
    "\n",
    "![Choose Terminal](images/opennewterminaliniksd.png)\n",
    "\n",
    "When you have done that, come back here to continue with the instructions.\n",
    "\n",
    "---\n",
    "\n",
    "### Step 1.2 Use the terminal tab to log in to IBM Cloud\n",
    "\n",
    "Navigate to your terminal tab, and from there, enter the command `ibmcloud login -r YOUR-REGION --sso`, substituting one of the following regions for YOUR-REGION:  `us-east`, `ca-tor`, `br-sau`, `eu-gb`, or `jp-tok` which are for United States (East), Toronto, Canda, Sao Paulo, Brazil, London, England, and Tokyo,Japan respectively.  \n",
    "\n",
    "For your convenience the proper command for each region is listed. From the four commands listed below, copy the one applicable for your region, and paste it into the terminal tab and run the command:\n",
    "\n",
    "`ibmcloud login -r us-east --sso`\n",
    "\n",
    "`ibmcloud login -r ca-tor --sso`\n",
    "\n",
    "`ibmcloud login -r br-sao --sso`\n",
    "\n",
    "`ibmcloud login -r eu-gb --sso`\n",
    "\n",
    "`ibmcloud login -r jp-tok --sso`\n",
    "\n",
    "---\n",
    "\n",
    "### Step 1.3 Follow the prompts to complete the login\n",
    "\n",
    "Follow the instructions to log in to your IBM Cloud account.  The login process from the terminal should be like this:\n",
    "\n",
    "You will first be given a *Y/n* prompt to open the URL to get a one-time passcode, reply *n*. The reason to reply *n* is because in your lab environment your server does not have graphics capabilities and cannot open the URL.\n",
    "\n",
    "In order to overcome this, you must copy the URL given in the command output and paste it into another browser tab or window. The goal is to obtain a temporary one-time code for you.\n",
    "In order to get this code to use to log in with the CLI, you may need to log in to the IBM Cloud Web UI with your browser. If so, follow any necessary login prompts. You should eventually be given a page with a one-time code.  Click on that code to put it in your clipboard, and paste it at the input prompt back in your terminal tab.\n",
    "\n",
    "When successful, your terminal window will look like this, but with your account information of course: \n",
    "\n",
    "```\n",
    "\n",
    "API endpoint:      https://cloud.ibm.com\n",
    "Region:            us-east\n",
    "User:              silliman@us.ibm.com\n",
    "Account:           Barry Silliman's Account (1e963a246cc69a44df65e277e14239d5) <-> 1996902\n",
    "Resource group:    No resource group targeted, use 'ibmcloud target -g RESOURCE_GROUP'\n",
    "CF API endpoint:\n",
    "Org:\n",
    "Space:\n",
    "```\n",
    "\n",
    "When that is complete, come back to this tab and continue in this notebook. Leave the terminal tab open, you will need it later.\n",
    "\n",
    "---"
   ]
  },
  {
   "cell_type": "markdown",
   "id": "00ad14ba-3ad4-4337-b298-6fd85b5edbbd",
   "metadata": {},
   "source": [
    "---\n",
    "\n",
    "### Step 1.4 Save your region into a variable\n",
    "\n",
    "Save the region you used above such as us-east into an environment variable for later use by double-clicking on the code cell below and filling in your region and then running it. For example, before running if you are using the us-east region your code cell would look like `%set_env region=us-east`"
   ]
  },
  {
   "cell_type": "code",
   "execution_count": 20,
   "id": "332f983b-91c6-4db5-91dc-7a2cb1f2e865",
   "metadata": {},
   "outputs": [
    {
     "name": "stdout",
     "output_type": "stream",
     "text": [
      "env: region=us-east\n"
     ]
    }
   ],
   "source": [
    "%set_env region="
   ]
  },
  {
   "cell_type": "markdown",
   "id": "gothic-bacteria",
   "metadata": {},
   "source": [
    "### Step 1.5 Target the default resource group\n",
    "\n",
    "---\n",
    "\n",
    "#### Jupyter Notebook tip\n",
    "\n",
    "The text you are reading now is in a type of Jupyter notebook cell called _markdown_.  It is intended for instructions, and includes text and possibly images.\n",
    "\n",
    "Commands that you will enter (with the exception of the small number of commands, such as the `ibmcloud login -r YOUR-REGION --sso` above, that are run in the terminal tab) will be in a second type of Jupyter notebook cell called _code_.  At the top of this page you can see a dropdown box that will show you whether or not you are in a markdown cell or a code cell. The below screen snippet shows where this dropdown box is located:\n",
    "\n",
    "![Choose Terminal](images/celltypeindication.png)\n",
    "\n",
    "---\n",
    "\n",
    "You can see from the output from _Step 1.3_ that no _resource group_ is targeted when you log in. The command in the code cell below will target the _default_ resource group. Resource groups are logical buckets that you can define in order to categorize your IBM Cloud resources as you wish.  We will simply use the _default_ resource group which exists already.\n",
    "\n",
    "Click on the code cell below that contains the command `ibmcloud target -g default`. You should see _code_ in the dropdown box at the top. \n",
    "\n",
    "Now that you have the code cell below highlighted, click the _Run_ button from the menu above—it is the triangle icon—and that command will be run, and its output will be shown.\n",
    "\n",
    "This will target your _default_ resource group. See the debugging tip below the code cell if this command does not work for you."
   ]
  },
  {
   "cell_type": "code",
   "execution_count": 30,
   "id": "eastern-population",
   "metadata": {},
   "outputs": [
    {
     "name": "stdout",
     "output_type": "stream",
     "text": [
      "Targeted resource group \u001b[36;1mdefault\u001b[0m\n",
      "\n",
      "\n",
      "\u001b[1m\u001b[0m                   \u001b[1m\u001b[0m   \n",
      "\u001b[36;1mAPI endpoint:\u001b[0m      \u001b[36;1mhttps://cloud.ibm.com\u001b[0m   \n",
      "\u001b[36;1mRegion:\u001b[0m            \u001b[36;1mus-east\u001b[0m   \n",
      "\u001b[36;1mUser:\u001b[0m              \u001b[36;1mGarrett.Lee.Woodworth@ibm.com\u001b[0m   \n",
      "\u001b[36;1mAccount:\u001b[0m           \u001b[36;1mIBM (5ddc6205e6ebbdc9348ec241cf1f51a8) <-> 1997002\u001b[0m   \n",
      "\u001b[36;1mResource group:\u001b[0m    \u001b[36;1mdefault\u001b[0m   \n",
      "\u001b[36;1mCF API endpoint:\u001b[0m      \n",
      "\u001b[36;1mOrg:\u001b[0m               \u001b[36;1m\u001b[0m   \n",
      "\u001b[36;1mSpace:\u001b[0m             \u001b[36;1m\u001b[0m   \n"
     ]
    }
   ],
   "source": [
    "! ibmcloud target -g default"
   ]
  },
  {
   "cell_type": "markdown",
   "id": "continuous-fossil",
   "metadata": {},
   "source": [
    "#### Debugging tip\n",
    "\n",
    "Some IBM Cloud users may not have a _default_ group but instead have a _Default_ group, with an uppercase _D_.  If the above command fails, try using *Default* instead of *default*.  You can do that by just clicking in the code cell above and changing the _d_ to _D_ in default.  Then run the code cell again. If that still doesn't work, ask an instructor for help.\n",
    "\n",
    "---"
   ]
  },
  {
   "cell_type": "markdown",
   "id": "fleet-domain",
   "metadata": {},
   "source": [
    "### A note about running Jupyter Notebook code cells\n",
    "\n",
    "Observe that to the left of the code cells are square brackets with empty contents. When you run a code cell, an asterisk (*\\**) appears between the square brackets.  (If the command runs fast enough you may not even notice the appearance of the asterisk). When the command finishes, a number appears between the square brackets.  During this lab, some of the commands may take several seconds to run, but no command in this lab should take too long. Each time that you run a code cell, ensure that you wait for that code cell to complete execution before continuing with the lab. If the asterisk remains in between the square brackets for more than thirty seconds, ask an instructor for help—none of the commands in this lab should take that long.\n",
    "\n",
    "The number shown between the square brackets upon command completion is incremented by one each time you run a code cell.  The numbers are helpful in ensuring that you have run each code cell in the correct order.\n",
    "\n",
    "---"
   ]
  },
  {
   "cell_type": "markdown",
   "id": "similar-green",
   "metadata": {},
   "source": [
    "## Create an ssh key for the lab and add it to your GitHub account\n",
    "\n",
    "### Step 2.1 Create an ssh key pair in your lab system\n",
    "\n",
    "As part of this lab, you will need to create a key pair that you will then define in your personal GitHub account settings so that this key pair can be used to clone GitHub repositories.\n",
    "\n",
    "**Note:** If you are an experienced GitHub user and already have ssh keys defined to your GitHub account, you should still create a new key for this lab and remove it from your account when the lab is over, for security reasons. **What is the security concern?** The lab instructors have access to your lab system in order to be able to help with debugging.  If the lab instructors were malicious, they could copy your ssh key, including the private key portion of the key pair.  They are not malicious—they are well-intentioned and kind. But to be completely secure, you should create a new key per the instructions in this step, and then remove it from your GitHub account when you have completed the lab. (The cleanup section of this lab helps you with the key removal from your GitHub account).\n",
    "\n",
    "Run the code cell below to create a key pair in your lab workspace."
   ]
  },
  {
   "cell_type": "code",
   "execution_count": 31,
   "id": "neural-indication",
   "metadata": {},
   "outputs": [
    {
     "name": "stdout",
     "output_type": "stream",
     "text": [
      "Generating public/private rsa key pair.\n",
      "Your identification has been saved in /home/jovyan/.ssh/id_rsa\n",
      "Your public key has been saved in /home/jovyan/.ssh/id_rsa.pub\n",
      "The key fingerprint is:\n",
      "SHA256:uRYMUsxDjapzHwLcazwuUipwMOsp2VH2BI3X8FBljEk jovyan@jupyter-garrett-2dvpc\n",
      "The key's randomart image is:\n",
      "+---[RSA 4096]----+\n",
      "|     *=BE=o      |\n",
      "|    o.Bo=..      |\n",
      "| . ..+...        |\n",
      "|o o =..o .       |\n",
      "| + * +  S        |\n",
      "|o * B o  o       |\n",
      "|o*.* + .o        |\n",
      "|*oo . ..         |\n",
      "|o. .             |\n",
      "+----[SHA256]-----+\n"
     ]
    }
   ],
   "source": [
    "! ssh-keygen -t rsa -b 4096 -f '/home/jovyan/.ssh/id_rsa' -N ''"
   ]
  },
  {
   "cell_type": "markdown",
   "id": "immune-hygiene",
   "metadata": {},
   "source": [
    "---\n",
    "\n",
    "### Step 2.2 Copy your public key to the clipboard and add it to your GitHub account\n",
    "\n",
    "The above command created a key pair (a private part that you keep secret and a public part that can be shared safely with the world).  You need to add the public part to your GitHub account settings, so that this key pair can be used to do a clone of the GitHub repository of the sample secure bitcoin wallet application from within the Secure Build Server container.\n",
    "\n",
    "Run the code cell below to list the public key, and copy this public key into your clipboard:"
   ]
  },
  {
   "cell_type": "code",
   "execution_count": 32,
   "id": "incorporated-office",
   "metadata": {},
   "outputs": [
    {
     "name": "stdout",
     "output_type": "stream",
     "text": [
      "ssh-rsa AAAAB3NzaC1yc2EAAAADAQABAAACAQDCRPJuGQNvImQXoEPCt+IWewu9tg6XsqX4qnWD4Gk6TqBAZDbCsu+hAySgTQV9oqMERgDt+aSilCUHC5HyYh2YbnZZkeTBp27Q6hDuxsdIdM3KNfMbLsKxQz8B/zhfhzWgvVOBE8LXv7hjCoPwJq6O8hdhDw57A/JYIU86RxrRbvdlKzarj1Cs2fUAqcgvxju9W/Ra5kqtmIe7YITvZDPVBp0Wr3R7AHHp1JZ6/CD4+9Nps8C+6otWj++KqE+irOy7T5xM1gXQGhzjwlmbw75DEqCURvhceognUYcSxe9Ih2giYMjViiKNXHFVUmnB1EXIqDr3YSZHyAhqIgb7Qi1myFgIVi8RjeVMx98vtXhB79/mNqdloYwaC1L6oN15ByzXEaSad2ph43cTEi/HU8xcFi+M96jjmjPUehDsH8p57RafJA3ism1CBHhu+440M7zU9qPXxrWJzBI6BRyjlqWjhKXjTuMbOY4nQSDD0Ja5GkE+4OzLe0z/exB44V+czxxLjw1e9/Xvcb3+muSt/VmfxeezXfhiRPV88m2SmMdPJh4LIgrQCHBExWqqErTON3ZYAlYTjZNSn4HieXuLpPHGL2RoC1jIaGNCxg929MqZICaXEbDkxLldmAjpA+ETYOfYnTp1h+3xwhemb/6YtjrfXEjo9hn3r3qR25tpwK3ytw== jovyan@jupyter-garrett-2dvpc\n"
     ]
    }
   ],
   "source": [
    "! cat ~/.ssh/id_rsa.pub"
   ]
  },
  {
   "cell_type": "markdown",
   "id": "laughing-duration",
   "metadata": {},
   "source": [
    "Copy all of the output from the above `cat` command into the clipboard, and go to [this link](https://github.com/settings/ssh/new) to add this key to your GitHub account. When you get to that page (you may have to log in to GitHub first), put anything you want in the _Title_ field and paste the above output (which is your public key) into the _Key_ field and then click *Add SSH key*.  \n",
    "\n",
    "**Note:** if you use a password manager and need to use copy and paste to log in to your GitHub account, go ahead and log in and then copy and paste the above output."
   ]
  },
  {
   "cell_type": "markdown",
   "id": "consistent-statement",
   "metadata": {},
   "source": [
    "---\n",
    "\n",
    "### Step 2.3 Add the GitHub public keys to your _known\\_hosts_ file\n",
    "\n",
    "Run the following code cell which gathers the public SSH keys of github.com and puts them in your lab workspace's _known\\_hosts_ file. This is done only to eliminate a prompt about trusting the github.com host in the code cell after this one."
   ]
  },
  {
   "cell_type": "code",
   "execution_count": 33,
   "id": "wired-softball",
   "metadata": {},
   "outputs": [
    {
     "name": "stdout",
     "output_type": "stream",
     "text": [
      "# github.com:22 SSH-2.0-babeld-91f0970e\n",
      "# github.com:22 SSH-2.0-babeld-91f0970e\n",
      "# github.com:22 SSH-2.0-babeld-91f0970e\n",
      "# github.com:22 SSH-2.0-babeld-4a94ee6b\n",
      "# github.com:22 SSH-2.0-babeld-4a94ee6b\n"
     ]
    }
   ],
   "source": [
    "! ssh-keyscan -H github.com >> \"${HOME}/.ssh/known_hosts\""
   ]
  },
  {
   "cell_type": "markdown",
   "id": "unsigned-decrease",
   "metadata": {},
   "source": [
    "---\n",
    "\n",
    "### Step 2.4 Verify you have added the key to your GitHub account correctly\n",
    "\n",
    "Run the code cell below to verify that you have correctly added your SSH key pair to your GitHub account.  You should receive a message that says _Hi \\<your GitHub username\\>! You've successfully authenticated, but GitHub does not provide shell access._  If you received this message, continue in the lab.  If not, ask an instructor for help.  "
   ]
  },
  {
   "cell_type": "code",
   "execution_count": 34,
   "id": "spread-truck",
   "metadata": {},
   "outputs": [
    {
     "name": "stdout",
     "output_type": "stream",
     "text": [
      "Warning: Permanently added the ECDSA host key for IP address '140.82.112.3' to the list of known hosts.\n",
      "Hi siler23! You've successfully authenticated, but GitHub does not provide shell access.\n"
     ]
    }
   ],
   "source": [
    "! ssh -T git@github.com"
   ]
  },
  {
   "cell_type": "markdown",
   "id": "eleven-neighbor",
   "metadata": {},
   "source": [
    "---\n",
    "\n",
    "## Create a Docker Hub account if you do not already have one\n",
    "\n",
    "You will need a Docker Hub account in order to do this lab, because the secure image that you build will be stored in Docker Hub under your account.\n",
    "\n",
    "### Step 3.1 Sign up for a free Docker Hub account if necessary\n",
    "\n",
    "If you already have a Docker Hub account, you can skip this step.\n",
    "\n",
    "Sign up for a free Docker Hub account by going to [https://hub.docker.com/signup](https://hub.docker.com/signup) and following the instuctions.\n"
   ]
  },
  {
   "cell_type": "markdown",
   "id": "guided-wiring",
   "metadata": {},
   "source": [
    "---\n",
    "\n",
    "## Create a Docker Access Token\n",
    "\n",
    "In order to store the image that you will build into your Docker Hub account, you will need a Docker Access Token. This section will guide you through this process.\n",
    "\n",
    "You could use your Docker Hub account password instead of a Docker Access Token, but this is not a good practice. By providing a Docker Access Token that you create just for this lab, you can delete this token at the end of the lab- thus you will not have to change your password to remain secure.\n",
    "\n",
    "### Step 4.1 Log in to your Docker Hub account\n",
    "\n",
    "If you are not yet logged in to your Docker Hub account, click [https://hub.docker.com](https://hub.docker.com) and click the **Sign In** link.\n",
    "Follow any instructions or prompts necessary to complete the signin process.\n",
    "\n",
    "### Step 4.2 Create a Docker Access Token\n",
    "\n",
    "Follow [these instructions](https://docs.docker.com/docker-hub/access-tokens/#create-an-access-token) to create a new Docker Access Token.\n",
    "Save the value of your access token in a safe place- you will not be able to retrieve the value later.\n",
    "\n"
   ]
  },
  {
   "cell_type": "markdown",
   "id": "trying-uruguay",
   "metadata": {},
   "source": [
    "---\n",
    "\n",
    "## Create your Secure Build Server HPVS for VPC instance\n",
    "\n",
    "### Step 5.1 Download the Secure Build command line interface (CLI):\n",
    "\n",
    "In order to set up your own Secure Build Server within an HPVS instance, you will use a command line interface (CLI) that is provided by IBM.  This CLI is implemented in Python and is publicly available (including source code) in a GitHub repository, which you will download now into your lab environment when you run the following code cell:"
   ]
  },
  {
   "cell_type": "code",
   "execution_count": 35,
   "id": "pending-butler",
   "metadata": {},
   "outputs": [
    {
     "name": "stdout",
     "output_type": "stream",
     "text": [
      "Cloning into 'secure-build-cli'...\n",
      "remote: Enumerating objects: 303, done.\u001b[K\n",
      "remote: Counting objects: 100% (154/154), done.\u001b[K\n",
      "remote: Compressing objects: 100% (84/84), done.\u001b[K\n",
      "remote: Total 303 (delta 76), reused 114 (delta 69), pack-reused 149\u001b[K\n",
      "Receiving objects: 100% (303/303), 313.67 KiB | 15.68 MiB/s, done.\n",
      "Resolving deltas: 100% (171/171), done.\n"
     ]
    }
   ],
   "source": [
    "! git clone git@github.com:ibm-hyper-protect/secure-build-cli.git"
   ]
  },
  {
   "cell_type": "markdown",
   "id": "ultimate-objective",
   "metadata": {},
   "source": [
    "---\n",
    "\n",
    "### Step 5.2 Change the working directory for the remainder of the lab\n",
    "\n",
    "Up to now, your notebook has been running from the _/home/jovyan/labdir_ directory. For the remainder of the lab, we want to work from the directory that was just created by the _git clone_ command from the prior code cell.  Our new desired working directory is a subdirectory of our current working directory.\n",
    "\n",
    "Run the next code cell in order to change directories to the _secure-build-cli_ directory that was created by the `git clone` command that you just ran."
   ]
  },
  {
   "cell_type": "code",
   "execution_count": 9,
   "id": "exceptional-allen",
   "metadata": {},
   "outputs": [
    {
     "name": "stdout",
     "output_type": "stream",
     "text": [
      "/home/jovyan/labdir/secure-build-cli\n"
     ]
    }
   ],
   "source": [
    "%cd secure-build-cli"
   ]
  },
  {
   "cell_type": "markdown",
   "id": "infrared-privacy",
   "metadata": {},
   "source": [
    "---\n",
    "\n",
    "### Step 5.3 Install Python packages required by the Secure Build CLI\n",
    "\n",
    "There are some python packages required by the Secure Build CLI, and running the following code cell will install these packages using *pip3*, the Python 3.x-based package installer:"
   ]
  },
  {
   "cell_type": "code",
   "execution_count": 10,
   "id": "decimal-seller",
   "metadata": {},
   "outputs": [
    {
     "name": "stdout",
     "output_type": "stream",
     "text": [
      "Requirement already satisfied: requests in /opt/conda/lib/python3.9/site-packages (from -r requirements.txt (line 1)) (2.26.0)\n",
      "Requirement already satisfied: pyOpenSSL in /opt/conda/lib/python3.9/site-packages (from -r requirements.txt (line 2)) (20.0.1)\n",
      "Collecting python-gnupg\n",
      "  Using cached python_gnupg-0.5.1-py2.py3-none-any.whl (20 kB)\n",
      "Requirement already satisfied: urllib3<1.27,>=1.21.1 in /opt/conda/lib/python3.9/site-packages (from requests->-r requirements.txt (line 1)) (1.26.6)\n",
      "Requirement already satisfied: certifi>=2017.4.17 in /opt/conda/lib/python3.9/site-packages (from requests->-r requirements.txt (line 1)) (2021.5.30)\n",
      "Requirement already satisfied: idna<4,>=2.5 in /opt/conda/lib/python3.9/site-packages (from requests->-r requirements.txt (line 1)) (3.1)\n",
      "Requirement already satisfied: charset-normalizer~=2.0.0 in /opt/conda/lib/python3.9/site-packages (from requests->-r requirements.txt (line 1)) (2.0.0)\n",
      "Requirement already satisfied: cryptography>=3.2 in /opt/conda/lib/python3.9/site-packages (from pyOpenSSL->-r requirements.txt (line 2)) (3.4.7)\n",
      "Requirement already satisfied: six>=1.5.2 in /opt/conda/lib/python3.9/site-packages (from pyOpenSSL->-r requirements.txt (line 2)) (1.16.0)\n",
      "Requirement already satisfied: cffi>=1.12 in /opt/conda/lib/python3.9/site-packages (from cryptography>=3.2->pyOpenSSL->-r requirements.txt (line 2)) (1.14.6)\n",
      "Requirement already satisfied: pycparser in /opt/conda/lib/python3.9/site-packages (from cffi>=1.12->cryptography>=3.2->pyOpenSSL->-r requirements.txt (line 2)) (2.20)\n",
      "Installing collected packages: python-gnupg\n",
      "Successfully installed python-gnupg-0.5.1\n"
     ]
    }
   ],
   "source": [
    "! pip3 install -r requirements.txt"
   ]
  },
  {
   "cell_type": "markdown",
   "id": "developmental-language",
   "metadata": {},
   "source": [
    "---\n",
    "\n",
    "### Step 5.4 Create the Secure Build Server workload section\n",
    "\n",
    "Part of the Hyper Protect Virtual Server for VPC process involves creating a contract to deploy the workload running under Secure Execution for Linux. The Secure Build Server has been created and distributed by IBM who provides the ready-made encrypted contract for your use.\n",
    "\n",
    "This file is posted publicly on the public documentation page for IBM Cloud Hyper Protect Virtual Servers for VPC, but the Secure Build CLI repository on GitHub does not contain it.  That's why you are creating it now.  This file is encrypted, and only the Hyper Protect Virtual Servers key located on the IBM Z can decrypt it.  IBM Cloud administrators cannot access your secure build server at all, and you can only access it through the Secure Build CLI, which limits your access to specific functions. Therefore, by design, the decrypted contents of this file cannot be obtained by any human.\n",
    "\n",
    "**Note:** The code cell below will not produce any output, because it copies the encrypted message into a file.  But you know the command ended if a sequence number is placed within the square brackets to the left of the code cell. "
   ]
  },
  {
   "cell_type": "code",
   "execution_count": 27,
   "id": "presidential-exclusion",
   "metadata": {},
   "outputs": [],
   "source": [
    "%%bash\n",
    "cat <<EOF > workload.yaml\n",
    "hyper-protect-basic.UxkAbpIPPLZB2LNybZ8PedWbaJkMzJz/taoVf/ybKySkgpJ55GeHkNgQPeoLEJUPG54wLyRJ4AIqn96qQDAmoiPqIy8e9ucV3MCUu0Ed5bphbJjWzDvCFOtHh7VutLVZbMdzDDMfCblkc2kJ8uVbXUdY1cktwqnM2FnNwJXX98xlNfljtc69JnVhAcUWpDCNYwALjcxyHcKWxeKRetDrMnCo66rMN7W85DnExUM17wjNh1WVw1w2UTURwApnKRtbDjJ2xkYDyovJqyJiWlBeeX1WWEOb014ft/XacbGjWuA7WZbStggxrR9U2dO06HnmvgrpwpGhlSHOT3j7BJaSz0me+ZBCvdmLDDZozbXynn1JRK6WIgR/aMdO7lCkteh6PfOES/vjhFCTQn8Yw+Padu9E3Ye8yQweqsXnpB1STL5TAuZk11y4Lhs4xvqrXHgCDuek1SSIe6wdV4UoEXjVZfBypxEvXjMfYkz8N2WmPyoRB3VW18YuPEk+RSe6tQyeur/jc0rNMQDeYdXUn1Aao0xXnQj7NO7b73qBJZfRyvgKFxib94CCyazjykmzRNKZPyci2SGkmNCKAnk0V+o7GqrO78IV1rvmwS2GTqKKSTh35ovDkXAijn/7+kWX+Ka7Jc888AnRapy45fy41LXQ4nxkVk+jELegPkWBwK4lCDY=.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\n",
    "EOF"
   ]
  },
  {
   "cell_type": "markdown",
   "id": "09998903-5324-461b-af94-8373b842dd42",
   "metadata": {},
   "source": [
    "---\n",
    "\n",
    "### Step 5.5 Set environment variables for your Docker Hub username and token\n",
    "\n",
    "For your username, paste your username after the = sign of docker_username= and then run the code cell. For your token, paste your Docker Hub token in the 2nd code cell after the = sign of docker_token"
   ]
  },
  {
   "cell_type": "code",
   "execution_count": 25,
   "id": "cea2ffd3-d762-4a7a-beb3-878ff2f2e494",
   "metadata": {},
   "outputs": [
    {
     "name": "stdout",
     "output_type": "stream",
     "text": [
      "env: docker_user=gmoney23\n"
     ]
    }
   ],
   "source": [
    "%set_env docker_user="
   ]
  },
  {
   "cell_type": "code",
   "execution_count": 26,
   "id": "5ce762f3-4149-4322-b622-224b44bae7bf",
   "metadata": {},
   "outputs": [
    {
     "name": "stdout",
     "output_type": "stream",
     "text": [
      "env: docker_token=dckr_pat_nu9SYSKskEHp6kZBQqQcSh2dGyk\n"
     ]
    }
   ],
   "source": [
    "%set_env docker_token="
   ]
  },
  {
   "cell_type": "markdown",
   "id": "greek-external",
   "metadata": {},
   "source": [
    "---\n",
    "\n",
    "### Step 5.5 Create your secure build server custom configuration\n",
    "\n",
    "Anybody who uses the secure build feature of HPVS will use the same Secure Build Server image, but that image is deployed to that person's individual HPVS instance, and that individual instance is uniquely customized through a configuration file. This ensures that your Secure Build Server can only build the application you specify, and push it only to the registry that you specify in the configuration file which is created by the below code cell.\n",
    "\n",
    "**Note:** This code cell also does not produce any output within the Jupyter Notebook for the same reason as the previous code cell."
   ]
  },
  {
   "cell_type": "code",
   "execution_count": 84,
   "id": "variable-advancement",
   "metadata": {},
   "outputs": [],
   "source": [
    "%%bash\n",
    "cat <<EOF > sbs-config.json\n",
    "{\n",
    "    \"HOSTNAME\": \"sbs.example.com\",\n",
    "    \"CICD_PORT\": \"443\",\n",
    "    \"RUNTIME_TYPE\": \"vpc\",\n",
    "    \"IMAGE_TAG\": \"1.3.0.11\",\n",
    "    \"CONTAINER_NAME\": \"SBContainer\",\n",
    "    \"GITHUB_KEY_FILE\": \"~/.ssh/id_rsa\",\n",
    "    \"GITHUB_URL\": \"git@github.com:ibm-wsc/secure-bitcoin-wallet.git\",\n",
    "    \"GITHUB_BRANCH\": \"master\",\n",
    "    \"IMAGE_TAG_PREFIX\": \"s390x-v1\",\n",
    "    \"DOCKER_REPO\": \"${docker_user}/secure-bitcoin-wallet\",\n",
    "    \"DOCKER_USER\": \"${docker_user}\",\n",
    "    \"DOCKER_PASSWORD\": \"${docker_token}\",\n",
    "    \"DOCKER_CONTENT_TRUST_BASE\": \"False\",\n",
    "    \"DOCKER_CONTENT_TRUST_BASE_SERVER\": \"\",\n",
    "    \"ENV_WHITELIST\":  [\"ZHSM\", \"APIKEY\"],\n",
    "    \"ARG\": {\n",
    "    }\n",
    "  }\n",
    "EOF\n"
   ]
  },
  {
   "cell_type": "markdown",
   "id": "mighty-decimal",
   "metadata": {},
   "source": [
    "---\n",
    "\n",
    "### Step 5.6 Verify your custom configuration file\n",
    "\n",
    "You can run the code cell below to display the contents of the file you just created to ensure it looks good.  If you made a typo, you can probably fix it by going back to the above code cell and running it again. \n",
    "\n",
    "The code cell below pipes the output of the _cat_ command to a utility called _jq_ (for _JSON query_) which expects well-formed JSON (JavaScript Object Notation) data. If you made a mistake while updating the file that causes a JSON syntax error, the _jq_ utility will detect it and print an error message.  \n",
    "\n",
    "If you put in a wrong value that doesn't cause a JSON syntax error, _jq_ will not catch that, so inspect the output of the code cell carefully.  All variables that you are required to change started with _YOUR_, so it isn't a bad idea to look for the word YOUR in the output—you shouldn't find it!"
   ]
  },
  {
   "cell_type": "code",
   "execution_count": 85,
   "id": "amber-execution",
   "metadata": {},
   "outputs": [
    {
     "name": "stdout",
     "output_type": "stream",
     "text": [
      "\u001b[1;39m{\n",
      "  \u001b[0m\u001b[34;1m\"HOSTNAME\"\u001b[0m\u001b[1;39m: \u001b[0m\u001b[0;32m\"sbs.example.com\"\u001b[0m\u001b[1;39m,\n",
      "  \u001b[0m\u001b[34;1m\"CICD_PORT\"\u001b[0m\u001b[1;39m: \u001b[0m\u001b[0;32m\"443\"\u001b[0m\u001b[1;39m,\n",
      "  \u001b[0m\u001b[34;1m\"RUNTIME_TYPE\"\u001b[0m\u001b[1;39m: \u001b[0m\u001b[0;32m\"vpc\"\u001b[0m\u001b[1;39m,\n",
      "  \u001b[0m\u001b[34;1m\"IMAGE_TAG\"\u001b[0m\u001b[1;39m: \u001b[0m\u001b[0;32m\"1.3.0.11\"\u001b[0m\u001b[1;39m,\n",
      "  \u001b[0m\u001b[34;1m\"CONTAINER_NAME\"\u001b[0m\u001b[1;39m: \u001b[0m\u001b[0;32m\"SBContainer\"\u001b[0m\u001b[1;39m,\n",
      "  \u001b[0m\u001b[34;1m\"GITHUB_KEY_FILE\"\u001b[0m\u001b[1;39m: \u001b[0m\u001b[0;32m\"~/.ssh/id_rsa\"\u001b[0m\u001b[1;39m,\n",
      "  \u001b[0m\u001b[34;1m\"GITHUB_URL\"\u001b[0m\u001b[1;39m: \u001b[0m\u001b[0;32m\"git@github.com:ibm-wsc/secure-bitcoin-wallet.git\"\u001b[0m\u001b[1;39m,\n",
      "  \u001b[0m\u001b[34;1m\"GITHUB_BRANCH\"\u001b[0m\u001b[1;39m: \u001b[0m\u001b[0;32m\"master\"\u001b[0m\u001b[1;39m,\n",
      "  \u001b[0m\u001b[34;1m\"IMAGE_TAG_PREFIX\"\u001b[0m\u001b[1;39m: \u001b[0m\u001b[0;32m\"s390x-v1\"\u001b[0m\u001b[1;39m,\n",
      "  \u001b[0m\u001b[34;1m\"DOCKER_REPO\"\u001b[0m\u001b[1;39m: \u001b[0m\u001b[0;32m\"gmoney23/secure-bitcoin-wallet\"\u001b[0m\u001b[1;39m,\n",
      "  \u001b[0m\u001b[34;1m\"DOCKER_USER\"\u001b[0m\u001b[1;39m: \u001b[0m\u001b[0;32m\"gmoney23\"\u001b[0m\u001b[1;39m,\n",
      "  \u001b[0m\u001b[34;1m\"DOCKER_PASSWORD\"\u001b[0m\u001b[1;39m: \u001b[0m\u001b[0;32m\"dckr_pat_nu9SYSKskEHp6kZBQqQcSh2dGyk\"\u001b[0m\u001b[1;39m,\n",
      "  \u001b[0m\u001b[34;1m\"DOCKER_CONTENT_TRUST_BASE\"\u001b[0m\u001b[1;39m: \u001b[0m\u001b[0;32m\"False\"\u001b[0m\u001b[1;39m,\n",
      "  \u001b[0m\u001b[34;1m\"DOCKER_CONTENT_TRUST_BASE_SERVER\"\u001b[0m\u001b[1;39m: \u001b[0m\u001b[0;32m\"\"\u001b[0m\u001b[1;39m,\n",
      "  \u001b[0m\u001b[34;1m\"ENV_WHITELIST\"\u001b[0m\u001b[1;39m: \u001b[0m\u001b[1;39m[\n",
      "    \u001b[0;32m\"ZHSM\"\u001b[0m\u001b[1;39m,\n",
      "    \u001b[0;32m\"APIKEY\"\u001b[0m\u001b[1;39m\n",
      "  \u001b[1;39m]\u001b[0m\u001b[1;39m,\n",
      "  \u001b[0m\u001b[34;1m\"ARG\"\u001b[0m\u001b[1;39m: \u001b[0m\u001b[1;39m{}\u001b[0m\u001b[1;39m\n",
      "\u001b[1;39m}\u001b[0m\n"
     ]
    }
   ],
   "source": [
    "! cat sbs-config.json | jq ."
   ]
  },
  {
   "cell_type": "markdown",
   "id": "narrow-investigator",
   "metadata": {},
   "source": [
    "---\n",
    "\n",
    "### Step 5.7 Generate client certification authority and client certificate\n",
    "\n",
    "Secure communication between you and your secure build server is achieved by using mutual Transport Layer Security (TLS). TLS is the same security protocol that protects most Web traffic today, but most Web interactions only require the server to be authenticated.  Mutual TLS refers to the situation where not only does the client want to ensure that the server is legitimate, but the server also wants to authenticate the identity of the client.  Your Web browser is constantly receiving server certificates and verifying them while you surf the web. Client certificates are what are used when the server wants to verify the client.  \n",
    "\n",
    "Create the client certificate and client certification authority (CA) by running the code cell below. You should receive two lines of output, with the second line being `INFO:root:client_certificate: generating client CA and certificate`"
   ]
  },
  {
   "cell_type": "code",
   "execution_count": 54,
   "id": "digital-cholesterol",
   "metadata": {},
   "outputs": [
    {
     "name": "stdout",
     "output_type": "stream",
     "text": [
      "INFO:__main__:parameter file sbs-config.json renamed to sbs-config.json.2023-08-25_20-50-42.736550\n",
      "INFO:root:client_certificate: generating client CA and certificate\n"
     ]
    }
   ],
   "source": [
    "! ./build.py create-client-cert --env sbs-config.json"
   ]
  },
  {
   "cell_type": "markdown",
   "id": "ae85b02f",
   "metadata": {},
   "source": [
    "---\n",
    "\n",
    "### Step 5.8 Generate server certificate and server key\n",
    "\n",
    "Create the server certificate and server key by running the code cell below. You should receive four lines of output, with the fourth line being `INFO:root:server_certificate: Successfully generated server certificate`"
   ]
  },
  {
   "cell_type": "code",
   "execution_count": 55,
   "id": "1bf15c36",
   "metadata": {},
   "outputs": [
    {
     "name": "stdout",
     "output_type": "stream",
     "text": [
      "INFO:root:server_certificate: using supplied pem files cert_directory=.SBContainer-d9e3c768-0131-4acc-8fff-a42957365ac6 capath=./.SBContainer-d9e3c768-0131-4acc-8fff-a42957365ac6.d/client-ca.pem cakeypath=./.SBContainer-d9e3c768-0131-4acc-8fff-a42957365ac6.d/client-ca-key.pem\n",
      "INFO:root:server_certificate: Generating server certificate\n",
      "INFO:root:server_certificate: Successfully generated server CSR\n",
      "INFO:root:server_certificate: Successfully generated server certificate\n"
     ]
    }
   ],
   "source": [
    "! ./build.py create-server-cert --env sbs-config.json"
   ]
  },
  {
   "cell_type": "markdown",
   "id": "incident-jacob",
   "metadata": {},
   "source": [
    "---\n",
    "\n",
    "### Step 5.9 Display your environment which shows your client certificate and CA and your server certificate and key\n",
    "\n",
    "The next code cell will copy the client certificate, the client certification authority, the server certificate and the server key, all in base64-encoding to a file for later use.\n",
    "\n",
    "If you already know about _base64-encoding_, go ahead and run the code cell.  If you don't, read the next paragraph if you're curious about what base64-encoding is.  \n",
    "\n",
    "Base64-encoding is a means of encoding any data, including binary data, into human-readable characters.  It takes groups of 6 bits, converts these six bits into a number from 0 to 63  (2 to the 6th power is 64), and replaces these 6 bits with one of 64 human-readable characters.  Which 64 human-readable characters were chosen?  Lowercase alphabetic characters a-z for 26, uppercase alphabetic characters A-Z for 26 more, the digits 0-9 for 10 more, which gives us 62.  Then `+` and `/` were chosen to make 64!  It should be noted that base64-encoding should not be confused with encryption.  It is easy to convert a base64-encoded string back to its original format.\n",
    "\n"
   ]
  },
  {
   "cell_type": "code",
   "execution_count": 58,
   "id": "completed-monkey",
   "metadata": {},
   "outputs": [],
   "source": [
    "! ./build.py instance-env --env sbs-config.json | grep -A1000 -m1 -e 'CLIENT_CRT' | ( SPACES=$'    ' ; sed \"s/^/$SPACES/\" ) > cert-env.env"
   ]
  },
  {
   "cell_type": "markdown",
   "id": "83f043ed-cfc3-4c8e-8a40-ffa12c8925cc",
   "metadata": {},
   "source": [
    "---\n",
    "\n",
    "### Step 5.10 Create an environment variable for the vpc\n",
    "\n",
    "Set you vpc name into an environment variable to reuse it by running the following code block."
   ]
  },
  {
   "cell_type": "code",
   "execution_count": null,
   "id": "6d118428-718b-4339-b021-6fde8cf59fc7",
   "metadata": {},
   "outputs": [
    {
     "name": "stdout",
     "output_type": "stream",
     "text": [
      "env: vpc=secure-build-vpc\n"
     ]
    }
   ],
   "source": [
    "%set_env vpc=secure-build-vpc"
   ]
  },
  {
   "cell_type": "markdown",
   "id": "650a6059-e9a9-4788-b708-1976b6c075e1",
   "metadata": {},
   "source": [
    "---\n",
    "\n",
    "### Step 5.11 Create your vpc\n",
    "\n",
    "This lab uses its own vpc to keep things neat and tidy for the end user. Now it's time to create that vpc and save it's ID into an environment variable"
   ]
  },
  {
   "cell_type": "code",
   "execution_count": 1,
   "id": "controlling-palmer",
   "metadata": {},
   "outputs": [
    {
     "name": "stdout",
     "output_type": "stream",
     "text": [
      "Creating vpc \u001b[36;1msecure-build-vpc\u001b[0m in resource group \u001b[36;1mdefault\u001b[0m under account \u001b[36;1mIBM\u001b[0m as user \u001b[36;1mGarrett.Lee.Woodworth@ibm.com\u001b[0m...\n",
      "\u001b[31;1mFAILED\u001b[0m\n",
      "Failed to create vpc.\n",
      "\n",
      "\u001b[31;1mFAILED\u001b[0m\n",
      "Error code: validation_unique_failed\n",
      "Error message: Provided Name (secure-build-vpc) is not unique\n",
      "Error target name: vpc, type: field\n",
      "Trace ID: e9c766c3-b7a7-49c1-ae94-beeb8ef15d5a\n",
      "\n",
      "\n"
     ]
    }
   ],
   "source": [
    "! ibmcloud is vpc-create $vpc"
   ]
  },
  {
   "cell_type": "markdown",
   "id": "2cf29a26-a5e9-4815-91e6-1c6a96a06c3f",
   "metadata": {},
   "source": [
    "---\n",
    "\n",
    "### Step 5.12 List the environment prefixes for your vpc\n",
    "\n",
    "Use the vpc variable you saved before to find the address prefixes for your vpc"
   ]
  },
  {
   "cell_type": "code",
   "execution_count": 4,
   "id": "5e5abcc6-3755-4553-ad9b-31c1384d900a",
   "metadata": {},
   "outputs": [
    {
     "name": "stdout",
     "output_type": "stream",
     "text": [
      "Listing address prefixes of vpc \u001b[36;1msecure-build-vpc\u001b[0m under account \u001b[36;1mIBM\u001b[0m as user \u001b[36;1mGarrett.Lee.Woodworth@ibm.com\u001b[0m...\n",
      "\u001b[1mID\u001b[0m                                          \u001b[1mName\u001b[0m                                \u001b[1mCIDR block\u001b[0m        \u001b[1mZone\u001b[0m        \u001b[1mHas subnets\u001b[0m   \u001b[1mIs default\u001b[0m   \u001b[1mCreated\u001b[0m   \n",
      "\u001b[36;1mr014-d1592cfb-d65b-4691-acfc-40317d366312\u001b[0m   passover-flyable-entitle-goodness   10.241.0.0/18     us-east-1   true          true         2023-08-22T23:51:29+00:00   \n",
      "\u001b[36;1mr014-cdb78388-ecca-48a5-a7e1-f1f56aeae87d\u001b[0m   pretender-deputize-pushup-cover     10.241.64.0/18    us-east-2   false         true         2023-08-22T23:51:29+00:00   \n",
      "\u001b[36;1mr014-64686aeb-3fb3-4cd5-997b-e30d9cb9c9e9\u001b[0m   dropbox-unfold-elite-strategy       10.241.128.0/18   us-east-3   false         true         2023-08-22T23:51:29+00:00   \n"
     ]
    }
   ],
   "source": [
    "! ibmcloud is vpc-address-prefixes $vpc "
   ]
  },
  {
   "cell_type": "markdown",
   "id": "bf0e626f-e081-471a-9b2c-0ac7d6e977d1",
   "metadata": {},
   "source": [
    "---\n",
    "\n",
    "### Step 5.13 Set your subnet as an environment variable\n",
    "Set your subnet as an environment variable by running the following code block"
   ]
  },
  {
   "cell_type": "code",
   "execution_count": null,
   "id": "b0e22ff4-0de7-407a-8f89-99eb2eb73efe",
   "metadata": {},
   "outputs": [
    {
     "name": "stdout",
     "output_type": "stream",
     "text": [
      "env: subnet=secure-build-subnet\n"
     ]
    }
   ],
   "source": [
    "%set_env subnet=secure-build-subnet"
   ]
  },
  {
   "cell_type": "markdown",
   "id": "83adbf18-679e-443d-bfaf-06c20eb36839",
   "metadata": {},
   "source": [
    "---\n",
    "\n",
    "### Step 5.14 Create your subnet\n",
    "\n",
    "Use the address CIDR from the previous command to create a subnet for your VPC using one of the zones in your region.\n",
    "\n",
    "For example given the following output:\n",
    "    \n",
    "```\n",
    "Listing address prefixes of vpc r014-03b31802-8605-41a7-82c0-ce7f46ad39a7 under account IBM as user Garrett.Lee.Woodworth@ibm.com...\n",
    "ID                                          Name                                CIDR block        Zone        Has subnets   Is default   Created   \n",
    "r014-d1592cfb-d65b-4691-acfc-40317d366312   passover-flyable-entitle-goodness   10.241.0.0/18     us-east-1   false         true         2023-08-22T16:51:29-07:00   \n",
    "r014-cdb78388-ecca-48a5-a7e1-f1f56aeae87d   pretender-deputize-pushup-cover     10.241.64.0/18    us-east-2   false         true         2023-08-22T16:51:29-07:00   \n",
    "r014-64686aeb-3fb3-4cd5-997b-e30d9cb9c9e9   dropbox-unfold-elite-strategy       10.241.128.0/18   us-east-3   false         true \n",
    "```\n",
    "\n",
    "I could create a subnet for us-east-1 with cidr block 10.241.0.0/24. Fill in the CIDR block for your zone with /18 replaced with /24 and run the commands below similar to the following example:\n",
    "\n",
    "```\n",
    "zone=us-east-1\n",
    "```\n",
    "\n",
    "```\n",
    "cidr_block=10.241.0.0/24\n",
    "```"
   ]
  },
  {
   "cell_type": "code",
   "execution_count": 22,
   "id": "d4f1121c-7ab8-490e-8af6-680fcecc8472",
   "metadata": {},
   "outputs": [
    {
     "name": "stdout",
     "output_type": "stream",
     "text": [
      "env: zone=us-east-1\n"
     ]
    }
   ],
   "source": [
    "%set_env zone="
   ]
  },
  {
   "cell_type": "code",
   "execution_count": 8,
   "id": "33081c36-ad00-485d-892c-a892f429dd4d",
   "metadata": {},
   "outputs": [
    {
     "name": "stdout",
     "output_type": "stream",
     "text": [
      "env: cidr_block=10.241.0.0/24\n"
     ]
    }
   ],
   "source": [
    "%set_env cidr_block="
   ]
  },
  {
   "cell_type": "code",
   "execution_count": 9,
   "id": "f2db0bb2-8594-4e3d-bead-6c63eb38941d",
   "metadata": {},
   "outputs": [
    {
     "name": "stdout",
     "output_type": "stream",
     "text": [
      "Creating subnet \u001b[36;1msecure-build-subnet\u001b[0m in resource group \u001b[36;1mdefault\u001b[0m under account \u001b[36;1mIBM\u001b[0m as user \u001b[36;1mGarrett.Lee.Woodworth@ibm.com\u001b[0m...\n",
      "\u001b[1m\u001b[0m                    \u001b[1m\u001b[0m   \n",
      "\u001b[36;1mID\u001b[0m                  0757-47a4e0b1-3d3f-4455-b1b9-47babeb6e0b5   \n",
      "\u001b[36;1mName\u001b[0m                secure-build-subnet   \n",
      "\u001b[36;1mCRN\u001b[0m                 crn:v1:bluemix:public:is:us-east-1:a/5ddc6205e6ebbdc9348ec241cf1f51a8::subnet:0757-47a4e0b1-3d3f-4455-b1b9-47babeb6e0b5   \n",
      "\u001b[36;1mStatus\u001b[0m              pending   \n",
      "\u001b[36;1mIPv4 CIDR\u001b[0m           10.241.0.0/24   \n",
      "\u001b[36;1mAddress available\u001b[0m   251   \n",
      "\u001b[36;1mAddress total\u001b[0m       256   \n",
      "\u001b[36;1mZone\u001b[0m                us-east-1   \n",
      "\u001b[36;1mCreated\u001b[0m             2023-08-24T20:40:01+00:00   \n",
      "\u001b[36;1mACL\u001b[0m                 \u001b[1mID\u001b[0m                                          \u001b[1mName\u001b[0m      \n",
      "\u001b[36;1m\u001b[0m                    \u001b[36;1mr014-b85dfd45-dd86-4876-a7b3-d21d28e8d349\u001b[0m   editor-spent-elves-rematch      \n",
      "\u001b[36;1m\u001b[0m                       \n",
      "\u001b[36;1mRouting table\u001b[0m       \u001b[1mID\u001b[0m                                          \u001b[1mName\u001b[0m      \n",
      "\u001b[36;1m\u001b[0m                    \u001b[36;1mr014-5ae6a474-0493-4bfb-b766-ff9f587f2f40\u001b[0m   flask-daylong-deputize-brigade      \n",
      "\u001b[36;1m\u001b[0m                       \n",
      "\u001b[36;1mPublic Gateway\u001b[0m      -   \n",
      "\u001b[36;1mVPC\u001b[0m                 \u001b[1mID\u001b[0m                                          \u001b[1mName\u001b[0m      \n",
      "\u001b[36;1m\u001b[0m                    \u001b[36;1mr014-03b31802-8605-41a7-82c0-ce7f46ad39a7\u001b[0m   secure-build-vpc      \n",
      "\u001b[36;1m\u001b[0m                       \n",
      "\u001b[36;1mResource group\u001b[0m      \u001b[1mID\u001b[0m                                 \u001b[1mName\u001b[0m      \n",
      "\u001b[36;1m\u001b[0m                    \u001b[36;1m6f357188ee3a42ea8a9a252d66b8c9d5\u001b[0m   default      \n",
      "\u001b[36;1m\u001b[0m                       \n"
     ]
    }
   ],
   "source": [
    "! ibmcloud is subnet-create $subnet $vpc $zone --ipv4-cidr-block \"$cidr_block\""
   ]
  },
  {
   "cell_type": "markdown",
   "id": "08a846fb-8fd1-4169-bd0c-f7f9fcdd8ee9",
   "metadata": {
    "tags": []
   },
   "source": [
    "---\n",
    "\n",
    "### Step 5.15 Set your gateway as an environment variable\n",
    "\n",
    "Set your gateway as an environment variable by running the following code block."
   ]
  },
  {
   "cell_type": "code",
   "execution_count": 94,
   "id": "d7a5dd4b-a037-4370-888a-cfd2e912df0d",
   "metadata": {},
   "outputs": [
    {
     "name": "stdout",
     "output_type": "stream",
     "text": [
      "env: gateway=secure-build-gateway\n"
     ]
    }
   ],
   "source": [
    "%set_env gateway=secure-build-gateway"
   ]
  },
  {
   "cell_type": "markdown",
   "id": "06cb6fe0-9c98-4660-ad37-b412e15f46c1",
   "metadata": {},
   "source": [
    "---\n",
    "\n",
    "### Step 5.16 Create your public gateway\n",
    "\n",
    "Create a public gateway to access your instance"
   ]
  },
  {
   "cell_type": "code",
   "execution_count": 6,
   "id": "e7503b18-6d80-4e3f-afd9-a0d302d93141",
   "metadata": {},
   "outputs": [
    {
     "name": "stdout",
     "output_type": "stream",
     "text": [
      "Creating public gateway \u001b[36;1msecure-build-gateway\u001b[0m under account \u001b[36;1mIBM\u001b[0m as user \u001b[36;1mGarrett.Lee.Woodworth@ibm.com\u001b[0m...\n",
      "\u001b[31;1mFAILED\u001b[0m\n",
      "Error code: over_quota\n",
      "Error message: Creating a new public gateway will put the user over quota. Allocated: 1, Requested: 1, Quota: 1\n",
      "Trace ID: 8e592d5d-ddbd-4dd2-a033-5a3e933404ab\n",
      "\n",
      "\n"
     ]
    }
   ],
   "source": [
    "! ibmcloud is public-gateway-create $gateway $vpc $zone"
   ]
  },
  {
   "cell_type": "markdown",
   "id": "9e4048f1-0322-4718-9cbf-646b11b1d7e0",
   "metadata": {},
   "source": [
    "---\n",
    "\n",
    "### Step 5.16 Link your subnet to the new gateway\n",
    "\n",
    "Link the gateway you just created to your subnet"
   ]
  },
  {
   "cell_type": "code",
   "execution_count": 14,
   "id": "fcd65a72-1907-47e4-804b-3066fd0f40f8",
   "metadata": {},
   "outputs": [
    {
     "name": "stdout",
     "output_type": "stream",
     "text": [
      "Updating subnet \u001b[36;1m0757-47a4e0b1-3d3f-4455-b1b9-47babeb6e0b5\u001b[0m under account \u001b[36;1mIBM\u001b[0m as user \u001b[36;1mGarrett.Lee.Woodworth@ibm.com\u001b[0m...\n",
      "\u001b[1m\u001b[0m                    \u001b[1m\u001b[0m   \n",
      "\u001b[36;1mID\u001b[0m                  0757-47a4e0b1-3d3f-4455-b1b9-47babeb6e0b5   \n",
      "\u001b[36;1mName\u001b[0m                secure-build-subnet   \n",
      "\u001b[36;1mCRN\u001b[0m                 crn:v1:bluemix:public:is:us-east-1:a/5ddc6205e6ebbdc9348ec241cf1f51a8::subnet:0757-47a4e0b1-3d3f-4455-b1b9-47babeb6e0b5   \n",
      "\u001b[36;1mStatus\u001b[0m              pending   \n",
      "\u001b[36;1mIPv4 CIDR\u001b[0m           10.241.0.0/24   \n",
      "\u001b[36;1mAddress available\u001b[0m   251   \n",
      "\u001b[36;1mAddress total\u001b[0m       256   \n",
      "\u001b[36;1mZone\u001b[0m                us-east-1   \n",
      "\u001b[36;1mCreated\u001b[0m             2023-08-24T20:40:01+00:00   \n",
      "\u001b[36;1mACL\u001b[0m                 \u001b[1mID\u001b[0m                                          \u001b[1mName\u001b[0m      \n",
      "\u001b[36;1m\u001b[0m                    \u001b[36;1mr014-b85dfd45-dd86-4876-a7b3-d21d28e8d349\u001b[0m   editor-spent-elves-rematch      \n",
      "\u001b[36;1m\u001b[0m                       \n",
      "\u001b[36;1mRouting table\u001b[0m       \u001b[1mID\u001b[0m                                          \u001b[1mName\u001b[0m      \n",
      "\u001b[36;1m\u001b[0m                    \u001b[36;1mr014-5ae6a474-0493-4bfb-b766-ff9f587f2f40\u001b[0m   flask-daylong-deputize-brigade      \n",
      "\u001b[36;1m\u001b[0m                       \n",
      "\u001b[36;1mPublic Gateway\u001b[0m      \u001b[1mID\u001b[0m                                          \u001b[1mName\u001b[0m      \n",
      "\u001b[36;1m\u001b[0m                    \u001b[36;1mr014-31d48d86-273d-4afd-9542-30e1aff53ba0\u001b[0m   secure-build-gateway      \n",
      "\u001b[36;1m\u001b[0m                       \n",
      "\u001b[36;1mVPC\u001b[0m                 \u001b[1mID\u001b[0m                                          \u001b[1mName\u001b[0m      \n",
      "\u001b[36;1m\u001b[0m                    \u001b[36;1mr014-03b31802-8605-41a7-82c0-ce7f46ad39a7\u001b[0m   secure-build-vpc      \n",
      "\u001b[36;1m\u001b[0m                       \n",
      "\u001b[36;1mResource group\u001b[0m      \u001b[1mID\u001b[0m                                 \u001b[1mName\u001b[0m      \n",
      "\u001b[36;1m\u001b[0m                    \u001b[36;1m6f357188ee3a42ea8a9a252d66b8c9d5\u001b[0m   default      \n",
      "\u001b[36;1m\u001b[0m                       \n"
     ]
    }
   ],
   "source": [
    "! ibmcloud is subnet-update $subnet --pgw $gateway"
   ]
  },
  {
   "cell_type": "markdown",
   "id": "4c93616a-4bdd-46bb-95dd-f67b6128fc78",
   "metadata": {},
   "source": [
    "---\n",
    "\n",
    "### 5.17 Save your security group ID for later use\n",
    "\n",
    "Run a command to get your vpc's security group ID and then save it by pasting it into the code box below after the = sign and running the code box below."
   ]
  },
  {
   "cell_type": "code",
   "execution_count": 15,
   "id": "3c5df4e0-2b82-41a6-a3e6-87fe6af728d7",
   "metadata": {},
   "outputs": [
    {
     "name": "stdout",
     "output_type": "stream",
     "text": [
      "Getting default security group of vpc \u001b[36;1mr014-03b31802-8605-41a7-82c0-ce7f46ad39a7\u001b[0m under account \u001b[36;1mIBM\u001b[0m as user \u001b[36;1mGarrett.Lee.Woodworth@ibm.com\u001b[0m...\n",
      "\u001b[1m\u001b[0m          \u001b[1m\u001b[0m   \n",
      "\u001b[36;1mID\u001b[0m        r014-835bdbe2-8519-44b6-854b-8233088ec248   \n",
      "\u001b[36;1mName\u001b[0m      escalate-reappear-harmonica-bounding   \n",
      "\u001b[36;1mCreated\u001b[0m   2023-08-22T23:51:29+00:00   \n",
      "\u001b[36;1mVPC\u001b[0m       \u001b[1mID\u001b[0m                                          \u001b[1mName\u001b[0m      \n",
      "\u001b[36;1m\u001b[0m          \u001b[36;1mr014-03b31802-8605-41a7-82c0-ce7f46ad39a7\u001b[0m   secure-build-vpc      \n",
      "\u001b[36;1m\u001b[0m             \n",
      "\u001b[1m\u001b[0m        \u001b[1m\u001b[0m   \n",
      "\u001b[36;1mRules\u001b[0m      \n",
      "\u001b[1mID\u001b[0m                                          \u001b[1mDirection\u001b[0m   \u001b[1mIP version\u001b[0m   \u001b[1mProtocol\u001b[0m   \u001b[1mRemote\u001b[0m   \n",
      "\u001b[36;1mr014-74417dc4-eb89-482e-a7a3-c68be674ebba\u001b[0m   outbound    ipv4         all        0.0.0.0/0   \n",
      "\u001b[36;1mr014-b802f938-4150-4e16-8911-24729811cef4\u001b[0m   inbound     ipv4         all        escalate-reappear-harmonica-bounding   \n"
     ]
    }
   ],
   "source": [
    "! ibmcloud is vpc-sg $vpc"
   ]
  },
  {
   "cell_type": "code",
   "execution_count": 16,
   "id": "66d781ed-1be6-4c8b-b27d-8f6c94e5a948",
   "metadata": {},
   "outputs": [
    {
     "name": "stdout",
     "output_type": "stream",
     "text": [
      "env: sg=r014-835bdbe2-8519-44b6-854b-8233088ec248\n"
     ]
    }
   ],
   "source": [
    "%set_env sg="
   ]
  },
  {
   "cell_type": "markdown",
   "id": "525f92f1-b81f-429c-a88c-d01179552863",
   "metadata": {},
   "source": [
    "---\n",
    "\n",
    "### Step 5.18 Open port 443 on your security group\n",
    "\n",
    "Next, you will open port 443 to public traffic to use it to communicate with the secure build server."
   ]
  },
  {
   "cell_type": "code",
   "execution_count": 18,
   "id": "a77ed162-894a-4a75-b85d-0be5445f14cc",
   "metadata": {},
   "outputs": [
    {
     "name": "stdout",
     "output_type": "stream",
     "text": [
      "Creating rule for security group \u001b[36;1mr014-835bdbe2-8519-44b6-854b-8233088ec248\u001b[0m under account \u001b[36;1mIBM\u001b[0m as user \u001b[36;1mGarrett.Lee.Woodworth@ibm.com\u001b[0m...\n",
      "\u001b[1m\u001b[0m                       \u001b[1m\u001b[0m   \n",
      "\u001b[36;1mID\u001b[0m                     r014-19d3f7c1-c0e0-4cf9-b60a-c983b1a3584e   \n",
      "\u001b[36;1mDirection\u001b[0m              inbound   \n",
      "\u001b[36;1mIP version\u001b[0m             ipv4   \n",
      "\u001b[36;1mProtocol\u001b[0m               tcp   \n",
      "\u001b[36;1mMin destination port\u001b[0m   443   \n",
      "\u001b[36;1mMax destination port\u001b[0m   443   \n",
      "\u001b[36;1mRemote\u001b[0m                 0.0.0.0/0   \n"
     ]
    }
   ],
   "source": [
    "! ibmcloud is sg-rulec $sg inbound tcp --port-min=443 --port-max=443"
   ]
  },
  {
   "cell_type": "markdown",
   "id": "895f7e4f-374a-4b72-b7fb-6cf53e22ef4e",
   "metadata": {},
   "source": [
    "---\n",
    "\n",
    "### Step 5.19 Create Logdna Logging instance\n",
    "\n",
    "You will need a logdna instance to use for logging from your Hyper Protect Virtual Servers for VPC. Thankfully, you can get a lite instance for free if you don't already have one. Since you can only have one lite instance, if you already have one you can reuse that one for this. However, if you don't create it with the command below:"
   ]
  },
  {
   "cell_type": "code",
   "execution_count": 21,
   "id": "038145fe-7304-4fcf-a81e-d47192b3916a",
   "metadata": {},
   "outputs": [
    {
     "name": "stdout",
     "output_type": "stream",
     "text": [
      "Creating service instance \u001b[36;1msecure-build-logdna\u001b[0m in resource group \u001b[36;1mdefault\u001b[0m of account \u001b[36;1mIBM\u001b[0m as \u001b[36;1mGarrett.Lee.Woodworth@ibm.com\u001b[0m...\n",
      "\u001b[31;1mFAILED\u001b[0m\n",
      "Error Code: RC-InstanceCountExceeded\n",
      "Message: You can only have one instance of a Lite plan per service. To create a new instance, either delete your existing Lite plan instance or select a paid plan.\n",
      "\n"
     ]
    }
   ],
   "source": [
    "! ibmcloud resource service-instance-create secure-build-logdna logdna lite $region -p '{\"private_endpoints_only\": false}'"
   ]
  },
  {
   "cell_type": "markdown",
   "id": "f626a128-56ae-4952-bf7c-9d2b716a477f",
   "metadata": {},
   "source": [
    "---\n",
    "\n",
    "### Step 5.20 Retrieve your IBM Log Analaysis instance's ingestion key\n",
    "\n",
    "Navigate to the IBM Cloud UI (signing in if necessary) via [this link](https://cloud.ibm.com/observe/logging) which will take you to your logging instances.\n",
    "\n",
    "Click the blue **Open Dashboard** button in the upper right for the logDNA instance you are using for this lab.\n",
    "\n",
    "Click the *Install instructions* icon (that looks like a question mark) in the lower left of your IBM Log Analysis dashboard:\n",
    "\n",
    "<img src=\"images/log040.png\" width=\"470\" height=\"952\" />\n",
    "\n",
    "In the window that opens up, click the icon highlighted below in order to copy your IBM Log Analysis instance's ingestion key into your clipboard.  Paste it into the code cell below and run it to set an environment variable for use later in the lab.  **Treat this ingestion key with care like you would a password, _especially if you are using an already existing IBM Log Analysis instance_**. (You do have the ability to return to this screen to retrieve it later if you lose track of where you paste it).  See the below screen snippet:\n",
    "\n",
    "<img src=\"images/log050.png\" width=\"936\" height=\"186\" />"
   ]
  },
  {
   "cell_type": "code",
   "execution_count": 51,
   "id": "56d6aeeb-1965-42ff-9509-e1dead1049d2",
   "metadata": {},
   "outputs": [
    {
     "name": "stdout",
     "output_type": "stream",
     "text": [
      "env: logdna_ingestion_key=17866e879b42e5dbe29fa14c328c3491\n"
     ]
    }
   ],
   "source": [
    "%set_env logdna_ingestion_key="
   ]
  },
  {
   "cell_type": "markdown",
   "id": "e9f6a58d-ad68-4cb3-b33b-d8c85b94dbaf",
   "metadata": {},
   "source": [
    "---\n",
    "\n",
    "### Step 5.21 Retrieve your IBM Log Analysis instance's host name\n",
    "\n",
    "1. Scroll down on this same window and choose **rsyslog**\n",
    "2. Use copy and paste to save the information that corresponds to the information highlighted in the screen snippet below.  (This information will not be highlighted on your screen until you select it as we did prior to taking this screenshot). You will be using this information later in the labs.  This information does not have to be kept secret.\n",
    "\n",
    "<img src=\"images/log060.png\" width=\"802\" height=\"671\" />\n",
    "\n",
    "You do not have to follow the instructions that the popup window is giving you, you only needed to copy the information as directed here in the lab. You can click the **X** in the upper right corner of the popup window or just click outside of the popup window so that it goes away. Paste the hostname into the code cell below and then run it to set an environment variable for use later in the lab. Keep this tab open to see your logs when you launch the server (since the lite plan doesn't save logs so you have to have the instance loaded in your browser when the logs occur to see your logs.)"
   ]
  },
  {
   "cell_type": "code",
   "execution_count": 50,
   "id": "ba6c76d5-39b1-4c13-ab6b-65d5df21eaae",
   "metadata": {},
   "outputs": [
    {
     "name": "stdout",
     "output_type": "stream",
     "text": [
      "env: logdna_hostname=syslog-a.us-south.logging.cloud.ibm.com\n"
     ]
    }
   ],
   "source": [
    "%set_env logdna_hostname="
   ]
  },
  {
   "cell_type": "markdown",
   "id": "a71188ef-d9f0-4790-98a7-3887bc5f37c1",
   "metadata": {},
   "source": [
    "---\n",
    "### Step 5.22 Prepare the environment section of your contract\n",
    "\n",
    "Time to create the environment section of your contract with all of the information you collected before"
   ]
  },
  {
   "cell_type": "code",
   "execution_count": 91,
   "id": "0a038732-f32e-4981-9f2f-1dd1d753ec52",
   "metadata": {},
   "outputs": [],
   "source": [
    "%%bash\n",
    "cat <<EOF > env.yaml.initial\n",
    "  type: env\n",
    "  logging:\n",
    "    logDNA:\n",
    "      hostname: $logdna_hostname\n",
    "      ingestionKey: $logdna_ingestion_key\n",
    "      port: 6514\n",
    "  auths:\n",
    "    docker.io:\n",
    "      username: '${docker_user}'\n",
    "      password: '${docker_token}'\n",
    "  volumes:\n",
    "    hpsb:\n",
    "      seed: \"testing\"\n",
    "  env:\n",
    "    registry: \"docker.io/gmoney23/secure-docker-build\"\n",
    "$(cat cert-env.env)\n",
    "EOF"
   ]
  },
  {
   "cell_type": "markdown",
   "id": "a819ba4b-d516-473f-9ebc-8197a5efa9df",
   "metadata": {},
   "source": [
    "---\n",
    "\n",
    "### Step 5.23 View your newly created environment section\n",
    "\n",
    "Check on the environment section of your contract to check on your work"
   ]
  },
  {
   "cell_type": "code",
   "execution_count": 92,
   "id": "5ef82da0-7036-4973-9627-06be66350010",
   "metadata": {},
   "outputs": [
    {
     "name": "stdout",
     "output_type": "stream",
     "text": [
      "  type: env\n",
      "  logging:\n",
      "    logDNA:\n",
      "      hostname: syslog-a.us-south.logging.cloud.ibm.com\n",
      "      ingestionKey: 17866e879b42e5dbe29fa14c328c3491\n",
      "      port: 6514\n",
      "  auths:\n",
      "    docker.io:\n",
      "      username: 'gmoney23'\n",
      "      password: 'dckr_pat_nu9SYSKskEHp6kZBQqQcSh2dGyk'\n",
      "  volumes:\n",
      "    hpsb:\n",
      "      seed: \"testing\"\n",
      "  env:\n",
      "    registry: \"docker.io/gmoney23/secure-docker-build\"\n",
      "    CLIENT_CRT: \"LS0tLS1CRUdJTiBDRVJUSUZJQ0FURS0tLS0tCk1JSUR3RENDQXFpZ0F3SUJBZ0lFQTY0Q2ZUQU5CZ2txaGtpRzl3MEJBUXNGQURCbU1Rc3dDUVlEVlFRR0V3SlYKVXpFTE1Ba0dBMVVFQ0F3Q1Rsa3hEekFOQmdOVkJBY01Ca0Z5Ylc5dWF6RU1NQW9HQTFVRUNnd0RTVUpOTVJjdwpGUVlEVlFRTERBNUVhV2RwZEdGc0lFRnpjMlYwY3pFU01CQUdBMVVFQXd3SlEyeHBaVzUwSUVOQk1CNFhEVEl6Ck1EZ3lOVEl3TlRBME1sb1hEVEkwTURneU5ESXdOVEEwTWxvd1l6RUxNQWtHQTFVRUJoTUNWVk14Q3pBSkJnTlYKQkFnTUFrNVpNUTh3RFFZRFZRUUhEQVpCY20xdmJtc3hEREFLQmdOVkJBb01BMGxDVFRFWE1CVUdBMVVFQ3d3TwpSR2xuYVhSaGJDQkJjM05sZEhNeER6QU5CZ05WQkFNTUJrTnNhV1Z1ZERDQ0FTSXdEUVlKS29aSWh2Y05BUUVCCkJRQURnZ0VQQURDQ0FRb0NnZ0VCQUx4Q3hMN3ZndGlJRU50TFUrS0lORTZBM3gzanIvMEZEQWxLa1FPbTdFRW0KZnhVS09KYUNHQVYxWUtmNjRJaVQ0Z0hLZDBScEdMS1EweElLdTRtQmZQaFJJeUpHc0RQck9ZbjZLbGRXV2tGUwpPSFpNM2ZMcTd6S3ZsaTZXNmg3Wjh3WEhNK2pjSENBK1hzOTNqQ0d5Yk1lREJjK2ROdXl2ay80bDZtZmU4aityCjZnNmxyc2tSdkFqV29heDNYS0lHdUEwRkJOSVdEYm0zYTFHTVpsV1EzNFgwRUNORnlaNnBmSVdZTEhiN2hsZ2sKbXZhWkJZejV0T1UxMXpmY1ZDRUxSdGM4Nkw4TnZGYWxKZ2pIUEQyRWtycms0akIxcUhpMHFLek9pZmJsNTQyYQpXc3hDdmphY0Zjd1VLa1RvNkxGOVNYYXpSQzlSMVRNT2NGZVNBbGpCVVA4Q0F3RUFBYU41TUhjd0NRWURWUjBUCkJBSXdBREFkQmdOVkhRNEVGZ1FVMmptajdsNXJTdzB5VmIvdmxXQVlrSy9ZQndrd0h3WURWUjBqQkJnd0ZvQVUKMmptajdsNXJTdzB5VmIvdmxXQVlrSy9ZQndrd0hRWURWUjBsQkJZd0ZBWUlLd1lCQlFVSEF3SUdDQ3NHQVFVRgpCd01CTUFzR0ExVWREd1FFQXdJSGdEQU5CZ2txaGtpRzl3MEJBUXNGQUFPQ0FRRUFUTG0zZk9OckxXN25IWHIyClNrUXpWSG1LZlJYWXd0VWxVaEpLTVRwVm1NV21uQnFTdStPaDhrbWhoa2Fmb1dkUHBQMjJ3N2kxSnVNdVpYQU4KZlNHZ1BXbDczaUlVYmhVS28xNDEzV0UvNThkWU94ZGh6bjhmWmZROFJ3TjU5SUNTTHJyT0dUUDdWWEhsUGxteQpwSVFkcFY5QTVYS1BES2lXQkJsdkd3a0lTN0lUTDhLOWZMUitVUVY1SHBCUUk1amhIbVRJTzBSM0M2OW9TanY5Cm5SWDREYTZBYXFqV0wweU1pUWdXLzROZ3BGRUxmU2pzSHY4VjdYTUo0MGpBaDJjZzV0WmZ2VHFKb2VXNlpwOHcKR3JIc2pEeWpBSXNhbVhDWlRSMlc5WkJpOEtLWXdodmZQSzYwUk80U1Z6RlBuNWJPWDhCeTJtc1NiNGdPZEdiTgpRaWUyNGc9PQotLS0tLUVORCBDRVJUSUZJQ0FURS0tLS0tCg==\"\n",
      "    CLIENT_CA: \"LS0tLS1CRUdJTiBDRVJUSUZJQ0FURS0tLS0tCk1JSUR4akNDQXE2Z0F3SUJBZ0lFQmVsZHpqQU5CZ2txaGtpRzl3MEJBUXNGQURCbU1Rc3dDUVlEVlFRR0V3SlYKVXpFTE1Ba0dBMVVFQ0F3Q1Rsa3hEekFOQmdOVkJBY01Ca0Z5Ylc5dWF6RU1NQW9HQTFVRUNnd0RTVUpOTVJjdwpGUVlEVlFRTERBNUVhV2RwZEdGc0lFRnpjMlYwY3pFU01CQUdBMVVFQXd3SlEyeHBaVzUwSUVOQk1CNFhEVEl6Ck1EZ3lOVEl3TlRBME1sb1hEVEkxTURneU5ESXdOVEEwTWxvd1pqRUxNQWtHQTFVRUJoTUNWVk14Q3pBSkJnTlYKQkFnTUFrNVpNUTh3RFFZRFZRUUhEQVpCY20xdmJtc3hEREFLQmdOVkJBb01BMGxDVFRFWE1CVUdBMVVFQ3d3TwpSR2xuYVhSaGJDQkJjM05sZEhNeEVqQVFCZ05WQkFNTUNVTnNhV1Z1ZENCRFFUQ0NBU0l3RFFZSktvWklodmNOCkFRRUJCUUFEZ2dFUEFEQ0NBUW9DZ2dFQkFNSXFGeVRQcFcvdks1ejIwMzRPaEVhU1IyUEhQR0s5K2kvRGdjTkYKcEkzaXhFZ1ZOZDRjM281MVNmZllDUWdYUVR1a0hZVDYzZjEweXZZUG5NR2UwbFd4aXRFSFJRZHA3ejBuK045Sgp3clpBSTFHMDdHVkRwMXE4eFlSVzhZblM1ZzJDcDJWZDNodjJjQkZ4NjVTZzlFWC9xaS9JMjJreE0rRnZQR29UCk5NTGhxNEJkbVVTVzNsRzI5dFljQ1dteWxUR09WWVl5SXprMWc4TGE4ZVplME1lbkNidW5DN2ZCcVNTT0FVRFAKa0wzVngwQ0tyTVlvYjMzMlRqZFhtdkJ2eU5LNG1iS1BabzRsczBMYis5VEJwVjB3MjJPYnZNbjVyaERFRHdhWAo3R2hTd3NNcHA1ZGxZWERueU5JZ1h5OEdCaVBzYk53Z2Y2cEJKdlNhVDhtYnFqa0NBd0VBQWFOOE1Ib3dIUVlEClZSME9CQllFRk5vNW8rNWVhMHNOTWxXLzc1VmdHSkN2MkFjSk1COEdBMVVkSXdRWU1CYUFGTm81bys1ZWEwc04KTWxXLzc1VmdHSkN2MkFjSk1Bd0dBMVVkRXdRRk1BTUJBZjh3SFFZRFZSMGxCQll3RkFZSUt3WUJCUVVIQXdJRwpDQ3NHQVFVRkJ3TUJNQXNHQTFVZER3UUVBd0lCQmpBTkJna3Foa2lHOXcwQkFRc0ZBQU9DQVFFQXV3cmlvaXRxCkNpOU5kZDUyWEZVWXFqQitlT293TklPVGpER1pHZGsxT3VSeHJuS3pYakE5RUxUd1ljcC9CNGVyTnJtQjhlTGsKWmVkeVUvdzh0Y09PY3pMWTByT0JmdlBWZ29UVGFQbkJhWC9NSWd6NkFObmZxNjZkNytKVWRhQWlKTERNamJZTwpoVzZpT0VXVkpxRkdkR2lQV3cxd3g3SGRNKzEzZVl2ZHQ3OTBBVHpIRDN1enhzcmRvMVJZY2lvNGp2VGdqTzU3ClNWVDRNOFNtMmJaTjVheHR6UWNRSDkzTTBiSUNxTzg5dzhjT21iNUYxVE9vd2ZuWDIvbDNTMURMN2ZlaEFzYmkKaTNDb2t0dkk2ZmVZYktncmpQMUpvK3V5OTRpVTErSXVTZXhOblo0WVczbXU4d1RwdFo4VnJibTBxWmNQNGxENgpCMDNXbXlEOXR2UlN3UT09Ci0tLS0tRU5EIENFUlRJRklDQVRFLS0tLS0K\"\n",
      "    SERVER_CRT: \"LS0tLS1CRUdJTiBDRVJUSUZJQ0FURS0tLS0tCk1JSUQxRENDQXJ5Z0F3SUJBZ0lFQlkrSGpqQU5CZ2txaGtpRzl3MEJBUXNGQURCbU1Rc3dDUVlEVlFRR0V3SlYKVXpFTE1Ba0dBMVVFQ0F3Q1Rsa3hEekFOQmdOVkJBY01Ca0Z5Ylc5dWF6RU1NQW9HQTFVRUNnd0RTVUpOTVJjdwpGUVlEVlFRTERBNUVhV2RwZEdGc0lFRnpjMlYwY3pFU01CQUdBMVVFQXd3SlEyeHBaVzUwSUVOQk1CNFhEVEl6Ck1EZ3lOVEl3TlRBME5sb1hEVEkwTURneU5ESXdOVEEwTmxvd1l6RUxNQWtHQTFVRUJoTUNWVk14Q3pBSkJnTlYKQkFnTUFrNVpNUTh3RFFZRFZRUUhEQVpCY20xdmJtc3hEREFLQmdOVkJBb01BMGxDVFRFWE1CVUdBMVVFQ3d3TwpSR2xuYVhSaGJDQkJjM05sZEhNeER6QU5CZ05WQkFNTUJsTmxjblpsY2pDQ0FTSXdEUVlKS29aSWh2Y05BUUVCCkJRQURnZ0VQQURDQ0FRb0NnZ0VCQUwzWGxsUlRVQWVvQThqbm9NL3NxTUtKVGk1TndQc2VweVJicVpRR0sxemsKWWJ4aFo3SU5QWC82KzdkNno4WFJEb2g0b1FERS9OOUFoNGhjeEdyRzhYYWZYalRDdU51Nkh2ZGZybEtMbFlKUAo5dm9Rb0diL281M3RMMWlxRUw2dDJnMGZ5RlVUdlkrYjZqQWlTcnBVb3hwTzNnZzNqbDNPQm9LRHBpZXd5NkNrCkhGOFVOdHhmbDU1TTI0aDVhKzE5UUJSeXBvWkN0UXE3WHEyckU5d1FPRnVxK2xYSk1WSVM1MWlMSGJMNDU1YVAKaTVuMGNlOWNUcS9jZ2FQNFVkVjA1K3IyNWRkbXN1eWhYTDByWERLdDg1SHFnSHp4eE51M3RtSGRyVTFwa2s4VgpTT0NiQy93RjdiTENXWnllT2tzS3J3OENCS3JHQlpuVjRGelY2SmNkU21FQ0F3RUFBYU9CakRDQmlUQUpCZ05WCkhSTUVBakFBTUIwR0ExVWREZ1FXQkJUYU9hUHVYbXRMRFRKVnYrK1ZZQmlRcjlnSENUQWZCZ05WSFNNRUdEQVcKZ0JUYU9hUHVYbXRMRFRKVnYrK1ZZQmlRcjlnSENUQVRCZ05WSFNVRUREQUtCZ2dyQmdFRkJRY0RBVEFMQmdOVgpIUThFQkFNQ0I0QXdHZ1lEVlIwUkJCTXdFWUlQYzJKekxtVjRZVzF3YkdVdVkyOXRNQTBHQ1NxR1NJYjNEUUVCCkN3VUFBNElCQVFCL281QnozWXJROGpzajRjSGlMMFU4SWRROUxJZWY3eFJscmk2MTU2N0NacXlnMU1MM1F2bVgKYThaZlpSYVdlRXJaTUFTdkMvNUV6STZvdmNDRTlJOHB5QXNuRVgzdC8wUS95VlBtMVpCV3VUbHJYdmpVRFFnUgpOUDdSdnprdmNORjlBbDlxU01lZ1ZIUVJ4bnk2SWoxdGxzdkJVZUdoQittTnc0VENjeGtvclNVTHhBSkNoNTdPCkZ3V2krL1hqZDFLVTR2ZS9GbS9UZG5zUE4zMDlKRk52NjVFSWU4M1ZBRjVXYm1kZkxOb0lFdytzellrQWh2R1EKL2hsSzM3MUJNNFU0MVYyUDU2UWRPOVRHeWViRTh3cjhmVEx3VERnb0JZMDNuUU40TzkvWXVPQkJUV2M1dlpzdgpZNUF4Q0xUZmErNW9PcVVRWUhUOW9NSGc3NDExcnpycgotLS0tLUVORCBDRVJUSUZJQ0FURS0tLS0tCg==\"\n",
      "    SERVER_KEY: \"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\"\n",
      "    \n"
     ]
    }
   ],
   "source": [
    "cat env.yaml.initial"
   ]
  },
  {
   "cell_type": "markdown",
   "id": "eaf39cef-e988-4160-863e-43207dadc2f6",
   "metadata": {},
   "source": [
    "----\n",
    "\n",
    "### Step 5.24 Create a script to encrypt the environment section of the contract\n",
    "\n",
    "Create a convenience script to automate encrypting the environment section of the contract\n"
   ]
  },
  {
   "cell_type": "code",
   "execution_count": 14,
   "id": "b8c4db39-b765-42cb-be51-07a610d0b646",
   "metadata": {},
   "outputs": [],
   "source": [
    "%%bash\n",
    "cat <<-EOF > short-flow.env\n",
    "# Create the env section of the contract and add the contents in the env.yaml file.\n",
    "\n",
    "#\n",
    "# This specifies a file will be encrypted and signed and is the primary output of this script.  \n",
    "# It is combined with the encrypted and signed workload section that is created by \n",
    "# another script (flow.signature which is one directory level higher)\n",
    "# Note: this file will also wind up one directory level higher\n",
    "#\n",
    "ENV_INITIAL=\"env.yaml.initial\"\n",
    "ENV_PLAIN=\"env.yaml.plaintext\"\n",
    "ENV=\"env.yaml\"\n",
    "\n",
    "#\n",
    "# This command adds the public signing key to the plaintext environment yaml.  This key is used inside \n",
    "# the Hyper Protect Container Runtime image to verify the signature over workload and environment sections of\n",
    "# the contract. \n",
    "#\n",
    "cat \\${ENV_INITIAL} ./pubSigningKey.yaml > \\${ENV_PLAIN}\n",
    "\n",
    "# Download certificate to encrypt contract for Hyper Protect Container Runtime:\n",
    "HPCR_rev=11\n",
    "CONTRACT_KEY=./ibm-hyper-protect-container-runtime-1-0-s390x-\\${HPCR_rev}-encrypt.crt\n",
    "curl https://cloud.ibm.com/media/docs/downloads/hyper-protect-container-runtime/ibm-hyper-protect-container-runtime-1-0-s390x-\\${HPCR_rev}-encrypt.crt > \\${CONTRACT_KEY}\n",
    "\n",
    "#\n",
    "# This variable holds a random password:\n",
    "#\n",
    "PASSWORD_ENV=\"\\$(openssl rand 32 | base64 -w0)\"\n",
    "\n",
    "#\n",
    "# This variable holds the output of the command pipe that\n",
    "# takes your plaintext environment yaml (\\$ENV_PLAIN) and encrypts it using the password that \n",
    "# was generated above (\\$PASSWORD_ENV) and then base64 encodes this encrypted environment yaml\n",
    "#\n",
    "# As long as nobody else knows your random password (\\$PASSWORD_ENV) your data is safe.  \n",
    "# But, the Hyper Protect Container Runtime has to encrypt it, so it needs your password. \n",
    "# How will it get that password securely?  Read the next set of comment lines to find out.\n",
    "#\n",
    "ENCRYPTED_ENV=\"\\$(echo -n \"\\$PASSWORD_ENV\" | base64 -d | openssl enc -aes-256-cbc -pbkdf2 -pass stdin -in \"\\$ENV_PLAIN\" | base64 -w0)\"\n",
    "\n",
    "#\n",
    "# This variable provides secure passage for your random password.  How?  \n",
    "# It encrypts it with the encryption key of the Hyper Protect Container Runtime (HPCR).\n",
    "# (A key that is encrypted by another key is often called a wrapped key).\n",
    "# Only the HPCR image has the private key which can decrypt this. It is protected from \n",
    "# access from any administrators.  So, malicious actors cannot do anything with this\n",
    "# wrapped key, even if they were able to get a hold of it.\n",
    "#\n",
    "ENCRYPTED_ENV_PASSWORD=\"\\$(echo -n \"\\$PASSWORD_ENV\" | base64 -d | openssl rsautl -encrypt -inkey \\$CONTRACT_KEY -certin | base64 -w0 )\"\n",
    "\n",
    "#\n",
    "# Use the following command to get the encrypted environment section of the contract:\n",
    "# This variable holds the output of a concatenation of a header, \"hyper-protect-basic\",\n",
    "# Your wrapped key, and your encrypted environment yaml.. \n",
    "#\n",
    "ENV_ENCRYPTED=\"hyper-protect-basic.\\${ENCRYPTED_ENV_PASSWORD}.\\${ENCRYPTED_ENV}\"\n",
    "#\n",
    "# The above variable writes the encrypted environment section to the directory one level above\n",
    "#\n",
    "echo \"\\$ENV_ENCRYPTED\" > \\$ENV\n",
    "EOF"
   ]
  },
  {
   "cell_type": "markdown",
   "id": "605876f8-d5d2-445c-8268-e34848e32b7c",
   "metadata": {},
   "source": [
    "---\n",
    "\n",
    "### Step 5.25 Create a script to generate a signing key\n",
    "\n",
    "Create a convenience script that will generate a key to sign the contract"
   ]
  },
  {
   "cell_type": "code",
   "execution_count": 52,
   "id": "6ea01b31-ba36-402f-aeab-cd991c95d817",
   "metadata": {},
   "outputs": [],
   "source": [
    "%%bash\n",
    "cat << EOF > flow.prepare\n",
    "# Use the following command to generate key pair to sign the contract \n",
    "openssl genrsa -aes128 -passout pass:test1234 -out private.pem 4096\n",
    "openssl rsa -in private.pem -passin pass:test1234 -pubout -out public.pem\n",
    "\n",
    "# The following command is an example of how you can get the signing key:\n",
    "key=\\$(awk -vRS=\"\\n\" -vORS=\"\\\\\\\\\\n\" '1' public.pem)\n",
    "# echo \"  signingKey: \\\"\\${key%\\\\\\\\n}\\\"\" > environment/pubSigningKey.yaml\n",
    "printf \"%s\" \"  signingKey: \\\"\\${key%\\\\\\\\n}\\\"\" > pubSigningKey.yaml\n",
    "EOF"
   ]
  },
  {
   "cell_type": "markdown",
   "id": "e8b18b9b-d6a8-4abe-81e1-570934e0ca03",
   "metadata": {},
   "source": [
    "---\n",
    "\n",
    "### Step 5.26 Create a script to sign the encrypted contract\n",
    "\n",
    "Create a convenience script to automate signing the encypted contract"
   ]
  },
  {
   "cell_type": "code",
   "execution_count": 42,
   "id": "fd179c5a-05a9-4b5b-aa06-c533c5801715",
   "metadata": {},
   "outputs": [],
   "source": [
    "%%bash\n",
    "cat << EOF > flow.signature\n",
    "# combine workload and environment\n",
    "cat workload.yaml env.yaml | tr -d '\\n' > contract.yaml\n",
    "\n",
    "# Sign the combination from workload and env being approved\n",
    "echo \\$( cat contract.yaml | openssl dgst -sha256 -sign private.pem -passin pass:test1234 | openssl enc -base64) | tr -d ' ' > signature.yaml\n",
    "\n",
    "# Create user data and add signature:\n",
    "echo \"workload: \\$(cat workload.yaml)\n",
    "env: \\$(cat env.yaml)\n",
    "envWorkloadSignature: \\$(cat signature.yaml)\" > user_data.yaml\n",
    "\n",
    "echo \"\"\n",
    "echo \"import `pwd`/user_data.yaml into User Data or copy and paste from below:\"\n",
    "echo \"\"\n",
    "\n",
    "cat user_data.yaml\n",
    "EOF"
   ]
  },
  {
   "cell_type": "markdown",
   "id": "6e89ca44-2fbe-4f7d-9e0b-75111ef575b8",
   "metadata": {},
   "source": [
    "---\n",
    "\n",
    "### Step 5.27 Create a script to produce the encrypted and signed contract\n",
    "\n",
    "Create a convenience script that will create an encrypted and signed contract using the prior scripts"
   ]
  },
  {
   "cell_type": "code",
   "execution_count": 124,
   "id": "3198dd3f-b9c4-439f-81bf-e0d529020e61",
   "metadata": {},
   "outputs": [],
   "source": [
    "%%bash\n",
    "cat << EOF > makeContract\n",
    ". ./flow.prepare\n",
    ". ./short-flow.env\n",
    ". ./flow.signature\n",
    "EOF"
   ]
  },
  {
   "cell_type": "markdown",
   "id": "e394b865-c38a-49b7-b622-919de57c5ac3",
   "metadata": {},
   "source": [
    "---\n",
    "\n",
    "### Step 5.28 Create the encrypted and signed contract\n",
    "\n",
    "Use the script to create the encrypted and signed contract"
   ]
  },
  {
   "cell_type": "code",
   "execution_count": 61,
   "id": "82064e45-005c-46c5-a201-b63386d2cffa",
   "metadata": {
    "scrolled": true,
    "tags": []
   },
   "outputs": [
    {
     "name": "stdout",
     "output_type": "stream",
     "text": [
      "Generating RSA private key, 4096 bit long modulus (2 primes)\n",
      ".................++++\n",
      "...++++\n",
      "e is 65537 (0x010001)\n",
      "writing RSA key\n",
      "\n",
      "import /home/jovyan/labdir/secure-build-cli/user_data.yaml into User Data or copy and paste from below:\n",
      "\n",
      "workload: hyper-protect-basic.UxkAbpIPPLZB2LNybZ8PedWbaJkMzJz/taoVf/ybKySkgpJ55GeHkNgQPeoLEJUPG54wLyRJ4AIqn96qQDAmoiPqIy8e9ucV3MCUu0Ed5bphbJjWzDvCFOtHh7VutLVZbMdzDDMfCblkc2kJ8uVbXUdY1cktwqnM2FnNwJXX98xlNfljtc69JnVhAcUWpDCNYwALjcxyHcKWxeKRetDrMnCo66rMN7W85DnExUM17wjNh1WVw1w2UTURwApnKRtbDjJ2xkYDyovJqyJiWlBeeX1WWEOb014ft/XacbGjWuA7WZbStggxrR9U2dO06HnmvgrpwpGhlSHOT3j7BJaSz0me+ZBCvdmLDDZozbXynn1JRK6WIgR/aMdO7lCkteh6PfOES/vjhFCTQn8Yw+Padu9E3Ye8yQweqsXnpB1STL5TAuZk11y4Lhs4xvqrXHgCDuek1SSIe6wdV4UoEXjVZfBypxEvXjMfYkz8N2WmPyoRB3VW18YuPEk+RSe6tQyeur/jc0rNMQDeYdXUn1Aao0xXnQj7NO7b73qBJZfRyvgKFxib94CCyazjykmzRNKZPyci2SGkmNCKAnk0V+o7GqrO78IV1rvmwS2GTqKKSTh35ovDkXAijn/7+kWX+Ka7Jc888AnRapy45fy41LXQ4nxkVk+jELegPkWBwK4lCDY=.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\n",
      "env: hyper-protect-basic.dWJX70gfm2YXmWm30yyzexsuoCGv86sAn133JcB2V7gaxJydnK+n2qzt0iBDIbdmP21USyiOqzd1QsBsU2YhaSrjgvOcF2hMpfJaieGqp8PI4cF1D3jGmptIEeLTQGsHrbV1/UL02qL+AhSSx0V8oqNsJSsgIGu4tf1rouNutOL4uvCx8BKa9U6mldFEdtEKpZ3kL9JlahhSvejXjykOxczMxg/Uho+WUdr5hBMNcKMYlb7nzuKdWYp5ObociSiOTXQva74PY0EGFgTm25RfRIiG+r08kgh4d/rVmuU2Wa0A62M2RYuRraJ0Gs3ESs5W5hXjn+7y/2I0hro3AY5RBfU0wJCp9JAwnlRDFC1Pw2qFY4hQd+H0S/zv6k1QlJGYwUKHu7MrOhaoEtH2BaZj9MBkGnw9YvA806oW9hLn3pO/kPmutTvicdl/DCDS/bsQ5KtRpMbZ/weE/ciP8jeld8G2NcJguYgXbr+i6u+D/LtirlkR5HY8+fg1wJPXfbTCtRgVVLdEH9InDFAez2n1mTA2zdo0JncEGNSNIs/ZFO3h8oiNqQSjjwVZII5Vw7slg4WX4jAatNBYh0OReU8Gn2ix0D1RA8KrxnvQF7FkyGywhvrxu21u/y0aKOntMjs5ldzfDTa00aSQ40apIDkWIeJXp76d2pp3mnwvvrKX+kM=.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\n",
      "envWorkloadSignature: PU4sv5xS5WRj08qIRUvpmAdAum19cEkHoIlxXNOh+jvGhAg4l905TyAM62vx91b3IKfkN1Ti3BCIFi9kc0wYIF5W4Qffbwmo5d3X8+UHog9rEUo/7ai2/n/2um5CeLB0Y99PcdZ3j849rhwC17e1yuoltsOCtVG84VZKsMFViphURjtCGAuO1yAnq7q9yrp8TqltrSvu3o/l3yTkXdUdrmatAsyD/cNhZ93SjjkPlzCBW+zmtWRR4+xkeYWHrrZWlW/fJ6ymV8wtgw0IoKmRG2WuBMi9l1ZgK/c2u/gKOwjD1tfAnwYZcZCN1mhehtDkS2+FgzwbWwkFmocKT8Xflv7pNFkKhp5d2SQOqtTmPc4rQBx07f1cww4vQrzqwVShrWFBHMDcwWXa4gL1Ax8FK2vECT+YFq0UqqxOUoOF8bu5VQVH1XtuSHml97R/fUoIwP++oFVTY32RNWJQAzVxid1wxS1Jsxs/I/iqhgTf85SHTbls1bKrNtN/sR8tQai+E6FgvrwNWOCCdx+0Mc/bddWRxfg/cSjIeuHr6NzfNNpSF7uVdUBT+eQGyBlqrU9P/hRJ9L1xKsxmy50kgPoInD2cZp8DlqutfDPZ8aAVY2Td7f7dLdLvCUEB5gMPOQmesQ3WmlxJJcIXos1sR8UC2Rd0BvcJZGOqDCUZX/LGFG4=\n"
     ]
    }
   ],
   "source": [
    "! . ./makeContract"
   ]
  },
  {
   "cell_type": "markdown",
   "id": "b062511b-facc-417c-a902-69cc43c706e9",
   "metadata": {},
   "source": [
    "---\n",
    "\n",
    "### Step 5.29 Display your signed contract\n",
    "\n",
    "See your signed contract that will use to deploy your secure build server"
   ]
  },
  {
   "cell_type": "code",
   "execution_count": 29,
   "id": "5677ee62-2967-483d-863f-3ee4cefcc11b",
   "metadata": {
    "scrolled": true,
    "tags": []
   },
   "outputs": [
    {
     "name": "stdout",
     "output_type": "stream",
     "text": [
      "workload: hyper-protect-basic.UxkAbpIPPLZB2LNybZ8PedWbaJkMzJz/taoVf/ybKySkgpJ55GeHkNgQPeoLEJUPG54wLyRJ4AIqn96qQDAmoiPqIy8e9ucV3MCUu0Ed5bphbJjWzDvCFOtHh7VutLVZbMdzDDMfCblkc2kJ8uVbXUdY1cktwqnM2FnNwJXX98xlNfljtc69JnVhAcUWpDCNYwALjcxyHcKWxeKRetDrMnCo66rMN7W85DnExUM17wjNh1WVw1w2UTURwApnKRtbDjJ2xkYDyovJqyJiWlBeeX1WWEOb014ft/XacbGjWuA7WZbStggxrR9U2dO06HnmvgrpwpGhlSHOT3j7BJaSz0me+ZBCvdmLDDZozbXynn1JRK6WIgR/aMdO7lCkteh6PfOES/vjhFCTQn8Yw+Padu9E3Ye8yQweqsXnpB1STL5TAuZk11y4Lhs4xvqrXHgCDuek1SSIe6wdV4UoEXjVZfBypxEvXjMfYkz8N2WmPyoRB3VW18YuPEk+RSe6tQyeur/jc0rNMQDeYdXUn1Aao0xXnQj7NO7b73qBJZfRyvgKFxib94CCyazjykmzRNKZPyci2SGkmNCKAnk0V+o7GqrO78IV1rvmwS2GTqKKSTh35ovDkXAijn/7+kWX+Ka7Jc888AnRapy45fy41LXQ4nxkVk+jELegPkWBwK4lCDY=.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\n",
      "env: hyper-protect-basic.AET6Yd/D2F5RX7iXHJYwYFUVeKMH6ag09L0sf98LVoq1D8saOceg9Az7H6So/hsboI1ruU8/tKGbhL2F5K7OlyK2VDJ+f11ok2wWaujuwAVRgs73VEDXh3JXWWsjt4NdEPBshPkYDVVwCshNDZ07Ai8keD8m62v+rRnNnjFtD7WZWrVmfyu5irEE6L8KJ1kmhxEK6ePTu/kSfk67EkVqULcOZwb58PJQb9Su2q+/qoaMb9/IoHxGGwj8x70nGRT1nW/+fLGh926VwsoQ8pF4+EYdYFBGvWoz1A5OX47hCCShOodRyIMnVLME3si0XxgRqJijol1CHamxMmv1qQnlLBQzl62n8mc14fjuScIeBM1piABQDveVX7wHCYPqlXDrSKy4oI789uxuuxRUIprIqHuMalr652Th2Tx6rPVXEuuheWC5BIPo6mtaby/SOnihvy6HUYz3Elufj9oXO6Hmaay8PgX4795nIMfZPo4xS1MvWcou0yqyD6s4sUlByJmAnWbaRHQVE9Tr6au7qVs9UNyWqh7qPui9r5tpJUBoqm8P27MVEF5j0N4CYhvYIvhT2Y5yGmgB3ai/KnkvqDi409zPxd/W/AbeplavnvKAkRlQ/s6zvPq6mzfJueILdwStYc9mOYGeJZDKyM2SeeMesIHxOBYfpOPaFSeWAZaIBK8=.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\n",
      "envWorkloadSignature: Uco+KNiZyCh9HK/FOWeYi1wXwYepSWcNzkO15FEjnHJ8QyDRg1cvRZmOq/cM3bQKwhkMXx4AePD21ceKfx8G34KGm755jWYa8JNRkudybgRceqoUMpK8WR3bQj2jODGTH5sypwWXznYGrkKjjLM0/gLtWtcy7DSA5D4rHMyJKhh0bbt+PDe4Tghmvu3jPvmiNXjADsNn4SE+l6wRctkStzxi1uLPsCtT9gj2519cT6yLUCmpNOeAwBMgSupJR0C4U+y94pBTiRB4qtrlcA6TvL0C8NbW3Hfyu9HF5MpfZlOGKkMSJHrr8XCnJWHTxDZ7yJMuujezxxjVcVmgk8P6B9ZZIZx38nDPpGOTLj9k4wLqI9D7g3gfzaSfRL7OEvCsr5qTvhRPMD4T2539BRO3uGobXB53JY/0hqdY9v9jDpyNQargb68HcY2XoREL2wRWZvhVPPv0LrpOBv4umxFvMrJ0QHVbuJ2SOk0yIbLhK7n3jv/hpWX+RRRmmru3B0XNLkTutxVRu4eA1uKXnRTuAlG35SbZ+yoaX8AF6k6uOMjOBc3xLYmWQIY4WcuLTIpuw8ACWgEMPX6q5gYWpfur+qlbGgjVoBhJzBx0076B6racODmFVmpPs5Rzzee99aFdG6s32ZeHxfZvct/Hu2u9HLXRFpPSkMpyQFu6ZAsluLs=\n"
     ]
    }
   ],
   "source": [
    "! cat user_data.yaml"
   ]
  },
  {
   "cell_type": "markdown",
   "id": "d6d640eb-043d-4401-bda5-fecc0d0442b8",
   "metadata": {},
   "source": [
    "---\n",
    "\n",
    "### Step 5.30 Set your instance name via a variable\n",
    "\n",
    "Set your HPVS for VPC instance name as a variable for later use by running the below code block."
   ]
  },
  {
   "cell_type": "code",
   "execution_count": 83,
   "id": "793f7468-e2a3-4f88-a0b2-42c020ce73e6",
   "metadata": {},
   "outputs": [
    {
     "name": "stdout",
     "output_type": "stream",
     "text": [
      "env: instance=secure-build-server\n"
     ]
    }
   ],
   "source": [
    "%set_env instance=secure-build-server"
   ]
  },
  {
   "cell_type": "markdown",
   "id": "44dc4313-53c0-4718-a6e5-3117bd63e457",
   "metadata": {
    "tags": []
   },
   "source": [
    "---\n",
    "\n",
    "### Step 5.31 Deploy the Hyper Protect Virtual Servers for VPC Secure Build Server\n",
    "\n",
    "Use your encrypted and signed contract to deploy a secure-execution enabled guest using Hyper Protect Virtual Servers for VPC"
   ]
  },
  {
   "cell_type": "code",
   "execution_count": 62,
   "id": "b3f566a8-01f7-414a-9bc4-5171d29b364c",
   "metadata": {},
   "outputs": [
    {
     "name": "stdout",
     "output_type": "stream",
     "text": [
      "Creating instance \u001b[36;1msecure-build-server\u001b[0m in resource group \u001b[36;1mdefault\u001b[0m under account \u001b[36;1mIBM\u001b[0m as user \u001b[36;1mGarrett.Lee.Woodworth@ibm.com\u001b[0m...\n",
      "\u001b[1m\u001b[0m                                      \u001b[1m\u001b[0m   \n",
      "\u001b[36;1mID\u001b[0m                                    0757_1981e292-3293-45bd-83af-c2e2ea6b2b89   \n",
      "\u001b[36;1mName\u001b[0m                                  secure-build-server   \n",
      "\u001b[36;1mCRN\u001b[0m                                   crn:v1:bluemix:public:is:us-east-1:a/5ddc6205e6ebbdc9348ec241cf1f51a8::instance:0757_1981e292-3293-45bd-83af-c2e2ea6b2b89   \n",
      "\u001b[36;1mStatus\u001b[0m                                pending   \n",
      "\u001b[36;1mAvailability policy on host failure\u001b[0m   restart   \n",
      "\u001b[36;1mStartable\u001b[0m                             true   \n",
      "\u001b[36;1mProfile\u001b[0m                               bz2e-2x8   \n",
      "\u001b[36;1mArchitecture\u001b[0m                          s390x   \n",
      "\u001b[36;1mvCPU Manufacturer\u001b[0m                     ibm   \n",
      "\u001b[36;1mvCPUs\u001b[0m                                 2   \n",
      "\u001b[36;1mMemory(GiB)\u001b[0m                           8   \n",
      "\u001b[36;1mBandwidth(Mbps)\u001b[0m                       4000   \n",
      "\u001b[36;1mVolume bandwidth(Mbps)\u001b[0m                1000   \n",
      "\u001b[36;1mNetwork bandwidth(Mbps)\u001b[0m               3000   \n",
      "\u001b[36;1mLifecycle Reasons\u001b[0m                     \u001b[1mCode\u001b[0m   \u001b[1mMessage\u001b[0m      \n",
      "\u001b[36;1m\u001b[0m                                      \u001b[36;1m-\u001b[0m      -      \n",
      "\u001b[36;1m\u001b[0m                                         \n",
      "\u001b[36;1mLifecycle State\u001b[0m                       pending   \n",
      "\u001b[36;1mMetadata service\u001b[0m                      \u001b[1mEnabled\u001b[0m   \u001b[1mProtocol\u001b[0m   \u001b[1mResponse hop limit\u001b[0m      \n",
      "\u001b[36;1m\u001b[0m                                      \u001b[36;1mfalse\u001b[0m     http       1      \n",
      "\u001b[36;1m\u001b[0m                                         \n",
      "\u001b[36;1mImage\u001b[0m                                 \u001b[1mID\u001b[0m                                          \u001b[1mName\u001b[0m      \n",
      "\u001b[36;1m\u001b[0m                                      \u001b[36;1mr014-282de74a-2a6d-4a5b-837a-f9c4329576dc\u001b[0m   ibm-hyper-protect-container-runtime-1-0-s390x-11      \n",
      "\u001b[36;1m\u001b[0m                                         \n",
      "\u001b[36;1mVPC\u001b[0m                                   \u001b[1mID\u001b[0m                                          \u001b[1mName\u001b[0m      \n",
      "\u001b[36;1m\u001b[0m                                      \u001b[36;1mr014-03b31802-8605-41a7-82c0-ce7f46ad39a7\u001b[0m   secure-build-vpc      \n",
      "\u001b[36;1m\u001b[0m                                         \n",
      "\u001b[36;1mZone\u001b[0m                                  us-east-1   \n",
      "\u001b[36;1mResource group\u001b[0m                        \u001b[1mID\u001b[0m                                 \u001b[1mName\u001b[0m      \n",
      "\u001b[36;1m\u001b[0m                                      \u001b[36;1m6f357188ee3a42ea8a9a252d66b8c9d5\u001b[0m   default      \n",
      "\u001b[36;1m\u001b[0m                                         \n",
      "\u001b[36;1mCreated\u001b[0m                               2023-08-25T20:58:07+00:00   \n",
      "\u001b[36;1mBoot volume\u001b[0m                           \u001b[1mID\u001b[0m   \u001b[1mName\u001b[0m   \u001b[1mAttachment ID\u001b[0m                               \u001b[1mAttachment name\u001b[0m      \n",
      "\u001b[36;1m\u001b[0m                                      \u001b[36;1m-\u001b[0m    -      0757-70cf675b-619c-4548-bd08-5abb4f380395   pesky-delead-secure-sectional      \n",
      "\u001b[36;1m\u001b[0m                                         \n",
      "\u001b[36;1mData volumes\u001b[0m                          \u001b[1mID\u001b[0m   \u001b[1mName\u001b[0m   \u001b[1mAttachment ID\u001b[0m                               \u001b[1mAttachment name\u001b[0m      \n",
      "\u001b[36;1m\u001b[0m                                      \u001b[36;1m-\u001b[0m    -      0757-54af6aad-0688-4d04-ae2c-a3d6e5109979   racer-catchy-paddleboard-easiness      \n",
      "\u001b[36;1m\u001b[0m                                         \n"
     ]
    }
   ],
   "source": [
    "! ibmcloud is instance-create $instance $vpc $zone bz2e-1x4 $subnet --image r014-282de74a-2a6d-4a5b-837a-f9c4329576dc --volume-attach '[{\"volume\": {\"name\":\"secure-build-volume\", \"capacity\":10, \"profile\": {\"name\": \"general-purpose\"},\"user_tags\": [\"secure-build\"]}}]' --user-data @user_data.yaml"
   ]
  },
  {
   "cell_type": "markdown",
   "id": "2b77299d-b008-47de-b17a-54b327a436ec",
   "metadata": {},
   "source": [
    "---\n",
    "\n",
    "### Step 5.32 Check the status of your Secure Build Server HPVS for VPC Instance\n",
    "\n",
    "Check the status of your secure build instance by checking the logs of your deployment in LogDNA. \n",
    "\n",
    "If you have for some reason closed your LogDNA instance, navigate to the IBM Cloud UI (signing in if necessary) via [this link](https://cloud.ibm.com/observe/logging) which will take you to your logging instances. Then, click the blue **Open Dashboard** button in the upper right for the logDNA instance you are using for this lab.\n",
    "\n",
    "Wait a few minutes for logs to appear and see the container come up in the logs before moving on to the next step.\n",
    "\n",
    "If there are issues with your deployment such as no logs appearing after 5 minutes contact an instructor for help getting unraveled."
   ]
  },
  {
   "cell_type": "markdown",
   "id": "f290d281-35f9-481b-b314-151860d58ed0",
   "metadata": {},
   "source": [
    "---\n",
    "\n",
    "### Step 5.33 Get the network interface card (nic) for your instance\n",
    "\n",
    "Get the network interface card for your instance and save it as a variable by entering it into the next code block after the = sign and running the code block."
   ]
  },
  {
   "cell_type": "code",
   "execution_count": 84,
   "id": "353ec1ca-a1b6-4534-84af-e90b503b51c8",
   "metadata": {},
   "outputs": [
    {
     "name": "stdout",
     "output_type": "stream",
     "text": [
      "Listing network interfaces of instance \u001b[36;1msecure-build-server\u001b[0m under account \u001b[36;1mIBM\u001b[0m as user \u001b[36;1mGarrett.Lee.Woodworth@ibm.com\u001b[0m...\n",
      "\u001b[1mID\u001b[0m                                          \u001b[1mName\u001b[0m      \u001b[1mType\u001b[0m      \u001b[1mSubnet\u001b[0m                \u001b[1mReserved IP\u001b[0m   \u001b[1mSecurity groups\u001b[0m                        \u001b[1mFloatIPs\u001b[0m         \u001b[1mCreated\u001b[0m                     \u001b[1mStatus\u001b[0m      \u001b[1mAllow source IP spoofing\u001b[0m   \u001b[1mSpeed\u001b[0m   \n",
      "\u001b[36;1m0757-3c431520-d7fa-4134-afc1-95c3911abb43\u001b[0m   primary   primary   secure-build-subnet   10.241.0.15   escalate-reappear-harmonica-bounding   150.239.81.238   2023-08-25T20:58:07+00:00   available   false                      3000   \n"
     ]
    }
   ],
   "source": [
    "! ibmcloud is instance-network-interfaces $instance"
   ]
  },
  {
   "cell_type": "code",
   "execution_count": 65,
   "id": "92c43eb9-a897-447a-96e7-e908df757ecf",
   "metadata": {},
   "outputs": [
    {
     "name": "stdout",
     "output_type": "stream",
     "text": [
      "env: nic=0757-3c431520-d7fa-4134-afc1-95c3911abb43\n"
     ]
    }
   ],
   "source": [
    "%set_env nic="
   ]
  },
  {
   "cell_type": "markdown",
   "id": "f444c312-796b-46b6-ad2f-1e926186f469",
   "metadata": {},
   "source": [
    "---\n",
    "\n",
    "### Step 5.34 Create a dedicated IP for your instance\n",
    "\n",
    "Create a floating IP to access your instance with using the following command."
   ]
  },
  {
   "cell_type": "code",
   "execution_count": 67,
   "id": "1fac8f50-0725-42fb-900f-7a40ed3bca14",
   "metadata": {},
   "outputs": [
    {
     "name": "stdout",
     "output_type": "stream",
     "text": [
      "Creating floating IP \u001b[36;1msecure-build-fip\u001b[0m in resource group \u001b[36;1mdefault\u001b[0m under account \u001b[36;1mIBM\u001b[0m as user \u001b[36;1mGarrett.Lee.Woodworth@ibm.com\u001b[0m...\n",
      "\u001b[1m\u001b[0m                 \u001b[1m\u001b[0m   \n",
      "\u001b[36;1mID\u001b[0m               r014-bc4a920a-42f5-4da7-88ef-516767ef6fe3   \n",
      "\u001b[36;1mAddress\u001b[0m          150.239.81.238   \n",
      "\u001b[36;1mName\u001b[0m             secure-build-fip   \n",
      "\u001b[36;1mCRN\u001b[0m              crn:v1:bluemix:public:is:us-east-1:a/5ddc6205e6ebbdc9348ec241cf1f51a8::floating-ip:r014-bc4a920a-42f5-4da7-88ef-516767ef6fe3   \n",
      "\u001b[36;1mStatus\u001b[0m           available   \n",
      "\u001b[36;1mZone\u001b[0m             us-east-1   \n",
      "\u001b[36;1mCreated\u001b[0m          2023-08-25T21:02:39+00:00   \n",
      "\u001b[36;1mTarget\u001b[0m           \u001b[1mID\u001b[0m                                          \u001b[1mTarget type\u001b[0m         \u001b[1mInstance ID\u001b[0m                                 \u001b[1mTarget interface name\u001b[0m   \u001b[1mTarget interface private IP\u001b[0m      \n",
      "\u001b[36;1m\u001b[0m                 \u001b[36;1m0757-3c431520-d7fa-4134-afc1-95c3911abb43\u001b[0m   network_interface   0757_1981e292-3293-45bd-83af-c2e2ea6b2b89   primary                 10.241.0.15      \n",
      "\u001b[36;1m\u001b[0m                    \n",
      "\u001b[36;1mResource group\u001b[0m   default   \n"
     ]
    }
   ],
   "source": [
    "! ibmcloud is floating-ip-reserve secure-build-fip --nic $nic"
   ]
  },
  {
   "cell_type": "markdown",
   "id": "b59f009e-c458-4e5a-a7a9-27367eaf34d0",
   "metadata": {},
   "source": [
    "---\n",
    "\n",
    "### Step 5.35 Save your IP as a variable\n",
    "\n",
    "Save the `Address` field of the above command's output (your floating ip address) as a variable for later use by pasting it after the = sign in the code block below and then running the code block."
   ]
  },
  {
   "cell_type": "code",
   "execution_count": 68,
   "id": "55b2edc2-91f2-4e16-8cea-6427957ded55",
   "metadata": {},
   "outputs": [
    {
     "name": "stdout",
     "output_type": "stream",
     "text": [
      "env: sb_ip=150.239.81.238\n"
     ]
    }
   ],
   "source": [
    "%set_env sb_ip="
   ]
  },
  {
   "cell_type": "markdown",
   "id": "58e52530-8624-439f-bf9c-a233f5dbc39c",
   "metadata": {},
   "source": [
    "---\n",
    "\n",
    "### Step 5.36 Set your IP address to the hostname of your secure build container\n",
    "\n",
    "Map your secure build container's IP to hostname in /etc/hosts"
   ]
  },
  {
   "cell_type": "code",
   "execution_count": 69,
   "id": "acfe5a30-fe9a-49da-92f5-756a521ba125",
   "metadata": {},
   "outputs": [
    {
     "name": "stdout",
     "output_type": "stream",
     "text": [
      "150.239.81.238 sbs.example.com\n"
     ]
    }
   ],
   "source": [
    "! echo \"$sb_ip sbs.example.com\" | sudo tee -a /etc/hosts"
   ]
  },
  {
   "cell_type": "markdown",
   "id": "detailed-monte",
   "metadata": {},
   "source": [
    "## Securely Build the Bitcoin Wallet Application\n",
    "---\n",
    "\n",
    "### Step 6.1 Check the status of your Secure Build Server\n",
    "\n",
    "Run the following command to check the status of your Secure Build Server instance. The value of the _status_ field in the output should be empty, i.e., `\"status\": \"\"`:"
   ]
  },
  {
   "cell_type": "code",
   "execution_count": 70,
   "id": "jewish-italy",
   "metadata": {},
   "outputs": [
    {
     "name": "stdout",
     "output_type": "stream",
     "text": [
      "INFO:__main__:status: response={\n",
      "    \"status\": \"\"\n",
      "}\n"
     ]
    }
   ],
   "source": [
    "! ./build.py status --env sbs-config.json"
   ]
  },
  {
   "cell_type": "markdown",
   "id": "numeric-sacramento",
   "metadata": {},
   "source": [
    "---\n",
    "\n",
    "### Step 6.2 Initialize the configuration for your Secure Build Server instance\n",
    "\n",
    "Run the following code cell to initialize the configuration for your Secure Build Server instance. The status of the output should be `OK`:"
   ]
  },
  {
   "cell_type": "code",
   "execution_count": 72,
   "id": "aggregate-combine",
   "metadata": {},
   "outputs": [
    {
     "name": "stdout",
     "output_type": "stream",
     "text": [
      "INFO:__main__:init: response={\n",
      "    \"status\": \"OK\"\n",
      "}\n"
     ]
    }
   ],
   "source": [
    "! ./build.py init --env sbs-config.json"
   ]
  },
  {
   "cell_type": "markdown",
   "id": "insured-material",
   "metadata": {},
   "source": [
    "---\n",
    "\n",
    "### Step 6.3 Start the build of your sample secure bitcoin wallet application image\n",
    "\n",
    "The code cell below will start the build of your application image. The command returns quickly, as soon as it submits the request to start the build.  Your status message from the command output should say `OK: async build started`, which indicates that the build of your image has been started up on your Secure Build Server container. The command does not wait for the build to complete. The build will take about twenty minutes. Try to check out the next two steps before you take a break.\n",
    "\n",
    "Run the below code cell to start the your build:"
   ]
  },
  {
   "cell_type": "code",
   "execution_count": 73,
   "id": "irish-advocate",
   "metadata": {},
   "outputs": [
    {
     "name": "stdout",
     "output_type": "stream",
     "text": [
      "INFO:__main__:build: response={\n",
      "    \"status\": \"OK: async build started\"\n",
      "}\n"
     ]
    }
   ],
   "source": [
    "! ./build.py build --env sbs-config.json"
   ]
  },
  {
   "cell_type": "markdown",
   "id": "thermal-plasma",
   "metadata": {},
   "source": [
    "---\n",
    "\n",
    "### Step 6.4 Check the status of your application image build\n",
    "\n",
    "Check the status of your build by running the code cell below. You can check it periodically—your build should take about twenty minutes to complete. You can run this code cell periodically, as well as the command in the subsequent code cell (_Step 6.9_) which displays the log messages from the build.  For now, check the status by running the code cell below.  Your build has completed successfully once the output of the code cell has the value of *success* in the *status* field:"
   ]
  },
  {
   "cell_type": "code",
   "execution_count": 77,
   "id": "widespread-skirt",
   "metadata": {},
   "outputs": [
    {
     "name": "stdout",
     "output_type": "stream",
     "text": [
      "INFO:__main__:status: response={\n",
      "    \"build_image_tag\": \"1.3.0.10\",\n",
      "    \"build_name\": \"docker.io.gmoney23.secure-bitcoin-wallet.s390x-v1-6d0f0e4.2023-08-25_21-25-56.285501\",\n",
      "    \"image_tag\": \"s390x-v1-6d0f0e4\",\n",
      "    \"manifest_key_gen\": \"soft_crypto\",\n",
      "    \"manifest_public_key\": \"manifest.docker.io.gmoney23.secure-bitcoin-wallet.s390x-v1-6d0f0e4.2023-08-25_21-25-56.285501-public.pem\",\n",
      "    \"status\": \"success\"\n",
      "}\n"
     ]
    }
   ],
   "source": [
    "! ./build.py status --env sbs-config.json"
   ]
  },
  {
   "cell_type": "markdown",
   "id": "complete-passing",
   "metadata": {},
   "source": [
    "In the above code cell, until the build completes, you may see several different statuses, including:\n",
    "\n",
    "_cleaned up_   This status can appear at the beginning of the build but you may not see it as the status quickly changes to _github cloned_.\n",
    "\n",
    "_github cloned_  This status appears most of the time as this status remains until the image build is complete, and this takes the largest amount of the entire build time.\n",
    "\n",
    "_image built_  Once the image is built, but before the push of the image into your Docker Hub account is complete, you may see this status.\n",
    "\n",
    "_image pushed_ Once the image has been pushed to your Docker Hub account, you may see this status, but usually the build completes very soon afterwards, so you may not see this status, as it should hopefully quickly change to _success_ status.\n",
    "\n",
    "_success_ Once the secure build process has completed successfully, you will see this status. Once you see this status, you are free to move on (Step 6.10). Remember, you can run the command to display the build log periodically (Step 6.9) while you are waiting for this _success_ status. \n",
    "\n",
    "---\n",
    "\n",
    "### Step 6.5 View the log from your application image build\n",
    "\n",
    "Your secure image build will produce a lot of output in its log. \n",
    "\n",
    "You can check the log of your build by running the below code cell. \n",
    "\n",
    "**Jupyter Notebook tip 1:** In some environments this output may be placed in a scrollable window, but in other environments all of the log output may be placed into the notebook, which makes navigating to the rest of the Notebook more difficult.  If this happens to you, you can enable scrolling by clicking in the output, then right-click and choose _Enable Scrolling for Outputs_. This will place the output into a scrollable window. \n",
    "\n",
    "**Jupyter Notebook tip 2:** Additionally, you can clear the output of this command from your Jupyter Notebook by clicking within the output, then right-click and choose _Clear Outputs_.  (The build logs are retained on the Secure Build Server and can be retrieved at any time).\n",
    "\n",
    "**Jupyter Notebook tip 3:** Running a code cell clears the output from any previous execution of the code cell, so if you want to view the log more than once, you don't need to clear the output as described in the tip given in the preceding paragraph."
   ]
  },
  {
   "cell_type": "code",
   "execution_count": 76,
   "id": "finnish-azerbaijan",
   "metadata": {
    "scrolled": true,
    "tags": []
   },
   "outputs": [
    {
     "name": "stdout",
     "output_type": "stream",
     "text": [
      "INFO:__main__:2023-08-25 21:08:06,647  build_task               INFO    starting a build\n",
      "INFO:__main__:2023-08-25 21:08:06,648  build_task               INFO    cleaning up the local github repo and the github access credential\n",
      "INFO:__main__:2023-08-25 21:08:06,648  clean_up                 INFO    github_dir=secure-bitcoin-wallet\n",
      "INFO:__main__:2023-08-25 21:08:06,649  build_task               INFO    cloning a github repo\n",
      "INFO:__main__:2023-08-25 21:08:06,649  clone_github_repo        INFO    github_host=github.com\n",
      "INFO:__main__:2023-08-25 21:08:06,649  clone_github_repo        INFO    github_dir=secure-bitcoin-wallet\n",
      "INFO:__main__:2023-08-25 21:08:06,649  run_response             INFO    cmd=ssh-keyscan github.com\n",
      "INFO:__main__:2023-08-25 21:08:06,649  run_response             INFO    env=null\n",
      "INFO:__main__:2023-08-25 21:08:06,649  run_response             INFO    args=ssh-keyscan+github.com\n",
      "INFO:__main__:2023-08-25 21:08:06,821  run_response             INFO    run_response: (stdout) github.com ssh-rsa AAAAB3NzaC1yc2EAAAADAQABAAABgQCj7ndNxQowgcQnjshcLrqPEiiphnt+VTTvDP6mHBL9j1aNUkY4Ue1gvwnGLVlOhGeYrnZaMgRK6+PKCUXaDbC7qtbW8gIkhL7aGCsOr/C56SJMy/BCZfxd1nWzAOxSDPgVsmerOBYfNqltV9/hWCqBywINIR+5dIg6JTJ72pcEpEjcYgXkE2YEFXV1JHnsKgbLWNlhScqb2UmyRkQyytRLtL+38TGxkxCflmO+5Z8CSSNY7GidjMIZ7Q4zMjA2n1nGrlTDkzwDCsw+wqFPGQA179cnfGWOWRVruj16z6XyvxvjJwbz0wQZ75XK5tKSb7FNyeIEs4TT4jk+S4dhPeAUC5y+bDYirYgM4GC7uEnztnZyaVWQ7B381AK4Qdrwt51ZqExKbQpTUNn+EjqoTwvqNj4kqx5QUCI0ThS/YkOxJCXmPUWZbhjpCg56i+2aB6CmK2JGhn57K5mj0MNdBXA4/WnwH6XoPWJzK5Nyu2zB3nAZp+S5hpQs+p1vN1/wsjk=\n",
      "INFO:__main__:github.com ecdsa-sha2-nistp256 AAAAE2VjZHNhLXNoYTItbmlzdHAyNTYAAAAIbmlzdHAyNTYAAABBBEmKSENjQEezOmxkZMy7opKgwFB9nkt5YRrYMjNuG5N87uRgg6CLrbo5wAdT/y6v0mKV0U2w0WZ2YB/++Tpockg=\n",
      "INFO:__main__:github.com ssh-ed25519 AAAAC3NzaC1lZDI1NTE5AAAAIOMqqnkVzrm0SdG6UOoqKLsabgH5C9okWi0dh2l9GKJl\n",
      "INFO:__main__:2023-08-25 21:08:06,821  run_response             INFO    run_response: (stderr) # github.com:22 SSH-2.0-babeld-7e018303\n",
      "INFO:__main__:# github.com:22 SSH-2.0-babeld-7e018303\n",
      "INFO:__main__:# github.com:22 SSH-2.0-babeld-dc5ec9be\n",
      "INFO:__main__:# github.com:22 SSH-2.0-babeld-7e018303\n",
      "INFO:__main__:# github.com:22 SSH-2.0-babeld-7e018303\n",
      "INFO:__main__:2023-08-25 21:08:06,821  clone_github_repo        INFO    key=github.com ssh-rsa AAAAB3NzaC1yc2EAAAADAQABAAABgQCj7ndNxQowgcQnjshcLrqPEiiphnt+VTTvDP6mHBL9j1aNUkY4Ue1gvwnGLVlOhGeYrnZaMgRK6+PKCUXaDbC7qtbW8gIkhL7aGCsOr/C56SJMy/BCZfxd1nWzAOxSDPgVsmerOBYfNqltV9/hWCqBywINIR+5dIg6JTJ72pcEpEjcYgXkE2YEFXV1JHnsKgbLWNlhScqb2UmyRkQyytRLtL+38TGxkxCflmO+5Z8CSSNY7GidjMIZ7Q4zMjA2n1nGrlTDkzwDCsw+wqFPGQA179cnfGWOWRVruj16z6XyvxvjJwbz0wQZ75XK5tKSb7FNyeIEs4TT4jk+S4dhPeAUC5y+bDYirYgM4GC7uEnztnZyaVWQ7B381AK4Qdrwt51ZqExKbQpTUNn+EjqoTwvqNj4kqx5QUCI0ThS/YkOxJCXmPUWZbhjpCg56i+2aB6CmK2JGhn57K5mj0MNdBXA4/WnwH6XoPWJzK5Nyu2zB3nAZp+S5hpQs+p1vN1/wsjk=\n",
      "INFO:__main__:github.com ecdsa-sha2-nistp256 AAAAE2VjZHNhLXNoYTItbmlzdHAyNTYAAAAIbmlzdHAyNTYAAABBBEmKSENjQEezOmxkZMy7opKgwFB9nkt5YRrYMjNuG5N87uRgg6CLrbo5wAdT/y6v0mKV0U2w0WZ2YB/++Tpockg=\n",
      "INFO:__main__:github.com ssh-ed25519 AAAAC3NzaC1lZDI1NTE5AAAAIOMqqnkVzrm0SdG6UOoqKLsabgH5C9okWi0dh2l9GKJl\n",
      "INFO:__main__:2023-08-25 21:08:06,823  run                      INFO    run: Cloning into 'secure-bitcoin-wallet'...\n",
      "INFO:__main__:2023-08-25 21:08:06,848  run                      INFO    run: Warning: Permanently added the ECDSA host key for IP address '140.82.112.4' to the list of known hosts.\n",
      "INFO:__main__:2023-08-25 21:08:07,168  run                      INFO    run: return code = 0\n",
      "INFO:__main__:2023-08-25 21:08:07,168  run_response             INFO    cmd=git log -1\n",
      "INFO:__main__:2023-08-25 21:08:07,168  run_response             INFO    env=null\n",
      "INFO:__main__:2023-08-25 21:08:07,168  run_response             INFO    args=git+log+-1\n",
      "INFO:__main__:2023-08-25 21:08:07,170  run_response             INFO    run_response: (stdout) commit 6d0f0e4255bb33fc36a65db2c622bf98200b8ed6\n",
      "INFO:__main__:Author: Garrett-Lee-Woodworth <garrett.lee.woodworth@ibm.com>\n",
      "INFO:__main__:Date:   Mon Jun 12 12:55:39 2023 -0700\n",
      "INFO:__main__:\n",
      "INFO:__main__:    Took build argument for access token out of Dockerfile\n",
      "INFO:__main__:2023-08-25 21:08:07,170  run_response             INFO    run_response: (stderr) \n",
      "INFO:__main__:2023-08-25 21:08:07,170  clone_github_repo        INFO    commit_id=commit 6d0f0e4255bb33fc36a65db2c622bf98200b8ed6\n",
      "INFO:__main__:Author: Garrett-Lee-Woodworth <garrett.lee.woodworth@ibm.com>\n",
      "INFO:__main__:Date:   Mon Jun 12 12:55:39 2023 -0700\n",
      "INFO:__main__:\n",
      "INFO:__main__:    Took build argument for access token out of Dockerfile\n",
      "INFO:__main__:2023-08-25 21:08:07,171  clone_github_repo        INFO    image_tag=s390x-v1-6d0f0e4\n",
      "INFO:__main__:2023-08-25 21:08:07,171  build_task               INFO    building a docker container\n",
      "INFO:__main__:2023-08-25 21:08:07,171  build_docker_image       INFO    github_dir=secure-bitcoin-wallet\n",
      "INFO:__main__:2023-08-25 21:08:07,185  run                      INFO    run: DEPRECATED: The legacy builder is deprecated and will be removed in a future release.\n",
      "INFO:__main__:2023-08-25 21:08:07,185  run                      INFO    run:             BuildKit is currently disabled; enable it by removing the DOCKER_BUILDKIT=0\n",
      "INFO:__main__:2023-08-25 21:08:07,185  run                      INFO    run:             environment-variable.\n",
      "INFO:__main__:2023-08-25 21:08:07,185  run                      INFO    run: \n",
      "INFO:__main__:2023-08-25 21:08:07,195  run                      INFO    run: Sending build context to Docker daemon  3.407MB\n",
      "INFO:__main__:2023-08-25 21:08:07,201  run                      INFO    run: Step 1/49 : FROM node:16.4-buster-slim AS node\n",
      "INFO:__main__:2023-08-25 21:08:07,415  run                      INFO    run: 16.4-buster-slim: Pulling from library/node\n",
      "INFO:__main__:2023-08-25 21:08:07,476  run                      INFO    run: d08eb187b311: Pulling fs layer\n",
      "INFO:__main__:2023-08-25 21:08:07,476  run                      INFO    run: d99a5af6b743: Pulling fs layer\n",
      "INFO:__main__:2023-08-25 21:08:07,476  run                      INFO    run: b50b265fcef9: Pulling fs layer\n",
      "INFO:__main__:2023-08-25 21:08:07,476  run                      INFO    run: 4c2cc81f378f: Pulling fs layer\n",
      "INFO:__main__:2023-08-25 21:08:07,476  run                      INFO    run: 12cf18e1a9b4: Pulling fs layer\n",
      "INFO:__main__:2023-08-25 21:08:07,476  run                      INFO    run: 4c2cc81f378f: Waiting\n",
      "INFO:__main__:2023-08-25 21:08:07,476  run                      INFO    run: 12cf18e1a9b4: Waiting\n",
      "INFO:__main__:2023-08-25 21:08:07,576  run                      INFO    run: d99a5af6b743: Verifying Checksum\n",
      "INFO:__main__:2023-08-25 21:08:07,576  run                      INFO    run: d99a5af6b743: Download complete\n",
      "INFO:__main__:2023-08-25 21:08:08,033  run                      INFO    run: 4c2cc81f378f: Verifying Checksum\n",
      "INFO:__main__:2023-08-25 21:08:08,034  run                      INFO    run: 4c2cc81f378f: Download complete\n",
      "INFO:__main__:2023-08-25 21:08:08,076  run                      INFO    run: d08eb187b311: Verifying Checksum\n",
      "INFO:__main__:2023-08-25 21:08:08,076  run                      INFO    run: d08eb187b311: Download complete\n",
      "INFO:__main__:2023-08-25 21:08:08,386  run                      INFO    run: 12cf18e1a9b4: Verifying Checksum\n",
      "INFO:__main__:2023-08-25 21:08:08,387  run                      INFO    run: 12cf18e1a9b4: Download complete\n",
      "INFO:__main__:2023-08-25 21:08:08,720  run                      INFO    run: b50b265fcef9: Verifying Checksum\n",
      "INFO:__main__:2023-08-25 21:08:08,720  run                      INFO    run: b50b265fcef9: Download complete\n",
      "INFO:__main__:2023-08-25 21:08:09,261  run                      INFO    run: d08eb187b311: Pull complete\n",
      "INFO:__main__:2023-08-25 21:08:09,276  run                      INFO    run: d99a5af6b743: Pull complete\n",
      "INFO:__main__:2023-08-25 21:08:10,344  run                      INFO    run: b50b265fcef9: Pull complete\n",
      "INFO:__main__:2023-08-25 21:08:10,420  run                      INFO    run: 4c2cc81f378f: Pull complete\n",
      "INFO:__main__:2023-08-25 21:08:10,433  run                      INFO    run: 12cf18e1a9b4: Pull complete\n",
      "INFO:__main__:2023-08-25 21:08:10,443  run                      INFO    run: Digest: sha256:aac69b631df92a3d2b60cbc27f099862f4fb7694231f493a65cc937bd00e6104\n",
      "INFO:__main__:2023-08-25 21:08:10,446  run                      INFO    run: Status: Downloaded newer image for node:16.4-buster-slim\n",
      "INFO:__main__:2023-08-25 21:08:10,452  run                      INFO    run:  ---> e9ed5d55ac35\n",
      "INFO:__main__:2023-08-25 21:08:10,452  run                      INFO    run: Step 2/49 : FROM python:3.9.7-slim-buster\n",
      "INFO:__main__:2023-08-25 21:08:10,654  run                      INFO    run: 3.9.7-slim-buster: Pulling from library/python\n",
      "INFO:__main__:2023-08-25 21:08:10,735  run                      INFO    run: 78a640c6bb47: Pulling fs layer\n",
      "INFO:__main__:2023-08-25 21:08:10,735  run                      INFO    run: 0d9d9617babf: Pulling fs layer\n",
      "INFO:__main__:2023-08-25 21:08:10,735  run                      INFO    run: 017bbaf29353: Pulling fs layer\n",
      "INFO:__main__:2023-08-25 21:08:10,735  run                      INFO    run: cc31c369878a: Pulling fs layer\n",
      "INFO:__main__:2023-08-25 21:08:10,735  run                      INFO    run: 5cd611733e83: Pulling fs layer\n",
      "INFO:__main__:2023-08-25 21:08:10,735  run                      INFO    run: cc31c369878a: Waiting\n",
      "INFO:__main__:2023-08-25 21:08:10,735  run                      INFO    run: 5cd611733e83: Waiting\n",
      "INFO:__main__:2023-08-25 21:08:10,821  run                      INFO    run: 0d9d9617babf: Verifying Checksum\n",
      "INFO:__main__:2023-08-25 21:08:10,821  run                      INFO    run: 0d9d9617babf: Download complete\n",
      "INFO:__main__:2023-08-25 21:08:10,884  run                      INFO    run: 017bbaf29353: Verifying Checksum\n",
      "INFO:__main__:2023-08-25 21:08:10,884  run                      INFO    run: 017bbaf29353: Download complete\n",
      "INFO:__main__:2023-08-25 21:08:10,886  run                      INFO    run: cc31c369878a: Verifying Checksum\n",
      "INFO:__main__:2023-08-25 21:08:10,886  run                      INFO    run: cc31c369878a: Download complete\n",
      "INFO:__main__:2023-08-25 21:08:10,937  run                      INFO    run: 78a640c6bb47: Verifying Checksum\n",
      "INFO:__main__:2023-08-25 21:08:10,938  run                      INFO    run: 78a640c6bb47: Download complete\n",
      "INFO:__main__:2023-08-25 21:08:10,947  run                      INFO    run: 5cd611733e83: Verifying Checksum\n",
      "INFO:__main__:2023-08-25 21:08:10,948  run                      INFO    run: 5cd611733e83: Download complete\n",
      "INFO:__main__:2023-08-25 21:08:11,920  run                      INFO    run: 78a640c6bb47: Pull complete\n",
      "INFO:__main__:2023-08-25 21:08:12,033  run                      INFO    run: 0d9d9617babf: Pull complete\n",
      "INFO:__main__:2023-08-25 21:08:12,369  run                      INFO    run: 017bbaf29353: Pull complete\n",
      "INFO:__main__:2023-08-25 21:08:12,382  run                      INFO    run: cc31c369878a: Pull complete\n",
      "INFO:__main__:2023-08-25 21:08:12,549  run                      INFO    run: 5cd611733e83: Pull complete\n",
      "INFO:__main__:2023-08-25 21:08:12,558  run                      INFO    run: Digest: sha256:76eaa9e5bd357d6983a88ddc9c4545ef4ad64c50f84f081ba952c7ed08e3bdd6\n",
      "INFO:__main__:2023-08-25 21:08:12,561  run                      INFO    run: Status: Downloaded newer image for python:3.9.7-slim-buster\n",
      "INFO:__main__:2023-08-25 21:08:12,563  run                      INFO    run:  ---> 4d0f93c77763\n",
      "INFO:__main__:2023-08-25 21:08:12,563  run                      INFO    run: Step 3/49 : COPY --from=node /usr/local /usr/local\n",
      "INFO:__main__:2023-08-25 21:08:24,235  run                      INFO    run:  ---> b76b55f73ee1\n",
      "INFO:__main__:2023-08-25 21:08:24,236  run                      INFO    run: Step 4/49 : ARG GRPC_PYTHON_BUILD_SYSTEM_OPENSSL=1\n",
      "INFO:__main__:2023-08-25 21:08:24,250  run                      INFO    run:  ---> Running in f711629c1f7e\n",
      "INFO:__main__:2023-08-25 21:08:24,286  run                      INFO    run: Removing intermediate container f711629c1f7e\n",
      "INFO:__main__:2023-08-25 21:08:24,287  run                      INFO    run:  ---> ca9498fb6173\n",
      "INFO:__main__:2023-08-25 21:08:24,287  run                      INFO    run: Step 5/49 : ARG NO_GRPC_BUILD\n",
      "INFO:__main__:2023-08-25 21:08:24,298  run                      INFO    run:  ---> Running in 09c8364027a8\n",
      "INFO:__main__:2023-08-25 21:08:24,319  run                      INFO    run: Removing intermediate container 09c8364027a8\n",
      "INFO:__main__:2023-08-25 21:08:24,319  run                      INFO    run:  ---> 78aab329fa3f\n",
      "INFO:__main__:2023-08-25 21:08:24,319  run                      INFO    run: Step 6/49 : RUN apt-get update &&     apt-get upgrade -y &&     apt-get install -y --no-install-recommends ca-certificates curl &&     apt-get install -y --no-install-recommends git python3-pip python3-dev build-essential python3-setuptools python3-wheel protobuf-compiler libssl-dev libffi-dev autoconf automake libtool &&     apt-get install -y --no-install-recommends php php-curl apache2 xz-utils libedit2 vim &&     apt-get install -y --no-install-recommends sqlite3 libsqlite3-dev libpng-dev libzip-dev python php-zip &&     apt-get install -y --no-install-recommends php-mbstring php-xml php-sqlite3 unzip &&     apt-get install -y --no-install-recommends supervisor &&     apt-get -y autoremove && apt-get clean &&     rm -rf /var/lib/apt/lists/* /var/tmp/* /git/grpc\n",
      "INFO:__main__:2023-08-25 21:08:24,331  run                      INFO    run:  ---> Running in ab3b61acc13d\n",
      "INFO:__main__:2023-08-25 21:08:24,650  run                      INFO    run: Get:1 http://security.debian.org/debian-security buster/updates InRelease [34.8 kB]\n",
      "INFO:__main__:2023-08-25 21:08:24,660  run                      INFO    run: Get:2 http://deb.debian.org/debian buster InRelease [122 kB]\n",
      "INFO:__main__:2023-08-25 21:08:24,660  run                      INFO    run: Get:3 http://deb.debian.org/debian buster-updates InRelease [56.6 kB]\n",
      "INFO:__main__:2023-08-25 21:08:24,858  run                      INFO    run: Get:4 http://deb.debian.org/debian buster/main s390x Packages [7624 kB]\n",
      "INFO:__main__:2023-08-25 21:08:25,319  run                      INFO    run: Get:5 http://deb.debian.org/debian buster-updates/main s390x Packages [8796 B]\n",
      "INFO:__main__:2023-08-25 21:08:26,075  run                      INFO    run: Fetched 7846 kB in 1s (5490 kB/s)\n",
      "INFO:__main__:2023-08-25 21:08:26,530  run                      INFO    run: Reading package lists...\n",
      "INFO:__main__:2023-08-25 21:08:27,010  run                      INFO    run: Reading package lists...\n",
      "INFO:__main__:2023-08-25 21:08:27,096  run                      INFO    run: Building dependency tree...\n",
      "INFO:__main__:2023-08-25 21:08:27,097  run                      INFO    run: Reading state information...\n",
      "INFO:__main__:2023-08-25 21:08:27,136  run                      INFO    run: Calculating upgrade...\n",
      "INFO:__main__:2023-08-25 21:08:27,288  run                      INFO    run: The following packages will be upgraded:\n",
      "INFO:__main__:2023-08-25 21:08:27,288  run                      INFO    run:   base-files dpkg gpgv gzip libc-bin libc6 libexpat1 libgmp10 libgnutls30\n",
      "INFO:__main__:2023-08-25 21:08:27,289  run                      INFO    run:   liblzma5 libssl1.1 openssl tzdata zlib1g\n",
      "INFO:__main__:2023-08-25 21:08:27,481  run                      INFO    run: 14 upgraded, 0 newly installed, 0 to remove and 0 not upgraded.\n",
      "INFO:__main__:2023-08-25 21:08:27,481  run                      INFO    run: Need to get 10.1 MB of archives.\n",
      "INFO:__main__:2023-08-25 21:08:27,481  run                      INFO    run: After this operation, 23.6 kB of additional disk space will be used.\n",
      "INFO:__main__:2023-08-25 21:08:27,481  run                      INFO    run: Get:1 http://deb.debian.org/debian buster/main s390x base-files s390x 10.3+deb10u13 [69.9 kB]\n",
      "INFO:__main__:2023-08-25 21:08:27,632  run                      INFO    run: Get:2 http://deb.debian.org/debian buster/main s390x dpkg s390x 1.19.8 [2188 kB]\n",
      "INFO:__main__:2023-08-25 21:08:29,759  run                      INFO    run: Get:3 http://deb.debian.org/debian buster/main s390x gzip s390x 1.9-3+deb10u1 [128 kB]\n",
      "INFO:__main__:2023-08-25 21:08:30,123  run                      INFO    run: Get:4 http://deb.debian.org/debian buster/main s390x libc6 s390x 2.28-10+deb10u1 [2507 kB]\n",
      "INFO:__main__:2023-08-25 21:08:30,583  run                      INFO    run: Get:5 http://deb.debian.org/debian buster/main s390x libc-bin s390x 2.28-10+deb10u1 [714 kB]\n",
      "INFO:__main__:2023-08-25 21:08:30,590  run                      INFO    run: Get:6 http://deb.debian.org/debian buster/main s390x zlib1g s390x 1:1.2.11.dfsg-1+deb10u1 [88.1 kB]\n",
      "INFO:__main__:2023-08-25 21:08:30,591  run                      INFO    run: Get:7 http://deb.debian.org/debian buster/main s390x gpgv s390x 2.2.12-1+deb10u2 [565 kB]\n",
      "INFO:__main__:2023-08-25 21:08:30,597  run                      INFO    run: Get:8 http://deb.debian.org/debian buster/main s390x libgmp10 s390x 2:6.1.2+dfsg-4+deb10u1 [238 kB]\n",
      "INFO:__main__:2023-08-25 21:08:30,778  run                      INFO    run: Get:9 http://deb.debian.org/debian buster/main s390x libgnutls30 s390x 3.6.7-4+deb10u8 [1024 kB]\n",
      "INFO:__main__:2023-08-25 21:08:31,089  run                      INFO    run: Get:10 http://deb.debian.org/debian buster/main s390x liblzma5 s390x 5.2.4-1+deb10u1 [151 kB]\n",
      "INFO:__main__:2023-08-25 21:08:31,092  run                      INFO    run: Get:11 http://deb.debian.org/debian buster/main s390x tzdata all 2021a-0+deb10u6 [265 kB]\n",
      "INFO:__main__:2023-08-25 21:08:31,274  run                      INFO    run: Get:12 http://deb.debian.org/debian buster/main s390x libexpat1 s390x 2.2.6-2+deb10u4 [102 kB]\n",
      "INFO:__main__:2023-08-25 21:08:31,550  run                      INFO    run: Get:13 http://deb.debian.org/debian buster/main s390x libssl1.1 s390x 1.1.1n-0+deb10u3 [1210 kB]\n",
      "INFO:__main__:2023-08-25 21:08:31,878  run                      INFO    run: Get:14 http://deb.debian.org/debian buster/main s390x openssl s390x 1.1.1n-0+deb10u3 [840 kB]\n",
      "INFO:__main__:2023-08-25 21:08:31,974  run                      INFO    run: \u001b[91mdebconf: delaying package configuration, since apt-utils is not installed\n",
      "INFO:__main__:2023-08-25 21:08:31,988  run                      INFO    run: \u001b[0mFetched 10.1 MB in 5s (2198 kB/s)\n",
      "(Reading database ... 6838 files and directories currently installed.)  run: (Reading database ... \n",
      "INFO:__main__:2023-08-25 21:08:32,011  run                      INFO    run: Preparing to unpack .../base-files_10.3+deb10u13_s390x.deb ...\n",
      "INFO:__main__:2023-08-25 21:08:32,020  run                      INFO    run: Unpacking base-files (10.3+deb10u13) over (10.3+deb10u11) ...\n",
      "INFO:__main__:2023-08-25 21:08:32,089  run                      INFO    run: Setting up base-files (10.3+deb10u13) ...\n",
      "INFO:__main__:2023-08-25 21:08:32,091  run                      INFO    run: Installing new version of config file /etc/debian_version ...\n",
      "(Reading database ... 6838 files and directories currently installed.)  run: (Reading database ... \n",
      "INFO:__main__:2023-08-25 21:08:32,138  run                      INFO    run: Preparing to unpack .../archives/dpkg_1.19.8_s390x.deb ...\n",
      "INFO:__main__:2023-08-25 21:08:32,146  run                      INFO    run: Unpacking dpkg (1.19.8) over (1.19.7) ...\n",
      "INFO:__main__:2023-08-25 21:08:32,310  run                      INFO    run: Setting up dpkg (1.19.8) ...\n",
      "(Reading database ... 6838 files and directories currently installed.)  run: (Reading database ... \n",
      "INFO:__main__:2023-08-25 21:08:32,347  run                      INFO    run: Preparing to unpack .../gzip_1.9-3+deb10u1_s390x.deb ...\n",
      "INFO:__main__:2023-08-25 21:08:32,354  run                      INFO    run: Unpacking gzip (1.9-3+deb10u1) over (1.9-3) ...\n",
      "INFO:__main__:2023-08-25 21:08:32,408  run                      INFO    run: Setting up gzip (1.9-3+deb10u1) ...\n",
      "(Reading database ... 6838 files and directories currently installed.)  run: (Reading database ... \n",
      "INFO:__main__:2023-08-25 21:08:32,451  run                      INFO    run: Preparing to unpack .../libc6_2.28-10+deb10u1_s390x.deb ...\n",
      "INFO:__main__:2023-08-25 21:08:32,514  run                      INFO    run: debconf: unable to initialize frontend: Dialog\n",
      "INFO:__main__:2023-08-25 21:08:32,514  run                      INFO    run: debconf: (TERM is not set, so the dialog frontend is not usable.)\n",
      "INFO:__main__:2023-08-25 21:08:32,514  run                      INFO    run: debconf: falling back to frontend: Readline\n",
      "INFO:__main__:2023-08-25 21:08:32,514  run                      INFO    run: debconf: unable to initialize frontend: Readline\n",
      "INFO:__main__:2023-08-25 21:08:32,514  run                      INFO    run: debconf: (Can't locate Term/ReadLine.pm in @INC (you may need to install the Term::ReadLine module) (@INC contains: /etc/perl /usr/local/lib/s390x-linux-gnu/perl/5.28.1 /usr/local/share/perl/5.28.1 /usr/lib/s390x-linux-gnu/perl5/5.28 /usr/share/perl5 /usr/lib/s390x-linux-gnu/perl/5.28 /usr/share/perl/5.28 /usr/local/lib/site_perl /usr/lib/s390x-linux-gnu/perl-base) at /usr/share/perl5/Debconf/FrontEnd/Readline.pm line 7.)\n",
      "INFO:__main__:2023-08-25 21:08:32,514  run                      INFO    run: debconf: falling back to frontend: Teletype\n",
      "INFO:__main__:2023-08-25 21:08:32,577  run                      INFO    run: Unpacking libc6:s390x (2.28-10+deb10u1) over (2.28-10) ...\n",
      "INFO:__main__:2023-08-25 21:08:33,355  run                      INFO    run: Setting up libc6:s390x (2.28-10+deb10u1) ...\n",
      "INFO:__main__:2023-08-25 21:08:33,422  run                      INFO    run: debconf: unable to initialize frontend: Dialog\n",
      "INFO:__main__:2023-08-25 21:08:33,422  run                      INFO    run: debconf: (TERM is not set, so the dialog frontend is not usable.)\n",
      "INFO:__main__:2023-08-25 21:08:33,422  run                      INFO    run: debconf: falling back to frontend: Readline\n",
      "INFO:__main__:2023-08-25 21:08:33,422  run                      INFO    run: debconf: unable to initialize frontend: Readline\n",
      "INFO:__main__:2023-08-25 21:08:33,422  run                      INFO    run: debconf: (Can't locate Term/ReadLine.pm in @INC (you may need to install the Term::ReadLine module) (@INC contains: /etc/perl /usr/local/lib/s390x-linux-gnu/perl/5.28.1 /usr/local/share/perl/5.28.1 /usr/lib/s390x-linux-gnu/perl5/5.28 /usr/share/perl5 /usr/lib/s390x-linux-gnu/perl/5.28 /usr/share/perl/5.28 /usr/local/lib/site_perl /usr/lib/s390x-linux-gnu/perl-base) at /usr/share/perl5/Debconf/FrontEnd/Readline.pm line 7.)\n",
      "INFO:__main__:2023-08-25 21:08:33,422  run                      INFO    run: debconf: falling back to frontend: Teletype\n",
      "(Reading database ... 6838 files and directories currently installed.)  run: (Reading database ... \n",
      "INFO:__main__:2023-08-25 21:08:34,480  run                      INFO    run: Preparing to unpack .../libc-bin_2.28-10+deb10u1_s390x.deb ...\n",
      "INFO:__main__:2023-08-25 21:08:34,487  run                      INFO    run: Unpacking libc-bin (2.28-10+deb10u1) over (2.28-10) ...\n",
      "INFO:__main__:2023-08-25 21:08:34,647  run                      INFO    run: Setting up libc-bin (2.28-10+deb10u1) ...\n",
      "(Reading database ... 6838 files and directories currently installed.)  run: (Reading database ... \n",
      "INFO:__main__:2023-08-25 21:08:34,696  run                      INFO    run: Preparing to unpack .../zlib1g_1%3a1.2.11.dfsg-1+deb10u1_s390x.deb ...\n",
      "INFO:__main__:2023-08-25 21:08:34,707  run                      INFO    run: Unpacking zlib1g:s390x (1:1.2.11.dfsg-1+deb10u1) over (1:1.2.11.dfsg-1) ...\n",
      "INFO:__main__:2023-08-25 21:08:34,744  run                      INFO    run: Setting up zlib1g:s390x (1:1.2.11.dfsg-1+deb10u1) ...\n",
      "(Reading database ... 6838 files and directories currently installed.)  run: (Reading database ... \n",
      "INFO:__main__:2023-08-25 21:08:34,771  run                      INFO    run: Preparing to unpack .../gpgv_2.2.12-1+deb10u2_s390x.deb ...\n",
      "INFO:__main__:2023-08-25 21:08:34,779  run                      INFO    run: Unpacking gpgv (2.2.12-1+deb10u2) over (2.2.12-1+deb10u1) ...\n",
      "INFO:__main__:2023-08-25 21:08:34,824  run                      INFO    run: Setting up gpgv (2.2.12-1+deb10u2) ...\n",
      "(Reading database ... 6838 files and directories currently installed.)  run: (Reading database ... \n",
      "INFO:__main__:2023-08-25 21:08:34,858  run                      INFO    run: Preparing to unpack .../libgmp10_2%3a6.1.2+dfsg-4+deb10u1_s390x.deb ...\n",
      "INFO:__main__:2023-08-25 21:08:34,866  run                      INFO    run: Unpacking libgmp10:s390x (2:6.1.2+dfsg-4+deb10u1) over (2:6.1.2+dfsg-4) ...\n",
      "INFO:__main__:2023-08-25 21:08:34,915  run                      INFO    run: Setting up libgmp10:s390x (2:6.1.2+dfsg-4+deb10u1) ...\n",
      "(Reading database ... 6838 files and directories currently installed.)  run: (Reading database ... \n",
      "INFO:__main__:2023-08-25 21:08:34,947  run                      INFO    run: Preparing to unpack .../libgnutls30_3.6.7-4+deb10u8_s390x.deb ...\n",
      "INFO:__main__:2023-08-25 21:08:34,955  run                      INFO    run: Unpacking libgnutls30:s390x (3.6.7-4+deb10u8) over (3.6.7-4+deb10u7) ...\n",
      "INFO:__main__:2023-08-25 21:08:35,065  run                      INFO    run: Setting up libgnutls30:s390x (3.6.7-4+deb10u8) ...\n",
      "(Reading database ... 6838 files and directories currently installed.)  run: (Reading database ... \n",
      "INFO:__main__:2023-08-25 21:08:35,095  run                      INFO    run: Preparing to unpack .../liblzma5_5.2.4-1+deb10u1_s390x.deb ...\n",
      "INFO:__main__:2023-08-25 21:08:35,103  run                      INFO    run: Unpacking liblzma5:s390x (5.2.4-1+deb10u1) over (5.2.4-1) ...\n",
      "INFO:__main__:2023-08-25 21:08:35,140  run                      INFO    run: Setting up liblzma5:s390x (5.2.4-1+deb10u1) ...\n",
      "(Reading database ... 6838 files and directories currently installed.)  run: (Reading database ... \n",
      "INFO:__main__:2023-08-25 21:08:35,177  run                      INFO    run: Preparing to unpack .../tzdata_2021a-0+deb10u6_all.deb ...\n",
      "INFO:__main__:2023-08-25 21:08:35,184  run                      INFO    run: Unpacking tzdata (2021a-0+deb10u6) over (2021a-0+deb10u2) ...\n",
      "INFO:__main__:2023-08-25 21:08:36,595  run                      INFO    run: Preparing to unpack .../libexpat1_2.2.6-2+deb10u4_s390x.deb ...\n",
      "INFO:__main__:2023-08-25 21:08:36,605  run                      INFO    run: Unpacking libexpat1:s390x (2.2.6-2+deb10u4) over (2.2.6-2+deb10u1) ...\n",
      "INFO:__main__:2023-08-25 21:08:36,678  run                      INFO    run: Preparing to unpack .../libssl1.1_1.1.1n-0+deb10u3_s390x.deb ...\n",
      "INFO:__main__:2023-08-25 21:08:36,686  run                      INFO    run: Unpacking libssl1.1:s390x (1.1.1n-0+deb10u3) over (1.1.1d-0+deb10u7) ...\n",
      "INFO:__main__:2023-08-25 21:08:36,843  run                      INFO    run: Preparing to unpack .../openssl_1.1.1n-0+deb10u3_s390x.deb ...\n",
      "INFO:__main__:2023-08-25 21:08:36,851  run                      INFO    run: Unpacking openssl (1.1.1n-0+deb10u3) over (1.1.1d-0+deb10u7) ...\n",
      "INFO:__main__:2023-08-25 21:08:36,972  run                      INFO    run: Setting up libexpat1:s390x (2.2.6-2+deb10u4) ...\n",
      "INFO:__main__:2023-08-25 21:08:36,981  run                      INFO    run: Setting up libssl1.1:s390x (1.1.1n-0+deb10u3) ...\n",
      "INFO:__main__:2023-08-25 21:08:37,044  run                      INFO    run: debconf: unable to initialize frontend: Dialog\n",
      "INFO:__main__:2023-08-25 21:08:37,044  run                      INFO    run: debconf: (TERM is not set, so the dialog frontend is not usable.)\n",
      "INFO:__main__:2023-08-25 21:08:37,044  run                      INFO    run: debconf: falling back to frontend: Readline\n",
      "INFO:__main__:2023-08-25 21:08:37,044  run                      INFO    run: debconf: unable to initialize frontend: Readline\n",
      "INFO:__main__:2023-08-25 21:08:37,044  run                      INFO    run: debconf: (Can't locate Term/ReadLine.pm in @INC (you may need to install the Term::ReadLine module) (@INC contains: /etc/perl /usr/local/lib/s390x-linux-gnu/perl/5.28.1 /usr/local/share/perl/5.28.1 /usr/lib/s390x-linux-gnu/perl5/5.28 /usr/share/perl5 /usr/lib/s390x-linux-gnu/perl/5.28 /usr/share/perl/5.28 /usr/local/lib/site_perl /usr/lib/s390x-linux-gnu/perl-base) at /usr/share/perl5/Debconf/FrontEnd/Readline.pm line 7.)\n",
      "INFO:__main__:2023-08-25 21:08:37,044  run                      INFO    run: debconf: falling back to frontend: Teletype\n",
      "INFO:__main__:2023-08-25 21:08:37,068  run                      INFO    run: Setting up tzdata (2021a-0+deb10u6) ...\n",
      "INFO:__main__:2023-08-25 21:08:37,126  run                      INFO    run: debconf: unable to initialize frontend: Dialog\n",
      "INFO:__main__:2023-08-25 21:08:37,127  run                      INFO    run: debconf: (TERM is not set, so the dialog frontend is not usable.)\n",
      "INFO:__main__:2023-08-25 21:08:37,127  run                      INFO    run: debconf: falling back to frontend: Readline\n",
      "INFO:__main__:2023-08-25 21:08:37,127  run                      INFO    run: debconf: unable to initialize frontend: Readline\n",
      "INFO:__main__:2023-08-25 21:08:37,127  run                      INFO    run: debconf: (Can't locate Term/ReadLine.pm in @INC (you may need to install the Term::ReadLine module) (@INC contains: /etc/perl /usr/local/lib/s390x-linux-gnu/perl/5.28.1 /usr/local/share/perl/5.28.1 /usr/lib/s390x-linux-gnu/perl5/5.28 /usr/share/perl5 /usr/lib/s390x-linux-gnu/perl/5.28 /usr/share/perl/5.28 /usr/local/lib/site_perl /usr/lib/s390x-linux-gnu/perl-base) at /usr/share/perl5/Debconf/FrontEnd/Readline.pm line 7.)\n",
      "INFO:__main__:2023-08-25 21:08:37,127  run                      INFO    run: debconf: falling back to frontend: Teletype\n",
      "INFO:__main__:2023-08-25 21:08:37,160  run                      INFO    run: \n",
      "INFO:__main__:2023-08-25 21:08:37,160  run                      INFO    run: Current default time zone: 'Etc/UTC'\n",
      "INFO:__main__:2023-08-25 21:08:37,161  run                      INFO    run: Local time is now:      Fri Aug 25 21:08:37 UTC 2023.\n",
      "INFO:__main__:2023-08-25 21:08:37,161  run                      INFO    run: Universal Time is now:  Fri Aug 25 21:08:37 UTC 2023.\n",
      "INFO:__main__:2023-08-25 21:08:37,161  run                      INFO    run: Run 'dpkg-reconfigure tzdata' if you wish to change it.\n",
      "INFO:__main__:2023-08-25 21:08:37,161  run                      INFO    run: \n",
      "INFO:__main__:2023-08-25 21:08:37,176  run                      INFO    run: Setting up openssl (1.1.1n-0+deb10u3) ...\n",
      "INFO:__main__:2023-08-25 21:08:37,187  run                      INFO    run: Processing triggers for libc-bin (2.28-10+deb10u1) ...\n",
      "INFO:__main__:2023-08-25 21:08:37,692  run                      INFO    run: Reading package lists...\n",
      "INFO:__main__:2023-08-25 21:08:37,779  run                      INFO    run: Building dependency tree...\n",
      "INFO:__main__:2023-08-25 21:08:37,779  run                      INFO    run: Reading state information...\n",
      "INFO:__main__:2023-08-25 21:08:37,844  run                      INFO    run: ca-certificates is already the newest version (20200601~deb10u2).\n",
      "INFO:__main__:2023-08-25 21:08:37,844  run                      INFO    run: The following additional packages will be installed:\n",
      "INFO:__main__:2023-08-25 21:08:37,844  run                      INFO    run:   libcurl4 libgssapi-krb5-2 libk5crypto3 libkeyutils1 libkrb5-3\n",
      "INFO:__main__:2023-08-25 21:08:37,844  run                      INFO    run:   libkrb5support0 libldap-2.4-2 libldap-common libnghttp2-14 libpsl5 librtmp1\n",
      "INFO:__main__:2023-08-25 21:08:37,844  run                      INFO    run:   libsasl2-2 libsasl2-modules-db libssh2-1\n",
      "INFO:__main__:2023-08-25 21:08:37,844  run                      INFO    run: Suggested packages:\n",
      "INFO:__main__:2023-08-25 21:08:37,844  run                      INFO    run:   krb5-doc krb5-user\n",
      "INFO:__main__:2023-08-25 21:08:37,844  run                      INFO    run: Recommended packages:\n",
      "INFO:__main__:2023-08-25 21:08:37,844  run                      INFO    run:   krb5-locales publicsuffix libsasl2-modules\n",
      "INFO:__main__:2023-08-25 21:08:37,964  run                      INFO    run: The following NEW packages will be installed:\n",
      "INFO:__main__:2023-08-25 21:08:37,964  run                      INFO    run:   curl libcurl4 libgssapi-krb5-2 libk5crypto3 libkeyutils1 libkrb5-3\n",
      "INFO:__main__:2023-08-25 21:08:37,964  run                      INFO    run:   libkrb5support0 libldap-2.4-2 libldap-common libnghttp2-14 libpsl5 librtmp1\n",
      "INFO:__main__:2023-08-25 21:08:37,964  run                      INFO    run:   libsasl2-2 libsasl2-modules-db libssh2-1\n",
      "INFO:__main__:2023-08-25 21:08:37,981  run                      INFO    run: 0 upgraded, 15 newly installed, 0 to remove and 0 not upgraded.\n",
      "INFO:__main__:2023-08-25 21:08:37,981  run                      INFO    run: Need to get 2059 kB of archives.\n",
      "INFO:__main__:2023-08-25 21:08:37,981  run                      INFO    run: After this operation, 5036 kB of additional disk space will be used.\n",
      "INFO:__main__:2023-08-25 21:08:37,981  run                      INFO    run: Get:1 http://deb.debian.org/debian buster/main s390x libkeyutils1 s390x 1.6-6 [14.7 kB]\n",
      "INFO:__main__:2023-08-25 21:08:37,985  run                      INFO    run: Get:2 http://deb.debian.org/debian buster/main s390x libkrb5support0 s390x 1.17-3+deb10u4 [64.9 kB]\n",
      "INFO:__main__:2023-08-25 21:08:38,168  run                      INFO    run: Get:3 http://deb.debian.org/debian buster/main s390x libk5crypto3 s390x 1.17-3+deb10u4 [121 kB]\n",
      "INFO:__main__:2023-08-25 21:08:38,468  run                      INFO    run: Get:4 http://deb.debian.org/debian buster/main s390x libkrb5-3 s390x 1.17-3+deb10u4 [345 kB]\n",
      "INFO:__main__:2023-08-25 21:08:38,673  run                      INFO    run: Get:5 http://deb.debian.org/debian buster/main s390x libgssapi-krb5-2 s390x 1.17-3+deb10u4 [147 kB]\n",
      "INFO:__main__:2023-08-25 21:08:38,856  run                      INFO    run: Get:6 http://deb.debian.org/debian buster/main s390x libsasl2-modules-db s390x 2.1.27+dfsg-1+deb10u2 [68.2 kB]\n",
      "INFO:__main__:2023-08-25 21:08:39,067  run                      INFO    run: Get:7 http://deb.debian.org/debian buster/main s390x libsasl2-2 s390x 2.1.27+dfsg-1+deb10u2 [103 kB]\n",
      "INFO:__main__:2023-08-25 21:08:39,164  run                      INFO    run: Get:8 http://deb.debian.org/debian buster/main s390x libldap-common all 2.4.47+dfsg-3+deb10u7 [90.1 kB]\n",
      "INFO:__main__:2023-08-25 21:08:39,382  run                      INFO    run: Get:9 http://deb.debian.org/debian buster/main s390x libldap-2.4-2 s390x 2.4.47+dfsg-3+deb10u7 [213 kB]\n",
      "INFO:__main__:2023-08-25 21:08:39,476  run                      INFO    run: Get:10 http://deb.debian.org/debian buster/main s390x libnghttp2-14 s390x 1.36.0-2+deb10u1 [80.8 kB]\n",
      "INFO:__main__:2023-08-25 21:08:39,478  run                      INFO    run: Get:11 http://deb.debian.org/debian buster/main s390x libpsl5 s390x 0.20.2-2 [53.5 kB]\n",
      "INFO:__main__:2023-08-25 21:08:39,659  run                      INFO    run: Get:12 http://deb.debian.org/debian buster/main s390x librtmp1 s390x 2.4+20151223.gitfa8646d.1-2 [56.6 kB]\n",
      "INFO:__main__:2023-08-25 21:08:39,684  run                      INFO    run: Get:13 http://deb.debian.org/debian buster/main s390x libssh2-1 s390x 1.8.0-2.1 [132 kB]\n",
      "INFO:__main__:2023-08-25 21:08:39,685  run                      INFO    run: Get:14 http://deb.debian.org/debian buster/main s390x libcurl4 s390x 7.64.0-4+deb10u2 [310 kB]\n",
      "INFO:__main__:2023-08-25 21:08:39,689  run                      INFO    run: Get:15 http://deb.debian.org/debian buster/main s390x curl s390x 7.64.0-4+deb10u2 [260 kB]\n",
      "INFO:__main__:2023-08-25 21:08:39,768  run                      INFO    run: \u001b[91mdebconf: delaying package configuration, since apt-utils is not installed\n",
      "INFO:__main__:2023-08-25 21:08:39,777  run                      INFO    run: \u001b[0mFetched 2059 kB in 2s (1197 kB/s)\n",
      "INFO:__main__:2023-08-25 21:08:39,793  run                      INFO    run: Selecting previously unselected package libkeyutils1:s390x.\n",
      "(Reading database ... 6838 files and directories currently installed.)  run: (Reading database ... \n",
      "INFO:__main__:2023-08-25 21:08:39,797  run                      INFO    run: Preparing to unpack .../00-libkeyutils1_1.6-6_s390x.deb ...\n",
      "INFO:__main__:2023-08-25 21:08:39,802  run                      INFO    run: Unpacking libkeyutils1:s390x (1.6-6) ...\n",
      "INFO:__main__:2023-08-25 21:08:39,827  run                      INFO    run: Selecting previously unselected package libkrb5support0:s390x.\n",
      "INFO:__main__:2023-08-25 21:08:39,828  run                      INFO    run: Preparing to unpack .../01-libkrb5support0_1.17-3+deb10u4_s390x.deb ...\n",
      "INFO:__main__:2023-08-25 21:08:39,832  run                      INFO    run: Unpacking libkrb5support0:s390x (1.17-3+deb10u4) ...\n",
      "INFO:__main__:2023-08-25 21:08:39,856  run                      INFO    run: Selecting previously unselected package libk5crypto3:s390x.\n",
      "INFO:__main__:2023-08-25 21:08:39,857  run                      INFO    run: Preparing to unpack .../02-libk5crypto3_1.17-3+deb10u4_s390x.deb ...\n",
      "INFO:__main__:2023-08-25 21:08:39,859  run                      INFO    run: Unpacking libk5crypto3:s390x (1.17-3+deb10u4) ...\n",
      "INFO:__main__:2023-08-25 21:08:39,891  run                      INFO    run: Selecting previously unselected package libkrb5-3:s390x.\n",
      "INFO:__main__:2023-08-25 21:08:39,891  run                      INFO    run: Preparing to unpack .../03-libkrb5-3_1.17-3+deb10u4_s390x.deb ...\n",
      "INFO:__main__:2023-08-25 21:08:39,894  run                      INFO    run: Unpacking libkrb5-3:s390x (1.17-3+deb10u4) ...\n",
      "INFO:__main__:2023-08-25 21:08:39,950  run                      INFO    run: Selecting previously unselected package libgssapi-krb5-2:s390x.\n",
      "INFO:__main__:2023-08-25 21:08:39,951  run                      INFO    run: Preparing to unpack .../04-libgssapi-krb5-2_1.17-3+deb10u4_s390x.deb ...\n",
      "INFO:__main__:2023-08-25 21:08:39,953  run                      INFO    run: Unpacking libgssapi-krb5-2:s390x (1.17-3+deb10u4) ...\n",
      "INFO:__main__:2023-08-25 21:08:39,984  run                      INFO    run: Selecting previously unselected package libsasl2-modules-db:s390x.\n",
      "INFO:__main__:2023-08-25 21:08:39,984  run                      INFO    run: Preparing to unpack .../05-libsasl2-modules-db_2.1.27+dfsg-1+deb10u2_s390x.deb ...\n",
      "INFO:__main__:2023-08-25 21:08:39,987  run                      INFO    run: Unpacking libsasl2-modules-db:s390x (2.1.27+dfsg-1+deb10u2) ...\n",
      "INFO:__main__:2023-08-25 21:08:40,014  run                      INFO    run: Selecting previously unselected package libsasl2-2:s390x.\n",
      "INFO:__main__:2023-08-25 21:08:40,015  run                      INFO    run: Preparing to unpack .../06-libsasl2-2_2.1.27+dfsg-1+deb10u2_s390x.deb ...\n",
      "INFO:__main__:2023-08-25 21:08:40,018  run                      INFO    run: Unpacking libsasl2-2:s390x (2.1.27+dfsg-1+deb10u2) ...\n",
      "INFO:__main__:2023-08-25 21:08:40,046  run                      INFO    run: Selecting previously unselected package libldap-common.\n",
      "INFO:__main__:2023-08-25 21:08:40,046  run                      INFO    run: Preparing to unpack .../07-libldap-common_2.4.47+dfsg-3+deb10u7_all.deb ...\n",
      "INFO:__main__:2023-08-25 21:08:40,049  run                      INFO    run: Unpacking libldap-common (2.4.47+dfsg-3+deb10u7) ...\n",
      "INFO:__main__:2023-08-25 21:08:40,077  run                      INFO    run: Selecting previously unselected package libldap-2.4-2:s390x.\n",
      "INFO:__main__:2023-08-25 21:08:40,078  run                      INFO    run: Preparing to unpack .../08-libldap-2.4-2_2.4.47+dfsg-3+deb10u7_s390x.deb ...\n",
      "INFO:__main__:2023-08-25 21:08:40,080  run                      INFO    run: Unpacking libldap-2.4-2:s390x (2.4.47+dfsg-3+deb10u7) ...\n",
      "INFO:__main__:2023-08-25 21:08:40,120  run                      INFO    run: Selecting previously unselected package libnghttp2-14:s390x.\n",
      "INFO:__main__:2023-08-25 21:08:40,121  run                      INFO    run: Preparing to unpack .../09-libnghttp2-14_1.36.0-2+deb10u1_s390x.deb ...\n",
      "INFO:__main__:2023-08-25 21:08:40,123  run                      INFO    run: Unpacking libnghttp2-14:s390x (1.36.0-2+deb10u1) ...\n",
      "INFO:__main__:2023-08-25 21:08:40,153  run                      INFO    run: Selecting previously unselected package libpsl5:s390x.\n",
      "INFO:__main__:2023-08-25 21:08:40,154  run                      INFO    run: Preparing to unpack .../10-libpsl5_0.20.2-2_s390x.deb ...\n",
      "INFO:__main__:2023-08-25 21:08:40,156  run                      INFO    run: Unpacking libpsl5:s390x (0.20.2-2) ...\n",
      "INFO:__main__:2023-08-25 21:08:40,184  run                      INFO    run: Selecting previously unselected package librtmp1:s390x.\n",
      "INFO:__main__:2023-08-25 21:08:40,184  run                      INFO    run: Preparing to unpack .../11-librtmp1_2.4+20151223.gitfa8646d.1-2_s390x.deb ...\n",
      "INFO:__main__:2023-08-25 21:08:40,187  run                      INFO    run: Unpacking librtmp1:s390x (2.4+20151223.gitfa8646d.1-2) ...\n",
      "INFO:__main__:2023-08-25 21:08:40,213  run                      INFO    run: Selecting previously unselected package libssh2-1:s390x.\n",
      "INFO:__main__:2023-08-25 21:08:40,214  run                      INFO    run: Preparing to unpack .../12-libssh2-1_1.8.0-2.1_s390x.deb ...\n",
      "INFO:__main__:2023-08-25 21:08:40,216  run                      INFO    run: Unpacking libssh2-1:s390x (1.8.0-2.1) ...\n",
      "INFO:__main__:2023-08-25 21:08:40,248  run                      INFO    run: Selecting previously unselected package libcurl4:s390x.\n",
      "INFO:__main__:2023-08-25 21:08:40,248  run                      INFO    run: Preparing to unpack .../13-libcurl4_7.64.0-4+deb10u2_s390x.deb ...\n",
      "INFO:__main__:2023-08-25 21:08:40,251  run                      INFO    run: Unpacking libcurl4:s390x (7.64.0-4+deb10u2) ...\n",
      "INFO:__main__:2023-08-25 21:08:40,294  run                      INFO    run: Selecting previously unselected package curl.\n",
      "INFO:__main__:2023-08-25 21:08:40,295  run                      INFO    run: Preparing to unpack .../14-curl_7.64.0-4+deb10u2_s390x.deb ...\n",
      "INFO:__main__:2023-08-25 21:08:40,298  run                      INFO    run: Unpacking curl (7.64.0-4+deb10u2) ...\n",
      "INFO:__main__:2023-08-25 21:08:40,344  run                      INFO    run: Setting up libkeyutils1:s390x (1.6-6) ...\n",
      "INFO:__main__:2023-08-25 21:08:40,352  run                      INFO    run: Setting up libpsl5:s390x (0.20.2-2) ...\n",
      "INFO:__main__:2023-08-25 21:08:40,360  run                      INFO    run: Setting up libnghttp2-14:s390x (1.36.0-2+deb10u1) ...\n",
      "INFO:__main__:2023-08-25 21:08:40,369  run                      INFO    run: Setting up libldap-common (2.4.47+dfsg-3+deb10u7) ...\n",
      "INFO:__main__:2023-08-25 21:08:40,380  run                      INFO    run: Setting up libkrb5support0:s390x (1.17-3+deb10u4) ...\n",
      "INFO:__main__:2023-08-25 21:08:40,388  run                      INFO    run: Setting up libsasl2-modules-db:s390x (2.1.27+dfsg-1+deb10u2) ...\n",
      "INFO:__main__:2023-08-25 21:08:40,396  run                      INFO    run: Setting up librtmp1:s390x (2.4+20151223.gitfa8646d.1-2) ...\n",
      "INFO:__main__:2023-08-25 21:08:40,404  run                      INFO    run: Setting up libk5crypto3:s390x (1.17-3+deb10u4) ...\n",
      "INFO:__main__:2023-08-25 21:08:40,412  run                      INFO    run: Setting up libsasl2-2:s390x (2.1.27+dfsg-1+deb10u2) ...\n",
      "INFO:__main__:2023-08-25 21:08:40,421  run                      INFO    run: Setting up libssh2-1:s390x (1.8.0-2.1) ...\n",
      "INFO:__main__:2023-08-25 21:08:40,430  run                      INFO    run: Setting up libkrb5-3:s390x (1.17-3+deb10u4) ...\n",
      "INFO:__main__:2023-08-25 21:08:40,439  run                      INFO    run: Setting up libldap-2.4-2:s390x (2.4.47+dfsg-3+deb10u7) ...\n",
      "INFO:__main__:2023-08-25 21:08:40,447  run                      INFO    run: Setting up libgssapi-krb5-2:s390x (1.17-3+deb10u4) ...\n",
      "INFO:__main__:2023-08-25 21:08:40,457  run                      INFO    run: Setting up libcurl4:s390x (7.64.0-4+deb10u2) ...\n",
      "INFO:__main__:2023-08-25 21:08:40,464  run                      INFO    run: Setting up curl (7.64.0-4+deb10u2) ...\n",
      "INFO:__main__:2023-08-25 21:08:40,471  run                      INFO    run: Processing triggers for libc-bin (2.28-10+deb10u1) ...\n",
      "INFO:__main__:2023-08-25 21:08:40,965  run                      INFO    run: Reading package lists...\n",
      "INFO:__main__:2023-08-25 21:08:41,053  run                      INFO    run: Building dependency tree...\n",
      "INFO:__main__:2023-08-25 21:08:41,053  run                      INFO    run: Reading state information...\n",
      "INFO:__main__:2023-08-25 21:08:41,124  run                      INFO    run: The following additional packages will be installed:\n",
      "INFO:__main__:2023-08-25 21:08:41,124  run                      INFO    run:   autotools-dev binutils binutils-common binutils-s390x-linux-gnu bzip2 cpp\n",
      "INFO:__main__:2023-08-25 21:08:41,124  run                      INFO    run:   cpp-8 dh-python dpkg-dev file g++ g++-8 gcc gcc-8 git-man libasan5\n",
      "INFO:__main__:2023-08-25 21:08:41,124  run                      INFO    run:   libatomic1 libbinutils libc-dev-bin libc6-dev libcc1-0 libcurl3-gnutls\n",
      "INFO:__main__:2023-08-25 21:08:41,124  run                      INFO    run:   libdpkg-perl liberror-perl libexpat1-dev libgcc-8-dev libgdbm-compat4\n",
      "INFO:__main__:2023-08-25 21:08:41,124  run                      INFO    run:   libgomp1 libisl19 libitm1 libmagic-mgc libmagic1 libmpc3 libmpdec2 libmpfr6\n",
      "INFO:__main__:2023-08-25 21:08:41,124  run                      INFO    run:   libpcre2-8-0 libperl5.28 libprotobuf17 libprotoc17 libpython3-dev\n",
      "INFO:__main__:2023-08-25 21:08:41,124  run                      INFO    run:   libpython3-stdlib libpython3.7 libpython3.7-dev libpython3.7-minimal\n",
      "INFO:__main__:2023-08-25 21:08:41,124  run                      INFO    run:   libpython3.7-stdlib libsigsegv2 libstdc++-8-dev libubsan1 linux-libc-dev m4\n",
      "INFO:__main__:2023-08-25 21:08:41,125  run                      INFO    run:   make mime-support patch perl perl-modules-5.28 python-pip-whl python3\n",
      "INFO:__main__:2023-08-25 21:08:41,125  run                      INFO    run:   python3-distutils python3-lib2to3 python3-minimal python3-pkg-resources\n",
      "INFO:__main__:2023-08-25 21:08:41,125  run                      INFO    run:   python3.7 python3.7-dev python3.7-minimal xz-utils\n",
      "INFO:__main__:2023-08-25 21:08:41,125  run                      INFO    run: Suggested packages:\n",
      "INFO:__main__:2023-08-25 21:08:41,125  run                      INFO    run:   autoconf-archive gnu-standards autoconf-doc gettext binutils-doc bzip2-doc\n",
      "INFO:__main__:2023-08-25 21:08:41,125  run                      INFO    run:   cpp-doc gcc-8-locales debian-keyring g++-multilib g++-8-multilib gcc-8-doc\n",
      "INFO:__main__:2023-08-25 21:08:41,125  run                      INFO    run:   libstdc++6-8-dbg gcc-multilib manpages-dev flex bison gdb gcc-doc\n",
      "INFO:__main__:2023-08-25 21:08:41,125  run                      INFO    run:   gcc-8-multilib libgcc1-dbg libgomp1-dbg libitm1-dbg libatomic1-dbg\n",
      "INFO:__main__:2023-08-25 21:08:41,125  run                      INFO    run:   libasan5-dbg liblsan0-dbg libtsan0-dbg libubsan1-dbg libmpx2-dbg\n",
      "INFO:__main__:2023-08-25 21:08:41,125  run                      INFO    run:   libquadmath0-dbg gettext-base git-daemon-run | git-daemon-sysvinit git-doc\n",
      "INFO:__main__:2023-08-25 21:08:41,125  run                      INFO    run:   git-el git-email git-gui gitk gitweb git-cvs git-mediawiki git-svn glibc-doc\n",
      "INFO:__main__:2023-08-25 21:08:41,126  run                      INFO    run:   gnupg | gnupg2 sensible-utils bzr libssl-doc libstdc++-8-doc libtool-doc\n",
      "INFO:__main__:2023-08-25 21:08:41,126  run                      INFO    run:   gfortran | fortran95-compiler gcj-jdk m4-doc make-doc ed diffutils-doc\n",
      "INFO:__main__:2023-08-25 21:08:41,126  run                      INFO    run:   perl-doc libterm-readline-gnu-perl | libterm-readline-perl-perl\n",
      "INFO:__main__:2023-08-25 21:08:41,126  run                      INFO    run:   libb-debug-perl liblocale-codes-perl python3-doc python3-tk python3-venv\n",
      "INFO:__main__:2023-08-25 21:08:41,126  run                      INFO    run:   python-setuptools-doc python3.7-venv python3.7-doc binfmt-support\n",
      "INFO:__main__:2023-08-25 21:08:41,126  run                      INFO    run: Recommended packages:\n",
      "INFO:__main__:2023-08-25 21:08:41,126  run                      INFO    run:   fakeroot gnupg | gnupg2 libalgorithm-merge-perl less ssh-client manpages\n",
      "INFO:__main__:2023-08-25 21:08:41,126  run                      INFO    run:   manpages-dev libfile-fcntllock-perl liblocale-gettext-perl libltdl-dev\n",
      "INFO:__main__:2023-08-25 21:08:41,126  run                      INFO    run:   libprotobuf-dev python3-keyring python3-keyrings.alt python3-xdg\n",
      "INFO:__main__:2023-08-25 21:08:41,555  run                      INFO    run: The following NEW packages will be installed:\n",
      "INFO:__main__:2023-08-25 21:08:41,555  run                      INFO    run:   autoconf automake autotools-dev binutils binutils-common\n",
      "INFO:__main__:2023-08-25 21:08:41,555  run                      INFO    run:   binutils-s390x-linux-gnu build-essential bzip2 cpp cpp-8 dh-python dpkg-dev\n",
      "INFO:__main__:2023-08-25 21:08:41,555  run                      INFO    run:   file g++ g++-8 gcc gcc-8 git git-man libasan5 libatomic1 libbinutils\n",
      "INFO:__main__:2023-08-25 21:08:41,555  run                      INFO    run:   libc-dev-bin libc6-dev libcc1-0 libcurl3-gnutls libdpkg-perl liberror-perl\n",
      "INFO:__main__:2023-08-25 21:08:41,555  run                      INFO    run:   libexpat1-dev libffi-dev libgcc-8-dev libgdbm-compat4 libgomp1 libisl19\n",
      "INFO:__main__:2023-08-25 21:08:41,555  run                      INFO    run:   libitm1 libmagic-mgc libmagic1 libmpc3 libmpdec2 libmpfr6 libpcre2-8-0\n",
      "INFO:__main__:2023-08-25 21:08:41,555  run                      INFO    run:   libperl5.28 libprotobuf17 libprotoc17 libpython3-dev libpython3-stdlib\n",
      "INFO:__main__:2023-08-25 21:08:41,555  run                      INFO    run:   libpython3.7 libpython3.7-dev libpython3.7-minimal libpython3.7-stdlib\n",
      "INFO:__main__:2023-08-25 21:08:41,555  run                      INFO    run:   libsigsegv2 libssl-dev libstdc++-8-dev libtool libubsan1 linux-libc-dev m4\n",
      "INFO:__main__:2023-08-25 21:08:41,555  run                      INFO    run:   make mime-support patch perl perl-modules-5.28 protobuf-compiler\n",
      "INFO:__main__:2023-08-25 21:08:41,555  run                      INFO    run:   python-pip-whl python3 python3-dev python3-distutils python3-lib2to3\n",
      "INFO:__main__:2023-08-25 21:08:41,556  run                      INFO    run:   python3-minimal python3-pip python3-pkg-resources python3-setuptools\n",
      "INFO:__main__:2023-08-25 21:08:41,556  run                      INFO    run:   python3-wheel python3.7 python3.7-dev python3.7-minimal xz-utils\n",
      "INFO:__main__:2023-08-25 21:08:41,575  run                      INFO    run: 0 upgraded, 77 newly installed, 0 to remove and 0 not upgraded.\n",
      "INFO:__main__:2023-08-25 21:08:41,575  run                      INFO    run: Need to get 114 MB of archives.\n",
      "INFO:__main__:2023-08-25 21:08:41,576  run                      INFO    run: After this operation, 384 MB of additional disk space will be used.\n",
      "INFO:__main__:2023-08-25 21:08:41,576  run                      INFO    run: Get:1 http://deb.debian.org/debian buster/main s390x perl-modules-5.28 all 5.28.1-6+deb10u1 [2873 kB]\n",
      "INFO:__main__:2023-08-25 21:08:41,608  run                      INFO    run: Get:2 http://deb.debian.org/debian buster/main s390x libgdbm-compat4 s390x 1.18.1-4 [44.2 kB]\n",
      "INFO:__main__:2023-08-25 21:08:41,846  run                      INFO    run: Get:3 http://deb.debian.org/debian buster/main s390x libperl5.28 s390x 5.28.1-6+deb10u1 [3712 kB]\n",
      "INFO:__main__:2023-08-25 21:08:42,330  run                      INFO    run: Get:4 http://deb.debian.org/debian buster/main s390x perl s390x 5.28.1-6+deb10u1 [204 kB]\n",
      "INFO:__main__:2023-08-25 21:08:42,332  run                      INFO    run: Get:5 http://deb.debian.org/debian buster/main s390x libpython3.7-minimal s390x 3.7.3-2+deb10u3 [586 kB]\n",
      "INFO:__main__:2023-08-25 21:08:42,515  run                      INFO    run: Get:6 http://deb.debian.org/debian buster/main s390x python3.7-minimal s390x 3.7.3-2+deb10u3 [1590 kB]\n",
      "INFO:__main__:2023-08-25 21:08:42,990  run                      INFO    run: Get:7 http://deb.debian.org/debian buster/main s390x python3-minimal s390x 3.7.3-1 [36.6 kB]\n",
      "INFO:__main__:2023-08-25 21:08:42,990  run                      INFO    run: Get:8 http://deb.debian.org/debian buster/main s390x mime-support all 3.62 [37.2 kB]\n",
      "INFO:__main__:2023-08-25 21:08:42,991  run                      INFO    run: Get:9 http://deb.debian.org/debian buster/main s390x libmpdec2 s390x 2.4.2-2 [83.3 kB]\n",
      "INFO:__main__:2023-08-25 21:08:42,993  run                      INFO    run: Get:10 http://deb.debian.org/debian buster/main s390x libpython3.7-stdlib s390x 3.7.3-2+deb10u3 [1686 kB]\n",
      "INFO:__main__:2023-08-25 21:08:43,009  run                      INFO    run: Get:11 http://deb.debian.org/debian buster/main s390x python3.7 s390x 3.7.3-2+deb10u3 [330 kB]\n",
      "INFO:__main__:2023-08-25 21:08:43,013  run                      INFO    run: Get:12 http://deb.debian.org/debian buster/main s390x libpython3-stdlib s390x 3.7.3-1 [20.0 kB]\n",
      "INFO:__main__:2023-08-25 21:08:43,188  run                      INFO    run: Get:13 http://deb.debian.org/debian buster/main s390x python3 s390x 3.7.3-1 [61.5 kB]\n",
      "INFO:__main__:2023-08-25 21:08:43,394  run                      INFO    run: Get:14 http://deb.debian.org/debian buster/main s390x bzip2 s390x 1.0.6-9.2~deb10u1 [47.8 kB]\n",
      "INFO:__main__:2023-08-25 21:08:43,581  run                      INFO    run: Get:15 http://deb.debian.org/debian buster/main s390x libmagic-mgc s390x 1:5.35-4+deb10u2 [243 kB]\n",
      "INFO:__main__:2023-08-25 21:08:43,889  run                      INFO    run: Get:16 http://deb.debian.org/debian buster/main s390x libmagic1 s390x 1:5.35-4+deb10u2 [114 kB]\n",
      "INFO:__main__:2023-08-25 21:08:44,164  run                      INFO    run: Get:17 http://deb.debian.org/debian buster/main s390x file s390x 1:5.35-4+deb10u2 [66.1 kB]\n",
      "INFO:__main__:2023-08-25 21:08:44,191  run                      INFO    run: Get:18 http://deb.debian.org/debian buster/main s390x xz-utils s390x 5.2.4-1+deb10u1 [181 kB]\n",
      "INFO:__main__:2023-08-25 21:08:44,398  run                      INFO    run: Get:19 http://deb.debian.org/debian buster/main s390x libsigsegv2 s390x 2.12-2 [32.7 kB]\n",
      "INFO:__main__:2023-08-25 21:08:44,409  run                      INFO    run: Get:20 http://deb.debian.org/debian buster/main s390x m4 s390x 1.4.18-2 [199 kB]\n",
      "INFO:__main__:2023-08-25 21:08:44,412  run                      INFO    run: Get:21 http://deb.debian.org/debian buster/main s390x autoconf all 2.69-11 [341 kB]\n",
      "INFO:__main__:2023-08-25 21:08:44,416  run                      INFO    run: Get:22 http://deb.debian.org/debian buster/main s390x autotools-dev all 20180224.1 [77.0 kB]\n",
      "INFO:__main__:2023-08-25 21:08:44,417  run                      INFO    run: Get:23 http://deb.debian.org/debian buster/main s390x automake all 1:1.16.1-4 [771 kB]\n",
      "INFO:__main__:2023-08-25 21:08:44,739  run                      INFO    run: Get:24 http://deb.debian.org/debian buster/main s390x binutils-common s390x 2.31.1-16 [2073 kB]\n",
      "INFO:__main__:2023-08-25 21:08:45,176  run                      INFO    run: Get:25 http://deb.debian.org/debian buster/main s390x libbinutils s390x 2.31.1-16 [298 kB]\n",
      "INFO:__main__:2023-08-25 21:08:45,269  run                      INFO    run: Get:26 http://deb.debian.org/debian buster/main s390x binutils-s390x-linux-gnu s390x 2.31.1-16 [1653 kB]\n",
      "INFO:__main__:2023-08-25 21:08:45,655  run                      INFO    run: Get:27 http://deb.debian.org/debian buster/main s390x binutils s390x 2.31.1-16 [56.7 kB]\n",
      "INFO:__main__:2023-08-25 21:08:45,836  run                      INFO    run: Get:28 http://deb.debian.org/debian buster/main s390x libc-dev-bin s390x 2.28-10+deb10u1 [270 kB]\n",
      "INFO:__main__:2023-08-25 21:08:46,248  run                      INFO    run: Get:29 http://deb.debian.org/debian buster/main s390x linux-libc-dev s390x 4.19.249-2 [1527 kB]\n",
      "INFO:__main__:2023-08-25 21:08:46,622  run                      INFO    run: Get:30 http://deb.debian.org/debian buster/main s390x libc6-dev s390x 2.28-10+deb10u1 [2269 kB]\n",
      "INFO:__main__:2023-08-25 21:08:46,881  run                      INFO    run: Get:31 http://deb.debian.org/debian buster/main s390x libisl19 s390x 0.20-2 [547 kB]\n",
      "INFO:__main__:2023-08-25 21:08:47,166  run                      INFO    run: Get:32 http://deb.debian.org/debian buster/main s390x libmpfr6 s390x 4.0.2-1 [761 kB]\n",
      "INFO:__main__:2023-08-25 21:08:47,260  run                      INFO    run: Get:33 http://deb.debian.org/debian buster/main s390x libmpc3 s390x 1.1.0-1 [38.0 kB]\n",
      "INFO:__main__:2023-08-25 21:08:47,434  run                      INFO    run: Get:34 http://deb.debian.org/debian buster/main s390x cpp-8 s390x 8.3.0-6 [6785 kB]\n",
      "INFO:__main__:2023-08-25 21:08:48,060  run                      INFO    run: Get:35 http://deb.debian.org/debian buster/main s390x cpp s390x 4:8.3.0-1 [19.4 kB]\n",
      "INFO:__main__:2023-08-25 21:08:48,067  run                      INFO    run: Get:36 http://deb.debian.org/debian buster/main s390x libcc1-0 s390x 8.3.0-6 [43.8 kB]\n",
      "INFO:__main__:2023-08-25 21:08:48,073  run                      INFO    run: Get:37 http://deb.debian.org/debian buster/main s390x libgomp1 s390x 8.3.0-6 [69.0 kB]\n",
      "INFO:__main__:2023-08-25 21:08:48,251  run                      INFO    run: Get:38 http://deb.debian.org/debian buster/main s390x libitm1 s390x 8.3.0-6 [26.7 kB]\n",
      "INFO:__main__:2023-08-25 21:08:48,261  run                      INFO    run: Get:39 http://deb.debian.org/debian buster/main s390x libatomic1 s390x 8.3.0-6 [8184 B]\n",
      "INFO:__main__:2023-08-25 21:08:48,444  run                      INFO    run: Get:40 http://deb.debian.org/debian buster/main s390x libasan5 s390x 8.3.0-6 [321 kB]\n",
      "INFO:__main__:2023-08-25 21:08:48,820  run                      INFO    run: Get:41 http://deb.debian.org/debian buster/main s390x libubsan1 s390x 8.3.0-6 [113 kB]\n",
      "INFO:__main__:2023-08-25 21:08:49,110  run                      INFO    run: Get:42 http://deb.debian.org/debian buster/main s390x libgcc-8-dev s390x 8.3.0-6 [641 kB]\n",
      "INFO:__main__:2023-08-25 21:08:49,473  run                      INFO    run: Get:43 http://deb.debian.org/debian buster/main s390x gcc-8 s390x 8.3.0-6 [7277 kB]\n",
      "INFO:__main__:2023-08-25 21:08:50,035  run                      INFO    run: Get:44 http://deb.debian.org/debian buster/main s390x gcc s390x 4:8.3.0-1 [5188 B]\n",
      "INFO:__main__:2023-08-25 21:08:50,554  run                      INFO    run: Get:45 http://deb.debian.org/debian buster/main s390x libstdc++-8-dev s390x 8.3.0-6 [1502 kB]\n",
      "INFO:__main__:2023-08-25 21:08:51,486  run                      INFO    run: Get:46 http://deb.debian.org/debian buster/main s390x g++-8 s390x 8.3.0-6 [7525 kB]\n",
      "INFO:__main__:2023-08-25 21:08:51,702  run                      INFO    run: Get:47 http://deb.debian.org/debian buster/main s390x g++ s390x 4:8.3.0-1 [1636 B]\n",
      "INFO:__main__:2023-08-25 21:08:51,878  run                      INFO    run: Get:48 http://deb.debian.org/debian buster/main s390x make s390x 4.2.1-1.2 [333 kB]\n",
      "INFO:__main__:2023-08-25 21:08:52,078  run                      INFO    run: Get:49 http://deb.debian.org/debian buster/main s390x libdpkg-perl all 1.19.8 [1415 kB]\n",
      "INFO:__main__:2023-08-25 21:08:52,173  run                      INFO    run: Get:50 http://deb.debian.org/debian buster/main s390x patch s390x 2.7.6-3+deb10u1 [124 kB]\n",
      "INFO:__main__:2023-08-25 21:08:52,276  run                      INFO    run: Get:51 http://deb.debian.org/debian buster/main s390x dpkg-dev all 1.19.8 [1776 kB]\n",
      "INFO:__main__:2023-08-25 21:08:52,296  run                      INFO    run: Get:52 http://deb.debian.org/debian buster/main s390x build-essential s390x 12.6 [7576 B]\n",
      "INFO:__main__:2023-08-25 21:08:52,296  run                      INFO    run: Get:53 http://deb.debian.org/debian buster/main s390x python3-lib2to3 all 3.7.3-1 [76.7 kB]\n",
      "INFO:__main__:2023-08-25 21:08:52,297  run                      INFO    run: Get:54 http://deb.debian.org/debian buster/main s390x python3-distutils all 3.7.3-1 [142 kB]\n",
      "INFO:__main__:2023-08-25 21:08:52,299  run                      INFO    run: Get:55 http://deb.debian.org/debian buster/main s390x dh-python all 3.20190308 [99.3 kB]\n",
      "INFO:__main__:2023-08-25 21:08:52,300  run                      INFO    run: Get:56 http://deb.debian.org/debian buster/main s390x libcurl3-gnutls s390x 7.64.0-4+deb10u2 [308 kB]\n",
      "INFO:__main__:2023-08-25 21:08:52,304  run                      INFO    run: Get:57 http://deb.debian.org/debian buster/main s390x libpcre2-8-0 s390x 10.32-5 [130 kB]\n",
      "INFO:__main__:2023-08-25 21:08:52,306  run                      INFO    run: Get:58 http://deb.debian.org/debian buster/main s390x liberror-perl all 0.17027-2 [30.9 kB]\n",
      "INFO:__main__:2023-08-25 21:08:52,306  run                      INFO    run: Get:59 http://deb.debian.org/debian buster/main s390x git-man all 1:2.20.1-2+deb10u3 [1620 kB]\n",
      "INFO:__main__:2023-08-25 21:08:52,324  run                      INFO    run: Get:60 http://deb.debian.org/debian buster/main s390x git s390x 1:2.20.1-2+deb10u3 [5200 kB]\n",
      "INFO:__main__:2023-08-25 21:08:52,377  run                      INFO    run: Get:61 http://deb.debian.org/debian buster/main s390x libexpat1-dev s390x 2.2.6-2+deb10u4 [149 kB]\n",
      "INFO:__main__:2023-08-25 21:08:52,499  run                      INFO    run: Get:62 http://deb.debian.org/debian buster/main s390x libffi-dev s390x 3.2.1-9 [154 kB]\n",
      "INFO:__main__:2023-08-25 21:08:52,638  run                      INFO    run: Get:63 http://deb.debian.org/debian buster/main s390x libprotobuf17 s390x 3.6.1.3-2 [716 kB]\n",
      "INFO:__main__:2023-08-25 21:08:52,732  run                      INFO    run: Get:64 http://deb.debian.org/debian buster/main s390x libprotoc17 s390x 3.6.1.3-2 [582 kB]\n",
      "INFO:__main__:2023-08-25 21:08:53,454  run                      INFO    run: Get:65 http://deb.debian.org/debian buster/main s390x libpython3.7 s390x 3.7.3-2+deb10u3 [1359 kB]\n",
      "INFO:__main__:2023-08-25 21:08:53,809  run                      INFO    run: Get:66 http://deb.debian.org/debian buster/main s390x libpython3.7-dev s390x 3.7.3-2+deb10u3 [47.8 MB]\n",
      "INFO:__main__:2023-08-25 21:08:54,286  run                      INFO    run: Get:67 http://deb.debian.org/debian buster/main s390x libpython3-dev s390x 3.7.3-1 [20.1 kB]\n",
      "INFO:__main__:2023-08-25 21:08:54,313  run                      INFO    run: Get:68 http://deb.debian.org/debian buster/main s390x libssl-dev s390x 1.1.1n-0+deb10u3 [1472 kB]\n",
      "INFO:__main__:2023-08-25 21:08:54,692  run                      INFO    run: Get:69 http://deb.debian.org/debian buster/main s390x libtool all 2.4.6-9 [547 kB]\n",
      "INFO:__main__:2023-08-25 21:08:54,782  run                      INFO    run: Get:70 http://deb.debian.org/debian buster/main s390x protobuf-compiler s390x 3.6.1.3-2 [64.7 kB]\n",
      "INFO:__main__:2023-08-25 21:08:54,812  run                      INFO    run: Get:71 http://deb.debian.org/debian buster/main s390x python-pip-whl all 18.1-5 [1591 kB]\n",
      "INFO:__main__:2023-08-25 21:08:54,829  run                      INFO    run: Get:72 http://deb.debian.org/debian buster/main s390x python3.7-dev s390x 3.7.3-2+deb10u3 [509 kB]\n",
      "INFO:__main__:2023-08-25 21:08:54,834  run                      INFO    run: Get:73 http://deb.debian.org/debian buster/main s390x python3-dev s390x 3.7.3-1 [1264 B]\n",
      "INFO:__main__:2023-08-25 21:08:54,834  run                      INFO    run: Get:74 http://deb.debian.org/debian buster/main s390x python3-pip all 18.1-5 [171 kB]\n",
      "INFO:__main__:2023-08-25 21:08:54,836  run                      INFO    run: Get:75 http://deb.debian.org/debian buster/main s390x python3-pkg-resources all 40.8.0-1 [153 kB]\n",
      "INFO:__main__:2023-08-25 21:08:54,838  run                      INFO    run: Get:76 http://deb.debian.org/debian buster/main s390x python3-setuptools all 40.8.0-1 [306 kB]\n",
      "INFO:__main__:2023-08-25 21:08:54,841  run                      INFO    run: Get:77 http://deb.debian.org/debian buster/main s390x python3-wheel all 0.32.3-2 [19.4 kB]\n",
      "INFO:__main__:2023-08-25 21:08:54,944  run                      INFO    run: \u001b[91mdebconf: delaying package configuration, since apt-utils is not installed\n",
      "INFO:__main__:2023-08-25 21:08:54,955  run                      INFO    run: \u001b[0mFetched 114 MB in 13s (8587 kB/s)\n",
      "INFO:__main__:2023-08-25 21:08:54,970  run                      INFO    run: Selecting previously unselected package perl-modules-5.28.\n",
      "(Reading database ... 6959 files and directories currently installed.)  run: (Reading database ... \n",
      "INFO:__main__:2023-08-25 21:08:54,977  run                      INFO    run: Preparing to unpack .../0-perl-modules-5.28_5.28.1-6+deb10u1_all.deb ...\n",
      "INFO:__main__:2023-08-25 21:08:54,981  run                      INFO    run: Unpacking perl-modules-5.28 (5.28.1-6+deb10u1) ...\n",
      "INFO:__main__:2023-08-25 21:08:55,292  run                      INFO    run: Selecting previously unselected package libgdbm-compat4:s390x.\n",
      "INFO:__main__:2023-08-25 21:08:55,293  run                      INFO    run: Preparing to unpack .../1-libgdbm-compat4_1.18.1-4_s390x.deb ...\n",
      "INFO:__main__:2023-08-25 21:08:55,299  run                      INFO    run: Unpacking libgdbm-compat4:s390x (1.18.1-4) ...\n",
      "INFO:__main__:2023-08-25 21:08:55,328  run                      INFO    run: Selecting previously unselected package libperl5.28:s390x.\n",
      "INFO:__main__:2023-08-25 21:08:55,329  run                      INFO    run: Preparing to unpack .../2-libperl5.28_5.28.1-6+deb10u1_s390x.deb ...\n",
      "INFO:__main__:2023-08-25 21:08:55,331  run                      INFO    run: Unpacking libperl5.28:s390x (5.28.1-6+deb10u1) ...\n",
      "INFO:__main__:2023-08-25 21:08:55,857  run                      INFO    run: Selecting previously unselected package perl.\n",
      "INFO:__main__:2023-08-25 21:08:55,858  run                      INFO    run: Preparing to unpack .../3-perl_5.28.1-6+deb10u1_s390x.deb ...\n",
      "INFO:__main__:2023-08-25 21:08:55,864  run                      INFO    run: Unpacking perl (5.28.1-6+deb10u1) ...\n",
      "INFO:__main__:2023-08-25 21:08:55,908  run                      INFO    run: Selecting previously unselected package libpython3.7-minimal:s390x.\n",
      "INFO:__main__:2023-08-25 21:08:55,908  run                      INFO    run: Preparing to unpack .../4-libpython3.7-minimal_3.7.3-2+deb10u3_s390x.deb ...\n",
      "INFO:__main__:2023-08-25 21:08:55,911  run                      INFO    run: Unpacking libpython3.7-minimal:s390x (3.7.3-2+deb10u3) ...\n",
      "INFO:__main__:2023-08-25 21:08:56,009  run                      INFO    run: Selecting previously unselected package python3.7-minimal.\n",
      "INFO:__main__:2023-08-25 21:08:56,010  run                      INFO    run: Preparing to unpack .../5-python3.7-minimal_3.7.3-2+deb10u3_s390x.deb ...\n",
      "INFO:__main__:2023-08-25 21:08:56,015  run                      INFO    run: Unpacking python3.7-minimal (3.7.3-2+deb10u3) ...\n",
      "INFO:__main__:2023-08-25 21:08:56,193  run                      INFO    run: Setting up libpython3.7-minimal:s390x (3.7.3-2+deb10u3) ...\n",
      "INFO:__main__:2023-08-25 21:08:56,204  run                      INFO    run: Setting up python3.7-minimal (3.7.3-2+deb10u3) ...\n",
      "INFO:__main__:2023-08-25 21:08:56,655  run                      INFO    run: Selecting previously unselected package python3-minimal.\n",
      "(Reading database ... 9138 files and directories currently installed.)  run: (Reading database ... \n",
      "INFO:__main__:2023-08-25 21:08:56,660  run                      INFO    run: Preparing to unpack .../0-python3-minimal_3.7.3-1_s390x.deb ...\n",
      "INFO:__main__:2023-08-25 21:08:56,662  run                      INFO    run: Unpacking python3-minimal (3.7.3-1) ...\n",
      "INFO:__main__:2023-08-25 21:08:56,691  run                      INFO    run: Selecting previously unselected package mime-support.\n",
      "INFO:__main__:2023-08-25 21:08:56,691  run                      INFO    run: Preparing to unpack .../1-mime-support_3.62_all.deb ...\n",
      "INFO:__main__:2023-08-25 21:08:56,694  run                      INFO    run: Unpacking mime-support (3.62) ...\n",
      "INFO:__main__:2023-08-25 21:08:56,724  run                      INFO    run: Selecting previously unselected package libmpdec2:s390x.\n",
      "INFO:__main__:2023-08-25 21:08:56,724  run                      INFO    run: Preparing to unpack .../2-libmpdec2_2.4.2-2_s390x.deb ...\n",
      "INFO:__main__:2023-08-25 21:08:56,727  run                      INFO    run: Unpacking libmpdec2:s390x (2.4.2-2) ...\n",
      "INFO:__main__:2023-08-25 21:08:56,755  run                      INFO    run: Selecting previously unselected package libpython3.7-stdlib:s390x.\n",
      "INFO:__main__:2023-08-25 21:08:56,756  run                      INFO    run: Preparing to unpack .../3-libpython3.7-stdlib_3.7.3-2+deb10u3_s390x.deb ...\n",
      "INFO:__main__:2023-08-25 21:08:56,759  run                      INFO    run: Unpacking libpython3.7-stdlib:s390x (3.7.3-2+deb10u3) ...\n",
      "INFO:__main__:2023-08-25 21:08:56,971  run                      INFO    run: Selecting previously unselected package python3.7.\n",
      "INFO:__main__:2023-08-25 21:08:56,972  run                      INFO    run: Preparing to unpack .../4-python3.7_3.7.3-2+deb10u3_s390x.deb ...\n",
      "INFO:__main__:2023-08-25 21:08:56,975  run                      INFO    run: Unpacking python3.7 (3.7.3-2+deb10u3) ...\n",
      "INFO:__main__:2023-08-25 21:08:57,007  run                      INFO    run: Selecting previously unselected package libpython3-stdlib:s390x.\n",
      "INFO:__main__:2023-08-25 21:08:57,008  run                      INFO    run: Preparing to unpack .../5-libpython3-stdlib_3.7.3-1_s390x.deb ...\n",
      "INFO:__main__:2023-08-25 21:08:57,011  run                      INFO    run: Unpacking libpython3-stdlib:s390x (3.7.3-1) ...\n",
      "INFO:__main__:2023-08-25 21:08:57,035  run                      INFO    run: Setting up python3-minimal (3.7.3-1) ...\n",
      "INFO:__main__:2023-08-25 21:08:57,168  run                      INFO    run: Selecting previously unselected package python3.\n",
      "(Reading database ... 9575 files and directories currently installed.)  run: (Reading database ... \n",
      "INFO:__main__:2023-08-25 21:08:57,172  run                      INFO    run: Preparing to unpack .../00-python3_3.7.3-1_s390x.deb ...\n",
      "INFO:__main__:2023-08-25 21:08:57,176  run                      INFO    run: Unpacking python3 (3.7.3-1) ...\n",
      "INFO:__main__:2023-08-25 21:08:57,201  run                      INFO    run: Selecting previously unselected package bzip2.\n",
      "INFO:__main__:2023-08-25 21:08:57,202  run                      INFO    run: Preparing to unpack .../01-bzip2_1.0.6-9.2~deb10u1_s390x.deb ...\n",
      "INFO:__main__:2023-08-25 21:08:57,207  run                      INFO    run: Unpacking bzip2 (1.0.6-9.2~deb10u1) ...\n",
      "INFO:__main__:2023-08-25 21:08:57,245  run                      INFO    run: Selecting previously unselected package libmagic-mgc.\n",
      "INFO:__main__:2023-08-25 21:08:57,246  run                      INFO    run: Preparing to unpack .../02-libmagic-mgc_1%3a5.35-4+deb10u2_s390x.deb ...\n",
      "INFO:__main__:2023-08-25 21:08:57,248  run                      INFO    run: Unpacking libmagic-mgc (1:5.35-4+deb10u2) ...\n",
      "INFO:__main__:2023-08-25 21:08:57,298  run                      INFO    run: Selecting previously unselected package libmagic1:s390x.\n",
      "INFO:__main__:2023-08-25 21:08:57,299  run                      INFO    run: Preparing to unpack .../03-libmagic1_1%3a5.35-4+deb10u2_s390x.deb ...\n",
      "INFO:__main__:2023-08-25 21:08:57,302  run                      INFO    run: Unpacking libmagic1:s390x (1:5.35-4+deb10u2) ...\n",
      "INFO:__main__:2023-08-25 21:08:57,331  run                      INFO    run: Selecting previously unselected package file.\n",
      "INFO:__main__:2023-08-25 21:08:57,332  run                      INFO    run: Preparing to unpack .../04-file_1%3a5.35-4+deb10u2_s390x.deb ...\n",
      "INFO:__main__:2023-08-25 21:08:57,334  run                      INFO    run: Unpacking file (1:5.35-4+deb10u2) ...\n",
      "INFO:__main__:2023-08-25 21:08:57,361  run                      INFO    run: Selecting previously unselected package xz-utils.\n",
      "INFO:__main__:2023-08-25 21:08:57,362  run                      INFO    run: Preparing to unpack .../05-xz-utils_5.2.4-1+deb10u1_s390x.deb ...\n",
      "INFO:__main__:2023-08-25 21:08:57,364  run                      INFO    run: Unpacking xz-utils (5.2.4-1+deb10u1) ...\n",
      "INFO:__main__:2023-08-25 21:08:57,407  run                      INFO    run: Selecting previously unselected package libsigsegv2:s390x.\n",
      "INFO:__main__:2023-08-25 21:08:57,408  run                      INFO    run: Preparing to unpack .../06-libsigsegv2_2.12-2_s390x.deb ...\n",
      "INFO:__main__:2023-08-25 21:08:57,410  run                      INFO    run: Unpacking libsigsegv2:s390x (2.12-2) ...\n",
      "INFO:__main__:2023-08-25 21:08:57,431  run                      INFO    run: Selecting previously unselected package m4.\n",
      "INFO:__main__:2023-08-25 21:08:57,432  run                      INFO    run: Preparing to unpack .../07-m4_1.4.18-2_s390x.deb ...\n",
      "INFO:__main__:2023-08-25 21:08:57,434  run                      INFO    run: Unpacking m4 (1.4.18-2) ...\n",
      "INFO:__main__:2023-08-25 21:08:57,473  run                      INFO    run: Selecting previously unselected package autoconf.\n",
      "INFO:__main__:2023-08-25 21:08:57,474  run                      INFO    run: Preparing to unpack .../08-autoconf_2.69-11_all.deb ...\n",
      "INFO:__main__:2023-08-25 21:08:57,476  run                      INFO    run: Unpacking autoconf (2.69-11) ...\n",
      "INFO:__main__:2023-08-25 21:08:57,535  run                      INFO    run: Selecting previously unselected package autotools-dev.\n",
      "INFO:__main__:2023-08-25 21:08:57,536  run                      INFO    run: Preparing to unpack .../09-autotools-dev_20180224.1_all.deb ...\n",
      "INFO:__main__:2023-08-25 21:08:57,538  run                      INFO    run: Unpacking autotools-dev (20180224.1) ...\n",
      "INFO:__main__:2023-08-25 21:08:57,570  run                      INFO    run: Selecting previously unselected package automake.\n",
      "INFO:__main__:2023-08-25 21:08:57,571  run                      INFO    run: Preparing to unpack .../10-automake_1%3a1.16.1-4_all.deb ...\n",
      "INFO:__main__:2023-08-25 21:08:57,574  run                      INFO    run: Unpacking automake (1:1.16.1-4) ...\n",
      "INFO:__main__:2023-08-25 21:08:57,647  run                      INFO    run: Selecting previously unselected package binutils-common:s390x.\n",
      "INFO:__main__:2023-08-25 21:08:57,648  run                      INFO    run: Preparing to unpack .../11-binutils-common_2.31.1-16_s390x.deb ...\n",
      "INFO:__main__:2023-08-25 21:08:57,651  run                      INFO    run: Unpacking binutils-common:s390x (2.31.1-16) ...\n",
      "INFO:__main__:2023-08-25 21:08:57,858  run                      INFO    run: Selecting previously unselected package libbinutils:s390x.\n",
      "INFO:__main__:2023-08-25 21:08:57,859  run                      INFO    run: Preparing to unpack .../12-libbinutils_2.31.1-16_s390x.deb ...\n",
      "INFO:__main__:2023-08-25 21:08:57,861  run                      INFO    run: Unpacking libbinutils:s390x (2.31.1-16) ...\n",
      "INFO:__main__:2023-08-25 21:08:57,909  run                      INFO    run: Selecting previously unselected package binutils-s390x-linux-gnu.\n",
      "INFO:__main__:2023-08-25 21:08:57,910  run                      INFO    run: Preparing to unpack .../13-binutils-s390x-linux-gnu_2.31.1-16_s390x.deb ...\n",
      "INFO:__main__:2023-08-25 21:08:57,913  run                      INFO    run: Unpacking binutils-s390x-linux-gnu (2.31.1-16) ...\n",
      "INFO:__main__:2023-08-25 21:08:58,142  run                      INFO    run: Selecting previously unselected package binutils.\n",
      "INFO:__main__:2023-08-25 21:08:58,142  run                      INFO    run: Preparing to unpack .../14-binutils_2.31.1-16_s390x.deb ...\n",
      "INFO:__main__:2023-08-25 21:08:58,145  run                      INFO    run: Unpacking binutils (2.31.1-16) ...\n",
      "INFO:__main__:2023-08-25 21:08:58,186  run                      INFO    run: Selecting previously unselected package libc-dev-bin.\n",
      "INFO:__main__:2023-08-25 21:08:58,187  run                      INFO    run: Preparing to unpack .../15-libc-dev-bin_2.28-10+deb10u1_s390x.deb ...\n",
      "INFO:__main__:2023-08-25 21:08:58,189  run                      INFO    run: Unpacking libc-dev-bin (2.28-10+deb10u1) ...\n",
      "INFO:__main__:2023-08-25 21:08:58,216  run                      INFO    run: Selecting previously unselected package linux-libc-dev:s390x.\n",
      "INFO:__main__:2023-08-25 21:08:58,217  run                      INFO    run: Preparing to unpack .../16-linux-libc-dev_4.19.249-2_s390x.deb ...\n",
      "INFO:__main__:2023-08-25 21:08:58,219  run                      INFO    run: Unpacking linux-libc-dev:s390x (4.19.249-2) ...\n",
      "INFO:__main__:2023-08-25 21:08:58,360  run                      INFO    run: Selecting previously unselected package libc6-dev:s390x.\n",
      "INFO:__main__:2023-08-25 21:08:58,360  run                      INFO    run: Preparing to unpack .../17-libc6-dev_2.28-10+deb10u1_s390x.deb ...\n",
      "INFO:__main__:2023-08-25 21:08:58,363  run                      INFO    run: Unpacking libc6-dev:s390x (2.28-10+deb10u1) ...\n",
      "INFO:__main__:2023-08-25 21:08:58,601  run                      INFO    run: Selecting previously unselected package libisl19:s390x.\n",
      "INFO:__main__:2023-08-25 21:08:58,601  run                      INFO    run: Preparing to unpack .../18-libisl19_0.20-2_s390x.deb ...\n",
      "INFO:__main__:2023-08-25 21:08:58,604  run                      INFO    run: Unpacking libisl19:s390x (0.20-2) ...\n",
      "INFO:__main__:2023-08-25 21:08:58,674  run                      INFO    run: Selecting previously unselected package libmpfr6:s390x.\n",
      "INFO:__main__:2023-08-25 21:08:58,675  run                      INFO    run: Preparing to unpack .../19-libmpfr6_4.0.2-1_s390x.deb ...\n",
      "INFO:__main__:2023-08-25 21:08:58,677  run                      INFO    run: Unpacking libmpfr6:s390x (4.0.2-1) ...\n",
      "INFO:__main__:2023-08-25 21:08:58,723  run                      INFO    run: Selecting previously unselected package libmpc3:s390x.\n",
      "INFO:__main__:2023-08-25 21:08:58,723  run                      INFO    run: Preparing to unpack .../20-libmpc3_1.1.0-1_s390x.deb ...\n",
      "INFO:__main__:2023-08-25 21:08:58,726  run                      INFO    run: Unpacking libmpc3:s390x (1.1.0-1) ...\n",
      "INFO:__main__:2023-08-25 21:08:58,747  run                      INFO    run: Selecting previously unselected package cpp-8.\n",
      "INFO:__main__:2023-08-25 21:08:58,747  run                      INFO    run: Preparing to unpack .../21-cpp-8_8.3.0-6_s390x.deb ...\n",
      "INFO:__main__:2023-08-25 21:08:58,749  run                      INFO    run: Unpacking cpp-8 (8.3.0-6) ...\n",
      "INFO:__main__:2023-08-25 21:08:59,331  run                      INFO    run: Selecting previously unselected package cpp.\n",
      "INFO:__main__:2023-08-25 21:08:59,332  run                      INFO    run: Preparing to unpack .../22-cpp_4%3a8.3.0-1_s390x.deb ...\n",
      "INFO:__main__:2023-08-25 21:08:59,335  run                      INFO    run: Unpacking cpp (4:8.3.0-1) ...\n",
      "INFO:__main__:2023-08-25 21:08:59,358  run                      INFO    run: Selecting previously unselected package libcc1-0:s390x.\n",
      "INFO:__main__:2023-08-25 21:08:59,359  run                      INFO    run: Preparing to unpack .../23-libcc1-0_8.3.0-6_s390x.deb ...\n",
      "INFO:__main__:2023-08-25 21:08:59,362  run                      INFO    run: Unpacking libcc1-0:s390x (8.3.0-6) ...\n",
      "INFO:__main__:2023-08-25 21:08:59,387  run                      INFO    run: Selecting previously unselected package libgomp1:s390x.\n",
      "INFO:__main__:2023-08-25 21:08:59,388  run                      INFO    run: Preparing to unpack .../24-libgomp1_8.3.0-6_s390x.deb ...\n",
      "INFO:__main__:2023-08-25 21:08:59,391  run                      INFO    run: Unpacking libgomp1:s390x (8.3.0-6) ...\n",
      "INFO:__main__:2023-08-25 21:08:59,418  run                      INFO    run: Selecting previously unselected package libitm1:s390x.\n",
      "INFO:__main__:2023-08-25 21:08:59,419  run                      INFO    run: Preparing to unpack .../25-libitm1_8.3.0-6_s390x.deb ...\n",
      "INFO:__main__:2023-08-25 21:08:59,421  run                      INFO    run: Unpacking libitm1:s390x (8.3.0-6) ...\n",
      "INFO:__main__:2023-08-25 21:08:59,447  run                      INFO    run: Selecting previously unselected package libatomic1:s390x.\n",
      "INFO:__main__:2023-08-25 21:08:59,448  run                      INFO    run: Preparing to unpack .../26-libatomic1_8.3.0-6_s390x.deb ...\n",
      "INFO:__main__:2023-08-25 21:08:59,450  run                      INFO    run: Unpacking libatomic1:s390x (8.3.0-6) ...\n",
      "INFO:__main__:2023-08-25 21:08:59,476  run                      INFO    run: Selecting previously unselected package libasan5:s390x.\n",
      "INFO:__main__:2023-08-25 21:08:59,476  run                      INFO    run: Preparing to unpack .../27-libasan5_8.3.0-6_s390x.deb ...\n",
      "INFO:__main__:2023-08-25 21:08:59,480  run                      INFO    run: Unpacking libasan5:s390x (8.3.0-6) ...\n",
      "INFO:__main__:2023-08-25 21:08:59,533  run                      INFO    run: Selecting previously unselected package libubsan1:s390x.\n",
      "INFO:__main__:2023-08-25 21:08:59,534  run                      INFO    run: Preparing to unpack .../28-libubsan1_8.3.0-6_s390x.deb ...\n",
      "INFO:__main__:2023-08-25 21:08:59,537  run                      INFO    run: Unpacking libubsan1:s390x (8.3.0-6) ...\n",
      "INFO:__main__:2023-08-25 21:08:59,563  run                      INFO    run: Selecting previously unselected package libgcc-8-dev:s390x.\n",
      "INFO:__main__:2023-08-25 21:08:59,564  run                      INFO    run: Preparing to unpack .../29-libgcc-8-dev_8.3.0-6_s390x.deb ...\n",
      "INFO:__main__:2023-08-25 21:08:59,567  run                      INFO    run: Unpacking libgcc-8-dev:s390x (8.3.0-6) ...\n",
      "INFO:__main__:2023-08-25 21:08:59,651  run                      INFO    run: Selecting previously unselected package gcc-8.\n",
      "INFO:__main__:2023-08-25 21:08:59,652  run                      INFO    run: Preparing to unpack .../30-gcc-8_8.3.0-6_s390x.deb ...\n",
      "INFO:__main__:2023-08-25 21:08:59,655  run                      INFO    run: Unpacking gcc-8 (8.3.0-6) ...\n",
      "INFO:__main__:2023-08-25 21:09:00,282  run                      INFO    run: Selecting previously unselected package gcc.\n",
      "INFO:__main__:2023-08-25 21:09:00,284  run                      INFO    run: Preparing to unpack .../31-gcc_4%3a8.3.0-1_s390x.deb ...\n",
      "INFO:__main__:2023-08-25 21:09:00,287  run                      INFO    run: Unpacking gcc (4:8.3.0-1) ...\n",
      "INFO:__main__:2023-08-25 21:09:00,306  run                      INFO    run: Selecting previously unselected package libstdc++-8-dev:s390x.\n",
      "INFO:__main__:2023-08-25 21:09:00,307  run                      INFO    run: Preparing to unpack .../32-libstdc++-8-dev_8.3.0-6_s390x.deb ...\n",
      "INFO:__main__:2023-08-25 21:09:00,310  run                      INFO    run: Unpacking libstdc++-8-dev:s390x (8.3.0-6) ...\n",
      "INFO:__main__:2023-08-25 21:09:00,489  run                      INFO    run: Selecting previously unselected package g++-8.\n",
      "INFO:__main__:2023-08-25 21:09:00,491  run                      INFO    run: Preparing to unpack .../33-g++-8_8.3.0-6_s390x.deb ...\n",
      "INFO:__main__:2023-08-25 21:09:00,494  run                      INFO    run: Unpacking g++-8 (8.3.0-6) ...\n",
      "INFO:__main__:2023-08-25 21:09:01,131  run                      INFO    run: Selecting previously unselected package g++.\n",
      "INFO:__main__:2023-08-25 21:09:01,133  run                      INFO    run: Preparing to unpack .../34-g++_4%3a8.3.0-1_s390x.deb ...\n",
      "INFO:__main__:2023-08-25 21:09:01,136  run                      INFO    run: Unpacking g++ (4:8.3.0-1) ...\n",
      "INFO:__main__:2023-08-25 21:09:01,153  run                      INFO    run: Selecting previously unselected package make.\n",
      "INFO:__main__:2023-08-25 21:09:01,154  run                      INFO    run: Preparing to unpack .../35-make_4.2.1-1.2_s390x.deb ...\n",
      "INFO:__main__:2023-08-25 21:09:01,157  run                      INFO    run: Unpacking make (4.2.1-1.2) ...\n",
      "INFO:__main__:2023-08-25 21:09:01,203  run                      INFO    run: Selecting previously unselected package libdpkg-perl.\n",
      "INFO:__main__:2023-08-25 21:09:01,204  run                      INFO    run: Preparing to unpack .../36-libdpkg-perl_1.19.8_all.deb ...\n",
      "INFO:__main__:2023-08-25 21:09:01,206  run                      INFO    run: Unpacking libdpkg-perl (1.19.8) ...\n",
      "INFO:__main__:2023-08-25 21:09:01,257  run                      INFO    run: Selecting previously unselected package patch.\n",
      "INFO:__main__:2023-08-25 21:09:01,258  run                      INFO    run: Preparing to unpack .../37-patch_2.7.6-3+deb10u1_s390x.deb ...\n",
      "INFO:__main__:2023-08-25 21:09:01,261  run                      INFO    run: Unpacking patch (2.7.6-3+deb10u1) ...\n",
      "INFO:__main__:2023-08-25 21:09:01,291  run                      INFO    run: Selecting previously unselected package dpkg-dev.\n",
      "INFO:__main__:2023-08-25 21:09:01,292  run                      INFO    run: Preparing to unpack .../38-dpkg-dev_1.19.8_all.deb ...\n",
      "INFO:__main__:2023-08-25 21:09:01,295  run                      INFO    run: Unpacking dpkg-dev (1.19.8) ...\n",
      "INFO:__main__:2023-08-25 21:09:01,382  run                      INFO    run: Selecting previously unselected package build-essential.\n",
      "INFO:__main__:2023-08-25 21:09:01,383  run                      INFO    run: Preparing to unpack .../39-build-essential_12.6_s390x.deb ...\n",
      "INFO:__main__:2023-08-25 21:09:01,386  run                      INFO    run: Unpacking build-essential (12.6) ...\n",
      "INFO:__main__:2023-08-25 21:09:01,407  run                      INFO    run: Selecting previously unselected package python3-lib2to3.\n",
      "INFO:__main__:2023-08-25 21:09:01,408  run                      INFO    run: Preparing to unpack .../40-python3-lib2to3_3.7.3-1_all.deb ...\n",
      "INFO:__main__:2023-08-25 21:09:01,410  run                      INFO    run: Unpacking python3-lib2to3 (3.7.3-1) ...\n",
      "INFO:__main__:2023-08-25 21:09:01,437  run                      INFO    run: Selecting previously unselected package python3-distutils.\n",
      "INFO:__main__:2023-08-25 21:09:01,438  run                      INFO    run: Preparing to unpack .../41-python3-distutils_3.7.3-1_all.deb ...\n",
      "INFO:__main__:2023-08-25 21:09:01,441  run                      INFO    run: Unpacking python3-distutils (3.7.3-1) ...\n",
      "INFO:__main__:2023-08-25 21:09:01,476  run                      INFO    run: Selecting previously unselected package dh-python.\n",
      "INFO:__main__:2023-08-25 21:09:01,477  run                      INFO    run: Preparing to unpack .../42-dh-python_3.20190308_all.deb ...\n",
      "INFO:__main__:2023-08-25 21:09:01,481  run                      INFO    run: Unpacking dh-python (3.20190308) ...\n",
      "INFO:__main__:2023-08-25 21:09:01,512  run                      INFO    run: Selecting previously unselected package libcurl3-gnutls:s390x.\n",
      "INFO:__main__:2023-08-25 21:09:01,513  run                      INFO    run: Preparing to unpack .../43-libcurl3-gnutls_7.64.0-4+deb10u2_s390x.deb ...\n",
      "INFO:__main__:2023-08-25 21:09:01,516  run                      INFO    run: Unpacking libcurl3-gnutls:s390x (7.64.0-4+deb10u2) ...\n",
      "INFO:__main__:2023-08-25 21:09:01,564  run                      INFO    run: Selecting previously unselected package libpcre2-8-0:s390x.\n",
      "INFO:__main__:2023-08-25 21:09:01,565  run                      INFO    run: Preparing to unpack .../44-libpcre2-8-0_10.32-5_s390x.deb ...\n",
      "INFO:__main__:2023-08-25 21:09:01,568  run                      INFO    run: Unpacking libpcre2-8-0:s390x (10.32-5) ...\n",
      "INFO:__main__:2023-08-25 21:09:01,598  run                      INFO    run: Selecting previously unselected package liberror-perl.\n",
      "INFO:__main__:2023-08-25 21:09:01,599  run                      INFO    run: Preparing to unpack .../45-liberror-perl_0.17027-2_all.deb ...\n",
      "INFO:__main__:2023-08-25 21:09:01,601  run                      INFO    run: Unpacking liberror-perl (0.17027-2) ...\n",
      "INFO:__main__:2023-08-25 21:09:01,622  run                      INFO    run: Selecting previously unselected package git-man.\n",
      "INFO:__main__:2023-08-25 21:09:01,623  run                      INFO    run: Preparing to unpack .../46-git-man_1%3a2.20.1-2+deb10u3_all.deb ...\n",
      "INFO:__main__:2023-08-25 21:09:01,626  run                      INFO    run: Unpacking git-man (1:2.20.1-2+deb10u3) ...\n",
      "INFO:__main__:2023-08-25 21:09:01,732  run                      INFO    run: Selecting previously unselected package git.\n",
      "INFO:__main__:2023-08-25 21:09:01,733  run                      INFO    run: Preparing to unpack .../47-git_1%3a2.20.1-2+deb10u3_s390x.deb ...\n",
      "INFO:__main__:2023-08-25 21:09:01,749  run                      INFO    run: Unpacking git (1:2.20.1-2+deb10u3) ...\n",
      "INFO:__main__:2023-08-25 21:09:02,212  run                      INFO    run: Selecting previously unselected package libexpat1-dev:s390x.\n",
      "INFO:__main__:2023-08-25 21:09:02,214  run                      INFO    run: Preparing to unpack .../48-libexpat1-dev_2.2.6-2+deb10u4_s390x.deb ...\n",
      "INFO:__main__:2023-08-25 21:09:02,217  run                      INFO    run: Unpacking libexpat1-dev:s390x (2.2.6-2+deb10u4) ...\n",
      "INFO:__main__:2023-08-25 21:09:02,252  run                      INFO    run: Selecting previously unselected package libffi-dev:s390x.\n",
      "INFO:__main__:2023-08-25 21:09:02,253  run                      INFO    run: Preparing to unpack .../49-libffi-dev_3.2.1-9_s390x.deb ...\n",
      "INFO:__main__:2023-08-25 21:09:02,256  run                      INFO    run: Unpacking libffi-dev:s390x (3.2.1-9) ...\n",
      "INFO:__main__:2023-08-25 21:09:02,288  run                      INFO    run: Selecting previously unselected package libprotobuf17:s390x.\n",
      "INFO:__main__:2023-08-25 21:09:02,289  run                      INFO    run: Preparing to unpack .../50-libprotobuf17_3.6.1.3-2_s390x.deb ...\n",
      "INFO:__main__:2023-08-25 21:09:02,293  run                      INFO    run: Unpacking libprotobuf17:s390x (3.6.1.3-2) ...\n",
      "INFO:__main__:2023-08-25 21:09:02,380  run                      INFO    run: Selecting previously unselected package libprotoc17:s390x.\n",
      "INFO:__main__:2023-08-25 21:09:02,382  run                      INFO    run: Preparing to unpack .../51-libprotoc17_3.6.1.3-2_s390x.deb ...\n",
      "INFO:__main__:2023-08-25 21:09:02,384  run                      INFO    run: Unpacking libprotoc17:s390x (3.6.1.3-2) ...\n",
      "INFO:__main__:2023-08-25 21:09:02,460  run                      INFO    run: Selecting previously unselected package libpython3.7:s390x.\n",
      "INFO:__main__:2023-08-25 21:09:02,461  run                      INFO    run: Preparing to unpack .../52-libpython3.7_3.7.3-2+deb10u3_s390x.deb ...\n",
      "INFO:__main__:2023-08-25 21:09:02,464  run                      INFO    run: Unpacking libpython3.7:s390x (3.7.3-2+deb10u3) ...\n",
      "INFO:__main__:2023-08-25 21:09:02,606  run                      INFO    run: Selecting previously unselected package libpython3.7-dev:s390x.\n",
      "INFO:__main__:2023-08-25 21:09:02,607  run                      INFO    run: Preparing to unpack .../53-libpython3.7-dev_3.7.3-2+deb10u3_s390x.deb ...\n",
      "INFO:__main__:2023-08-25 21:09:02,610  run                      INFO    run: Unpacking libpython3.7-dev:s390x (3.7.3-2+deb10u3) ...\n",
      "INFO:__main__:2023-08-25 21:09:05,733  run                      INFO    run: Selecting previously unselected package libpython3-dev:s390x.\n",
      "INFO:__main__:2023-08-25 21:09:05,735  run                      INFO    run: Preparing to unpack .../54-libpython3-dev_3.7.3-1_s390x.deb ...\n",
      "INFO:__main__:2023-08-25 21:09:05,738  run                      INFO    run: Unpacking libpython3-dev:s390x (3.7.3-1) ...\n",
      "INFO:__main__:2023-08-25 21:09:05,758  run                      INFO    run: Selecting previously unselected package libssl-dev:s390x.\n",
      "INFO:__main__:2023-08-25 21:09:05,759  run                      INFO    run: Preparing to unpack .../55-libssl-dev_1.1.1n-0+deb10u3_s390x.deb ...\n",
      "INFO:__main__:2023-08-25 21:09:05,761  run                      INFO    run: Unpacking libssl-dev:s390x (1.1.1n-0+deb10u3) ...\n",
      "INFO:__main__:2023-08-25 21:09:05,901  run                      INFO    run: Selecting previously unselected package libtool.\n",
      "INFO:__main__:2023-08-25 21:09:05,902  run                      INFO    run: Preparing to unpack .../56-libtool_2.4.6-9_all.deb ...\n",
      "INFO:__main__:2023-08-25 21:09:05,905  run                      INFO    run: Unpacking libtool (2.4.6-9) ...\n",
      "INFO:__main__:2023-08-25 21:09:05,948  run                      INFO    run: Selecting previously unselected package protobuf-compiler.\n",
      "INFO:__main__:2023-08-25 21:09:05,949  run                      INFO    run: Preparing to unpack .../57-protobuf-compiler_3.6.1.3-2_s390x.deb ...\n",
      "INFO:__main__:2023-08-25 21:09:05,951  run                      INFO    run: Unpacking protobuf-compiler (3.6.1.3-2) ...\n",
      "INFO:__main__:2023-08-25 21:09:05,978  run                      INFO    run: Selecting previously unselected package python-pip-whl.\n",
      "INFO:__main__:2023-08-25 21:09:05,978  run                      INFO    run: Preparing to unpack .../58-python-pip-whl_18.1-5_all.deb ...\n",
      "INFO:__main__:2023-08-25 21:09:05,980  run                      INFO    run: Unpacking python-pip-whl (18.1-5) ...\n",
      "INFO:__main__:2023-08-25 21:09:06,113  run                      INFO    run: Selecting previously unselected package python3.7-dev.\n",
      "INFO:__main__:2023-08-25 21:09:06,114  run                      INFO    run: Preparing to unpack .../59-python3.7-dev_3.7.3-2+deb10u3_s390x.deb ...\n",
      "INFO:__main__:2023-08-25 21:09:06,117  run                      INFO    run: Unpacking python3.7-dev (3.7.3-2+deb10u3) ...\n",
      "INFO:__main__:2023-08-25 21:09:06,142  run                      INFO    run: Selecting previously unselected package python3-dev.\n",
      "INFO:__main__:2023-08-25 21:09:06,142  run                      INFO    run: Preparing to unpack .../60-python3-dev_3.7.3-1_s390x.deb ...\n",
      "INFO:__main__:2023-08-25 21:09:06,144  run                      INFO    run: Unpacking python3-dev (3.7.3-1) ...\n",
      "INFO:__main__:2023-08-25 21:09:06,166  run                      INFO    run: Selecting previously unselected package python3-pip.\n",
      "INFO:__main__:2023-08-25 21:09:06,167  run                      INFO    run: Preparing to unpack .../61-python3-pip_18.1-5_all.deb ...\n",
      "INFO:__main__:2023-08-25 21:09:06,170  run                      INFO    run: Unpacking python3-pip (18.1-5) ...\n",
      "INFO:__main__:2023-08-25 21:09:06,208  run                      INFO    run: Selecting previously unselected package python3-pkg-resources.\n",
      "INFO:__main__:2023-08-25 21:09:06,208  run                      INFO    run: Preparing to unpack .../62-python3-pkg-resources_40.8.0-1_all.deb ...\n",
      "INFO:__main__:2023-08-25 21:09:06,211  run                      INFO    run: Unpacking python3-pkg-resources (40.8.0-1) ...\n",
      "INFO:__main__:2023-08-25 21:09:06,248  run                      INFO    run: Selecting previously unselected package python3-setuptools.\n",
      "INFO:__main__:2023-08-25 21:09:06,248  run                      INFO    run: Preparing to unpack .../63-python3-setuptools_40.8.0-1_all.deb ...\n",
      "INFO:__main__:2023-08-25 21:09:06,250  run                      INFO    run: Unpacking python3-setuptools (40.8.0-1) ...\n",
      "INFO:__main__:2023-08-25 21:09:06,301  run                      INFO    run: Selecting previously unselected package python3-wheel.\n",
      "INFO:__main__:2023-08-25 21:09:06,301  run                      INFO    run: Preparing to unpack .../64-python3-wheel_0.32.3-2_all.deb ...\n",
      "INFO:__main__:2023-08-25 21:09:06,304  run                      INFO    run: Unpacking python3-wheel (0.32.3-2) ...\n",
      "INFO:__main__:2023-08-25 21:09:06,340  run                      INFO    run: Setting up perl-modules-5.28 (5.28.1-6+deb10u1) ...\n",
      "INFO:__main__:2023-08-25 21:09:06,348  run                      INFO    run: Setting up mime-support (3.62) ...\n",
      "INFO:__main__:2023-08-25 21:09:06,370  run                      INFO    run: Setting up libmagic-mgc (1:5.35-4+deb10u2) ...\n",
      "INFO:__main__:2023-08-25 21:09:06,378  run                      INFO    run: Setting up binutils-common:s390x (2.31.1-16) ...\n",
      "INFO:__main__:2023-08-25 21:09:06,385  run                      INFO    run: Setting up libmagic1:s390x (1:5.35-4+deb10u2) ...\n",
      "INFO:__main__:2023-08-25 21:09:06,399  run                      INFO    run: Setting up linux-libc-dev:s390x (4.19.249-2) ...\n",
      "INFO:__main__:2023-08-25 21:09:06,406  run                      INFO    run: Setting up libcurl3-gnutls:s390x (7.64.0-4+deb10u2) ...\n",
      "INFO:__main__:2023-08-25 21:09:06,414  run                      INFO    run: Setting up file (1:5.35-4+deb10u2) ...\n",
      "INFO:__main__:2023-08-25 21:09:06,425  run                      INFO    run: Setting up libgomp1:s390x (8.3.0-6) ...\n",
      "INFO:__main__:2023-08-25 21:09:06,435  run                      INFO    run: Setting up bzip2 (1.0.6-9.2~deb10u1) ...\n",
      "INFO:__main__:2023-08-25 21:09:06,442  run                      INFO    run: Setting up libffi-dev:s390x (3.2.1-9) ...\n",
      "INFO:__main__:2023-08-25 21:09:06,453  run                      INFO    run: Setting up libasan5:s390x (8.3.0-6) ...\n",
      "INFO:__main__:2023-08-25 21:09:06,462  run                      INFO    run: Setting up autotools-dev (20180224.1) ...\n",
      "INFO:__main__:2023-08-25 21:09:06,470  run                      INFO    run: Setting up make (4.2.1-1.2) ...\n",
      "INFO:__main__:2023-08-25 21:09:06,478  run                      INFO    run: Setting up libmpfr6:s390x (4.0.2-1) ...\n",
      "INFO:__main__:2023-08-25 21:09:06,485  run                      INFO    run: Setting up libsigsegv2:s390x (2.12-2) ...\n",
      "INFO:__main__:2023-08-25 21:09:06,493  run                      INFO    run: Setting up xz-utils (5.2.4-1+deb10u1) ...\n",
      "INFO:__main__:2023-08-25 21:09:06,501  run                      INFO    run: update-alternatives: using /usr/bin/xz to provide /usr/bin/lzma (lzma) in auto mode\n",
      "INFO:__main__:2023-08-25 21:09:06,501  run                      INFO    run: update-alternatives: warning: skip creation of /usr/share/man/man1/lzma.1.gz because associated file /usr/share/man/man1/xz.1.gz (of link group lzma) doesn't exist\n",
      "INFO:__main__:2023-08-25 21:09:06,501  run                      INFO    run: update-alternatives: warning: skip creation of /usr/share/man/man1/unlzma.1.gz because associated file /usr/share/man/man1/unxz.1.gz (of link group lzma) doesn't exist\n",
      "INFO:__main__:2023-08-25 21:09:06,501  run                      INFO    run: update-alternatives: warning: skip creation of /usr/share/man/man1/lzcat.1.gz because associated file /usr/share/man/man1/xzcat.1.gz (of link group lzma) doesn't exist\n",
      "INFO:__main__:2023-08-25 21:09:06,502  run                      INFO    run: update-alternatives: warning: skip creation of /usr/share/man/man1/lzmore.1.gz because associated file /usr/share/man/man1/xzmore.1.gz (of link group lzma) doesn't exist\n",
      "INFO:__main__:2023-08-25 21:09:06,502  run                      INFO    run: update-alternatives: warning: skip creation of /usr/share/man/man1/lzless.1.gz because associated file /usr/share/man/man1/xzless.1.gz (of link group lzma) doesn't exist\n",
      "INFO:__main__:2023-08-25 21:09:06,502  run                      INFO    run: update-alternatives: warning: skip creation of /usr/share/man/man1/lzdiff.1.gz because associated file /usr/share/man/man1/xzdiff.1.gz (of link group lzma) doesn't exist\n",
      "INFO:__main__:2023-08-25 21:09:06,502  run                      INFO    run: update-alternatives: warning: skip creation of /usr/share/man/man1/lzcmp.1.gz because associated file /usr/share/man/man1/xzcmp.1.gz (of link group lzma) doesn't exist\n",
      "INFO:__main__:2023-08-25 21:09:06,502  run                      INFO    run: update-alternatives: warning: skip creation of /usr/share/man/man1/lzgrep.1.gz because associated file /usr/share/man/man1/xzgrep.1.gz (of link group lzma) doesn't exist\n",
      "INFO:__main__:2023-08-25 21:09:06,502  run                      INFO    run: update-alternatives: warning: skip creation of /usr/share/man/man1/lzegrep.1.gz because associated file /usr/share/man/man1/xzegrep.1.gz (of link group lzma) doesn't exist\n",
      "INFO:__main__:2023-08-25 21:09:06,502  run                      INFO    run: update-alternatives: warning: skip creation of /usr/share/man/man1/lzfgrep.1.gz because associated file /usr/share/man/man1/xzfgrep.1.gz (of link group lzma) doesn't exist\n",
      "INFO:__main__:2023-08-25 21:09:06,507  run                      INFO    run: Setting up libssl-dev:s390x (1.1.1n-0+deb10u3) ...\n",
      "INFO:__main__:2023-08-25 21:09:06,515  run                      INFO    run: Setting up libmpc3:s390x (1.1.0-1) ...\n",
      "INFO:__main__:2023-08-25 21:09:06,522  run                      INFO    run: Setting up libatomic1:s390x (8.3.0-6) ...\n",
      "INFO:__main__:2023-08-25 21:09:06,530  run                      INFO    run: Setting up patch (2.7.6-3+deb10u1) ...\n",
      "INFO:__main__:2023-08-25 21:09:06,538  run                      INFO    run: Setting up libgdbm-compat4:s390x (1.18.1-4) ...\n",
      "INFO:__main__:2023-08-25 21:09:06,545  run                      INFO    run: Setting up libpcre2-8-0:s390x (10.32-5) ...\n",
      "INFO:__main__:2023-08-25 21:09:06,553  run                      INFO    run: Setting up libperl5.28:s390x (5.28.1-6+deb10u1) ...\n",
      "INFO:__main__:2023-08-25 21:09:06,561  run                      INFO    run: Setting up libubsan1:s390x (8.3.0-6) ...\n",
      "INFO:__main__:2023-08-25 21:09:06,569  run                      INFO    run: Setting up libisl19:s390x (0.20-2) ...\n",
      "INFO:__main__:2023-08-25 21:09:06,578  run                      INFO    run: Setting up git-man (1:2.20.1-2+deb10u3) ...\n",
      "INFO:__main__:2023-08-25 21:09:06,584  run                      INFO    run: Setting up python-pip-whl (18.1-5) ...\n",
      "INFO:__main__:2023-08-25 21:09:06,592  run                      INFO    run: Setting up libprotobuf17:s390x (3.6.1.3-2) ...\n",
      "INFO:__main__:2023-08-25 21:09:06,599  run                      INFO    run: Setting up libmpdec2:s390x (2.4.2-2) ...\n",
      "INFO:__main__:2023-08-25 21:09:06,607  run                      INFO    run: Setting up libbinutils:s390x (2.31.1-16) ...\n",
      "INFO:__main__:2023-08-25 21:09:06,614  run                      INFO    run: Setting up cpp-8 (8.3.0-6) ...\n",
      "INFO:__main__:2023-08-25 21:09:06,622  run                      INFO    run: Setting up libc-dev-bin (2.28-10+deb10u1) ...\n",
      "INFO:__main__:2023-08-25 21:09:06,631  run                      INFO    run: Setting up libcc1-0:s390x (8.3.0-6) ...\n",
      "INFO:__main__:2023-08-25 21:09:06,639  run                      INFO    run: Setting up libitm1:s390x (8.3.0-6) ...\n",
      "INFO:__main__:2023-08-25 21:09:06,645  run                      INFO    run: Setting up libpython3.7-stdlib:s390x (3.7.3-2+deb10u3) ...\n",
      "INFO:__main__:2023-08-25 21:09:06,652  run                      INFO    run: Setting up libprotoc17:s390x (3.6.1.3-2) ...\n",
      "INFO:__main__:2023-08-25 21:09:06,659  run                      INFO    run: Setting up binutils-s390x-linux-gnu (2.31.1-16) ...\n",
      "INFO:__main__:2023-08-25 21:09:06,666  run                      INFO    run: Setting up protobuf-compiler (3.6.1.3-2) ...\n",
      "INFO:__main__:2023-08-25 21:09:06,673  run                      INFO    run: Setting up libpython3.7:s390x (3.7.3-2+deb10u3) ...\n",
      "INFO:__main__:2023-08-25 21:09:06,680  run                      INFO    run: Setting up m4 (1.4.18-2) ...\n",
      "INFO:__main__:2023-08-25 21:09:06,687  run                      INFO    run: Setting up binutils (2.31.1-16) ...\n",
      "INFO:__main__:2023-08-25 21:09:06,694  run                      INFO    run: Setting up perl (5.28.1-6+deb10u1) ...\n",
      "INFO:__main__:2023-08-25 21:09:06,707  run                      INFO    run: Setting up libdpkg-perl (1.19.8) ...\n",
      "INFO:__main__:2023-08-25 21:09:06,715  run                      INFO    run: Setting up libgcc-8-dev:s390x (8.3.0-6) ...\n",
      "INFO:__main__:2023-08-25 21:09:06,724  run                      INFO    run: Setting up autoconf (2.69-11) ...\n",
      "INFO:__main__:2023-08-25 21:09:06,734  run                      INFO    run: Setting up cpp (4:8.3.0-1) ...\n",
      "INFO:__main__:2023-08-25 21:09:06,745  run                      INFO    run: Setting up libc6-dev:s390x (2.28-10+deb10u1) ...\n",
      "INFO:__main__:2023-08-25 21:09:06,754  run                      INFO    run: Setting up libpython3-stdlib:s390x (3.7.3-1) ...\n",
      "INFO:__main__:2023-08-25 21:09:06,765  run                      INFO    run: Setting up libstdc++-8-dev:s390x (8.3.0-6) ...\n",
      "INFO:__main__:2023-08-25 21:09:06,775  run                      INFO    run: Setting up automake (1:1.16.1-4) ...\n",
      "INFO:__main__:2023-08-25 21:09:06,782  run                      INFO    run: update-alternatives: using /usr/bin/automake-1.16 to provide /usr/bin/automake (automake) in auto mode\n",
      "INFO:__main__:2023-08-25 21:09:06,782  run                      INFO    run: update-alternatives: warning: skip creation of /usr/share/man/man1/automake.1.gz because associated file /usr/share/man/man1/automake-1.16.1.gz (of link group automake) doesn't exist\n",
      "INFO:__main__:2023-08-25 21:09:06,782  run                      INFO    run: update-alternatives: warning: skip creation of /usr/share/man/man1/aclocal.1.gz because associated file /usr/share/man/man1/aclocal-1.16.1.gz (of link group automake) doesn't exist\n",
      "INFO:__main__:2023-08-25 21:09:06,789  run                      INFO    run: Setting up python3.7 (3.7.3-2+deb10u3) ...\n",
      "INFO:__main__:2023-08-25 21:09:07,461  run                      INFO    run: Setting up gcc-8 (8.3.0-6) ...\n",
      "INFO:__main__:2023-08-25 21:09:07,468  run                      INFO    run: Setting up libtool (2.4.6-9) ...\n",
      "INFO:__main__:2023-08-25 21:09:07,475  run                      INFO    run: Setting up python3 (3.7.3-1) ...\n",
      "INFO:__main__:2023-08-25 21:09:07,482  run                      INFO    run: running python rtupdate hooks for python3.7...\n",
      "INFO:__main__:2023-08-25 21:09:07,630  run                      INFO    run: running python post-rtupdate hooks for python3.7...\n",
      "INFO:__main__:2023-08-25 21:09:07,695  run                      INFO    run: Setting up python3-wheel (0.32.3-2) ...\n",
      "INFO:__main__:2023-08-25 21:09:07,795  run                      INFO    run: Setting up gcc (4:8.3.0-1) ...\n",
      "INFO:__main__:2023-08-25 21:09:07,810  run                      INFO    run: Setting up dpkg-dev (1.19.8) ...\n",
      "INFO:__main__:2023-08-25 21:09:07,824  run                      INFO    run: Setting up liberror-perl (0.17027-2) ...\n",
      "INFO:__main__:2023-08-25 21:09:07,832  run                      INFO    run: Setting up libexpat1-dev:s390x (2.2.6-2+deb10u4) ...\n",
      "INFO:__main__:2023-08-25 21:09:07,843  run                      INFO    run: Setting up git (1:2.20.1-2+deb10u3) ...\n",
      "INFO:__main__:2023-08-25 21:09:07,866  run                      INFO    run: Setting up g++-8 (8.3.0-6) ...\n",
      "INFO:__main__:2023-08-25 21:09:07,874  run                      INFO    run: Setting up python3-lib2to3 (3.7.3-1) ...\n",
      "INFO:__main__:2023-08-25 21:09:07,955  run                      INFO    run: Setting up python3-pkg-resources (40.8.0-1) ...\n",
      "INFO:__main__:2023-08-25 21:09:08,115  run                      INFO    run: Setting up python3-distutils (3.7.3-1) ...\n",
      "INFO:__main__:2023-08-25 21:09:08,220  run                      INFO    run: Setting up dh-python (3.20190308) ...\n",
      "INFO:__main__:2023-08-25 21:09:08,344  run                      INFO    run: Setting up python3-setuptools (40.8.0-1) ...\n",
      "INFO:__main__:2023-08-25 21:09:08,544  run                      INFO    run: Setting up libpython3.7-dev:s390x (3.7.3-2+deb10u3) ...\n",
      "INFO:__main__:2023-08-25 21:09:08,554  run                      INFO    run: Setting up python3.7-dev (3.7.3-2+deb10u3) ...\n",
      "INFO:__main__:2023-08-25 21:09:08,563  run                      INFO    run: Setting up python3-pip (18.1-5) ...\n",
      "INFO:__main__:2023-08-25 21:09:08,735  run                      INFO    run: Setting up g++ (4:8.3.0-1) ...\n",
      "INFO:__main__:2023-08-25 21:09:08,756  run                      INFO    run: update-alternatives: using /usr/bin/g++ to provide /usr/bin/c++ (c++) in auto mode\n",
      "INFO:__main__:2023-08-25 21:09:08,760  run                      INFO    run: Setting up build-essential (12.6) ...\n",
      "INFO:__main__:2023-08-25 21:09:08,767  run                      INFO    run: Setting up libpython3-dev:s390x (3.7.3-1) ...\n",
      "INFO:__main__:2023-08-25 21:09:08,775  run                      INFO    run: Setting up python3-dev (3.7.3-1) ...\n",
      "INFO:__main__:2023-08-25 21:09:08,783  run                      INFO    run: Processing triggers for libc-bin (2.28-10+deb10u1) ...\n",
      "INFO:__main__:2023-08-25 21:09:09,308  run                      INFO    run: Reading package lists...\n",
      "INFO:__main__:2023-08-25 21:09:09,399  run                      INFO    run: Building dependency tree...\n",
      "INFO:__main__:2023-08-25 21:09:09,399  run                      INFO    run: Reading state information...\n",
      "INFO:__main__:2023-08-25 21:09:09,469  run                      INFO    run: xz-utils is already the newest version (5.2.4-1+deb10u1).\n",
      "INFO:__main__:2023-08-25 21:09:09,469  run                      INFO    run: xz-utils set to manually installed.\n",
      "INFO:__main__:2023-08-25 21:09:09,469  run                      INFO    run: The following additional packages will be installed:\n",
      "INFO:__main__:2023-08-25 21:09:09,469  run                      INFO    run:   apache2-bin apache2-data apache2-utils libapache2-mod-php7.3 libapr1\n",
      "INFO:__main__:2023-08-25 21:09:09,469  run                      INFO    run:   libaprutil1 libaprutil1-dbd-sqlite3 libaprutil1-ldap libargon2-1 libbrotli1\n",
      "INFO:__main__:2023-08-25 21:09:09,469  run                      INFO    run:   libbsd0 libgpm2 libicu63 libjansson4 liblua5.2-0 libncurses6 libprocps7\n",
      "INFO:__main__:2023-08-25 21:09:09,469  run                      INFO    run:   libsodium23 libxml2 lsb-base php-common php7.3 php7.3-cli php7.3-common\n",
      "INFO:__main__:2023-08-25 21:09:09,469  run                      INFO    run:   php7.3-curl php7.3-json php7.3-opcache php7.3-readline procps psmisc\n",
      "INFO:__main__:2023-08-25 21:09:09,469  run                      INFO    run:   sensible-utils ucf vim-common vim-runtime xxd\n",
      "INFO:__main__:2023-08-25 21:09:09,470  run                      INFO    run: Suggested packages:\n",
      "INFO:__main__:2023-08-25 21:09:09,470  run                      INFO    run:   apache2-doc apache2-suexec-pristine | apache2-suexec-custom www-browser\n",
      "INFO:__main__:2023-08-25 21:09:09,470  run                      INFO    run:   php-pear gpm ctags vim-doc vim-scripts\n",
      "INFO:__main__:2023-08-25 21:09:09,470  run                      INFO    run: Recommended packages:\n",
      "INFO:__main__:2023-08-25 21:09:09,470  run                      INFO    run:   ssl-cert\n",
      "INFO:__main__:2023-08-25 21:09:09,730  run                      INFO    run: The following NEW packages will be installed:\n",
      "INFO:__main__:2023-08-25 21:09:09,730  run                      INFO    run:   apache2 apache2-bin apache2-data apache2-utils libapache2-mod-php7.3 libapr1\n",
      "INFO:__main__:2023-08-25 21:09:09,730  run                      INFO    run:   libaprutil1 libaprutil1-dbd-sqlite3 libaprutil1-ldap libargon2-1 libbrotli1\n",
      "INFO:__main__:2023-08-25 21:09:09,730  run                      INFO    run:   libbsd0 libedit2 libgpm2 libicu63 libjansson4 liblua5.2-0 libncurses6\n",
      "INFO:__main__:2023-08-25 21:09:09,730  run                      INFO    run:   libprocps7 libsodium23 libxml2 lsb-base php php-common php-curl php7.3\n",
      "INFO:__main__:2023-08-25 21:09:09,730  run                      INFO    run:   php7.3-cli php7.3-common php7.3-curl php7.3-json php7.3-opcache\n",
      "INFO:__main__:2023-08-25 21:09:09,730  run                      INFO    run:   php7.3-readline procps psmisc sensible-utils ucf vim vim-common vim-runtime\n",
      "INFO:__main__:2023-08-25 21:09:09,730  run                      INFO    run:   xxd\n",
      "INFO:__main__:2023-08-25 21:09:09,749  run                      INFO    run: 0 upgraded, 40 newly installed, 0 to remove and 0 not upgraded.\n",
      "INFO:__main__:2023-08-25 21:09:09,749  run                      INFO    run: Need to get 22.7 MB of archives.\n",
      "INFO:__main__:2023-08-25 21:09:09,749  run                      INFO    run: After this operation, 97.7 MB of additional disk space will be used.\n",
      "INFO:__main__:2023-08-25 21:09:09,749  run                      INFO    run: Get:1 http://deb.debian.org/debian buster/main s390x libapr1 s390x 1.6.5-1+b1 [97.3 kB]\n",
      "INFO:__main__:2023-08-25 21:09:09,756  run                      INFO    run: Get:2 http://deb.debian.org/debian buster/main s390x libaprutil1 s390x 1.6.1-4 [88.8 kB]\n",
      "INFO:__main__:2023-08-25 21:09:09,937  run                      INFO    run: Get:3 http://deb.debian.org/debian buster/main s390x libaprutil1-dbd-sqlite3 s390x 1.6.1-4 [18.5 kB]\n",
      "INFO:__main__:2023-08-25 21:09:10,118  run                      INFO    run: Get:4 http://deb.debian.org/debian buster/main s390x libaprutil1-ldap s390x 1.6.1-4 [16.7 kB]\n",
      "INFO:__main__:2023-08-25 21:09:10,121  run                      INFO    run: Get:5 http://deb.debian.org/debian buster/main s390x libbrotli1 s390x 1.0.7-2+deb10u1 [272 kB]\n",
      "INFO:__main__:2023-08-25 21:09:10,128  run                      INFO    run: Get:6 http://deb.debian.org/debian buster/main s390x libjansson4 s390x 2.12-1 [35.7 kB]\n",
      "INFO:__main__:2023-08-25 21:09:10,130  run                      INFO    run: Get:7 http://deb.debian.org/debian buster/main s390x liblua5.2-0 s390x 5.2.4-1.1+b2 [102 kB]\n",
      "INFO:__main__:2023-08-25 21:09:10,132  run                      INFO    run: Get:8 http://deb.debian.org/debian buster/main s390x libicu63 s390x 63.1-6+deb10u3 [8035 kB]\n",
      "INFO:__main__:2023-08-25 21:09:10,338  run                      INFO    run: Get:9 http://deb.debian.org/debian buster/main s390x libxml2 s390x 2.9.4+dfsg1-7+deb10u4 [608 kB]\n",
      "INFO:__main__:2023-08-25 21:09:10,782  run                      INFO    run: Get:10 http://deb.debian.org/debian buster/main s390x apache2-bin s390x 2.4.38-3+deb10u8 [1195 kB]\n",
      "INFO:__main__:2023-08-25 21:09:11,103  run                      INFO    run: Get:11 http://deb.debian.org/debian buster/main s390x apache2-data all 2.4.38-3+deb10u8 [165 kB]\n",
      "INFO:__main__:2023-08-25 21:09:11,108  run                      INFO    run: Get:12 http://deb.debian.org/debian buster/main s390x apache2-utils s390x 2.4.38-3+deb10u8 [236 kB]\n",
      "INFO:__main__:2023-08-25 21:09:11,113  run                      INFO    run: Get:13 http://deb.debian.org/debian buster/main s390x lsb-base all 10.2019051400 [28.4 kB]\n",
      "INFO:__main__:2023-08-25 21:09:11,114  run                      INFO    run: Get:14 http://deb.debian.org/debian buster/main s390x libncurses6 s390x 6.1+20181013-2+deb10u2 [94.6 kB]\n",
      "INFO:__main__:2023-08-25 21:09:11,117  run                      INFO    run: Get:15 http://deb.debian.org/debian buster/main s390x libprocps7 s390x 2:3.3.15-2 [60.0 kB]\n",
      "INFO:__main__:2023-08-25 21:09:11,211  run                      INFO    run: Get:16 http://deb.debian.org/debian buster/main s390x procps s390x 2:3.3.15-2 [249 kB]\n",
      "INFO:__main__:2023-08-25 21:09:11,386  run                      INFO    run: Get:17 http://deb.debian.org/debian buster/main s390x apache2 s390x 2.4.38-3+deb10u8 [252 kB]\n",
      "INFO:__main__:2023-08-25 21:09:11,389  run                      INFO    run: Get:18 http://deb.debian.org/debian buster/main s390x sensible-utils all 0.0.12 [15.8 kB]\n",
      "INFO:__main__:2023-08-25 21:09:11,478  run                      INFO    run: Get:19 http://deb.debian.org/debian buster/main s390x xxd s390x 2:8.1.0875-5+deb10u2 [139 kB]\n",
      "INFO:__main__:2023-08-25 21:09:11,587  run                      INFO    run: Get:20 http://deb.debian.org/debian buster/main s390x vim-common all 2:8.1.0875-5+deb10u2 [195 kB]\n",
      "INFO:__main__:2023-08-25 21:09:11,593  run                      INFO    run: Get:21 http://deb.debian.org/debian buster/main s390x ucf all 3.0038+nmu1 [69.0 kB]\n",
      "INFO:__main__:2023-08-25 21:09:11,774  run                      INFO    run: Get:22 http://deb.debian.org/debian buster/main s390x libbsd0 s390x 0.9.1-2+deb10u1 [98.0 kB]\n",
      "INFO:__main__:2023-08-25 21:09:12,052  run                      INFO    run: Get:23 http://deb.debian.org/debian buster/main s390x libedit2 s390x 3.1-20181209-1 [89.2 kB]\n",
      "INFO:__main__:2023-08-25 21:09:12,351  run                      INFO    run: Get:24 http://deb.debian.org/debian buster/main s390x psmisc s390x 23.2-1+deb10u1 [121 kB]\n",
      "INFO:__main__:2023-08-25 21:09:12,493  run                      INFO    run: Get:25 http://deb.debian.org/debian buster/main s390x php-common all 2:69 [15.0 kB]\n",
      "INFO:__main__:2023-08-25 21:09:12,494  run                      INFO    run: Get:26 http://deb.debian.org/debian buster/main s390x php7.3-common s390x 7.3.31-1~deb10u1 [547 kB]\n",
      "INFO:__main__:2023-08-25 21:09:12,501  run                      INFO    run: Get:27 http://deb.debian.org/debian buster/main s390x php7.3-json s390x 7.3.31-1~deb10u1 [17.2 kB]\n",
      "INFO:__main__:2023-08-25 21:09:12,505  run                      INFO    run: Get:28 http://deb.debian.org/debian buster/main s390x php7.3-opcache s390x 7.3.31-1~deb10u1 [170 kB]\n",
      "INFO:__main__:2023-08-25 21:09:12,508  run                      INFO    run: Get:29 http://deb.debian.org/debian buster/main s390x php7.3-readline s390x 7.3.31-1~deb10u1 [11.5 kB]\n",
      "INFO:__main__:2023-08-25 21:09:12,511  run                      INFO    run: Get:30 http://deb.debian.org/debian buster/main s390x libargon2-1 s390x 0~20171227-0.2 [37.5 kB]\n",
      "INFO:__main__:2023-08-25 21:09:12,512  run                      INFO    run: Get:31 http://deb.debian.org/debian buster/main s390x libsodium23 s390x 1.0.17-1 [126 kB]\n",
      "INFO:__main__:2023-08-25 21:09:12,843  run                      INFO    run: Get:32 http://deb.debian.org/debian buster/main s390x php7.3-cli s390x 7.3.31-1~deb10u1 [1215 kB]\n",
      "INFO:__main__:2023-08-25 21:09:13,198  run                      INFO    run: Get:33 http://deb.debian.org/debian buster/main s390x libapache2-mod-php7.3 s390x 7.3.31-1~deb10u1 [1169 kB]\n",
      "INFO:__main__:2023-08-25 21:09:13,396  run                      INFO    run: Get:34 http://deb.debian.org/debian buster/main s390x libgpm2 s390x 1.20.7-5 [35.2 kB]\n",
      "INFO:__main__:2023-08-25 21:09:13,409  run                      INFO    run: Get:35 http://deb.debian.org/debian buster/main s390x php7.3 all 7.3.31-1~deb10u1 [47.3 kB]\n",
      "INFO:__main__:2023-08-25 21:09:13,412  run                      INFO    run: Get:36 http://deb.debian.org/debian buster/main s390x php all 2:7.3+69 [5964 B]\n",
      "INFO:__main__:2023-08-25 21:09:13,415  run                      INFO    run: Get:37 http://deb.debian.org/debian buster/main s390x php7.3-curl s390x 7.3.31-1~deb10u1 [27.5 kB]\n",
      "INFO:__main__:2023-08-25 21:09:13,417  run                      INFO    run: Get:38 http://deb.debian.org/debian buster/main s390x php-curl all 2:7.3+69 [5992 B]\n",
      "INFO:__main__:2023-08-25 21:09:13,423  run                      INFO    run: Get:39 http://deb.debian.org/debian buster/main s390x vim-runtime all 2:8.1.0875-5+deb10u2 [5775 kB]\n",
      "INFO:__main__:2023-08-25 21:09:13,476  run                      INFO    run: Get:40 http://deb.debian.org/debian buster/main s390x vim s390x 2:8.1.0875-5+deb10u2 [1188 kB]\n",
      "INFO:__main__:2023-08-25 21:09:13,580  run                      INFO    run: \u001b[91mdebconf: delaying package configuration, since apt-utils is not installed\n",
      "INFO:__main__:2023-08-25 21:09:13,591  run                      INFO    run: \u001b[0mFetched 22.7 MB in 4s (6050 kB/s)\n",
      "INFO:__main__:2023-08-25 21:09:13,612  run                      INFO    run: Selecting previously unselected package libapr1:s390x.\n",
      "(Reading database ... 15030 files and directories currently installed.) run: (Reading database ... \n",
      "INFO:__main__:2023-08-25 21:09:13,618  run                      INFO    run: Preparing to unpack .../00-libapr1_1.6.5-1+b1_s390x.deb ...\n",
      "INFO:__main__:2023-08-25 21:09:13,624  run                      INFO    run: Unpacking libapr1:s390x (1.6.5-1+b1) ...\n",
      "INFO:__main__:2023-08-25 21:09:13,656  run                      INFO    run: Selecting previously unselected package libaprutil1:s390x.\n",
      "INFO:__main__:2023-08-25 21:09:13,657  run                      INFO    run: Preparing to unpack .../01-libaprutil1_1.6.1-4_s390x.deb ...\n",
      "INFO:__main__:2023-08-25 21:09:13,662  run                      INFO    run: Unpacking libaprutil1:s390x (1.6.1-4) ...\n",
      "INFO:__main__:2023-08-25 21:09:13,700  run                      INFO    run: Selecting previously unselected package libaprutil1-dbd-sqlite3:s390x.\n",
      "INFO:__main__:2023-08-25 21:09:13,701  run                      INFO    run: Preparing to unpack .../02-libaprutil1-dbd-sqlite3_1.6.1-4_s390x.deb ...\n",
      "INFO:__main__:2023-08-25 21:09:13,705  run                      INFO    run: Unpacking libaprutil1-dbd-sqlite3:s390x (1.6.1-4) ...\n",
      "INFO:__main__:2023-08-25 21:09:13,726  run                      INFO    run: Selecting previously unselected package libaprutil1-ldap:s390x.\n",
      "INFO:__main__:2023-08-25 21:09:13,727  run                      INFO    run: Preparing to unpack .../03-libaprutil1-ldap_1.6.1-4_s390x.deb ...\n",
      "INFO:__main__:2023-08-25 21:09:13,731  run                      INFO    run: Unpacking libaprutil1-ldap:s390x (1.6.1-4) ...\n",
      "INFO:__main__:2023-08-25 21:09:13,757  run                      INFO    run: Selecting previously unselected package libbrotli1:s390x.\n",
      "INFO:__main__:2023-08-25 21:09:13,758  run                      INFO    run: Preparing to unpack .../04-libbrotli1_1.0.7-2+deb10u1_s390x.deb ...\n",
      "INFO:__main__:2023-08-25 21:09:13,765  run                      INFO    run: Unpacking libbrotli1:s390x (1.0.7-2+deb10u1) ...\n",
      "INFO:__main__:2023-08-25 21:09:13,814  run                      INFO    run: Selecting previously unselected package libjansson4:s390x.\n",
      "INFO:__main__:2023-08-25 21:09:13,815  run                      INFO    run: Preparing to unpack .../05-libjansson4_2.12-1_s390x.deb ...\n",
      "INFO:__main__:2023-08-25 21:09:13,817  run                      INFO    run: Unpacking libjansson4:s390x (2.12-1) ...\n",
      "INFO:__main__:2023-08-25 21:09:13,843  run                      INFO    run: Selecting previously unselected package liblua5.2-0:s390x.\n",
      "INFO:__main__:2023-08-25 21:09:13,844  run                      INFO    run: Preparing to unpack .../06-liblua5.2-0_5.2.4-1.1+b2_s390x.deb ...\n",
      "INFO:__main__:2023-08-25 21:09:13,846  run                      INFO    run: Unpacking liblua5.2-0:s390x (5.2.4-1.1+b2) ...\n",
      "INFO:__main__:2023-08-25 21:09:13,876  run                      INFO    run: Selecting previously unselected package libicu63:s390x.\n",
      "INFO:__main__:2023-08-25 21:09:13,877  run                      INFO    run: Preparing to unpack .../07-libicu63_63.1-6+deb10u3_s390x.deb ...\n",
      "INFO:__main__:2023-08-25 21:09:13,882  run                      INFO    run: Unpacking libicu63:s390x (63.1-6+deb10u3) ...\n",
      "INFO:__main__:2023-08-25 21:09:14,622  run                      INFO    run: Selecting previously unselected package libxml2:s390x.\n",
      "INFO:__main__:2023-08-25 21:09:14,623  run                      INFO    run: Preparing to unpack .../08-libxml2_2.9.4+dfsg1-7+deb10u4_s390x.deb ...\n",
      "INFO:__main__:2023-08-25 21:09:14,626  run                      INFO    run: Unpacking libxml2:s390x (2.9.4+dfsg1-7+deb10u4) ...\n",
      "INFO:__main__:2023-08-25 21:09:14,696  run                      INFO    run: Selecting previously unselected package apache2-bin.\n",
      "INFO:__main__:2023-08-25 21:09:14,697  run                      INFO    run: Preparing to unpack .../09-apache2-bin_2.4.38-3+deb10u8_s390x.deb ...\n",
      "INFO:__main__:2023-08-25 21:09:14,700  run                      INFO    run: Unpacking apache2-bin (2.4.38-3+deb10u8) ...\n",
      "INFO:__main__:2023-08-25 21:09:14,813  run                      INFO    run: Selecting previously unselected package apache2-data.\n",
      "INFO:__main__:2023-08-25 21:09:14,814  run                      INFO    run: Preparing to unpack .../10-apache2-data_2.4.38-3+deb10u8_all.deb ...\n",
      "INFO:__main__:2023-08-25 21:09:14,819  run                      INFO    run: Unpacking apache2-data (2.4.38-3+deb10u8) ...\n",
      "INFO:__main__:2023-08-25 21:09:14,863  run                      INFO    run: Selecting previously unselected package apache2-utils.\n",
      "INFO:__main__:2023-08-25 21:09:14,864  run                      INFO    run: Preparing to unpack .../11-apache2-utils_2.4.38-3+deb10u8_s390x.deb ...\n",
      "INFO:__main__:2023-08-25 21:09:14,866  run                      INFO    run: Unpacking apache2-utils (2.4.38-3+deb10u8) ...\n",
      "INFO:__main__:2023-08-25 21:09:14,897  run                      INFO    run: Selecting previously unselected package lsb-base.\n",
      "INFO:__main__:2023-08-25 21:09:14,898  run                      INFO    run: Preparing to unpack .../12-lsb-base_10.2019051400_all.deb ...\n",
      "INFO:__main__:2023-08-25 21:09:14,901  run                      INFO    run: Unpacking lsb-base (10.2019051400) ...\n",
      "INFO:__main__:2023-08-25 21:09:14,926  run                      INFO    run: Selecting previously unselected package libncurses6:s390x.\n",
      "INFO:__main__:2023-08-25 21:09:14,927  run                      INFO    run: Preparing to unpack .../13-libncurses6_6.1+20181013-2+deb10u2_s390x.deb ...\n",
      "INFO:__main__:2023-08-25 21:09:14,930  run                      INFO    run: Unpacking libncurses6:s390x (6.1+20181013-2+deb10u2) ...\n",
      "INFO:__main__:2023-08-25 21:09:14,957  run                      INFO    run: Selecting previously unselected package libprocps7:s390x.\n",
      "INFO:__main__:2023-08-25 21:09:14,958  run                      INFO    run: Preparing to unpack .../14-libprocps7_2%3a3.3.15-2_s390x.deb ...\n",
      "INFO:__main__:2023-08-25 21:09:14,961  run                      INFO    run: Unpacking libprocps7:s390x (2:3.3.15-2) ...\n",
      "INFO:__main__:2023-08-25 21:09:14,991  run                      INFO    run: Selecting previously unselected package procps.\n",
      "INFO:__main__:2023-08-25 21:09:14,992  run                      INFO    run: Preparing to unpack .../15-procps_2%3a3.3.15-2_s390x.deb ...\n",
      "INFO:__main__:2023-08-25 21:09:14,996  run                      INFO    run: Unpacking procps (2:3.3.15-2) ...\n",
      "INFO:__main__:2023-08-25 21:09:15,053  run                      INFO    run: Selecting previously unselected package apache2.\n",
      "INFO:__main__:2023-08-25 21:09:15,054  run                      INFO    run: Preparing to unpack .../16-apache2_2.4.38-3+deb10u8_s390x.deb ...\n",
      "INFO:__main__:2023-08-25 21:09:15,066  run                      INFO    run: Unpacking apache2 (2.4.38-3+deb10u8) ...\n",
      "INFO:__main__:2023-08-25 21:09:15,139  run                      INFO    run: Selecting previously unselected package sensible-utils.\n",
      "INFO:__main__:2023-08-25 21:09:15,140  run                      INFO    run: Preparing to unpack .../17-sensible-utils_0.0.12_all.deb ...\n",
      "INFO:__main__:2023-08-25 21:09:15,143  run                      INFO    run: Unpacking sensible-utils (0.0.12) ...\n",
      "INFO:__main__:2023-08-25 21:09:15,164  run                      INFO    run: Selecting previously unselected package xxd.\n",
      "INFO:__main__:2023-08-25 21:09:15,165  run                      INFO    run: Preparing to unpack .../18-xxd_2%3a8.1.0875-5+deb10u2_s390x.deb ...\n",
      "INFO:__main__:2023-08-25 21:09:15,167  run                      INFO    run: Unpacking xxd (2:8.1.0875-5+deb10u2) ...\n",
      "INFO:__main__:2023-08-25 21:09:15,204  run                      INFO    run: Selecting previously unselected package vim-common.\n",
      "INFO:__main__:2023-08-25 21:09:15,205  run                      INFO    run: Preparing to unpack .../19-vim-common_2%3a8.1.0875-5+deb10u2_all.deb ...\n",
      "INFO:__main__:2023-08-25 21:09:15,212  run                      INFO    run: Unpacking vim-common (2:8.1.0875-5+deb10u2) ...\n",
      "INFO:__main__:2023-08-25 21:09:15,256  run                      INFO    run: Selecting previously unselected package ucf.\n",
      "INFO:__main__:2023-08-25 21:09:15,257  run                      INFO    run: Preparing to unpack .../20-ucf_3.0038+nmu1_all.deb ...\n",
      "INFO:__main__:2023-08-25 21:09:15,260  run                      INFO    run: Moving old data out of the way\n",
      "INFO:__main__:2023-08-25 21:09:15,261  run                      INFO    run: Unpacking ucf (3.0038+nmu1) ...\n",
      "INFO:__main__:2023-08-25 21:09:15,293  run                      INFO    run: Selecting previously unselected package libbsd0:s390x.\n",
      "INFO:__main__:2023-08-25 21:09:15,293  run                      INFO    run: Preparing to unpack .../21-libbsd0_0.9.1-2+deb10u1_s390x.deb ...\n",
      "INFO:__main__:2023-08-25 21:09:15,301  run                      INFO    run: Unpacking libbsd0:s390x (0.9.1-2+deb10u1) ...\n",
      "INFO:__main__:2023-08-25 21:09:15,332  run                      INFO    run: Selecting previously unselected package libedit2:s390x.\n",
      "INFO:__main__:2023-08-25 21:09:15,332  run                      INFO    run: Preparing to unpack .../22-libedit2_3.1-20181209-1_s390x.deb ...\n",
      "INFO:__main__:2023-08-25 21:09:15,334  run                      INFO    run: Unpacking libedit2:s390x (3.1-20181209-1) ...\n",
      "INFO:__main__:2023-08-25 21:09:15,368  run                      INFO    run: Selecting previously unselected package psmisc.\n",
      "INFO:__main__:2023-08-25 21:09:15,370  run                      INFO    run: Preparing to unpack .../23-psmisc_23.2-1+deb10u1_s390x.deb ...\n",
      "INFO:__main__:2023-08-25 21:09:15,373  run                      INFO    run: Unpacking psmisc (23.2-1+deb10u1) ...\n",
      "INFO:__main__:2023-08-25 21:09:15,408  run                      INFO    run: Selecting previously unselected package php-common.\n",
      "INFO:__main__:2023-08-25 21:09:15,409  run                      INFO    run: Preparing to unpack .../24-php-common_2%3a69_all.deb ...\n",
      "INFO:__main__:2023-08-25 21:09:15,412  run                      INFO    run: Unpacking php-common (2:69) ...\n",
      "INFO:__main__:2023-08-25 21:09:15,442  run                      INFO    run: Selecting previously unselected package php7.3-common.\n",
      "INFO:__main__:2023-08-25 21:09:15,442  run                      INFO    run: Preparing to unpack .../25-php7.3-common_7.3.31-1~deb10u1_s390x.deb ...\n",
      "INFO:__main__:2023-08-25 21:09:15,446  run                      INFO    run: Unpacking php7.3-common (7.3.31-1~deb10u1) ...\n",
      "INFO:__main__:2023-08-25 21:09:15,549  run                      INFO    run: Selecting previously unselected package php7.3-json.\n",
      "INFO:__main__:2023-08-25 21:09:15,550  run                      INFO    run: Preparing to unpack .../26-php7.3-json_7.3.31-1~deb10u1_s390x.deb ...\n",
      "INFO:__main__:2023-08-25 21:09:15,553  run                      INFO    run: Unpacking php7.3-json (7.3.31-1~deb10u1) ...\n",
      "INFO:__main__:2023-08-25 21:09:15,582  run                      INFO    run: Selecting previously unselected package php7.3-opcache.\n",
      "INFO:__main__:2023-08-25 21:09:15,583  run                      INFO    run: Preparing to unpack .../27-php7.3-opcache_7.3.31-1~deb10u1_s390x.deb ...\n",
      "INFO:__main__:2023-08-25 21:09:15,586  run                      INFO    run: Unpacking php7.3-opcache (7.3.31-1~deb10u1) ...\n",
      "INFO:__main__:2023-08-25 21:09:15,627  run                      INFO    run: Selecting previously unselected package php7.3-readline.\n",
      "INFO:__main__:2023-08-25 21:09:15,628  run                      INFO    run: Preparing to unpack .../28-php7.3-readline_7.3.31-1~deb10u1_s390x.deb ...\n",
      "INFO:__main__:2023-08-25 21:09:15,631  run                      INFO    run: Unpacking php7.3-readline (7.3.31-1~deb10u1) ...\n",
      "INFO:__main__:2023-08-25 21:09:15,655  run                      INFO    run: Selecting previously unselected package libargon2-1:s390x.\n",
      "INFO:__main__:2023-08-25 21:09:15,656  run                      INFO    run: Preparing to unpack .../29-libargon2-1_0~20171227-0.2_s390x.deb ...\n",
      "INFO:__main__:2023-08-25 21:09:15,659  run                      INFO    run: Unpacking libargon2-1:s390x (0~20171227-0.2) ...\n",
      "INFO:__main__:2023-08-25 21:09:15,685  run                      INFO    run: Selecting previously unselected package libsodium23:s390x.\n",
      "INFO:__main__:2023-08-25 21:09:15,686  run                      INFO    run: Preparing to unpack .../30-libsodium23_1.0.17-1_s390x.deb ...\n",
      "INFO:__main__:2023-08-25 21:09:15,689  run                      INFO    run: Unpacking libsodium23:s390x (1.0.17-1) ...\n",
      "INFO:__main__:2023-08-25 21:09:15,723  run                      INFO    run: Selecting previously unselected package php7.3-cli.\n",
      "INFO:__main__:2023-08-25 21:09:15,724  run                      INFO    run: Preparing to unpack .../31-php7.3-cli_7.3.31-1~deb10u1_s390x.deb ...\n",
      "INFO:__main__:2023-08-25 21:09:15,727  run                      INFO    run: Unpacking php7.3-cli (7.3.31-1~deb10u1) ...\n",
      "INFO:__main__:2023-08-25 21:09:15,868  run                      INFO    run: Selecting previously unselected package libapache2-mod-php7.3.\n",
      "INFO:__main__:2023-08-25 21:09:15,869  run                      INFO    run: Preparing to unpack .../32-libapache2-mod-php7.3_7.3.31-1~deb10u1_s390x.deb ...\n",
      "INFO:__main__:2023-08-25 21:09:15,872  run                      INFO    run: Unpacking libapache2-mod-php7.3 (7.3.31-1~deb10u1) ...\n",
      "INFO:__main__:2023-08-25 21:09:16,002  run                      INFO    run: Selecting previously unselected package libgpm2:s390x.\n",
      "INFO:__main__:2023-08-25 21:09:16,003  run                      INFO    run: Preparing to unpack .../33-libgpm2_1.20.7-5_s390x.deb ...\n",
      "INFO:__main__:2023-08-25 21:09:16,005  run                      INFO    run: Unpacking libgpm2:s390x (1.20.7-5) ...\n",
      "INFO:__main__:2023-08-25 21:09:16,026  run                      INFO    run: Selecting previously unselected package php7.3.\n",
      "INFO:__main__:2023-08-25 21:09:16,027  run                      INFO    run: Preparing to unpack .../34-php7.3_7.3.31-1~deb10u1_all.deb ...\n",
      "INFO:__main__:2023-08-25 21:09:16,030  run                      INFO    run: Unpacking php7.3 (7.3.31-1~deb10u1) ...\n",
      "INFO:__main__:2023-08-25 21:09:16,053  run                      INFO    run: Selecting previously unselected package php.\n",
      "INFO:__main__:2023-08-25 21:09:16,054  run                      INFO    run: Preparing to unpack .../35-php_2%3a7.3+69_all.deb ...\n",
      "INFO:__main__:2023-08-25 21:09:16,057  run                      INFO    run: Unpacking php (2:7.3+69) ...\n",
      "INFO:__main__:2023-08-25 21:09:16,084  run                      INFO    run: Selecting previously unselected package php7.3-curl.\n",
      "INFO:__main__:2023-08-25 21:09:16,085  run                      INFO    run: Preparing to unpack .../36-php7.3-curl_7.3.31-1~deb10u1_s390x.deb ...\n",
      "INFO:__main__:2023-08-25 21:09:16,088  run                      INFO    run: Unpacking php7.3-curl (7.3.31-1~deb10u1) ...\n",
      "INFO:__main__:2023-08-25 21:09:16,111  run                      INFO    run: Selecting previously unselected package php-curl.\n",
      "INFO:__main__:2023-08-25 21:09:16,112  run                      INFO    run: Preparing to unpack .../37-php-curl_2%3a7.3+69_all.deb ...\n",
      "INFO:__main__:2023-08-25 21:09:16,115  run                      INFO    run: Unpacking php-curl (2:7.3+69) ...\n",
      "INFO:__main__:2023-08-25 21:09:16,143  run                      INFO    run: Selecting previously unselected package vim-runtime.\n",
      "INFO:__main__:2023-08-25 21:09:16,144  run                      INFO    run: Preparing to unpack .../38-vim-runtime_2%3a8.1.0875-5+deb10u2_all.deb ...\n",
      "INFO:__main__:2023-08-25 21:09:16,153  run                      INFO    run: Adding 'diversion of /usr/share/vim/vim81/doc/help.txt to /usr/share/vim/vim81/doc/help.txt.vim-tiny by vim-runtime'\n",
      "INFO:__main__:2023-08-25 21:09:16,162  run                      INFO    run: Adding 'diversion of /usr/share/vim/vim81/doc/tags to /usr/share/vim/vim81/doc/tags.vim-tiny by vim-runtime'\n",
      "INFO:__main__:2023-08-25 21:09:16,165  run                      INFO    run: Unpacking vim-runtime (2:8.1.0875-5+deb10u2) ...\n",
      "INFO:__main__:2023-08-25 21:09:16,734  run                      INFO    run: Selecting previously unselected package vim.\n",
      "INFO:__main__:2023-08-25 21:09:16,736  run                      INFO    run: Preparing to unpack .../39-vim_2%3a8.1.0875-5+deb10u2_s390x.deb ...\n",
      "INFO:__main__:2023-08-25 21:09:16,742  run                      INFO    run: Unpacking vim (2:8.1.0875-5+deb10u2) ...\n",
      "INFO:__main__:2023-08-25 21:09:16,874  run                      INFO    run: Setting up lsb-base (10.2019051400) ...\n",
      "INFO:__main__:2023-08-25 21:09:16,882  run                      INFO    run: Setting up libsodium23:s390x (1.0.17-1) ...\n",
      "INFO:__main__:2023-08-25 21:09:16,891  run                      INFO    run: Setting up libgpm2:s390x (1.20.7-5) ...\n",
      "INFO:__main__:2023-08-25 21:09:16,899  run                      INFO    run: Setting up psmisc (23.2-1+deb10u1) ...\n",
      "INFO:__main__:2023-08-25 21:09:16,908  run                      INFO    run: Setting up libargon2-1:s390x (0~20171227-0.2) ...\n",
      "INFO:__main__:2023-08-25 21:09:16,915  run                      INFO    run: Setting up libprocps7:s390x (2:3.3.15-2) ...\n",
      "INFO:__main__:2023-08-25 21:09:16,923  run                      INFO    run: Setting up libbrotli1:s390x (1.0.7-2+deb10u1) ...\n",
      "INFO:__main__:2023-08-25 21:09:16,932  run                      INFO    run: Setting up libapr1:s390x (1.6.5-1+b1) ...\n",
      "INFO:__main__:2023-08-25 21:09:16,942  run                      INFO    run: Setting up libicu63:s390x (63.1-6+deb10u3) ...\n",
      "INFO:__main__:2023-08-25 21:09:16,950  run                      INFO    run: Setting up xxd (2:8.1.0875-5+deb10u2) ...\n",
      "INFO:__main__:2023-08-25 21:09:16,959  run                      INFO    run: Setting up libjansson4:s390x (2.12-1) ...\n",
      "INFO:__main__:2023-08-25 21:09:16,967  run                      INFO    run: Setting up vim-common (2:8.1.0875-5+deb10u2) ...\n",
      "INFO:__main__:2023-08-25 21:09:16,981  run                      INFO    run: Setting up libncurses6:s390x (6.1+20181013-2+deb10u2) ...\n",
      "INFO:__main__:2023-08-25 21:09:16,989  run                      INFO    run: Setting up liblua5.2-0:s390x (5.2.4-1.1+b2) ...\n",
      "INFO:__main__:2023-08-25 21:09:16,998  run                      INFO    run: Setting up sensible-utils (0.0.12) ...\n",
      "INFO:__main__:2023-08-25 21:09:17,007  run                      INFO    run: Setting up procps (2:3.3.15-2) ...\n",
      "INFO:__main__:2023-08-25 21:09:17,026  run                      INFO    run: update-alternatives: using /usr/bin/w.procps to provide /usr/bin/w (w) in auto mode\n",
      "INFO:__main__:2023-08-25 21:09:17,026  run                      INFO    run: update-alternatives: warning: skip creation of /usr/share/man/man1/w.1.gz because associated file /usr/share/man/man1/w.procps.1.gz (of link group w) doesn't exist\n",
      "INFO:__main__:2023-08-25 21:09:17,037  run                      INFO    run: Setting up apache2-data (2.4.38-3+deb10u8) ...\n",
      "INFO:__main__:2023-08-25 21:09:17,045  run                      INFO    run: Setting up vim-runtime (2:8.1.0875-5+deb10u2) ...\n",
      "INFO:__main__:2023-08-25 21:09:17,106  run                      INFO    run: Setting up libbsd0:s390x (0.9.1-2+deb10u1) ...\n",
      "INFO:__main__:2023-08-25 21:09:17,114  run                      INFO    run: Setting up libxml2:s390x (2.9.4+dfsg1-7+deb10u4) ...\n",
      "INFO:__main__:2023-08-25 21:09:17,121  run                      INFO    run: Setting up libaprutil1:s390x (1.6.1-4) ...\n",
      "INFO:__main__:2023-08-25 21:09:17,129  run                      INFO    run: Setting up php-common (2:69) ...\n",
      "INFO:__main__:2023-08-25 21:09:17,241  run                      INFO    run: Setting up vim (2:8.1.0875-5+deb10u2) ...\n",
      "INFO:__main__:2023-08-25 21:09:17,249  run                      INFO    run: update-alternatives: using /usr/bin/vim.basic to provide /usr/bin/vim (vim) in auto mode\n",
      "INFO:__main__:2023-08-25 21:09:17,251  run                      INFO    run: update-alternatives: using /usr/bin/vim.basic to provide /usr/bin/vimdiff (vimdiff) in auto mode\n",
      "INFO:__main__:2023-08-25 21:09:17,254  run                      INFO    run: update-alternatives: using /usr/bin/vim.basic to provide /usr/bin/rvim (rvim) in auto mode\n",
      "INFO:__main__:2023-08-25 21:09:17,256  run                      INFO    run: update-alternatives: using /usr/bin/vim.basic to provide /usr/bin/rview (rview) in auto mode\n",
      "INFO:__main__:2023-08-25 21:09:17,259  run                      INFO    run: update-alternatives: using /usr/bin/vim.basic to provide /usr/bin/vi (vi) in auto mode\n",
      "INFO:__main__:2023-08-25 21:09:17,259  run                      INFO    run: update-alternatives: warning: skip creation of /usr/share/man/da/man1/vi.1.gz because associated file /usr/share/man/da/man1/vim.1.gz (of link group vi) doesn't exist\n",
      "INFO:__main__:2023-08-25 21:09:17,259  run                      INFO    run: update-alternatives: warning: skip creation of /usr/share/man/de/man1/vi.1.gz because associated file /usr/share/man/de/man1/vim.1.gz (of link group vi) doesn't exist\n",
      "INFO:__main__:2023-08-25 21:09:17,259  run                      INFO    run: update-alternatives: warning: skip creation of /usr/share/man/fr/man1/vi.1.gz because associated file /usr/share/man/fr/man1/vim.1.gz (of link group vi) doesn't exist\n",
      "INFO:__main__:2023-08-25 21:09:17,260  run                      INFO    run: update-alternatives: warning: skip creation of /usr/share/man/it/man1/vi.1.gz because associated file /usr/share/man/it/man1/vim.1.gz (of link group vi) doesn't exist\n",
      "INFO:__main__:2023-08-25 21:09:17,260  run                      INFO    run: update-alternatives: warning: skip creation of /usr/share/man/ja/man1/vi.1.gz because associated file /usr/share/man/ja/man1/vim.1.gz (of link group vi) doesn't exist\n",
      "INFO:__main__:2023-08-25 21:09:17,260  run                      INFO    run: update-alternatives: warning: skip creation of /usr/share/man/pl/man1/vi.1.gz because associated file /usr/share/man/pl/man1/vim.1.gz (of link group vi) doesn't exist\n",
      "INFO:__main__:2023-08-25 21:09:17,260  run                      INFO    run: update-alternatives: warning: skip creation of /usr/share/man/ru/man1/vi.1.gz because associated file /usr/share/man/ru/man1/vim.1.gz (of link group vi) doesn't exist\n",
      "INFO:__main__:2023-08-25 21:09:17,260  run                      INFO    run: update-alternatives: warning: skip creation of /usr/share/man/man1/vi.1.gz because associated file /usr/share/man/man1/vim.1.gz (of link group vi) doesn't exist\n",
      "INFO:__main__:2023-08-25 21:09:17,262  run                      INFO    run: update-alternatives: using /usr/bin/vim.basic to provide /usr/bin/view (view) in auto mode\n",
      "INFO:__main__:2023-08-25 21:09:17,262  run                      INFO    run: update-alternatives: warning: skip creation of /usr/share/man/da/man1/view.1.gz because associated file /usr/share/man/da/man1/vim.1.gz (of link group view) doesn't exist\n",
      "INFO:__main__:2023-08-25 21:09:17,262  run                      INFO    run: update-alternatives: warning: skip creation of /usr/share/man/de/man1/view.1.gz because associated file /usr/share/man/de/man1/vim.1.gz (of link group view) doesn't exist\n",
      "INFO:__main__:2023-08-25 21:09:17,263  run                      INFO    run: update-alternatives: warning: skip creation of /usr/share/man/fr/man1/view.1.gz because associated file /usr/share/man/fr/man1/vim.1.gz (of link group view) doesn't exist\n",
      "INFO:__main__:2023-08-25 21:09:17,263  run                      INFO    run: update-alternatives: warning: skip creation of /usr/share/man/it/man1/view.1.gz because associated file /usr/share/man/it/man1/vim.1.gz (of link group view) doesn't exist\n",
      "INFO:__main__:2023-08-25 21:09:17,263  run                      INFO    run: update-alternatives: warning: skip creation of /usr/share/man/ja/man1/view.1.gz because associated file /usr/share/man/ja/man1/vim.1.gz (of link group view) doesn't exist\n",
      "INFO:__main__:2023-08-25 21:09:17,263  run                      INFO    run: update-alternatives: warning: skip creation of /usr/share/man/pl/man1/view.1.gz because associated file /usr/share/man/pl/man1/vim.1.gz (of link group view) doesn't exist\n",
      "INFO:__main__:2023-08-25 21:09:17,263  run                      INFO    run: update-alternatives: warning: skip creation of /usr/share/man/ru/man1/view.1.gz because associated file /usr/share/man/ru/man1/vim.1.gz (of link group view) doesn't exist\n",
      "INFO:__main__:2023-08-25 21:09:17,263  run                      INFO    run: update-alternatives: warning: skip creation of /usr/share/man/man1/view.1.gz because associated file /usr/share/man/man1/vim.1.gz (of link group view) doesn't exist\n",
      "INFO:__main__:2023-08-25 21:09:17,266  run                      INFO    run: update-alternatives: using /usr/bin/vim.basic to provide /usr/bin/ex (ex) in auto mode\n",
      "INFO:__main__:2023-08-25 21:09:17,266  run                      INFO    run: update-alternatives: warning: skip creation of /usr/share/man/da/man1/ex.1.gz because associated file /usr/share/man/da/man1/vim.1.gz (of link group ex) doesn't exist\n",
      "INFO:__main__:2023-08-25 21:09:17,266  run                      INFO    run: update-alternatives: warning: skip creation of /usr/share/man/de/man1/ex.1.gz because associated file /usr/share/man/de/man1/vim.1.gz (of link group ex) doesn't exist\n",
      "INFO:__main__:2023-08-25 21:09:17,266  run                      INFO    run: update-alternatives: warning: skip creation of /usr/share/man/fr/man1/ex.1.gz because associated file /usr/share/man/fr/man1/vim.1.gz (of link group ex) doesn't exist\n",
      "INFO:__main__:2023-08-25 21:09:17,266  run                      INFO    run: update-alternatives: warning: skip creation of /usr/share/man/it/man1/ex.1.gz because associated file /usr/share/man/it/man1/vim.1.gz (of link group ex) doesn't exist\n",
      "INFO:__main__:2023-08-25 21:09:17,266  run                      INFO    run: update-alternatives: warning: skip creation of /usr/share/man/ja/man1/ex.1.gz because associated file /usr/share/man/ja/man1/vim.1.gz (of link group ex) doesn't exist\n",
      "INFO:__main__:2023-08-25 21:09:17,267  run                      INFO    run: update-alternatives: warning: skip creation of /usr/share/man/pl/man1/ex.1.gz because associated file /usr/share/man/pl/man1/vim.1.gz (of link group ex) doesn't exist\n",
      "INFO:__main__:2023-08-25 21:09:17,267  run                      INFO    run: update-alternatives: warning: skip creation of /usr/share/man/ru/man1/ex.1.gz because associated file /usr/share/man/ru/man1/vim.1.gz (of link group ex) doesn't exist\n",
      "INFO:__main__:2023-08-25 21:09:17,267  run                      INFO    run: update-alternatives: warning: skip creation of /usr/share/man/man1/ex.1.gz because associated file /usr/share/man/man1/vim.1.gz (of link group ex) doesn't exist\n",
      "INFO:__main__:2023-08-25 21:09:17,270  run                      INFO    run: update-alternatives: using /usr/bin/vim.basic to provide /usr/bin/editor (editor) in auto mode\n",
      "INFO:__main__:2023-08-25 21:09:17,270  run                      INFO    run: update-alternatives: warning: skip creation of /usr/share/man/da/man1/editor.1.gz because associated file /usr/share/man/da/man1/vim.1.gz (of link group editor) doesn't exist\n",
      "INFO:__main__:2023-08-25 21:09:17,270  run                      INFO    run: update-alternatives: warning: skip creation of /usr/share/man/de/man1/editor.1.gz because associated file /usr/share/man/de/man1/vim.1.gz (of link group editor) doesn't exist\n",
      "INFO:__main__:2023-08-25 21:09:17,270  run                      INFO    run: update-alternatives: warning: skip creation of /usr/share/man/fr/man1/editor.1.gz because associated file /usr/share/man/fr/man1/vim.1.gz (of link group editor) doesn't exist\n",
      "INFO:__main__:2023-08-25 21:09:17,270  run                      INFO    run: update-alternatives: warning: skip creation of /usr/share/man/it/man1/editor.1.gz because associated file /usr/share/man/it/man1/vim.1.gz (of link group editor) doesn't exist\n",
      "INFO:__main__:2023-08-25 21:09:17,270  run                      INFO    run: update-alternatives: warning: skip creation of /usr/share/man/ja/man1/editor.1.gz because associated file /usr/share/man/ja/man1/vim.1.gz (of link group editor) doesn't exist\n",
      "INFO:__main__:2023-08-25 21:09:17,270  run                      INFO    run: update-alternatives: warning: skip creation of /usr/share/man/pl/man1/editor.1.gz because associated file /usr/share/man/pl/man1/vim.1.gz (of link group editor) doesn't exist\n",
      "INFO:__main__:2023-08-25 21:09:17,271  run                      INFO    run: update-alternatives: warning: skip creation of /usr/share/man/ru/man1/editor.1.gz because associated file /usr/share/man/ru/man1/vim.1.gz (of link group editor) doesn't exist\n",
      "INFO:__main__:2023-08-25 21:09:17,271  run                      INFO    run: update-alternatives: warning: skip creation of /usr/share/man/man1/editor.1.gz because associated file /usr/share/man/man1/vim.1.gz (of link group editor) doesn't exist\n",
      "INFO:__main__:2023-08-25 21:09:17,278  run                      INFO    run: Setting up libedit2:s390x (3.1-20181209-1) ...\n",
      "INFO:__main__:2023-08-25 21:09:17,289  run                      INFO    run: Setting up libaprutil1-ldap:s390x (1.6.1-4) ...\n",
      "INFO:__main__:2023-08-25 21:09:17,297  run                      INFO    run: Setting up libaprutil1-dbd-sqlite3:s390x (1.6.1-4) ...\n",
      "INFO:__main__:2023-08-25 21:09:17,306  run                      INFO    run: Setting up ucf (3.0038+nmu1) ...\n",
      "INFO:__main__:2023-08-25 21:09:17,374  run                      INFO    run: debconf: unable to initialize frontend: Dialog\n",
      "INFO:__main__:2023-08-25 21:09:17,374  run                      INFO    run: debconf: (TERM is not set, so the dialog frontend is not usable.)\n",
      "INFO:__main__:2023-08-25 21:09:17,374  run                      INFO    run: debconf: falling back to frontend: Readline\n",
      "INFO:__main__:2023-08-25 21:09:17,402  run                      INFO    run: Setting up apache2-utils (2.4.38-3+deb10u8) ...\n",
      "INFO:__main__:2023-08-25 21:09:17,415  run                      INFO    run: Setting up apache2-bin (2.4.38-3+deb10u8) ...\n",
      "INFO:__main__:2023-08-25 21:09:17,423  run                      INFO    run: Setting up php7.3-common (7.3.31-1~deb10u1) ...\n",
      "INFO:__main__:2023-08-25 21:09:17,502  run                      INFO    run: debconf: unable to initialize frontend: Dialog\n",
      "INFO:__main__:2023-08-25 21:09:17,502  run                      INFO    run: debconf: (TERM is not set, so the dialog frontend is not usable.)\n",
      "INFO:__main__:2023-08-25 21:09:17,502  run                      INFO    run: debconf: falling back to frontend: Readline\n",
      "INFO:__main__:2023-08-25 21:09:17,537  run                      INFO    run: \n",
      "INFO:__main__:2023-08-25 21:09:17,538  run                      INFO    run: Creating config file /etc/php/7.3/mods-available/calendar.ini with new version\n",
      "INFO:__main__:2023-08-25 21:09:17,679  run                      INFO    run: debconf: unable to initialize frontend: Dialog\n",
      "INFO:__main__:2023-08-25 21:09:17,679  run                      INFO    run: debconf: (TERM is not set, so the dialog frontend is not usable.)\n",
      "INFO:__main__:2023-08-25 21:09:17,679  run                      INFO    run: debconf: falling back to frontend: Readline\n",
      "INFO:__main__:2023-08-25 21:09:17,712  run                      INFO    run: \n",
      "INFO:__main__:2023-08-25 21:09:17,712  run                      INFO    run: Creating config file /etc/php/7.3/mods-available/ctype.ini with new version\n",
      "INFO:__main__:2023-08-25 21:09:17,852  run                      INFO    run: debconf: unable to initialize frontend: Dialog\n",
      "INFO:__main__:2023-08-25 21:09:17,852  run                      INFO    run: debconf: (TERM is not set, so the dialog frontend is not usable.)\n",
      "INFO:__main__:2023-08-25 21:09:17,852  run                      INFO    run: debconf: falling back to frontend: Readline\n",
      "INFO:__main__:2023-08-25 21:09:17,885  run                      INFO    run: \n",
      "INFO:__main__:2023-08-25 21:09:17,885  run                      INFO    run: Creating config file /etc/php/7.3/mods-available/exif.ini with new version\n",
      "INFO:__main__:2023-08-25 21:09:18,028  run                      INFO    run: debconf: unable to initialize frontend: Dialog\n",
      "INFO:__main__:2023-08-25 21:09:18,028  run                      INFO    run: debconf: (TERM is not set, so the dialog frontend is not usable.)\n",
      "INFO:__main__:2023-08-25 21:09:18,028  run                      INFO    run: debconf: falling back to frontend: Readline\n",
      "INFO:__main__:2023-08-25 21:09:18,061  run                      INFO    run: \n",
      "INFO:__main__:2023-08-25 21:09:18,061  run                      INFO    run: Creating config file /etc/php/7.3/mods-available/fileinfo.ini with new version\n",
      "INFO:__main__:2023-08-25 21:09:18,209  run                      INFO    run: debconf: unable to initialize frontend: Dialog\n",
      "INFO:__main__:2023-08-25 21:09:18,209  run                      INFO    run: debconf: (TERM is not set, so the dialog frontend is not usable.)\n",
      "INFO:__main__:2023-08-25 21:09:18,209  run                      INFO    run: debconf: falling back to frontend: Readline\n",
      "INFO:__main__:2023-08-25 21:09:18,241  run                      INFO    run: \n",
      "INFO:__main__:2023-08-25 21:09:18,241  run                      INFO    run: Creating config file /etc/php/7.3/mods-available/ftp.ini with new version\n",
      "INFO:__main__:2023-08-25 21:09:18,388  run                      INFO    run: debconf: unable to initialize frontend: Dialog\n",
      "INFO:__main__:2023-08-25 21:09:18,388  run                      INFO    run: debconf: (TERM is not set, so the dialog frontend is not usable.)\n",
      "INFO:__main__:2023-08-25 21:09:18,388  run                      INFO    run: debconf: falling back to frontend: Readline\n",
      "INFO:__main__:2023-08-25 21:09:18,420  run                      INFO    run: \n",
      "INFO:__main__:2023-08-25 21:09:18,421  run                      INFO    run: Creating config file /etc/php/7.3/mods-available/gettext.ini with new version\n",
      "INFO:__main__:2023-08-25 21:09:18,568  run                      INFO    run: debconf: unable to initialize frontend: Dialog\n",
      "INFO:__main__:2023-08-25 21:09:18,568  run                      INFO    run: debconf: (TERM is not set, so the dialog frontend is not usable.)\n",
      "INFO:__main__:2023-08-25 21:09:18,568  run                      INFO    run: debconf: falling back to frontend: Readline\n",
      "INFO:__main__:2023-08-25 21:09:18,601  run                      INFO    run: \n",
      "INFO:__main__:2023-08-25 21:09:18,601  run                      INFO    run: Creating config file /etc/php/7.3/mods-available/iconv.ini with new version\n",
      "INFO:__main__:2023-08-25 21:09:18,750  run                      INFO    run: debconf: unable to initialize frontend: Dialog\n",
      "INFO:__main__:2023-08-25 21:09:18,750  run                      INFO    run: debconf: (TERM is not set, so the dialog frontend is not usable.)\n",
      "INFO:__main__:2023-08-25 21:09:18,750  run                      INFO    run: debconf: falling back to frontend: Readline\n",
      "INFO:__main__:2023-08-25 21:09:18,783  run                      INFO    run: \n",
      "INFO:__main__:2023-08-25 21:09:18,783  run                      INFO    run: Creating config file /etc/php/7.3/mods-available/pdo.ini with new version\n",
      "INFO:__main__:2023-08-25 21:09:18,934  run                      INFO    run: debconf: unable to initialize frontend: Dialog\n",
      "INFO:__main__:2023-08-25 21:09:18,934  run                      INFO    run: debconf: (TERM is not set, so the dialog frontend is not usable.)\n",
      "INFO:__main__:2023-08-25 21:09:18,934  run                      INFO    run: debconf: falling back to frontend: Readline\n",
      "INFO:__main__:2023-08-25 21:09:18,968  run                      INFO    run: \n",
      "INFO:__main__:2023-08-25 21:09:18,968  run                      INFO    run: Creating config file /etc/php/7.3/mods-available/phar.ini with new version\n",
      "INFO:__main__:2023-08-25 21:09:19,130  run                      INFO    run: debconf: unable to initialize frontend: Dialog\n",
      "INFO:__main__:2023-08-25 21:09:19,130  run                      INFO    run: debconf: (TERM is not set, so the dialog frontend is not usable.)\n",
      "INFO:__main__:2023-08-25 21:09:19,130  run                      INFO    run: debconf: falling back to frontend: Readline\n",
      "INFO:__main__:2023-08-25 21:09:19,164  run                      INFO    run: \n",
      "INFO:__main__:2023-08-25 21:09:19,164  run                      INFO    run: Creating config file /etc/php/7.3/mods-available/posix.ini with new version\n",
      "INFO:__main__:2023-08-25 21:09:19,324  run                      INFO    run: debconf: unable to initialize frontend: Dialog\n",
      "INFO:__main__:2023-08-25 21:09:19,324  run                      INFO    run: debconf: (TERM is not set, so the dialog frontend is not usable.)\n",
      "INFO:__main__:2023-08-25 21:09:19,324  run                      INFO    run: debconf: falling back to frontend: Readline\n",
      "INFO:__main__:2023-08-25 21:09:19,356  run                      INFO    run: \n",
      "INFO:__main__:2023-08-25 21:09:19,356  run                      INFO    run: Creating config file /etc/php/7.3/mods-available/shmop.ini with new version\n",
      "INFO:__main__:2023-08-25 21:09:19,534  run                      INFO    run: debconf: unable to initialize frontend: Dialog\n",
      "INFO:__main__:2023-08-25 21:09:19,534  run                      INFO    run: debconf: (TERM is not set, so the dialog frontend is not usable.)\n",
      "INFO:__main__:2023-08-25 21:09:19,534  run                      INFO    run: debconf: falling back to frontend: Readline\n",
      "INFO:__main__:2023-08-25 21:09:19,568  run                      INFO    run: \n",
      "INFO:__main__:2023-08-25 21:09:19,568  run                      INFO    run: Creating config file /etc/php/7.3/mods-available/sockets.ini with new version\n",
      "INFO:__main__:2023-08-25 21:09:19,726  run                      INFO    run: debconf: unable to initialize frontend: Dialog\n",
      "INFO:__main__:2023-08-25 21:09:19,726  run                      INFO    run: debconf: (TERM is not set, so the dialog frontend is not usable.)\n",
      "INFO:__main__:2023-08-25 21:09:19,726  run                      INFO    run: debconf: falling back to frontend: Readline\n",
      "INFO:__main__:2023-08-25 21:09:19,760  run                      INFO    run: \n",
      "INFO:__main__:2023-08-25 21:09:19,760  run                      INFO    run: Creating config file /etc/php/7.3/mods-available/sysvmsg.ini with new version\n",
      "INFO:__main__:2023-08-25 21:09:19,915  run                      INFO    run: debconf: unable to initialize frontend: Dialog\n",
      "INFO:__main__:2023-08-25 21:09:19,915  run                      INFO    run: debconf: (TERM is not set, so the dialog frontend is not usable.)\n",
      "INFO:__main__:2023-08-25 21:09:19,915  run                      INFO    run: debconf: falling back to frontend: Readline\n",
      "INFO:__main__:2023-08-25 21:09:19,948  run                      INFO    run: \n",
      "INFO:__main__:2023-08-25 21:09:19,948  run                      INFO    run: Creating config file /etc/php/7.3/mods-available/sysvsem.ini with new version\n",
      "INFO:__main__:2023-08-25 21:09:20,102  run                      INFO    run: debconf: unable to initialize frontend: Dialog\n",
      "INFO:__main__:2023-08-25 21:09:20,102  run                      INFO    run: debconf: (TERM is not set, so the dialog frontend is not usable.)\n",
      "INFO:__main__:2023-08-25 21:09:20,102  run                      INFO    run: debconf: falling back to frontend: Readline\n",
      "INFO:__main__:2023-08-25 21:09:20,134  run                      INFO    run: \n",
      "INFO:__main__:2023-08-25 21:09:20,134  run                      INFO    run: Creating config file /etc/php/7.3/mods-available/sysvshm.ini with new version\n",
      "INFO:__main__:2023-08-25 21:09:20,287  run                      INFO    run: debconf: unable to initialize frontend: Dialog\n",
      "INFO:__main__:2023-08-25 21:09:20,287  run                      INFO    run: debconf: (TERM is not set, so the dialog frontend is not usable.)\n",
      "INFO:__main__:2023-08-25 21:09:20,287  run                      INFO    run: debconf: falling back to frontend: Readline\n",
      "INFO:__main__:2023-08-25 21:09:20,320  run                      INFO    run: \n",
      "INFO:__main__:2023-08-25 21:09:20,320  run                      INFO    run: Creating config file /etc/php/7.3/mods-available/tokenizer.ini with new version\n",
      "INFO:__main__:2023-08-25 21:09:20,406  run                      INFO    run: Setting up php7.3-opcache (7.3.31-1~deb10u1) ...\n",
      "INFO:__main__:2023-08-25 21:09:20,480  run                      INFO    run: debconf: unable to initialize frontend: Dialog\n",
      "INFO:__main__:2023-08-25 21:09:20,480  run                      INFO    run: debconf: (TERM is not set, so the dialog frontend is not usable.)\n",
      "INFO:__main__:2023-08-25 21:09:20,480  run                      INFO    run: debconf: falling back to frontend: Readline\n",
      "INFO:__main__:2023-08-25 21:09:20,512  run                      INFO    run: \n",
      "INFO:__main__:2023-08-25 21:09:20,513  run                      INFO    run: Creating config file /etc/php/7.3/mods-available/opcache.ini with new version\n",
      "INFO:__main__:2023-08-25 21:09:20,598  run                      INFO    run: Setting up php7.3-curl (7.3.31-1~deb10u1) ...\n",
      "INFO:__main__:2023-08-25 21:09:20,672  run                      INFO    run: debconf: unable to initialize frontend: Dialog\n",
      "INFO:__main__:2023-08-25 21:09:20,672  run                      INFO    run: debconf: (TERM is not set, so the dialog frontend is not usable.)\n",
      "INFO:__main__:2023-08-25 21:09:20,672  run                      INFO    run: debconf: falling back to frontend: Readline\n",
      "INFO:__main__:2023-08-25 21:09:20,705  run                      INFO    run: \n",
      "INFO:__main__:2023-08-25 21:09:20,705  run                      INFO    run: Creating config file /etc/php/7.3/mods-available/curl.ini with new version\n",
      "INFO:__main__:2023-08-25 21:09:20,790  run                      INFO    run: Setting up php-curl (2:7.3+69) ...\n",
      "INFO:__main__:2023-08-25 21:09:20,798  run                      INFO    run: Setting up php7.3-json (7.3.31-1~deb10u1) ...\n",
      "INFO:__main__:2023-08-25 21:09:20,872  run                      INFO    run: debconf: unable to initialize frontend: Dialog\n",
      "INFO:__main__:2023-08-25 21:09:20,872  run                      INFO    run: debconf: (TERM is not set, so the dialog frontend is not usable.)\n",
      "INFO:__main__:2023-08-25 21:09:20,872  run                      INFO    run: debconf: falling back to frontend: Readline\n",
      "INFO:__main__:2023-08-25 21:09:20,904  run                      INFO    run: \n",
      "INFO:__main__:2023-08-25 21:09:20,904  run                      INFO    run: Creating config file /etc/php/7.3/mods-available/json.ini with new version\n",
      "INFO:__main__:2023-08-25 21:09:20,989  run                      INFO    run: Setting up php7.3-readline (7.3.31-1~deb10u1) ...\n",
      "INFO:__main__:2023-08-25 21:09:21,063  run                      INFO    run: debconf: unable to initialize frontend: Dialog\n",
      "INFO:__main__:2023-08-25 21:09:21,063  run                      INFO    run: debconf: (TERM is not set, so the dialog frontend is not usable.)\n",
      "INFO:__main__:2023-08-25 21:09:21,063  run                      INFO    run: debconf: falling back to frontend: Readline\n",
      "INFO:__main__:2023-08-25 21:09:21,096  run                      INFO    run: \n",
      "INFO:__main__:2023-08-25 21:09:21,096  run                      INFO    run: Creating config file /etc/php/7.3/mods-available/readline.ini with new version\n",
      "INFO:__main__:2023-08-25 21:09:21,180  run                      INFO    run: Setting up apache2 (2.4.38-3+deb10u8) ...\n",
      "INFO:__main__:2023-08-25 21:09:21,663  run                      INFO    run: Enabling module mpm_event.\n",
      "INFO:__main__:2023-08-25 21:09:21,689  run                      INFO    run: Enabling module authz_core.\n",
      "INFO:__main__:2023-08-25 21:09:21,691  run                      INFO    run: Enabling module authz_host.\n",
      "INFO:__main__:2023-08-25 21:09:21,715  run                      INFO    run: Enabling module authn_core.\n",
      "INFO:__main__:2023-08-25 21:09:21,717  run                      INFO    run: Enabling module auth_basic.\n",
      "INFO:__main__:2023-08-25 21:09:21,741  run                      INFO    run: Enabling module access_compat.\n",
      "INFO:__main__:2023-08-25 21:09:21,765  run                      INFO    run: Enabling module authn_file.\n",
      "INFO:__main__:2023-08-25 21:09:21,788  run                      INFO    run: Enabling module authz_user.\n",
      "INFO:__main__:2023-08-25 21:09:21,812  run                      INFO    run: Enabling module alias.\n",
      "INFO:__main__:2023-08-25 21:09:21,836  run                      INFO    run: Enabling module dir.\n",
      "INFO:__main__:2023-08-25 21:09:21,860  run                      INFO    run: Enabling module autoindex.\n",
      "INFO:__main__:2023-08-25 21:09:21,884  run                      INFO    run: Enabling module env.\n",
      "INFO:__main__:2023-08-25 21:09:21,907  run                      INFO    run: Enabling module mime.\n",
      "INFO:__main__:2023-08-25 21:09:21,931  run                      INFO    run: Enabling module negotiation.\n",
      "INFO:__main__:2023-08-25 21:09:21,955  run                      INFO    run: Enabling module setenvif.\n",
      "INFO:__main__:2023-08-25 21:09:21,979  run                      INFO    run: Enabling module filter.\n",
      "INFO:__main__:2023-08-25 21:09:22,002  run                      INFO    run: Enabling module deflate.\n",
      "INFO:__main__:2023-08-25 21:09:22,026  run                      INFO    run: Enabling module status.\n",
      "INFO:__main__:2023-08-25 21:09:22,050  run                      INFO    run: Enabling module reqtimeout.\n",
      "INFO:__main__:2023-08-25 21:09:22,074  run                      INFO    run: Enabling conf charset.\n",
      "INFO:__main__:2023-08-25 21:09:22,098  run                      INFO    run: Enabling conf localized-error-pages.\n",
      "INFO:__main__:2023-08-25 21:09:22,121  run                      INFO    run: Enabling conf other-vhosts-access-log.\n",
      "INFO:__main__:2023-08-25 21:09:22,145  run                      INFO    run: Enabling conf security.\n",
      "INFO:__main__:2023-08-25 21:09:22,169  run                      INFO    run: Enabling conf serve-cgi-bin.\n",
      "INFO:__main__:2023-08-25 21:09:22,192  run                      INFO    run: Enabling site 000-default.\n",
      "INFO:__main__:2023-08-25 21:09:22,402  run                      INFO    run: invoke-rc.d: could not determine current runlevel\n",
      "INFO:__main__:2023-08-25 21:09:22,404  run                      INFO    run: invoke-rc.d: policy-rc.d denied execution of start.\n",
      "INFO:__main__:2023-08-25 21:09:22,485  run                      INFO    run: Setting up php7.3-cli (7.3.31-1~deb10u1) ...\n",
      "INFO:__main__:2023-08-25 21:09:22,491  run                      INFO    run: update-alternatives: using /usr/bin/php7.3 to provide /usr/bin/php (php) in auto mode\n",
      "INFO:__main__:2023-08-25 21:09:22,491  run                      INFO    run: update-alternatives: warning: skip creation of /usr/share/man/man1/php.1.gz because associated file /usr/share/man/man1/php7.3.1.gz (of link group php) doesn't exist\n",
      "INFO:__main__:2023-08-25 21:09:22,493  run                      INFO    run: update-alternatives: using /usr/bin/phar7.3 to provide /usr/bin/phar (phar) in auto mode\n",
      "INFO:__main__:2023-08-25 21:09:22,494  run                      INFO    run: update-alternatives: warning: skip creation of /usr/share/man/man1/phar.1.gz because associated file /usr/share/man/man1/phar7.3.1.gz (of link group phar) doesn't exist\n",
      "INFO:__main__:2023-08-25 21:09:22,496  run                      INFO    run: update-alternatives: using /usr/bin/phar.phar7.3 to provide /usr/bin/phar.phar (phar.phar) in auto mode\n",
      "INFO:__main__:2023-08-25 21:09:22,496  run                      INFO    run: update-alternatives: warning: skip creation of /usr/share/man/man1/phar.phar.1.gz because associated file /usr/share/man/man1/phar.phar7.3.1.gz (of link group phar.phar) doesn't exist\n",
      "INFO:__main__:2023-08-25 21:09:22,568  run                      INFO    run: debconf: unable to initialize frontend: Dialog\n",
      "INFO:__main__:2023-08-25 21:09:22,568  run                      INFO    run: debconf: (TERM is not set, so the dialog frontend is not usable.)\n",
      "INFO:__main__:2023-08-25 21:09:22,568  run                      INFO    run: debconf: falling back to frontend: Readline\n",
      "INFO:__main__:2023-08-25 21:09:22,601  run                      INFO    run: \n",
      "INFO:__main__:2023-08-25 21:09:22,601  run                      INFO    run: Creating config file /etc/php/7.3/cli/php.ini with new version\n",
      "INFO:__main__:2023-08-25 21:09:22,851  run                      INFO    run: Setting up libapache2-mod-php7.3 (7.3.31-1~deb10u1) ...\n",
      "INFO:__main__:2023-08-25 21:09:22,938  run                      INFO    run: debconf: unable to initialize frontend: Dialog\n",
      "INFO:__main__:2023-08-25 21:09:22,938  run                      INFO    run: debconf: (TERM is not set, so the dialog frontend is not usable.)\n",
      "INFO:__main__:2023-08-25 21:09:22,938  run                      INFO    run: debconf: falling back to frontend: Readline\n",
      "INFO:__main__:2023-08-25 21:09:22,971  run                      INFO    run: \n",
      "INFO:__main__:2023-08-25 21:09:22,971  run                      INFO    run: Creating config file /etc/php/7.3/apache2/php.ini with new version\n",
      "INFO:__main__:2023-08-25 21:09:23,410  run                      INFO    run: Module mpm_event disabled.\n",
      "INFO:__main__:2023-08-25 21:09:23,432  run                      INFO    run: Enabling module mpm_prefork.\n",
      "INFO:__main__:2023-08-25 21:09:23,434  run                      INFO    run: apache2_switch_mpm Switch to prefork\n",
      "INFO:__main__:2023-08-25 21:09:23,484  run                      INFO    run: invoke-rc.d: could not determine current runlevel\n",
      "INFO:__main__:2023-08-25 21:09:23,486  run                      INFO    run: invoke-rc.d: policy-rc.d denied execution of restart.\n",
      "INFO:__main__:2023-08-25 21:09:23,542  run                      INFO    run: apache2_invoke: Enable module php7.3\n",
      "INFO:__main__:2023-08-25 21:09:23,577  run                      INFO    run: invoke-rc.d: could not determine current runlevel\n",
      "INFO:__main__:2023-08-25 21:09:23,579  run                      INFO    run: invoke-rc.d: policy-rc.d denied execution of restart.\n",
      "INFO:__main__:2023-08-25 21:09:23,586  run                      INFO    run: Setting up php7.3 (7.3.31-1~deb10u1) ...\n",
      "INFO:__main__:2023-08-25 21:09:23,598  run                      INFO    run: Setting up php (2:7.3+69) ...\n",
      "INFO:__main__:2023-08-25 21:09:23,608  run                      INFO    run: Processing triggers for libc-bin (2.28-10+deb10u1) ...\n",
      "INFO:__main__:2023-08-25 21:09:23,641  run                      INFO    run: Processing triggers for mime-support (3.62) ...\n",
      "INFO:__main__:2023-08-25 21:09:24,143  run                      INFO    run: Reading package lists...\n",
      "INFO:__main__:2023-08-25 21:09:24,233  run                      INFO    run: Building dependency tree...\n",
      "INFO:__main__:2023-08-25 21:09:24,234  run                      INFO    run: Reading state information...\n",
      "INFO:__main__:2023-08-25 21:09:24,306  run                      INFO    run: The following additional packages will be installed:\n",
      "INFO:__main__:2023-08-25 21:09:24,306  run                      INFO    run:   libpng16-16 libpython-stdlib libpython2-stdlib libpython2.7-minimal\n",
      "INFO:__main__:2023-08-25 21:09:24,307  run                      INFO    run:   libpython2.7-stdlib libzip4 php7.3-zip python-minimal python2\n",
      "INFO:__main__:2023-08-25 21:09:24,307  run                      INFO    run:   python2-minimal python2.7 python2.7-minimal zlib1g-dev\n",
      "INFO:__main__:2023-08-25 21:09:24,307  run                      INFO    run: Suggested packages:\n",
      "INFO:__main__:2023-08-25 21:09:24,307  run                      INFO    run:   sqlite3-doc python-doc python-tk python2-doc python2.7-doc binfmt-support\n",
      "INFO:__main__:2023-08-25 21:09:24,307  run                      INFO    run: Recommended packages:\n",
      "INFO:__main__:2023-08-25 21:09:24,307  run                      INFO    run:   libpng-tools\n",
      "INFO:__main__:2023-08-25 21:09:24,513  run                      INFO    run: The following NEW packages will be installed:\n",
      "INFO:__main__:2023-08-25 21:09:24,513  run                      INFO    run:   libpng-dev libpng16-16 libpython-stdlib libpython2-stdlib\n",
      "INFO:__main__:2023-08-25 21:09:24,514  run                      INFO    run:   libpython2.7-minimal libpython2.7-stdlib libsqlite3-dev libzip-dev libzip4\n",
      "INFO:__main__:2023-08-25 21:09:24,514  run                      INFO    run:   php-zip php7.3-zip python python-minimal python2 python2-minimal python2.7\n",
      "INFO:__main__:2023-08-25 21:09:24,514  run                      INFO    run:   python2.7-minimal sqlite3 zlib1g-dev\n",
      "INFO:__main__:2023-08-25 21:09:24,529  run                      INFO    run: 0 upgraded, 19 newly installed, 0 to remove and 0 not upgraded.\n",
      "INFO:__main__:2023-08-25 21:09:24,529  run                      INFO    run: Need to get 6571 kB of archives.\n",
      "INFO:__main__:2023-08-25 21:09:24,529  run                      INFO    run: After this operation, 24.3 MB of additional disk space will be used.\n",
      "INFO:__main__:2023-08-25 21:09:24,529  run                      INFO    run: Get:1 http://deb.debian.org/debian buster/main s390x libpython2.7-minimal s390x 2.7.16-2+deb10u1 [395 kB]\n",
      "INFO:__main__:2023-08-25 21:09:24,537  run                      INFO    run: Get:2 http://deb.debian.org/debian buster/main s390x python2.7-minimal s390x 2.7.16-2+deb10u1 [1234 kB]\n",
      "INFO:__main__:2023-08-25 21:09:24,550  run                      INFO    run: Get:3 http://deb.debian.org/debian buster/main s390x python2-minimal s390x 2.7.16-1 [41.4 kB]\n",
      "INFO:__main__:2023-08-25 21:09:24,550  run                      INFO    run: Get:4 http://deb.debian.org/debian buster/main s390x python-minimal s390x 2.7.16-1 [21.0 kB]\n",
      "INFO:__main__:2023-08-25 21:09:24,800  run                      INFO    run: Get:5 http://deb.debian.org/debian buster/main s390x libpython2.7-stdlib s390x 2.7.16-2+deb10u1 [1853 kB]\n",
      "INFO:__main__:2023-08-25 21:09:25,190  run                      INFO    run: Get:6 http://deb.debian.org/debian buster/main s390x python2.7 s390x 2.7.16-2+deb10u1 [305 kB]\n",
      "INFO:__main__:2023-08-25 21:09:25,193  run                      INFO    run: Get:7 http://deb.debian.org/debian buster/main s390x libpython2-stdlib s390x 2.7.16-1 [20.8 kB]\n",
      "INFO:__main__:2023-08-25 21:09:25,194  run                      INFO    run: Get:8 http://deb.debian.org/debian buster/main s390x libpython-stdlib s390x 2.7.16-1 [20.8 kB]\n",
      "INFO:__main__:2023-08-25 21:09:25,196  run                      INFO    run: Get:9 http://deb.debian.org/debian buster/main s390x python2 s390x 2.7.16-1 [41.6 kB]\n",
      "INFO:__main__:2023-08-25 21:09:25,198  run                      INFO    run: Get:10 http://deb.debian.org/debian buster/main s390x python s390x 2.7.16-1 [22.8 kB]\n",
      "INFO:__main__:2023-08-25 21:09:25,199  run                      INFO    run: Get:11 http://deb.debian.org/debian buster/main s390x libpng16-16 s390x 1.6.36-6 [285 kB]\n",
      "INFO:__main__:2023-08-25 21:09:25,202  run                      INFO    run: Get:12 http://deb.debian.org/debian buster/main s390x zlib1g-dev s390x 1:1.2.11.dfsg-1+deb10u1 [207 kB]\n",
      "INFO:__main__:2023-08-25 21:09:25,205  run                      INFO    run: Get:13 http://deb.debian.org/debian buster/main s390x libpng-dev s390x 1.6.36-6 [294 kB]\n",
      "INFO:__main__:2023-08-25 21:09:25,422  run                      INFO    run: Get:14 http://deb.debian.org/debian buster/main s390x libsqlite3-dev s390x 3.27.2-3+deb10u1 [746 kB]\n",
      "INFO:__main__:2023-08-25 21:09:25,720  run                      INFO    run: Get:15 http://deb.debian.org/debian buster/main s390x libzip4 s390x 1.5.1-4 [47.1 kB]\n",
      "INFO:__main__:2023-08-25 21:09:25,723  run                      INFO    run: Get:16 http://deb.debian.org/debian buster/main s390x libzip-dev s390x 1.5.1-4 [158 kB]\n",
      "INFO:__main__:2023-08-25 21:09:25,895  run                      INFO    run: Get:17 http://deb.debian.org/debian buster/main s390x php7.3-zip s390x 7.3.31-1~deb10u1 [19.3 kB]\n",
      "INFO:__main__:2023-08-25 21:09:25,899  run                      INFO    run: Get:18 http://deb.debian.org/debian buster/main s390x php-zip all 2:7.3+69 [5988 B]\n",
      "INFO:__main__:2023-08-25 21:09:25,901  run                      INFO    run: Get:19 http://deb.debian.org/debian buster/main s390x sqlite3 s390x 3.27.2-3+deb10u1 [855 kB]\n",
      "INFO:__main__:2023-08-25 21:09:26,008  run                      INFO    run: \u001b[91mdebconf: delaying package configuration, since apt-utils is not installed\n",
      "INFO:__main__:2023-08-25 21:09:26,019  run                      INFO    run: \u001b[0mFetched 6571 kB in 1s (4733 kB/s)\n",
      "INFO:__main__:2023-08-25 21:09:26,041  run                      INFO    run: Selecting previously unselected package libpython2.7-minimal:s390x.\n",
      "(Reading database ... 18045 files and directories currently installed.) run: (Reading database ... \n",
      "INFO:__main__:2023-08-25 21:09:26,049  run                      INFO    run: Preparing to unpack .../0-libpython2.7-minimal_2.7.16-2+deb10u1_s390x.deb ...\n",
      "INFO:__main__:2023-08-25 21:09:26,052  run                      INFO    run: Unpacking libpython2.7-minimal:s390x (2.7.16-2+deb10u1) ...\n",
      "INFO:__main__:2023-08-25 21:09:26,115  run                      INFO    run: Selecting previously unselected package python2.7-minimal.\n",
      "INFO:__main__:2023-08-25 21:09:26,116  run                      INFO    run: Preparing to unpack .../1-python2.7-minimal_2.7.16-2+deb10u1_s390x.deb ...\n",
      "INFO:__main__:2023-08-25 21:09:26,121  run                      INFO    run: Unpacking python2.7-minimal (2.7.16-2+deb10u1) ...\n",
      "INFO:__main__:2023-08-25 21:09:26,250  run                      INFO    run: Selecting previously unselected package python2-minimal.\n",
      "INFO:__main__:2023-08-25 21:09:26,251  run                      INFO    run: Preparing to unpack .../2-python2-minimal_2.7.16-1_s390x.deb ...\n",
      "INFO:__main__:2023-08-25 21:09:26,254  run                      INFO    run: Unpacking python2-minimal (2.7.16-1) ...\n",
      "INFO:__main__:2023-08-25 21:09:26,276  run                      INFO    run: Selecting previously unselected package python-minimal.\n",
      "INFO:__main__:2023-08-25 21:09:26,278  run                      INFO    run: Preparing to unpack .../3-python-minimal_2.7.16-1_s390x.deb ...\n",
      "INFO:__main__:2023-08-25 21:09:26,280  run                      INFO    run: Unpacking python-minimal (2.7.16-1) ...\n",
      "INFO:__main__:2023-08-25 21:09:26,303  run                      INFO    run: Selecting previously unselected package libpython2.7-stdlib:s390x.\n",
      "INFO:__main__:2023-08-25 21:09:26,304  run                      INFO    run: Preparing to unpack .../4-libpython2.7-stdlib_2.7.16-2+deb10u1_s390x.deb ...\n",
      "INFO:__main__:2023-08-25 21:09:26,307  run                      INFO    run: Unpacking libpython2.7-stdlib:s390x (2.7.16-2+deb10u1) ...\n",
      "INFO:__main__:2023-08-25 21:09:26,542  run                      INFO    run: Selecting previously unselected package python2.7.\n",
      "INFO:__main__:2023-08-25 21:09:26,544  run                      INFO    run: Preparing to unpack .../5-python2.7_2.7.16-2+deb10u1_s390x.deb ...\n",
      "INFO:__main__:2023-08-25 21:09:26,547  run                      INFO    run: Unpacking python2.7 (2.7.16-2+deb10u1) ...\n",
      "INFO:__main__:2023-08-25 21:09:26,580  run                      INFO    run: Selecting previously unselected package libpython2-stdlib:s390x.\n",
      "INFO:__main__:2023-08-25 21:09:26,581  run                      INFO    run: Preparing to unpack .../6-libpython2-stdlib_2.7.16-1_s390x.deb ...\n",
      "INFO:__main__:2023-08-25 21:09:26,584  run                      INFO    run: Unpacking libpython2-stdlib:s390x (2.7.16-1) ...\n",
      "INFO:__main__:2023-08-25 21:09:26,604  run                      INFO    run: Selecting previously unselected package libpython-stdlib:s390x.\n",
      "INFO:__main__:2023-08-25 21:09:26,605  run                      INFO    run: Preparing to unpack .../7-libpython-stdlib_2.7.16-1_s390x.deb ...\n",
      "INFO:__main__:2023-08-25 21:09:26,608  run                      INFO    run: Unpacking libpython-stdlib:s390x (2.7.16-1) ...\n",
      "INFO:__main__:2023-08-25 21:09:26,635  run                      INFO    run: Setting up libpython2.7-minimal:s390x (2.7.16-2+deb10u1) ...\n",
      "INFO:__main__:2023-08-25 21:09:26,646  run                      INFO    run: Setting up python2.7-minimal (2.7.16-2+deb10u1) ...\n",
      "INFO:__main__:2023-08-25 21:09:26,897  run                      INFO    run: Linking and byte-compiling packages for runtime python2.7...\n",
      "INFO:__main__:2023-08-25 21:09:26,907  run                      INFO    run: Setting up python2-minimal (2.7.16-1) ...\n",
      "INFO:__main__:2023-08-25 21:09:26,956  run                      INFO    run: Selecting previously unselected package python2.\n",
      "(Reading database ... 18804 files and directories currently installed.) run: (Reading database ... \n",
      "INFO:__main__:2023-08-25 21:09:26,963  run                      INFO    run: Preparing to unpack .../python2_2.7.16-1_s390x.deb ...\n",
      "INFO:__main__:2023-08-25 21:09:26,966  run                      INFO    run: Unpacking python2 (2.7.16-1) ...\n",
      "INFO:__main__:2023-08-25 21:09:26,993  run                      INFO    run: Setting up python-minimal (2.7.16-1) ...\n",
      "INFO:__main__:2023-08-25 21:09:27,028  run                      INFO    run: Selecting previously unselected package python.\n",
      "(Reading database ... 18832 files and directories currently installed.) run: (Reading database ... \n",
      "INFO:__main__:2023-08-25 21:09:27,035  run                      INFO    run: Preparing to unpack .../0-python_2.7.16-1_s390x.deb ...\n",
      "INFO:__main__:2023-08-25 21:09:27,040  run                      INFO    run: Unpacking python (2.7.16-1) ...\n",
      "INFO:__main__:2023-08-25 21:09:27,070  run                      INFO    run: Selecting previously unselected package libpng16-16:s390x.\n",
      "INFO:__main__:2023-08-25 21:09:27,071  run                      INFO    run: Preparing to unpack .../1-libpng16-16_1.6.36-6_s390x.deb ...\n",
      "INFO:__main__:2023-08-25 21:09:27,077  run                      INFO    run: Unpacking libpng16-16:s390x (1.6.36-6) ...\n",
      "INFO:__main__:2023-08-25 21:09:27,113  run                      INFO    run: Selecting previously unselected package zlib1g-dev:s390x.\n",
      "INFO:__main__:2023-08-25 21:09:27,114  run                      INFO    run: Preparing to unpack .../2-zlib1g-dev_1%3a1.2.11.dfsg-1+deb10u1_s390x.deb ...\n",
      "INFO:__main__:2023-08-25 21:09:27,117  run                      INFO    run: Unpacking zlib1g-dev:s390x (1:1.2.11.dfsg-1+deb10u1) ...\n",
      "INFO:__main__:2023-08-25 21:09:27,155  run                      INFO    run: Selecting previously unselected package libpng-dev:s390x.\n",
      "INFO:__main__:2023-08-25 21:09:27,156  run                      INFO    run: Preparing to unpack .../3-libpng-dev_1.6.36-6_s390x.deb ...\n",
      "INFO:__main__:2023-08-25 21:09:27,158  run                      INFO    run: Unpacking libpng-dev:s390x (1.6.36-6) ...\n",
      "INFO:__main__:2023-08-25 21:09:27,195  run                      INFO    run: Selecting previously unselected package libsqlite3-dev:s390x.\n",
      "INFO:__main__:2023-08-25 21:09:27,196  run                      INFO    run: Preparing to unpack .../4-libsqlite3-dev_3.27.2-3+deb10u1_s390x.deb ...\n",
      "INFO:__main__:2023-08-25 21:09:27,198  run                      INFO    run: Unpacking libsqlite3-dev:s390x (3.27.2-3+deb10u1) ...\n",
      "INFO:__main__:2023-08-25 21:09:27,281  run                      INFO    run: Selecting previously unselected package libzip4:s390x.\n",
      "INFO:__main__:2023-08-25 21:09:27,282  run                      INFO    run: Preparing to unpack .../5-libzip4_1.5.1-4_s390x.deb ...\n",
      "INFO:__main__:2023-08-25 21:09:27,284  run                      INFO    run: Unpacking libzip4:s390x (1.5.1-4) ...\n",
      "INFO:__main__:2023-08-25 21:09:27,305  run                      INFO    run: Selecting previously unselected package libzip-dev:s390x.\n",
      "INFO:__main__:2023-08-25 21:09:27,306  run                      INFO    run: Preparing to unpack .../6-libzip-dev_1.5.1-4_s390x.deb ...\n",
      "INFO:__main__:2023-08-25 21:09:27,309  run                      INFO    run: Unpacking libzip-dev:s390x (1.5.1-4) ...\n",
      "INFO:__main__:2023-08-25 21:09:27,347  run                      INFO    run: Selecting previously unselected package php7.3-zip.\n",
      "INFO:__main__:2023-08-25 21:09:27,349  run                      INFO    run: Preparing to unpack .../7-php7.3-zip_7.3.31-1~deb10u1_s390x.deb ...\n",
      "INFO:__main__:2023-08-25 21:09:27,355  run                      INFO    run: Unpacking php7.3-zip (7.3.31-1~deb10u1) ...\n",
      "INFO:__main__:2023-08-25 21:09:27,374  run                      INFO    run: Selecting previously unselected package php-zip.\n",
      "INFO:__main__:2023-08-25 21:09:27,376  run                      INFO    run: Preparing to unpack .../8-php-zip_2%3a7.3+69_all.deb ...\n",
      "INFO:__main__:2023-08-25 21:09:27,380  run                      INFO    run: Unpacking php-zip (2:7.3+69) ...\n",
      "INFO:__main__:2023-08-25 21:09:27,398  run                      INFO    run: Selecting previously unselected package sqlite3.\n",
      "INFO:__main__:2023-08-25 21:09:27,399  run                      INFO    run: Preparing to unpack .../9-sqlite3_3.27.2-3+deb10u1_s390x.deb ...\n",
      "INFO:__main__:2023-08-25 21:09:27,402  run                      INFO    run: Unpacking sqlite3 (3.27.2-3+deb10u1) ...\n",
      "INFO:__main__:2023-08-25 21:09:27,510  run                      INFO    run: Setting up libzip4:s390x (1.5.1-4) ...\n",
      "INFO:__main__:2023-08-25 21:09:27,524  run                      INFO    run: Setting up libpython2.7-stdlib:s390x (2.7.16-2+deb10u1) ...\n",
      "INFO:__main__:2023-08-25 21:09:27,536  run                      INFO    run: Setting up libsqlite3-dev:s390x (3.27.2-3+deb10u1) ...\n",
      "INFO:__main__:2023-08-25 21:09:27,544  run                      INFO    run: Setting up libpng16-16:s390x (1.6.36-6) ...\n",
      "INFO:__main__:2023-08-25 21:09:27,553  run                      INFO    run: Setting up zlib1g-dev:s390x (1:1.2.11.dfsg-1+deb10u1) ...\n",
      "INFO:__main__:2023-08-25 21:09:27,562  run                      INFO    run: Setting up php7.3-zip (7.3.31-1~deb10u1) ...\n",
      "INFO:__main__:2023-08-25 21:09:27,640  run                      INFO    run: debconf: unable to initialize frontend: Dialog\n",
      "INFO:__main__:2023-08-25 21:09:27,640  run                      INFO    run: debconf: (TERM is not set, so the dialog frontend is not usable.)\n",
      "INFO:__main__:2023-08-25 21:09:27,640  run                      INFO    run: debconf: falling back to frontend: Readline\n",
      "INFO:__main__:2023-08-25 21:09:27,675  run                      INFO    run: \n",
      "INFO:__main__:2023-08-25 21:09:27,675  run                      INFO    run: Creating config file /etc/php/7.3/mods-available/zip.ini with new version\n",
      "INFO:__main__:2023-08-25 21:09:27,762  run                      INFO    run: Setting up sqlite3 (3.27.2-3+deb10u1) ...\n",
      "INFO:__main__:2023-08-25 21:09:27,769  run                      INFO    run: Setting up libzip-dev:s390x (1.5.1-4) ...\n",
      "INFO:__main__:2023-08-25 21:09:27,780  run                      INFO    run: Setting up python2.7 (2.7.16-2+deb10u1) ...\n",
      "INFO:__main__:2023-08-25 21:09:28,496  run                      INFO    run: Setting up libpython2-stdlib:s390x (2.7.16-1) ...\n",
      "INFO:__main__:2023-08-25 21:09:28,521  run                      INFO    run: Setting up libpng-dev:s390x (1.6.36-6) ...\n",
      "INFO:__main__:2023-08-25 21:09:28,531  run                      INFO    run: Setting up python2 (2.7.16-1) ...\n",
      "INFO:__main__:2023-08-25 21:09:28,542  run                      INFO    run: Setting up libpython-stdlib:s390x (2.7.16-1) ...\n",
      "INFO:__main__:2023-08-25 21:09:28,554  run                      INFO    run: Setting up php-zip (2:7.3+69) ...\n",
      "INFO:__main__:2023-08-25 21:09:28,561  run                      INFO    run: Setting up python (2.7.16-1) ...\n",
      "INFO:__main__:2023-08-25 21:09:28,572  run                      INFO    run: Processing triggers for libc-bin (2.28-10+deb10u1) ...\n",
      "INFO:__main__:2023-08-25 21:09:28,585  run                      INFO    run: Processing triggers for libapache2-mod-php7.3 (7.3.31-1~deb10u1) ...\n",
      "INFO:__main__:2023-08-25 21:09:28,596  run                      INFO    run: Processing triggers for mime-support (3.62) ...\n",
      "INFO:__main__:2023-08-25 21:09:29,125  run                      INFO    run: Reading package lists...\n",
      "INFO:__main__:2023-08-25 21:09:29,220  run                      INFO    run: Building dependency tree...\n",
      "INFO:__main__:2023-08-25 21:09:29,221  run                      INFO    run: Reading state information...\n",
      "INFO:__main__:2023-08-25 21:09:29,288  run                      INFO    run: The following additional packages will be installed:\n",
      "INFO:__main__:2023-08-25 21:09:29,288  run                      INFO    run:   libxslt1.1 php7.3-mbstring php7.3-sqlite3 php7.3-xml\n",
      "INFO:__main__:2023-08-25 21:09:29,288  run                      INFO    run: Suggested packages:\n",
      "INFO:__main__:2023-08-25 21:09:29,288  run                      INFO    run:   zip\n",
      "INFO:__main__:2023-08-25 21:09:29,367  run                      INFO    run: The following NEW packages will be installed:\n",
      "INFO:__main__:2023-08-25 21:09:29,367  run                      INFO    run:   libxslt1.1 php-mbstring php-sqlite3 php-xml php7.3-mbstring php7.3-sqlite3\n",
      "INFO:__main__:2023-08-25 21:09:29,368  run                      INFO    run:   php7.3-xml unzip\n",
      "INFO:__main__:2023-08-25 21:09:29,566  run                      INFO    run: 0 upgraded, 8 newly installed, 0 to remove and 0 not upgraded.\n",
      "INFO:__main__:2023-08-25 21:09:29,566  run                      INFO    run: Need to get 1016 kB of archives.\n",
      "INFO:__main__:2023-08-25 21:09:29,566  run                      INFO    run: After this operation, 3423 kB of additional disk space will be used.\n",
      "INFO:__main__:2023-08-25 21:09:29,566  run                      INFO    run: Get:1 http://deb.debian.org/debian buster/main s390x libxslt1.1 s390x 1.1.32-2.2~deb10u1 [224 kB]\n",
      "INFO:__main__:2023-08-25 21:09:29,705  run                      INFO    run: Get:2 http://deb.debian.org/debian buster/main s390x php7.3-mbstring s390x 7.3.31-1~deb10u1 [494 kB]\n",
      "INFO:__main__:2023-08-25 21:09:29,715  run                      INFO    run: Get:3 http://deb.debian.org/debian buster/main s390x php-mbstring all 2:7.3+69 [5996 B]\n",
      "INFO:__main__:2023-08-25 21:09:29,893  run                      INFO    run: Get:4 http://deb.debian.org/debian buster/main s390x php7.3-sqlite3 s390x 7.3.31-1~deb10u1 [23.1 kB]\n",
      "INFO:__main__:2023-08-25 21:09:29,899  run                      INFO    run: Get:5 http://deb.debian.org/debian buster/main s390x php-sqlite3 all 2:7.3+69 [5996 B]\n",
      "INFO:__main__:2023-08-25 21:09:29,900  run                      INFO    run: Get:6 http://deb.debian.org/debian buster/main s390x php7.3-xml s390x 7.3.31-1~deb10u1 [96.6 kB]\n",
      "INFO:__main__:2023-08-25 21:09:29,908  run                      INFO    run: Get:7 http://deb.debian.org/debian buster/main s390x php-xml all 2:7.3+69 [6012 B]\n",
      "INFO:__main__:2023-08-25 21:09:29,910  run                      INFO    run: Get:8 http://deb.debian.org/debian buster/main s390x unzip s390x 6.0-23+deb10u2 [160 kB]\n",
      "INFO:__main__:2023-08-25 21:09:30,006  run                      INFO    run: \u001b[91mdebconf: delaying package configuration, since apt-utils is not installed\n",
      "INFO:__main__:2023-08-25 21:09:30,017  run                      INFO    run: \u001b[0mFetched 1016 kB in 1s (1890 kB/s)\n",
      "INFO:__main__:2023-08-25 21:09:30,035  run                      INFO    run: Selecting previously unselected package libxslt1.1:s390x.\n",
      "(Reading database ... 19076 files and directories currently installed.) run: (Reading database ... \n",
      "INFO:__main__:2023-08-25 21:09:30,042  run                      INFO    run: Preparing to unpack .../0-libxslt1.1_1.1.32-2.2~deb10u1_s390x.deb ...\n",
      "INFO:__main__:2023-08-25 21:09:30,048  run                      INFO    run: Unpacking libxslt1.1:s390x (1.1.32-2.2~deb10u1) ...\n",
      "INFO:__main__:2023-08-25 21:09:30,092  run                      INFO    run: Selecting previously unselected package php7.3-mbstring.\n",
      "INFO:__main__:2023-08-25 21:09:30,093  run                      INFO    run: Preparing to unpack .../1-php7.3-mbstring_7.3.31-1~deb10u1_s390x.deb ...\n",
      "INFO:__main__:2023-08-25 21:09:30,099  run                      INFO    run: Unpacking php7.3-mbstring (7.3.31-1~deb10u1) ...\n",
      "INFO:__main__:2023-08-25 21:09:30,167  run                      INFO    run: Selecting previously unselected package php-mbstring.\n",
      "INFO:__main__:2023-08-25 21:09:30,168  run                      INFO    run: Preparing to unpack .../2-php-mbstring_2%3a7.3+69_all.deb ...\n",
      "INFO:__main__:2023-08-25 21:09:30,171  run                      INFO    run: Unpacking php-mbstring (2:7.3+69) ...\n",
      "INFO:__main__:2023-08-25 21:09:30,202  run                      INFO    run: Selecting previously unselected package php7.3-sqlite3.\n",
      "INFO:__main__:2023-08-25 21:09:30,203  run                      INFO    run: Preparing to unpack .../3-php7.3-sqlite3_7.3.31-1~deb10u1_s390x.deb ...\n",
      "INFO:__main__:2023-08-25 21:09:30,208  run                      INFO    run: Unpacking php7.3-sqlite3 (7.3.31-1~deb10u1) ...\n",
      "INFO:__main__:2023-08-25 21:09:30,769  run                      INFO    run: Selecting previously unselected package php-sqlite3.\n",
      "INFO:__main__:2023-08-25 21:09:30,772  run                      INFO    run: Preparing to unpack .../4-php-sqlite3_2%3a7.3+69_all.deb ...\n",
      "INFO:__main__:2023-08-25 21:09:30,912  run                      INFO    run: Unpacking php-sqlite3 (2:7.3+69) ...\n",
      "INFO:__main__:2023-08-25 21:09:35,079  run                      INFO    run: Selecting previously unselected package php7.3-xml.\n",
      "INFO:__main__:2023-08-25 21:09:35,080  run                      INFO    run: Preparing to unpack .../5-php7.3-xml_7.3.31-1~deb10u1_s390x.deb ...\n",
      "INFO:__main__:2023-08-25 21:09:35,084  run                      INFO    run: Unpacking php7.3-xml (7.3.31-1~deb10u1) ...\n",
      "INFO:__main__:2023-08-25 21:09:35,115  run                      INFO    run: Selecting previously unselected package php-xml.\n",
      "INFO:__main__:2023-08-25 21:09:35,115  run                      INFO    run: Preparing to unpack .../6-php-xml_2%3a7.3+69_all.deb ...\n",
      "INFO:__main__:2023-08-25 21:09:35,117  run                      INFO    run: Unpacking php-xml (2:7.3+69) ...\n",
      "INFO:__main__:2023-08-25 21:09:35,141  run                      INFO    run: Selecting previously unselected package unzip.\n",
      "INFO:__main__:2023-08-25 21:09:35,143  run                      INFO    run: Preparing to unpack .../7-unzip_6.0-23+deb10u2_s390x.deb ...\n",
      "INFO:__main__:2023-08-25 21:09:35,146  run                      INFO    run: Unpacking unzip (6.0-23+deb10u2) ...\n",
      "INFO:__main__:2023-08-25 21:09:35,190  run                      INFO    run: Setting up php7.3-sqlite3 (7.3.31-1~deb10u1) ...\n",
      "INFO:__main__:2023-08-25 21:09:35,273  run                      INFO    run: debconf: unable to initialize frontend: Dialog\n",
      "INFO:__main__:2023-08-25 21:09:35,273  run                      INFO    run: debconf: (TERM is not set, so the dialog frontend is not usable.)\n",
      "INFO:__main__:2023-08-25 21:09:35,273  run                      INFO    run: debconf: falling back to frontend: Readline\n",
      "INFO:__main__:2023-08-25 21:09:35,306  run                      INFO    run: \n",
      "INFO:__main__:2023-08-25 21:09:35,306  run                      INFO    run: Creating config file /etc/php/7.3/mods-available/sqlite3.ini with new version\n",
      "INFO:__main__:2023-08-25 21:09:35,457  run                      INFO    run: debconf: unable to initialize frontend: Dialog\n",
      "INFO:__main__:2023-08-25 21:09:35,457  run                      INFO    run: debconf: (TERM is not set, so the dialog frontend is not usable.)\n",
      "INFO:__main__:2023-08-25 21:09:35,457  run                      INFO    run: debconf: falling back to frontend: Readline\n",
      "INFO:__main__:2023-08-25 21:09:35,488  run                      INFO    run: \n",
      "INFO:__main__:2023-08-25 21:09:35,488  run                      INFO    run: Creating config file /etc/php/7.3/mods-available/pdo_sqlite.ini with new version\n",
      "INFO:__main__:2023-08-25 21:09:35,591  run                      INFO    run: Setting up php7.3-mbstring (7.3.31-1~deb10u1) ...\n",
      "INFO:__main__:2023-08-25 21:09:35,668  run                      INFO    run: debconf: unable to initialize frontend: Dialog\n",
      "INFO:__main__:2023-08-25 21:09:35,668  run                      INFO    run: debconf: (TERM is not set, so the dialog frontend is not usable.)\n",
      "INFO:__main__:2023-08-25 21:09:35,668  run                      INFO    run: debconf: falling back to frontend: Readline\n",
      "INFO:__main__:2023-08-25 21:09:35,702  run                      INFO    run: \n",
      "INFO:__main__:2023-08-25 21:09:35,702  run                      INFO    run: Creating config file /etc/php/7.3/mods-available/mbstring.ini with new version\n",
      "INFO:__main__:2023-08-25 21:09:35,788  run                      INFO    run: Setting up unzip (6.0-23+deb10u2) ...\n",
      "INFO:__main__:2023-08-25 21:09:35,802  run                      INFO    run: Setting up php-sqlite3 (2:7.3+69) ...\n",
      "INFO:__main__:2023-08-25 21:09:35,809  run                      INFO    run: Setting up php-mbstring (2:7.3+69) ...\n",
      "INFO:__main__:2023-08-25 21:09:35,816  run                      INFO    run: Setting up libxslt1.1:s390x (1.1.32-2.2~deb10u1) ...\n",
      "INFO:__main__:2023-08-25 21:09:35,824  run                      INFO    run: Setting up php7.3-xml (7.3.31-1~deb10u1) ...\n",
      "INFO:__main__:2023-08-25 21:09:35,898  run                      INFO    run: debconf: unable to initialize frontend: Dialog\n",
      "INFO:__main__:2023-08-25 21:09:35,898  run                      INFO    run: debconf: (TERM is not set, so the dialog frontend is not usable.)\n",
      "INFO:__main__:2023-08-25 21:09:35,898  run                      INFO    run: debconf: falling back to frontend: Readline\n",
      "INFO:__main__:2023-08-25 21:09:35,930  run                      INFO    run: \n",
      "INFO:__main__:2023-08-25 21:09:35,930  run                      INFO    run: Creating config file /etc/php/7.3/mods-available/dom.ini with new version\n",
      "INFO:__main__:2023-08-25 21:09:36,079  run                      INFO    run: debconf: unable to initialize frontend: Dialog\n",
      "INFO:__main__:2023-08-25 21:09:36,079  run                      INFO    run: debconf: (TERM is not set, so the dialog frontend is not usable.)\n",
      "INFO:__main__:2023-08-25 21:09:36,079  run                      INFO    run: debconf: falling back to frontend: Readline\n",
      "INFO:__main__:2023-08-25 21:09:36,111  run                      INFO    run: \n",
      "INFO:__main__:2023-08-25 21:09:36,111  run                      INFO    run: Creating config file /etc/php/7.3/mods-available/simplexml.ini with new version\n",
      "INFO:__main__:2023-08-25 21:09:36,276  run                      INFO    run: debconf: unable to initialize frontend: Dialog\n",
      "INFO:__main__:2023-08-25 21:09:36,276  run                      INFO    run: debconf: (TERM is not set, so the dialog frontend is not usable.)\n",
      "INFO:__main__:2023-08-25 21:09:36,277  run                      INFO    run: debconf: falling back to frontend: Readline\n",
      "INFO:__main__:2023-08-25 21:09:36,308  run                      INFO    run: \n",
      "INFO:__main__:2023-08-25 21:09:36,308  run                      INFO    run: Creating config file /etc/php/7.3/mods-available/wddx.ini with new version\n",
      "INFO:__main__:2023-08-25 21:09:36,461  run                      INFO    run: debconf: unable to initialize frontend: Dialog\n",
      "INFO:__main__:2023-08-25 21:09:36,461  run                      INFO    run: debconf: (TERM is not set, so the dialog frontend is not usable.)\n",
      "INFO:__main__:2023-08-25 21:09:36,461  run                      INFO    run: debconf: falling back to frontend: Readline\n",
      "INFO:__main__:2023-08-25 21:09:36,492  run                      INFO    run: \n",
      "INFO:__main__:2023-08-25 21:09:36,492  run                      INFO    run: Creating config file /etc/php/7.3/mods-available/xml.ini with new version\n",
      "INFO:__main__:2023-08-25 21:09:36,641  run                      INFO    run: debconf: unable to initialize frontend: Dialog\n",
      "INFO:__main__:2023-08-25 21:09:36,642  run                      INFO    run: debconf: (TERM is not set, so the dialog frontend is not usable.)\n",
      "INFO:__main__:2023-08-25 21:09:36,642  run                      INFO    run: debconf: falling back to frontend: Readline\n",
      "INFO:__main__:2023-08-25 21:09:36,673  run                      INFO    run: \n",
      "INFO:__main__:2023-08-25 21:09:36,673  run                      INFO    run: Creating config file /etc/php/7.3/mods-available/xmlreader.ini with new version\n",
      "INFO:__main__:2023-08-25 21:09:36,822  run                      INFO    run: debconf: unable to initialize frontend: Dialog\n",
      "INFO:__main__:2023-08-25 21:09:36,822  run                      INFO    run: debconf: (TERM is not set, so the dialog frontend is not usable.)\n",
      "INFO:__main__:2023-08-25 21:09:36,822  run                      INFO    run: debconf: falling back to frontend: Readline\n",
      "INFO:__main__:2023-08-25 21:09:36,854  run                      INFO    run: \n",
      "INFO:__main__:2023-08-25 21:09:36,854  run                      INFO    run: Creating config file /etc/php/7.3/mods-available/xmlwriter.ini with new version\n",
      "INFO:__main__:2023-08-25 21:09:37,007  run                      INFO    run: debconf: unable to initialize frontend: Dialog\n",
      "INFO:__main__:2023-08-25 21:09:37,007  run                      INFO    run: debconf: (TERM is not set, so the dialog frontend is not usable.)\n",
      "INFO:__main__:2023-08-25 21:09:37,007  run                      INFO    run: debconf: falling back to frontend: Readline\n",
      "INFO:__main__:2023-08-25 21:09:37,038  run                      INFO    run: \n",
      "INFO:__main__:2023-08-25 21:09:37,039  run                      INFO    run: Creating config file /etc/php/7.3/mods-available/xsl.ini with new version\n",
      "INFO:__main__:2023-08-25 21:09:37,125  run                      INFO    run: Setting up php-xml (2:7.3+69) ...\n",
      "INFO:__main__:2023-08-25 21:09:37,132  run                      INFO    run: Processing triggers for libc-bin (2.28-10+deb10u1) ...\n",
      "INFO:__main__:2023-08-25 21:09:37,144  run                      INFO    run: Processing triggers for libapache2-mod-php7.3 (7.3.31-1~deb10u1) ...\n",
      "INFO:__main__:2023-08-25 21:09:37,155  run                      INFO    run: Processing triggers for mime-support (3.62) ...\n",
      "INFO:__main__:2023-08-25 21:09:37,648  run                      INFO    run: Reading package lists...\n",
      "INFO:__main__:2023-08-25 21:09:37,740  run                      INFO    run: Building dependency tree...\n",
      "INFO:__main__:2023-08-25 21:09:37,740  run                      INFO    run: Reading state information...\n",
      "INFO:__main__:2023-08-25 21:09:37,805  run                      INFO    run: The following additional packages will be installed:\n",
      "INFO:__main__:2023-08-25 21:09:37,805  run                      INFO    run:   python-meld3 python-pkg-resources\n",
      "INFO:__main__:2023-08-25 21:09:37,805  run                      INFO    run: Suggested packages:\n",
      "INFO:__main__:2023-08-25 21:09:37,805  run                      INFO    run:   python-setuptools supervisor-doc\n",
      "INFO:__main__:2023-08-25 21:09:37,837  run                      INFO    run: The following NEW packages will be installed:\n",
      "INFO:__main__:2023-08-25 21:09:37,837  run                      INFO    run:   python-meld3 python-pkg-resources supervisor\n",
      "INFO:__main__:2023-08-25 21:09:37,851  run                      INFO    run: 0 upgraded, 3 newly installed, 0 to remove and 0 not upgraded.\n",
      "INFO:__main__:2023-08-25 21:09:37,852  run                      INFO    run: Need to get 503 kB of archives.\n",
      "INFO:__main__:2023-08-25 21:09:37,852  run                      INFO    run: After this operation, 2210 kB of additional disk space will be used.\n",
      "INFO:__main__:2023-08-25 21:09:37,852  run                      INFO    run: Get:1 http://deb.debian.org/debian buster/main s390x python-meld3 all 1.0.2-2 [37.3 kB]\n",
      "INFO:__main__:2023-08-25 21:09:37,854  run                      INFO    run: Get:2 http://deb.debian.org/debian buster/main s390x python-pkg-resources all 40.8.0-1 [182 kB]\n",
      "INFO:__main__:2023-08-25 21:09:37,856  run                      INFO    run: Get:3 http://deb.debian.org/debian buster/main s390x supervisor all 3.3.5-1 [284 kB]\n",
      "INFO:__main__:2023-08-25 21:09:37,947  run                      INFO    run: \u001b[91mdebconf: delaying package configuration, since apt-utils is not installed\n",
      "INFO:__main__:2023-08-25 21:09:37,958  run                      INFO    run: \u001b[0mFetched 503 kB in 0s (33.5 MB/s)\n",
      "INFO:__main__:2023-08-25 21:09:37,974  run                      INFO    run: Selecting previously unselected package python-meld3.\n",
      "(Reading database ... 19159 files and directories currently installed.) run: (Reading database ... \n",
      "INFO:__main__:2023-08-25 21:09:37,982  run                      INFO    run: Preparing to unpack .../python-meld3_1.0.2-2_all.deb ...\n",
      "INFO:__main__:2023-08-25 21:09:37,985  run                      INFO    run: Unpacking python-meld3 (1.0.2-2) ...\n",
      "INFO:__main__:2023-08-25 21:09:38,008  run                      INFO    run: Selecting previously unselected package python-pkg-resources.\n",
      "INFO:__main__:2023-08-25 21:09:38,009  run                      INFO    run: Preparing to unpack .../python-pkg-resources_40.8.0-1_all.deb ...\n",
      "INFO:__main__:2023-08-25 21:09:38,012  run                      INFO    run: Unpacking python-pkg-resources (40.8.0-1) ...\n",
      "INFO:__main__:2023-08-25 21:09:38,051  run                      INFO    run: Selecting previously unselected package supervisor.\n",
      "INFO:__main__:2023-08-25 21:09:38,052  run                      INFO    run: Preparing to unpack .../supervisor_3.3.5-1_all.deb ...\n",
      "INFO:__main__:2023-08-25 21:09:38,055  run                      INFO    run: Unpacking supervisor (3.3.5-1) ...\n",
      "INFO:__main__:2023-08-25 21:09:38,103  run                      INFO    run: Setting up python-pkg-resources (40.8.0-1) ...\n",
      "INFO:__main__:2023-08-25 21:09:38,401  run                      INFO    run: Setting up python-meld3 (1.0.2-2) ...\n",
      "INFO:__main__:2023-08-25 21:09:38,719  run                      INFO    run: Setting up supervisor (3.3.5-1) ...\n",
      "INFO:__main__:2023-08-25 21:09:39,052  run                      INFO    run: invoke-rc.d: could not determine current runlevel\n",
      "INFO:__main__:2023-08-25 21:09:39,054  run                      INFO    run: invoke-rc.d: policy-rc.d denied execution of start.\n",
      "INFO:__main__:2023-08-25 21:09:39,650  run                      INFO    run: Reading package lists...\n",
      "INFO:__main__:2023-08-25 21:09:39,742  run                      INFO    run: Building dependency tree...\n",
      "INFO:__main__:2023-08-25 21:09:39,742  run                      INFO    run: Reading state information...\n",
      "INFO:__main__:2023-08-25 21:09:39,817  run                      INFO    run: 0 upgraded, 0 newly installed, 0 to remove and 0 not upgraded.\n",
      "INFO:__main__:2023-08-25 21:09:56,859  run                      INFO    run: Removing intermediate container ab3b61acc13d\n",
      "INFO:__main__:2023-08-25 21:09:56,860  run                      INFO    run:  ---> 4a911e59def7\n",
      "INFO:__main__:2023-08-25 21:09:56,860  run                      INFO    run: Step 7/49 : ARG ELECTRUM_TAG=\"local-3.3.6-hpcs\"\n",
      "INFO:__main__:2023-08-25 21:09:56,896  run                      INFO    run:  ---> Running in e2872c5ab6e7\n",
      "INFO:__main__:2023-08-25 21:09:56,920  run                      INFO    run: Removing intermediate container e2872c5ab6e7\n",
      "INFO:__main__:2023-08-25 21:09:56,920  run                      INFO    run:  ---> bd6c28580b54\n",
      "INFO:__main__:2023-08-25 21:09:56,920  run                      INFO    run: Step 8/49 : ARG ELECTRUM_COMMIT=\"9529b418e26430d577151e460435de0cd445fb7e\"\n",
      "INFO:__main__:2023-08-25 21:09:56,937  run                      INFO    run:  ---> Running in f5e1e2ec8d9b\n",
      "INFO:__main__:2023-08-25 21:09:56,966  run                      INFO    run: Removing intermediate container f5e1e2ec8d9b\n",
      "INFO:__main__:2023-08-25 21:09:56,966  run                      INFO    run:  ---> eb2ada59f803\n",
      "INFO:__main__:2023-08-25 21:09:56,966  run                      INFO    run: Step 9/49 : ENV NETWORK \"--testnet\"\n",
      "INFO:__main__:2023-08-25 21:09:56,983  run                      INFO    run:  ---> Running in 80bfd83f341f\n",
      "INFO:__main__:2023-08-25 21:09:57,008  run                      INFO    run: Removing intermediate container 80bfd83f341f\n",
      "INFO:__main__:2023-08-25 21:09:57,008  run                      INFO    run:  ---> a56f5342f089\n",
      "INFO:__main__:2023-08-25 21:09:57,008  run                      INFO    run: Step 10/49 : ENV ELECTRUM_USER root\n",
      "INFO:__main__:2023-08-25 21:09:57,019  run                      INFO    run:  ---> Running in 805ee44427a4\n",
      "INFO:__main__:2023-08-25 21:09:57,041  run                      INFO    run: Removing intermediate container 805ee44427a4\n",
      "INFO:__main__:2023-08-25 21:09:57,041  run                      INFO    run:  ---> 03023f84a06d\n",
      "INFO:__main__:2023-08-25 21:09:57,041  run                      INFO    run: Step 11/49 : ENV ELECTRUM_HOME /$ELECTRUM_USER\n",
      "INFO:__main__:2023-08-25 21:09:57,055  run                      INFO    run:  ---> Running in bf0b6c89041e\n",
      "INFO:__main__:2023-08-25 21:09:57,075  run                      INFO    run: Removing intermediate container bf0b6c89041e\n",
      "INFO:__main__:2023-08-25 21:09:57,075  run                      INFO    run:  ---> 1101ba8af3c9\n",
      "INFO:__main__:2023-08-25 21:09:57,075  run                      INFO    run: Step 12/49 : ENV ELECTRUM_PASSWORD passw0rd\n",
      "INFO:__main__:2023-08-25 21:09:57,088  run                      INFO    run:  ---> Running in 399a890a4cc2\n",
      "INFO:__main__:2023-08-25 21:09:57,109  run                      INFO    run: Removing intermediate container 399a890a4cc2\n",
      "INFO:__main__:2023-08-25 21:09:57,109  run                      INFO    run:  ---> 0369ddc802ce\n",
      "INFO:__main__:2023-08-25 21:09:57,109  run                      INFO    run: Step 13/49 : ENV ELECTRUM_DIR /git/electrum\n",
      "INFO:__main__:2023-08-25 21:09:57,125  run                      INFO    run:  ---> Running in e9c3f6f26e0c\n",
      "INFO:__main__:2023-08-25 21:09:57,152  run                      INFO    run: Removing intermediate container e9c3f6f26e0c\n",
      "INFO:__main__:2023-08-25 21:09:57,152  run                      INFO    run:  ---> 4053173e6d10\n",
      "INFO:__main__:2023-08-25 21:09:57,152  run                      INFO    run: Step 14/49 : WORKDIR /git\n",
      "INFO:__main__:2023-08-25 21:09:57,164  run                      INFO    run:  ---> Running in a857882dda80\n",
      "INFO:__main__:2023-08-25 21:09:57,184  run                      INFO    run: Removing intermediate container a857882dda80\n",
      "INFO:__main__:2023-08-25 21:09:57,184  run                      INFO    run:  ---> b6a49aa3362d\n",
      "INFO:__main__:2023-08-25 21:09:57,184  run                      INFO    run: Step 15/49 : ADD pyep11 /git/pyep11\n",
      "INFO:__main__:2023-08-25 21:09:57,213  run                      INFO    run:  ---> 4530fd442cde\n",
      "INFO:__main__:2023-08-25 21:09:57,213  run                      INFO    run: Step 16/49 : ADD electrum/${ELECTRUM_TAG}.patch .\n",
      "INFO:__main__:2023-08-25 21:09:57,233  run                      INFO    run:  ---> 7816be667d96\n",
      "INFO:__main__:2023-08-25 21:09:57,233  run                      INFO    run: Step 17/49 : RUN git clone https://github.com/spesmilo/electrum.git &&     cd /git/electrum &&     git checkout ${ELECTRUM_COMMIT} &&     git apply ../${ELECTRUM_TAG}.patch &&     pip3 uninstall -y enum34 &&     pip3 install . &&     protoc --proto_path=electrum --python_out=electrum electrum/paymentrequest.proto &&     cd /git/pyep11 &&     pip3 install protobuf==3.19.4 &&     if [ -z \"$NO_GRPC_BUILD\" ]; then        pip3 install grpclib grpcio-tools==1.44.0;        python3 -m grpc_tools.protoc common/protos/*.proto generated/protos/*.proto               vendor/github.com/gogo/protobuf/gogoproto/*.proto               vendor/github.com/gogo/googleapis/google/api/*.proto               -Icommon/protos -Igenerated/protos \t      -Ivendor/github.com/gogo/protobuf/gogoproto \t      -Ivendor/github.com/gogo/googleapis               --python_out=/git/pyep11/generated/python_grpc --grpc_python_out=/git/pyep11/generated/python_grpc;        mv /git/pyep11/generated/python_grpc/* /git/electrum;        mv /git/pyep11/pyep11.py /git/electrum;        mv /git/pyep11/grep11consts.py /git/electrum;     fi &&     mkdir -p /data && chown ${ELECTRUM_USER} /data\n",
      "INFO:__main__:2023-08-25 21:09:57,246  run                      INFO    run:  ---> Running in fafa8232f00e\n",
      "INFO:__main__:2023-08-25 21:09:57,524  run                      INFO    run: \u001b[91mCloning into 'electrum'...\n",
      "INFO:__main__:2023-08-25 21:10:02,477  run                      INFO    run: \u001b[0m\u001b[91mNote: checking out '9529b418e26430d577151e460435de0cd445fb7e'.\n",
      "INFO:__main__:2023-08-25 21:10:02,477  run                      INFO    run: \n",
      "INFO:__main__:2023-08-25 21:10:02,477  run                      INFO    run: You are in 'detached HEAD' state. You can look around, make experimental\n",
      "INFO:__main__:2023-08-25 21:10:02,477  run                      INFO    run: changes and commit them, and you can discard any commits you make in this\n",
      "INFO:__main__:2023-08-25 21:10:02,477  run                      INFO    run: state without impacting any branches by performing another checkout.\n",
      "INFO:__main__:2023-08-25 21:10:02,477  run                      INFO    run: \n",
      "INFO:__main__:2023-08-25 21:10:02,477  run                      INFO    run: If you want to create a new branch to retain commits you create, you may\n",
      "INFO:__main__:2023-08-25 21:10:02,477  run                      INFO    run: do so (now or later) by using -b with the checkout command again. Example:\n",
      "INFO:__main__:2023-08-25 21:10:02,477  run                      INFO    run: \n",
      "INFO:__main__:2023-08-25 21:10:02,477  run                      INFO    run:   git checkout -b <new-branch-name>\n",
      "INFO:__main__:2023-08-25 21:10:02,478  run                      INFO    run: \n",
      "INFO:__main__:2023-08-25 21:10:02,478  run                      INFO    run: HEAD is now at 9529b418e prepare release 3.3.6\n",
      "INFO:__main__:2023-08-25 21:10:04,159  run                      INFO    run: \u001b[0m\u001b[91mWARNING: Skipping enum34 as it is not installed.\n",
      "INFO:__main__:2023-08-25 21:10:04,159  run                      INFO    run: WARNING: Running pip as the 'root' user can result in broken permissions and conflicting behaviour with the system package manager. It is recommended to use a virtual environment instead: https://pip.pypa.io/warnings/venv\n",
      "INFO:__main__:2023-08-25 21:10:04,478  run                      INFO    run: \u001b[0mProcessing /git/electrum\n",
      "INFO:__main__:2023-08-25 21:10:04,478  run                      INFO    run: \u001b[91m  DEPRECATION: A future pip version will change local packages to be built in-place without first copying to a temporary directory. We recommend you use --use-feature=in-tree-build to test your packages with this new behavior before it becomes the default.\n",
      "INFO:__main__:2023-08-25 21:10:04,479  run                      INFO    run:    pip 21.3 will remove support for this functionality. You can find discussion regarding this at https://github.com/pypa/pip/issues/7555.\n",
      "INFO:__main__:2023-08-25 21:10:05,066  run                      INFO    run: \u001b[0mCollecting pyaes>=0.1a1\n",
      "INFO:__main__:2023-08-25 21:10:05,080  run                      INFO    run:   Downloading pyaes-1.6.1.tar.gz (28 kB)\n",
      "INFO:__main__:2023-08-25 21:10:05,277  run                      INFO    run: Collecting ecdsa>=0.13\n",
      "INFO:__main__:2023-08-25 21:10:05,281  run                      INFO    run:   Downloading ecdsa-0.18.0-py2.py3-none-any.whl (142 kB)\n",
      "INFO:__main__:2023-08-25 21:10:05,316  run                      INFO    run: Collecting qrcode\n",
      "INFO:__main__:2023-08-25 21:10:05,319  run                      INFO    run:   Downloading qrcode-7.4.2-py3-none-any.whl (46 kB)\n",
      "INFO:__main__:2023-08-25 21:10:05,889  run                      INFO    run: Collecting protobuf\n",
      "INFO:__main__:2023-08-25 21:10:05,893  run                      INFO    run:   Downloading protobuf-4.24.1-py3-none-any.whl (175 kB)\n",
      "INFO:__main__:2023-08-25 21:10:05,923  run                      INFO    run: Collecting dnspython\n",
      "INFO:__main__:2023-08-25 21:10:05,927  run                      INFO    run:   Downloading dnspython-2.4.2-py3-none-any.whl (300 kB)\n",
      "INFO:__main__:2023-08-25 21:10:05,959  run                      INFO    run: Collecting jsonrpclib-pelix\n",
      "INFO:__main__:2023-08-25 21:10:05,964  run                      INFO    run:   Downloading jsonrpclib_pelix-0.4.3.2-py2.py3-none-any.whl (42 kB)\n",
      "INFO:__main__:2023-08-25 21:10:06,009  run                      INFO    run: Collecting qdarkstyle<3.0\n",
      "INFO:__main__:2023-08-25 21:10:06,015  run                      INFO    run:   Downloading QDarkStyle-2.8.1-py2.py3-none-any.whl (217 kB)\n",
      "INFO:__main__:2023-08-25 21:10:06,089  run                      INFO    run: Collecting aiorpcx<0.18,>=0.17\n",
      "INFO:__main__:2023-08-25 21:10:06,098  run                      INFO    run:   Downloading aiorpcX-0.17.0-py3-none-any.whl (32 kB)\n",
      "INFO:__main__:2023-08-25 21:10:06,869  run                      INFO    run: Collecting aiohttp>=3.3.0\n",
      "INFO:__main__:2023-08-25 21:10:06,877  run                      INFO    run:   Downloading aiohttp-3.8.5-cp39-cp39-manylinux_2_17_s390x.manylinux2014_s390x.whl (1.1 MB)\n",
      "INFO:__main__:2023-08-25 21:10:06,940  run                      INFO    run: Collecting aiohttp_socks\n",
      "INFO:__main__:2023-08-25 21:10:06,946  run                      INFO    run:   Downloading aiohttp_socks-0.8.0-py3-none-any.whl (9.4 kB)\n",
      "INFO:__main__:2023-08-25 21:10:06,989  run                      INFO    run: Collecting certifi\n",
      "INFO:__main__:2023-08-25 21:10:06,993  run                      INFO    run:   Downloading certifi-2023.7.22-py3-none-any.whl (158 kB)\n",
      "INFO:__main__:2023-08-25 21:10:07,180  run                      INFO    run: Collecting frozenlist>=1.1.1\n",
      "INFO:__main__:2023-08-25 21:10:07,191  run                      INFO    run:   Downloading frozenlist-1.4.0-cp39-cp39-manylinux_2_17_s390x.manylinux2014_s390x.whl (236 kB)\n",
      "INFO:__main__:2023-08-25 21:10:07,382  run                      INFO    run: Collecting charset-normalizer<4.0,>=2.0\n",
      "INFO:__main__:2023-08-25 21:10:07,390  run                      INFO    run:   Downloading charset_normalizer-3.2.0-cp39-cp39-manylinux_2_17_s390x.manylinux2014_s390x.whl (201 kB)\n",
      "INFO:__main__:2023-08-25 21:10:08,060  run                      INFO    run: Collecting multidict<7.0,>=4.5\n",
      "INFO:__main__:2023-08-25 21:10:08,066  run                      INFO    run:   Downloading multidict-6.0.4-cp39-cp39-manylinux_2_17_s390x.manylinux2014_s390x.whl (117 kB)\n",
      "INFO:__main__:2023-08-25 21:10:08,087  run                      INFO    run: Collecting aiosignal>=1.1.2\n",
      "INFO:__main__:2023-08-25 21:10:08,102  run                      INFO    run:   Downloading aiosignal-1.3.1-py3-none-any.whl (7.6 kB)\n",
      "INFO:__main__:2023-08-25 21:10:08,129  run                      INFO    run: Collecting async-timeout<5.0,>=4.0.0a3\n",
      "INFO:__main__:2023-08-25 21:10:08,133  run                      INFO    run:   Downloading async_timeout-4.0.3-py3-none-any.whl (5.7 kB)\n",
      "INFO:__main__:2023-08-25 21:10:08,557  run                      INFO    run: Collecting yarl<2.0,>=1.0\n",
      "INFO:__main__:2023-08-25 21:10:08,571  run                      INFO    run:   Downloading yarl-1.9.2-cp39-cp39-manylinux_2_17_s390x.manylinux2014_s390x.whl (274 kB)\n",
      "INFO:__main__:2023-08-25 21:10:08,609  run                      INFO    run: Collecting attrs>=17.3.0\n",
      "INFO:__main__:2023-08-25 21:10:08,612  run                      INFO    run:   Downloading attrs-23.1.0-py3-none-any.whl (61 kB)\n",
      "INFO:__main__:2023-08-25 21:10:08,677  run                      INFO    run: Collecting six>=1.9.0\n",
      "INFO:__main__:2023-08-25 21:10:08,687  run                      INFO    run:   Downloading six-1.16.0-py2.py3-none-any.whl (11 kB)\n",
      "INFO:__main__:2023-08-25 21:10:08,723  run                      INFO    run: Collecting helpdev>=0.6.10\n",
      "INFO:__main__:2023-08-25 21:10:08,727  run                      INFO    run:   Downloading helpdev-0.7.1-py3-none-any.whl (14 kB)\n",
      "INFO:__main__:2023-08-25 21:10:08,766  run                      INFO    run: Collecting qtpy>=1.9\n",
      "INFO:__main__:2023-08-25 21:10:08,769  run                      INFO    run:   Downloading QtPy-2.3.1-py3-none-any.whl (84 kB)\n",
      "INFO:__main__:2023-08-25 21:10:08,826  run                      INFO    run: Collecting packaging\n",
      "INFO:__main__:2023-08-25 21:10:08,835  run                      INFO    run:   Downloading packaging-23.1-py3-none-any.whl (48 kB)\n",
      "INFO:__main__:2023-08-25 21:10:08,871  run                      INFO    run: Collecting idna>=2.0\n",
      "INFO:__main__:2023-08-25 21:10:08,874  run                      INFO    run:   Downloading idna-3.4-py3-none-any.whl (61 kB)\n",
      "INFO:__main__:2023-08-25 21:10:08,916  run                      INFO    run: Collecting python-socks[asyncio]<3.0.0,>=2.0.0\n",
      "INFO:__main__:2023-08-25 21:10:08,922  run                      INFO    run:   Downloading python_socks-2.3.0-py3-none-any.whl (53 kB)\n",
      "INFO:__main__:2023-08-25 21:10:09,022  run                      INFO    run: Collecting typing-extensions\n",
      "INFO:__main__:2023-08-25 21:10:09,025  run                      INFO    run:   Downloading typing_extensions-4.7.1-py3-none-any.whl (33 kB)\n",
      "INFO:__main__:2023-08-25 21:10:09,044  run                      INFO    run: Collecting pypng\n",
      "INFO:__main__:2023-08-25 21:10:09,047  run                      INFO    run:   Downloading pypng-0.20220715.0-py3-none-any.whl (58 kB)\n",
      "INFO:__main__:2023-08-25 21:10:09,061  run                      INFO    run: Building wheels for collected packages: Electrum, pyaes\n",
      "INFO:__main__:2023-08-25 21:10:09,062  run                      INFO    run:   Building wheel for Electrum (setup.py): started\n",
      "INFO:__main__:2023-08-25 21:10:09,644  run                      INFO    run:   Building wheel for Electrum (setup.py): finished with status 'done'\n",
      "INFO:__main__:2023-08-25 21:10:09,647  run                      INFO    run:   Created wheel for Electrum: filename=Electrum-3.3.6-py3-none-any.whl size=2872634 sha256=177953e1580ffe3d7a0fe97d72e47982a9abbecc6a57630f25c3d2b72b2f736f\n",
      "INFO:__main__:2023-08-25 21:10:09,647  run                      INFO    run:   Stored in directory: /tmp/pip-ephem-wheel-cache-a2isrghm/wheels/cc/e4/20/e5e430f0a89bcc5ff23a58c4b5bfec23095feae63bd2988314\n",
      "INFO:__main__:2023-08-25 21:10:09,651  run                      INFO    run:   Building wheel for pyaes (setup.py): started\n",
      "INFO:__main__:2023-08-25 21:10:09,853  run                      INFO    run:   Building wheel for pyaes (setup.py): finished with status 'done'\n",
      "INFO:__main__:2023-08-25 21:10:09,854  run                      INFO    run:   Created wheel for pyaes: filename=pyaes-1.6.1-py3-none-any.whl size=26362 sha256=459ff8d82b22bd68f41a32f565048be644ead0ef2cff8ed99fc252a513df2007\n",
      "INFO:__main__:2023-08-25 21:10:09,854  run                      INFO    run:   Stored in directory: /root/.cache/pip/wheels/33/13/e9/ef9894385084d8e4fab38f5f83afda49a3d593d8afc907c8fd\n",
      "INFO:__main__:2023-08-25 21:10:09,855  run                      INFO    run: Successfully built Electrum pyaes\n",
      "INFO:__main__:2023-08-25 21:10:09,999  run                      INFO    run: Installing collected packages: multidict, idna, frozenlist, yarl, python-socks, packaging, charset-normalizer, attrs, async-timeout, aiosignal, typing-extensions, six, qtpy, pypng, helpdev, aiohttp, qrcode, qdarkstyle, pyaes, protobuf, jsonrpclib-pelix, ecdsa, dnspython, certifi, aiorpcx, aiohttp-socks, Electrum\n",
      "INFO:__main__:2023-08-25 21:10:11,811  run                      INFO    run: Successfully installed Electrum-3.3.6 aiohttp-3.8.5 aiohttp-socks-0.8.0 aiorpcx-0.17.0 aiosignal-1.3.1 async-timeout-4.0.3 attrs-23.1.0 certifi-2023.7.22 charset-normalizer-3.2.0 dnspython-2.4.2 ecdsa-0.18.0 frozenlist-1.4.0 helpdev-0.7.1 idna-3.4 jsonrpclib-pelix-0.4.3.2 multidict-6.0.4 packaging-23.1 protobuf-4.24.1 pyaes-1.6.1 pypng-0.20220715.0 python-socks-2.3.0 qdarkstyle-2.8.1 qrcode-7.4.2 qtpy-2.3.1 six-1.16.0 typing-extensions-4.7.1 yarl-1.9.2\n",
      "INFO:__main__:2023-08-25 21:10:11,812  run                      INFO    run: \u001b[91mWARNING: Running pip as the 'root' user can result in broken permissions and conflicting behaviour with the system package manager. It is recommended to use a virtual environment instead: https://pip.pypa.io/warnings/venv\n",
      "INFO:__main__:2023-08-25 21:10:11,926  run                      INFO    run: \u001b[0m\u001b[91mWARNING: You are using pip version 21.2.4; however, version 23.2.1 is available.\n",
      "INFO:__main__:2023-08-25 21:10:11,926  run                      INFO    run: You should consider upgrading via the '/usr/local/bin/python -m pip install --upgrade pip' command.\n",
      "INFO:__main__:2023-08-25 21:10:12,862  run                      INFO    run: \u001b[0mCollecting protobuf==3.19.4\n",
      "INFO:__main__:2023-08-25 21:10:12,878  run                      INFO    run:   Downloading protobuf-3.19.4-py2.py3-none-any.whl (162 kB)\n",
      "INFO:__main__:2023-08-25 21:10:13,032  run                      INFO    run: Installing collected packages: protobuf\n",
      "INFO:__main__:2023-08-25 21:10:13,032  run                      INFO    run:   Attempting uninstall: protobuf\n",
      "INFO:__main__:2023-08-25 21:10:13,032  run                      INFO    run:     Found existing installation: protobuf 4.24.1\n",
      "INFO:__main__:2023-08-25 21:10:13,046  run                      INFO    run:     Uninstalling protobuf-4.24.1:\n",
      "INFO:__main__:2023-08-25 21:10:13,047  run                      INFO    run:       Successfully uninstalled protobuf-4.24.1\n",
      "INFO:__main__:2023-08-25 21:10:13,172  run                      INFO    run: Successfully installed protobuf-3.19.4\n",
      "INFO:__main__:2023-08-25 21:10:13,173  run                      INFO    run: \u001b[91mWARNING: Running pip as the 'root' user can result in broken permissions and conflicting behaviour with the system package manager. It is recommended to use a virtual environment instead: https://pip.pypa.io/warnings/venv\n",
      "INFO:__main__:2023-08-25 21:10:13,179  run                      INFO    run: \u001b[0m\u001b[91mWARNING: You are using pip version 21.2.4; however, version 23.2.1 is available.\n",
      "INFO:__main__:2023-08-25 21:10:13,179  run                      INFO    run: You should consider upgrading via the '/usr/local/bin/python -m pip install --upgrade pip' command.\n",
      "INFO:__main__:2023-08-25 21:10:13,546  run                      INFO    run: \u001b[0mCollecting grpclib\n",
      "INFO:__main__:2023-08-25 21:10:13,566  run                      INFO    run:   Downloading grpclib-0.4.5.tar.gz (62 kB)\n",
      "INFO:__main__:2023-08-25 21:10:13,670  run                      INFO    run:   Installing build dependencies: started\n",
      "INFO:__main__:2023-08-25 21:10:16,811  run                      INFO    run:   Installing build dependencies: finished with status 'done'\n",
      "INFO:__main__:2023-08-25 21:10:16,813  run                      INFO    run:   Getting requirements to build wheel: started\n",
      "INFO:__main__:2023-08-25 21:10:17,042  run                      INFO    run:   Getting requirements to build wheel: finished with status 'done'\n",
      "INFO:__main__:2023-08-25 21:10:17,044  run                      INFO    run:     Preparing wheel metadata: started\n",
      "INFO:__main__:2023-08-25 21:10:17,238  run                      INFO    run:     Preparing wheel metadata: finished with status 'done'\n",
      "INFO:__main__:2023-08-25 21:10:18,925  run                      INFO    run: Collecting grpcio-tools==1.44.0\n",
      "INFO:__main__:2023-08-25 21:10:18,934  run                      INFO    run:   Downloading grpcio-tools-1.44.0.tar.gz (2.2 MB)\n",
      "INFO:__main__:2023-08-25 21:10:19,636  run                      INFO    run: Requirement already satisfied: protobuf<4.0dev,>=3.5.0.post1 in /usr/local/lib/python3.9/site-packages (from grpcio-tools==1.44.0) (3.19.4)\n",
      "INFO:__main__:2023-08-25 21:10:21,192  run                      INFO    run: Collecting grpcio>=1.44.0\n",
      "INFO:__main__:2023-08-25 21:10:21,207  run                      INFO    run:   Downloading grpcio-1.57.0.tar.gz (24.7 MB)\n",
      "INFO:__main__:2023-08-25 21:10:23,699  run                      INFO    run: Requirement already satisfied: setuptools in /usr/local/lib/python3.9/site-packages (from grpcio-tools==1.44.0) (57.5.0)\n",
      "INFO:__main__:2023-08-25 21:10:23,704  run                      INFO    run: Requirement already satisfied: multidict in /usr/local/lib/python3.9/site-packages (from grpclib) (6.0.4)\n",
      "INFO:__main__:2023-08-25 21:10:23,753  run                      INFO    run: Collecting h2<5,>=3.1.0\n",
      "INFO:__main__:2023-08-25 21:10:23,756  run                      INFO    run:   Downloading h2-4.1.0-py3-none-any.whl (57 kB)\n",
      "INFO:__main__:2023-08-25 21:10:23,786  run                      INFO    run: Collecting hyperframe<7,>=6.0\n",
      "INFO:__main__:2023-08-25 21:10:23,789  run                      INFO    run:   Downloading hyperframe-6.0.1-py3-none-any.whl (12 kB)\n",
      "INFO:__main__:2023-08-25 21:10:23,809  run                      INFO    run: Collecting hpack<5,>=4.0\n",
      "INFO:__main__:2023-08-25 21:10:23,812  run                      INFO    run:   Downloading hpack-4.0.0-py3-none-any.whl (32 kB)\n",
      "INFO:__main__:2023-08-25 21:10:23,845  run                      INFO    run: Building wheels for collected packages: grpcio-tools, grpclib, grpcio\n",
      "INFO:__main__:2023-08-25 21:10:23,845  run                      INFO    run:   Building wheel for grpcio-tools (setup.py): started\n",
      "INFO:__main__:2023-08-25 21:11:24,734  run                      INFO    run:   Building wheel for grpcio-tools (setup.py): still running...\n",
      "INFO:__main__:2023-08-25 21:12:25,456  run                      INFO    run:   Building wheel for grpcio-tools (setup.py): still running...\n",
      "INFO:__main__:2023-08-25 21:13:06,779  run                      INFO    run:   Building wheel for grpcio-tools (setup.py): finished with status 'done'\n",
      "INFO:__main__:2023-08-25 21:13:06,782  run                      INFO    run:   Created wheel for grpcio-tools: filename=grpcio_tools-1.44.0-cp39-cp39-linux_s390x.whl size=2192509 sha256=edea6a37849ce1952ffb014bc4d39accc7ccef3d98df8f62e4235a0b8420951c\n",
      "INFO:__main__:2023-08-25 21:13:06,782  run                      INFO    run:   Stored in directory: /root/.cache/pip/wheels/7f/15/f2/8366b303974c337c335cad8aa8bd36dbcbf72397c8a10f57c3\n",
      "INFO:__main__:2023-08-25 21:13:06,785  run                      INFO    run:   Building wheel for grpclib (PEP 517): started\n",
      "INFO:__main__:2023-08-25 21:13:07,024  run                      INFO    run:   Building wheel for grpclib (PEP 517): finished with status 'done'\n",
      "INFO:__main__:2023-08-25 21:13:07,025  run                      INFO    run:   Created wheel for grpclib: filename=grpclib-0.4.5-py3-none-any.whl size=77152 sha256=993cea6152cd036b80273da3631debae7ff214ccf622a7ec625dc5341eac00a7\n",
      "INFO:__main__:2023-08-25 21:13:07,025  run                      INFO    run:   Stored in directory: /root/.cache/pip/wheels/fa/bf/74/02e34d5240d3df96b93275cbe1f916994942ca6ccbbd5b5d5e\n",
      "INFO:__main__:2023-08-25 21:13:07,027  run                      INFO    run:   Building wheel for grpcio (setup.py): started\n",
      "INFO:__main__:2023-08-25 21:14:07,654  run                      INFO    run:   Building wheel for grpcio (setup.py): still running...\n",
      "INFO:__main__:2023-08-25 21:15:08,226  run                      INFO    run:   Building wheel for grpcio (setup.py): still running...\n",
      "INFO:__main__:2023-08-25 21:16:10,792  run                      INFO    run:   Building wheel for grpcio (setup.py): still running...\n",
      "INFO:__main__:2023-08-25 21:17:11,161  run                      INFO    run:   Building wheel for grpcio (setup.py): still running...\n",
      "INFO:__main__:2023-08-25 21:18:11,658  run                      INFO    run:   Building wheel for grpcio (setup.py): still running...\n",
      "INFO:__main__:2023-08-25 21:19:13,346  run                      INFO    run:   Building wheel for grpcio (setup.py): still running...\n",
      "INFO:__main__:2023-08-25 21:20:13,639  run                      INFO    run:   Building wheel for grpcio (setup.py): still running...\n",
      "INFO:__main__:\n"
     ]
    }
   ],
   "source": [
    "! ./build.py log --log build --env sbs-config.json"
   ]
  },
  {
   "cell_type": "markdown",
   "id": "primary-chaos",
   "metadata": {},
   "source": [
    "---\n",
    "\n",
    "### Step 6.6 Download the state image of your Secure Build Server\n",
    "\n",
    "Run the code cell below to download the state image, which is a backup of the state of your Secure Build Server instance. This can be used to recreate your Secure Build Server if necessary. This backup also contains the logs of any builds you run on your Secure Build Server."
   ]
  },
  {
   "cell_type": "code",
   "execution_count": 93,
   "id": "burning-stage",
   "metadata": {},
   "outputs": [
    {
     "name": "stdout",
     "output_type": "stream",
     "text": [
      "INFO:__main__:state:name: docker.io.gmoney23.secure-bitcoin-wallet.s390x-v1-6d0f0e4.2023-08-25_21-25-56.285501\n"
     ]
    }
   ],
   "source": [
    "! ./build.py get-state-image --env sbs-config.json"
   ]
  },
  {
   "cell_type": "markdown",
   "id": "incorporated-sleeve",
   "metadata": {},
   "source": [
    "---\n",
    "\n",
    "### Step 6.7 Verify the manifest file from your build\n",
    "\n",
    "The Secure Build Server creates a signed manifest file for each successful build. The manifest file is useful for audit purposes. You can verify the source and integrity of the build and the built image or you can pass the manifest file to an auditor to do so. Run the below code cell to download and verify the manifest file:"
   ]
  },
  {
   "cell_type": "code",
   "execution_count": 94,
   "id": "general-persian",
   "metadata": {},
   "outputs": [
    {
     "name": "stdout",
     "output_type": "stream",
     "text": [
      "INFO:__main__:get-manifest manifest_name: manifest.docker.io.gmoney23.secure-bitcoin-wallet.s390x-v1-6d0f0e4.2023-08-25_21-25-56.285501\n",
      "INFO:__main__:verify_manifest: manifest_name=manifest.docker.io.gmoney23.secure-bitcoin-wallet.s390x-v1-6d0f0e4.2023-08-25_21-25-56.285501 test=0\n",
      "INFO:__main__:verify=OK\n"
     ]
    }
   ],
   "source": [
    "! ./build.py get-manifest --env sbs-config.json  --verify-manifest"
   ]
  },
  {
   "cell_type": "markdown",
   "id": "4888febf-f0d6-4e55-9a26-a562e836fbdf",
   "metadata": {},
   "source": [
    "The above command downloads the manifest file and verifies the digital signature on it.  In the last line of output from the above code cell you should see *verify=OK* which indicates that the digital signature is valid and is proof that the manifest file has not been tampered with.\n",
    "\n",
    "---\n",
    "\n",
    "### Step 6.8 Download image digest\n",
    "\n",
    "Download the digest of your image to use in your docker-compose file later."
   ]
  },
  {
   "cell_type": "code",
   "execution_count": null,
   "id": "e9de941f-d327-4111-9bca-bf54e851d3ce",
   "metadata": {},
   "outputs": [],
   "source": [
    "! ./build.py get-digest --env sbs-config.json | cut -d \":\" -f2-3 | cut -d \" \" -f2 > sbw_image.env"
   ]
  },
  {
   "cell_type": "markdown",
   "id": "bc4d0042-4368-4ac6-aa87-c2db9fafe868",
   "metadata": {},
   "source": [
    "---\n",
    "\n",
    "### Step 6.9 Download signed image public key\n",
    "\n",
    "Download the public key used to sign your image during the secure build process for later use."
   ]
  },
  {
   "cell_type": "code",
   "execution_count": 170,
   "id": "0d35ddff-c68d-4fee-9c01-dfb8c62cb7c5",
   "metadata": {},
   "outputs": [
    {
     "name": "stdout",
     "output_type": "stream",
     "text": [
      "INFO:__main__:Downloaded signed image public key to file docker.io-gmoney23-secure-bitcoin-wallet-public.key\n"
     ]
    }
   ],
   "source": [
    "! ./build.py get-signed-image-publickey --env sbs-config.json"
   ]
  },
  {
   "cell_type": "markdown",
   "id": "industrial-inquiry",
   "metadata": {},
   "source": [
    "---\n",
    "\n",
    "## Create HPVS for VPC using the image that you just built\n",
    "\n",
    "### Step 7.1 Create a new working directory\n",
    "\n",
    "Create a new working directory for your work creating your secure bitcoin wallet contract."
   ]
  },
  {
   "cell_type": "code",
   "execution_count": 142,
   "id": "f04518ee-dfab-4d8e-90db-ab98951cb68f",
   "metadata": {},
   "outputs": [],
   "source": [
    "! mkdir -p secure-bitcoin-wallet"
   ]
  },
  {
   "cell_type": "code",
   "execution_count": null,
   "id": "0aa9d51b-6030-42b7-af42-142276ecccc4",
   "metadata": {},
   "outputs": [],
   "source": [
    "%cd secure-bitcoin-wallet"
   ]
  },
  {
   "cell_type": "markdown",
   "id": "065558b9-cf91-4329-8aa5-b5149eaf0a3c",
   "metadata": {},
   "source": [
    "---\n",
    "\n",
    "### Step 7.2 Create a compose subdirectory\n",
    "\n",
    "Create a subdirectory for your work setting up your contract and change into it"
   ]
  },
  {
   "cell_type": "code",
   "execution_count": 182,
   "id": "9a750bfd-a479-498d-9081-f978ad9f3155",
   "metadata": {},
   "outputs": [],
   "source": [
    "! mkdir -p {environment,workload/compose}"
   ]
  },
  {
   "cell_type": "code",
   "execution_count": null,
   "id": "366acf14-adab-41f9-9c44-ae3780746e8e",
   "metadata": {},
   "outputs": [],
   "source": [
    "%cd workload/compose"
   ]
  },
  {
   "cell_type": "markdown",
   "id": "8af3d6c7-defb-47fa-942a-95eef8e70bc8",
   "metadata": {},
   "source": [
    "---\n",
    "\n",
    "### Step 7.3 Create your Docker Compose file\n",
    "\n",
    "Create the Docker Compose file for the secure bitcoin wallet application."
   ]
  },
  {
   "cell_type": "code",
   "execution_count": 74,
   "id": "621103b6-cb90-419d-9fac-00ef8f6f5873",
   "metadata": {},
   "outputs": [],
   "source": [
    "%%bash\n",
    "cat << EOF > docker-compose.yml\n",
    "services:\n",
    "  wallet:\n",
    "    image: $(cat ../../../sbw_image.env)\n",
    "    ports:\n",
    "      - \"443:443\"\n",
    "    environment:\n",
    "      - WALLET_NAME:general\n",
    "EOF"
   ]
  },
  {
   "cell_type": "markdown",
   "id": "a11d51b1-93dd-401b-be10-f16d2f71536d",
   "metadata": {},
   "source": [
    "---\n",
    "\n",
    "### Step 7.4 Check the contents of your Docker compose file\n",
    "\n",
    "Check on the Docker Compose file you just created with the following code box."
   ]
  },
  {
   "cell_type": "code",
   "execution_count": null,
   "id": "069d9e7f-9488-4807-8807-9989d5698549",
   "metadata": {},
   "outputs": [],
   "source": [
    "! cat docker-compose.yml"
   ]
  },
  {
   "cell_type": "markdown",
   "id": "58fb6b70-68d8-4eca-91d9-58bb507c1551",
   "metadata": {},
   "source": [
    "---\n",
    "\n",
    "### Step 7.5 Move to the main workload directory\n",
    "\n",
    "Move back a directory to the main workload directory"
   ]
  },
  {
   "cell_type": "code",
   "execution_count": 76,
   "id": "b553ff84-79e0-43c2-ae27-09902a49b50b",
   "metadata": {},
   "outputs": [
    {
     "name": "stdout",
     "output_type": "stream",
     "text": [
      "/home/jovyan/labdir/secure-build-cli/secure-bitcoin-wallet\n"
     ]
    }
   ],
   "source": [
    "%cd .."
   ]
  },
  {
   "cell_type": "markdown",
   "id": "a7b89c83-6f08-4071-955a-798cca1f7029",
   "metadata": {},
   "source": [
    "---\n",
    "\n",
    "### Step 7.6 Create a script to encrypt the workload section of the contract\n",
    "\n",
    "Create a a convenience script to automate creating the encrypted workload section of the contract."
   ]
  },
  {
   "cell_type": "code",
   "execution_count": 66,
   "id": "373bb98b-f542-49a9-af07-7ebb1f2c8961",
   "metadata": {},
   "outputs": [],
   "source": [
    "%%bash\n",
    "cat << EOF > flow.workload\n",
    "# Create the workload section of the contract and add the contents in the workload.yaml file.\n",
    "\n",
    "WORKLOAD_PLAIN=./workload.yaml.plaintext\n",
    "WORKLOAD=workload.yaml\n",
    "\n",
    "echo \"  type: workload\n",
    "  compose:\n",
    "    archive: \\$(tar -czv -C compose . | base64 -w0)\n",
    "  images:\n",
    "    dct:\n",
    "      \\$(cat ../../sbw_image.env | cut -d \"@\" -f1):\n",
    "        notary: https://notary.docker.io\n",
    "        publicKey: \\$(cat ../../docker.io-${docker_user}-secure-bitcoin-wallet-public.key)\" > \\${WORKLOAD_PLAIN}\n",
    "\n",
    "# Download certificate to encrypt contract for Hyper Protect Container Runtime:\n",
    "HPCR_rev=11\n",
    "CONTRACT_KEY=./ibm-hyper-protect-container-runtime-1-0-s390x-\\${HPCR_rev}-encrypt.crt\n",
    "curl https://cloud.ibm.com/media/docs/downloads/hyper-protect-container-runtime/ibm-hyper-protect-container-runtime-1-0-s390x-\\${HPCR_rev}-encrypt.crt > \\${CONTRACT_KEY}\n",
    "\n",
    "\n",
    "# Use the following command to create a random password:\n",
    "PASSWORD_WORKLOAD=\"\\$(openssl rand 32 | base64 -w0)\"\n",
    "\n",
    "# Use the following command to encrypt password with the Hyper Protect Container Runtime Contract Encryption Key:\n",
    "ENCRYPTED_WORKLOAD_PASSWORD=\"\\$(echo -n \"\\$PASSWORD_WORKLOAD\" | base64 -d | openssl rsautl -encrypt -inkey \\$CONTRACT_KEY -certin | base64 -w0)\"\n",
    "\n",
    "# Use the following command to encrypt the workload.yaml file with a random password:\n",
    "ENCRYPTED_WORKLOAD=\"\\$(echo -n \"\\$PASSWORD_WORKLOAD\" | base64 -d | openssl enc -aes-256-cbc -pbkdf2 -pass stdin -in \"\\$WORKLOAD_PLAIN\" | base64 -w0)\"\n",
    "\n",
    "# Use the following command to get the encrypted section of the contract:\n",
    "WORKLOAD_ENCRYPTED=\"hyper-protect-basic.\\${ENCRYPTED_WORKLOAD_PASSWORD}.\\${ENCRYPTED_WORKLOAD}\"\n",
    "\n",
    "echo \"\"\n",
    "echo \"See `pwd`/workload.yaml.plaintext to see what was encrypted for the workload section of your contract\"\n",
    "echo \"\"\n",
    "\n",
    "echo \"\\$WORKLOAD_ENCRYPTED\" > ../\\$WORKLOAD\n",
    "EOF\n"
   ]
  },
  {
   "cell_type": "markdown",
   "id": "200a2d97-02b2-4e12-924f-36be8a59fff5",
   "metadata": {},
   "source": [
    "---\n",
    "\n",
    "### Step 7.7 Move to the environment directory\n",
    "\n",
    "Move to the environment directory to begin working on the environment section of the contract."
   ]
  },
  {
   "cell_type": "code",
   "execution_count": 67,
   "id": "e3b10f30-de9f-49a9-97c0-2a4024f47e56",
   "metadata": {},
   "outputs": [
    {
     "name": "stdout",
     "output_type": "stream",
     "text": [
      "/home/jovyan/labdir/secure-build-cli/secure-bitcoin-wallet/environment\n"
     ]
    }
   ],
   "source": [
    "%cd ../environment"
   ]
  },
  {
   "cell_type": "markdown",
   "id": "439b4e2c-80ba-445d-a48f-49c8dec810b8",
   "metadata": {},
   "source": [
    "--- \n",
    "\n",
    "### Step 7.8 Set the instructor provided API key\n",
    "\n",
    "Set the instructor provided API Key by pasting it to the right of the = sign in the code cell below and then running the code cell."
   ]
  },
  {
   "cell_type": "code",
   "execution_count": 11,
   "id": "359cbbb5-0c92-4142-9a15-a6a8d59f39c4",
   "metadata": {},
   "outputs": [
    {
     "name": "stdout",
     "output_type": "stream",
     "text": [
      "env: api_key=E8XcvwQArklO-gP0DgWoKkAKkCxbyi6h45-LsDj6mOrK\n"
     ]
    }
   ],
   "source": [
    "%set_env api_key="
   ]
  },
  {
   "cell_type": "markdown",
   "id": "2a059ee2-4e4c-4875-8edd-c1ed011429fa",
   "metadata": {},
   "source": [
    "---\n",
    "\n",
    "### Step 7.9 Create a script to encrypt the environment section of the contract\n",
    "\n",
    "Create a convenience script to automate creating the encrypted environment section of the contract."
   ]
  },
  {
   "cell_type": "code",
   "execution_count": 68,
   "id": "7035062b-e3c3-4b26-ba4d-6233e54680a5",
   "metadata": {},
   "outputs": [],
   "source": [
    "%%bash\n",
    "cat << EOF > flow.env\n",
    "# Create the env section of the contract and add the contents in the env.yaml file.\n",
    "ENV_PLAIN=\"./env.yaml.plaintext\"\n",
    "ENV=\"env.yaml\"\n",
    "\n",
    "echo \"  type: env\n",
    "  logging:\n",
    "    logDNA:\n",
    "      hostname: \\${logdna_hostname}\n",
    "      ingestionKey: \\${logdna_ingestion_key}\n",
    "      port: 6514\n",
    "  env:\n",
    "    ZHSM: ep11.us-south.hs-crypto.cloud.ibm.com:8457\n",
    "    APIKEY: ${api_key}\" > \\${ENV_PLAIN}\n",
    "\n",
    "cat ./pubSigningKey.yaml >> \\${ENV_PLAIN}\n",
    "\n",
    "# Download certificate to encrypt contract for Hyper Protect Container Runtime:\n",
    "HPCR_rev=11\n",
    "CONTRACT_KEY=./ibm-hyper-protect-container-runtime-1-0-s390x-\\${HPCR_rev}-encrypt.crt\n",
    "curl https://cloud.ibm.com/media/docs/downloads/hyper-protect-container-runtime/\\$CONTRACT_KEY > \\$CONTRACT_KEY\n",
    "\n",
    "\n",
    "# Use the following command to create a random password:\n",
    "PASSWORD_ENV=\"\\$(openssl rand 32 | base64 -w0)\"\n",
    "\n",
    "#  Use the following command to encrypt password with the Hyper Protect Container Runtime Contract Encryption Key:\n",
    "ENCRYPTED_ENV_PASSWORD=\"\\$(echo -n \"\\$PASSWORD_ENV\" | base64 -d | openssl rsautl -encrypt -inkey \\$CONTRACT_KEY -certin | base64 -w0 )\"\n",
    "\n",
    "# Use the following command to encrypt env.yaml with a random password:\n",
    "ENCRYPTED_ENV=\"\\$(echo -n \"\\$PASSWORD_ENV\" | base64 -d | openssl enc -aes-256-cbc -pbkdf2 -pass stdin -in \"\\$ENV_PLAIN\" | base64 -w0)\"\n",
    "\n",
    "# Use the following command to get the encrypted section of the contract:\n",
    "ENV_ENCRYPTED=\"hyper-protect-basic.\\${ENCRYPTED_ENV_PASSWORD}.\\${ENCRYPTED_ENV}\"\n",
    "\n",
    "echo \"\"\n",
    "echo \"See `pwd`/env.yaml.plaintext to see what was encrypted for the env section of your contract\"\n",
    "echo \"\"\n",
    "\n",
    "echo \"\\$ENV_ENCRYPTED\" > ../\\$ENV\n",
    "EOF\n"
   ]
  },
  {
   "cell_type": "markdown",
   "id": "61a8bf0d-9f8e-42ac-a52a-150c24e7081a",
   "metadata": {},
   "source": [
    "---\n",
    "\n",
    "### Step 7.10 Move back to the main directory\n",
    "\n",
    "Move back to the secure-bitcoin-wallet main directory"
   ]
  },
  {
   "cell_type": "code",
   "execution_count": 69,
   "id": "0dd0c9ef-e28c-40a3-92b4-42208110d994",
   "metadata": {},
   "outputs": [
    {
     "name": "stdout",
     "output_type": "stream",
     "text": [
      "/home/jovyan/labdir/secure-build-cli/secure-bitcoin-wallet\n"
     ]
    }
   ],
   "source": [
    "%cd .."
   ]
  },
  {
   "cell_type": "markdown",
   "id": "1ac00ce4-9f89-4fd6-bb53-7f0c240d0430",
   "metadata": {},
   "source": [
    "---\n",
    "\n",
    "### Step 7.11 Create scripts for signing the contracts\n",
    "\n",
    "Create a script for generating keys and one for signing the contracts by running the code cells below."
   ]
  },
  {
   "cell_type": "code",
   "execution_count": 224,
   "id": "7f77d16e-4a93-4a28-852c-f9b32799c3c6",
   "metadata": {},
   "outputs": [],
   "source": [
    "%%bash\n",
    "cat << EOF > flow.prepare\n",
    "# Use the following command to generate key pair to sign the contract \n",
    "openssl genrsa -aes128 -passout pass:test1234 -out private.pem 4096\n",
    "openssl rsa -in private.pem -passin pass:test1234 -pubout -out public.pem\n",
    "\n",
    "# The following command is an example of how you can get the signing key:\n",
    "key=\\$(awk -vRS=\"\\n\" -vORS=\"\\\\\\\\\\n\" '1' public.pem)\n",
    "# echo \"  signingKey: \\\"\\${key%\\\\\\\\n}\\\"\" > environment/pubSigningKey.yaml\n",
    "printf \"%s\" \"  signingKey: \\\"\\${key%\\\\\\\\n}\\\"\" > environment/pubSigningKey.yaml\n",
    "EOF"
   ]
  },
  {
   "cell_type": "code",
   "execution_count": 225,
   "id": "56de48f7-c14f-4f60-9631-3e270bde369d",
   "metadata": {},
   "outputs": [],
   "source": [
    "%%bash\n",
    "cat << EOF > flow.signature\n",
    "# combine workload and environment\n",
    "cat workload.yaml env.yaml | tr -d '\\n' > contract.yaml\n",
    "\n",
    "# Sign the combination from workload and env being approved\n",
    "echo \\$( cat contract.yaml | openssl dgst -sha256 -sign private.pem -passin pass:test1234 | openssl enc -base64) | tr -d ' ' > signature.yaml\n",
    "\n",
    "# Create user data and add signature:\n",
    "echo \"workload: \\$(cat workload.yaml)\n",
    "env: \\$(cat env.yaml)\n",
    "envWorkloadSignature: \\$(cat signature.yaml)\" > user_data.yaml\n",
    "\n",
    "echo \"\"\n",
    "echo \"import `pwd`/user_data.yaml into User Data or copy and paste from below:\"\n",
    "echo \"\"\n",
    "\n",
    "cat user_data.yaml\n",
    "EOF"
   ]
  },
  {
   "cell_type": "markdown",
   "id": "eaead540-52fa-4d86-95af-666061ea3ec8",
   "metadata": {},
   "source": [
    "---\n",
    "\n",
    "### Step 7.12 Create a script to run the other scripts\n",
    "\n",
    "Create a main script to launch the various different scripts, automating the entire process of creating the contract."
   ]
  },
  {
   "cell_type": "code",
   "execution_count": 226,
   "id": "66712d39-42d8-4605-b2e4-7422cb0faf3c",
   "metadata": {},
   "outputs": [],
   "source": [
    "%%bash\n",
    "cat << EOF > makeContract\n",
    ". ./flow.prepare\n",
    "cd workload\n",
    ". ./flow.workload\n",
    "cd ../environment\n",
    ". ./flow.env\n",
    "cd ..\n",
    ". ./flow.signature\n",
    "EOF"
   ]
  },
  {
   "cell_type": "markdown",
   "id": "7541bf19-b419-4b00-901d-0ec06bcc5cdc",
   "metadata": {},
   "source": [
    "---\n",
    "\n",
    "### Step 7.13 Create the contract\n",
    "\n",
    "Create the contract by running the contract creation automation script."
   ]
  },
  {
   "cell_type": "code",
   "execution_count": 77,
   "id": "78837276-5a9e-42ac-9a56-e9b1a2da8898",
   "metadata": {},
   "outputs": [
    {
     "name": "stdout",
     "output_type": "stream",
     "text": [
      "Generating RSA private key, 4096 bit long modulus (2 primes)\n",
      "............................................................................................................++++\n",
      ".........................................................................................................................................................++++\n",
      "e is 65537 (0x010001)\n",
      "writing RSA key\n",
      "./\n",
      "./flow.workload\n",
      "./docker-compose.yml\n",
      "./sbw_image.env\n",
      "  % Total    % Received % Xferd  Average Speed   Time    Time     Time  Current\n",
      "                                 Dload  Upload   Total   Spent    Left  Speed\n",
      "100  2606  100  2606    0     0  33410      0 --:--:-- --:--:-- --:--:-- 33410\n",
      "\n",
      "See /home/jovyan/labdir/secure-build-cli/secure-bitcoin-wallet/workload/workload.yaml.plaintext to see what was encrypted for the workload section of your contract\n",
      "\n",
      "  % Total    % Received % Xferd  Average Speed   Time    Time     Time  Current\n",
      "                                 Dload  Upload   Total   Spent    Left  Speed\n",
      "100  2606  100  2606    0     0  86866      0 --:--:-- --:--:-- --:--:-- 84064\n",
      "\n",
      "See /home/jovyan/labdir/secure-build-cli/secure-bitcoin-wallet/environment/env.yaml.plaintext to see what was encrypted for the env section of your contract\n",
      "\n",
      "\n",
      "import /home/jovyan/labdir/secure-build-cli/secure-bitcoin-wallet/user_data.yaml into User Data or copy and paste from below:\n",
      "\n",
      "workload: hyper-protect-basic.GRzq/rsyh0licLE0afFC/TiuGRcznR4jqO5GcHK3T3/9nzGLqMHpEisZPiNauanhP/m/+JPuyruAloSm/xG0dnpSVyCuSCnEAgkcjIZZAGA++6/GnJ50uhsMvl5ehTNZi5aezT1x6oypFqxZHeqL/Do2TH+sPtjt+ZkoArfoqjFVkIRVv5e1RwdfpEo4IK0XFPMT20ZQiEdud7jYIJuVqSKaec0Ag0wU5PfSNU7LpCojRQ7iHmprMte3rl3BHRkGT6jLDHTYPxYiq/J5VlaQg6jZG/66y/7w+3MIQOv8g7HfttIp1wQHbgA54xNFHoUXhYQybcXapZqza3OEb+2vWpww5GJht0MEQJG3LESewQyzfzbYh0h6XzYG3Y0SDlMQbBRlKKlNoToy4tIzJJMdE/kLj/iZiaJziYrYPrpOekIsYjmJHrq70V1Sf2ojyCHU8i6YlrlvLDMMRAt/PwD08R/+FyQHi2MFeFQXx5w2Q/GZOR6zN1pwzVrdVAWE+v1PQkcfXAso0i7L0GCNHKdAb2U6Mg0smbUeaZT80TFax2wGjTE498Wp+Ps4PqFHTKnk5n9jYQNhrjCInYtr6bY7g6e7YZVRsNkoFv8LJMC7CS7htGA3gXHYeql++mrJ67njmQ1EpRUHg/OArW4zBWn1FCHP3h8hVy1rul1+n7TVVew=.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\n",
      "env: hyper-protect-basic.kVh3AIVOraz+I4oDZ/TR2LOkvhZQev3CfCDTqxCAP90GQIjHMH4JC4dHT7km5wEUInT/HrllHqNmCcK8XCVihQMM7RWcy2O7j84Z87yTc4lKkwDQLko6EJ4eDlNIvWzG5Fk/CDWMzJ/J0xxqBSRCcz5Yj6kk/FiHM8kcimwyj5TqNB/zLqmvQNvH+IAiZwpWcjifeyAyh6ud3xn6xiuS2Ttnyg4nXCicPb1k5nlMCpA4B/vU+xDD06ZH2SPL/UWASrbfrWHNJTcnJ5o8NdNJEDnFQV2TwqPOig8Btk9ii5SI17W7mybxczx8wezFxohoIL928TmTsT5l269EF1JZH3XCj+9CBJ+2I5Vq1/XywiI3PsNpK0fcw/7eCMs+Jmo1h2KGOgjcaj22S7nmL6SloFPtVqc95vcvFgmf8Wy4eYZbVnSzRmFpWX/00x+swDtR9jid3iTMIMq89Luv+OIIk3mi75yLm2mL/NEkwehJbyNiys4bsEr9ort3EEjXdvqU33Q6/R6GZ+qr6T9+2U11AiVmAaE7ZJ4Kv4jblYHjnIaNxqofAhLt2sxqITTonOwGBuL4uM2FCLmIFBQS3tRK7GRouQZo5tm3/WUdxnUiNN7emjtmV9zwcEDoa6QFaB8drpcEG6Ib2wK1sl6BQAw7vz+Aw8R1eMWm7W5Lc7gPzV0=.U2FsdGVkX198YQKlyEAKPmGTZ6lLHGaYzNbdgD6rm65GsdPTxACbR7dic3StsPrlr4v5Il+jLE1r59N7ix/+PlUpCiJHt/3adHBKmQwotiT+Y/DXC/VMokCrCS2m+Huo9mwSO/EdAA52qOolTdgvedetwFXwVY8zTN1lmWyAXB78XO93L6VcADsBOXPMdzImyhbzNK6/TVUoz/HCRPXv8Au7huVNaHY46+T/hRTRQsErWiB3mXft0qiFnlp7esfFAU9tcfhS4IqNt1iOG9U7KxA9DjdtMnB+og8XMYTlZ3hOtFrnZuhTBrMp2DEK+ziEnfcfotVt8UhFCWIR6D9m+db+XcY4bgHEMYuus/913V/v0R7eDyAsimo+8ahdHDCF7Hgv+rqSxorJpQwAJpUmAdh9XdDWZzKTwVy+nz8GzwYe40Cg7Lj/Pp8LkbsZhDD33GnCmOA+giyfQzqEHcM+C0Jek4cFHPX6H4f+xbVIU3DU5Yxm8paIOxYIvpCjXKJHMfYuv/uk573mvyrbbtpvKY2eJGT8GegMWbbYy7WafqcoO5A9pQFKOJiymg9j4af26Zs6OE0fveW/Q+exNtLUhxFLHRx+gdVRf03hwUyLPBrn8sVmUTWxTFj7J78sitJovlZYCoQGGn7KgPClggJomV/iyrKUhamsNGSbQUFztH42fSzdaycQd3kpL/vNPVReER0wPKE+14S0BwKZ0Hha0tznlhPoP/0y/tAEJzlnbd47tEP37D/tdlmi7lpoXaRWrbAs8Ba6YlwMsXWRUL520++hvT4nBZCEp4GcP9+h9JIOm1XvNBG1ZpFOjaskT3XIfni7ZJxUWrQCfLHhXCrmsvlvZONsORL3meh4kOf11TESN7mVw/EwPD4d5vlGeXDy2DDyAvhM80q64BL1/MS1OOfTPQOE3PPk78xtHToA25tmsMXOLco51O8ZIuiwfrS1ckQ008aUYlPNf//AOkVOLsYvahuzTQU/l6knXjX5bki4M3wjxsYcP3IMBaCkZpDUonnC2mlLPpoUHA5ldp8pfrZXN6pCqZP/ZmXlgyELf5OrNEtDpeNksPL2LJ9qC21cYELQK01MsKV+YS+ygGdjDb1p91HEVgnpChzIV8dvJldoo8zmHcPFvhRDIuip50/fPvY/kD1ImW82SH2iLIxB3xYwalrPeEZh6ynkVnIhFqvfvlOCJizeJy0rkNclWDozWpu1/EVnw84lyVeT9jVz4XWDMtTGkGyORIb9X1C+k3IoZYLnvmZRiq5DewONsrzxB3ZUHAZ/5SEmGCd0PhJyN6wqEfxR4HltaYt0vBKtHdc58q3RhG7qp0N3JS+9qtQN6Y9dstnaR3B8OFHPMEmeTB6x+nQHkQ0HSC5bpbLBlNsSgSjsYLA6XxtQ6TTlZMrCSP9M6kydUuycGPhe3wW9P5uyMQTalvs+tg0/BUv2B74BfImzjoN+PT/rMPIBnsasn4EnCIVvuTEbSIPU9hDKqm/8yW1EJqE4Ci36e6iG5cs=\n",
      "envWorkloadSignature: Klz2vLP6/xvB/CEVjYouITLBwsw8KpQ6tKyIw68Jy8AhuZ6A3S8OiEH9c53eTeZmVUHMiUM1Up58sEIobdpFy6fNtSu/hSyucHV4ZQ+l9l6MBQjklgJKI7XUv6BsYk9yPid4UT+nGVsBJCb4FVOcR9KCY1yIlkMNTRhRno+WSxiFoGGYNPntyCbdyDpiSSeC8yvo2t+cjUCKpY8fwu//cAZ5AUiiJ8PGzk8IuHiPCoYzGZXyfHUQBWJ1nfH/tN+PD3lS5P+rvUWAFMZ+QxIO9k4PWyhQbdY3cVJAqpoVewHAkzDxG3QQCCCoCvvD80F7qJiWfq95GLzCGxl25IzeSZMIoiaricxe3hqE6K57v9Gp57vRnY22fqKkUb0VK+X6eCO1nq7+oNGqbt+vAQ/9luRzIMB2WgBZQC4PL5Ccr3WNXxTF5ofmOeNxwfh7EZjGRyr6AMh0kpAZKZu9R4qhi75yVe12Kr3yFGBbRKkkmImPqvf0O6k3mFTzTDxD28k/mtVjqsvWQKPx5X6+Sa3YTzkjjlDe/BtcZRkmSYQFI91Ij2qa5pERX9qJjs5q6cxEehB+HoIltxl6gT0XgSVs+0GDJlcORC7G5kkPVdKQ/88V0SDyOZyEIqnvx3AcygOl2omkqjConI4xzr8SAhNlm53pmW30dO+RRgbW8u2EmFs=\n"
     ]
    }
   ],
   "source": [
    "! . ./makeContract"
   ]
  },
  {
   "cell_type": "markdown",
   "id": "e1c898ae-870e-425b-8bcd-bb248e4ecd3a",
   "metadata": {},
   "source": [
    "---\n",
    "\n",
    "### Step 7.14 Set an environment variable for your HPVS for VPC Instance\n",
    "\n",
    "Set an environment variable with your HPVS for VPC instance name"
   ]
  },
  {
   "cell_type": "code",
   "execution_count": 85,
   "id": "15e056e8-8774-4adb-9dc3-3b35f1e766e5",
   "metadata": {},
   "outputs": [
    {
     "name": "stdout",
     "output_type": "stream",
     "text": [
      "env: sbw_instance=secure-bitcoin-wallet\n"
     ]
    }
   ],
   "source": [
    "%set_env sbw_instance=secure-bitcoin-wallet"
   ]
  },
  {
   "cell_type": "markdown",
   "id": "nuclear-seven",
   "metadata": {},
   "source": [
    "---\n",
    "\n",
    "### Step 7.15 Launch your HPVS for VPC Instance\n",
    "\n",
    "Create your HPVS for VPC Instance with the following command"
   ]
  },
  {
   "cell_type": "code",
   "execution_count": 86,
   "id": "continent-chapter",
   "metadata": {},
   "outputs": [
    {
     "name": "stdout",
     "output_type": "stream",
     "text": [
      "Creating instance \u001b[36;1msecure-bitcoin-wallet\u001b[0m under account \u001b[36;1mIBM\u001b[0m as user \u001b[36;1mGarrett.Lee.Woodworth@ibm.com\u001b[0m...\n",
      "\u001b[31;1mFAILED\u001b[0m\n",
      "Error code: validation_unique_failed\n",
      "Error message: instance name \"secure-bitcoin-wallet\" is already in use\n",
      "Error target name: instance_template.name, type: field\n",
      "Trace ID: 3e1c5b3a-1301-4910-b70e-35ec77f78964\n",
      "\n",
      "\n"
     ]
    }
   ],
   "source": [
    "! ibmcloud is instance-create $sbw_instance $vpc $zone bz2e-1x4 $subnet --image r014-282de74a-2a6d-4a5b-837a-f9c4329576dc --user-data @user_data.yaml"
   ]
  },
  {
   "cell_type": "markdown",
   "id": "unlimited-reggae",
   "metadata": {},
   "source": [
    "---\n",
    "\n",
    "### Step 7.16 Check the status of your HPVS for VPC Instance\n",
    "\n",
    "Check the status of your secure bitcoin wallet instance by checking the logs of your deployment in LogDNA. \n",
    "\n",
    "If you have for some reason closed your LogDNA instance, navigate to the IBM Cloud UI (signing in if necessary) via [this link](https://cloud.ibm.com/observe/logging) which will take you to your logging instances. Then, click the blue **Open Dashboard** button in the upper right for the logDNA instance you are using for this lab.\n",
    "\n",
    "If there are issues with your deployment contact an instructor for help unraveling them. "
   ]
  },
  {
   "cell_type": "markdown",
   "id": "10ece690-d397-4607-9901-7fcc698ea5da",
   "metadata": {},
   "source": [
    "---\n",
    "\n",
    "### Step 7.17 Find the nic for your newly created HPVS for VPC instance\n",
    "\n"
   ]
  },
  {
   "cell_type": "code",
   "execution_count": 87,
   "id": "b3f20a6f-c84c-4be9-9711-fe6a493d5571",
   "metadata": {},
   "outputs": [
    {
     "name": "stdout",
     "output_type": "stream",
     "text": [
      "Listing network interfaces of instance \u001b[36;1msecure-bitcoin-wallet\u001b[0m under account \u001b[36;1mIBM\u001b[0m as user \u001b[36;1mGarrett.Lee.Woodworth@ibm.com\u001b[0m...\n",
      "\u001b[1mID\u001b[0m                                          \u001b[1mName\u001b[0m      \u001b[1mType\u001b[0m      \u001b[1mSubnet\u001b[0m                \u001b[1mReserved IP\u001b[0m   \u001b[1mSecurity groups\u001b[0m                        \u001b[1mFloatIPs\u001b[0m         \u001b[1mCreated\u001b[0m                     \u001b[1mStatus\u001b[0m      \u001b[1mAllow source IP spoofing\u001b[0m   \u001b[1mSpeed\u001b[0m   \n",
      "\u001b[36;1m0757-53895c81-ec6c-46a7-a52c-1b18295cb845\u001b[0m   primary   primary   secure-build-subnet   10.241.0.20   escalate-reappear-harmonica-bounding   169.63.100.122   2023-08-28T21:37:13+00:00   available   false                      1500   \n"
     ]
    }
   ],
   "source": [
    "! ibmcloud is instance-network-interfaces $sbw_instance"
   ]
  },
  {
   "cell_type": "markdown",
   "id": "b49aca37-4e40-4753-94c4-f7c7001b218c",
   "metadata": {},
   "source": [
    "---\n",
    "\n",
    "### Step 7.18 Set nic based on above output\n",
    "\n",
    "Set an environment variable for your nic based on the above output by pasting the above ID into the code block below after the `=` sign and then running the code block."
   ]
  },
  {
   "cell_type": "code",
   "execution_count": 81,
   "id": "887cee01-9648-4921-abab-9e2689561c15",
   "metadata": {},
   "outputs": [
    {
     "name": "stdout",
     "output_type": "stream",
     "text": [
      "env: sbw_nic=0757-53895c81-ec6c-46a7-a52c-1b18295cb845\n"
     ]
    }
   ],
   "source": [
    "%set_env sbw_nic="
   ]
  },
  {
   "cell_type": "markdown",
   "id": "ed08072b-9548-4db5-880e-40f14fa0db49",
   "metadata": {},
   "source": [
    "---\n",
    "\n",
    "### Step 7.19 Create a floating IP for the HPVS for VPC instance\n",
    "\n",
    "Create a floating IP for the HPVS for VPC Instance to access it via an IP"
   ]
  },
  {
   "cell_type": "code",
   "execution_count": 82,
   "id": "9e2b505a-4b98-4f6b-8872-9c0666e90d9d",
   "metadata": {},
   "outputs": [
    {
     "name": "stdout",
     "output_type": "stream",
     "text": [
      "Creating floating IP \u001b[36;1mbitcoin-wallet-fip\u001b[0m under account \u001b[36;1mIBM\u001b[0m as user \u001b[36;1mGarrett.Lee.Woodworth@ibm.com\u001b[0m...\n",
      "\u001b[1m\u001b[0m                 \u001b[1m\u001b[0m   \n",
      "\u001b[36;1mID\u001b[0m               r014-7358fe22-1948-41ee-aca1-226d85c26603   \n",
      "\u001b[36;1mAddress\u001b[0m          169.63.100.122   \n",
      "\u001b[36;1mName\u001b[0m             bitcoin-wallet-fip   \n",
      "\u001b[36;1mCRN\u001b[0m              crn:v1:bluemix:public:is:us-east-1:a/5ddc6205e6ebbdc9348ec241cf1f51a8::floating-ip:r014-7358fe22-1948-41ee-aca1-226d85c26603   \n",
      "\u001b[36;1mStatus\u001b[0m           available   \n",
      "\u001b[36;1mZone\u001b[0m             us-east-1   \n",
      "\u001b[36;1mCreated\u001b[0m          2023-08-28T21:39:24+00:00   \n",
      "\u001b[36;1mTarget\u001b[0m           \u001b[1mID\u001b[0m                                          \u001b[1mTarget type\u001b[0m         \u001b[1mInstance ID\u001b[0m                                 \u001b[1mTarget interface name\u001b[0m   \u001b[1mTarget interface private IP\u001b[0m      \n",
      "\u001b[36;1m\u001b[0m                 \u001b[36;1m0757-53895c81-ec6c-46a7-a52c-1b18295cb845\u001b[0m   network_interface   0757_1ed922e7-b26a-4a2d-9ec2-e87633b39103   primary                 10.241.0.20      \n",
      "\u001b[36;1m\u001b[0m                    \n",
      "\u001b[36;1mResource group\u001b[0m   default   \n"
     ]
    }
   ],
   "source": [
    "! ibmcloud is floating-ip-reserve bitcoin-wallet-fip --nic $sbw_nic"
   ]
  },
  {
   "cell_type": "markdown",
   "id": "optimum-singer",
   "metadata": {},
   "source": [
    "---\n",
    "\n",
    "### Step 7.20 Edit this markdown cell to create a clickable link to get to your sample application\n",
    "\n",
    "Once your instance is active, note the value of the _Address_ field from the output from _Step 7.19_.  \n",
    "\n",
    "Double-click anywhere within this paragraph to go into _edit_ mode of this markdown cell.  Then, in the final line of this markdown cell, change `xx.xx.xx.xx` to your public IP address.  The actual URL is on the right side of the line (between parentheses). The text of the link is on the left side of the line in between square brackets.  You may as well change both occurrences of `xx.xx.xx.xx` for clarity, but the one that matters is the link on the right side.   (If you don't see both sides you haven't succesfully got into edit mode—keep trying or ask an instructor for help).  After you have made the change, run this markdown cell by clicking the *Run* icon in the Jupyter Notebook menu above. This will render the markdown and present you with the properly formatted link. Click the link and you will bring up your sample secure bitcoin wallet application.\n",
    "\n",
    "[Change the xxx.xxx.xxx.xxx to your public IP and then click here](https://xxx.xxx.xxx.xxx/electrum)"
   ]
  },
  {
   "cell_type": "markdown",
   "id": "european-analyst",
   "metadata": {},
   "source": [
    "---\n",
    "\n",
    "## Running the Secure Bitcoin Wallet Application in your HPVS for VPC instance\n",
    "\n",
    "### Overview\n",
    "\n",
    "This application is a secure [Electrum](https://electrum.org/#home) Bitcoin wallet found at [this GitHub repository](https://github.com/IBM/secure-bitcoin-wallet). You can use it to store the identities necessary to transact on the Bitcoin public blockchain network. While this version of the wallet is just a proof of concept, running this type of wallet on Hyper Protect enables you to protect your digital assets from bad actors such as malicious server administrators.\n",
    "\n",
    "*This Electrum Bitcoin wallet functions regularly, while inheriting the security benefits of the Hyper Protect Virtual Server for VPC platform. This ensures that a legitimate version of the application is running (Secure Image Build process) and that administrators cannot compromise the application (Hyper Protect Virtual Server for VPC deployment).*\n",
    "\n",
    "Here is an overview diagram of the _sample secure bitcoin wallet application_ that you built in this lab: \n",
    "\n",
    "![Secure Bitcoin Overview](images/sampleapparch.png)\n",
    "\n",
    "The application, by default, uses software cryptography in order to generate keys, but it can also be configured to use _Hyper Protect Crypto Services_ in order to generate keys more securely, which is what you have done earlier in this lab when you specified the _ZHSM_ and the _APIKEY_ environment variables in _Step 7.2_.\n",
    "\n",
    "\n",
    "### Step 8.1 Account Registration\n",
    "\n",
    "Registering a fake account for lab purposes.\n",
    "\n",
    "1. Choose `Register` since you won't have an existing account on the newly deployed server.\n",
    "\n",
    "    ![Secure Bitcoin Wallet Welcome](Bitcoin_Wallet_Images/Bitcoin_Wallet_Homepage.png)\n",
    "\n",
    "2. Enter the registration details you desire.\n",
    "\n",
    "    ![User Registration](Bitcoin_Wallet_Images/Wallet_register_info.png)\n",
    "\n",
    "\n",
    "*Do not worry about the information you enter on the registration page (shown below) as it won't map to anything critical to the real world.  You just need your password to log back in if you log out of the application.*\n",
    "\n",
    "### Step 8.2 Wallet initialization\n",
    "\n",
    "It's time to set up your Secure Electrum Bitcoin wallet itself!\n",
    "\n",
    "1. Bring up the wallet screen\n",
    "\n",
    "    ![Wallet Start](Bitcoin_Wallet_Images/Click_Wallet_Start.png)\n",
    "\n",
    "2. Enter in a `password` for your wallet and click `Create Wallet`\n",
    "\n",
    "    ![Create Wallet](Bitcoin_Wallet_Images/Create_Wallet.png)\n",
    "\n",
    "3. Load your newly created wallet to enable it\n",
    "\n",
    "    ![Load Wallet](Bitcoin_Wallet_Images/Load_Wallet.png)\n",
    "\n",
    "4. Reload the page\n",
    "\n",
    "    ![Initialized Wallet](Bitcoin_Wallet_Images/Reload_new_wallet.png)\n",
    "\n",
    "5. Your wallet is ready for use in all of its glory\n",
    "\n",
    "    ![Locked and Loaded Wallet](Bitcoin_Wallet_Images/Loaded_Wallet_Time.png)\n",
    "\n",
    "### Step 8.3 Receiving Bitcoins\n",
    "\n",
    "A wallet without currency is blasphemy, so it's time to fill it on up with fake bitcoins.\n",
    "\n",
    "1. Go to the `Receive` section of the wallet and get the bitcoin wallet address.  \n",
    "\n",
    "    ![Wallet receiving bitcoin](Bitcoin_Wallet_Images/Receiving_bitcoin.png)\n",
    "\n",
    "    *This is the address whose alloted bitcoins you lay claim to.*\n",
    "\n",
    "2. Open [this bitcoin test faucet site](https://testnet-faucet.com/btc-testnet/) [click on the link] and use it to transfer bitcoin value to the `Receiving address` in your wallet **from step 1 above**.\n",
    "\n",
    "    ![Transfer Bitcoins](Bitcoin_Wallet_Images/Send_bitcoins_to_wallet.png)\n",
    "\n",
    "    *Instead of transacting on the \"real\" bitcoin blockchain network, we are using a [testnet](https://medium.com/myetherwallet/understanding-blockchain-changes-testnets-and-mainnets-c2171a8e835f). This means that the network participants agree that the assets on the network have no value. Testnets are used for testing changes to the network, testing applications and introducing new users to the technical aspects of network. There are testnets for many of the public blockchain networks including of course bitcoin and ethereum. Test faucets (like the one we are using) act as distributors of tokens to other users on the testnet.*\n",
    "\n",
    "3. Switch back to your wallet tab and go to the `History` section and then reload the page.\n",
    "\n",
    "    ![Check History](Bitcoin_Wallet_Images/Check_History_Receive_Transaction.png)\n",
    "\n",
    "4. You should now see your wallet address as the recipient of a `pending transaction` from the bitcoin testnet faucet.\n",
    "\n",
    "    ![First Transaction History](Bitcoin_Wallet_Images/Transaction_History_no_confirmations.png)\n",
    "\n",
    "5. After clicking for more information you get a detailed transaction overview\n",
    "\n",
    "    ![Receive Transaction 0 Confirmations](Bitcoin_Wallet_Images/0_confirmations_block_details.png)\n",
    "\n",
    "    *The number of [confirmations](https://en.bitcoin.it/wiki/Confirmation) a block receives is the number of blocks deep the block that has included the blockchain transaction is. In other words, `1 confirmation` means that the current head block includes the transaction. `2 confirmations` means that the current head block's parent block contains the transaction and so on. The deeper the transaction is (more confirmations it has) the more mining power it would take to \"reverse history\" and undo the transaction.*\n",
    "\n",
    "    Since there are `0 confirmations` in the picture above, it means that the transaction is not yet included in a block. This is why it has no timestamp yet and its block number is listed as `0`.\n",
    "\n",
    "6. After waiting anywhere from a minute to a few minutes (depending on the current testnet traffic) you should see a confirmation on your transaction.\n",
    "\n",
    "    *You will need to keep reloading the page for it to update. It doesn't update automatically.*\n",
    "\n",
    "    ![1 Confirmation Received](Bitcoin_Wallet_Images/1_Confirmation_Received.png)\n",
    "\n",
    "    There is now a timestamp and a block number!\n",
    "\n",
    "    *As time passes more confirmations will accumulate. You can check on the `confirmations` again at the end of the lab to show yourself this (Given enough time has passed for one or more additional confirmations to occur).*\n",
    "\n",
    "### Step 8.4 Returning Bitcoins\n",
    "\n",
    "Since you are feeling charitable you decide to transfer your testnet value back to the faucet's address.\n",
    "\n",
    "1. Go back to [the faucet site](https://testnet-faucet.com/btc-testnet/) and get its bitcoin address\n",
    "\n",
    "    ![Faucet Address](Bitcoin_Wallet_Images/testnet_faucet_address.png)\n",
    "\n",
    "    *This address is here for easy copy and paste (ensure this matches what the application shows in the browser before using this, as the bitcoin address they use for returning funds changes occasionally):\n",
    "\n",
    "    ``` bash\n",
    "    tb1ql7w62elx9ucw4pj5lgw4l028hmuw80sndtntxt\n",
    "    ```\n",
    "\n",
    "\n",
    "2. Send bitcoins to faucet using `Send` section of wallet\n",
    "\n",
    "    ![Send Bitcoins to Faucet](Bitcoin_Wallet_Images/Send_bitcoins_back_to_faucet.png)\n",
    "\n",
    "3. Once sent you will see the `Signed transaction` information filled out on your wallet page.\n",
    "\n",
    "    ![Bitcoins Sent Back to Faucet](Bitcoin_Wallet_Images/bitcoin_send_transaction_output.png)\n",
    "\n",
    "4. You can go back to the [bitcoin faucet site](https://bitcoinfaucet.uo1.net/send.php) (you may have to refresh the page) and see the transaction as green there with a sender of your address and a transaction ID matching the one you sent.\n",
    "\n",
    "    ![Bitcoins returned to faucet](Bitcoin_Wallet_Images/transaction_giving_coins_back_to_faucet.png)\n",
    "\n",
    "5. You can view both the initial received transaction and the newly sent transaction in the `History` tab of your bitcoin wallet.\n",
    "\n",
    "    *You have to keep reloading the page for it to update with new confirmations. If you wait long enough, eventually these transactions will gain confirmations as in the picture below*\n",
    "\n",
    "    ![Both transactions with 1 confirmation](Bitcoin_Wallet_Images/both_confirmed_transactions.png)\n",
    "\n",
    "6. You can continue to play around with the electrum wallet before moving on.\n",
    "\n",
    "### Summary\n",
    "\n",
    "You have participated in the bitcoin testnet using a securely built electrum bitcoin wallet powered by a Hyper Protect Virtual Server. Congratulations!!! \n",
    "\n",
    "Now, it's time to clean up.."
   ]
  },
  {
   "cell_type": "markdown",
   "id": "talented-lexington",
   "metadata": {},
   "source": [
    "---\n",
    "\n",
    "## Clean up when you are done with the lab"
   ]
  },
  {
   "cell_type": "markdown",
   "id": "complete-quick",
   "metadata": {},
   "source": [
    "This section describes important cleanup steps to perform when you have completed the lab. It will guide you through deleting the following artifacts that you created during the lab:\n",
    "\n",
    "1. The Secure Build Server HPVS for VPC instance you created\n",
    "2. The Secure Build Server volume you created\n",
    "3. The Sample Secure Bitcoin Wallet Application HPVS for VPC instance you created\n",
    "4. The subnet you created for this lab\n",
    "5. The public gateway you created for this lab\n",
    "6. The 2 floating ips you creataed for this lab\n",
    "7. The VPC you created for this lab\n",
    "8. The logDNA instance you created for this lab (skip if using existing instance)\n",
    "9. The Secure Bitcoin Wallet Application container image that you created for this lab\n",
    "10. The Docker Access Token that you created for this lab\n",
    "11. The GitHub ssh key you created for this lab\n"
   ]
  },
  {
   "cell_type": "markdown",
   "id": "critical-fellowship",
   "metadata": {},
   "source": [
    "---\n",
    "\n",
    "### Step 9.1 Delete your Secure Build Server HPVS for VPC instance\n",
    "\n",
    "Run the following code block to delete your secure build Server HPVS for VPC instance."
   ]
  },
  {
   "cell_type": "code",
   "execution_count": 88,
   "id": "suspended-upgrade",
   "metadata": {},
   "outputs": [
    {
     "name": "stdout",
     "output_type": "stream",
     "text": [
      "Deleting instance \u001b[36;1msecure-build-server\u001b[0m under account \u001b[36;1mIBM\u001b[0m as user \u001b[36;1mGarrett.Lee.Woodworth@ibm.com\u001b[0m...\n",
      "\u001b[32;1mOK\u001b[0m\n",
      "Deletion request for instance secure-build-server has been accepted.\n"
     ]
    }
   ],
   "source": [
    "! ibmcloud is instance-delete $instance --force"
   ]
  },
  {
   "cell_type": "markdown",
   "id": "2975e9eb-d86f-4960-92dd-d0493ef5a552",
   "metadata": {},
   "source": [
    "---\n",
    "\n",
    "### Step 9.2 Delete your Secure Build Server volume\n",
    "\n",
    "Run the following code block to delete your secure build server volume."
   ]
  },
  {
   "cell_type": "code",
   "execution_count": 89,
   "id": "2473409a-9e3d-4139-9d36-a23ead085fb5",
   "metadata": {},
   "outputs": [
    {
     "name": "stdout",
     "output_type": "stream",
     "text": [
      "Deleting volume \u001b[36;1msecure-build-volume\u001b[0m under account \u001b[36;1mIBM\u001b[0m as user \u001b[36;1mGarrett.Lee.Woodworth@ibm.com\u001b[0m...\n",
      "\u001b[32;1mOK\u001b[0m\n",
      "Volume \u001b[36;1msecure-build-volume\u001b[0m is deleted.\n"
     ]
    }
   ],
   "source": [
    "! ibmcloud is volume-delete secure-build-volume --force"
   ]
  },
  {
   "cell_type": "markdown",
   "id": "prescribed-consultancy",
   "metadata": {},
   "source": [
    "---\n",
    "\n",
    "### Step 9.3 Delete your sample Secure Bitcoin Wallet Application HPVS for VPC instance\n",
    "\n",
    "Running the following code cell to delete your secure bitcoin for application."
   ]
  },
  {
   "cell_type": "code",
   "execution_count": 91,
   "id": "selected-water",
   "metadata": {},
   "outputs": [
    {
     "name": "stdout",
     "output_type": "stream",
     "text": [
      "Deleting instance \u001b[36;1msecure-bitcoin-wallet\u001b[0m under account \u001b[36;1mIBM\u001b[0m as user \u001b[36;1mGarrett.Lee.Woodworth@ibm.com\u001b[0m...\n",
      "\u001b[31;1mFAILED\u001b[0m\n",
      "Failed to delete instances secure-bitcoin-wallet.\n",
      "\n",
      "\u001b[31;1mFAILED\u001b[0m\n",
      "Error code: not_found\n",
      "Error message: Instance not found\n",
      "Trace ID: 4b6615eb-7379-45c0-94b4-2e0a7f670a7b\n",
      "\n",
      "\n"
     ]
    }
   ],
   "source": [
    "! ibmcloud is instance-delete $sbw_instance --force"
   ]
  },
  {
   "cell_type": "markdown",
   "id": "4bcaacc9-fee5-4937-b5de-8b048b93b52a",
   "metadata": {},
   "source": [
    "### Step 9.4 Delete the subnet for your VPC\n",
    "\n",
    "Run the following code block to delete the subnet you created for this lab. If you get a failed to delete you may need to wait a minute or so for the instances too be fully deleted before re-running this command."
   ]
  },
  {
   "cell_type": "code",
   "execution_count": 96,
   "id": "b806fbbd-bdb1-4812-942b-8c4b13228f08",
   "metadata": {},
   "outputs": [
    {
     "name": "stdout",
     "output_type": "stream",
     "text": [
      "Deleting subnet \u001b[36;1msecure-build-subnet\u001b[0m under account \u001b[36;1mIBM\u001b[0m as user \u001b[36;1mGarrett.Lee.Woodworth@ibm.com\u001b[0m...\n",
      "\u001b[32;1mOK\u001b[0m\n",
      "Subnet \u001b[36;1msecure-build-subnet\u001b[0m is deleted.\n"
     ]
    }
   ],
   "source": [
    "! ibmcloud is subnet-delete $subnet --force"
   ]
  },
  {
   "cell_type": "markdown",
   "id": "aaa9e448-8dfa-46a5-8333-bfe9027d262f",
   "metadata": {},
   "source": [
    "---\n",
    "\n",
    "### Step 9.5 Delete your public gateway\n",
    "\n",
    "Run the following code block to delete the public gateway you created for this lab."
   ]
  },
  {
   "cell_type": "code",
   "execution_count": 97,
   "id": "a04e16d4-c971-4246-bbd6-11052020474d",
   "metadata": {},
   "outputs": [
    {
     "name": "stdout",
     "output_type": "stream",
     "text": [
      "Deleting public gateway \u001b[36;1msecure-build-gateway\u001b[0m under account \u001b[36;1mIBM\u001b[0m as user \u001b[36;1mGarrett.Lee.Woodworth@ibm.com\u001b[0m...\n",
      "\u001b[32;1mOK\u001b[0m\n",
      "Public gateway \u001b[36;1msecure-build-gateway\u001b[0m is deleted.\n"
     ]
    }
   ],
   "source": [
    "! ibmcloud is public-gateway-delete $gateway --force"
   ]
  },
  {
   "cell_type": "markdown",
   "id": "97883967-b216-4c39-8bc2-ee4d7919586d",
   "metadata": {},
   "source": [
    "---\n",
    "\n",
    "### Step 9.6 Deleting the Floating IPS you created for this lab\n",
    "\n",
    "Run the following two code blocks to delete the floating IPs you created for this lab."
   ]
  },
  {
   "cell_type": "code",
   "execution_count": 102,
   "id": "c1931274-d77c-46ee-940a-ab357ddb7e79",
   "metadata": {},
   "outputs": [
    {
     "name": "stdout",
     "output_type": "stream",
     "text": [
      "Deleting floating IP \u001b[36;1msecure-build-fip\u001b[0m under account \u001b[36;1mIBM\u001b[0m as user \u001b[36;1mGarrett.Lee.Woodworth@ibm.com\u001b[0m...\n",
      "\u001b[31;1mFAILED\u001b[0m\n",
      "Failed to delete floating IP \u001b[36;1msecure-build-fip\u001b[0m.\n",
      "\n",
      "\u001b[31;1mFAILED\u001b[0m\n",
      "Error code: not_found\n",
      "Error message: Floating IP not found\n",
      "Error target name: id, type: parameter\n",
      "Error target value: secure-build-fip\n",
      "Trace ID: edfe2ca2-f788-4202-bc15-5821468179f9\n",
      "\n",
      "\n"
     ]
    }
   ],
   "source": [
    "! ibmcloud is floating-ip-release secure-build-fip --force"
   ]
  },
  {
   "cell_type": "code",
   "execution_count": 103,
   "id": "8da54cc0-aa62-4766-bee3-2a9ea1ce02f4",
   "metadata": {},
   "outputs": [
    {
     "name": "stdout",
     "output_type": "stream",
     "text": [
      "Deleting floating IP \u001b[36;1mbitcoin-wallet-fip\u001b[0m under account \u001b[36;1mIBM\u001b[0m as user \u001b[36;1mGarrett.Lee.Woodworth@ibm.com\u001b[0m...\n",
      "\u001b[32;1mOK\u001b[0m\n",
      "Floating IP \u001b[36;1mbitcoin-wallet-fip\u001b[0m is deleted.\n"
     ]
    }
   ],
   "source": [
    "! ibmcloud is floating-ip-release bitcoin-wallet-fip --force"
   ]
  },
  {
   "cell_type": "markdown",
   "id": "ab4123a5-8320-496d-ad56-85e1dff9aafd",
   "metadata": {},
   "source": [
    "---\n",
    "\n",
    "### Step 9.7 Delete the VPC you created for this lab\n",
    "\n",
    "Run the following code block to delete the VPC you created for this lab."
   ]
  },
  {
   "cell_type": "code",
   "execution_count": 98,
   "id": "fc34b812-b174-48d1-a90e-d4b3f4b01e8d",
   "metadata": {},
   "outputs": [
    {
     "name": "stdout",
     "output_type": "stream",
     "text": [
      "Deleting vpc \u001b[36;1msecure-build-vpc\u001b[0m under account \u001b[36;1mIBM\u001b[0m as user \u001b[36;1mGarrett.Lee.Woodworth@ibm.com\u001b[0m...\n",
      "\u001b[32;1mOK\u001b[0m\n",
      "vpc \u001b[36;1msecure-build-vpc\u001b[0m is deleted.\n"
     ]
    }
   ],
   "source": [
    "! ibmcloud is vpc-delete $vpc --force"
   ]
  },
  {
   "cell_type": "markdown",
   "id": "f0eaba7b-4143-4715-88ea-f6ef961a772b",
   "metadata": {
    "tags": []
   },
   "source": [
    "---\n",
    "\n",
    "### Step 9.8 Delete the logDNA instance you created for this lab\n",
    "\n",
    "Run the following code block to delete the logDNA instance you created for this lab."
   ]
  },
  {
   "cell_type": "code",
   "execution_count": null,
   "id": "ed4fa5e8-098d-4db0-ae51-8fcaedd2029e",
   "metadata": {},
   "outputs": [],
   "source": [
    "! ibmcloud resource service-instance-delete secure-build-logdna --force"
   ]
  },
  {
   "cell_type": "markdown",
   "id": "advisory-typing",
   "metadata": {},
   "source": [
    "---\n",
    "\n",
    "### Step 9.9 Delete your sample secure bitcoin wallet application secure image from Docker Hub\n",
    "\n",
    "While logged in to your Docker Hub account, follow these steps from the Docker Hub web UI in order to delete the image you created in this lab:\n",
    "\n",
    "1. Click the *Repositories* link in the banner at the top of the page.\n",
    "2. Click the image that you created in the lab.\n",
    "3. Click the _Settings_ link.\n",
    "4. Scroll down to the _Delete Repository_ section and click the _Delete repository_ button.\n",
    "5. Enter your image name as confirmation–copy and paste is your friend here– for confirmation and click the _Delete_ button.\n",
    "\n"
   ]
  },
  {
   "cell_type": "markdown",
   "id": "collectible-appeal",
   "metadata": {},
   "source": [
    "---\n",
    "\n",
    "### Step 9.10 Delete the Docker Access Token you created for this lab\n",
    "\n",
    "Follow [these instructions](https://docs.docker.com/docker-hub/access-tokens/#modify-existing-tokens) to delete the Docker Access Token you created earlier in the lab.\n",
    "\n"
   ]
  },
  {
   "cell_type": "markdown",
   "id": "danish-village",
   "metadata": {},
   "source": [
    "---\n",
    "\n",
    "### Step 9.11 Remove the ssh key you created for this lab from your GitHub account\n",
    "\n",
    "Delete the ssh key you added for the lab from your GitHub account by following steps 1-3 of [these instructions](https://docs.github.com/en/github/authenticating-to-github/reviewing-your-ssh-keys), choosing the _Delete_ button for the ssh key you want to get rid of.  If you were an existing GitHub user prior to this lab, be careful not to delete any other ssh keys you may have added for other purposes."
   ]
  },
  {
   "cell_type": "markdown",
   "id": "4a20bb50-20e9-4a27-84d7-3ef554fbfb30",
   "metadata": {},
   "source": [
    "---\n",
    "\n",
    "## You have reached the end of the lab!\n",
    "\n",
    "Thank you for taking this lab, and please feel free to provide feedback, either by opening a GitHub issue on the lab repo at https://github.com/ibm-wsc/ibm-cloud-hpvs-sbs-byoi-lab or by sending an email directly to either, Barry Silliman, at \"silliman at us dot ibm dot com\" or Garrett Woodworth at \"garrett dot lee dot woodworth at ibm dot com  (the email spammers will never figure out our real email addresses from that, but you will).\n",
    "\n",
    "---\n",
    "\n",
    "## Acknowledgements\n",
    "\n",
    "Our esteemed colleague Jin VanStee also made significant contributions to this lab."
   ]
  },
  {
   "cell_type": "markdown",
   "id": "tested-amber",
   "metadata": {},
   "source": [
    "## References\n",
    "\n",
    "This lab is based largely on publicly available material on IBM's website, especially [Tutorial: Using Secure Build Server with a digital wallet](https://cloud.ibm.com/docs/hp-virtual-servers?topic=hp-virtual-servers-tutorial_secure_build_server)\n",
    "\n",
    "Additional information about using the Secure Build Server CLI can be found [here](https://github.com/ibm-hyper-protect/secure-build-cli)  \n",
    "\n",
    "Here is the [GitHub repo for the sample secure bitcoin wallet application](https://github.com/IBM/secure-bitcoin-wallet)"
   ]
  }
 ],
 "metadata": {
  "kernelspec": {
   "display_name": "Python 3 (ipykernel)",
   "language": "python",
   "name": "python3"
  },
  "language_info": {
   "codemirror_mode": {
    "name": "ipython",
    "version": 3
   },
   "file_extension": ".py",
   "mimetype": "text/x-python",
   "name": "python",
   "nbconvert_exporter": "python",
   "pygments_lexer": "ipython3",
   "version": "3.9.6"
  },
  "metadata": {
   "interpreter": {
    "hash": "31f2aee4e71d21fbe5cf8b01ff0e069b9275f58929596ceb00d14d90e3e16cd6"
   }
  }
 },
 "nbformat": 4,
 "nbformat_minor": 5
}
